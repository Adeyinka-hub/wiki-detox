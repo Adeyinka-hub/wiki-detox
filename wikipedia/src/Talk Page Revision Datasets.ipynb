{
 "cells": [
  {
   "cell_type": "code",
   "execution_count": 1,
   "metadata": {
    "collapsed": false
   },
   "outputs": [],
   "source": [
    "%load_ext autoreload\n",
    "%autoreload 2\n",
    "%matplotlib inline\n",
    "import warnings\n",
    "warnings.filterwarnings('ignore')\n",
    "\n",
    "from db_utils import query_analytics_store\n",
    "import requests\n",
    "from bs4 import BeautifulSoup\n",
    "from pprint import pprint\n",
    "import mwparserfromhell\n",
    "import re\n",
    "import sys\n",
    "import concurrent\n",
    "import itertools\n",
    "import pandas as pd\n",
    "import time\n",
    "from wiki_revision_utils import *"
   ]
  },
  {
   "cell_type": "markdown",
   "metadata": {},
   "source": [
    "# Random Sample of Article and User Talk page revisions"
   ]
  },
  {
   "cell_type": "code",
   "execution_count": 13,
   "metadata": {
    "collapsed": false
   },
   "outputs": [],
   "source": [
    "n = 1000\n",
    "min_date = 20160101000000\n",
    "namespace = 3\n",
    "n_threads = 5\n",
    "data_name = 'mini_user_talk_comments'"
   ]
  },
  {
   "cell_type": "code",
   "execution_count": 14,
   "metadata": {
    "collapsed": false
   },
   "outputs": [],
   "source": [
    "d_meta = get_talk_page_comment_meta_data(n, min_date, namespace)\n",
    "d_meta.to_csv('../data/' + data_name + '_meta_data.tsv', sep = '\\t')"
   ]
  },
  {
   "cell_type": "code",
   "execution_count": 15,
   "metadata": {
    "collapsed": false
   },
   "outputs": [
    {
     "name": "stdout",
     "output_type": "stream",
     "text": [
      "<class 'KeyError'>\n",
      "<class 'KeyError'>\n",
      "<class 'KeyError'>\n",
      "<class 'KeyError'>\n",
      "Rate: 1591.6918342127578 rpm\n"
     ]
    }
   ],
   "source": [
    "d_raw = get_raw_diffs_concurrent(d_meta, n_threads = n_threads)\n",
    "d_raw.to_csv('../data/' + data_name + '_raw.tsv', sep = '\\t')"
   ]
  },
  {
   "cell_type": "code",
   "execution_count": 16,
   "metadata": {
    "collapsed": false
   },
   "outputs": [],
   "source": [
    "d_clean = clean_raw_diffs(d_raw)\n",
    "d_clean.to_csv('../data/' + data_name + '.tsv', sep = '\\t')"
   ]
  },
  {
   "cell_type": "code",
   "execution_count": 22,
   "metadata": {
    "collapsed": true
   },
   "outputs": [],
   "source": []
  }
 ],
 "metadata": {
  "kernelspec": {
   "display_name": "Python 3",
   "language": "python",
   "name": "python3"
  },
  "language_info": {
   "codemirror_mode": {
    "name": "ipython",
    "version": 3
   },
   "file_extension": ".py",
   "mimetype": "text/x-python",
   "name": "python",
   "nbconvert_exporter": "python",
   "pygments_lexer": "ipython3",
   "version": "3.5.1"
  }
 },
 "nbformat": 4,
 "nbformat_minor": 0
}
