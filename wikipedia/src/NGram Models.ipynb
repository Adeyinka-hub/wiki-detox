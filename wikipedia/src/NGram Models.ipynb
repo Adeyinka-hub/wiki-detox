{
 "cells": [
  {
   "cell_type": "code",
   "execution_count": 3,
   "metadata": {
    "collapsed": false
   },
   "outputs": [
    {
     "name": "stdout",
     "output_type": "stream",
     "text": [
      "The autoreload extension is already loaded. To reload it, use:\n",
      "  %reload_ext autoreload\n"
     ]
    }
   ],
   "source": [
    "%load_ext autoreload\n",
    "%autoreload 2\n",
    "%matplotlib inline\n",
    "import warnings\n",
    "warnings.filterwarnings('ignore')\n",
    "\n",
    "import numpy as np\n",
    "import pandas as pd\n",
    "from scipy.stats import pearsonr\n",
    "\n",
    "\n",
    "from sklearn.cross_validation import train_test_split\n",
    "from sklearn.pipeline import Pipeline\n",
    "from sklearn.grid_search import GridSearchCV\n",
    "from sklearn.linear_model import LinearRegression\n",
    "from sklearn.linear_model import Ridge\n",
    "from sklearn.linear_model import Lasso\n",
    "from sklearn.feature_extraction.text import CountVectorizer\n",
    "from sklearn.feature_extraction.text import TfidfTransformer\n",
    "import joblib\n",
    "\n",
    "import matplotlib.pyplot as plt\n",
    "import seaborn as sns\n"
   ]
  },
  {
   "cell_type": "markdown",
   "metadata": {},
   "source": [
    "# Load Annotated Data"
   ]
  },
  {
   "cell_type": "code",
   "execution_count": 72,
   "metadata": {
    "collapsed": false
   },
   "outputs": [],
   "source": [
    "data_filename  = '../data/v4_annotated/annotated_onion_layer_5_rows_0_to_10000.csv'\n",
    "d = pd.read_csv(data_filename)\n",
    "d = d.query('_golden == False')"
   ]
  },
  {
   "cell_type": "markdown",
   "metadata": {},
   "source": [
    "***Comments***"
   ]
  },
  {
   "cell_type": "code",
   "execution_count": 73,
   "metadata": {
    "collapsed": false
   },
   "outputs": [],
   "source": [
    "# get comments\n",
    "comments = d[['rev_id', 'clean_diff']].drop_duplicates(subset = 'rev_id')\n",
    "comments.index = comments.rev_id\n",
    "comments = comments['clean_diff']"
   ]
  },
  {
   "cell_type": "markdown",
   "metadata": {},
   "source": [
    "***Regression Labels***"
   ]
  },
  {
   "cell_type": "code",
   "execution_count": 74,
   "metadata": {
    "collapsed": false
   },
   "outputs": [],
   "source": [
    "def get_regression_labels(d):\n",
    "    #Regression Labels\n",
    "    l = ['not_attack', 'other', 'quoting', 'recipient', 'third_party']\n",
    "    h = d[['rev_id', 'is_harassment_or_attack', ]]\n",
    "\n",
    "    # empirical probability of chossing one of the options 5 options in l\n",
    "    for e in l:\n",
    "        h[e] = h.is_harassment_or_attack.str.contains(e).astype(float)\n",
    "\n",
    "    # empirical probability of chossing an option other than 'non_attack'\n",
    "    h['attack'] = h.is_harassment_or_attack.str.contains('|'.join(l[1:])).astype(float)\n",
    "\n",
    "    reg_labels = h.groupby('rev_id').mean()\n",
    "    reg_labels['aggression'] = d.groupby('rev_id')['aggression_score'].mean()\n",
    "    return reg_labels"
   ]
  },
  {
   "cell_type": "code",
   "execution_count": 75,
   "metadata": {
    "collapsed": true
   },
   "outputs": [],
   "source": [
    "reg_labels = get_regression_labels(d)"
   ]
  },
  {
   "cell_type": "markdown",
   "metadata": {},
   "source": [
    "***Baselines***"
   ]
  },
  {
   "cell_type": "markdown",
   "metadata": {},
   "source": [
    "Say we have 2k human scores for each comment. For each comment, for all (i,j) <= (k+1), spit human scores into 2 non-overlapping sets of I and J of size i and j respectively. Compute correlation between the mean of scores in set I and set J for all comments. \n",
    "\n",
    "Intuitively, correlation i,j tells us how good i humans are are predicting the labels of another group of j humans.\n",
    "\n",
    "As i increases, we expect to get better predictions and as j increases, we expect to get more predictable labels. \n",
    "\n",
    "To figure out how many humans we need to label each question, we should examine the diagonal of the matrix (where i=j) and pick a value of i=j where there are diminishing returns to going further down the diagonal.\n",
    "\n",
    "To figure out how hard we should try at building a machine learning model for labels that we got from aggregating j_0 human labels we can check the correlations for different values of i. We can interpret correlation (i, j_0) as how good an \"ensemble\" of i humans is at predicting the labels. \n",
    "\n",
    "So a model that can achieve correlation (1, j_0) is as good as a single human. Also, we would expect that a model should not beat correlation (j_0, j_0). If it does, then it overfit to the group and you should increase j0."
   ]
  },
  {
   "cell_type": "code",
   "execution_count": 87,
   "metadata": {
    "collapsed": true
   },
   "outputs": [],
   "source": [
    "def get_baseline_matrix(d, k, metric):\n",
    "    m = k-1\n",
    "    groups = d[['rev_id',metric]].dropna().groupby('rev_id')\n",
    "    groups = [e[1] for e in groups if e[1].shape[0]==k]\n",
    "    \n",
    "    print('Num comments with k labels', len(groups))\n",
    "    \n",
    "    r = pd.DataFrame(np.zeros((m,m)))\n",
    "    r.index = r.index +1\n",
    "    r.columns = r.columns +1\n",
    "\n",
    "    for i in range(1, m+1):\n",
    "        for j in range(i, m+1):\n",
    "            if (i+j) > k:\n",
    "                continue\n",
    "\n",
    "            dis = []\n",
    "            djs = []\n",
    "            for g in groups:\n",
    "                if g.shape[0] >= i+j:\n",
    "                    g = g.iloc[np.random.permutation(len(g))]\n",
    "                    dis.append(g[0:i])\n",
    "                    djs.append(g[i:(i+j)])\n",
    "                else:\n",
    "                    print(i,j, g, \"WARNING: Comment had less than k lablels\")\n",
    "\n",
    "            di =  pd.concat(dis)\n",
    "            dj = pd.concat(djs)\n",
    "\n",
    "            scores_i = di.groupby('rev_id')[metric].mean()\n",
    "            scores_j = dj.groupby('rev_id')[metric].mean()\n",
    "\n",
    "            r.ix[i,j] = \"%0.3f\" % pearsonr(scores_i,scores_j )[0]\n",
    "    return r"
   ]
  },
  {
   "cell_type": "code",
   "execution_count": 88,
   "metadata": {
    "collapsed": false
   },
   "outputs": [
    {
     "name": "stdout",
     "output_type": "stream",
     "text": [
      "Num comments with k labels 9486\n"
     ]
    },
    {
     "data": {
      "text/html": [
       "<div>\n",
       "<table border=\"1\" class=\"dataframe\">\n",
       "  <thead>\n",
       "    <tr style=\"text-align: right;\">\n",
       "      <th></th>\n",
       "      <th>1</th>\n",
       "      <th>2</th>\n",
       "      <th>3</th>\n",
       "      <th>4</th>\n",
       "      <th>5</th>\n",
       "      <th>6</th>\n",
       "    </tr>\n",
       "  </thead>\n",
       "  <tbody>\n",
       "    <tr>\n",
       "      <th>1</th>\n",
       "      <td>0.557</td>\n",
       "      <td>0.614</td>\n",
       "      <td>0.639</td>\n",
       "      <td>0.668</td>\n",
       "      <td>0.678</td>\n",
       "      <td>0.695</td>\n",
       "    </tr>\n",
       "    <tr>\n",
       "      <th>2</th>\n",
       "      <td>0</td>\n",
       "      <td>0.703</td>\n",
       "      <td>0.736</td>\n",
       "      <td>0.766</td>\n",
       "      <td>0.771</td>\n",
       "      <td>0</td>\n",
       "    </tr>\n",
       "    <tr>\n",
       "      <th>3</th>\n",
       "      <td>0</td>\n",
       "      <td>0</td>\n",
       "      <td>0.777</td>\n",
       "      <td>0.801</td>\n",
       "      <td>0</td>\n",
       "      <td>0</td>\n",
       "    </tr>\n",
       "    <tr>\n",
       "      <th>4</th>\n",
       "      <td>0</td>\n",
       "      <td>0</td>\n",
       "      <td>0</td>\n",
       "      <td>0</td>\n",
       "      <td>0</td>\n",
       "      <td>0</td>\n",
       "    </tr>\n",
       "    <tr>\n",
       "      <th>5</th>\n",
       "      <td>0</td>\n",
       "      <td>0</td>\n",
       "      <td>0</td>\n",
       "      <td>0</td>\n",
       "      <td>0</td>\n",
       "      <td>0</td>\n",
       "    </tr>\n",
       "    <tr>\n",
       "      <th>6</th>\n",
       "      <td>0</td>\n",
       "      <td>0</td>\n",
       "      <td>0</td>\n",
       "      <td>0</td>\n",
       "      <td>0</td>\n",
       "      <td>0</td>\n",
       "    </tr>\n",
       "  </tbody>\n",
       "</table>\n",
       "</div>"
      ],
      "text/plain": [
       "       1      2      3      4      5      6\n",
       "1  0.557  0.614  0.639  0.668  0.678  0.695\n",
       "2      0  0.703  0.736  0.766  0.771      0\n",
       "3      0      0  0.777  0.801      0      0\n",
       "4      0      0      0      0      0      0\n",
       "5      0      0      0      0      0      0\n",
       "6      0      0      0      0      0      0"
      ]
     },
     "execution_count": 88,
     "metadata": {},
     "output_type": "execute_result"
    }
   ],
   "source": [
    "metric = 'aggression_score'\n",
    "k = 7\n",
    "get_baseline_matrix(d, k, metric)"
   ]
  },
  {
   "cell_type": "markdown",
   "metadata": {},
   "source": [
    "***Interpretation***\n",
    "\n",
    "We need to label some data with more than 7 annotators. I suggest using 14 annotatore. This way, we can see how many annotators we really need. Right now we can only measure the value of using 1,2, or 3 annotators, but there is still a huge gain in going from 2 to 3.\n",
    "\n",
    "It looks like a single human will max out at a correlation of 0.7, no matter how many annotators we get. \n",
    "\n",
    "We can't yet tell what the limit fo prediction is. It is least 0.8, but probably more.\n",
    "\n",
    "\n"
   ]
  },
  {
   "cell_type": "markdown",
   "metadata": {},
   "source": [
    "*** Regression Pipeline ***"
   ]
  },
  {
   "cell_type": "code",
   "execution_count": 12,
   "metadata": {
    "collapsed": false
   },
   "outputs": [],
   "source": [
    "reg_pipeline = Pipeline([\n",
    "    ('vect', CountVectorizer()),\n",
    "    ('tfidf', TfidfTransformer(sublinear_tf=True,norm='l2')),\n",
    "    ('clf', Ridge()),\n",
    "])"
   ]
  },
  {
   "cell_type": "markdown",
   "metadata": {},
   "source": [
    "*** Model Tuning***"
   ]
  },
  {
   "cell_type": "code",
   "execution_count": 13,
   "metadata": {
    "collapsed": true
   },
   "outputs": [],
   "source": [
    "param_grid = {\n",
    "    #'vect__max_df': (0.5, 0.75, 1.0),\n",
    "    'vect__max_features': (None,), #(None, 5000, 10000, 50000),\n",
    "    'vect__ngram_range': ((1,6),(1,5)),  # unigrams or bigrams\n",
    "    #'vect_lowercase': (True, False),\n",
    "    'vect__analyzer' : ('char',), #('word', 'char')\n",
    "    #'tfidf__use_idf': (True, False),\n",
    "    #'tfidf__norm': ('l1', 'l2'),\n",
    "    'clf__alpha': (0.01, 0.1, 0.5)\n",
    "}"
   ]
  },
  {
   "cell_type": "code",
   "execution_count": 14,
   "metadata": {
    "collapsed": true
   },
   "outputs": [],
   "source": [
    "def tune (X, y, alg, param_grid, scoring, n_jobs = 1, dev_size = 0.2, verbose = False):\n",
    "    \"\"\"\n",
    "    Determine the best model via cross validation. This should be run on training data.\n",
    "    \"\"\" \n",
    "    # generate train + dev set\n",
    "    m = len(X)\n",
    "    np.random.seed(seed=0)\n",
    "    shuffled_indices = np.random.permutation(np.arange(m))\n",
    "    s = int(m*dev_size)\n",
    "    split = [(shuffled_indices[:s], shuffled_indices[s:])]\n",
    "    \n",
    "    # perform gridsearch\n",
    "    model = GridSearchCV(cv  = split, estimator = alg, param_grid = param_grid, scoring = scoring, n_jobs=n_jobs, refit=True)\n",
    "    model.fit(X,y)\n",
    "    \n",
    "    if verbose:\n",
    "        print(\"\\nBest parameters set found:\")\n",
    "        best_parameters, score, _ = max(model.grid_scores_, key=lambda x: x[1])\n",
    "        print(best_parameters, score)\n",
    "        print (\"\\n\")\n",
    "        print(\"Grid scores:\")\n",
    "        for params, mean_score, scores in model.grid_scores_:\n",
    "            print(\"%0.5f (+/-%0.05f) for %r\"\n",
    "                  % (mean_score, scores.std() / 2, params))\n",
    "\n",
    "    return model"
   ]
  },
  {
   "cell_type": "code",
   "execution_count": 15,
   "metadata": {
    "collapsed": false
   },
   "outputs": [],
   "source": [
    "def regress(comments, labels, param_grid, reg_pipeline):\n",
    "    #align comment + labels\n",
    "    data = pd.DataFrame()\n",
    "    data['x'] = comments\n",
    "    data['y'] = labels\n",
    "    data.dropna(inplace = True)\n",
    "    # split data into 80% train and 20% test\n",
    "    np.random.seed(seed=0)\n",
    "    train_corpus, test_corpus, train_labels, test_labels = train_test_split(data['x'].values, data['y'].values, test_size=0.2)\n",
    "    # get tuned model\n",
    "    model = tune (train_corpus, train_labels, reg_pipeline, param_grid, 'mean_squared_error', n_jobs=8, verbose=True)\n",
    "    # evaluation\n",
    "    train_pred = model.predict(train_corpus)\n",
    "    test_pred = model.predict(test_corpus)\n",
    "    train_pearson = pearsonr(train_labels,train_pred)[0]\n",
    "    test_pearson = pearsonr(test_labels, test_pred)[0]\n",
    "    print ('\\nTrain pearson: %2.3f \\n' % train_pearson)\n",
    "    print ('Test pearson: %2.3f \\n' % test_pearson)\n",
    "    sns.jointplot(test_labels, test_pred, kind=\"reg\")\n",
    "    return model"
   ]
  },
  {
   "cell_type": "code",
   "execution_count": 16,
   "metadata": {
    "collapsed": false,
    "scrolled": false
   },
   "outputs": [
    {
     "name": "stdout",
     "output_type": "stream",
     "text": [
      "\n",
      "Best parameters set found:\n",
      "{'vect__max_features': None, 'vect__ngram_range': (1, 6), 'clf__alpha': 0.01, 'vect__analyzer': 'char'} -0.380927871878\n",
      "\n",
      "\n",
      "Grid scores:\n",
      "-0.38093 (+/-0.00000) for {'vect__max_features': None, 'vect__ngram_range': (1, 6), 'clf__alpha': 0.01, 'vect__analyzer': 'char'}\n",
      "-0.38266 (+/-0.00000) for {'vect__max_features': None, 'vect__ngram_range': (1, 5), 'clf__alpha': 0.01, 'vect__analyzer': 'char'}\n",
      "-0.38210 (+/-0.00000) for {'vect__max_features': None, 'vect__ngram_range': (1, 6), 'clf__alpha': 0.1, 'vect__analyzer': 'char'}\n",
      "-0.38119 (+/-0.00000) for {'vect__max_features': None, 'vect__ngram_range': (1, 5), 'clf__alpha': 0.1, 'vect__analyzer': 'char'}\n",
      "-0.39716 (+/-0.00000) for {'vect__max_features': None, 'vect__ngram_range': (1, 6), 'clf__alpha': 0.5, 'vect__analyzer': 'char'}\n",
      "-0.39057 (+/-0.00000) for {'vect__max_features': None, 'vect__ngram_range': (1, 5), 'clf__alpha': 0.5, 'vect__analyzer': 'char'}\n",
      "\n",
      "Train spearman: 0.996 \n",
      "\n",
      "Test spearman: 0.759 \n",
      "\n"
     ]
    },
    {
     "data": {
      "text/plain": [
       "['../models/aggression_ngram.pkl',\n",
       " '../models/aggression_ngram.pkl_01.npy',\n",
       " '../models/aggression_ngram.pkl_02.npy',\n",
       " '../models/aggression_ngram.pkl_03.npy',\n",
       " '../models/aggression_ngram.pkl_04.npy',\n",
       " '../models/aggression_ngram.pkl_05.npy',\n",
       " '../models/aggression_ngram.pkl_06.npy',\n",
       " '../models/aggression_ngram.pkl_07.npy',\n",
       " '../models/aggression_ngram.pkl_08.npy',\n",
       " '../models/aggression_ngram.pkl_09.npy',\n",
       " '../models/aggression_ngram.pkl_10.npy',\n",
       " '../models/aggression_ngram.pkl_11.npy',\n",
       " '../models/aggression_ngram.pkl_12.npy']"
      ]
     },
     "execution_count": 16,
     "metadata": {},
     "output_type": "execute_result"
    },
    {
     "data": {
      "image/png": "[encoded data removed]",
      "text/plain": [
       "<matplotlib.figure.Figure at 0x11a8c2cf8>"
      ]
     },
     "metadata": {},
     "output_type": "display_data"
    }
   ],
   "source": [
    "aggression_model = regress(comments, reg_labels['aggression'], param_grid, reg_pipeline)\n",
    "joblib.dump(aggression_model, '../models/aggression_ngram.pkl')"
   ]
  },
  {
   "cell_type": "code",
   "execution_count": 17,
   "metadata": {
    "collapsed": false
   },
   "outputs": [
    {
     "name": "stdout",
     "output_type": "stream",
     "text": [
      "\n",
      "Best parameters set found:\n",
      "{'vect__max_features': None, 'vect__ngram_range': (1, 6), 'clf__alpha': 0.1, 'vect__analyzer': 'char'} -0.0635893982207\n",
      "\n",
      "\n",
      "Grid scores:\n",
      "-0.06386 (+/-0.00000) for {'vect__max_features': None, 'vect__ngram_range': (1, 6), 'clf__alpha': 0.01, 'vect__analyzer': 'char'}\n",
      "-0.06436 (+/-0.00000) for {'vect__max_features': None, 'vect__ngram_range': (1, 5), 'clf__alpha': 0.01, 'vect__analyzer': 'char'}\n",
      "-0.06359 (+/-0.00000) for {'vect__max_features': None, 'vect__ngram_range': (1, 6), 'clf__alpha': 0.1, 'vect__analyzer': 'char'}\n",
      "-0.06367 (+/-0.00000) for {'vect__max_features': None, 'vect__ngram_range': (1, 5), 'clf__alpha': 0.1, 'vect__analyzer': 'char'}\n",
      "-0.06468 (+/-0.00000) for {'vect__max_features': None, 'vect__ngram_range': (1, 6), 'clf__alpha': 0.5, 'vect__analyzer': 'char'}\n",
      "-0.06392 (+/-0.00000) for {'vect__max_features': None, 'vect__ngram_range': (1, 5), 'clf__alpha': 0.5, 'vect__analyzer': 'char'}\n",
      "\n",
      "Train spearman: 0.984 \n",
      "\n",
      "Test spearman: 0.709 \n",
      "\n"
     ]
    },
    {
     "data": {
      "text/plain": [
       "['../models/aggression_ngram.pkl',\n",
       " '../models/aggression_ngram.pkl_01.npy',\n",
       " '../models/aggression_ngram.pkl_02.npy',\n",
       " '../models/aggression_ngram.pkl_03.npy',\n",
       " '../models/aggression_ngram.pkl_04.npy',\n",
       " '../models/aggression_ngram.pkl_05.npy',\n",
       " '../models/aggression_ngram.pkl_06.npy',\n",
       " '../models/aggression_ngram.pkl_07.npy',\n",
       " '../models/aggression_ngram.pkl_08.npy',\n",
       " '../models/aggression_ngram.pkl_09.npy',\n",
       " '../models/aggression_ngram.pkl_10.npy',\n",
       " '../models/aggression_ngram.pkl_11.npy',\n",
       " '../models/aggression_ngram.pkl_12.npy']"
      ]
     },
     "execution_count": 17,
     "metadata": {},
     "output_type": "execute_result"
    },
    {
     "data": {
      "image/png": "[encoded data removed]",
      "text/plain": [
       "<matplotlib.figure.Figure at 0x11f0b6d30>"
      ]
     },
     "metadata": {},
     "output_type": "display_data"
    }
   ],
   "source": [
    "attack_model = regress(comments, reg_labels['attack'], param_grid, reg_pipeline)\n",
    "joblib.dump(attack_model, '../models/aggression_ngram.pkl')"
   ]
  },
  {
   "cell_type": "code",
   "execution_count": 18,
   "metadata": {
    "collapsed": false
   },
   "outputs": [
    {
     "name": "stdout",
     "output_type": "stream",
     "text": [
      "\n",
      "Best parameters set found:\n",
      "{'vect__max_features': None, 'vect__ngram_range': (1, 5), 'clf__alpha': 0.5, 'vect__analyzer': 'char'} -0.0465302949504\n",
      "\n",
      "\n",
      "Grid scores:\n",
      "-0.04724 (+/-0.00000) for {'vect__max_features': None, 'vect__ngram_range': (1, 6), 'clf__alpha': 0.01, 'vect__analyzer': 'char'}\n",
      "-0.04819 (+/-0.00000) for {'vect__max_features': None, 'vect__ngram_range': (1, 5), 'clf__alpha': 0.01, 'vect__analyzer': 'char'}\n",
      "-0.04672 (+/-0.00000) for {'vect__max_features': None, 'vect__ngram_range': (1, 6), 'clf__alpha': 0.1, 'vect__analyzer': 'char'}\n",
      "-0.04727 (+/-0.00000) for {'vect__max_features': None, 'vect__ngram_range': (1, 5), 'clf__alpha': 0.1, 'vect__analyzer': 'char'}\n",
      "-0.04675 (+/-0.00000) for {'vect__max_features': None, 'vect__ngram_range': (1, 6), 'clf__alpha': 0.5, 'vect__analyzer': 'char'}\n",
      "-0.04653 (+/-0.00000) for {'vect__max_features': None, 'vect__ngram_range': (1, 5), 'clf__alpha': 0.5, 'vect__analyzer': 'char'}\n",
      "\n",
      "Train spearman: 0.932 \n",
      "\n",
      "Test spearman: 0.698 \n",
      "\n"
     ]
    },
    {
     "data": {
      "text/plain": [
       "['../models/recipient_ngram.pkl',\n",
       " '../models/recipient_ngram.pkl_01.npy',\n",
       " '../models/recipient_ngram.pkl_02.npy',\n",
       " '../models/recipient_ngram.pkl_03.npy',\n",
       " '../models/recipient_ngram.pkl_04.npy',\n",
       " '../models/recipient_ngram.pkl_05.npy',\n",
       " '../models/recipient_ngram.pkl_06.npy',\n",
       " '../models/recipient_ngram.pkl_07.npy',\n",
       " '../models/recipient_ngram.pkl_08.npy',\n",
       " '../models/recipient_ngram.pkl_09.npy',\n",
       " '../models/recipient_ngram.pkl_10.npy',\n",
       " '../models/recipient_ngram.pkl_11.npy',\n",
       " '../models/recipient_ngram.pkl_12.npy']"
      ]
     },
     "execution_count": 18,
     "metadata": {},
     "output_type": "execute_result"
    },
    {
     "data": {
      "image/png": "[encoded data removed]",
      "text/plain": [
       "<matplotlib.figure.Figure at 0x16670c898>"
      ]
     },
     "metadata": {},
     "output_type": "display_data"
    }
   ],
   "source": [
    "recipient_model = regress(comments, reg_labels['recipient'], param_grid, reg_pipeline)\n",
    "joblib.dump(recipient_model, '../models/recipient_ngram.pkl')"
   ]
  },
  {
   "cell_type": "code",
   "execution_count": 19,
   "metadata": {
    "collapsed": true
   },
   "outputs": [],
   "source": [
    "# classification\n",
    "# error analysis\n",
    "# learning curves"
   ]
  },
  {
   "cell_type": "code",
   "execution_count": 20,
   "metadata": {
    "collapsed": false
   },
   "outputs": [],
   "source": [
    "#inspect.sort_values(by = 'pred_score', inplace = True)\n",
    "#for i in range(10):\n",
    "    #print(inspect.iloc[i]['score'], inspect.iloc[i]['pred_score'], inspect.iloc[i]['x'], '\\n')"
   ]
  }
 ],
 "metadata": {
  "kernelspec": {
   "display_name": "Python 3",
   "language": "python",
   "name": "python3"
  },
  "language_info": {
   "codemirror_mode": {
    "name": "ipython",
    "version": 3
   },
   "file_extension": ".py",
   "mimetype": "text/x-python",
   "name": "python",
   "nbconvert_exporter": "python",
   "pygments_lexer": "ipython3",
   "version": "3.5.1"
  }
 },
 "nbformat": 4,
 "nbformat_minor": 0
}
