{
 "cells": [
  {
   "cell_type": "code",
   "execution_count": 1,
   "metadata": {
    "collapsed": false
   },
   "outputs": [],
   "source": [
    "%load_ext autoreload\n",
    "%autoreload 2\n",
    "%matplotlib inline\n",
    "import warnings\n",
    "warnings.filterwarnings('ignore')\n",
    "from mw_api_diff_utils import *\n",
    "import pandas as pd\n",
    "from db_utils import query_hive_ssh"
   ]
  },
  {
   "cell_type": "markdown",
   "metadata": {},
   "source": [
    "# Talk Page Diff Sampling\n",
    "\n",
    "In this notebook we will be taking samples from the full set of user talk page diffs for annotation."
   ]
  },
  {
   "cell_type": "markdown",
   "metadata": {},
   "source": [
    "## Bot Filtering\n",
    "\n",
    "We don't want to include messages from bots in our sample.\n",
    "\n",
    "### Resources\n",
    "- [overview](https://www.mediawiki.org/wiki/Manual:Bots)\n",
    "- [users in bot group](https://en.wikipedia.org/w/index.php?title=Special:ListUsers/bot&offset=BrokenAnchorBot&group=bot)\n",
    "- [user group table docs](https://www.mediawiki.org/wiki/Manual:User_groups_table)\n",
    "- [recent chnages table docs](https://www.mediawiki.org/wiki/Manual:Recentchanges_table)\n",
    "\n",
    "### Summary\n",
    "There is no great way to determine bots. Here are 3 strategies:\n",
    "\n",
    "1. The `recentchnages` table contains 30 days of data and tells you which revisions where made by bots. This is the most reliable data, but there may be a seasonal trend in harassment that biases the sample.\n",
    "\n",
    "2. Check if the user is in the bot group in the `user group` table. Drawbacks are:\n",
    "    - Group membership can change over time. There are many bot-flagged edits by users that are no longer in a user group providing the bot right. Likewise there are many edits not bot-flagged by users that now have the bot right (which they may or may not use for each edit).\n",
    "    - Not all bots are a member of this group (there are other groups that provide this right, sysop, for example).\n",
    "3. Remove users with 'bot|Bot|BOT' in the user_name. Almost all bots in the 'bot' user group fit this pattern, but there will be many false positives. It seems unlikely that these false positives result in biased sample ...\n",
    "\n",
    "For now I will go with option 3."
   ]
  },
  {
   "cell_type": "markdown",
   "metadata": {},
   "source": [
    "## Data Cleaning\n",
    "\n",
    "For now, we basically just strip markup and remove duplicate diffs.\n",
    "\n",
    "##### Steps\n",
    "1. remove dupilicate rev_ids\n",
    "3. remove duplicate diffs\n",
    "4. clean diffs\n",
    "     - ignore diffs with no content added\n",
    "     - replace 'NEWLINE' with '\\n'\n",
    "     - remove comments from 'The Wikipedia Adventure'\n",
    "     - strip mw markup"
   ]
  },
  {
   "cell_type": "code",
   "execution_count": 20,
   "metadata": {
    "collapsed": true
   },
   "outputs": [],
   "source": [
    "def clean(df):\n",
    "    df.rename(columns = {'insertion': 'diff'}, inplace = True)\n",
    "    df.dropna(subset = ['diff'], inplace = True)\n",
    "    df['clean_diff'] = df['diff']\n",
    "    df['clean_diff'] = df['clean_diff'].apply(lambda x: x.replace('NEWLINE', '\\n'))\n",
    "    df['clean_diff'] = df['clean_diff'].apply(strip_mw)\n",
    "    try:\n",
    "        del df['rank']\n",
    "    except:\n",
    "        pass\n",
    "    df.drop_duplicates(subset = ['rev_id'], inplace = True)\n",
    "    df.drop_duplicates(subset = ['diff'], inplace = True)\n",
    "    df.dropna(subset = ['clean_diff'], inplace = True)\n",
    "    df = df[df['clean_diff'] != '']\n",
    "    return df"
   ]
  },
  {
   "cell_type": "markdown",
   "metadata": {},
   "source": [
    "# Post Based Random Sample\n",
    "Consider comments made since min_timestamp. Take n random comments from non-bot users."
   ]
  },
  {
   "cell_type": "code",
   "execution_count": 3,
   "metadata": {
    "collapsed": true
   },
   "outputs": [],
   "source": [
    "n = 100000\n",
    "min_timestamp = '2014-03-01T00:00:00Z'"
   ]
  },
  {
   "cell_type": "code",
   "execution_count": 4,
   "metadata": {
    "collapsed": false
   },
   "outputs": [],
   "source": [
    "query = \"\"\"\n",
    "SELECT \n",
    "    diffs.*\n",
    "FROM\n",
    "    enwiki.user_talk_diff diffs\n",
    "WHERE\n",
    "    rev_timestamp > '%(min_timestamp)s'\n",
    "    AND user_text != 'MediaWiki message delivery'\n",
    "    AND user_text != 'Maintenance script'\n",
    "    AND user_text NOT RLIKE 'bot|Bot|BOT'\n",
    "ORDER BY RAND()\n",
    "LIMIT %(n)d\n",
    "\"\"\"\n",
    "\n",
    "params = {\n",
    "    'n': n,\n",
    "    'min_timestamp': min_timestamp\n",
    "    }\n",
    "\n",
    "post_sample_df = query_hive_ssh(query % params, 'post_sample.tsv', priority = True)\n",
    "post_sample_df.columns = [c.split('.')[1] for c in post_sample_df.columns]"
   ]
  },
  {
   "cell_type": "code",
   "execution_count": null,
   "metadata": {
    "collapsed": false
   },
   "outputs": [],
   "source": [
    "clean_post_sample_df = clean(post_sample_df)\n",
    "for k in [1, 10, 100]:\n",
    "    clean_post_sample_df[:(k*1000)].to_csv('../data/%dk_post_sample.tsv' % k, sep = '\\t')"
   ]
  },
  {
   "cell_type": "markdown",
   "metadata": {},
   "source": [
    "# User Based Random Sample\n",
    "\n",
    "Consider comments made since min_timestamp. Take up to k random comments from each of n random non-bot users"
   ]
  },
  {
   "cell_type": "code",
   "execution_count": 5,
   "metadata": {
    "collapsed": true
   },
   "outputs": [],
   "source": [
    "k = 5\n",
    "n = 10000\n",
    "min_timestamp = '2014-03-01T00:00:00Z'"
   ]
  },
  {
   "cell_type": "code",
   "execution_count": 6,
   "metadata": {
    "collapsed": false
   },
   "outputs": [],
   "source": [
    "query = \"\"\"\n",
    "SELECT \n",
    "    revisions.*\n",
    "FROM\n",
    "    (SELECT\n",
    "        a.*\n",
    "        FROM\n",
    "        (\n",
    "        SELECT\n",
    "            d.*,\n",
    "            RANK() OVER (PARTITION BY d.user_id ORDER BY RAND()) as rank\n",
    "        FROM\n",
    "            enwiki.user_talk_diff d\n",
    "        WHERE \n",
    "            rev_timestamp > '%(min_timestamp)s'\n",
    "        ) a\n",
    "    WHERE rank <= %(k)d\n",
    "    )\n",
    "    revisions\n",
    "\n",
    "JOIN\n",
    "    (\n",
    "    SELECT\n",
    "        a.*\n",
    "    FROM (\n",
    "        SELECT\n",
    "            user_id,\n",
    "            RAND() as key\n",
    "        FROM\n",
    "            enwiki.user_talk_diff d\n",
    "        WHERE \n",
    "            rev_timestamp > '%(min_timestamp)s'\n",
    "            AND user_text != 'MediaWiki message delivery'\n",
    "            AND user_text != 'Maintenance script'\n",
    "            AND user_text NOT RLIKE 'bot|Bot|BOT'\n",
    "        GROUP BY user_id\n",
    "        ) a\n",
    "    ORDER BY key\n",
    "    LIMIT %(n)d\n",
    "    ) users\n",
    "ON\n",
    "    revisions.user_id = users.user_id\n",
    "\"\"\"\n",
    "\n",
    "params = {\n",
    "    'k': k,\n",
    "    'n': n,\n",
    "    'min_timestamp': min_timestamp\n",
    "    }\n",
    "\n",
    "\n",
    "user_sample_df = query_hive_ssh(query % params, 'random_sample.tsv', priority = True)\n",
    "user_sample_df.columns = [c.split('.')[1] for c in user_sample_df.columns]"
   ]
  },
  {
   "cell_type": "code",
   "execution_count": 9,
   "metadata": {
    "collapsed": true
   },
   "outputs": [],
   "source": [
    "clean_user_sample_df = clean(user_sample_df)\n",
    "clean_post_sample_df.to_csv('../data/%dk_users_%d_per_user_sample.tsv' % (int(n / 1000), k), sep = '\\t')"
   ]
  },
  {
   "cell_type": "markdown",
   "metadata": {},
   "source": [
    "# Blocked Users\n",
    "For n random user block events that occured after min_timestamp, take up to the k most recent comments before being blocked for harassment or personal attacks."
   ]
  },
  {
   "cell_type": "code",
   "execution_count": 7,
   "metadata": {
    "collapsed": true
   },
   "outputs": [],
   "source": [
    "k = 25\n",
    "n = 10000\n",
    "min_timestamp = '2010-03-01T00:00:00Z'"
   ]
  },
  {
   "cell_type": "code",
   "execution_count": 8,
   "metadata": {
    "collapsed": false
   },
   "outputs": [],
   "source": [
    "query = \"\"\"\n",
    "\n",
    "SELECT\n",
    "    revisions.*\n",
    "FROM\n",
    "    (\n",
    "    SELECT \n",
    "        diffs.*,\n",
    "        RANK() OVER (PARTITION BY events.key, events.user_text ORDER BY diffs.rev_timestamp DESC) as rank\n",
    "    FROM\n",
    "        (\n",
    "        SELECT\n",
    "            a.*\n",
    "        FROM\n",
    "            (\n",
    "            SELECT \n",
    "              log_title as user_text,\n",
    "              log_timestamp,\n",
    "              RAND() as key\n",
    "            FROM enwiki.logging \n",
    "            WHERE\n",
    "              log_type = 'block'\n",
    "              AND log_action = 'block'\n",
    "              AND log_comment RLIKE 'harassment|personal attack'\n",
    "              AND log_timestamp > '%(min_timestamp)s'\n",
    "            ) a\n",
    "        ORDER BY key\n",
    "        LIMIT %(n)d\n",
    "        ) events\n",
    "    JOIN\n",
    "        enwiki.user_talk_diff diffs\n",
    "    ON\n",
    "        diffs.user_text = events.user_text\n",
    "    WHERE\n",
    "        diffs.rev_timestamp <= events.log_timestamp\n",
    "    ) revisions\n",
    "WHERE\n",
    "    rank <= %(k)d\n",
    "\"\"\"\n",
    "\n",
    "params = {\n",
    "    'k': k,\n",
    "    'n': n,\n",
    "    'min_timestamp': min_timestamp\n",
    "    }\n",
    "\n",
    "\n",
    "blocked_user_df = query_hive_ssh(query % params, 'random_sample.tsv', priority = True)\n",
    "blocked_user_df.columns = [c.split('.')[1] for c in blocked_user_df.columns]"
   ]
  },
  {
   "cell_type": "code",
   "execution_count": 10,
   "metadata": {
    "collapsed": true
   },
   "outputs": [],
   "source": [
    "clean_blocked_user_df = clean(blocked_user_df)\n",
    "clean_blocked_user_df.to_csv('../data/%dk_blocked_users_%d_per_user_sample.tsv' % (int(n / 1000), k), sep = '\\t')"
   ]
  }
 ],
 "metadata": {
  "kernelspec": {
   "display_name": "Python 3",
   "language": "python",
   "name": "python3"
  },
  "language_info": {
   "codemirror_mode": {
    "name": "ipython",
    "version": 3
   },
   "file_extension": ".py",
   "mimetype": "text/x-python",
   "name": "python",
   "nbconvert_exporter": "python",
   "pygments_lexer": "ipython3",
   "version": "3.5.1"
  }
 },
 "nbformat": 4,
 "nbformat_minor": 0
}
