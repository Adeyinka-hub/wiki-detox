{
 "cells": [
  {
   "cell_type": "code",
   "execution_count": 4,
   "metadata": {
    "collapsed": false
   },
   "outputs": [],
   "source": [
    "%load_ext autoreload\n",
    "%autoreload 2\n",
    "%matplotlib inline\n",
    "import warnings\n",
    "warnings.filterwarnings('ignore')\n",
    "from mw_api_diff_utils import *\n",
    "import pandas as pd\n",
    "from db_utils import query_hive_ssh"
   ]
  },
  {
   "cell_type": "markdown",
   "metadata": {},
   "source": [
    "# Random Sample\n",
    "\n",
    "Consider comments made since min_timestamp. Take up to k random comments from each of n random users"
   ]
  },
  {
   "cell_type": "code",
   "execution_count": 5,
   "metadata": {
    "collapsed": true
   },
   "outputs": [],
   "source": [
    "k = 1\n",
    "n = 1000\n",
    "min_timestamp = '2014-03-01T00:00:00Z'"
   ]
  },
  {
   "cell_type": "code",
   "execution_count": 6,
   "metadata": {
    "collapsed": false
   },
   "outputs": [],
   "source": [
    "query = \"\"\"\n",
    "SELECT \n",
    "    revisions.*\n",
    "FROM\n",
    "    (SELECT\n",
    "        a.*\n",
    "        FROM\n",
    "        (\n",
    "        SELECT\n",
    "            d.*,\n",
    "            RANK() OVER (PARTITION BY d.user_id ORDER BY RAND()) as rank\n",
    "        FROM\n",
    "            enwiki.user_talk_diff d\n",
    "        WHERE \n",
    "            rev_timestamp > '%(min_timestamp)s'\n",
    "        ) a\n",
    "    WHERE rank <= %(k)d\n",
    "    )\n",
    "    revisions\n",
    "\n",
    "JOIN\n",
    "    (\n",
    "    SELECT\n",
    "        a.*\n",
    "    FROM (\n",
    "        SELECT\n",
    "            user_id,\n",
    "            RAND() as key\n",
    "        FROM\n",
    "            enwiki.user_talk_diff d\n",
    "        WHERE \n",
    "            rev_timestamp > '%(min_timestamp)s'\n",
    "        GROUP BY user_id\n",
    "        ) a\n",
    "    ORDER BY key\n",
    "    LIMIT %(n)d\n",
    "    ) users\n",
    "ON\n",
    "    revisions.user_id = users.user_id\n",
    "\"\"\"\n",
    "\n",
    "params = {\n",
    "    'k': k,\n",
    "    'n': n,\n",
    "    'min_timestamp': min_timestamp\n",
    "    }\n",
    "\n",
    "\n",
    "random_sample_df = query_hive_ssh(query % params, 'random_sample.tsv', priority = True)"
   ]
  },
  {
   "cell_type": "code",
   "execution_count": 9,
   "metadata": {
    "collapsed": true
   },
   "outputs": [],
   "source": [
    "random_sample_df.columns = [c.split('.')[1] for c in random_sample_df.columns]\n",
    "random_sample_df.to_csv('../data/mini_random_sample.tsv', sep = '\\t')"
   ]
  },
  {
   "cell_type": "markdown",
   "metadata": {},
   "source": [
    "# Blocked Users\n",
    "For n random user block events that occured after min_timestamp, take up to the k most recent comments before being blocked for harassment or personal attacks."
   ]
  },
  {
   "cell_type": "code",
   "execution_count": 7,
   "metadata": {
    "collapsed": true
   },
   "outputs": [],
   "source": [
    "k = 25\n",
    "n = 1000\n",
    "min_timestamp = '2010-03-01T00:00:00Z'"
   ]
  },
  {
   "cell_type": "code",
   "execution_count": 8,
   "metadata": {
    "collapsed": false
   },
   "outputs": [],
   "source": [
    "query = \"\"\"\n",
    "\n",
    "SELECT\n",
    "    revisions.*\n",
    "FROM\n",
    "    (\n",
    "    SELECT \n",
    "        diffs.*,\n",
    "        RANK() OVER (PARTITION BY events.key, events.user_text ORDER BY diffs.rev_timestamp DESC) as rank\n",
    "    FROM\n",
    "        (\n",
    "        SELECT\n",
    "            a.*\n",
    "        FROM\n",
    "            (\n",
    "            SELECT \n",
    "              log_title as user_text,\n",
    "              log_timestamp,\n",
    "              RAND() as key\n",
    "            FROM enwiki.logging \n",
    "            WHERE\n",
    "              log_type = 'block'\n",
    "              AND log_action = 'block'\n",
    "              AND log_comment RLIKE 'harassment|personal attack'\n",
    "              AND log_timestamp > '%(min_timestamp)s'\n",
    "            ) a\n",
    "        ORDER BY key\n",
    "        LIMIT %(n)d\n",
    "        ) events\n",
    "    JOIN\n",
    "        enwiki.user_talk_diff diffs\n",
    "    ON\n",
    "        diffs.user_text = events.user_text\n",
    "    WHERE\n",
    "        diffs.rev_timestamp <= events.log_timestamp\n",
    "    ) revisions\n",
    "WHERE\n",
    "    rank <= %(k)d\n",
    "\"\"\"\n",
    "\n",
    "params = {\n",
    "    'k': k,\n",
    "    'n': n,\n",
    "    'min_timestamp': min_timestamp\n",
    "    }\n",
    "\n",
    "\n",
    "blocked_user_df = query_hive_ssh(query % params, 'random_sample.tsv', priority = True)"
   ]
  },
  {
   "cell_type": "code",
   "execution_count": 10,
   "metadata": {
    "collapsed": true
   },
   "outputs": [],
   "source": [
    "blocked_user_df.columns = [c.split('.')[1] for c in blocked_user_df.columns]\n",
    "blocked_user_df.to_csv('../data/blocked_user_sample.tsv', sep = '\\t')"
   ]
  },
  {
   "cell_type": "markdown",
   "metadata": {},
   "source": [
    "# Cleaning\n",
    "\n",
    "1. remove dupilicate rev_ids\n",
    "3. remove duplicate diffs\n",
    "4. clean diffs\n",
    "     - ignore diffs with no content added\n",
    "     - replace 'NEWLINE' with '\\n'\n",
    "     - remove comments from 'The Wikipedia Adventure'\n",
    "     - strip mw markup\n"
   ]
  },
  {
   "cell_type": "code",
   "execution_count": 65,
   "metadata": {
    "collapsed": true
   },
   "outputs": [],
   "source": [
    "def clean(df):\n",
    "    df.rename(columns = {'insertion': 'diff'}, inplace = True)\n",
    "    df.dropna(subset = ['diff'], inplace = True)\n",
    "    df['clean_diff'] = df['diff']\n",
    "    df = df[df['clean_diff'].apply(lambda x: 'Welcome to The Wikipedia Adventure!' not in x)]\n",
    "    df['clean_diff'] = df['clean_diff'].apply(lambda x: x.replace('NEWLINE', '\\n'))\n",
    "    df['clean_diff'] = df['clean_diff'].apply(strip_mw)\n",
    "    del df['rank']\n",
    "    df.drop_duplicates(subset = ['rev_id'], inplace = True)\n",
    "    df.drop_duplicates(subset = ['diff'], inplace = True)\n",
    "    return df"
   ]
  },
  {
   "cell_type": "code",
   "execution_count": 66,
   "metadata": {
    "collapsed": false
   },
   "outputs": [],
   "source": [
    "clean(random_sample_df).to_csv('../data/mini_random_sample.tsv', sep = '\\t')\n",
    "clean(blocked_user_df).to_csv('../data/blocked_user_sample.tsv', sep = '\\t')"
   ]
  },
  {
   "cell_type": "markdown",
   "metadata": {
    "collapsed": true
   },
   "source": [
    "for i, r in clean(blocked_user_df).iterrows():\n",
    "    print (r['clean_diff'])\n",
    "    print('_' * 60)\n",
    "    if i > 100:\n",
    "        break"
   ]
  }
 ],
 "metadata": {
  "kernelspec": {
   "display_name": "Python 3",
   "language": "python",
   "name": "python3"
  },
  "language_info": {
   "codemirror_mode": {
    "name": "ipython",
    "version": 3
   },
   "file_extension": ".py",
   "mimetype": "text/x-python",
   "name": "python",
   "nbconvert_exporter": "python",
   "pygments_lexer": "ipython3",
   "version": "3.5.1"
  }
 },
 "nbformat": 4,
 "nbformat_minor": 0
}
