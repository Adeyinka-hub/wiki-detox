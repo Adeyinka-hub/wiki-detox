{
 "cells": [
  {
   "cell_type": "code",
   "execution_count": 1,
   "metadata": {
    "collapsed": false
   },
   "outputs": [],
   "source": [
    "%load_ext autoreload\n",
    "%autoreload 2\n",
    "%matplotlib inline\n",
    "import warnings\n",
    "warnings.filterwarnings('ignore')\n",
    "from mw_api_diff_utils import *\n",
    "import pandas as pd\n",
    "from db_utils import query_hive_ssh\n",
    "import re\n",
    "import copy"
   ]
  },
  {
   "cell_type": "markdown",
   "metadata": {},
   "source": [
    "# Talk Page Diff Sampling\n",
    "\n",
    "In this notebook we will be taking samples from the full set of user talk page diffs for annotation."
   ]
  },
  {
   "cell_type": "markdown",
   "metadata": {},
   "source": [
    "## Bot Filtering\n",
    "\n",
    "We don't want to include messages from bots in our sample.\n",
    "\n",
    "### Resources\n",
    "- [overview](https://www.mediawiki.org/wiki/Manual:Bots)\n",
    "- [users in bot group](https://en.wikipedia.org/w/index.php?title=Special:ListUsers/bot&offset=BrokenAnchorBot&group=bot)\n",
    "- [user group table docs](https://www.mediawiki.org/wiki/Manual:User_groups_table)\n",
    "- [recent chnages table docs](https://www.mediawiki.org/wiki/Manual:Recentchanges_table)\n",
    "\n",
    "### Summary\n",
    "There is no great way to determine bots. Here are 3 strategies:\n",
    "\n",
    "1. The `recentchnages` table contains 30 days of data and tells you which revisions where made by bots. This is the most reliable data, but there may be a seasonal trend in harassment that biases the sample.\n",
    "\n",
    "2. Check if the user is in the bot group in the `user group` table. Drawbacks are:\n",
    "    - Group membership can change over time. There are many bot-flagged edits by users that are no longer in a user group providing the bot right. Likewise there are many edits not bot-flagged by users that now have the bot right (which they may or may not use for each edit).\n",
    "    - Not all bots are a member of this group (there are other groups that provide this right, sysop, for example).\n",
    "3. Remove users with 'bot|Bot|BOT' in the user_name. Almost all bots in the 'bot' user group fit this pattern, but there will be many false positives. It seems unlikely that these false positives result in biased sample ...\n",
    "\n",
    "For now I will go with option 3."
   ]
  },
  {
   "cell_type": "markdown",
   "metadata": {},
   "source": [
    "## Data Cleaning\n",
    "\n",
    "For now, we basically just strip markup and remove duplicate diffs.\n",
    "\n",
    "##### Steps\n",
    "1. remove dupilicate rev_ids\n",
    "3. remove duplicate diffs\n",
    "4. clean diffs\n",
    "     - ignore diffs with no content added\n",
    "     - replace 'NEWLINE' with '\\n'\n",
    "     - strip mw markup"
   ]
  },
  {
   "cell_type": "code",
   "execution_count": 40,
   "metadata": {
    "collapsed": false
   },
   "outputs": [],
   "source": [
    "months = ['January',\n",
    "          'February',\n",
    "          'March',\n",
    "          'April',\n",
    "          'June',\n",
    "          'July',\n",
    "          'August',\n",
    "          'September',\n",
    "          'October',\n",
    "          'November',\n",
    "          'December',\n",
    "        ]\n",
    "\n",
    "\n",
    "month_or = '|'.join(months)\n",
    "date_p = re.compile('\\d\\d:\\d\\d, \\d?\\d (%s) \\d\\d\\d\\d \\(UTC\\)' % month_or)\n",
    "    \n",
    "def remove_date(comment):\n",
    "    return re.sub(date_p , '', comment )\n",
    "\n",
    "\n",
    "\n",
    "pre_sub_patterns = [\n",
    "                    ('\\[\\[Image:.*?\\]\\]', ''),\n",
    "                    ('<!-- {{blocked}} -->', ''),\n",
    "                    ('NEWLINE', '\\n'),\n",
    "                    ('\\[\\[File:.*?\\]\\]', ''),\n",
    "                    ('\\[\\[User:.*?\\|.*?\\]\\]', ''),\n",
    "                    ('\\(\\[\\[User talk:.*?\\|talk\\]\\]\\)', ''),\n",
    "                   ]\n",
    "\n",
    "post_sub_patterns = [\n",
    "                    ('--', ''),\n",
    "                    (' :', ' '),\n",
    "                    ]\n",
    "\n",
    "def substitute_patterns(s, sub_patterns):\n",
    "    for p, r in sub_patterns:\n",
    "        s = re.sub(p, r, s)\n",
    "    return s\n",
    "\n",
    "def strip_html(s):\n",
    "    s = BeautifulSoup(s, 'html.parser').get_text()\n",
    "    return s\n",
    "\n",
    "\n",
    "def clean(df):\n",
    "    df = copy.deepcopy(df)\n",
    "    df.rename(columns = {'insertion': 'diff'}, inplace = True)\n",
    "    df.dropna(subset = ['diff'], inplace = True)\n",
    "    df['clean_diff'] = df['diff']\n",
    "    \n",
    "    df['clean_diff'] = df['clean_diff'].apply(remove_date)\n",
    "    df['clean_diff'] = df['clean_diff'].apply(lambda x: substitute_patterns(x, pre_sub_patterns))\n",
    "    df['clean_diff'] = df['clean_diff'].apply(strip_mw)\n",
    "    df['clean_diff'] = df['clean_diff'].apply(strip_html)\n",
    "    df['clean_diff'] = df['clean_diff'].apply(lambda x: substitute_patterns(x, post_sub_patterns))\n",
    "\n",
    "\n",
    "    try:\n",
    "        del df['rank']\n",
    "    except:\n",
    "        pass\n",
    "    #df.drop_duplicates(subset = ['rev_id'], inplace = True)\n",
    "    #df.drop_duplicates(subset = ['diff'], inplace = True)\n",
    "    df.dropna(subset = ['clean_diff'], inplace = True)\n",
    "    df = df[df['clean_diff'] != '']\n",
    "    return df"
   ]
  },
  {
   "cell_type": "code",
   "execution_count": 41,
   "metadata": {
    "collapsed": false
   },
   "outputs": [],
   "source": [
    "#show_comments(clean(df[:100]), 100)"
   ]
  },
  {
   "cell_type": "markdown",
   "metadata": {},
   "source": [
    "## Admin Messages\n",
    "### Administrative Message Types Observed\n",
    "\n",
    "- responses to to valdalism \n",
    "- new user greetings\n",
    "- 5 million articles celebration\n",
    "- speedy deletion\n",
    "- deletion\n",
    "- unfree files\n",
    "- article for creation:\n",
    "- comments with embedded image tags that contain 'warning' or 'information'"
   ]
  },
  {
   "cell_type": "code",
   "execution_count": 42,
   "metadata": {
    "collapsed": true
   },
   "outputs": [],
   "source": [
    "def show_comments(d, n = 10):\n",
    "    for i, r in d[:n].iterrows():\n",
    "        print(r['diff'])\n",
    "        print('_' * 80)\n",
    "        print(r['clean_diff'])\n",
    "        print('\\n\\n', '#' * 80, '\\n\\n')\n",
    "\n",
    "def find_pattern(d, pattern, column):\n",
    "    p = re.compile(pattern)\n",
    "    return d[d[column].apply(lambda x: p.search(x) is not None)]\n",
    "\n",
    "def exclude_pattern(d, pattern, column):\n",
    "    p = re.compile(pattern)\n",
    "    return d[ d[column].apply(lambda x: p.search(x) is None)]\n",
    "\n",
    "def exclude_few_tokens(d, n):\n",
    "    return d[d['clean_diff'].apply(lambda x: len(x.split(' ')) > n)]\n",
    "\n",
    "def exclude_short_strings(d, n):\n",
    "    return d[d['clean_diff'].apply(lambda x: len(x) > n)]  \n",
    "\n",
    "def remove_admin(d, patterns):\n",
    "    d_reduced = copy.deepcopy(d)\n",
    "    for pattern in patterns:\n",
    "        d_reduced = exclude_pattern(d_reduced, pattern, 'diff')\n",
    "    return d_reduced\n",
    "\n",
    "patterns =[\n",
    "    '\\[\\[Image:Octagon-warning',\n",
    "    '\\[\\[Image:Stop',\n",
    "    '\\[\\[Image:Information.',\n",
    "    '\\[\\[Image:Copyright-problem',\n",
    "    '\\[\\[Image:Ambox',\n",
    "    '\\[\\[Image:Broom',\n",
    "    '\\[\\[File:Information',\n",
    "    '\\[\\[File:AFC-Logo_Decline',\n",
    "    '\\[\\[File:Ambox',\n",
    "    '\\[\\[File:Nuvola',\n",
    "    '\\[\\[File:Stop',\n",
    "    '\\[\\[File:Copyright-problem',\n",
    "    '\\[\\[File:Copyright-problem',\n",
    "    '\\[\\[File:Copyright-problem',\n",
    "    '\\[\\[File:Copyright-problem',\n",
    "    '\\|alt=Warning icon\\]\\]',\n",
    "    'The article .* has been \\[\\[Wikipedia:Proposed deletion\\|proposed for deletion\\]\\]',\n",
    "    'Your submission at \\[\\[Wikipedia:Articles for creation\\|Articles for creation\\]\\]',\n",
    "    'A file that you uploaded or altered, .*, has been listed at \\[\\[Wikipedia:Possibly unfree files\\]\\]',\n",
    "    'User:SuggestBot',\n",
    "    '\\[\\[Wikipedia:Criteria for speedy deletion\\|Speedy deletion\\]\\] nomination of',\n",
    "    \"Please stop your \\[\\[Wikipedia:Disruptive editing\\|disruptive editing\\]\\]. If you continue to \\[\\[Wikipedia:Vandalism\\|vandalize\\]\\] Wikipedia, as you did to .*, you may be \\[\\[Wikipedia:Blocking policy\\|blocked from editing\\]\\]\",\n",
    "    \"Hello.*and.*\\[\\[Project:Introduction\\|welcome\\]\\].* to Wikipedia!\",\n",
    "    'Nomination of .* for deletion',\n",
    "    '== Welcome to Wikipedia! ==',\n",
    "    '== Welcome! ==',\n",
    "    '== 5 Million: We celebrate your contribution ==',\n",
    "    ]"
   ]
  },
  {
   "cell_type": "code",
   "execution_count": 43,
   "metadata": {
    "collapsed": false
   },
   "outputs": [],
   "source": [
    "#d['diff'].apply(lambda x: re.search('\\[\\[Image(.*?)\\]\\].*', x)).dropna().apply(lambda x:x.group(1)).value_counts().head(50)\n",
    "#d['diff'].apply(lambda x: re.search('\\[\\[File:(.*?)\\]\\].*', x)).dropna().apply(lambda x:x.group(1)).value_counts().head(50)\n",
    "#show_comments(find_pattern(d,'\\|alt=Warning icon\\]\\]', 'diff' ), 100)"
   ]
  },
  {
   "cell_type": "markdown",
   "metadata": {},
   "source": [
    "# Post Based Random Sample\n",
    "Consider comments made since min_timestamp. Take n random comments from non-bot users."
   ]
  },
  {
   "cell_type": "code",
   "execution_count": 5,
   "metadata": {
    "collapsed": true
   },
   "outputs": [],
   "source": [
    "n = 100000\n",
    "min_timestamp = '2014-03-01T00:00:00Z'"
   ]
  },
  {
   "cell_type": "code",
   "execution_count": 6,
   "metadata": {
    "collapsed": false
   },
   "outputs": [],
   "source": [
    "query = \"\"\"\n",
    "SELECT \n",
    "    diffs.*\n",
    "FROM\n",
    "    enwiki.user_talk_diff diffs\n",
    "WHERE\n",
    "    rev_timestamp > '%(min_timestamp)s'\n",
    "    AND user_text != 'MediaWiki message delivery'\n",
    "    AND user_text != 'Maintenance script'\n",
    "    AND user_text NOT RLIKE 'bot|Bot|BOT'\n",
    "ORDER BY RAND()\n",
    "LIMIT %(n)d\n",
    "\"\"\"\n",
    "\n",
    "params = {\n",
    "    'n': n,\n",
    "    'min_timestamp': min_timestamp\n",
    "    }\n",
    "\n",
    "df = query_hive_ssh(query % params, 'post_sample.tsv', priority = True)\n",
    "df.columns = [c.split('.')[1] for c in df.columns]"
   ]
  },
  {
   "cell_type": "code",
   "execution_count": 44,
   "metadata": {
    "collapsed": false
   },
   "outputs": [
    {
     "name": "stdout",
     "output_type": "stream",
     "text": [
      "Raw: 100000\n",
      "Cleaned:  91169\n",
      "No Admin 48650\n",
      "No Few Words:  40169\n",
      "No Few Chars:  38849\n"
     ]
    }
   ],
   "source": [
    "print('Raw:', df.shape[0])\n",
    "clean_df = clean(df)\n",
    "print('Cleaned: ', clean_df.shape[0])\n",
    "reduced_df = remove_admin(clean_df, patterns)\n",
    "print('No Admin', reduced_df.shape[0])\n",
    "reduced_df = exclude_few_tokens(reduced_df, 3)\n",
    "print('No Few Words: ', reduced_df.shape[0])\n",
    "reduced_df = exclude_short_strings(reduced_df, 20)\n",
    "print('No Few Chars: ', reduced_df.shape[0])"
   ]
  },
  {
   "cell_type": "code",
   "execution_count": 45,
   "metadata": {
    "collapsed": false
   },
   "outputs": [],
   "source": [
    "clean_df[:1000].to_csv('../data/1k_post_sample.tsv', sep = '\\t')\n",
    "clean_df.to_csv('../data/all_post_sample.tsv', sep = '\\t')\n",
    "reduced_df[:1000].to_csv('../data/1k_no_admin_post_sample.tsv', sep = '\\t')\n",
    "reduced_df.to_csv('../data/all_no_admin_post_sample.tsv', sep = '\\t')"
   ]
  },
  {
   "cell_type": "code",
   "execution_count": 373,
   "metadata": {
    "collapsed": false
   },
   "outputs": [],
   "source": [
    "#show_comments(d_reduced, 100)"
   ]
  },
  {
   "cell_type": "markdown",
   "metadata": {},
   "source": [
    "# User Based Random Sample\n",
    "\n",
    "Consider comments made since min_timestamp. Take up to k random comments from each of n random non-bot users"
   ]
  },
  {
   "cell_type": "code",
   "execution_count": 5,
   "metadata": {
    "collapsed": true
   },
   "outputs": [],
   "source": [
    "k = 5\n",
    "n = 10000\n",
    "min_timestamp = '2014-03-01T00:00:00Z'"
   ]
  },
  {
   "cell_type": "code",
   "execution_count": 6,
   "metadata": {
    "collapsed": false
   },
   "outputs": [],
   "source": [
    "query = \"\"\"\n",
    "SELECT \n",
    "    revisions.*\n",
    "FROM\n",
    "    (SELECT\n",
    "        a.*\n",
    "        FROM\n",
    "        (\n",
    "        SELECT\n",
    "            d.*,\n",
    "            RANK() OVER (PARTITION BY d.user_id ORDER BY RAND()) as rank\n",
    "        FROM\n",
    "            enwiki.user_talk_diff d\n",
    "        WHERE \n",
    "            rev_timestamp > '%(min_timestamp)s'\n",
    "        ) a\n",
    "    WHERE rank <= %(k)d\n",
    "    )\n",
    "    revisions\n",
    "\n",
    "JOIN\n",
    "    (\n",
    "    SELECT\n",
    "        a.*\n",
    "    FROM (\n",
    "        SELECT\n",
    "            user_id,\n",
    "            RAND() as key\n",
    "        FROM\n",
    "            enwiki.user_talk_diff d\n",
    "        WHERE \n",
    "            rev_timestamp > '%(min_timestamp)s'\n",
    "            AND user_text != 'MediaWiki message delivery'\n",
    "            AND user_text != 'Maintenance script'\n",
    "            AND user_text NOT RLIKE 'bot|Bot|BOT'\n",
    "        GROUP BY user_id\n",
    "        ) a\n",
    "    ORDER BY key\n",
    "    LIMIT %(n)d\n",
    "    ) users\n",
    "ON\n",
    "    revisions.user_id = users.user_id\n",
    "\"\"\"\n",
    "\n",
    "params = {\n",
    "    'k': k,\n",
    "    'n': n,\n",
    "    'min_timestamp': min_timestamp\n",
    "    }\n",
    "\n",
    "\n",
    "user_sample_df = query_hive_ssh(query % params, 'random_sample.tsv', priority = True)\n",
    "user_sample_df.columns = [c.split('.')[1] for c in user_sample_df.columns]"
   ]
  },
  {
   "cell_type": "code",
   "execution_count": 385,
   "metadata": {
    "collapsed": true
   },
   "outputs": [],
   "source": [
    "### DEPRECATED ###"
   ]
  },
  {
   "cell_type": "markdown",
   "metadata": {},
   "source": [
    "# Blocked Users\n",
    "For n random user block events that occured after min_timestamp, take up to the k most recent comments before being blocked for harassment or personal attacks."
   ]
  },
  {
   "cell_type": "code",
   "execution_count": 46,
   "metadata": {
    "collapsed": true
   },
   "outputs": [],
   "source": [
    "k = 25\n",
    "n = 10000\n",
    "min_timestamp = '2010-03-01T00:00:00Z'"
   ]
  },
  {
   "cell_type": "code",
   "execution_count": 47,
   "metadata": {
    "collapsed": false
   },
   "outputs": [],
   "source": [
    "query = \"\"\"\n",
    "\n",
    "SELECT\n",
    "    revisions.*\n",
    "FROM\n",
    "    (\n",
    "    SELECT \n",
    "        diffs.*,\n",
    "        RANK() OVER (PARTITION BY events.key, events.user_text ORDER BY diffs.rev_timestamp DESC) as rank\n",
    "    FROM\n",
    "        (\n",
    "        SELECT\n",
    "            a.*\n",
    "        FROM\n",
    "            (\n",
    "            SELECT \n",
    "              log_title as user_text,\n",
    "              log_timestamp,\n",
    "              RAND() as key\n",
    "            FROM enwiki.logging \n",
    "            WHERE\n",
    "              log_type = 'block'\n",
    "              AND log_action = 'block'\n",
    "              AND log_comment RLIKE 'harassment|personal attack'\n",
    "              AND log_timestamp > '%(min_timestamp)s'\n",
    "            ) a\n",
    "        ORDER BY key\n",
    "        LIMIT %(n)d\n",
    "        ) events\n",
    "    JOIN\n",
    "        enwiki.user_talk_diff diffs\n",
    "    ON\n",
    "        diffs.user_text = events.user_text\n",
    "    WHERE\n",
    "        diffs.rev_timestamp <= events.log_timestamp\n",
    "    ) revisions\n",
    "WHERE\n",
    "    rank <= %(k)d\n",
    "\"\"\"\n",
    "\n",
    "params = {\n",
    "    'k': k,\n",
    "    'n': n,\n",
    "    'min_timestamp': min_timestamp\n",
    "    }\n",
    "\n",
    "\n",
    "df = query_hive_ssh(query % params, 'blocked_user_random_sample.tsv', priority = True, delete = False)\n",
    "df.columns = [c.split('.')[1] for c in df.columns]"
   ]
  },
  {
   "cell_type": "code",
   "execution_count": 48,
   "metadata": {
    "collapsed": false
   },
   "outputs": [
    {
     "name": "stdout",
     "output_type": "stream",
     "text": [
      "Raw: 6034\n",
      "Cleaned:  4857\n",
      "No Admin 4567\n",
      "No Few Words:  3719\n",
      "No Few Chars:  3634\n"
     ]
    }
   ],
   "source": [
    "print('Raw:', df.shape[0])\n",
    "clean_df = clean(df)\n",
    "print('Cleaned: ', clean_df.shape[0])\n",
    "reduced_df = remove_admin(clean_df, patterns)\n",
    "print('No Admin', reduced_df.shape[0])\n",
    "reduced_df = exclude_few_tokens(reduced_df, 3)\n",
    "print('No Few Words: ', reduced_df.shape[0])\n",
    "reduced_df = exclude_short_strings(reduced_df, 20)\n",
    "print('No Few Chars: ', reduced_df.shape[0])"
   ]
  },
  {
   "cell_type": "code",
   "execution_count": 49,
   "metadata": {
    "collapsed": true
   },
   "outputs": [],
   "source": [
    "clean_df[:1000].to_csv('../data/1k_blocked_user_post_sample.tsv', sep = '\\t')\n",
    "clean_df.to_csv('../data/all_blocked_user_post_sample.tsv', sep = '\\t')\n",
    "reduced_df[:1000].to_csv('../data/1k_no_admin_blocked_user_post_sample.tsv', sep = '\\t')\n",
    "reduced_df.to_csv('../data/all_no_admin_blocked_user_post_sample.tsv', sep = '\\t')"
   ]
  },
  {
   "cell_type": "markdown",
   "metadata": {},
   "source": [
    "# Blocked User Longitudinal Data\n",
    "For some users who got blocked for harassment/personal attacks, get all their user talk "
   ]
  },
  {
   "cell_type": "markdown",
   "metadata": {},
   "source": [
    "##### Data QA"
   ]
  },
  {
   "cell_type": "code",
   "execution_count": 50,
   "metadata": {
    "collapsed": false
   },
   "outputs": [],
   "source": [
    "query = \"\"\"\n",
    "SELECT\n",
    "    COUNT(DISTINCT(user_text)) as n\n",
    "FROM\n",
    "    enwiki.blocked_user\n",
    "\"\"\"\n",
    "\n",
    "d = query_hive_ssh(query, 'qa.tsv', priority = True)"
   ]
  },
  {
   "cell_type": "code",
   "execution_count": 51,
   "metadata": {
    "collapsed": false
   },
   "outputs": [
    {
     "name": "stdout",
     "output_type": "stream",
     "text": [
      "Num Users Blocked for Harassment\n",
      "4140\n"
     ]
    }
   ],
   "source": [
    "print('Num Users Blocked for Harassment')\n",
    "print(d['n'].iloc[0])"
   ]
  },
  {
   "cell_type": "code",
   "execution_count": 53,
   "metadata": {
    "collapsed": false
   },
   "outputs": [
    {
     "name": "stdout",
     "output_type": "stream",
     "text": [
      "Num Blocked Users with a revision in:  revision\n",
      "3739 4620989\n",
      "Num Blocked Users with a revision in:  user_talk_revision\n",
      "2886 577247\n",
      "Num Blocked Users with a revision in:  user_talk_diff\n",
      "2819 571473\n",
      "Num Blocked Users with a revision in:  blocked_user_talk_diff\n",
      "2819 571473\n"
     ]
    }
   ],
   "source": [
    "tables = [\n",
    "            ('revision', 'rev_user_text'),\n",
    "            ('user_talk_revision', 'rev_user_text'),\n",
    "            ('user_talk_diff', 'user_text'),\n",
    "            ('blocked_user_talk_diff', 'user_text'),\n",
    "    ]\n",
    "query = \"\"\"\n",
    "SELECT\n",
    "    b.user_text,\n",
    "    COUNT(*) as n\n",
    "FROM\n",
    "    enwiki.%s t\n",
    "JOIN\n",
    "    enwiki.blocked_user b\n",
    "ON\n",
    "    b.user_text = t.%s\n",
    "GROUP\n",
    "    BY b.user_text\n",
    "\"\"\"\n",
    "\n",
    "for t in tables:\n",
    "    print('Num Blocked Users with a revision in: ', t[0])\n",
    "    d = query_hive_ssh(query % t, 'qa.tsv', priority = True)\n",
    "    print(d.shape[0], d['n'].sum())"
   ]
  },
  {
   "cell_type": "markdown",
   "metadata": {},
   "source": [
    "We have 4.1k users who were blocked for harassment, but only 3.7k have any revision and only 2.8k have a user talk revision. Whats going on?"
   ]
  },
  {
   "cell_type": "code",
   "execution_count": 194,
   "metadata": {
    "collapsed": false
   },
   "outputs": [],
   "source": [
    "query = \"\"\"\n",
    "SELECT\n",
    "    b.user_text\n",
    "FROM\n",
    "    (\n",
    "    SELECT\n",
    "        DISTINCT(%(username)s) as user_text\n",
    "    FROM\n",
    "        enwiki.%(table)s \n",
    "    ) t\n",
    "RIGHT JOIN\n",
    "    enwiki.blocked_user b\n",
    "ON\n",
    "    t.user_text = b.user_text \n",
    "WHERE \n",
    "    t.user_text is NULL\n",
    "\"\"\"\n",
    "params = {\n",
    "    'username': 'rev_user_text',\n",
    "    'table': 'revision'\n",
    "}\n",
    "d = query_hive_ssh(query % params, 'qa.tsv', priority = True)"
   ]
  },
  {
   "cell_type": "code",
   "execution_count": 201,
   "metadata": {
    "collapsed": false
   },
   "outputs": [
    {
     "data": {
      "text/html": [
       "<div>\n",
       "<table border=\"1\" class=\"dataframe\">\n",
       "  <thead>\n",
       "    <tr style=\"text-align: right;\">\n",
       "      <th></th>\n",
       "      <th>b.user_text</th>\n",
       "    </tr>\n",
       "  </thead>\n",
       "  <tbody>\n",
       "    <tr>\n",
       "      <th>0</th>\n",
       "      <td>100.34.12.38</td>\n",
       "    </tr>\n",
       "    <tr>\n",
       "      <th>1</th>\n",
       "      <td>103.27.226.0/24</td>\n",
       "    </tr>\n",
       "    <tr>\n",
       "      <th>2</th>\n",
       "      <td>117.197.156.176</td>\n",
       "    </tr>\n",
       "    <tr>\n",
       "      <th>3</th>\n",
       "      <td>142.162.218.188</td>\n",
       "    </tr>\n",
       "    <tr>\n",
       "      <th>4</th>\n",
       "      <td>148.233.165.0/24</td>\n",
       "    </tr>\n",
       "  </tbody>\n",
       "</table>\n",
       "</div>"
      ],
      "text/plain": [
       "        b.user_text\n",
       "0      100.34.12.38\n",
       "1   103.27.226.0/24\n",
       "2   117.197.156.176\n",
       "3   142.162.218.188\n",
       "4  148.233.165.0/24"
      ]
     },
     "execution_count": 201,
     "metadata": {},
     "output_type": "execute_result"
    }
   ],
   "source": [
    "d.head()"
   ]
  },
  {
   "cell_type": "markdown",
   "metadata": {},
   "source": [
    "I manually checked a bunch of examples in the prod DB and they really don't have any revisions. In some cases, the event happened off wiki (e.g. AOL, MSN). In other cases, maybe the revisions were deleted?"
   ]
  },
  {
   "cell_type": "markdown",
   "metadata": {},
   "source": [
    "#### Sampling\n",
    "How many users can we sample?"
   ]
  },
  {
   "cell_type": "code",
   "execution_count": 206,
   "metadata": {
    "collapsed": false
   },
   "outputs": [],
   "source": [
    "query = \"\"\"\n",
    "SELECT\n",
    "    user_text,\n",
    "    COUNT(*) num_user_talk_revs\n",
    "FROM\n",
    "    enwiki.blocked_user_talk_diff\n",
    "GROUP\n",
    "    BY user_text\n",
    "\"\"\"\n",
    "\n",
    "user_talk_revs_per_user_df = query_hive_ssh(query, 'random_sample.tsv', priority = True)\n"
   ]
  },
  {
   "cell_type": "code",
   "execution_count": 209,
   "metadata": {
    "collapsed": false
   },
   "outputs": [
    {
     "data": {
      "text/plain": [
       "1     569\n",
       "2     316\n",
       "3     230\n",
       "4     166\n",
       "5     131\n",
       "6     108\n",
       "7      84\n",
       "8      77\n",
       "9      50\n",
       "10     47\n",
       "11     41\n",
       "12     37\n",
       "13     36\n",
       "15     32\n",
       "17     26\n",
       "16     25\n",
       "14     25\n",
       "21     21\n",
       "18     19\n",
       "27     18\n",
       "Name: num_user_talk_revs, dtype: int64"
      ]
     },
     "execution_count": 209,
     "metadata": {},
     "output_type": "execute_result"
    }
   ],
   "source": [
    "user_talk_revs_per_user_df['num_user_talk_revs'].value_counts().head(20)"
   ]
  },
  {
   "cell_type": "code",
   "execution_count": 301,
   "metadata": {
    "collapsed": false
   },
   "outputs": [
    {
     "name": "stdout",
     "output_type": "stream",
     "text": [
      "Num Users:  2819\n",
      "Num Comments:  571473\n",
      "Num Users with < 1000 Edits:  2726\n",
      "Num Comments from Users with  < 1000 Edits:  117024\n"
     ]
    }
   ],
   "source": [
    "k =1000\n",
    "print('Num Users: ', user_talk_revs_per_user_df.shape[0])\n",
    "print('Num Comments: ', user_talk_revs_per_user_df['num_user_talk_revs'].sum())\n",
    "\n",
    "print ('Num Users with < %d Edits: ' % k,  user_talk_revs_per_user_df[user_talk_revs_per_user_df['num_user_talk_revs'] < k].shape[0])\n",
    "print('Num Comments from Users with  < %d Edits: ' % k, user_talk_revs_per_user_df[user_talk_revs_per_user_df['num_user_talk_revs'] < k]['num_user_talk_revs'].sum() )"
   ]
  },
  {
   "cell_type": "code",
   "execution_count": 55,
   "metadata": {
    "collapsed": false
   },
   "outputs": [
    {
     "ename": "CParserError",
     "evalue": "Error tokenizing data. C error: Expected 12 fields in line 146, saw 13\n",
     "output_type": "error",
     "traceback": [
      "\u001b[0;31m---------------------------------------------------------------------------\u001b[0m",
      "\u001b[0;31mCParserError\u001b[0m                              Traceback (most recent call last)",
      "\u001b[0;32m<ipython-input-55-df3200577f02>\u001b[0m in \u001b[0;36m<module>\u001b[0;34m()\u001b[0m\n\u001b[1;32m     37\u001b[0m \u001b[0;34m\u001b[0m\u001b[0m\n\u001b[1;32m     38\u001b[0m \u001b[0;34m\u001b[0m\u001b[0m\n\u001b[0;32m---> 39\u001b[0;31m \u001b[0mdf\u001b[0m \u001b[0;34m=\u001b[0m \u001b[0mquery_hive_ssh\u001b[0m\u001b[0;34m(\u001b[0m\u001b[0mquery\u001b[0m \u001b[0;34m%\u001b[0m \u001b[0mparams\u001b[0m\u001b[0;34m,\u001b[0m \u001b[0;34m'blocked_user_long.tsv'\u001b[0m\u001b[0;34m,\u001b[0m \u001b[0mpriority\u001b[0m \u001b[0;34m=\u001b[0m \u001b[0;32mTrue\u001b[0m\u001b[0;34m,\u001b[0m \u001b[0mdelete\u001b[0m \u001b[0;34m=\u001b[0m \u001b[0;32mFalse\u001b[0m\u001b[0;34m)\u001b[0m\u001b[0;34m\u001b[0m\u001b[0m\n\u001b[0m",
      "\u001b[0;32m/Users/ellerywulczyn/wmf/util/db_utils.py\u001b[0m in \u001b[0;36mquery_hive_ssh\u001b[0;34m(query, file_name, priority, delete, delim)\u001b[0m\n\u001b[1;32m     79\u001b[0m     \u001b[0mcmd\u001b[0m \u001b[0;34m=\u001b[0m \u001b[0;34m\"\"\"ssh stat1002.eqiad.wmnet \"hive -e \\\\\" \"\"\"\u001b[0m \u001b[0;34m+\u001b[0m\u001b[0mquery\u001b[0m\u001b[0;34m+\u001b[0m \u001b[0;34m\"\"\" \\\\\" \"> \"\"\"\u001b[0m \u001b[0;34m+\u001b[0m \u001b[0mfile_name\u001b[0m\u001b[0;34m\u001b[0m\u001b[0m\n\u001b[1;32m     80\u001b[0m     \u001b[0mos\u001b[0m\u001b[0;34m.\u001b[0m\u001b[0msystem\u001b[0m\u001b[0;34m(\u001b[0m\u001b[0mcmd\u001b[0m\u001b[0;34m)\u001b[0m\u001b[0;34m\u001b[0m\u001b[0m\n\u001b[0;32m---> 81\u001b[0;31m     \u001b[0md\u001b[0m \u001b[0;34m=\u001b[0m \u001b[0mpd\u001b[0m\u001b[0;34m.\u001b[0m\u001b[0mread_csv\u001b[0m\u001b[0;34m(\u001b[0m\u001b[0mfile_name\u001b[0m\u001b[0;34m,\u001b[0m  \u001b[0msep\u001b[0m\u001b[0;34m=\u001b[0m\u001b[0mdelim\u001b[0m\u001b[0;34m)\u001b[0m\u001b[0;34m\u001b[0m\u001b[0m\n\u001b[0m\u001b[1;32m     82\u001b[0m     \u001b[0;32mif\u001b[0m \u001b[0mdelete\u001b[0m\u001b[0;34m:\u001b[0m\u001b[0;34m\u001b[0m\u001b[0m\n\u001b[1;32m     83\u001b[0m         \u001b[0mos\u001b[0m\u001b[0;34m.\u001b[0m\u001b[0msystem\u001b[0m\u001b[0;34m(\u001b[0m\u001b[0;34m'rm '\u001b[0m \u001b[0;34m+\u001b[0m \u001b[0mfile_name\u001b[0m\u001b[0;34m)\u001b[0m\u001b[0;34m\u001b[0m\u001b[0m\n",
      "\u001b[0;32m/Users/ellerywulczyn/miniconda3/lib/python3.5/site-packages/pandas/io/parsers.py\u001b[0m in \u001b[0;36mparser_f\u001b[0;34m(filepath_or_buffer, sep, dialect, compression, doublequote, escapechar, quotechar, quoting, skipinitialspace, lineterminator, header, index_col, names, prefix, skiprows, skipfooter, skip_footer, na_values, true_values, false_values, delimiter, converters, dtype, usecols, engine, delim_whitespace, as_recarray, na_filter, compact_ints, use_unsigned, low_memory, buffer_lines, warn_bad_lines, error_bad_lines, keep_default_na, thousands, comment, decimal, parse_dates, keep_date_col, dayfirst, date_parser, memory_map, float_precision, nrows, iterator, chunksize, verbose, encoding, squeeze, mangle_dupe_cols, tupleize_cols, infer_datetime_format, skip_blank_lines)\u001b[0m\n\u001b[1;32m    496\u001b[0m                     skip_blank_lines=skip_blank_lines)\n\u001b[1;32m    497\u001b[0m \u001b[0;34m\u001b[0m\u001b[0m\n\u001b[0;32m--> 498\u001b[0;31m         \u001b[0;32mreturn\u001b[0m \u001b[0m_read\u001b[0m\u001b[0;34m(\u001b[0m\u001b[0mfilepath_or_buffer\u001b[0m\u001b[0;34m,\u001b[0m \u001b[0mkwds\u001b[0m\u001b[0;34m)\u001b[0m\u001b[0;34m\u001b[0m\u001b[0m\n\u001b[0m\u001b[1;32m    499\u001b[0m \u001b[0;34m\u001b[0m\u001b[0m\n\u001b[1;32m    500\u001b[0m     \u001b[0mparser_f\u001b[0m\u001b[0;34m.\u001b[0m\u001b[0m__name__\u001b[0m \u001b[0;34m=\u001b[0m \u001b[0mname\u001b[0m\u001b[0;34m\u001b[0m\u001b[0m\n",
      "\u001b[0;32m/Users/ellerywulczyn/miniconda3/lib/python3.5/site-packages/pandas/io/parsers.py\u001b[0m in \u001b[0;36m_read\u001b[0;34m(filepath_or_buffer, kwds)\u001b[0m\n\u001b[1;32m    283\u001b[0m         \u001b[0;32mreturn\u001b[0m \u001b[0mparser\u001b[0m\u001b[0;34m\u001b[0m\u001b[0m\n\u001b[1;32m    284\u001b[0m \u001b[0;34m\u001b[0m\u001b[0m\n\u001b[0;32m--> 285\u001b[0;31m     \u001b[0;32mreturn\u001b[0m \u001b[0mparser\u001b[0m\u001b[0;34m.\u001b[0m\u001b[0mread\u001b[0m\u001b[0;34m(\u001b[0m\u001b[0;34m)\u001b[0m\u001b[0;34m\u001b[0m\u001b[0m\n\u001b[0m\u001b[1;32m    286\u001b[0m \u001b[0;34m\u001b[0m\u001b[0m\n\u001b[1;32m    287\u001b[0m _parser_defaults = {\n",
      "\u001b[0;32m/Users/ellerywulczyn/miniconda3/lib/python3.5/site-packages/pandas/io/parsers.py\u001b[0m in \u001b[0;36mread\u001b[0;34m(self, nrows)\u001b[0m\n\u001b[1;32m    745\u001b[0m                 \u001b[0;32mraise\u001b[0m \u001b[0mValueError\u001b[0m\u001b[0;34m(\u001b[0m\u001b[0;34m'skip_footer not supported for iteration'\u001b[0m\u001b[0;34m)\u001b[0m\u001b[0;34m\u001b[0m\u001b[0m\n\u001b[1;32m    746\u001b[0m \u001b[0;34m\u001b[0m\u001b[0m\n\u001b[0;32m--> 747\u001b[0;31m         \u001b[0mret\u001b[0m \u001b[0;34m=\u001b[0m \u001b[0mself\u001b[0m\u001b[0;34m.\u001b[0m\u001b[0m_engine\u001b[0m\u001b[0;34m.\u001b[0m\u001b[0mread\u001b[0m\u001b[0;34m(\u001b[0m\u001b[0mnrows\u001b[0m\u001b[0;34m)\u001b[0m\u001b[0;34m\u001b[0m\u001b[0m\n\u001b[0m\u001b[1;32m    748\u001b[0m \u001b[0;34m\u001b[0m\u001b[0m\n\u001b[1;32m    749\u001b[0m         \u001b[0;32mif\u001b[0m \u001b[0mself\u001b[0m\u001b[0;34m.\u001b[0m\u001b[0moptions\u001b[0m\u001b[0;34m.\u001b[0m\u001b[0mget\u001b[0m\u001b[0;34m(\u001b[0m\u001b[0;34m'as_recarray'\u001b[0m\u001b[0;34m)\u001b[0m\u001b[0;34m:\u001b[0m\u001b[0;34m\u001b[0m\u001b[0m\n",
      "\u001b[0;32m/Users/ellerywulczyn/miniconda3/lib/python3.5/site-packages/pandas/io/parsers.py\u001b[0m in \u001b[0;36mread\u001b[0;34m(self, nrows)\u001b[0m\n\u001b[1;32m   1195\u001b[0m     \u001b[0;32mdef\u001b[0m \u001b[0mread\u001b[0m\u001b[0;34m(\u001b[0m\u001b[0mself\u001b[0m\u001b[0;34m,\u001b[0m \u001b[0mnrows\u001b[0m\u001b[0;34m=\u001b[0m\u001b[0;32mNone\u001b[0m\u001b[0;34m)\u001b[0m\u001b[0;34m:\u001b[0m\u001b[0;34m\u001b[0m\u001b[0m\n\u001b[1;32m   1196\u001b[0m         \u001b[0;32mtry\u001b[0m\u001b[0;34m:\u001b[0m\u001b[0;34m\u001b[0m\u001b[0m\n\u001b[0;32m-> 1197\u001b[0;31m             \u001b[0mdata\u001b[0m \u001b[0;34m=\u001b[0m \u001b[0mself\u001b[0m\u001b[0;34m.\u001b[0m\u001b[0m_reader\u001b[0m\u001b[0;34m.\u001b[0m\u001b[0mread\u001b[0m\u001b[0;34m(\u001b[0m\u001b[0mnrows\u001b[0m\u001b[0;34m)\u001b[0m\u001b[0;34m\u001b[0m\u001b[0m\n\u001b[0m\u001b[1;32m   1198\u001b[0m         \u001b[0;32mexcept\u001b[0m \u001b[0mStopIteration\u001b[0m\u001b[0;34m:\u001b[0m\u001b[0;34m\u001b[0m\u001b[0m\n\u001b[1;32m   1199\u001b[0m             \u001b[0;32mif\u001b[0m \u001b[0mself\u001b[0m\u001b[0;34m.\u001b[0m\u001b[0m_first_chunk\u001b[0m\u001b[0;34m:\u001b[0m\u001b[0;34m\u001b[0m\u001b[0m\n",
      "\u001b[0;32mpandas/parser.pyx\u001b[0m in \u001b[0;36mpandas.parser.TextReader.read (pandas/parser.c:7988)\u001b[0;34m()\u001b[0m\n",
      "\u001b[0;32mpandas/parser.pyx\u001b[0m in \u001b[0;36mpandas.parser.TextReader._read_low_memory (pandas/parser.c:8244)\u001b[0;34m()\u001b[0m\n",
      "\u001b[0;32mpandas/parser.pyx\u001b[0m in \u001b[0;36mpandas.parser.TextReader._read_rows (pandas/parser.c:8970)\u001b[0;34m()\u001b[0m\n",
      "\u001b[0;32mpandas/parser.pyx\u001b[0m in \u001b[0;36mpandas.parser.TextReader._tokenize_rows (pandas/parser.c:8838)\u001b[0;34m()\u001b[0m\n",
      "\u001b[0;32mpandas/parser.pyx\u001b[0m in \u001b[0;36mpandas.parser.raise_parser_error (pandas/parser.c:22649)\u001b[0;34m()\u001b[0m\n",
      "\u001b[0;31mCParserError\u001b[0m: Error tokenizing data. C error: Expected 12 fields in line 146, saw 13\n"
     ]
    }
   ],
   "source": [
    "query = \"\"\"\n",
    "\n",
    "SELECT\n",
    "    diffs.rev_comment,\n",
    "    SUBSTRING(diffs.insertion, 0, 1000) as insertion,\n",
    "    diffs.insert_only,\n",
    "    diffs.rev_id,\n",
    "    diffs.page_id,\n",
    "    diffs.page_title,\n",
    "    diffs.rev_timestamp,\n",
    "    diffs.user_id,\n",
    "    diffs.user_text,\n",
    "    diffs.block_reasons,\n",
    "    diffs.block_timestamps,\n",
    "    diffs.block_actions\n",
    "FROM\n",
    "    enwiki.blocked_user_talk_diff diffs\n",
    "JOIN\n",
    "    (\n",
    "    SELECT\n",
    "        user_text\n",
    "    FROM\n",
    "        enwiki.blocked_user_talk_diff\n",
    "    GROUP\n",
    "        BY user_text\n",
    "    HAVING \n",
    "        COUNT(*) < %(max_comments)d\n",
    "    ) users\n",
    "    \n",
    "ON\n",
    "    diffs.user_text = users.user_text\n",
    "\"\"\"\n",
    "\n",
    "params = {\n",
    "    'max_comments': 1000\n",
    "    }\n",
    "\n",
    "\n",
    "df = query_hive_ssh(query % params, 'blocked_user_long.tsv', priority = True, delete = False)"
   ]
  },
  {
   "cell_type": "code",
   "execution_count": 56,
   "metadata": {
    "collapsed": false
   },
   "outputs": [
    {
     "name": "stdout",
     "output_type": "stream",
     "text": [
      "0\n",
      "10000\n",
      "20000\n",
      "30000\n",
      "40000\n",
      "50000\n",
      "60000\n",
      "70000\n",
      "80000\n",
      "90000\n",
      "100000\n",
      "110000\n"
     ]
    }
   ],
   "source": [
    "# In case padas csv parser breaks\n",
    "f =  open('blocked_user_long.tsv')\n",
    "df = pd.DataFrame(columns = next(f).split('\\t'))\n",
    "for i, line in enumerate(f):\n",
    "    if i % 10000 ==0:\n",
    "        print(i)\n",
    "    df.loc[i] = line.split('\\t')"
   ]
  },
  {
   "cell_type": "code",
   "execution_count": 57,
   "metadata": {
    "collapsed": false
   },
   "outputs": [],
   "source": [
    "df.columns = [c.replace('diffs.', '') for c in df.columns]"
   ]
  },
  {
   "cell_type": "code",
   "execution_count": 58,
   "metadata": {
    "collapsed": false
   },
   "outputs": [
    {
     "name": "stdout",
     "output_type": "stream",
     "text": [
      "Raw: 117024\n",
      "Cleaned:  104406\n",
      "No Admin 101979\n",
      "No Few Words:  84276\n",
      "No Few Chars:  82273\n"
     ]
    }
   ],
   "source": [
    "print('Raw:', df.shape[0])\n",
    "clean_df = clean(df)\n",
    "print('Cleaned: ', clean_df.shape[0])\n",
    "reduced_df = remove_admin(clean_df, patterns)\n",
    "print('No Admin', reduced_df.shape[0])\n",
    "reduced_df = exclude_few_tokens(reduced_df, 3)\n",
    "print('No Few Words: ', reduced_df.shape[0])\n",
    "reduced_df = exclude_short_strings(reduced_df, 20)\n",
    "print('No Few Chars: ', reduced_df.shape[0])"
   ]
  },
  {
   "cell_type": "code",
   "execution_count": 59,
   "metadata": {
    "collapsed": false
   },
   "outputs": [],
   "source": [
    "#show_comments(clean_blocked_user_long_df, 100)"
   ]
  },
  {
   "cell_type": "code",
   "execution_count": 60,
   "metadata": {
    "collapsed": true
   },
   "outputs": [],
   "source": [
    "clean_df.to_csv('../data/all_blocked_user_long_sample.tsv', sep = '\\t')\n",
    "reduced_df.to_csv('../data/all_no_admin_blocked_user_long_sample.tsv', sep = '\\t')"
   ]
  },
  {
   "cell_type": "markdown",
   "metadata": {},
   "source": [
    "# Scratch"
   ]
  },
  {
   "cell_type": "code",
   "execution_count": 377,
   "metadata": {
    "collapsed": true
   },
   "outputs": [],
   "source": [
    "s1 = set(reduced_clean_blocked_user_long_df.index)\n",
    "s2 = set(clean_blocked_user_long_df.index)\n",
    "s3 = s2 - s1\n",
    "d_excluded = clean_blocked_user_long_df.ix[s3]"
   ]
  },
  {
   "cell_type": "code",
   "execution_count": 378,
   "metadata": {
    "collapsed": false
   },
   "outputs": [
    {
     "name": "stdout",
     "output_type": "stream",
     "text": [
      "\"NEWLINENEWLINE<div style=\"\"padding:5px; background:#FFF;\"\" class=\"\"user-block\"\"> [[Image:Octagon-warning.png|left|40px]] You have been [[Wikipedia:Blocking policy| blocked]] from editing for [[Wikipedia:Vandalism|vandalism]] of Wikipedia. The block is for a period of 24 hours. If you wish to make useful contributions, you are welcome to come back after the block expires. --[[User:Nlu|Nlu]] ([[User talk:Nlu|talk]]) 03:34, 8 March 2006 (UTC)</div>\"\n",
      "________________________________________________________________________________\n",
      "\"\n",
      "\n",
      " left|40px You have been  blocked from editing for vandalism of Wikipedia. The block is for a period of 24 hours. If you wish to make useful contributions, you are welcome to come back after the block expires. --Nlu (talk) 03:34, 8 March 2006 (UTC)\"\n",
      "\n",
      "\n",
      " ################################################################################ \n",
      "\n",
      "\n",
      "is a fucking gay mother fucking asshole sucking cock sucking bitch!}}  + [[Image:Octagon-warning.png|left|30px]]You have been temporarily blocked from editing for disrupting Wikipedia by making personal attacks. If you wish to make useful contributions, you are welcome to come back after the block expires. [[User:Petros471|Petros471]] 11:08, 29 April 2006 (UTC)\n",
      "________________________________________________________________________________\n",
      "is a fucking gay mother fucking asshole sucking cock sucking bitch!}}  + left|30pxYou have been temporarily blocked from editing for disrupting Wikipedia by making personal attacks. If you wish to make useful contributions, you are welcome to come back after the block expires. Petros471 11:08, 29 April 2006 (UTC)\n",
      "\n",
      "\n",
      " ################################################################################ \n",
      "\n",
      "\n",
      "NEWLINENEWLINE== User notice: temporary 3RR block ==NEWLINENEWLINE====Regarding reversions[http://en.wikipedia.org/w/index.php?title=New_Deal&action=history] made on [[May 6]] [[2006]] ([[UTC]]) to [[New Deal]]==== [[Image:Octagon-warning.png|left|30px| ]]You have been temporarily blocked for violation of the [[Wikipedia:Three-revert rule|three-revert rule]]. Please feel free to return after the block expires, but also please make an effort to discuss your changes further in the future. <!-- Template:3RR3 --> The duration of the [http://en.wikipedia.org/w/index.php?title=Special%3ALog&type=block&user=&page=User:Rjensen&action=edit&section=new block] is 8 hours.  11:30, 6 May 2006 (UTC)\n",
      "________________________________________________________________________________\n",
      " User notice: temporary 3RR block \n",
      "\n",
      "Regarding reversions made on May 6 2006 (UTC) to New Deal left|30px| You have been temporarily blocked for violation of the three-revert rule. Please feel free to return after the block expires, but also please make an effort to discuss your changes further in the future.  The duration of the block is 8 hours.  11:30, 6 May 2006 (UTC)\n",
      "\n",
      "\n",
      " ################################################################################ \n",
      "\n",
      "\n",
      "\"<div class=\"\"user-block\"\" style=\"\"clear:both;\"\">[[Image:Octagon-warning.svg|30px|left]] WARNING: our records have detected that [[User:ChinChonWon|You]] are a [[Shi%27a_Islam|shi'ite]], also known as a SHITE. Please do not force your religion ([[muslimism]]) on our intolerant encyclopedia. <!-- Template:test6 (post-block warning) --> <noinclude>[[Category:User block templates|Temporary]]</noinclude>\"\n",
      "________________________________________________________________________________\n",
      "\"<div class=\"\"user-block\"\" style=\"\"clear:both;\"\">30px|left WARNING: our records have detected that You are a shi'ite, also known as a SHITE. Please do not force your religion (muslimism) on our intolerant encyclopedia.  Temporary\"\n",
      "\n",
      "\n",
      " ################################################################################ \n",
      "\n",
      "\n",
      "\"NEWLINENEWLINE{| class=\"\"messagebox standard-talk\"\" style=\"\"width: auto;\"\"NEWLINE|-NEWLINE| [[Image:Puppeter_template.gif|50px| ]]NEWLINE| <center>'''This user is a [[Wikipedia:Sock puppet|sock puppet]] of [[User:Jazzper|Jazzper]]''', as established by evidence <br />[[User:Phoenix7]], and has been [[Wikipedia:Blocking policy|blocked indefinitely]].'''</br><small><div class=plainlinks>See [[Special:Contributions/{{PAGENAMEE}}|contribs]] — [{{fullurl:Special:Log|type=move&user={{PAGENAMEE}}}} page moves] — [{{fullurl:Special:Log|&user={{PAGENAMEE}}}} all logs] — [{{fullurl:Special:Log/block|page=User:{{PAGENAMEE}}}} block log]</small></center>NEWLINE| [[Image:Octagon-warning.png|50px| ]]NEWLINE|}NEWLINE[[Category:Wikipedia:Sock puppets|{{PAGENAME}}]][[Category:Wikipedia:Sock puppets of Jazzper|{{PAGENAME}}]]\"\n",
      "________________________________________________________________________________\n",
      "\"\n",
      "\n",
      " 50px|  <center>This user is a sock puppet of Jazzper, as established by evidence User:Phoenix7, and has been blocked indefinitely.'''<div class=plainlinks>See contribs — [ page moves] — [ all logs] — [ block log]</center> 50px| \n",
      "\"\n",
      "\n",
      "\n",
      " ################################################################################ \n",
      "\n",
      "\n",
      "\"NEWLINENEWLINENEWLINE==Blocked==NEWLINE<table cellspacing=\"\"0\"\" cellpadding=\"\"0\"\" border=\"\"0\"\"><tr><td WRAP>[[Image:Octagon-warning.svg|left|30px]] You have been temporarily [[Wikipedia:Blocking policy|blocked]] from editing for vandalism of Wikipedia. If you wish to make useful contributions, you may do so after the block expires.<!-- {{blocked}} --></td></tr></table> [[User:Royboycrashfan|Roy]] [[User talk:Royboycrashfan|A]].[[Special:Contributions/Royboycrashfan|A]]. 23:27, 10 July 2006 (UTC)NEWLINENEWLINEYou can not remove block warnings from your userpage. Try it again and watch the ability to edit your talk page go away.--'''[[User:God_of_War|God]] <FONT FACE=\"\"Book Antiqua\"\">Ω</font> [[User Talk:God_of_War| War]]''' 23:52, 10 July 2006 (UTC)\"\n",
      "________________________________________________________________________________\n",
      "\"\n",
      "\n",
      "Blocked\n",
      "left|30px You have been temporarily blocked from editing for vandalism of Wikipedia. If you wish to make useful contributions, you may do so after the block expires. Roy A.A. 23:27, 10 July 2006 (UTC)\n",
      "\n",
      "You can not remove block warnings from your userpage. Try it again and watch the ability to edit your talk page go away.--God Ω  War 23:52, 10 July 2006 (UTC)\"\n",
      "\n",
      "\n",
      " ################################################################################ \n",
      "\n",
      "\n",
      "NEWLINENEWLINE== == Block == ==NEWLINENEWLINE[[Image:Octagon-warning.png|left|30px| ]]You have been temporarily blocked for violation of the [[Wikipedia:Three-revert rule|three-revert rule]]. Please feel free to return after the block expires, but also please make an effort to discuss your changes further in the future. <!-- Template:3RR3 --> [[User:Stifle|Stifle]] 21:19, 27 March 2006 (UTC)NEWLINENEWLINE::: Could you, please, make an explanation for why I am still blocked  ? I have already been blocked for 48 hours. I wasn't blocked at the morning. Some how, I am still blocked. I will be waiting for your explanation. --[[User:TuzsuzDeliBekir|TuzsuzDeliBekir]] 15:44, 30 March 2006 (UTC)\n",
      "________________________________________________________________________________\n",
      " == Block == \n",
      "\n",
      "left|30px| You have been temporarily blocked for violation of the three-revert rule. Please feel free to return after the block expires, but also please make an effort to discuss your changes further in the future.  Stifle 21:19, 27 March 2006 (UTC)\n",
      "\n",
      " Could you, please, make an explanation for why I am still blocked  ? I have already been blocked for 48 hours. I wasn't blocked at the morning. Some how, I am still blocked. I will be waiting for your explanation. --TuzsuzDeliBekir 15:44, 30 March 2006 (UTC)\n",
      "\n",
      "\n",
      " ################################################################################ \n",
      "\n",
      "\n",
      "\"NEWLINENEWLINE==Personal attacks ==NEWLINERegarding comments made toward [[User:Whitemanners]] about his intellectual capabilities.NEWLINENEWLINE[[Image:Octagon-warning.png|left|30px]]You have been temporarily blocked from editing for disrupting Wikipedia by making [[Wikipedia:No personal attacks|personal attacks]]. If you wish to make useful contributions, you are welcome to come back after the block expires. <!-- Template:Npa5 -->'''[[User:Blnguyen|Blnguyen]]''' | [[User talk:Blnguyen|rant-line]] 03:09, 3 July 2006 (UTC)NEWLINENEWLINE:Oh, bugger off. \"\"Whitemanners\"\" had been harassing me and making questionable claims about me on various pages throughout Wikipedia. As far as I am concerned, you are condoning his disgusting behaviour. [[User:Phanatical|Phanatical]] 19:16, 3 July 2006 (UTC)\"\n",
      "________________________________________________________________________________\n",
      "\"\n",
      "\n",
      "Personal attacks \n",
      "Regarding comments made toward User:Whitemanners about his intellectual capabilities.\n",
      "\n",
      "left|30pxYou have been temporarily blocked from editing for disrupting Wikipedia by making personal attacks. If you wish to make useful contributions, you are welcome to come back after the block expires. Blnguyen | rant-line 03:09, 3 July 2006 (UTC)\n",
      "\n",
      "Oh, bugger off. \"\"Whitemanners\"\" had been harassing me and making questionable claims about me on various pages throughout Wikipedia. As far as I am concerned, you are condoning his disgusting behaviour. Phanatical 19:16, 3 July 2006 (UTC)\"\n",
      "\n",
      "\n",
      " ################################################################################ \n",
      "\n",
      "\n",
      "\"NEWLINENEWLINE{| class=\"\"messagebox standard-talk\"\" style=\"\"padding:5px; width:40%; text-align:left;\"\"|align=\"\"center\"\"NEWLINE|[[Image:Octagon-warning.png|50px]] || width=\"\"100%\"\"|'''This user [[User:Jimbo Wales]] has been [[Wikipedia:Blocking policy|blocked indefinitely]] from editing Wikigadugi, per ruling of Wikigadugi administrators, [[User:Gadugi|Gadugi]] and/or the Wikigadugi Arbitration_Committee. <small>See <span class=\"\"plainlinks\"\">[{{SERVER}}{{localurl:Special:Log/block|page=User:{{PAGENAMEE}}}} block log].</span></small><includeonly>[[Category:Wikigadugi:Indefinitely blocked users|{{PAGENAME}}]]</includeonly><noinclude>NEWLINE|-NEWLINE| colspan=\"\"2\"\" style=\"\"border-top:1px solid black;\"\"|NEWLINEThis template adds articles to [[:Category:Wikipedia:Indefinitely blocked users]]NEWLINE</noinclude>NEWLINE|}\"\n",
      "________________________________________________________________________________\n",
      "\"\n",
      "\n",
      "50px '''This user User:Jimbo Wales has been blocked indefinitely from editing Wikigadugi, per ruling of Wikigadugi administrators, Gadugi and/or the Wikigadugi Arbitration_Committee. See [ block log].|-\n",
      "| colspan=\"\"2\"\" style=\"\"border-top:1px solid black;\"\"|\n",
      "This template adds articles to :Category:Wikipedia:Indefinitely blocked users\"\n",
      "\n",
      "\n",
      " ################################################################################ \n",
      "\n",
      "\n",
      "\"NEWLINE{| class=\"\"messagebox standard-talk\"\" style=\"\"width: auto;\"\"NEWLINE|-NEWLINE| [[Image:Octagon-warning.png|45px]]NEWLINE| '''This user is a suspected [[Wikipedia:Sock puppetry|sock puppet]] of [[Wikipedia:Long term abuse/Willy on Wheels|Willy on Wheels]]''', and has been [[Wikipedia:Blocking policy|blocked indefinitely]].<br><small>See [{{SERVER}}{{localurl:Special:Log/block|page=User:{{PAGENAMEE}}}} block log]. Please do not [[wikipedia:subst|subst]] this template. </small>[[Category:Wikipedia:Suspected sockpuppets of Willy on Wheels|{{PAGENAME}}]]NEWLINE|}\"\n",
      "________________________________________________________________________________\n",
      "\"\n",
      " 45px This user is a suspected sock puppet of Willy on Wheels, and has been blocked indefinitely.See [ block log]. Please do not subst this template. \"\n",
      "\n",
      "\n",
      " ################################################################################ \n",
      "\n",
      "\n",
      "\"[[Image:Stop_hand.svg|left|30px]] This is your '''last warning'''. The next time you [[Wikipedia:Vandalism|vandalize]] a user's page, as you did with [[:User:DragonflySixtyseven]], you ''will'' be [[Wikipedia:Blocking policy|blocked]] from editing Wikipedia.<!-- Template:Tpv4-n (Fourth level warning) -->  -- [[User:Gogo Dodo|Gogo Dodo]] 19:17, 14 July 2006 (UTC)NEWLINENEWLINENEWLINE:<div style=\"\"clear: both\"\"></div>{{{1|[[Image:Octagon-warning.svg|left|30px| ]] }}}'''You have been temporarily [[Wikipedia:Blocking policy|blocked]] from editing for vandalism of Wikipedia.''' Please note that page blanking, addition of random text or spam, deliberate misinformation, privacy violations, and repeated and blatant violation of [[Wikipedia:Neutral point of view|WP:NPOV]] are considered [[WP:VAND|vandalism]]. If you wish to make useful contributions, you may come back after the block expires. <!-- Template:Test5 -->  [[User:Petros471|Petros471]] 19:45, 14 July 2006 (UTC)NEWLINENEWLINE\"\n",
      "________________________________________________________________________________\n",
      "\"left|30px This is your last warning. The next time you vandalize a user's page, as you did with :User:DragonflySixtyseven, you will be blocked from editing Wikipedia.  -- Gogo Dodo 19:17, 14 July 2006 (UTC)\n",
      "\n",
      "left|30px|  You have been temporarily blocked from editing for vandalism of Wikipedia. Please note that page blanking, addition of random text or spam, deliberate misinformation, privacy violations, and repeated and blatant violation of WP:NPOV are considered vandalism. If you wish to make useful contributions, you may come back after the block expires.   Petros471 19:45, 14 July 2006 (UTC)\n",
      "\n",
      "\"\n",
      "\n",
      "\n",
      " ################################################################################ \n",
      "\n",
      "\n",
      "\"NEWLINENEWLINE== Do not remove warnings from your talk page ==NEWLINE<div class=\"\"user-block\"\" style=\"\"clear:both;\"\">[[Image:Octagon-warning.svg|30px|left]] '''You have been [[Wikipedia:Blocking policy|blocked]] from editing Wikipedia for repeated [[Wikipedia:Vandalism|vandalism]].''' If or when the block expires, feel free to come back, but please make useful contributions instead, and refrain from vandalizing or this account will face longer blocks, and action could be taken against the individual who uses it. <!-- Template:test6 (post-block warning) -->  [[User:Lordkazan|Lordkazan]] 15:45, 14 September 2006 (UTC)\"\n",
      "________________________________________________________________________________\n",
      "\"\n",
      "\n",
      " Do not remove warnings from your talk page \n",
      "<div class=\"\"user-block\"\" style=\"\"clear:both;\"\">30px|left You have been blocked from editing Wikipedia for repeated vandalism. If or when the block expires, feel free to come back, but please make useful contributions instead, and refrain from vandalizing or this account will face longer blocks, and action could be taken against the individual who uses it.   Lordkazan 15:45, 14 September 2006 (UTC)\"\n",
      "\n",
      "\n",
      " ################################################################################ \n",
      "\n",
      "\n",
      "\"NEWLINENEWLINE== Do not remove warnings from your talk page ==NEWLINE<div class=\"\"user-block\"\" style=\"\"clear:both;\"\">[[Image:Octagon-warning.svg|30px|left]] '''You have been [[Wikipedia:Blocking policy|blocked]] from editing Wikipedia for repeated [[Wikipedia:Vandalism|vandalism]].''' If or when the block expires, feel free to come back, but please make useful contributions instead, and refrain from vandalizing or this account will face longer blocks, and action could be taken against the individual who uses it. <!-- Template:test6 (post-block warning) -->  [[User:Lordkazan|Lordkazan]] 15:46, 14 September 2006 (UTC)\"\n",
      "________________________________________________________________________________\n",
      "\"\n",
      "\n",
      " Do not remove warnings from your talk page \n",
      "<div class=\"\"user-block\"\" style=\"\"clear:both;\"\">30px|left You have been blocked from editing Wikipedia for repeated vandalism. If or when the block expires, feel free to come back, but please make useful contributions instead, and refrain from vandalizing or this account will face longer blocks, and action could be taken against the individual who uses it.   Lordkazan 15:46, 14 September 2006 (UTC)\"\n",
      "\n",
      "\n",
      " ################################################################################ \n",
      "\n",
      "\n",
      "\"NEWLINENEWLINE== User notice: temporary 3RR block ==NEWLINENEWLINE<div style=\"\"background-color: #f9f9f9; border: 1px solid red; padding: 3px;\"\">NEWLINE:<div class=\"\"user-block\"\"> [[Image:Octagon-warning.svg|left|30px| ]]NEWLINEYou have been temporarily blocked for violation of the [[Wikipedia:Three-revert rule|three-revert rule]]. Please feel free to return after the block expires, but also please make an effort to discuss your changes further in the future.</div><!-- Template:3RR5 --> The duration of the [http://en.wikipedia.org/w/index.php?title=Special%3ALog&type=block&user=&page=User:Emir_Arven&action=edit&section=new block] is 72 hours. [http://en.wikipedia.org/w/index.php?title=Alija_Izetbegović&action=history Here] are the reverts in question. [[User:Aksi_great|Aksi_great]] ([[User_talk:Aksi_great|talk]]) 11:22, 11 February 2007 (UTC)</div>NEWLINENEWLINE:::You didn't count well. Check it again! This is misuse of admin rights! [[User:Emir Arven|Emir Arven]] 11:27, 11 February 2\n",
      "________________________________________________________________________________\n",
      "\"\n",
      "\n",
      " User notice: temporary 3RR block \n",
      "\n",
      " left|30px| \n",
      "You have been temporarily blocked for violation of the three-revert rule. Please feel free to return after the block expires, but also please make an effort to discuss your changes further in the future. The duration of the block is 72 hours. Here are the reverts in question. Aksi_great (talk) 11:22, 11 February 2007 (UTC)\n",
      "\n",
      "You didn't count well. Check it again! This is misuse of admin rights! Emir Arven 11:27, 11 February 2\n",
      "\n",
      "\n",
      " ################################################################################ \n",
      "\n",
      "\n",
      "\"NEWLINENEWLINE:At least Killer Chihuahua had the decency to announce the block in a formal manner and answer my questions...like this<br>NEWLINE{| NEWLINE|-NEWLINE| valign=\"\"top\"\" style=\"\"padding: 0.1em\"\" | [[Image:Octagon-warning.png|35px| ]]NEWLINE| style=\"\"padding: 0.1em\"\" | NEWLINE'''You have been [[Wikipedia:Blocks|blocked]]''' in accordance with [[Wikipedia:Blocking policy|Wikipedia's blocking policy]] for violating policy against [[WP:NPA|no personal attacks]]. To contest this block, please reply here on your '''talk page''' by adding the text <nowiki>{{unblock}}</nowiki> along with the reason you believe the block is unjustified, or email the blocking administrator or any administrator from [[Wikipedia:List of administrators|this list]].<br>NEWLINE:''Note to [[Wikipedia:Administrators|sysops]]:'' Unblocking yourself should almost ''never'' be done. If you disagree with the block, contact another administrator.NEWLINE|}NEWLINE[[User:KillerChihuahua|KillerChihuahua]]<sup>[[User \n",
      "________________________________________________________________________________\n",
      "\"\n",
      "\n",
      "At least Killer Chihuahua had the decency to announce the block in a formal manner and answer my questions...like this\n",
      " 35px|  \n",
      "You have been blocked in accordance with Wikipedia's blocking policy for violating policy against no personal attacks. To contest this block, please reply here on your talk page by adding the text {{unblock}} along with the reason you believe the block is unjustified, or email the blocking administrator or any administrator from this list.\n",
      "Note to sysops: Unblocking yourself should almost never be done. If you disagree with the block, contact another administrator.\n",
      "KillerChihuahua<sup>[[User \n",
      "\n",
      "\n",
      " ################################################################################ \n",
      "\n",
      "\n",
      "\"NEWLINENEWLINE== [[:Talk:Biff Rose]] ==NEWLINENEWLINE{| align=\"\"center\"\" class=\"\"notice noprint\"\" style=\"\"background: #ffe1a7; border: 1px solid #aaa; padding: 0.1em; margin: 0.5em auto;\"\"NEWLINE|-NEWLINE| valign=\"\"top\"\" style=\"\"padding: 0.1em\"\" | [[Image:Octagon-warning.png|40px| ]]NEWLINE| style=\"\"padding: 0.1em\"\" |NEWLINE'''''Blocked''''' NEWLINE----NEWLINE'''''You have been [[Wikipedia:Blocking policy|blocked]]''''' for [[WP:VAND|vandalism]] for 24 hours.NEWLINENEWLINETo contest this block, add the text <code><nowiki>{{unblock}}</nowiki></code> on this page, along with an explanation of why you believe this block to be unjustified. You can also email the blocking administrator or any administrator from [[Wikipedia:List of administrators|this list]]. Please be sure to include your [[Wikipedia:Username|username]] and [[IP address]] in your email.NEWLINENEWLINE'''Do not erase this page or any of the warnings on it'''. Doing so is also considered vandalism.NEWLINE|}NEWLINENext time yo\n",
      "________________________________________________________________________________\n",
      "\"\n",
      "\n",
      " :Talk:Biff Rose \n",
      "\n",
      " 40px| Blocked \n",
      "\n",
      "You have been blocked for vandalism for 24 hours.\n",
      "\n",
      "To contest this block, add the text {{unblock}} on this page, along with an explanation of why you believe this block to be unjustified. You can also email the blocking administrator or any administrator from this list. Please be sure to include your username and IP address in your email.\n",
      "\n",
      "Do not erase this page or any of the warnings on it. Doing so is also considered vandalism.\n",
      "Next time yo\n",
      "\n",
      "\n",
      " ################################################################################ \n",
      "\n",
      "\n",
      "\"NEWLINENEWLINE==Vandalism==NEWLINE<div style=\"\"clear: both\"\"></div>{{{2|[[Image:Octagon-warning.svg|left|30px| ]] }}}'''You have been temporarily [[Wikipedia:Blocking policy|blocked]] from editing {{#if:{{{1|}}}|for a period of {{{1|}}}}} for vandalism of Wikipedia.''' Please note that page blanking, addition of random text or spam, deliberate misinformation, privacy violations, and other deliberate attempts to disrupt Wikipedia are considered [[WP:VAND|vandalism]]. If you wish to make useful contributions, you may come back after the block expires. <!-- Template:Test5 -->  [[User:Billybill|Billybill]] 13:52, 8 November 2006 (UTC)\"\n",
      "________________________________________________________________________________\n",
      "\"\n",
      "\n",
      "Vandalism\n",
      "left|30px|  You have been temporarily blocked from editing  for vandalism of Wikipedia. Please note that page blanking, addition of random text or spam, deliberate misinformation, privacy violations, and other deliberate attempts to disrupt Wikipedia are considered vandalism. If you wish to make useful contributions, you may come back after the block expires.   Billybill 13:52, 8 November 2006 (UTC)\"\n",
      "\n",
      "\n",
      " ################################################################################ \n",
      "\n",
      "\n",
      "\"<div style=\"\"clear: both\"\"></div>{{{1|[[Image:Octagon-warning.svg|left|30px| ]] }}}\"\n",
      "________________________________________________________________________________\n",
      "\"left|30px|  \"\n",
      "\n",
      "\n",
      " ################################################################################ \n",
      "\n",
      "\n",
      "\"NEWLINENEWLINENEWLINE== Blocked for 3RR ==NEWLINENEWLINE{| class=\"\"user-block\"\"NEWLINE|| [[Image:Octagon-warning.png|left|30px| ]]NEWLINE|| You have been temporarily blocked for violation of the [[Wikipedia:Three-revert rule|three-revert rule]]. Please feel free to return after the block expires, but also please make an effort to discuss your changes further in the future. NEWLINE|}<!-- Template:3RR5 --> [[User:King of Hearts|King of]] [[User:King of Hearts|<font color=\"\"red\"\">&hearts;</font>]] [[User talk:King of Hearts|<font color=\"\"red\"\">&diams;</font>]] [[Special:Contributions/King of Hearts|<font color=\"\"black\"\">&clubs;</font>]] [[Special:Emailuser/King of Hearts|<font color=\"\"black\"\">&spades;</font>]] 05:16, 25 June 2006 (UTC)\"\n",
      "________________________________________________________________________________\n",
      "\"\n",
      "\n",
      " Blocked for 3RR \n",
      "\n",
      " left|30px|  You have been temporarily blocked for violation of the three-revert rule. Please feel free to return after the block expires, but also please make an effort to discuss your changes further in the future.  King of ♥ ♦ ♣ ♠ 05:16, 25 June 2006 (UTC)\"\n",
      "\n",
      "\n",
      " ################################################################################ \n",
      "\n",
      "\n",
      "\"==Blocked for using a sockpuppet==NEWLINE{| class=\"\"messagebox standard-talk\"\" style=\"\"width: auto;\"\"NEWLINE|-NEWLINE| [[Image:Octagon-warning.png|50px| ]]NEWLINE| <center>'''It has been established that you engaged in [[Wikipedia:Sock puppet|sockpuppetry]]''' by evidence presented here:<br />[[Wikipedia:Suspected sock puppets/CltFn]], and you are therefore [[Wikipedia:Blocking policy|blocked]] for period of 48 hours (two days).<br />You're welcome to make ''useful'' contributions after the block expires.</center>NEWLINE| [[Image:Puppeter_template.gif|50px| ]]NEWLINE|} <font color=\"\"#007FFF\"\">[[User:Kilo-Lima|Iola]]</font>'''[[User:Kilo-Lima/Esperanza|<font color=\"\"#50C878\"\">k</font>]]'''<font color=\"\"#007FFF\"\">[[User:Kilo-Lima|ana]]</font>•<font color=\"\"orange\"\">[[User talk:Kilo-Lima|T]]</font> 17:37, 9 September 2006 (UTC)NEWLINE== Documenting [[user:BhaiSaab]] 's witch hunt == NEWLINEThe notice must stay on your userpage. [[user:BhaiSaab|BhaiSaab]] <sup>[[user talk:BhaiSaab|talk]]<\n",
      "________________________________________________________________________________\n",
      "\"==Blocked for using a sockpuppet==\n",
      " 50px|  It has been established that you engaged in sockpuppetry by evidence presented here:Wikipedia:Suspected sock puppets/CltFn, and you are therefore blocked for period of 48 hours (two days).You're welcome to make useful contributions after the block expires. 50px|  Iolakana•T 17:37, 9 September 2006 (UTC)\n",
      " Documenting user:BhaiSaab 's witch hunt  \n",
      "The notice must stay on your userpage. BhaiSaab <sup>talk<\n",
      "\n",
      "\n",
      " ################################################################################ \n",
      "\n",
      "\n",
      "NEWLINENEWLINE[[Image:Octagon-warning.png|left|30px]] You have been temporarily [[Wikipedia:Blocking policy|blocked]] from editing for vandalism of Wikipedia. If you wish to make useful contributions, you may do so after the block expires.<!-- {{blocked}} -->\n",
      "________________________________________________________________________________\n",
      "left|30px You have been temporarily blocked from editing for vandalism of Wikipedia. If you wish to make useful contributions, you may do so after the block expires.\n",
      "\n",
      "\n",
      " ################################################################################ \n",
      "\n",
      "\n",
      "\"'''This is an archive of messages left on [[User talk:RichardHarrold|the talk page]] for [[User:RichardHarrold]]. To leave a new message, [http://en.wikipedia.org/w/index.php?title=User_talk:RichardHarrold&action=edit&section=new click here].'''NEWLINE==Block==NEWLINENEWLINE<div class=\"\"user-block\"\">[[Image:Octagon-warning.png|left|30px]]You have been temporarily [[Wikipedia:Blocking policy|blocked]] from editing for vandalism of Wikipedia. If you wish to make useful contributions, you may do so after the block expires. <!-- {{blocked}} --> </div> [[User:RexNL|RexNL]] 21:39, 10 March 2006 (UTC)NEWLINENEWLINE:I'm very confused; I have a note on my talk page from you about being blocked, but http://en.wikipedia.org/w/index.php?title=Special%3ALog&type=block&user=&page=User%3ARichardHarrold your blocklog] shows that you've never been blocked. Could you give me a bit more information; was it another account that I blocked? Did the block reason say \"\"Autoblocked because your IP has been re\n",
      "________________________________________________________________________________\n",
      "\"This is an archive of messages left on the talk page for User:RichardHarrold. To leave a new message, click here.\n",
      "Block\n",
      "\n",
      "left|30pxYou have been temporarily blocked from editing for vandalism of Wikipedia. If you wish to make useful contributions, you may do so after the block expires.   RexNL 21:39, 10 March 2006 (UTC)\n",
      "\n",
      "I'm very confused; I have a note on my talk page from you about being blocked, but http://en.wikipedia.org/w/index.php?title=Special%3ALog&type=block&user=&page=User%3ARichardHarrold your blocklog] shows that you've never been blocked. Could you give me a bit more information; was it another account that I blocked? Did the block reason say \"\"Autoblocked because your IP has been re\n",
      "\n",
      "\n",
      " ################################################################################ \n",
      "\n",
      "\n"
     ]
    }
   ],
   "source": [
    "show_comments( find_pattern(d_excluded, patterns[0], 'diff'), 100)"
   ]
  }
 ],
 "metadata": {
  "kernelspec": {
   "display_name": "Python 3",
   "language": "python",
   "name": "python3"
  },
  "language_info": {
   "codemirror_mode": {
    "name": "ipython",
    "version": 3
   },
   "file_extension": ".py",
   "mimetype": "text/x-python",
   "name": "python",
   "nbconvert_exporter": "python",
   "pygments_lexer": "ipython3",
   "version": "3.5.1"
  }
 },
 "nbformat": 4,
 "nbformat_minor": 0
}
