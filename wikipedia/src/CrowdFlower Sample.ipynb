{
 "cells": [
  {
   "cell_type": "code",
   "execution_count": 1,
   "metadata": {
    "collapsed": false
   },
   "outputs": [],
   "source": [
    "%load_ext autoreload\n",
    "%autoreload 2\n",
    "%matplotlib inline\n",
    "import warnings\n",
    "warnings.filterwarnings('ignore')\n",
    "import pandas as pd\n",
    "from db_utils import query_hive_ssh\n",
    "import re\n",
    "import copy"
   ]
  },
  {
   "cell_type": "markdown",
   "metadata": {},
   "source": [
    "# Talk Page Diff Sampling\n",
    "\n",
    "In this notebook we will be taking samples from the full set of user talk page diffs for annotation."
   ]
  },
  {
   "cell_type": "markdown",
   "metadata": {},
   "source": [
    "## Bot Filtering\n",
    "\n",
    "We don't want to include messages from bots in our sample.\n",
    "\n",
    "### Resources\n",
    "- [overview](https://www.mediawiki.org/wiki/Manual:Bots)\n",
    "- [users in bot group](https://en.wikipedia.org/w/index.php?title=Special:ListUsers/bot&offset=BrokenAnchorBot&group=bot)\n",
    "- [user group table docs](https://www.mediawiki.org/wiki/Manual:User_groups_table)\n",
    "- [recent chnages table docs](https://www.mediawiki.org/wiki/Manual:Recentchanges_table)\n",
    "\n",
    "### Summary\n",
    "There is no great way to determine bots. Here are 3 strategies:\n",
    "\n",
    "1. The `recentchnages` table contains 30 days of data and tells you which revisions where made by bots. This is the most reliable data, but there may be a seasonal trend in harassment that biases the sample.\n",
    "\n",
    "2. Check if the user is in the bot group in the `user group` table. Drawbacks are:\n",
    "    - Group membership can change over time. There are many bot-flagged edits by users that are no longer in a user group providing the bot right. Likewise there are many edits not bot-flagged by users that now have the bot right (which they may or may not use for each edit).\n",
    "    - Not all bots are a member of this group (there are other groups that provide this right, sysop, for example).\n",
    "3. Remove users with 'bot|Bot|BOT' in the user_name. Almost all bots in the 'bot' user group fit this pattern, but there will be many false positives. It seems unlikely that these false positives result in biased sample ...\n",
    "\n",
    "For now I will go with option 3."
   ]
  },
  {
   "cell_type": "markdown",
   "metadata": {},
   "source": [
    "## Data Cleaning\n",
    "\n",
    "For now, we basically just strip markup and remove duplicate diffs.\n",
    "\n",
    "##### Steps\n",
    "1. remove dupilicate rev_ids\n",
    "3. remove duplicate diffs\n",
    "4. clean diffs\n",
    "     - ignore diffs with no content added\n",
    "     - replace 'NEWLINE' with '\\n'\n",
    "     - strip mw markup"
   ]
  },
  {
   "cell_type": "code",
   "execution_count": 2,
   "metadata": {
    "collapsed": false
   },
   "outputs": [],
   "source": [
    "months = ['January',\n",
    "          'February',\n",
    "          'March',\n",
    "          'April',\n",
    "          'June',\n",
    "          'July',\n",
    "          'August',\n",
    "          'September',\n",
    "          'October',\n",
    "          'November',\n",
    "          'December',\n",
    "        ]\n",
    "\n",
    "\n",
    "month_or = '|'.join(months)\n",
    "date_p = re.compile('\\d\\d:\\d\\d, \\d?\\d (%s) \\d\\d\\d\\d \\(UTC\\)' % month_or)\n",
    "    \n",
    "def remove_date(comment):\n",
    "    return re.sub(date_p , '', comment )\n",
    "\n",
    "\n",
    "\n",
    "pre_sub_patterns = [\n",
    "                    ('\\[\\[Image:.*?\\]\\]', ''),\n",
    "                    ('<!-- {{blocked}} -->', ''),\n",
    "                    ('NEWLINE', '\\n'),\n",
    "                    ('\\[\\[File:.*?\\]\\]', ''),\n",
    "                    ('\\[\\[User:.*?\\|.*?\\]\\]', ''),\n",
    "                    ('\\(\\[\\[User talk:.*?\\|talk\\]\\]\\)', ''),\n",
    "                   ]\n",
    "\n",
    "post_sub_patterns = [\n",
    "                    ('--', ''),\n",
    "                    (' :', ' '),\n",
    "                    ]\n",
    "\n",
    "def substitute_patterns(s, sub_patterns):\n",
    "    for p, r in sub_patterns:\n",
    "        s = re.sub(p, r, s)\n",
    "    return s\n",
    "\n",
    "def strip_html(s):\n",
    "    s = BeautifulSoup(s, 'html.parser').get_text()\n",
    "    return s\n",
    "\n",
    "\n",
    "def clean(df):\n",
    "    df = copy.deepcopy(df)\n",
    "    df.rename(columns = {'insertion': 'diff'}, inplace = True)\n",
    "    df.dropna(subset = ['diff'], inplace = True)\n",
    "    df['clean_diff'] = df['diff']\n",
    "    \n",
    "    df['clean_diff'] = df['clean_diff'].apply(remove_date)\n",
    "    df['clean_diff'] = df['clean_diff'].apply(lambda x: substitute_patterns(x, pre_sub_patterns))\n",
    "    df['clean_diff'] = df['clean_diff'].apply(strip_mw)\n",
    "    df['clean_diff'] = df['clean_diff'].apply(strip_html)\n",
    "    df['clean_diff'] = df['clean_diff'].apply(lambda x: substitute_patterns(x, post_sub_patterns))\n",
    "\n",
    "\n",
    "    try:\n",
    "        del df['rank']\n",
    "    except:\n",
    "        pass\n",
    "    df.dropna(subset = ['clean_diff'], inplace = True)\n",
    "    df = df[df['clean_diff'] != '']\n",
    "    return df"
   ]
  },
  {
   "cell_type": "code",
   "execution_count": 3,
   "metadata": {
    "collapsed": false
   },
   "outputs": [],
   "source": [
    "#show_comments(clean(df[:100]), 100)"
   ]
  },
  {
   "cell_type": "markdown",
   "metadata": {},
   "source": [
    "## Admin Messages\n",
    "### Administrative Message Types Observed\n",
    "\n",
    "- responses to to valdalism \n",
    "- new user greetings\n",
    "- 5 million articles celebration\n",
    "- speedy deletion\n",
    "- deletion\n",
    "- unfree files\n",
    "- article for creation:\n",
    "- comments with embedded image tags that contain 'warning' or 'information'"
   ]
  },
  {
   "cell_type": "code",
   "execution_count": 4,
   "metadata": {
    "collapsed": true
   },
   "outputs": [],
   "source": [
    "def show_comments(d, n = 10):\n",
    "    for i, r in d[:n].iterrows():\n",
    "        print(r['diff'])\n",
    "        print('_' * 80)\n",
    "        print(r['clean_diff'])\n",
    "        print('\\n\\n', '#' * 80, '\\n\\n')\n",
    "\n",
    "def find_pattern(d, pattern, column):\n",
    "    p = re.compile(pattern)\n",
    "    return d[d[column].apply(lambda x: p.search(x) is not None)]\n",
    "\n",
    "def exclude_pattern(d, pattern, column):\n",
    "    p = re.compile(pattern)\n",
    "    return d[ d[column].apply(lambda x: p.search(x) is None)]\n",
    "\n",
    "def exclude_few_tokens(d, n):\n",
    "    return d[d['clean_diff'].apply(lambda x: len(x.split(' ')) > n)]\n",
    "\n",
    "def exclude_short_strings(d, n):\n",
    "    return d[d['clean_diff'].apply(lambda x: len(x) > n)]  \n",
    "\n",
    "def remove_admin(d, patterns):\n",
    "    d_reduced = copy.deepcopy(d)\n",
    "    for pattern in patterns:\n",
    "        d_reduced = exclude_pattern(d_reduced, pattern, 'diff')\n",
    "    return d_reduced\n",
    "\n",
    "patterns =[\n",
    "    '\\[\\[Image:Octagon-warning',\n",
    "    '\\[\\[Image:Stop',\n",
    "    '\\[\\[Image:Information.',\n",
    "    '\\[\\[Image:Copyright-problem',\n",
    "    '\\[\\[Image:Ambox',\n",
    "    '\\[\\[Image:Broom',\n",
    "    '\\[\\[File:Information',\n",
    "    '\\[\\[File:AFC-Logo_Decline',\n",
    "    '\\[\\[File:Ambox',\n",
    "    '\\[\\[File:Nuvola',\n",
    "    '\\[\\[File:Stop',\n",
    "    '\\[\\[File:Copyright-problem',\n",
    "    '\\[\\[File:Copyright-problem',\n",
    "    '\\[\\[File:Copyright-problem',\n",
    "    '\\[\\[File:Copyright-problem',\n",
    "    '\\|alt=Warning icon\\]\\]',\n",
    "    'The article .* has been \\[\\[Wikipedia:Proposed deletion\\|proposed for deletion\\]\\]',\n",
    "    'Your submission at \\[\\[Wikipedia:Articles for creation\\|Articles for creation\\]\\]',\n",
    "    'A file that you uploaded or altered, .*, has been listed at \\[\\[Wikipedia:Possibly unfree files\\]\\]',\n",
    "    'User:SuggestBot',\n",
    "    '\\[\\[Wikipedia:Criteria for speedy deletion\\|Speedy deletion\\]\\] nomination of',\n",
    "    \"Please stop your \\[\\[Wikipedia:Disruptive editing\\|disruptive editing\\]\\]. If you continue to \\[\\[Wikipedia:Vandalism\\|vandalize\\]\\] Wikipedia, as you did to .*, you may be \\[\\[Wikipedia:Blocking policy\\|blocked from editing\\]\\]\",\n",
    "    \"Hello.*and.*\\[\\[Project:Introduction\\|welcome\\]\\].* to Wikipedia!\",\n",
    "    'Nomination of .* for deletion',\n",
    "    '== Welcome to Wikipedia! ==',\n",
    "    '== Welcome! ==',\n",
    "    '== 5 Million: We celebrate your contribution ==',\n",
    "    ]"
   ]
  },
  {
   "cell_type": "code",
   "execution_count": 5,
   "metadata": {
    "collapsed": false
   },
   "outputs": [],
   "source": [
    "#d['diff'].apply(lambda x: re.search('\\[\\[Image(.*?)\\]\\].*', x)).dropna().apply(lambda x:x.group(1)).value_counts().head(50)\n",
    "#d['diff'].apply(lambda x: re.search('\\[\\[File:(.*?)\\]\\].*', x)).dropna().apply(lambda x:x.group(1)).value_counts().head(50)\n",
    "#show_comments(find_pattern(d,'\\|alt=Warning icon\\]\\]', 'diff' ), 100)"
   ]
  },
  {
   "cell_type": "markdown",
   "metadata": {},
   "source": [
    "# Post Based Random Sample\n",
    "Consider comments made since min_timestamp. Take n random comments from non-bot users."
   ]
  },
  {
   "cell_type": "code",
   "execution_count": 83,
   "metadata": {
    "collapsed": true
   },
   "outputs": [],
   "source": [
    "n = 100000\n",
    "min_timestamp = '2014-03-01T00:00:00Z'"
   ]
  },
  {
   "cell_type": "code",
   "execution_count": 84,
   "metadata": {
    "collapsed": false
   },
   "outputs": [],
   "source": [
    "query = \"\"\"\n",
    "SELECT \n",
    "    diffs.*\n",
    "FROM\n",
    "    enwiki.user_talk_diff_no_admin diffs\n",
    "WHERE\n",
    "    rev_timestamp > '%(min_timestamp)s'\n",
    "    AND user_text != 'MediaWiki message delivery'\n",
    "    AND user_text != 'Maintenance script'\n",
    "    AND user_text NOT RLIKE 'bot|Bot|BOT'\n",
    "ORDER BY RAND()\n",
    "LIMIT %(n)d\n",
    "\"\"\"\n",
    "\n",
    "params = {\n",
    "    'n': int(n * 1.5),\n",
    "    'min_timestamp': min_timestamp\n",
    "    }\n",
    "\n",
    "df = query_hive_ssh(query % params, 'post_sample.tsv', priority = True, quoting=3, delete = False)\n",
    "df.columns = [c.split('.')[1] for c in df.columns]"
   ]
  },
  {
   "cell_type": "code",
   "execution_count": 85,
   "metadata": {
    "collapsed": false
   },
   "outputs": [
    {
     "name": "stdout",
     "output_type": "stream",
     "text": [
      "Raw: 150000\n",
      "Cleaned:  126017\n",
      "No Admin 126017\n",
      "No Few Words:  103071\n",
      "No Few Chars:  99464\n"
     ]
    }
   ],
   "source": [
    "print('Raw:', df.shape[0])\n",
    "clean_df = clean(df)\n",
    "print('Cleaned: ', clean_df.shape[0])\n",
    "reduced_df = remove_admin(clean_df, patterns)\n",
    "print('No Admin', reduced_df.shape[0])\n",
    "reduced_df = exclude_few_tokens(reduced_df, 3)\n",
    "print('No Few Words: ', reduced_df.shape[0])\n",
    "reduced_df = exclude_short_strings(reduced_df, 20)\n",
    "print('No Few Chars: ', reduced_df.shape[0])"
   ]
  },
  {
   "cell_type": "code",
   "execution_count": 86,
   "metadata": {
    "collapsed": false
   },
   "outputs": [],
   "source": [
    "reduced_df[:1000].to_csv('../data/1k_no_admin_post_sample.tsv', sep = '\\t')\n",
    "reduced_df[:n].to_csv('../data/%dk_no_admin_post_sample.tsv' % (int(n / 1000)), sep = '\\t')"
   ]
  },
  {
   "cell_type": "code",
   "execution_count": 77,
   "metadata": {
    "collapsed": false
   },
   "outputs": [],
   "source": [
    "#show_comments(reduced_df, 100)"
   ]
  },
  {
   "cell_type": "markdown",
   "metadata": {},
   "source": [
    "# User Based Random Sample\n",
    "\n",
    "Consider comments made since min_timestamp. Take up to k random comments from each of n random non-bot users"
   ]
  },
  {
   "cell_type": "code",
   "execution_count": 5,
   "metadata": {
    "collapsed": true
   },
   "outputs": [],
   "source": [
    "k = 5\n",
    "n = 10000\n",
    "min_timestamp = '2014-03-01T00:00:00Z'"
   ]
  },
  {
   "cell_type": "code",
   "execution_count": 6,
   "metadata": {
    "collapsed": false
   },
   "outputs": [],
   "source": [
    "query = \"\"\"\n",
    "SELECT \n",
    "    revisions.*\n",
    "FROM\n",
    "    (SELECT\n",
    "        a.*\n",
    "        FROM\n",
    "        (\n",
    "        SELECT\n",
    "            d.*,\n",
    "            RANK() OVER (PARTITION BY d.user_id ORDER BY RAND()) as rank\n",
    "        FROM\n",
    "            enwiki.user_talk_diff d\n",
    "        WHERE \n",
    "            rev_timestamp > '%(min_timestamp)s'\n",
    "        ) a\n",
    "    WHERE rank <= %(k)d\n",
    "    )\n",
    "    revisions\n",
    "\n",
    "JOIN\n",
    "    (\n",
    "    SELECT\n",
    "        a.*\n",
    "    FROM (\n",
    "        SELECT\n",
    "            user_id,\n",
    "            RAND() as key\n",
    "        FROM\n",
    "            enwiki.user_talk_diff d\n",
    "        WHERE \n",
    "            rev_timestamp > '%(min_timestamp)s'\n",
    "            AND user_text != 'MediaWiki message delivery'\n",
    "            AND user_text != 'Maintenance script'\n",
    "            AND user_text NOT RLIKE 'bot|Bot|BOT'\n",
    "        GROUP BY user_id\n",
    "        ) a\n",
    "    ORDER BY key\n",
    "    LIMIT %(n)d\n",
    "    ) users\n",
    "ON\n",
    "    revisions.user_id = users.user_id\n",
    "\"\"\"\n",
    "\n",
    "params = {\n",
    "    'k': k,\n",
    "    'n': n,\n",
    "    'min_timestamp': min_timestamp\n",
    "    }\n",
    "\n",
    "### DEPRECATED ###\n",
    "#user_sample_df = query_hive_ssh(query % params, 'random_sample.tsv', priority = True, quoting=3)\n",
    "#user_sample_df.columns = [c.split('.')[1] for c in user_sample_df.columns]"
   ]
  },
  {
   "cell_type": "markdown",
   "metadata": {},
   "source": [
    "# Blocked Users\n",
    "For n random user block events that occured after min_timestamp, take up to the k most recent comments before being blocked for harassment or personal attacks."
   ]
  },
  {
   "cell_type": "code",
   "execution_count": 87,
   "metadata": {
    "collapsed": true
   },
   "outputs": [],
   "source": [
    "k = 25\n",
    "n = 150000\n",
    "min_timestamp = '2000-03-01T00:00:00Z'"
   ]
  },
  {
   "cell_type": "code",
   "execution_count": 88,
   "metadata": {
    "collapsed": false
   },
   "outputs": [],
   "source": [
    "query = \"\"\"\n",
    "\n",
    "SELECT\n",
    "    revisions.*\n",
    "FROM\n",
    "    (\n",
    "    SELECT \n",
    "        diffs.*,\n",
    "        RANK() OVER (PARTITION BY events.key, events.user_text ORDER BY diffs.rev_timestamp DESC) as rank\n",
    "    FROM\n",
    "        (\n",
    "        SELECT\n",
    "            a.*\n",
    "        FROM\n",
    "            (\n",
    "            SELECT \n",
    "              log_title as user_text,\n",
    "              log_timestamp,\n",
    "              RAND() as key\n",
    "            FROM enwiki.logging \n",
    "            WHERE\n",
    "              log_type = 'block'\n",
    "              AND log_action = 'block'\n",
    "              AND log_comment RLIKE 'harassment|personal attack'\n",
    "              AND log_timestamp > '%(min_timestamp)s'\n",
    "            ) a\n",
    "        ORDER BY key\n",
    "        LIMIT %(n)d\n",
    "        ) events\n",
    "    JOIN\n",
    "        enwiki.user_talk_diff_no_admin diffs\n",
    "    ON\n",
    "        diffs.user_text = events.user_text\n",
    "    WHERE\n",
    "        diffs.rev_timestamp <= events.log_timestamp\n",
    "    ) revisions\n",
    "WHERE\n",
    "    rank <= %(k)d\n",
    "\"\"\"\n",
    "\n",
    "params = {\n",
    "    'k': k,\n",
    "    'n': n,\n",
    "    'min_timestamp': min_timestamp\n",
    "    }\n",
    "\n",
    "\n",
    "df = query_hive_ssh(query % params, 'blocked_user_random_sample.tsv', priority = True, delete = False, quoting=3)\n",
    "df.columns = [c.split('.')[1] for c in df.columns]"
   ]
  },
  {
   "cell_type": "code",
   "execution_count": 89,
   "metadata": {
    "collapsed": false
   },
   "outputs": [
    {
     "name": "stdout",
     "output_type": "stream",
     "text": [
      "Raw: 24262\n",
      "Cleaned:  21103\n",
      "No Admin 21103\n",
      "No Few Words:  16946\n",
      "No Few Chars:  16505\n"
     ]
    }
   ],
   "source": [
    "print('Raw:', df.shape[0])\n",
    "clean_df = clean(df)\n",
    "print('Cleaned: ', clean_df.shape[0])\n",
    "reduced_df = remove_admin(clean_df, patterns)\n",
    "print('No Admin', reduced_df.shape[0])\n",
    "reduced_df = exclude_few_tokens(reduced_df, 3)\n",
    "print('No Few Words: ', reduced_df.shape[0])\n",
    "reduced_df = exclude_short_strings(reduced_df, 20)\n",
    "print('No Few Chars: ', reduced_df.shape[0])"
   ]
  },
  {
   "cell_type": "code",
   "execution_count": 90,
   "metadata": {
    "collapsed": false
   },
   "outputs": [
    {
     "data": {
      "text/plain": [
       "16"
      ]
     },
     "execution_count": 90,
     "metadata": {},
     "output_type": "execute_result"
    }
   ],
   "source": [
    "k = int(reduced_df.shape[0] / 1000.0)\n",
    "k"
   ]
  },
  {
   "cell_type": "code",
   "execution_count": 91,
   "metadata": {
    "collapsed": true
   },
   "outputs": [],
   "source": [
    "reduced_df[:1000].to_csv('../data/1k_no_admin_blocked_user_post_sample.tsv', sep = '\\t')\n",
    "k = int(reduced_df.shape[0] / 1000.0)\n",
    "reduced_df.to_csv('../data/%dk_no_admin_blocked_user_post_sample.tsv' %  k, sep = '\\t')"
   ]
  },
  {
   "cell_type": "markdown",
   "metadata": {},
   "source": [
    "# Blocked User Longitudinal Data\n",
    "For some users who got blocked for harassment/personal attacks, get all their user talk "
   ]
  },
  {
   "cell_type": "markdown",
   "metadata": {},
   "source": [
    "##### Data QA"
   ]
  },
  {
   "cell_type": "code",
   "execution_count": 50,
   "metadata": {
    "collapsed": false
   },
   "outputs": [],
   "source": [
    "query = \"\"\"\n",
    "SELECT\n",
    "    COUNT(DISTINCT(user_text)) as n\n",
    "FROM\n",
    "    enwiki.blocked_user\n",
    "\"\"\"\n",
    "\n",
    "d = query_hive_ssh(query, 'qa.tsv', priority = True)"
   ]
  },
  {
   "cell_type": "code",
   "execution_count": 51,
   "metadata": {
    "collapsed": false
   },
   "outputs": [
    {
     "name": "stdout",
     "output_type": "stream",
     "text": [
      "Num Users Blocked for Harassment\n",
      "4140\n"
     ]
    }
   ],
   "source": [
    "print('Num Users Blocked for Harassment')\n",
    "print(d['n'].iloc[0])"
   ]
  },
  {
   "cell_type": "code",
   "execution_count": 22,
   "metadata": {
    "collapsed": false
   },
   "outputs": [
    {
     "name": "stdout",
     "output_type": "stream",
     "text": [
      "Num Blocked Users with a revision in:  revision\n",
      "3745 4781051\n",
      "Num Blocked Users with a revision in:  user_talk_revision\n",
      "2891 589562\n",
      "Num Blocked Users with a revision in:  user_talk_diff\n",
      "2824 583755\n",
      "Num Blocked Users with a revision in:  user_talk_diff_no_admin\n",
      "2821 521879\n",
      "Num Blocked Users with a revision in:  blocked_user_talk_diff\n",
      "2824 607881\n",
      "Num Blocked Users with a revision in:  blocked_user_talk_diff_no_admin\n",
      "2821 541429\n"
     ]
    }
   ],
   "source": [
    "tables = [\n",
    "            ('revision', 'rev_user_text'),\n",
    "            ('user_talk_revision', 'rev_user_text'),\n",
    "            ('user_talk_diff', 'user_text'),\n",
    "            ('user_talk_diff_no_admin', 'user_text'),\n",
    "            ('blocked_user_talk_diff', 'user_text'),\n",
    "            ('blocked_user_talk_diff_no_admin', 'user_text'),\n",
    "    ]\n",
    "query = \"\"\"\n",
    "SELECT\n",
    "    b.user_text,\n",
    "    COUNT(*) as n\n",
    "FROM\n",
    "    enwiki.%s t\n",
    "JOIN\n",
    "    enwiki.blocked_user b\n",
    "ON\n",
    "    b.user_text = t.%s\n",
    "GROUP\n",
    "    BY b.user_text\n",
    "\"\"\"\n",
    "\n",
    "for t in tables:\n",
    "    print('Num Blocked Users with a revision in: ', t[0])\n",
    "    d = query_hive_ssh(query % t, 'qa.tsv', priority = True)\n",
    "    print(d.shape[0], d['n'].sum())"
   ]
  },
  {
   "cell_type": "markdown",
   "metadata": {},
   "source": [
    "We have 4.1k users who were blocked for harassment, but only 3.7k have any revision and only 2.8k have a user talk revision. Whats going on?"
   ]
  },
  {
   "cell_type": "code",
   "execution_count": 194,
   "metadata": {
    "collapsed": false
   },
   "outputs": [],
   "source": [
    "query = \"\"\"\n",
    "SELECT\n",
    "    b.user_text\n",
    "FROM\n",
    "    (\n",
    "    SELECT\n",
    "        DISTINCT(%(username)s) as user_text\n",
    "    FROM\n",
    "        enwiki.%(table)s \n",
    "    ) t\n",
    "RIGHT JOIN\n",
    "    enwiki.blocked_user b\n",
    "ON\n",
    "    t.user_text = b.user_text \n",
    "WHERE \n",
    "    t.user_text is NULL\n",
    "\"\"\"\n",
    "params = {\n",
    "    'username': 'rev_user_text',\n",
    "    'table': 'revision'\n",
    "}\n",
    "d = query_hive_ssh(query % params, 'qa.tsv', priority = True)"
   ]
  },
  {
   "cell_type": "code",
   "execution_count": 201,
   "metadata": {
    "collapsed": false
   },
   "outputs": [
    {
     "data": {
      "text/html": [
       "<div>\n",
       "<table border=\"1\" class=\"dataframe\">\n",
       "  <thead>\n",
       "    <tr style=\"text-align: right;\">\n",
       "      <th></th>\n",
       "      <th>b.user_text</th>\n",
       "    </tr>\n",
       "  </thead>\n",
       "  <tbody>\n",
       "    <tr>\n",
       "      <th>0</th>\n",
       "      <td>100.34.12.38</td>\n",
       "    </tr>\n",
       "    <tr>\n",
       "      <th>1</th>\n",
       "      <td>103.27.226.0/24</td>\n",
       "    </tr>\n",
       "    <tr>\n",
       "      <th>2</th>\n",
       "      <td>117.197.156.176</td>\n",
       "    </tr>\n",
       "    <tr>\n",
       "      <th>3</th>\n",
       "      <td>142.162.218.188</td>\n",
       "    </tr>\n",
       "    <tr>\n",
       "      <th>4</th>\n",
       "      <td>148.233.165.0/24</td>\n",
       "    </tr>\n",
       "  </tbody>\n",
       "</table>\n",
       "</div>"
      ],
      "text/plain": [
       "        b.user_text\n",
       "0      100.34.12.38\n",
       "1   103.27.226.0/24\n",
       "2   117.197.156.176\n",
       "3   142.162.218.188\n",
       "4  148.233.165.0/24"
      ]
     },
     "execution_count": 201,
     "metadata": {},
     "output_type": "execute_result"
    }
   ],
   "source": [
    "d.head()"
   ]
  },
  {
   "cell_type": "markdown",
   "metadata": {},
   "source": [
    "I manually checked a bunch of examples in the prod DB and they really don't have any revisions. In some cases, the event happened off wiki (e.g. AOL, MSN). In other cases, maybe the revisions were deleted?"
   ]
  },
  {
   "cell_type": "markdown",
   "metadata": {},
   "source": [
    "#### Sampling\n",
    "How many users can we sample?"
   ]
  },
  {
   "cell_type": "code",
   "execution_count": 6,
   "metadata": {
    "collapsed": false
   },
   "outputs": [],
   "source": [
    "query = \"\"\"\n",
    "SELECT\n",
    "    user_text,\n",
    "    COUNT(*) num_user_talk_revs\n",
    "FROM\n",
    "    enwiki.blocked_user_talk_diff_no_admin\n",
    "GROUP\n",
    "    BY user_text\n",
    "\"\"\"\n",
    "\n",
    "user_talk_revs_per_user_df = query_hive_ssh(query, 'random_sample.tsv', priority = True)\n"
   ]
  },
  {
   "cell_type": "code",
   "execution_count": 9,
   "metadata": {
    "collapsed": false
   },
   "outputs": [
    {
     "data": {
      "text/plain": [
       "1     575\n",
       "2     316\n",
       "3     235\n",
       "4     164\n",
       "5     130\n",
       "6     108\n",
       "7      82\n",
       "8      73\n",
       "9      55\n",
       "10     48\n",
       "Name: num_user_talk_revs, dtype: int64"
      ]
     },
     "execution_count": 9,
     "metadata": {},
     "output_type": "execute_result"
    }
   ],
   "source": [
    "user_talk_revs_per_user_df['num_user_talk_revs'].value_counts().sort_index().head(10)"
   ]
  },
  {
   "cell_type": "code",
   "execution_count": 13,
   "metadata": {
    "collapsed": false
   },
   "outputs": [
    {
     "data": {
      "text/plain": [
       "11462    1\n",
       "11820    1\n",
       "12151    1\n",
       "12799    1\n",
       "13573    1\n",
       "15660    1\n",
       "18568    1\n",
       "19782    1\n",
       "22548    1\n",
       "24568    1\n",
       "Name: num_user_talk_revs, dtype: int64"
      ]
     },
     "execution_count": 13,
     "metadata": {},
     "output_type": "execute_result"
    }
   ],
   "source": [
    "user_talk_revs_per_user_df['num_user_talk_revs'].value_counts().sort_index().tail(10)"
   ]
  },
  {
   "cell_type": "code",
   "execution_count": 29,
   "metadata": {
    "collapsed": false
   },
   "outputs": [
    {
     "name": "stdout",
     "output_type": "stream",
     "text": [
      "Num Users:  2821\n",
      "Num Comments:  521879\n",
      "Num Users with < 1000 Edits:  2737\n",
      "Num Comments from Users with  < 1000 Edits:  122091\n"
     ]
    }
   ],
   "source": [
    "k = 1000\n",
    "print('Num Users: ', user_talk_revs_per_user_df.shape[0])\n",
    "print('Num Comments: ', user_talk_revs_per_user_df['num_user_talk_revs'].sum())\n",
    "\n",
    "print ('Num Users with < %d Edits: ' % k,  user_talk_revs_per_user_df[user_talk_revs_per_user_df['num_user_talk_revs'] < k].shape[0])\n",
    "print('Num Comments from Users with  < %d Edits: ' % k, user_talk_revs_per_user_df[user_talk_revs_per_user_df['num_user_talk_revs'] < k]['num_user_talk_revs'].sum() )"
   ]
  },
  {
   "cell_type": "code",
   "execution_count": 92,
   "metadata": {
    "collapsed": false
   },
   "outputs": [],
   "source": [
    "query = \"\"\"\n",
    "\n",
    "SELECT\n",
    "    diffs.rev_comment,\n",
    "    SUBSTRING(diffs.insertion, 0, 1000) as insertion,\n",
    "    diffs.insert_only,\n",
    "    diffs.rev_id,\n",
    "    diffs.page_id,\n",
    "    diffs.page_title,\n",
    "    diffs.rev_timestamp,\n",
    "    diffs.user_id,\n",
    "    diffs.user_text,\n",
    "    diffs.block_reasons,\n",
    "    diffs.block_timestamps,\n",
    "    diffs.block_actions,\n",
    "    diffs.block_params\n",
    "FROM\n",
    "    enwiki.blocked_user_talk_diff_no_admin diffs\n",
    "JOIN\n",
    "    (\n",
    "    SELECT\n",
    "        user_text\n",
    "    FROM\n",
    "        enwiki.blocked_user_talk_diff\n",
    "    GROUP\n",
    "        BY user_text\n",
    "    HAVING \n",
    "        COUNT(*) < %(max_comments)d\n",
    "    ) users\n",
    "    \n",
    "ON\n",
    "    diffs.user_text = users.user_text\n",
    "\"\"\"\n",
    "\n",
    "params = {\n",
    "    'max_comments': 1000\n",
    "    }\n",
    "\n",
    "try:\n",
    "    df = query_hive_ssh(query % params, 'blocked_user_long.tsv', priority = True, delete = False, quoting=3)\n",
    "except:\n",
    "    pass"
   ]
  },
  {
   "cell_type": "code",
   "execution_count": 93,
   "metadata": {
    "collapsed": false
   },
   "outputs": [],
   "source": [
    "df.columns = [c.replace('diffs.', '') for c in df.columns]"
   ]
  },
  {
   "cell_type": "code",
   "execution_count": 94,
   "metadata": {
    "collapsed": false
   },
   "outputs": [
    {
     "name": "stdout",
     "output_type": "stream",
     "text": [
      "Raw: 113934\n",
      "Cleaned:  101278\n",
      "No Admin 101278\n",
      "No Few Words:  83505\n",
      "No Few Chars:  81490\n"
     ]
    }
   ],
   "source": [
    "print('Raw:', df.shape[0])\n",
    "clean_df = clean(df)\n",
    "print('Cleaned: ', clean_df.shape[0])\n",
    "reduced_df = remove_admin(clean_df, patterns)\n",
    "print('No Admin', reduced_df.shape[0])\n",
    "reduced_df = exclude_few_tokens(reduced_df, 3)\n",
    "print('No Few Words: ', reduced_df.shape[0])\n",
    "reduced_df = exclude_short_strings(reduced_df, 20)\n",
    "print('No Few Chars: ', reduced_df.shape[0])"
   ]
  },
  {
   "cell_type": "code",
   "execution_count": 95,
   "metadata": {
    "collapsed": true
   },
   "outputs": [],
   "source": [
    "reduced_df.to_csv('../data/all_no_admin_blocked_user_long_sample.tsv', sep = '\\t', index = False)"
   ]
  },
  {
   "cell_type": "markdown",
   "metadata": {},
   "source": [
    "# Scratch"
   ]
  },
  {
   "cell_type": "code",
   "execution_count": 13,
   "metadata": {
    "collapsed": false
   },
   "outputs": [],
   "source": [
    "query = \"\"\"\n",
    "SELECT \n",
    "  REGEXP_REPLACE(REGEXP_REPLACE(log_title, '_', ' '), 'User:', '')  as user_text,\n",
    "  log_comment reason,\n",
    "  log_timestamp timestamp,\n",
    "  log_params params\n",
    "FROM enwiki.logging \n",
    "WHERE\n",
    "  log_type = 'block'\n",
    "  AND log_action = 'block'\n",
    "  AND log_comment RLIKE 'harassment|personal attack'\n",
    "\"\"\"\n",
    "\n",
    "df = query_hive_ssh(query , 'block_events.tsv', priority = True, delete = False, quoting=3)"
   ]
  },
  {
   "cell_type": "code",
   "execution_count": 16,
   "metadata": {
    "collapsed": false
   },
   "outputs": [
    {
     "data": {
      "text/plain": [
       "<bound method NDFrame.head of                                    user_text  \\\n",
       "0                            172.166.166.226   \n",
       "1                            200.67.239.0/24   \n",
       "2                            200.67.239.0/24   \n",
       "3                             200.67.239.225   \n",
       "4                            62.219.229.0/24   \n",
       "5                               Trollminator   \n",
       "6                           148.233.165.0/24   \n",
       "7                            200.171.69.0/24   \n",
       "8                            65.219.238.0/24   \n",
       "9                             213.138.128.14   \n",
       "10                             134.22.70.189   \n",
       "11                              134.22.68.75   \n",
       "12                              134.22.68.75   \n",
       "13                             134.22.71.117   \n",
       "14                              134.22.70.98   \n",
       "15                                     Jewjg   \n",
       "16                                 ThinkPink   \n",
       "17                              Peter Phipps   \n",
       "18                                NeverAgain   \n",
       "19                               Abdel Qadir   \n",
       "20                                  Alberuni   \n",
       "21                              Wiesenthaler   \n",
       "22                                Dominotree   \n",
       "23                                    Pravda   \n",
       "24                              Wiesenthaler   \n",
       "25                              Wiesenthaler   \n",
       "26                                  Tohchina   \n",
       "27                                    Pravda   \n",
       "28                                    Pravda   \n",
       "29                                    Bleedy   \n",
       "...                                      ...   \n",
       "4501                           68.228.72.192   \n",
       "4502                           71.224.58.174   \n",
       "4503                          24.114.64.0/18   \n",
       "4504                           74.133.72.224   \n",
       "4505                            108.4.21.140   \n",
       "4506                          72.245.246.219   \n",
       "4507                         142.162.218.188   \n",
       "4508                                 Muntele   \n",
       "4509                          Lilel123456789   \n",
       "4510                            82.19.95.171   \n",
       "4511                                 Power22   \n",
       "4512                           68.48.241.158   \n",
       "4513                                Rokki009   \n",
       "4514                                Keith643   \n",
       "4515                           Jackie.moreno   \n",
       "4516                         107.145.168.243   \n",
       "4517                           206.176.21.28   \n",
       "4518                         117.230.237.227   \n",
       "4519                            32.218.44.25   \n",
       "4520                           173.65.98.185   \n",
       "4521            2601:85:C100:E826:0:0:0:0/64   \n",
       "4522  2607:FB90:D9C:94EC:615B:12C2:F1BE:6C78   \n",
       "4523                              Sir Joseph   \n",
       "4524                          75.166.124.180   \n",
       "4525                                 HJDeuce   \n",
       "4526                             Vaypertrail   \n",
       "4527                                BadCop69   \n",
       "4528                           Tadeusz Nowak   \n",
       "4529                                   F7777   \n",
       "4530                           107.107.58.28   \n",
       "\n",
       "                                                 reason             timestamp  \\\n",
       "0     vandalism (including user pages), personal att...  2004-12-27T03:31:27Z   \n",
       "1                vandalism and personal attack spamming  2004-12-27T20:14:21Z   \n",
       "2     vandalism and personal attack spamming after w...  2004-12-27T20:22:41Z   \n",
       "3                    vandalism and personal attack spam  2004-12-27T20:26:16Z   \n",
       "4                 vandalism and spammed personal attack  2004-12-27T20:29:28Z   \n",
       "5     {{UsernameBlock}} in addition to personal atta...  2004-12-27T22:21:29Z   \n",
       "6                    sollog personal attack spam vandal  2004-12-27T22:38:57Z   \n",
       "7                    sollog personal attack spam vandal  2004-12-27T22:39:27Z   \n",
       "8                    sollog personal attack spam vandal  2004-12-27T22:40:03Z   \n",
       "9                Vandalising articles; personal attacks  2004-12-28T00:44:25Z   \n",
       "10    Last personal attack was to OneGuy: \"GANGSTER-...  2004-12-29T06:01:18Z   \n",
       "11    Last personal attack was to OneGuy: \"GANGSTER-...  2004-12-29T06:03:05Z   \n",
       "12    Last personal attack was to OneGuy: \"GANGSTER-...  2004-12-29T06:03:25Z   \n",
       "13    Last personal attack was to OneGuy: \"GANGSTER-...  2004-12-29T06:03:35Z   \n",
       "14    Last personal attack was to OneGuy: \"GANGSTER-...  2004-12-29T06:03:45Z   \n",
       "15    Sockpuppet of Alberuni, and is being used to e...  2004-12-29T14:36:26Z   \n",
       "16    Sockpuppet of Alberuni, and is being used to e...  2004-12-29T14:39:16Z   \n",
       "17    Sockpuppet of Alberuni, and is being used to e...  2004-12-29T14:39:37Z   \n",
       "18    Sockpuppet of Alberuni, and is being used to e...  2004-12-29T14:39:55Z   \n",
       "19    Sockpuppet of Alberuni, and is being used to e...  2004-12-29T14:40:26Z   \n",
       "20    Massive use of sockpuppets to evade policy on ...  2004-12-29T14:41:08Z   \n",
       "21    Massive use of sockpuppets to evade policy on ...  2004-12-29T15:01:31Z   \n",
       "22                         GNAA vandal/personal attacks  2004-12-30T05:54:49Z   \n",
       "23    Sockpuppet of [[User:Alberuni]] to evade polic...  2004-12-30T21:32:41Z   \n",
       "24    Sockpuppet of Alberuni, and is being used to e...  2004-12-30T22:03:11Z   \n",
       "25    Sockpuppet of Alberuni, and is being used to e...  2004-12-30T22:04:12Z   \n",
       "26    Sollog vandal: personal attacks, user page van...  2004-12-31T19:38:28Z   \n",
       "27    21:32, Dec 30, 2004 David Gerard blocked \"User...  2005-01-01T04:24:08Z   \n",
       "28    21:32, Dec 30, 2004 David Gerard blocked \\\"Use...  2005-01-01T04:35:37Z   \n",
       "29    personal attacks, was warned, has been blocked...  2005-01-14T18:11:28Z   \n",
       "...                                                 ...                   ...   \n",
       "4501  [[WP:No personal attacks|Personal attacks]] or...  2016-02-27T18:32:04Z   \n",
       "4502  [[WP:No personal attacks|Personal attacks]] or...  2016-02-27T19:52:58Z   \n",
       "4503                                   personal attacks  2016-02-27T20:13:35Z   \n",
       "4504  [[WP:No personal attacks|Personal attacks]] or...  2016-02-28T00:13:36Z   \n",
       "4505  [[WP:No personal attacks|Personal attacks]] or...  2016-02-28T09:41:51Z   \n",
       "4506  [[WP:No personal attacks|Personal attacks]] or...  2016-02-28T15:18:52Z   \n",
       "4507  [[WP:No personal attacks|Personal attacks]] or...  2016-02-29T04:21:27Z   \n",
       "4508  [[WP:No personal attacks|Personal attacks]] or...  2016-02-29T15:46:16Z   \n",
       "4509  [[WP:No personal attacks|Personal attacks]] or...  2016-03-01T01:03:31Z   \n",
       "4510                     edit warring, personal attacks  2016-03-01T17:20:44Z   \n",
       "4511            extreme personal attack in edit summary  2016-03-01T20:33:33Z   \n",
       "4512  [[WP:No personal attacks|Personal attacks]] or...  2016-03-01T21:36:30Z   \n",
       "4513  [[WP:No personal attacks|Personal attacks]] or...  2016-03-02T17:47:52Z   \n",
       "4514  [[WP:No personal attacks|Personal attacks]] or...  2016-03-02T18:11:54Z   \n",
       "4515  [[WP:No personal attacks|Personal attacks]] or...  2016-03-03T04:06:08Z   \n",
       "4516  [[WP:No personal attacks|Personal attacks]] or...  2016-03-03T14:55:46Z   \n",
       "4517                       [[WP:Harassment|harassment]]  2016-03-03T16:07:48Z   \n",
       "4518                                    LTA, harassment  2016-03-04T03:09:06Z   \n",
       "4519                harassment, edit-warring to keep it  2016-03-04T12:23:29Z   \n",
       "4520  [[WP:No personal attacks|Personal attacks]] or...  2016-03-04T23:03:45Z   \n",
       "4521  [[WP:No personal attacks|Personal attacks]] or...  2016-03-05T00:12:38Z   \n",
       "4522  [[WP:No personal attacks|Personal attacks]] or...  2016-03-05T08:46:05Z   \n",
       "4523  [[WP:No personal attacks|Personal attacks]] = ...  2016-03-06T16:17:10Z   \n",
       "4524  [[WP:No personal attacks|Personal attacks]] or...  2016-03-06T18:10:19Z   \n",
       "4525  [[WP:No personal attacks|Personal attacks]] or...  2016-03-06T23:37:18Z   \n",
       "4526  [[WP:No personal attacks|Personal attacks]] or...  2016-03-07T21:10:25Z   \n",
       "4527  [[WP:No personal attacks|Personal attacks]] or...  2016-03-07T23:25:16Z   \n",
       "4528  [[WP:Disruptive editing|Disruptive editing]]: ...  2016-03-08T00:51:27Z   \n",
       "4529  [[WP:No personal attacks|Personal attacks]] di...  2016-03-08T03:44:53Z   \n",
       "4530  [[WP:No personal attacks|Personal attacks]] or...  2016-03-08T10:26:02Z   \n",
       "\n",
       "                                                 params  \n",
       "0                                                   NaN  \n",
       "1                                                   NaN  \n",
       "2                                                   NaN  \n",
       "3                                                   NaN  \n",
       "4                                                   NaN  \n",
       "5                                                   NaN  \n",
       "6                                                   NaN  \n",
       "7                                                   NaN  \n",
       "8                                                   NaN  \n",
       "9                                                   NaN  \n",
       "10                                                  NaN  \n",
       "11                                                  NaN  \n",
       "12                                                  NaN  \n",
       "13                                                  NaN  \n",
       "14                                                  NaN  \n",
       "15                                                  NaN  \n",
       "16                                                  NaN  \n",
       "17                                                  NaN  \n",
       "18                                                  NaN  \n",
       "19                                                  NaN  \n",
       "20                                                  NaN  \n",
       "21                                                  NaN  \n",
       "22                                                  NaN  \n",
       "23                                                  NaN  \n",
       "24                                                  NaN  \n",
       "25                                                  NaN  \n",
       "26                                                  NaN  \n",
       "27                                                  NaN  \n",
       "28                                                  NaN  \n",
       "29                                             48 hours  \n",
       "...                                                 ...  \n",
       "4501  a:2:{s:11:\"5::duration\";s:7:\"2 weeks\";s:8:\"6::...  \n",
       "4502  a:2:{s:11:\"5::duration\";s:8:\"31 hours\";s:8:\"6:...  \n",
       "4503  a:2:{s:11:\"5::duration\";s:8:\"48 hours\";s:8:\"6:...  \n",
       "4504  a:2:{s:11:\"5::duration\";s:8:\"31 hours\";s:8:\"6:...  \n",
       "4505  a:2:{s:11:\"5::duration\";s:8:\"31 hours\";s:8:\"6:...  \n",
       "4506  a:2:{s:11:\"5::duration\";s:8:\"31 hours\";s:8:\"6:...  \n",
       "4507  a:2:{s:11:\"5::duration\";s:6:\"1 week\";s:8:\"6::f...  \n",
       "4508  a:2:{s:11:\"5::duration\";s:8:\"48 hours\";s:8:\"6:...  \n",
       "4509  a:2:{s:11:\"5::duration\";s:10:\"indefinite\";s:8:...  \n",
       "4510  a:2:{s:11:\"5::duration\";s:8:\"72 hours\";s:8:\"6:...  \n",
       "4511  a:2:{s:11:\"5::duration\";s:8:\"72 hours\";s:8:\"6:...  \n",
       "4512  a:2:{s:11:\"5::duration\";s:6:\"1 week\";s:8:\"6::f...  \n",
       "4513  a:2:{s:11:\"5::duration\";s:10:\"indefinite\";s:8:...  \n",
       "4514  a:2:{s:11:\"5::duration\";s:10:\"indefinite\";s:8:...  \n",
       "4515  a:2:{s:11:\"5::duration\";s:8:\"infinite\";s:8:\"6:...  \n",
       "4516  a:2:{s:11:\"5::duration\";s:7:\"1 month\";s:8:\"6::...  \n",
       "4517  a:2:{s:11:\"5::duration\";s:8:\"31 hours\";s:8:\"6:...  \n",
       "4518  a:2:{s:11:\"5::duration\";s:8:\"48 hours\";s:8:\"6:...  \n",
       "4519  a:2:{s:11:\"5::duration\";s:8:\"31 hours\";s:8:\"6:...  \n",
       "4520  a:2:{s:11:\"5::duration\";s:8:\"31 hours\";s:8:\"6:...  \n",
       "4521  a:2:{s:11:\"5::duration\";s:7:\"1 month\";s:8:\"6::...  \n",
       "4522  a:2:{s:11:\"5::duration\";s:8:\"48 hours\";s:8:\"6:...  \n",
       "4523  a:2:{s:11:\"5::duration\";s:8:\"24 hours\";s:8:\"6:...  \n",
       "4524  a:2:{s:11:\"5::duration\";s:7:\"2 weeks\";s:8:\"6::...  \n",
       "4525  a:2:{s:11:\"5::duration\";s:10:\"indefinite\";s:8:...  \n",
       "4526  a:2:{s:11:\"5::duration\";s:8:\"48 hours\";s:8:\"6:...  \n",
       "4527  a:2:{s:11:\"5::duration\";s:8:\"infinite\";s:8:\"6:...  \n",
       "4528  a:2:{s:11:\"5::duration\";s:8:\"48 hours\";s:8:\"6:...  \n",
       "4529  a:2:{s:11:\"5::duration\";s:8:\"72 hours\";s:8:\"6:...  \n",
       "4530  a:2:{s:11:\"5::duration\";s:8:\"72 hours\";s:8:\"6:...  \n",
       "\n",
       "[4531 rows x 4 columns]>"
      ]
     },
     "execution_count": 16,
     "metadata": {},
     "output_type": "execute_result"
    }
   ],
   "source": [
    "df.head"
   ]
  },
  {
   "cell_type": "code",
   "execution_count": 377,
   "metadata": {
    "collapsed": true
   },
   "outputs": [],
   "source": [
    "s1 = set(reduced_clean_blocked_user_long_df.index)\n",
    "s2 = set(clean_blocked_user_long_df.index)\n",
    "s3 = s2 - s1\n",
    "d_excluded = clean_blocked_user_long_df.ix[s3]"
   ]
  },
  {
   "cell_type": "code",
   "execution_count": 61,
   "metadata": {
    "collapsed": false
   },
   "outputs": [],
   "source": [
    "#show_comments( find_pattern(d_excluded, patterns[0], 'diff'), 100)"
   ]
  },
  {
   "cell_type": "code",
   "execution_count": 2,
   "metadata": {
    "collapsed": false
   },
   "outputs": [
    {
     "data": {
      "text/plain": [
       "2"
      ]
     },
     "execution_count": 2,
     "metadata": {},
     "output_type": "execute_result"
    }
   ],
   "source": [
    "sum([1, 1])"
   ]
  },
  {
   "cell_type": "code",
   "execution_count": null,
   "metadata": {
    "collapsed": true
   },
   "outputs": [],
   "source": []
  }
 ],
 "metadata": {
  "kernelspec": {
   "display_name": "Python 3",
   "language": "python",
   "name": "python3"
  },
  "language_info": {
   "codemirror_mode": {
    "name": "ipython",
    "version": 3
   },
   "file_extension": ".py",
   "mimetype": "text/x-python",
   "name": "python",
   "nbconvert_exporter": "python",
   "pygments_lexer": "ipython3",
   "version": "3.5.1"
  }
 },
 "nbformat": 4,
 "nbformat_minor": 0
}
