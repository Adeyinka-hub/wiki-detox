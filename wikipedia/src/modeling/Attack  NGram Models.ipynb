{
 "cells": [
  {
   "cell_type": "code",
   "execution_count": 1,
   "metadata": {
    "collapsed": false
   },
   "outputs": [],
   "source": [
    "%load_ext autoreload\n",
    "%autoreload 2\n",
    "%matplotlib inline\n",
    "import warnings\n",
    "warnings.filterwarnings('ignore')\n",
    "\n",
    "from ngram import *\n",
    "from baselines import *\n",
    "from error_analysis import *"
   ]
  },
  {
   "cell_type": "markdown",
   "metadata": {},
   "source": [
    "### Load Annotated Data"
   ]
  },
  {
   "cell_type": "code",
   "execution_count": 2,
   "metadata": {
    "collapsed": false
   },
   "outputs": [],
   "source": [
    "data_filename  = '../../data/v4_annotated/annotated_onion_layer_5_rows_0_to_5000_raters_20.csv'\n",
    "d_b = load_cf_labels(data_filename)\n",
    "d_b = tidy_labels(d_b)\n",
    "\n",
    "data_filename  = '../../data/v4_annotated/annotated_random_data_rows_0_to_5000_raters_20.csv'\n",
    "d_r = load_cf_labels(data_filename)\n",
    "d_r = tidy_labels(d_r)"
   ]
  },
  {
   "cell_type": "code",
   "execution_count": 3,
   "metadata": {
    "collapsed": false
   },
   "outputs": [],
   "source": [
    "l_b = plurality(d_b['attack'].dropna())\n",
    "l_r = plurality(d_r['attack'].dropna())"
   ]
  },
  {
   "cell_type": "code",
   "execution_count": 4,
   "metadata": {
    "collapsed": true
   },
   "outputs": [],
   "source": [
    "data_b = get_labeled_comments(d_b, l_b)\n",
    "data_r = get_labeled_comments(d_r, l_r)"
   ]
  },
  {
   "cell_type": "markdown",
   "metadata": {},
   "source": [
    "### NGram Classification Pipeline"
   ]
  },
  {
   "cell_type": "code",
   "execution_count": 5,
   "metadata": {
    "collapsed": false
   },
   "outputs": [],
   "source": [
    "cv_pipeline = Pipeline([\n",
    "    ('vect', CountVectorizer()),\n",
    "    ('tfidf', TfidfTransformer(sublinear_tf=True,norm='l2')),\n",
    "    ('clf', LinearSVC()),\n",
    "])"
   ]
  },
  {
   "cell_type": "code",
   "execution_count": 6,
   "metadata": {
    "collapsed": true
   },
   "outputs": [],
   "source": [
    "param_grid = {\n",
    "    #'vect__max_df': (0.5, 0.75, 1.0),\n",
    "    'vect__max_features': (None,), #(None, 5000, 10000, 50000),\n",
    "    'vect__ngram_range': ((1,6),(1,5)),  # unigrams or bigrams\n",
    "    #'vect_lowercase': (True, False),\n",
    "    'vect__analyzer' : ('char',), #('word', 'char')\n",
    "    #'tfidf__use_idf': (True, False),\n",
    "    #'tfidf__norm': ('l1', 'l2'),\n",
    "    'clf__C': (0.001, 0.1, 1.0)\n",
    "}"
   ]
  },
  {
   "cell_type": "code",
   "execution_count": 7,
   "metadata": {
    "collapsed": false
   },
   "outputs": [
    {
     "name": "stdout",
     "output_type": "stream",
     "text": [
      "\n",
      "Best parameters set found:\n",
      "{'clf__C': 1.0, 'vect__ngram_range': (1, 6), 'vect__max_features': None, 'vect__analyzer': 'char'} 0.869963338168\n",
      "\n",
      "\n",
      "Grid scores:\n",
      "0.71767 (+/-0.00000) for {'clf__C': 0.001, 'vect__ngram_range': (1, 6), 'vect__max_features': None, 'vect__analyzer': 'char'}\n",
      "0.70889 (+/-0.00000) for {'clf__C': 0.001, 'vect__ngram_range': (1, 5), 'vect__max_features': None, 'vect__analyzer': 'char'}\n",
      "0.86764 (+/-0.00000) for {'clf__C': 0.1, 'vect__ngram_range': (1, 6), 'vect__max_features': None, 'vect__analyzer': 'char'}\n",
      "0.86862 (+/-0.00000) for {'clf__C': 0.1, 'vect__ngram_range': (1, 5), 'vect__max_features': None, 'vect__analyzer': 'char'}\n",
      "0.86996 (+/-0.00000) for {'clf__C': 1.0, 'vect__ngram_range': (1, 6), 'vect__max_features': None, 'vect__analyzer': 'char'}\n",
      "0.86851 (+/-0.00000) for {'clf__C': 1.0, 'vect__ngram_range': (1, 5), 'vect__max_features': None, 'vect__analyzer': 'char'}\n"
     ]
    },
    {
     "data": {
      "text/plain": [
       "0.86781609195402298"
      ]
     },
     "execution_count": 7,
     "metadata": {},
     "output_type": "execute_result"
    }
   ],
   "source": [
    "train, test = split(data_b)\n",
    "model = tune (train['x'], train['y'], cv_pipeline, param_grid, 'roc_auc', n_jobs=8, verbose=True)\n",
    "evaluate(model, test, roc_auc, plot = False)"
   ]
  },
  {
   "cell_type": "code",
   "execution_count": 8,
   "metadata": {
    "collapsed": true
   },
   "outputs": [],
   "source": [
    "optimal_pipeline = Pipeline([\n",
    "    ('vect', CountVectorizer(ngram_range = (1,6))),\n",
    "    ('tfidf', TfidfTransformer(sublinear_tf=True,norm='l2')),\n",
    "    ('clf', LinearSVC(C = 1.0)),\n",
    "])"
   ]
  },
  {
   "cell_type": "markdown",
   "metadata": {},
   "source": [
    "### Error Analysis"
   ]
  },
  {
   "cell_type": "code",
   "execution_count": 9,
   "metadata": {
    "collapsed": false
   },
   "outputs": [],
   "source": [
    "fn, fp = get_clf_errors(model, test)"
   ]
  },
  {
   "cell_type": "code",
   "execution_count": 10,
   "metadata": {
    "collapsed": false,
    "scrolled": true
   },
   "outputs": [
    {
     "name": "stdout",
     "output_type": "stream",
     "text": [
      "COMMENT:\n",
      " I used profanity in my edit summaries, but I didn't know anything was wrong with that. A warning would have worked.  It's the same thing that administrators do. Being blocked for 48 hours is just gay.   \n",
      "SCORES: Actual: 1, Predicted: 0, Score: -1.03\n",
      "\n",
      "\n",
      "COMMENT:\n",
      "maroo doingaroo itaroo becausearoo Iaroo sawaroo somearoo evolutionsaroo inaroo thataroo programaroo andaroo heardaroo thearoo onesaroo thataroo werearoo mentionedaroo, somebodyaroo addedaroo somearoo accordingaroo thingaroo onaroo itaroo whicharoo didaroo notaroo happenaroo inaroo thearoo showaroo\n",
      "SCORES: Actual: 1, Predicted: 0, Score: -0.92\n",
      "\n",
      "\n",
      "COMMENT:\n",
      "You're mad?. Let me complete this article to this sunday, stop this madness with references, images, etc. Let me complete the article please. 190.242.99.226  20:25, 21 May 2013 (UTC)\n",
      "SCORES: Actual: 1, Predicted: 0, Score: -0.88\n",
      "\n",
      "\n",
      "COMMENT:\n",
      "\"Instead of being a lazy prick, and hitting the \"\"revert\"\" button repeatedly, this time maybe you will actually take the time to check the source cited, which is not a realtor website but a PDF from a Sri Lankan court from 2011.Further, removing other information that is not related is vandalizing the article.  How can you go and remove all referrence in the article to the Rood's only legal current use, as area???   \"\n",
      "SCORES: Actual: 1, Predicted: 0, Score: -0.85\n",
      "\n",
      "\n",
      "COMMENT:\n",
      "\"Rude of you to continually disregard my simple request.Please don't post about me.Thanks.- Sinneed \"\n",
      "SCORES: Actual: 1, Predicted: 0, Score: -0.82\n",
      "\n",
      "\n",
      "COMMENT:\n",
      "\"ЗАСУНЬ НОС В ЖОПУ И НЮХАЙ, ПИДАР ЧМО!\"\n",
      "SCORES: Actual: 1, Predicted: 0, Score: -0.73\n",
      "\n",
      "\n",
      "COMMENT:\n",
      "LOL the Free Masons. The world is flat and the universe revolves around Israel. Imagine what planets could have been colonized by now if the world didn't have to stop everytime to ensure their rectal intimacy. The West deserves their punishment called collapse.  \n",
      "SCORES: Actual: 1, Predicted: 0, Score: -0.72\n",
      "\n",
      "\n",
      "COMMENT:\n",
      "cradle of filthAre you unable to understand the text written in large capital letters next to the genre? Do not add Symponic Metal again, it will be removed.   \n",
      "SCORES: Actual: 1, Predicted: 0, Score: -0.69\n",
      "\n",
      "\n",
      "COMMENT:\n",
      "LOOK: User Theresa Knott hates:\n",
      "SCORES: Actual: 1, Predicted: 0, Score: -0.61\n",
      "\n",
      "\n",
      "COMMENT:\n",
      "{{unblock|Hello, I am writing this to request that you duly unblock my IP address from editing wikipedia.  Unfortunately, I am stuck in a class room full of imbeciles, preventing me from editing pages for the benefit of my fellow wikipedians.  Please, do not punish me for the cretinism of my peers and undue this great injustice.  Vive la resistance!\n",
      "SCORES: Actual: 1, Predicted: 0, Score: -0.59\n",
      "\n",
      "\n"
     ]
    }
   ],
   "source": [
    "# extreme False negatives\n",
    "print_clf_errors(fn)"
   ]
  },
  {
   "cell_type": "code",
   "execution_count": 11,
   "metadata": {
    "collapsed": false,
    "scrolled": true
   },
   "outputs": [
    {
     "name": "stdout",
     "output_type": "stream",
     "text": [
      "COMMENT:\n",
      " Big deal. Go ahead and block. I will see to it that you are blocked.\n",
      "SCORES: Actual: 0, Predicted: 1, Score: 0.61\n",
      "\n",
      "\n",
      "COMMENT:\n",
      "Again, KUDOS for advancing the Democratic cause on Wikipedia!  But if that's something you're ashamed of, you should go ahead and ban me.\n",
      "SCORES: Actual: 0, Predicted: 1, Score: 0.58\n",
      "\n",
      "\n",
      "COMMENT:\n",
      "\"I'm just responding likewise.  You insist on double-talk and a lack of integrity and I'll treat you as you deserve.  You accuse me of not fully responding to you prior challenges.  After 2 weeks I'm still want you to explain the Jupiter/Pluto midpoint in your natal chart.  OR GET LOST!!!  Obviously, your \"\"problems\"\" which magnetizes you to a topic which you're not qualified to discuss plus your confession that you haven't studied Astrology PROVES you have \"\"issues\"\" you're not dealing with.   \n",
      "SCORES: Actual: 0, Predicted: 1, Score: 0.40\n",
      "\n",
      "\n",
      "COMMENT:\n",
      "THE CIVIL DISCUSSION WAS IN MY EDIT AND YOU DELETED IT GO AHEAD TAKE AWAY MY EDITING RIGHTS i SPENT 3 HOURS MAKING SHURE i WAS 100% RIGHT AND ANY GREY AREA HAD A FULL EXPLANATION U ARE A LITTLE MAN WHO HAS NO IDEA WHAT HE IS DOING.\n",
      "SCORES: Actual: 0, Predicted: 1, Score: 0.37\n",
      "\n",
      "\n",
      "COMMENT:\n",
      " HELP ME I FEEL LIKE IM GOING TO KILL MYSELF H\n",
      "SCORES: Actual: 0, Predicted: 1, Score: 0.29\n",
      "\n",
      "\n",
      "COMMENT:\n",
      " So you want to block me I really don't care if you are going to block me or not. If you are going to block me, I request that you delete my user page.Thank you in advance.  \n",
      "SCORES: Actual: 0, Predicted: 1, Score: 0.26\n",
      "\n",
      "\n",
      "COMMENT:\n",
      " - It's self-evident that it's unnecessary, stupid and adds nothing. Like yourself!\n",
      "SCORES: Actual: 0, Predicted: 1, Score: 0.25\n",
      "\n",
      "\n",
      "COMMENT:\n",
      " I refer to people's constantly taking the words of Jimbo as policy, the idea of removing any userbox with a political point of view is his point of view.  That's at the core of this problem, you did not notice that an admin skipped over the tfd process and speedied something when there is no rule explicitly against having an opinion in a userbox?  Rather, there is Jimbo saying there shouldn't be any.  I completely understand that he started this, but he is not owner of it, a foundation was set \n",
      "SCORES: Actual: 0, Predicted: 1, Score: 0.22\n",
      "\n",
      "\n",
      "COMMENT:\n",
      "\"For no reason other than I share similar political views. Seems on around here if someone doesn't like you they accuse you of \"\"sock puppetry\"\". Quite ridiculous, the accusers should be punished for lying and false accusations when I am vindicated.   \"\n",
      "SCORES: Actual: 0, Predicted: 1, Score: 0.20\n",
      "\n",
      "\n",
      "COMMENT:\n",
      "SorryΘα ήθελα να ζητήσω συγνώμη για όλο τον μπελά που σε έβαλα με τον Φιουτσερ και τους υπόλοιπους. Τα σχόλια μου ήταν λίγο τραβηγμένα και θα έπρεπε κανονικά να συνεχιστεί όποια συζήτηση στην σελίδα μου. Αν σου ξαναπούν τίποτα παρακαλώ στείλτους στην δικία μου σελίδα ωστε να τους απαντήσω κατάλληλα. Sorry και πάλι, καμία φορά με βγάζουν απο τα ρούχα μου...   \n",
      "SCORES: Actual: 0, Predicted: 1, Score: 0.17\n",
      "\n",
      "\n"
     ]
    }
   ],
   "source": [
    "# extreme False positives\n",
    "print_clf_errors(fp)"
   ]
  },
  {
   "cell_type": "markdown",
   "metadata": {},
   "source": [
    "### Does adding random data improve prediction on blocked data?\n",
    "\n",
    "Incrementally add random data to full blocked data set on training. Eval on held out blocked data."
   ]
  },
  {
   "cell_type": "code",
   "execution_count": 13,
   "metadata": {
    "collapsed": false
   },
   "outputs": [],
   "source": [
    "ms, metrics = eval_adding_other_data(optimal_pipeline, data_b, data_r, roc_auc)"
   ]
  },
  {
   "cell_type": "code",
   "execution_count": 14,
   "metadata": {
    "collapsed": false,
    "scrolled": true
   },
   "outputs": [
    {
     "data": {
      "image/png": "[encoded data removed]",
      "text/plain": [
       "<matplotlib.figure.Figure at 0x119ffdeb8>"
      ]
     },
     "metadata": {},
     "output_type": "display_data"
    }
   ],
   "source": [
    "plot_adding_other_data(ms, metrics)"
   ]
  },
  {
   "cell_type": "markdown",
   "metadata": {},
   "source": [
    "# Final Model"
   ]
  },
  {
   "cell_type": "code",
   "execution_count": 15,
   "metadata": {
    "collapsed": false
   },
   "outputs": [
    {
     "data": {
      "text/plain": [
       "['../../models/attack_ngram.pkl',\n",
       " '../../models/attack_ngram.pkl_01.npy',\n",
       " '../../models/attack_ngram.pkl_02.npy',\n",
       " '../../models/attack_ngram.pkl_03.npy',\n",
       " '../../models/attack_ngram.pkl_04.npy',\n",
       " '../../models/attack_ngram.pkl_05.npy']"
      ]
     },
     "execution_count": 15,
     "metadata": {},
     "output_type": "execute_result"
    }
   ],
   "source": [
    "data = pd.concat([data_r,data_b])\n",
    "model = optimal_pipeline.fit(data['x'], data['y'])\n",
    "joblib.dump(model, '../../models/attack_ngram.pkl')"
   ]
  }
 ],
 "metadata": {
  "kernelspec": {
   "display_name": "Python 3",
   "language": "python",
   "name": "python3"
  },
  "language_info": {
   "codemirror_mode": {
    "name": "ipython",
    "version": 3
   },
   "file_extension": ".py",
   "mimetype": "text/x-python",
   "name": "python",
   "nbconvert_exporter": "python",
   "pygments_lexer": "ipython3",
   "version": "3.5.1"
  }
 },
 "nbformat": 4,
 "nbformat_minor": 0
}
