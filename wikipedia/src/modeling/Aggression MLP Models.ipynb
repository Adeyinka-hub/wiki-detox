{
 "cells": [
  {
   "cell_type": "code",
   "execution_count": 1,
   "metadata": {
    "collapsed": false
   },
   "outputs": [
    {
     "name": "stderr",
     "output_type": "stream",
     "text": [
      "Using TensorFlow backend.\n"
     ]
    }
   ],
   "source": [
    "%load_ext autoreload\n",
    "%autoreload 2\n",
    "%matplotlib inline\n",
    "%load_ext autotime\n",
    "\n",
    "import warnings\n",
    "warnings.filterwarnings('ignore')\n",
    "\n",
    "from ngram import *\n",
    "from baselines import *\n",
    "from error_analysis import *\n",
    "from deep_learning import *"
   ]
  },
  {
   "cell_type": "markdown",
   "metadata": {},
   "source": [
    "### Load Annotated Data"
   ]
  },
  {
   "cell_type": "code",
   "execution_count": 2,
   "metadata": {
    "collapsed": false
   },
   "outputs": [
    {
     "name": "stdout",
     "output_type": "stream",
     "text": [
      "time: 26.2 s\n"
     ]
    }
   ],
   "source": [
    "task = 'aggression'\n",
    "xtype = 'ngams'\n",
    "ytype = 'empirical_dist'\n",
    "n_classes = 3\n",
    "annotations = load_annotations()"
   ]
  },
  {
   "cell_type": "code",
   "execution_count": 3,
   "metadata": {
    "collapsed": false
   },
   "outputs": [
    {
     "name": "stdout",
     "output_type": "stream",
     "text": [
      "time: 2min 4s\n"
     ]
    }
   ],
   "source": [
    "data = label_and_split(annotations, task)"
   ]
  },
  {
   "cell_type": "markdown",
   "metadata": {},
   "source": [
    "### NGram Preprocessing"
   ]
  },
  {
   "cell_type": "code",
   "execution_count": 4,
   "metadata": {
    "collapsed": false
   },
   "outputs": [
    {
     "name": "stdout",
     "output_type": "stream",
     "text": [
      "time: 5min 59s\n"
     ]
    }
   ],
   "source": [
    "feature_pipeline =  Pipeline([\n",
    "    ('vect', CountVectorizer(ngram_range = (1,5), analyzer = 'char', max_features = 10000)),\n",
    "    ('tfidf', TfidfTransformer(sublinear_tf=True,norm='l2')),\n",
    "    ('to_dense', DenseTransformer()), \n",
    "])\n",
    "\n",
    "X_comments, _ = assemble_data(data, 'comments', ytype, splits = ['train'])\n",
    "preprocessor = feature_pipeline.fit(X_comments)\n",
    "data = apply_transform(data, 'comments', preprocessor, xtype)\n",
    "\n",
    "X_train, y_train = assemble_data(data, xtype, ytype, splits = ['train'])\n",
    "X_test, y_test = assemble_data(data, xtype, 'empirical_dist', splits = ['test'])"
   ]
  },
  {
   "cell_type": "markdown",
   "metadata": {},
   "source": [
    "### Define Model"
   ]
  },
  {
   "cell_type": "code",
   "execution_count": 5,
   "metadata": {
    "collapsed": false
   },
   "outputs": [
    {
     "name": "stdout",
     "output_type": "stream",
     "text": [
      "time: 3.88 ms\n"
     ]
    }
   ],
   "source": [
    "clf =  KerasClassifier(build_fn=make_MLP, output_dim = n_classes, input_dim = 10000)"
   ]
  },
  {
   "cell_type": "markdown",
   "metadata": {
    "collapsed": true
   },
   "source": [
    "### Deep EDP Hyper-Parameter tuning"
   ]
  },
  {
   "cell_type": "code",
   "execution_count": 7,
   "metadata": {
    "collapsed": true
   },
   "outputs": [
    {
     "name": "stdout",
     "output_type": "stream",
     "text": [
      "Epoch 1/1\n",
      "70862/70862 [==============================] - 40s - loss: 0.1641 - acc: 0.8753    \n",
      "30370/30370 [==============================] - 9s     \n",
      "Epoch 1/1\n",
      "70862/70862 [==============================] - 49s - loss: 0.1748 - acc: 0.8706    \n",
      "30370/30370 [==============================] - 10s    \n",
      "Epoch 1/1\n",
      "70862/70862 [==============================] - 44s - loss: 0.1888 - acc: 0.8708    \n",
      "30370/30370 [==============================] - 13s    \n",
      "Epoch 1/1\n",
      "70862/70862 [==============================] - 48s - loss: 0.3001 - acc: 0.8261    \n",
      "30370/30370 [==============================] - 11s    \n",
      "\n",
      "Best parameters set found:\n",
      "{'layers': [50, 10], 'nb_epoch': 1, 'l': 0, 'batch_size': 100} 0.932869096682\n",
      "\n",
      "\n",
      "Grid scores:\n",
      "0.93287 (+/-0.00000) for {'layers': [50, 10], 'nb_epoch': 1, 'l': 0, 'batch_size': 100}\n",
      "0.93027 (+/-0.00000) for {'layers': [50, 10], 'nb_epoch': 1, 'l': 1e-05, 'batch_size': 100}\n",
      "0.92827 (+/-0.00000) for {'layers': [50, 10], 'nb_epoch': 1, 'l': 0.0001, 'batch_size': 100}\n",
      "0.83889 (+/-0.00000) for {'layers': [50, 10], 'nb_epoch': 1, 'l': 0.001, 'batch_size': 100}\n",
      "time: 5min 50s\n"
     ]
    }
   ],
   "source": [
    "# Deep EDP\n",
    "\n",
    "param_grid = {\n",
    "    'l': (0, 0.00001, 0.0001, 0.001),\n",
    "    'nb_epoch' : (1,),\n",
    "    'batch_size': (100,),\n",
    "    'layers': ([50, 10],),\n",
    "}\n",
    "\n",
    "tune (X_train, y_train, clf, param_grid, roc_scorer, n_jobs=1, verbose=True)"
   ]
  },
  {
   "cell_type": "markdown",
   "metadata": {},
   "source": [
    "Seems, like we don't need to regularize at one epoch. Lets try more epochs."
   ]
  },
  {
   "cell_type": "code",
   "execution_count": 6,
   "metadata": {
    "collapsed": true
   },
   "outputs": [
    {
     "name": "stdout",
     "output_type": "stream",
     "text": [
      "Epoch 1/2\n",
      "70862/70862 [==============================] - 30s - loss: 0.1633 - acc: 0.8718    \n",
      "Epoch 2/2\n",
      "70862/70862 [==============================] - 25s - loss: 0.0980 - acc: 0.9040    \n",
      "30370/30370 [==============================] - 7s     \n",
      "Epoch 1/2\n",
      "70862/70862 [==============================] - 31s - loss: 0.1772 - acc: 0.8678    \n",
      "Epoch 2/2\n",
      "70862/70862 [==============================] - 25s - loss: 0.1088 - acc: 0.9006    \n",
      "30370/30370 [==============================] - 7s     \n",
      "Epoch 1/2\n",
      "70862/70862 [==============================] - 31s - loss: 0.1940 - acc: 0.8646    \n",
      "Epoch 2/2\n",
      "70862/70862 [==============================] - 25s - loss: 0.1242 - acc: 0.8964    \n",
      "30370/30370 [==============================] - 7s     \n",
      "Epoch 1/2\n",
      "70862/70862 [==============================] - 34s - loss: 0.3022 - acc: 0.8259    \n",
      "Epoch 2/2\n",
      "70862/70862 [==============================] - 26s - loss: 0.2015 - acc: 0.8680    \n",
      "30370/30370 [==============================] - 7s     \n",
      "\n",
      "Best parameters set found:\n",
      "{'layers': [50, 10], 'batch_size': 100, 'l': 0, 'nb_epoch': 2} 0.939473574479\n",
      "\n",
      "\n",
      "Grid scores:\n",
      "0.93947 (+/-0.00000) for {'layers': [50, 10], 'batch_size': 100, 'l': 0, 'nb_epoch': 2}\n",
      "0.93650 (+/-0.00000) for {'layers': [50, 10], 'batch_size': 100, 'l': 1e-05, 'nb_epoch': 2}\n",
      "0.93515 (+/-0.00000) for {'layers': [50, 10], 'batch_size': 100, 'l': 0.0001, 'nb_epoch': 2}\n",
      "0.82190 (+/-0.00000) for {'layers': [50, 10], 'batch_size': 100, 'l': 0.001, 'nb_epoch': 2}\n",
      "time: 5min 11s\n"
     ]
    }
   ],
   "source": [
    "# Deep EDP\n",
    "param_grid = {\n",
    "    'l': (0, 0.00001, 0.0001, 0.001),\n",
    "    'nb_epoch' : (2,),\n",
    "    'batch_size': (100,),\n",
    "    'layers': ([50, 10],),\n",
    "}\n",
    "\n",
    "tune (X_train, y_train, clf, param_grid, roc_scorer, n_jobs=1, verbose=True)"
   ]
  },
  {
   "cell_type": "markdown",
   "metadata": {},
   "source": [
    "Same pattern. Results improved for lower reg. Lets try more epochs."
   ]
  },
  {
   "cell_type": "code",
   "execution_count": 7,
   "metadata": {
    "collapsed": true
   },
   "outputs": [
    {
     "name": "stdout",
     "output_type": "stream",
     "text": [
      "Epoch 1/4\n",
      "70862/70862 [==============================] - 31s - loss: 0.1564 - acc: 0.8728    \n",
      "Epoch 2/4\n",
      "70862/70862 [==============================] - 26s - loss: 0.0977 - acc: 0.9038    \n",
      "Epoch 3/4\n",
      "70862/70862 [==============================] - 26s - loss: 0.0911 - acc: 0.9093    \n",
      "Epoch 4/4\n",
      "70862/70862 [==============================] - 26s - loss: 0.0866 - acc: 0.9131    \n",
      "30370/30370 [==============================] - 6s     \n",
      "Epoch 1/4\n",
      "70862/70862 [==============================] - 30s - loss: 0.1714 - acc: 0.8728    \n",
      "Epoch 2/4\n",
      "70862/70862 [==============================] - 26s - loss: 0.1085 - acc: 0.9014    \n",
      "Epoch 3/4\n",
      "70862/70862 [==============================] - 26s - loss: 0.1029 - acc: 0.9055    \n",
      "Epoch 4/4\n",
      "70862/70862 [==============================] - 28s - loss: 0.0996 - acc: 0.9081    \n",
      "30370/30370 [==============================] - 7s     \n",
      "Epoch 1/4\n",
      "70862/70862 [==============================] - 32s - loss: 0.1936 - acc: 0.8678    \n",
      "Epoch 2/4\n",
      "70862/70862 [==============================] - 25s - loss: 0.1234 - acc: 0.8965    \n",
      "Epoch 3/4\n",
      "70862/70862 [==============================] - 26s - loss: 0.1186 - acc: 0.8999    \n",
      "Epoch 4/4\n",
      "70862/70862 [==============================] - 26s - loss: 0.1161 - acc: 0.9019    \n",
      "30370/30370 [==============================] - 7s     \n",
      "Epoch 1/4\n",
      "70862/70862 [==============================] - 31s - loss: 0.2999 - acc: 0.8298    \n",
      "Epoch 2/4\n",
      "70862/70862 [==============================] - 25s - loss: 0.2027 - acc: 0.8688    \n",
      "Epoch 3/4\n",
      "70862/70862 [==============================] - 28s - loss: 0.1895 - acc: 0.8792    \n",
      "Epoch 4/4\n",
      "70862/70862 [==============================] - 28s - loss: 0.1818 - acc: 0.8833    \n",
      "30370/30370 [==============================] - 8s     \n",
      "\n",
      "Best parameters set found:\n",
      "{'layers': [50, 10], 'batch_size': 100, 'l': 0, 'nb_epoch': 4} 0.940440141667\n",
      "\n",
      "\n",
      "Grid scores:\n",
      "0.94044 (+/-0.00000) for {'layers': [50, 10], 'batch_size': 100, 'l': 0, 'nb_epoch': 4}\n",
      "0.93657 (+/-0.00000) for {'layers': [50, 10], 'batch_size': 100, 'l': 1e-05, 'nb_epoch': 4}\n",
      "0.93662 (+/-0.00000) for {'layers': [50, 10], 'batch_size': 100, 'l': 0.0001, 'nb_epoch': 4}\n",
      "0.80514 (+/-0.00000) for {'layers': [50, 10], 'batch_size': 100, 'l': 0.001, 'nb_epoch': 4}\n",
      "time: 8min 54s\n"
     ]
    }
   ],
   "source": [
    "# Deep EDP\n",
    "param_grid = {\n",
    "    'l': (0, 0.00001, 0.0001, 0.001),\n",
    "    'nb_epoch' : (4,),\n",
    "    'batch_size': (100,),\n",
    "    'layers': ([50, 10],),\n",
    "}\n",
    "\n",
    "tune (X_train, y_train, clf, param_grid, roc_scorer, n_jobs=1, verbose=True)"
   ]
  },
  {
   "cell_type": "markdown",
   "metadata": {},
   "source": [
    "Same pattern still, although performance has plateaued."
   ]
  },
  {
   "cell_type": "markdown",
   "metadata": {},
   "source": [
    "Right now, 4 epochs and no regularization is best. Lets add more layers."
   ]
  },
  {
   "cell_type": "code",
   "execution_count": 8,
   "metadata": {
    "collapsed": true
   },
   "outputs": [
    {
     "name": "stdout",
     "output_type": "stream",
     "text": [
      "Epoch 1/2\n",
      "70862/70862 [==============================] - 32s - loss: 0.1656 - acc: 0.8699    \n",
      "Epoch 2/2\n",
      "70862/70862 [==============================] - 28s - loss: 0.0996 - acc: 0.9034    \n",
      "30370/30370 [==============================] - 8s     \n",
      "\n",
      "Best parameters set found:\n",
      "{'layers': [50, 50, 10], 'batch_size': 100, 'l': 1e-06, 'nb_epoch': 2} 0.939518090435\n",
      "\n",
      "\n",
      "Grid scores:\n",
      "0.93952 (+/-0.00000) for {'layers': [50, 50, 10], 'batch_size': 100, 'l': 1e-06, 'nb_epoch': 2}\n",
      "time: 1min 25s\n"
     ]
    }
   ],
   "source": [
    "# Deep EDP\n",
    "param_grid = {\n",
    "    'l': (0.000001,),\n",
    "    'nb_epoch' : (2,),\n",
    "    'batch_size': (100,),\n",
    "    'layers': ([50, 50, 10],),\n",
    "}\n",
    "\n",
    "tune (X_train, y_train, clf, param_grid, roc_scorer, n_jobs=1, verbose=True)"
   ]
  },
  {
   "cell_type": "markdown",
   "metadata": {},
   "source": [
    "Adding more layers did not help."
   ]
  },
  {
   "cell_type": "markdown",
   "metadata": {},
   "source": [
    "### Linear EDP Tuning"
   ]
  },
  {
   "cell_type": "code",
   "execution_count": 9,
   "metadata": {
    "collapsed": false
   },
   "outputs": [
    {
     "name": "stdout",
     "output_type": "stream",
     "text": [
      "Epoch 1/1\n",
      "70862/70862 [==============================] - 14s - loss: 0.1911 - acc: 0.8551    \n",
      "30370/30370 [==============================] - 4s     \n",
      "Epoch 1/2\n",
      "70862/70862 [==============================] - 14s - loss: 0.1899 - acc: 0.8543    \n",
      "Epoch 2/2\n",
      "70862/70862 [==============================] - 9s - loss: 0.1255 - acc: 0.8808     \n",
      "30370/30370 [==============================] - 4s     \n",
      "Epoch 1/4\n",
      "70862/70862 [==============================] - 14s - loss: 0.1908 - acc: 0.8550    \n",
      "Epoch 2/4\n",
      "70862/70862 [==============================] - 9s - loss: 0.1254 - acc: 0.8812     \n",
      "Epoch 3/4\n",
      "70862/70862 [==============================] - 9s - loss: 0.1134 - acc: 0.8879     \n",
      "Epoch 4/4\n",
      "70862/70862 [==============================] - 10s - loss: 0.1078 - acc: 0.8920    \n",
      "30370/30370 [==============================] - 4s     \n",
      "Epoch 1/8\n",
      "70862/70862 [==============================] - 15s - loss: 0.1920 - acc: 0.8543    \n",
      "Epoch 2/8\n",
      "70862/70862 [==============================] - 10s - loss: 0.1257 - acc: 0.8813    \n",
      "Epoch 3/8\n",
      "70862/70862 [==============================] - 10s - loss: 0.1136 - acc: 0.8884    \n",
      "Epoch 4/8\n",
      "70862/70862 [==============================] - 10s - loss: 0.1080 - acc: 0.8927    \n",
      "Epoch 5/8\n",
      "70862/70862 [==============================] - 10s - loss: 0.1045 - acc: 0.8952    \n",
      "Epoch 6/8\n",
      "70862/70862 [==============================] - 10s - loss: 0.1021 - acc: 0.8976    \n",
      "Epoch 7/8\n",
      "70862/70862 [==============================] - 10s - loss: 0.1004 - acc: 0.8992    \n",
      "Epoch 8/8\n",
      "70862/70862 [==============================] - 10s - loss: 0.0990 - acc: 0.9002    \n",
      "30370/30370 [==============================] - 4s     \n",
      "Epoch 1/16\n",
      "70862/70862 [==============================] - 15s - loss: 0.1909 - acc: 0.8557    \n",
      "Epoch 2/16\n",
      "70862/70862 [==============================] - 10s - loss: 0.1249 - acc: 0.8835    \n",
      "Epoch 3/16\n",
      "70862/70862 [==============================] - 10s - loss: 0.1129 - acc: 0.8898    \n",
      "Epoch 4/16\n",
      "70862/70862 [==============================] - 10s - loss: 0.1073 - acc: 0.8940    \n",
      "Epoch 5/16\n",
      "70862/70862 [==============================] - 10s - loss: 0.1038 - acc: 0.8967    \n",
      "Epoch 6/16\n",
      "70862/70862 [==============================] - 10s - loss: 0.1015 - acc: 0.8987    \n",
      "Epoch 7/16\n",
      "70862/70862 [==============================] - 11s - loss: 0.0997 - acc: 0.9002    \n",
      "Epoch 8/16\n",
      "70862/70862 [==============================] - 10s - loss: 0.0983 - acc: 0.9018    \n",
      "Epoch 9/16\n",
      "70862/70862 [==============================] - 10s - loss: 0.0972 - acc: 0.9025    \n",
      "Epoch 10/16\n",
      "70862/70862 [==============================] - 10s - loss: 0.0962 - acc: 0.9029    \n",
      "Epoch 11/16\n",
      "70862/70862 [==============================] - 10s - loss: 0.0955 - acc: 0.9032    \n",
      "Epoch 12/16\n",
      "70862/70862 [==============================] - 10s - loss: 0.0948 - acc: 0.9045    \n",
      "Epoch 13/16\n",
      "70862/70862 [==============================] - 10s - loss: 0.0941 - acc: 0.9047    \n",
      "Epoch 14/16\n",
      "70862/70862 [==============================] - 10s - loss: 0.0936 - acc: 0.9051    \n",
      "Epoch 15/16\n",
      "70862/70862 [==============================] - 10s - loss: 0.0931 - acc: 0.9054    \n",
      "Epoch 16/16\n",
      "70862/70862 [==============================] - 10s - loss: 0.0927 - acc: 0.9060    \n",
      "30370/30370 [==============================] - 4s     \n",
      "\n",
      "Best parameters set found:\n",
      "{'layers': [], 'batch_size': 100, 'l': 0, 'nb_epoch': 8} 0.936248061959\n",
      "\n",
      "\n",
      "Grid scores:\n",
      "0.90289 (+/-0.00000) for {'layers': [], 'batch_size': 100, 'l': 0, 'nb_epoch': 1}\n",
      "0.92277 (+/-0.00000) for {'layers': [], 'batch_size': 100, 'l': 0, 'nb_epoch': 2}\n",
      "0.93077 (+/-0.00000) for {'layers': [], 'batch_size': 100, 'l': 0, 'nb_epoch': 4}\n",
      "0.93625 (+/-0.00000) for {'layers': [], 'batch_size': 100, 'l': 0, 'nb_epoch': 8}\n",
      "0.93564 (+/-0.00000) for {'layers': [], 'batch_size': 100, 'l': 0, 'nb_epoch': 16}\n",
      "time: 7min 12s\n"
     ]
    }
   ],
   "source": [
    "# Linear EDP\n",
    "param_grid = {\n",
    "    'l': (0,),\n",
    "    'nb_epoch' : (1,2,4,8,16),\n",
    "    'batch_size': (100,),\n",
    "    'layers': ([],),\n",
    "}\n",
    "\n",
    "tune (X_train, y_train, clf, param_grid, roc_scorer, n_jobs=1, verbose=True)"
   ]
  },
  {
   "cell_type": "markdown",
   "metadata": {},
   "source": [
    "We won't bother regularizing. Lets just tune epochs. Seems to max out at 8."
   ]
  },
  {
   "cell_type": "markdown",
   "metadata": {},
   "source": [
    "### Linear OH Tuning"
   ]
  },
  {
   "cell_type": "code",
   "execution_count": 10,
   "metadata": {
    "collapsed": false
   },
   "outputs": [
    {
     "name": "stdout",
     "output_type": "stream",
     "text": [
      "Epoch 1/1\n",
      "70862/70862 [==============================] - 15s - loss: 0.4666 - acc: 0.8491    \n",
      "30370/30370 [==============================] - 5s     \n",
      "Epoch 1/2\n",
      "70862/70862 [==============================] - 15s - loss: 0.4696 - acc: 0.8471    \n",
      "Epoch 2/2\n",
      "70862/70862 [==============================] - 10s - loss: 0.3458 - acc: 0.8783    \n",
      "30370/30370 [==============================] - 4s     \n",
      "Epoch 1/4\n",
      "70862/70862 [==============================] - 13s - loss: 0.4645 - acc: 0.8475    \n",
      "Epoch 2/4\n",
      "70862/70862 [==============================] - 8s - loss: 0.3436 - acc: 0.8782     \n",
      "Epoch 3/4\n",
      "70862/70862 [==============================] - 8s - loss: 0.3080 - acc: 0.8868     \n",
      "Epoch 4/4\n",
      "70862/70862 [==============================] - 8s - loss: 0.2882 - acc: 0.8921     \n",
      "30370/30370 [==============================] - 4s     \n",
      "Epoch 1/8\n",
      "70862/70862 [==============================] - 13s - loss: 0.4683 - acc: 0.8466    \n",
      "Epoch 2/8\n",
      "70862/70862 [==============================] - 8s - loss: 0.3449 - acc: 0.8779     \n",
      "Epoch 3/8\n",
      "70862/70862 [==============================] - 8s - loss: 0.3092 - acc: 0.8865     \n",
      "Epoch 4/8\n",
      "70862/70862 [==============================] - 8s - loss: 0.2894 - acc: 0.8918     \n",
      "Epoch 5/8\n",
      "70862/70862 [==============================] - 8s - loss: 0.2761 - acc: 0.8952     \n",
      "Epoch 6/8\n",
      "70862/70862 [==============================] - 8s - loss: 0.2663 - acc: 0.8981     \n",
      "Epoch 7/8\n",
      "70862/70862 [==============================] - 8s - loss: 0.2588 - acc: 0.9008     \n",
      "Epoch 8/8\n",
      "70862/70862 [==============================] - 8s - loss: 0.2527 - acc: 0.9027     \n",
      "30370/30370 [==============================] - 4s     \n",
      "Epoch 1/16\n",
      "70862/70862 [==============================] - 13s - loss: 0.4667 - acc: 0.8467    \n",
      "Epoch 2/16\n",
      "70862/70862 [==============================] - 8s - loss: 0.3446 - acc: 0.8784     \n",
      "Epoch 3/16\n",
      "70862/70862 [==============================] - 8s - loss: 0.3091 - acc: 0.8871     \n",
      "Epoch 4/16\n",
      "70862/70862 [==============================] - 8s - loss: 0.2894 - acc: 0.8918     \n",
      "Epoch 5/16\n",
      "70862/70862 [==============================] - 8s - loss: 0.2761 - acc: 0.8953     \n",
      "Epoch 6/16\n",
      "70862/70862 [==============================] - 8s - loss: 0.2664 - acc: 0.8984     \n",
      "Epoch 7/16\n",
      "70862/70862 [==============================] - 8s - loss: 0.2588 - acc: 0.9013     \n",
      "Epoch 8/16\n",
      "70862/70862 [==============================] - 8s - loss: 0.2527 - acc: 0.9033     \n",
      "Epoch 9/16\n",
      "70862/70862 [==============================] - 8s - loss: 0.2476 - acc: 0.9051     \n",
      "Epoch 10/16\n",
      "70862/70862 [==============================] - 8s - loss: 0.2433 - acc: 0.9065     \n",
      "Epoch 11/16\n",
      "70862/70862 [==============================] - 8s - loss: 0.2395 - acc: 0.9077     \n",
      "Epoch 12/16\n",
      "70862/70862 [==============================] - 8s - loss: 0.2362 - acc: 0.9089     \n",
      "Epoch 13/16\n",
      "70862/70862 [==============================] - 8s - loss: 0.2332 - acc: 0.9104     \n",
      "Epoch 14/16\n",
      "70862/70862 [==============================] - 8s - loss: 0.2305 - acc: 0.9108     \n",
      "Epoch 15/16\n",
      "70862/70862 [==============================] - 8s - loss: 0.2281 - acc: 0.9116     \n",
      "Epoch 16/16\n",
      "70862/70862 [==============================] - 8s - loss: 0.2260 - acc: 0.9124     \n",
      "30370/30370 [==============================] - 4s     \n",
      "\n",
      "Best parameters set found:\n",
      "{'layers': [], 'batch_size': 100, 'l': 0, 'nb_epoch': 16} 0.933599591152\n",
      "\n",
      "\n",
      "Grid scores:\n",
      "0.84139 (+/-0.00000) for {'layers': [], 'batch_size': 100, 'l': 0, 'nb_epoch': 1}\n",
      "0.88295 (+/-0.00000) for {'layers': [], 'batch_size': 100, 'l': 0, 'nb_epoch': 2}\n",
      "0.90934 (+/-0.00000) for {'layers': [], 'batch_size': 100, 'l': 0, 'nb_epoch': 4}\n",
      "0.92677 (+/-0.00000) for {'layers': [], 'batch_size': 100, 'l': 0, 'nb_epoch': 8}\n",
      "0.93360 (+/-0.00000) for {'layers': [], 'batch_size': 100, 'l': 0, 'nb_epoch': 16}\n",
      "time: 6min 22s\n"
     ]
    }
   ],
   "source": [
    "# Linear OH\n",
    "param_grid = {\n",
    "    'l': (0,),\n",
    "    'nb_epoch' : (1,2,4,8,16),\n",
    "    'batch_size': (100,),\n",
    "    'layers': ([],),\n",
    "}\n",
    "\n",
    "tune (X_train, one_hot(y_train), clf, param_grid, roc_scorer, n_jobs=1, verbose=True)"
   ]
  },
  {
   "cell_type": "markdown",
   "metadata": {},
   "source": [
    "Lets try more epochs."
   ]
  },
  {
   "cell_type": "code",
   "execution_count": 11,
   "metadata": {
    "collapsed": false
   },
   "outputs": [
    {
     "name": "stdout",
     "output_type": "stream",
     "text": [
      "Epoch 1/24\n",
      "70862/70862 [==============================] - 13s - loss: 0.4653 - acc: 0.8472    \n",
      "Epoch 2/24\n",
      "70862/70862 [==============================] - 8s - loss: 0.3447 - acc: 0.8779     \n",
      "Epoch 3/24\n",
      "70862/70862 [==============================] - 8s - loss: 0.3091 - acc: 0.8865     \n",
      "Epoch 4/24\n",
      "70862/70862 [==============================] - 9s - loss: 0.2893 - acc: 0.8915     \n",
      "Epoch 5/24\n",
      "70862/70862 [==============================] - 10s - loss: 0.2759 - acc: 0.8956    \n",
      "Epoch 6/24\n",
      "70862/70862 [==============================] - 10s - loss: 0.2661 - acc: 0.8985    \n",
      "Epoch 7/24\n",
      "70862/70862 [==============================] - 11s - loss: 0.2585 - acc: 0.9006    \n",
      "Epoch 8/24\n",
      "70862/70862 [==============================] - 9s - loss: 0.2523 - acc: 0.9031     \n",
      "Epoch 9/24\n",
      "70862/70862 [==============================] - 9s - loss: 0.2472 - acc: 0.9047     \n",
      "Epoch 10/24\n",
      "70862/70862 [==============================] - 9s - loss: 0.2429 - acc: 0.9060     \n",
      "Epoch 11/24\n",
      "70862/70862 [==============================] - 9s - loss: 0.2392 - acc: 0.9074     \n",
      "Epoch 12/24\n",
      "70862/70862 [==============================] - 9s - loss: 0.2358 - acc: 0.9084     \n",
      "Epoch 13/24\n",
      "70862/70862 [==============================] - 9s - loss: 0.2329 - acc: 0.9094     \n",
      "Epoch 14/24\n",
      "70862/70862 [==============================] - 8s - loss: 0.2302 - acc: 0.9103     \n",
      "Epoch 15/24\n",
      "70862/70862 [==============================] - 10s - loss: 0.2279 - acc: 0.9110    \n",
      "Epoch 16/24\n",
      "70862/70862 [==============================] - 9s - loss: 0.2256 - acc: 0.9118     \n",
      "Epoch 17/24\n",
      "70862/70862 [==============================] - 9s - loss: 0.2236 - acc: 0.9125     \n",
      "Epoch 18/24\n",
      "70862/70862 [==============================] - 8s - loss: 0.2217 - acc: 0.9135     \n",
      "Epoch 19/24\n",
      "70862/70862 [==============================] - 8s - loss: 0.2199 - acc: 0.9140     \n",
      "Epoch 20/24\n",
      "70862/70862 [==============================] - 9s - loss: 0.2183 - acc: 0.9148     \n",
      "Epoch 21/24\n",
      "70862/70862 [==============================] - 8s - loss: 0.2168 - acc: 0.9150     \n",
      "Epoch 22/24\n",
      "70862/70862 [==============================] - 8s - loss: 0.2153 - acc: 0.9155     \n",
      "Epoch 23/24\n",
      "70862/70862 [==============================] - 8s - loss: 0.2139 - acc: 0.9159     \n",
      "Epoch 24/24\n",
      "70862/70862 [==============================] - 8s - loss: 0.2127 - acc: 0.9162     \n",
      "30370/30370 [==============================] - 4s     \n",
      "Epoch 1/32\n",
      "70862/70862 [==============================] - 13s - loss: 0.4675 - acc: 0.8473    \n",
      "Epoch 2/32\n",
      "70862/70862 [==============================] - 8s - loss: 0.3459 - acc: 0.8775     \n",
      "Epoch 3/32\n",
      "70862/70862 [==============================] - 8s - loss: 0.3100 - acc: 0.8861     \n",
      "Epoch 4/32\n",
      "70862/70862 [==============================] - 8s - loss: 0.2900 - acc: 0.8915     \n",
      "Epoch 5/32\n",
      "70862/70862 [==============================] - 8s - loss: 0.2766 - acc: 0.8945     \n",
      "Epoch 6/32\n",
      "70862/70862 [==============================] - 8s - loss: 0.2667 - acc: 0.8978     \n",
      "Epoch 7/32\n",
      "70862/70862 [==============================] - 8s - loss: 0.2591 - acc: 0.9003     \n",
      "Epoch 8/32\n",
      "70862/70862 [==============================] - 8s - loss: 0.2529 - acc: 0.9022     \n",
      "Epoch 9/32\n",
      "70862/70862 [==============================] - 8s - loss: 0.2478 - acc: 0.9039     \n",
      "Epoch 10/32\n",
      "70862/70862 [==============================] - 8s - loss: 0.2435 - acc: 0.9056     \n",
      "Epoch 11/32\n",
      "70862/70862 [==============================] - 8s - loss: 0.2397 - acc: 0.9067     \n",
      "Epoch 12/32\n",
      "70862/70862 [==============================] - 9s - loss: 0.2364 - acc: 0.9076     \n",
      "Epoch 13/32\n",
      "70862/70862 [==============================] - 8s - loss: 0.2335 - acc: 0.9086     \n",
      "Epoch 14/32\n",
      "70862/70862 [==============================] - 8s - loss: 0.2308 - acc: 0.9098     \n",
      "Epoch 15/32\n",
      "70862/70862 [==============================] - 9s - loss: 0.2284 - acc: 0.9111     \n",
      "Epoch 16/32\n",
      "70862/70862 [==============================] - 9s - loss: 0.2261 - acc: 0.9113     \n",
      "Epoch 17/32\n",
      "70862/70862 [==============================] - 9s - loss: 0.2241 - acc: 0.9124     \n",
      "Epoch 18/32\n",
      "70862/70862 [==============================] - 9s - loss: 0.2222 - acc: 0.9133     \n",
      "Epoch 19/32\n",
      "70862/70862 [==============================] - 9s - loss: 0.2204 - acc: 0.9139     \n",
      "Epoch 20/32\n",
      "70862/70862 [==============================] - 9s - loss: 0.2188 - acc: 0.9144     \n",
      "Epoch 21/32\n",
      "70862/70862 [==============================] - 9s - loss: 0.2172 - acc: 0.9148     \n",
      "Epoch 22/32\n",
      "70862/70862 [==============================] - 9s - loss: 0.2158 - acc: 0.9153     \n",
      "Epoch 23/32\n",
      "70862/70862 [==============================] - 9s - loss: 0.2144 - acc: 0.9157     \n",
      "Epoch 24/32\n",
      "70862/70862 [==============================] - 9s - loss: 0.2131 - acc: 0.9160     \n",
      "Epoch 25/32\n",
      "70862/70862 [==============================] - 9s - loss: 0.2119 - acc: 0.9166     \n",
      "Epoch 26/32\n",
      "70862/70862 [==============================] - 9s - loss: 0.2107 - acc: 0.9171     \n",
      "Epoch 27/32\n",
      "70862/70862 [==============================] - 9s - loss: 0.2095 - acc: 0.9177     \n",
      "Epoch 28/32\n",
      "70862/70862 [==============================] - 9s - loss: 0.2083 - acc: 0.9182     \n",
      "Epoch 29/32\n",
      "70862/70862 [==============================] - 9s - loss: 0.2073 - acc: 0.9184     \n",
      "Epoch 30/32\n",
      "70862/70862 [==============================] - 9s - loss: 0.2063 - acc: 0.9189     \n",
      "Epoch 31/32\n",
      "70862/70862 [==============================] - 9s - loss: 0.2053 - acc: 0.9192     \n",
      "Epoch 32/32\n",
      "70862/70862 [==============================] - 9s - loss: 0.2044 - acc: 0.9197     \n",
      "30370/30370 [==============================] - 4s     \n",
      "\n",
      "Best parameters set found:\n",
      "{'layers': [], 'batch_size': 100, 'l': 0, 'nb_epoch': 24} 0.933185593153\n",
      "\n",
      "\n",
      "Grid scores:\n",
      "0.93319 (+/-0.00000) for {'layers': [], 'batch_size': 100, 'l': 0, 'nb_epoch': 24}\n",
      "0.93243 (+/-0.00000) for {'layers': [], 'batch_size': 100, 'l': 0, 'nb_epoch': 32}\n",
      "time: 9min 17s\n"
     ]
    }
   ],
   "source": [
    "param_grid = {\n",
    "    'l': (0,),\n",
    "    'nb_epoch' : (24, 32),\n",
    "    'batch_size': (100,),\n",
    "    'layers': ([],),\n",
    "}\n",
    "\n",
    "tune (X_train, one_hot(y_train), clf, param_grid, roc_scorer, n_jobs=1, verbose=True)"
   ]
  },
  {
   "cell_type": "markdown",
   "metadata": {},
   "source": [
    "### Eval SKlearn"
   ]
  },
  {
   "cell_type": "code",
   "execution_count": 12,
   "metadata": {
    "collapsed": false
   },
   "outputs": [
    {
     "name": "stdout",
     "output_type": "stream",
     "text": [
      "time: 6min 54s\n"
     ]
    }
   ],
   "source": [
    "sk_model = LogisticRegression(C = 5.0,  solver = 'sag')\n",
    "sk_model.fit(X_train, y_train.argmax(axis = 1))\n",
    "roc_df, spearman_df = test_cross(sk_model, data, xtype)"
   ]
  },
  {
   "cell_type": "code",
   "execution_count": 13,
   "metadata": {
    "collapsed": false
   },
   "outputs": [
    {
     "data": {
      "text/html": [
       "<div>\n",
       "<table border=\"1\" class=\"dataframe\">\n",
       "  <thead>\n",
       "    <tr style=\"text-align: right;\">\n",
       "      <th></th>\n",
       "      <th>random</th>\n",
       "      <th>blocked</th>\n",
       "      <th>both</th>\n",
       "    </tr>\n",
       "  </thead>\n",
       "  <tbody>\n",
       "    <tr>\n",
       "      <th>user</th>\n",
       "      <td>0.915535</td>\n",
       "      <td>0.925286</td>\n",
       "      <td>0.932481</td>\n",
       "    </tr>\n",
       "    <tr>\n",
       "      <th>article</th>\n",
       "      <td>0.871340</td>\n",
       "      <td>0.924160</td>\n",
       "      <td>0.904776</td>\n",
       "    </tr>\n",
       "    <tr>\n",
       "      <th>both</th>\n",
       "      <td>0.917192</td>\n",
       "      <td>0.931547</td>\n",
       "      <td>0.935947</td>\n",
       "    </tr>\n",
       "  </tbody>\n",
       "</table>\n",
       "</div>"
      ],
      "text/plain": [
       "           random   blocked      both\n",
       "user     0.915535  0.925286  0.932481\n",
       "article  0.871340  0.924160  0.904776\n",
       "both     0.917192  0.931547  0.935947"
      ]
     },
     "execution_count": 13,
     "metadata": {},
     "output_type": "execute_result"
    },
    {
     "name": "stdout",
     "output_type": "stream",
     "text": [
      "time: 15.3 ms\n"
     ]
    }
   ],
   "source": [
    "roc_df"
   ]
  },
  {
   "cell_type": "code",
   "execution_count": 14,
   "metadata": {
    "collapsed": false
   },
   "outputs": [
    {
     "data": {
      "text/html": [
       "<div>\n",
       "<table border=\"1\" class=\"dataframe\">\n",
       "  <thead>\n",
       "    <tr style=\"text-align: right;\">\n",
       "      <th></th>\n",
       "      <th>random</th>\n",
       "      <th>blocked</th>\n",
       "      <th>both</th>\n",
       "    </tr>\n",
       "  </thead>\n",
       "  <tbody>\n",
       "    <tr>\n",
       "      <th>user</th>\n",
       "      <td>0.570538</td>\n",
       "      <td>0.776069</td>\n",
       "      <td>0.768726</td>\n",
       "    </tr>\n",
       "    <tr>\n",
       "      <th>article</th>\n",
       "      <td>0.301367</td>\n",
       "      <td>0.534824</td>\n",
       "      <td>0.477323</td>\n",
       "    </tr>\n",
       "    <tr>\n",
       "      <th>both</th>\n",
       "      <td>0.459166</td>\n",
       "      <td>0.715595</td>\n",
       "      <td>0.679308</td>\n",
       "    </tr>\n",
       "  </tbody>\n",
       "</table>\n",
       "</div>"
      ],
      "text/plain": [
       "           random   blocked      both\n",
       "user     0.570538  0.776069  0.768726\n",
       "article  0.301367  0.534824  0.477323\n",
       "both     0.459166  0.715595  0.679308"
      ]
     },
     "execution_count": 14,
     "metadata": {},
     "output_type": "execute_result"
    },
    {
     "name": "stdout",
     "output_type": "stream",
     "text": [
      "time: 5.26 ms\n"
     ]
    }
   ],
   "source": [
    "spearman_df"
   ]
  },
  {
   "cell_type": "markdown",
   "metadata": {},
   "source": [
    "### Eval OH"
   ]
  },
  {
   "cell_type": "code",
   "execution_count": 15,
   "metadata": {
    "collapsed": false
   },
   "outputs": [
    {
     "name": "stdout",
     "output_type": "stream",
     "text": [
      "Epoch 1/24\n",
      "101232/101232 [==============================] - 14s - loss: 0.4328 - acc: 0.8571    \n",
      "Epoch 2/24\n",
      "101232/101232 [==============================] - 12s - loss: 0.3206 - acc: 0.8844    \n",
      "Epoch 3/24\n",
      "101232/101232 [==============================] - 13s - loss: 0.2904 - acc: 0.8917    \n",
      "Epoch 4/24\n",
      "101232/101232 [==============================] - 14s - loss: 0.2737 - acc: 0.8962    \n",
      "Epoch 5/24\n",
      "101232/101232 [==============================] - 13s - loss: 0.2628 - acc: 0.8999    \n",
      "Epoch 6/24\n",
      "101232/101232 [==============================] - 12s - loss: 0.2549 - acc: 0.9026    \n",
      "Epoch 7/24\n",
      "101232/101232 [==============================] - 14s - loss: 0.2490 - acc: 0.9044    \n",
      "Epoch 8/24\n",
      "101232/101232 [==============================] - 12s - loss: 0.2442 - acc: 0.9065    \n",
      "Epoch 9/24\n",
      "101232/101232 [==============================] - 13s - loss: 0.2402 - acc: 0.9074    \n",
      "Epoch 10/24\n",
      "101232/101232 [==============================] - 13s - loss: 0.2369 - acc: 0.9086    \n",
      "Epoch 11/24\n",
      "101232/101232 [==============================] - 16s - loss: 0.2341 - acc: 0.9095    \n",
      "Epoch 12/24\n",
      "101232/101232 [==============================] - 14s - loss: 0.2315 - acc: 0.9103    \n",
      "Epoch 13/24\n",
      "101232/101232 [==============================] - 14s - loss: 0.2292 - acc: 0.9112    \n",
      "Epoch 14/24\n",
      "101232/101232 [==============================] - 14s - loss: 0.2272 - acc: 0.9122    \n",
      "Epoch 15/24\n",
      "101232/101232 [==============================] - 15s - loss: 0.2254 - acc: 0.9129    \n",
      "Epoch 16/24\n",
      "101232/101232 [==============================] - 14s - loss: 0.2236 - acc: 0.9136    \n",
      "Epoch 17/24\n",
      "101232/101232 [==============================] - 17s - loss: 0.2221 - acc: 0.9140    \n",
      "Epoch 18/24\n",
      "101232/101232 [==============================] - 16s - loss: 0.2207 - acc: 0.9143    \n",
      "Epoch 19/24\n",
      "101232/101232 [==============================] - 15s - loss: 0.2193 - acc: 0.9152    \n",
      "Epoch 20/24\n",
      "101232/101232 [==============================] - 15s - loss: 0.2180 - acc: 0.9157    \n",
      "Epoch 21/24\n",
      "101232/101232 [==============================] - 15s - loss: 0.2169 - acc: 0.9160    \n",
      "Epoch 22/24\n",
      "101232/101232 [==============================] - 15s - loss: 0.2157 - acc: 0.9164    \n",
      "Epoch 23/24\n",
      "101232/101232 [==============================] - 15s - loss: 0.2146 - acc: 0.9171    \n",
      "Epoch 24/24\n",
      "101232/101232 [==============================] - 15s - loss: 0.2136 - acc: 0.9172    \n",
      "4000/4000 [==============================] - 1s     \n",
      "14703/14703 [==============================] - 1s     \n",
      "4000/4000 [==============================] - 0s     \n",
      "10607/10607 [==============================] - 0s     \n",
      "25310/25310 [==============================] - 2s     \n",
      "time: 6min 26s\n"
     ]
    }
   ],
   "source": [
    "oh_linear_model =  KerasClassifier(build_fn=make_MLP,\n",
    "                               output_dim = n_classes,\n",
    "                               input_dim = 10000,\n",
    "                               nb_epoch = 24,\n",
    "                               batch_size = 100,\n",
    "                               l = 0.0, \n",
    "                               layers = [])\n",
    "oh_linear_model.fit(X_train, one_hot(y_train))\n",
    "roc_df, spearman_df = test_cross(oh_linear_model, data, xtype)"
   ]
  },
  {
   "cell_type": "code",
   "execution_count": 16,
   "metadata": {
    "collapsed": false
   },
   "outputs": [
    {
     "data": {
      "text/html": [
       "<div>\n",
       "<table border=\"1\" class=\"dataframe\">\n",
       "  <thead>\n",
       "    <tr style=\"text-align: right;\">\n",
       "      <th></th>\n",
       "      <th>random</th>\n",
       "      <th>blocked</th>\n",
       "      <th>both</th>\n",
       "    </tr>\n",
       "  </thead>\n",
       "  <tbody>\n",
       "    <tr>\n",
       "      <th>user</th>\n",
       "      <td>0.911594</td>\n",
       "      <td>0.922441</td>\n",
       "      <td>0.929645</td>\n",
       "    </tr>\n",
       "    <tr>\n",
       "      <th>article</th>\n",
       "      <td>0.869300</td>\n",
       "      <td>0.922832</td>\n",
       "      <td>0.902480</td>\n",
       "    </tr>\n",
       "    <tr>\n",
       "      <th>both</th>\n",
       "      <td>0.913600</td>\n",
       "      <td>0.928998</td>\n",
       "      <td>0.933363</td>\n",
       "    </tr>\n",
       "  </tbody>\n",
       "</table>\n",
       "</div>"
      ],
      "text/plain": [
       "           random   blocked      both\n",
       "user     0.911594  0.922441  0.929645\n",
       "article  0.869300  0.922832  0.902480\n",
       "both     0.913600  0.928998  0.933363"
      ]
     },
     "execution_count": 16,
     "metadata": {},
     "output_type": "execute_result"
    },
    {
     "name": "stdout",
     "output_type": "stream",
     "text": [
      "time: 5.87 ms\n"
     ]
    }
   ],
   "source": [
    "roc_df"
   ]
  },
  {
   "cell_type": "code",
   "execution_count": 17,
   "metadata": {
    "collapsed": false
   },
   "outputs": [
    {
     "data": {
      "text/html": [
       "<div>\n",
       "<table border=\"1\" class=\"dataframe\">\n",
       "  <thead>\n",
       "    <tr style=\"text-align: right;\">\n",
       "      <th></th>\n",
       "      <th>random</th>\n",
       "      <th>blocked</th>\n",
       "      <th>both</th>\n",
       "    </tr>\n",
       "  </thead>\n",
       "  <tbody>\n",
       "    <tr>\n",
       "      <th>user</th>\n",
       "      <td>0.575097</td>\n",
       "      <td>0.772689</td>\n",
       "      <td>0.768268</td>\n",
       "    </tr>\n",
       "    <tr>\n",
       "      <th>article</th>\n",
       "      <td>0.301231</td>\n",
       "      <td>0.531035</td>\n",
       "      <td>0.475065</td>\n",
       "    </tr>\n",
       "    <tr>\n",
       "      <th>both</th>\n",
       "      <td>0.463567</td>\n",
       "      <td>0.712573</td>\n",
       "      <td>0.678883</td>\n",
       "    </tr>\n",
       "  </tbody>\n",
       "</table>\n",
       "</div>"
      ],
      "text/plain": [
       "           random   blocked      both\n",
       "user     0.575097  0.772689  0.768268\n",
       "article  0.301231  0.531035  0.475065\n",
       "both     0.463567  0.712573  0.678883"
      ]
     },
     "execution_count": 17,
     "metadata": {},
     "output_type": "execute_result"
    },
    {
     "name": "stdout",
     "output_type": "stream",
     "text": [
      "time: 6.09 ms\n"
     ]
    }
   ],
   "source": [
    "spearman_df"
   ]
  },
  {
   "cell_type": "markdown",
   "metadata": {},
   "source": [
    "### Eval Linear EDP"
   ]
  },
  {
   "cell_type": "code",
   "execution_count": 18,
   "metadata": {
    "collapsed": false
   },
   "outputs": [
    {
     "name": "stdout",
     "output_type": "stream",
     "text": [
      "Epoch 1/8\n",
      "101232/101232 [==============================] - 15s - loss: 0.1738 - acc: 0.8606    \n",
      "Epoch 2/8\n",
      "101232/101232 [==============================] - 12s - loss: 0.1175 - acc: 0.8864    \n",
      "Epoch 3/8\n",
      "101232/101232 [==============================] - 12s - loss: 0.1085 - acc: 0.8927    \n",
      "Epoch 4/8\n",
      "101232/101232 [==============================] - 12s - loss: 0.1043 - acc: 0.8955    \n",
      "Epoch 5/8\n",
      "101232/101232 [==============================] - 12s - loss: 0.1017 - acc: 0.8984    \n",
      "Epoch 6/8\n",
      "101232/101232 [==============================] - 12s - loss: 0.1000 - acc: 0.8998    \n",
      "Epoch 7/8\n",
      "101232/101232 [==============================] - 12s - loss: 0.0987 - acc: 0.9008    \n",
      "Epoch 8/8\n",
      "101232/101232 [==============================] - 12s - loss: 0.0977 - acc: 0.9014    \n",
      "4000/4000 [==============================] - 0s     \n",
      "4000/4000 [==============================] - 0s     \n",
      "10607/10607 [==============================] - 0s     \n",
      "25310/25310 [==============================] - 2s     \n",
      "time: 2min 13s\n"
     ]
    }
   ],
   "source": [
    "ed_linear_model =  KerasClassifier(build_fn=make_MLP,\n",
    "                               output_dim = n_classes,\n",
    "                               input_dim = 10000,\n",
    "                               nb_epoch = 8,\n",
    "                               batch_size = 100,\n",
    "                               l = 0.0, \n",
    "                               layers = [])\n",
    "ed_linear_model.fit(X_train, y_train)\n",
    "roc_df, spearman_df = test_cross(ed_linear_model, data, xtype)"
   ]
  },
  {
   "cell_type": "code",
   "execution_count": 19,
   "metadata": {
    "collapsed": false
   },
   "outputs": [
    {
     "data": {
      "text/html": [
       "<div>\n",
       "<table border=\"1\" class=\"dataframe\">\n",
       "  <thead>\n",
       "    <tr style=\"text-align: right;\">\n",
       "      <th></th>\n",
       "      <th>random</th>\n",
       "      <th>blocked</th>\n",
       "      <th>both</th>\n",
       "    </tr>\n",
       "  </thead>\n",
       "  <tbody>\n",
       "    <tr>\n",
       "      <th>user</th>\n",
       "      <td>0.923065</td>\n",
       "      <td>0.927948</td>\n",
       "      <td>0.932993</td>\n",
       "    </tr>\n",
       "    <tr>\n",
       "      <th>article</th>\n",
       "      <td>0.889896</td>\n",
       "      <td>0.919314</td>\n",
       "      <td>0.910441</td>\n",
       "    </tr>\n",
       "    <tr>\n",
       "      <th>both</th>\n",
       "      <td>0.927002</td>\n",
       "      <td>0.934128</td>\n",
       "      <td>0.938158</td>\n",
       "    </tr>\n",
       "  </tbody>\n",
       "</table>\n",
       "</div>"
      ],
      "text/plain": [
       "           random   blocked      both\n",
       "user     0.923065  0.927948  0.932993\n",
       "article  0.889896  0.919314  0.910441\n",
       "both     0.927002  0.934128  0.938158"
      ]
     },
     "execution_count": 19,
     "metadata": {},
     "output_type": "execute_result"
    },
    {
     "name": "stdout",
     "output_type": "stream",
     "text": [
      "time: 5.79 ms\n"
     ]
    }
   ],
   "source": [
    "roc_df"
   ]
  },
  {
   "cell_type": "code",
   "execution_count": 20,
   "metadata": {
    "collapsed": false
   },
   "outputs": [
    {
     "data": {
      "text/html": [
       "<div>\n",
       "<table border=\"1\" class=\"dataframe\">\n",
       "  <thead>\n",
       "    <tr style=\"text-align: right;\">\n",
       "      <th></th>\n",
       "      <th>random</th>\n",
       "      <th>blocked</th>\n",
       "      <th>both</th>\n",
       "    </tr>\n",
       "  </thead>\n",
       "  <tbody>\n",
       "    <tr>\n",
       "      <th>user</th>\n",
       "      <td>0.659160</td>\n",
       "      <td>0.788431</td>\n",
       "      <td>0.798242</td>\n",
       "    </tr>\n",
       "    <tr>\n",
       "      <th>article</th>\n",
       "      <td>0.375373</td>\n",
       "      <td>0.572697</td>\n",
       "      <td>0.526482</td>\n",
       "    </tr>\n",
       "    <tr>\n",
       "      <th>both</th>\n",
       "      <td>0.552194</td>\n",
       "      <td>0.736674</td>\n",
       "      <td>0.718135</td>\n",
       "    </tr>\n",
       "  </tbody>\n",
       "</table>\n",
       "</div>"
      ],
      "text/plain": [
       "           random   blocked      both\n",
       "user     0.659160  0.788431  0.798242\n",
       "article  0.375373  0.572697  0.526482\n",
       "both     0.552194  0.736674  0.718135"
      ]
     },
     "execution_count": 20,
     "metadata": {},
     "output_type": "execute_result"
    },
    {
     "name": "stdout",
     "output_type": "stream",
     "text": [
      "time: 6.15 ms\n"
     ]
    }
   ],
   "source": [
    "spearman_df"
   ]
  },
  {
   "cell_type": "markdown",
   "metadata": {},
   "source": [
    "### Eval Deep EDP"
   ]
  },
  {
   "cell_type": "code",
   "execution_count": 21,
   "metadata": {
    "collapsed": false
   },
   "outputs": [
    {
     "name": "stdout",
     "output_type": "stream",
     "text": [
      "Epoch 1/4\n",
      "101232/101232 [==============================] - 32s - loss: 0.1508 - acc: 0.8748    \n",
      "Epoch 2/4\n",
      "101232/101232 [==============================] - 30s - loss: 0.0961 - acc: 0.9050    \n",
      "Epoch 3/4\n",
      "101232/101232 [==============================] - 31s - loss: 0.0902 - acc: 0.9115    \n",
      "Epoch 4/4\n",
      "101232/101232 [==============================] - 31s - loss: 0.0858 - acc: 0.9155    \n",
      "4000/4000 [==============================] - 1s     \n",
      "4000/4000 [==============================] - 0s     \n",
      "8000/8000 [==============================] - 0s     \n",
      "25300/25310 [============================>.] - ETA: 0stime: 2min 44s\n"
     ]
    }
   ],
   "source": [
    "deep_model =  KerasClassifier(build_fn=make_MLP,\n",
    "                               output_dim = n_classes,\n",
    "                               input_dim = 10000,\n",
    "                               nb_epoch = 4,\n",
    "                               batch_size = 100,\n",
    "                               l = 0.0000001, \n",
    "                               layers = [50, 10])\n",
    "deep_model.fit(X_train, y_train)\n",
    "roc_df, spearman_df = test_cross(deep_model, data, xtype)"
   ]
  },
  {
   "cell_type": "code",
   "execution_count": 22,
   "metadata": {
    "collapsed": false
   },
   "outputs": [
    {
     "data": {
      "text/html": [
       "<div>\n",
       "<table border=\"1\" class=\"dataframe\">\n",
       "  <thead>\n",
       "    <tr style=\"text-align: right;\">\n",
       "      <th></th>\n",
       "      <th>random</th>\n",
       "      <th>blocked</th>\n",
       "      <th>both</th>\n",
       "    </tr>\n",
       "  </thead>\n",
       "  <tbody>\n",
       "    <tr>\n",
       "      <th>user</th>\n",
       "      <td>0.927201</td>\n",
       "      <td>0.935063</td>\n",
       "      <td>0.939174</td>\n",
       "    </tr>\n",
       "    <tr>\n",
       "      <th>article</th>\n",
       "      <td>0.893247</td>\n",
       "      <td>0.933452</td>\n",
       "      <td>0.921682</td>\n",
       "    </tr>\n",
       "    <tr>\n",
       "      <th>both</th>\n",
       "      <td>0.929819</td>\n",
       "      <td>0.941057</td>\n",
       "      <td>0.943983</td>\n",
       "    </tr>\n",
       "  </tbody>\n",
       "</table>\n",
       "</div>"
      ],
      "text/plain": [
       "           random   blocked      both\n",
       "user     0.927201  0.935063  0.939174\n",
       "article  0.893247  0.933452  0.921682\n",
       "both     0.929819  0.941057  0.943983"
      ]
     },
     "execution_count": 22,
     "metadata": {},
     "output_type": "execute_result"
    },
    {
     "name": "stdout",
     "output_type": "stream",
     "text": [
      "time: 5.89 ms\n"
     ]
    }
   ],
   "source": [
    "roc_df"
   ]
  },
  {
   "cell_type": "code",
   "execution_count": 23,
   "metadata": {
    "collapsed": false
   },
   "outputs": [
    {
     "data": {
      "text/html": [
       "<div>\n",
       "<table border=\"1\" class=\"dataframe\">\n",
       "  <thead>\n",
       "    <tr style=\"text-align: right;\">\n",
       "      <th></th>\n",
       "      <th>random</th>\n",
       "      <th>blocked</th>\n",
       "      <th>both</th>\n",
       "    </tr>\n",
       "  </thead>\n",
       "  <tbody>\n",
       "    <tr>\n",
       "      <th>user</th>\n",
       "      <td>0.672777</td>\n",
       "      <td>0.804951</td>\n",
       "      <td>0.809583</td>\n",
       "    </tr>\n",
       "    <tr>\n",
       "      <th>article</th>\n",
       "      <td>0.393141</td>\n",
       "      <td>0.604627</td>\n",
       "      <td>0.552219</td>\n",
       "    </tr>\n",
       "    <tr>\n",
       "      <th>both</th>\n",
       "      <td>0.566397</td>\n",
       "      <td>0.755509</td>\n",
       "      <td>0.732789</td>\n",
       "    </tr>\n",
       "  </tbody>\n",
       "</table>\n",
       "</div>"
      ],
      "text/plain": [
       "           random   blocked      both\n",
       "user     0.672777  0.804951  0.809583\n",
       "article  0.393141  0.604627  0.552219\n",
       "both     0.566397  0.755509  0.732789"
      ]
     },
     "execution_count": 23,
     "metadata": {},
     "output_type": "execute_result"
    },
    {
     "name": "stdout",
     "output_type": "stream",
     "text": [
      "time: 5.05 ms\n"
     ]
    }
   ],
   "source": [
    "spearman_df"
   ]
  },
  {
   "cell_type": "markdown",
   "metadata": {},
   "source": [
    "### Check Calibration"
   ]
  },
  {
   "cell_type": "code",
   "execution_count": 24,
   "metadata": {
    "collapsed": false,
    "scrolled": true
   },
   "outputs": [
    {
     "name": "stdout",
     "output_type": "stream",
     "text": [
      "25300/25310 [============================>.] - ETA: 0s"
     ]
    },
    {
     "data": {
      "image/png": "[encoded data removed]",
      "text/plain": [
       "<matplotlib.figure.Figure at 0x1705b7518>"
      ]
     },
     "metadata": {},
     "output_type": "display_data"
    },
    {
     "data": {
      "text/plain": [
       "<matplotlib.figure.Figure at 0x105de5828>"
      ]
     },
     "metadata": {},
     "output_type": "display_data"
    },
    {
     "data": {
      "image/png": "[encoded data removed]",
      "text/plain": [
       "<matplotlib.figure.Figure at 0x170b4c908>"
      ]
     },
     "metadata": {},
     "output_type": "display_data"
    },
    {
     "data": {
      "text/plain": [
       "<matplotlib.figure.Figure at 0x170b25b70>"
      ]
     },
     "metadata": {},
     "output_type": "display_data"
    },
    {
     "data": {
      "image/png": "[encoded data removed]",
      "text/plain": [
       "<matplotlib.figure.Figure at 0x1778c7668>"
      ]
     },
     "metadata": {},
     "output_type": "display_data"
    },
    {
     "data": {
      "text/plain": [
       "<matplotlib.figure.Figure at 0x1778d4ac8>"
      ]
     },
     "metadata": {},
     "output_type": "display_data"
    },
    {
     "name": "stdout",
     "output_type": "stream",
     "text": [
      "time: 8.94 s\n"
     ]
    }
   ],
   "source": [
    "y_test_oh = one_hot(y_test)\n",
    "y_pred_ed = deep_model.predict_proba(X_test)\n",
    "\n",
    "if n_classes > 2:\n",
    "    classes = range(n_classes)\n",
    "else:\n",
    "    classes = [1]\n",
    "\n",
    "for i in classes:\n",
    "    plt.figure()\n",
    "    calibration_curve_plotter(y_test_oh[:, i], y_pred_ed[:, i])\n",
    "    plt.show()"
   ]
  }
 ],
 "metadata": {
  "kernelspec": {
   "display_name": "Python 3",
   "language": "python",
   "name": "python3"
  },
  "language_info": {
   "codemirror_mode": {
    "name": "ipython",
    "version": 3
   },
   "file_extension": ".py",
   "mimetype": "text/x-python",
   "name": "python",
   "nbconvert_exporter": "python",
   "pygments_lexer": "ipython3",
   "version": "3.5.1"
  }
 },
 "nbformat": 4,
 "nbformat_minor": 0
}
