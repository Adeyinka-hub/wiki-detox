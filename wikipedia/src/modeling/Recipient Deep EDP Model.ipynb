{
 "cells": [
  {
   "cell_type": "code",
   "execution_count": 1,
   "metadata": {
    "collapsed": false
   },
   "outputs": [],
   "source": [
    "%load_ext autoreload\n",
    "%autoreload 2\n",
    "%matplotlib inline\n",
    "import warnings\n",
    "warnings.filterwarnings('ignore')\n",
    "import tensorflow as tf\n",
    "\n",
    "from ngram import *\n",
    "from baselines import *\n",
    "from error_analysis import *"
   ]
  },
  {
   "cell_type": "code",
   "execution_count": 2,
   "metadata": {
    "collapsed": false
   },
   "outputs": [],
   "source": [
    "d_b, d_r =load_cf_data()\n",
    "d_br = pd.concat([d_b, d_r])"
   ]
  },
  {
   "cell_type": "code",
   "execution_count": 3,
   "metadata": {
    "collapsed": true
   },
   "outputs": [],
   "source": [
    "max_features = 5000\n",
    "architecture = [50, 20]"
   ]
  },
  {
   "cell_type": "code",
   "execution_count": 4,
   "metadata": {
    "collapsed": true
   },
   "outputs": [],
   "source": [
    "ngram_feature_pipeline = Pipeline([\n",
    "    ('vect', CountVectorizer(ngram_range = (1,5), analyzer = 'char', max_features = max_features)),\n",
    "    ('tfidf', TfidfTransformer(sublinear_tf=True,norm='l2')),\n",
    "])"
   ]
  },
  {
   "cell_type": "code",
   "execution_count": 5,
   "metadata": {
    "collapsed": true
   },
   "outputs": [],
   "source": [
    "training_epochs = 75\n",
    "batch_size = 500\n",
    "display_step = 500"
   ]
  },
  {
   "cell_type": "markdown",
   "metadata": {},
   "source": [
    "# BR on BR, EDP"
   ]
  },
  {
   "cell_type": "code",
   "execution_count": 6,
   "metadata": {
    "collapsed": false
   },
   "outputs": [],
   "source": [
    "X_train, y_train, X_test, y_test = tf_prep(d_br, ngram_feature_pipeline, 'recipient', empirical_dist)"
   ]
  },
  {
   "cell_type": "markdown",
   "metadata": {},
   "source": [
    "Fit a softmax regression to the empirical distribtion of annotions over answer choices."
   ]
  },
  {
   "cell_type": "code",
   "execution_count": 7,
   "metadata": {
    "collapsed": false,
    "scrolled": true
   },
   "outputs": [
    {
     "name": "stdout",
     "output_type": "stream",
     "text": [
      "Batch: 0001 cost= 65.130706787\n",
      "\n",
      "\tTrain Micro ROC: 0.83531692779\n",
      "\tTest Micro ROC: 0.839093797575\n",
      "\n",
      "\tTrain Micro F1: 0.17683378612\n",
      "\tTest Micro F1: 0.172650878533\n",
      "\n",
      "\tTrain Macro F1: 0.17683378612\n",
      "\tTest Macro F1: 0.172650878533\n",
      "\n",
      "\tTrain Pearson Correlation:  0.0504961172778\n",
      "\tTest Pearson Correlation:  0.0576443940761\n",
      "\n",
      "\tTrain Spearman Correlation:  0.0577249387962\n",
      "\tTest Spearman Correlation:  0.0565895634968\n",
      "\n",
      "\tTrain RMSE:  0.40687589871182844\n",
      "\tTest RMSE:  0.4017633841739385\n",
      "\n",
      "\tTrain R^2:  -0.480200589103\n",
      "\tTest R^2:  -0.466948049146\n",
      "\n",
      "\n",
      "Batch: 0501 cost= 32.111542932\n",
      "\n",
      "\tTrain Micro ROC:"
     ]
    },
    {
     "name": "stderr",
     "output_type": "stream",
     "text": [
      "/Users/ellerywulczyn/miniconda3/lib/python3.5/site-packages/sklearn/metrics/classification.py:976: DeprecationWarning: From version 0.18, binary input will not be handled specially when using averaged precision/recall/F-score. Please use average='binary' to report only the positive class performance.\n",
      "  'positive class performance.', DeprecationWarning)\n",
      "/Users/ellerywulczyn/miniconda3/lib/python3.5/site-packages/sklearn/metrics/classification.py:976: DeprecationWarning: From version 0.18, binary input will not be handled specially when using averaged precision/recall/F-score. Please use average='binary' to report only the positive class performance.\n",
      "  'positive class performance.', DeprecationWarning)\n",
      "/Users/ellerywulczyn/miniconda3/lib/python3.5/site-packages/sklearn/metrics/classification.py:976: DeprecationWarning: From version 0.18, binary input will not be handled specially when using averaged precision/recall/F-score. Please use average='binary' to report only the positive class performance.\n",
      "  'positive class performance.', DeprecationWarning)\n",
      "/Users/ellerywulczyn/miniconda3/lib/python3.5/site-packages/sklearn/metrics/classification.py:976: DeprecationWarning: From version 0.18, binary input will not be handled specially when using averaged precision/recall/F-score. Please use average='binary' to report only the positive class performance.\n",
      "  'positive class performance.', DeprecationWarning)\n",
      "/Users/ellerywulczyn/miniconda3/lib/python3.5/site-packages/sklearn/metrics/classification.py:976: DeprecationWarning: From version 0.18, binary input will not be handled specially when using averaged precision/recall/F-score. Please use average='binary' to report only the positive class performance.\n",
      "  'positive class performance.', DeprecationWarning)\n"
     ]
    },
    {
     "name": "stdout",
     "output_type": "stream",
     "text": [
      " 0.946051848231\n",
      "\tTest Micro ROC: 0.945366016896\n",
      "\n",
      "\tTrain Micro F1: 0.425246025738\n",
      "\tTest Micro F1: 0.399211045365\n",
      "\n",
      "\tTrain Macro F1: 0.425246025738\n",
      "\tTest Macro F1: 0.399211045365\n",
      "\n",
      "\tTrain Pearson Correlation:  0.507491941076\n",
      "\tTest Pearson Correlation:  0.484746108418\n",
      "\n",
      "\tTrain Spearman Correlation:  0.352668188347\n",
      "\tTest Spearman Correlation:  0.335600757457\n",
      "\n",
      "\tTrain RMSE:  0.21457919875851084\n",
      "\tTest RMSE:  0.21623481898792385\n",
      "\n",
      "\tTrain R^2:  -0.888882993114\n",
      "\tTest R^2:  -0.94113552643\n",
      "\n",
      "\n",
      "Batch: 1001 cost= 15.664922564\n",
      "\n",
      "\tTrain Micro ROC:"
     ]
    },
    {
     "name": "stderr",
     "output_type": "stream",
     "text": [
      "/Users/ellerywulczyn/miniconda3/lib/python3.5/site-packages/sklearn/metrics/classification.py:976: DeprecationWarning: From version 0.18, binary input will not be handled specially when using averaged precision/recall/F-score. Please use average='binary' to report only the positive class performance.\n",
      "  'positive class performance.', DeprecationWarning)\n",
      "/Users/ellerywulczyn/miniconda3/lib/python3.5/site-packages/sklearn/metrics/classification.py:976: DeprecationWarning: From version 0.18, binary input will not be handled specially when using averaged precision/recall/F-score. Please use average='binary' to report only the positive class performance.\n",
      "  'positive class performance.', DeprecationWarning)\n",
      "/Users/ellerywulczyn/miniconda3/lib/python3.5/site-packages/sklearn/metrics/classification.py:976: DeprecationWarning: From version 0.18, binary input will not be handled specially when using averaged precision/recall/F-score. Please use average='binary' to report only the positive class performance.\n",
      "  'positive class performance.', DeprecationWarning)\n",
      "/Users/ellerywulczyn/miniconda3/lib/python3.5/site-packages/sklearn/metrics/classification.py:976: DeprecationWarning: From version 0.18, binary input will not be handled specially when using averaged precision/recall/F-score. Please use average='binary' to report only the positive class performance.\n",
      "  'positive class performance.', DeprecationWarning)\n"
     ]
    },
    {
     "name": "stdout",
     "output_type": "stream",
     "text": [
      " 0.970379494295\n",
      "\tTest Micro ROC: 0.970305209425\n",
      "\n",
      "\tTrain Micro F1: 0.559815668203\n",
      "\tTest Micro F1: 0.554744525547\n",
      "\n",
      "\tTrain Macro F1: 0.559815668203\n",
      "\tTest Macro F1: 0.554744525547\n",
      "\n",
      "\tTrain Pearson Correlation:  0.686663249289\n",
      "\tTest Pearson Correlation:  0.673725878619\n",
      "\n",
      "\tTrain Spearman Correlation:  0.492441173948\n",
      "\tTest Spearman Correlation:  0.475255264454\n",
      "\n",
      "\tTrain RMSE:  0.1788648585815007\n",
      "\tTest RMSE:  0.17966594878219222\n",
      "\n",
      "\tTrain R^2:  -0.176597748678\n",
      "\tTest R^2:  -0.237956739736\n",
      "\n",
      "\n",
      "Batch: 1501 cost= 7.554307842\n",
      "\n",
      "\tTrain Micro ROC:"
     ]
    },
    {
     "name": "stderr",
     "output_type": "stream",
     "text": [
      "/Users/ellerywulczyn/miniconda3/lib/python3.5/site-packages/sklearn/metrics/classification.py:976: DeprecationWarning: From version 0.18, binary input will not be handled specially when using averaged precision/recall/F-score. Please use average='binary' to report only the positive class performance.\n",
      "  'positive class performance.', DeprecationWarning)\n",
      "/Users/ellerywulczyn/miniconda3/lib/python3.5/site-packages/sklearn/metrics/classification.py:976: DeprecationWarning: From version 0.18, binary input will not be handled specially when using averaged precision/recall/F-score. Please use average='binary' to report only the positive class performance.\n",
      "  'positive class performance.', DeprecationWarning)\n",
      "/Users/ellerywulczyn/miniconda3/lib/python3.5/site-packages/sklearn/metrics/classification.py:976: DeprecationWarning: From version 0.18, binary input will not be handled specially when using averaged precision/recall/F-score. Please use average='binary' to report only the positive class performance.\n",
      "  'positive class performance.', DeprecationWarning)\n",
      "/Users/ellerywulczyn/miniconda3/lib/python3.5/site-packages/sklearn/metrics/classification.py:976: DeprecationWarning: From version 0.18, binary input will not be handled specially when using averaged precision/recall/F-score. Please use average='binary' to report only the positive class performance.\n",
      "  'positive class performance.', DeprecationWarning)\n"
     ]
    },
    {
     "name": "stdout",
     "output_type": "stream",
     "text": [
      " 0.979068485074\n",
      "\tTest Micro ROC: 0.978555537624\n",
      "\n",
      "\tTrain Micro F1: 0.631039660807\n",
      "\tTest Micro F1: 0.627651792246\n",
      "\n",
      "\tTrain Macro F1: 0.631039660807\n",
      "\tTest Macro F1: 0.627651792246\n",
      "\n",
      "\tTrain Pearson Correlation:  0.759095617025\n",
      "\tTest Pearson Correlation:  0.744063910712\n",
      "\n",
      "\tTrain Spearman Correlation:  0.566774409763\n",
      "\tTest Spearman Correlation:  0.547672527063\n",
      "\n",
      "\tTrain RMSE:  0.16046501998172846\n",
      "\tTest RMSE:  0.16268577194811826\n",
      "\n",
      "\tTrain R^2:  0.186456556222\n",
      "\tTest R^2:  0.130221906537\n",
      "\n",
      "\n",
      "Batch: 2001 cost= 3.653103814\n",
      "\n",
      "\tTrain Micro ROC:"
     ]
    },
    {
     "name": "stderr",
     "output_type": "stream",
     "text": [
      "/Users/ellerywulczyn/miniconda3/lib/python3.5/site-packages/sklearn/metrics/classification.py:976: DeprecationWarning: From version 0.18, binary input will not be handled specially when using averaged precision/recall/F-score. Please use average='binary' to report only the positive class performance.\n",
      "  'positive class performance.', DeprecationWarning)\n",
      "/Users/ellerywulczyn/miniconda3/lib/python3.5/site-packages/sklearn/metrics/classification.py:976: DeprecationWarning: From version 0.18, binary input will not be handled specially when using averaged precision/recall/F-score. Please use average='binary' to report only the positive class performance.\n",
      "  'positive class performance.', DeprecationWarning)\n",
      "/Users/ellerywulczyn/miniconda3/lib/python3.5/site-packages/sklearn/metrics/classification.py:976: DeprecationWarning: From version 0.18, binary input will not be handled specially when using averaged precision/recall/F-score. Please use average='binary' to report only the positive class performance.\n",
      "  'positive class performance.', DeprecationWarning)\n",
      "/Users/ellerywulczyn/miniconda3/lib/python3.5/site-packages/sklearn/metrics/classification.py:976: DeprecationWarning: From version 0.18, binary input will not be handled specially when using averaged precision/recall/F-score. Please use average='binary' to report only the positive class performance.\n",
      "  'positive class performance.', DeprecationWarning)\n"
     ]
    },
    {
     "name": "stdout",
     "output_type": "stream",
     "text": [
      " 0.98326385254\n",
      "\tTest Micro ROC: 0.982472861351\n",
      "\n",
      "\tTrain Micro F1: 0.672999572101\n",
      "\tTest Micro F1: 0.661204132526\n",
      "\n",
      "\tTrain Macro F1: 0.672999572101\n",
      "\tTest Macro F1: 0.661204132526\n",
      "\n",
      "\tTrain Pearson Correlation:  0.795222621332\n",
      "\tTest Pearson Correlation:  0.778211744047\n",
      "\n",
      "\tTrain Spearman Correlation:  0.608182579498\n",
      "\tTest Spearman Correlation:  0.588289550523\n",
      "\n",
      "\tTrain RMSE:  0.14957545649066054\n",
      "\tTest RMSE:  0.15296615396774874\n",
      "\n",
      "\tTrain R^2:  0.351288101044\n",
      "\tTest R^2:  0.295164250925\n",
      "\n",
      "\n",
      "Batch: 2501 cost= 1.684742720\n",
      "\n",
      "\tTrain Micro ROC:"
     ]
    },
    {
     "name": "stderr",
     "output_type": "stream",
     "text": [
      "/Users/ellerywulczyn/miniconda3/lib/python3.5/site-packages/sklearn/metrics/classification.py:976: DeprecationWarning: From version 0.18, binary input will not be handled specially when using averaged precision/recall/F-score. Please use average='binary' to report only the positive class performance.\n",
      "  'positive class performance.', DeprecationWarning)\n",
      "/Users/ellerywulczyn/miniconda3/lib/python3.5/site-packages/sklearn/metrics/classification.py:976: DeprecationWarning: From version 0.18, binary input will not be handled specially when using averaged precision/recall/F-score. Please use average='binary' to report only the positive class performance.\n",
      "  'positive class performance.', DeprecationWarning)\n",
      "/Users/ellerywulczyn/miniconda3/lib/python3.5/site-packages/sklearn/metrics/classification.py:976: DeprecationWarning: From version 0.18, binary input will not be handled specially when using averaged precision/recall/F-score. Please use average='binary' to report only the positive class performance.\n",
      "  'positive class performance.', DeprecationWarning)\n",
      "/Users/ellerywulczyn/miniconda3/lib/python3.5/site-packages/sklearn/metrics/classification.py:976: DeprecationWarning: From version 0.18, binary input will not be handled specially when using averaged precision/recall/F-score. Please use average='binary' to report only the positive class performance.\n",
      "  'positive class performance.', DeprecationWarning)\n"
     ]
    },
    {
     "name": "stdout",
     "output_type": "stream",
     "text": [
      " 0.985682350632\n",
      "\tTest Micro ROC: 0.984657938771\n",
      "\n",
      "\tTrain Micro F1: 0.707183225489\n",
      "\tTest Micro F1: 0.692360163711\n",
      "\n",
      "\tTrain Macro F1: 0.707183225489\n",
      "\tTest Macro F1: 0.692360163711\n",
      "\n",
      "\tTrain Pearson Correlation:  0.817260758891\n",
      "\tTest Pearson Correlation:  0.798092137692\n",
      "\n",
      "\tTrain Spearman Correlation:  0.632825108003\n",
      "\tTest Spearman Correlation:  0.611566522207\n",
      "\n",
      "\tTrain RMSE:  0.14192499093892508\n",
      "\tTest RMSE:  0.146530593065567\n",
      "\n",
      "\tTrain R^2:  0.464463551756\n",
      "\tTest R^2:  0.406551437978\n",
      "\n",
      "\n",
      "Batch: 3001 cost= 0.939951450\n",
      "\n",
      "\tTrain Micro ROC:"
     ]
    },
    {
     "name": "stderr",
     "output_type": "stream",
     "text": [
      "/Users/ellerywulczyn/miniconda3/lib/python3.5/site-packages/sklearn/metrics/classification.py:976: DeprecationWarning: From version 0.18, binary input will not be handled specially when using averaged precision/recall/F-score. Please use average='binary' to report only the positive class performance.\n",
      "  'positive class performance.', DeprecationWarning)\n",
      "/Users/ellerywulczyn/miniconda3/lib/python3.5/site-packages/sklearn/metrics/classification.py:976: DeprecationWarning: From version 0.18, binary input will not be handled specially when using averaged precision/recall/F-score. Please use average='binary' to report only the positive class performance.\n",
      "  'positive class performance.', DeprecationWarning)\n",
      "/Users/ellerywulczyn/miniconda3/lib/python3.5/site-packages/sklearn/metrics/classification.py:976: DeprecationWarning: From version 0.18, binary input will not be handled specially when using averaged precision/recall/F-score. Please use average='binary' to report only the positive class performance.\n",
      "  'positive class performance.', DeprecationWarning)\n",
      "/Users/ellerywulczyn/miniconda3/lib/python3.5/site-packages/sklearn/metrics/classification.py:976: DeprecationWarning: From version 0.18, binary input will not be handled specially when using averaged precision/recall/F-score. Please use average='binary' to report only the positive class performance.\n",
      "  'positive class performance.', DeprecationWarning)\n"
     ]
    },
    {
     "name": "stdout",
     "output_type": "stream",
     "text": [
      " 0.987069045824\n",
      "\tTest Micro ROC: 0.985618815348\n",
      "\n",
      "\tTrain Micro F1: 0.730455259027\n",
      "\tTest Micro F1: 0.717731421121\n",
      "\n",
      "\tTrain Macro F1: 0.730455259027\n",
      "\tTest Macro F1: 0.717731421121\n",
      "\n",
      "\tTrain Pearson Correlation:  0.83255172691\n",
      "\tTest Pearson Correlation:  0.810206661066\n",
      "\n",
      "\tTrain Spearman Correlation:  0.649286927337\n",
      "\tTest Spearman Correlation:  0.626004332882\n",
      "\n",
      "\tTrain RMSE:  0.13661253244754945\n",
      "\tTest RMSE:  0.14266975091209544\n",
      "\n",
      "\tTrain R^2:  0.521514337836\n",
      "\tTest R^2:  0.458247298838\n",
      "\n",
      "\n",
      "Batch: 3501 cost= 0.618284742\n",
      "\n",
      "\tTrain Micro ROC:"
     ]
    },
    {
     "name": "stderr",
     "output_type": "stream",
     "text": [
      "/Users/ellerywulczyn/miniconda3/lib/python3.5/site-packages/sklearn/metrics/classification.py:976: DeprecationWarning: From version 0.18, binary input will not be handled specially when using averaged precision/recall/F-score. Please use average='binary' to report only the positive class performance.\n",
      "  'positive class performance.', DeprecationWarning)\n",
      "/Users/ellerywulczyn/miniconda3/lib/python3.5/site-packages/sklearn/metrics/classification.py:976: DeprecationWarning: From version 0.18, binary input will not be handled specially when using averaged precision/recall/F-score. Please use average='binary' to report only the positive class performance.\n",
      "  'positive class performance.', DeprecationWarning)\n",
      "/Users/ellerywulczyn/miniconda3/lib/python3.5/site-packages/sklearn/metrics/classification.py:976: DeprecationWarning: From version 0.18, binary input will not be handled specially when using averaged precision/recall/F-score. Please use average='binary' to report only the positive class performance.\n",
      "  'positive class performance.', DeprecationWarning)\n",
      "/Users/ellerywulczyn/miniconda3/lib/python3.5/site-packages/sklearn/metrics/classification.py:976: DeprecationWarning: From version 0.18, binary input will not be handled specially when using averaged precision/recall/F-score. Please use average='binary' to report only the positive class performance.\n",
      "  'positive class performance.', DeprecationWarning)\n"
     ]
    },
    {
     "name": "stdout",
     "output_type": "stream",
     "text": [
      " 0.988542824065\n",
      "\tTest Micro ROC: 0.986978335735\n",
      "\n",
      "\tTrain Micro F1: 0.748416988417\n",
      "\tTest Micro F1: 0.731754161332\n",
      "\n",
      "\tTrain Macro F1: 0.748416988417\n",
      "\tTest Macro F1: 0.731754161332\n",
      "\n",
      "\tTrain Pearson Correlation:  0.845278452074\n",
      "\tTest Pearson Correlation:  0.820583858724\n",
      "\n",
      "\tTrain Spearman Correlation:  0.657352098806\n",
      "\tTest Spearman Correlation:  0.630123274247\n",
      "\n",
      "\tTrain RMSE:  0.1316792526232204\n",
      "\tTest RMSE:  0.13902782322593618\n",
      "\n",
      "\tTrain R^2:  0.572494789958\n",
      "\tTest R^2:  0.507020942452\n",
      "\n",
      "\n",
      "Batch: 4001 cost= 0.487060111\n",
      "\n",
      "\tTrain Micro ROC:"
     ]
    },
    {
     "name": "stderr",
     "output_type": "stream",
     "text": [
      "/Users/ellerywulczyn/miniconda3/lib/python3.5/site-packages/sklearn/metrics/classification.py:976: DeprecationWarning: From version 0.18, binary input will not be handled specially when using averaged precision/recall/F-score. Please use average='binary' to report only the positive class performance.\n",
      "  'positive class performance.', DeprecationWarning)\n",
      "/Users/ellerywulczyn/miniconda3/lib/python3.5/site-packages/sklearn/metrics/classification.py:976: DeprecationWarning: From version 0.18, binary input will not be handled specially when using averaged precision/recall/F-score. Please use average='binary' to report only the positive class performance.\n",
      "  'positive class performance.', DeprecationWarning)\n",
      "/Users/ellerywulczyn/miniconda3/lib/python3.5/site-packages/sklearn/metrics/classification.py:976: DeprecationWarning: From version 0.18, binary input will not be handled specially when using averaged precision/recall/F-score. Please use average='binary' to report only the positive class performance.\n",
      "  'positive class performance.', DeprecationWarning)\n",
      "/Users/ellerywulczyn/miniconda3/lib/python3.5/site-packages/sklearn/metrics/classification.py:976: DeprecationWarning: From version 0.18, binary input will not be handled specially when using averaged precision/recall/F-score. Please use average='binary' to report only the positive class performance.\n",
      "  'positive class performance.', DeprecationWarning)\n"
     ]
    },
    {
     "name": "stdout",
     "output_type": "stream",
     "text": [
      " 0.989227909339\n",
      "\tTest Micro ROC: 0.98746456686\n",
      "\n",
      "\tTrain Micro F1: 0.757409104797\n",
      "\tTest Micro F1: 0.737242472266\n",
      "\n",
      "\tTrain Macro F1: 0.757409104797\n",
      "\tTest Macro F1: 0.737242472266\n",
      "\n",
      "\tTrain Pearson Correlation:  0.851818660767\n",
      "\tTest Pearson Correlation:  0.825404678935\n",
      "\n",
      "\tTrain Spearman Correlation:  0.666006624407\n",
      "\tTest Spearman Correlation:  0.634338300071\n",
      "\n",
      "\tTrain RMSE:  0.12912742449421627\n",
      "\tTest RMSE:  0.1373561608438891\n",
      "\n",
      "\tTrain R^2:  0.595904178212\n",
      "\tTest R^2:  0.526288162046\n",
      "\n",
      "\n",
      "Batch: 4501 cost= 0.430184896\n",
      "\n",
      "\tTrain Micro ROC:"
     ]
    },
    {
     "name": "stderr",
     "output_type": "stream",
     "text": [
      "/Users/ellerywulczyn/miniconda3/lib/python3.5/site-packages/sklearn/metrics/classification.py:976: DeprecationWarning: From version 0.18, binary input will not be handled specially when using averaged precision/recall/F-score. Please use average='binary' to report only the positive class performance.\n",
      "  'positive class performance.', DeprecationWarning)\n",
      "/Users/ellerywulczyn/miniconda3/lib/python3.5/site-packages/sklearn/metrics/classification.py:976: DeprecationWarning: From version 0.18, binary input will not be handled specially when using averaged precision/recall/F-score. Please use average='binary' to report only the positive class performance.\n",
      "  'positive class performance.', DeprecationWarning)\n",
      "/Users/ellerywulczyn/miniconda3/lib/python3.5/site-packages/sklearn/metrics/classification.py:976: DeprecationWarning: From version 0.18, binary input will not be handled specially when using averaged precision/recall/F-score. Please use average='binary' to report only the positive class performance.\n",
      "  'positive class performance.', DeprecationWarning)\n",
      "/Users/ellerywulczyn/miniconda3/lib/python3.5/site-packages/sklearn/metrics/classification.py:976: DeprecationWarning: From version 0.18, binary input will not be handled specially when using averaged precision/recall/F-score. Please use average='binary' to report only the positive class performance.\n",
      "  'positive class performance.', DeprecationWarning)\n"
     ]
    },
    {
     "name": "stdout",
     "output_type": "stream",
     "text": [
      " 0.989673451519\n",
      "\tTest Micro ROC: 0.987514123147\n",
      "\n",
      "\tTrain Micro F1: 0.760087582108\n",
      "\tTest Micro F1: 0.738680465718\n",
      "\n",
      "\tTrain Macro F1: 0.760087582108\n",
      "\tTest Macro F1: 0.738680465718\n",
      "\n",
      "\tTrain Pearson Correlation:  0.856502328324\n",
      "\tTest Pearson Correlation:  0.825549559045\n",
      "\n",
      "\tTrain Spearman Correlation:  0.67079914133\n",
      "\tTest Spearman Correlation:  0.635057510471\n",
      "\n",
      "\tTrain RMSE:  0.12753505108336033\n",
      "\tTest RMSE:  0.13732274920823376\n",
      "\n",
      "\tTrain R^2:  0.590434024329\n",
      "\tTest R^2:  0.51053055456\n",
      "\n",
      "\n",
      "Batch: 5001 cost= 0.409271698\n",
      "\n",
      "\tTrain Micro ROC:"
     ]
    },
    {
     "name": "stderr",
     "output_type": "stream",
     "text": [
      "/Users/ellerywulczyn/miniconda3/lib/python3.5/site-packages/sklearn/metrics/classification.py:976: DeprecationWarning: From version 0.18, binary input will not be handled specially when using averaged precision/recall/F-score. Please use average='binary' to report only the positive class performance.\n",
      "  'positive class performance.', DeprecationWarning)\n",
      "/Users/ellerywulczyn/miniconda3/lib/python3.5/site-packages/sklearn/metrics/classification.py:976: DeprecationWarning: From version 0.18, binary input will not be handled specially when using averaged precision/recall/F-score. Please use average='binary' to report only the positive class performance.\n",
      "  'positive class performance.', DeprecationWarning)\n",
      "/Users/ellerywulczyn/miniconda3/lib/python3.5/site-packages/sklearn/metrics/classification.py:976: DeprecationWarning: From version 0.18, binary input will not be handled specially when using averaged precision/recall/F-score. Please use average='binary' to report only the positive class performance.\n",
      "  'positive class performance.', DeprecationWarning)\n",
      "/Users/ellerywulczyn/miniconda3/lib/python3.5/site-packages/sklearn/metrics/classification.py:976: DeprecationWarning: From version 0.18, binary input will not be handled specially when using averaged precision/recall/F-score. Please use average='binary' to report only the positive class performance.\n",
      "  'positive class performance.', DeprecationWarning)\n"
     ]
    },
    {
     "name": "stdout",
     "output_type": "stream",
     "text": [
      " 0.990052616387\n",
      "\tTest Micro ROC: 0.987548492117\n",
      "\n",
      "\tTrain Micro F1: 0.774227660699\n",
      "\tTest Micro F1: 0.746791862285\n",
      "\n",
      "\tTrain Macro F1: 0.774227660699\n",
      "\tTest Macro F1: 0.746791862285\n",
      "\n",
      "\tTrain Pearson Correlation:  0.860080460148\n",
      "\tTest Pearson Correlation:  0.828280093469\n",
      "\n",
      "\tTrain Spearman Correlation:  0.672176356156\n",
      "\tTest Spearman Correlation:  0.635364966269\n",
      "\n",
      "\tTrain RMSE:  0.1258135489484373\n",
      "\tTest RMSE:  0.13626640508654986\n",
      "\n",
      "\tTrain R^2:  0.616526402504\n",
      "\tTest R^2:  0.535814314454\n",
      "\n",
      "\n",
      "Batch: 5501 cost= 0.404020472\n",
      "\n",
      "\tTrain Micro ROC:"
     ]
    },
    {
     "name": "stderr",
     "output_type": "stream",
     "text": [
      "/Users/ellerywulczyn/miniconda3/lib/python3.5/site-packages/sklearn/metrics/classification.py:976: DeprecationWarning: From version 0.18, binary input will not be handled specially when using averaged precision/recall/F-score. Please use average='binary' to report only the positive class performance.\n",
      "  'positive class performance.', DeprecationWarning)\n",
      "/Users/ellerywulczyn/miniconda3/lib/python3.5/site-packages/sklearn/metrics/classification.py:976: DeprecationWarning: From version 0.18, binary input will not be handled specially when using averaged precision/recall/F-score. Please use average='binary' to report only the positive class performance.\n",
      "  'positive class performance.', DeprecationWarning)\n",
      "/Users/ellerywulczyn/miniconda3/lib/python3.5/site-packages/sklearn/metrics/classification.py:976: DeprecationWarning: From version 0.18, binary input will not be handled specially when using averaged precision/recall/F-score. Please use average='binary' to report only the positive class performance.\n",
      "  'positive class performance.', DeprecationWarning)\n",
      "/Users/ellerywulczyn/miniconda3/lib/python3.5/site-packages/sklearn/metrics/classification.py:976: DeprecationWarning: From version 0.18, binary input will not be handled specially when using averaged precision/recall/F-score. Please use average='binary' to report only the positive class performance.\n",
      "  'positive class performance.', DeprecationWarning)\n"
     ]
    },
    {
     "name": "stdout",
     "output_type": "stream",
     "text": [
      " 0.990085813831\n",
      "\tTest Micro ROC: 0.987538821124\n",
      "\n",
      "\tTrain Micro F1: 0.775501046964\n",
      "\tTest Micro F1: 0.751086281813\n",
      "\n",
      "\tTrain Macro F1: 0.775501046964\n",
      "\tTest Macro F1: 0.751086281813\n",
      "\n",
      "\tTrain Pearson Correlation:  0.861924738568\n",
      "\tTest Pearson Correlation:  0.828647135273\n",
      "\n",
      "\tTrain Spearman Correlation:  0.676938705137\n",
      "\tTest Spearman Correlation:  0.639925956936\n",
      "\n",
      "\tTrain RMSE:  0.1251070523557129\n",
      "\tTest RMSE:  0.13641089004365392\n",
      "\n",
      "\tTrain R^2:  0.63580858472\n",
      "\tTest R^2:  0.554419303341\n",
      "\n",
      "\n",
      "Batch: 6001 cost= 0.398582376\n",
      "\n",
      "\tTrain Micro ROC:"
     ]
    },
    {
     "name": "stderr",
     "output_type": "stream",
     "text": [
      "/Users/ellerywulczyn/miniconda3/lib/python3.5/site-packages/sklearn/metrics/classification.py:976: DeprecationWarning: From version 0.18, binary input will not be handled specially when using averaged precision/recall/F-score. Please use average='binary' to report only the positive class performance.\n",
      "  'positive class performance.', DeprecationWarning)\n",
      "/Users/ellerywulczyn/miniconda3/lib/python3.5/site-packages/sklearn/metrics/classification.py:976: DeprecationWarning: From version 0.18, binary input will not be handled specially when using averaged precision/recall/F-score. Please use average='binary' to report only the positive class performance.\n",
      "  'positive class performance.', DeprecationWarning)\n",
      "/Users/ellerywulczyn/miniconda3/lib/python3.5/site-packages/sklearn/metrics/classification.py:976: DeprecationWarning: From version 0.18, binary input will not be handled specially when using averaged precision/recall/F-score. Please use average='binary' to report only the positive class performance.\n",
      "  'positive class performance.', DeprecationWarning)\n",
      "/Users/ellerywulczyn/miniconda3/lib/python3.5/site-packages/sklearn/metrics/classification.py:976: DeprecationWarning: From version 0.18, binary input will not be handled specially when using averaged precision/recall/F-score. Please use average='binary' to report only the positive class performance.\n",
      "  'positive class performance.', DeprecationWarning)\n"
     ]
    },
    {
     "name": "stdout",
     "output_type": "stream",
     "text": [
      " 0.990288702593\n",
      "\tTest Micro ROC: 0.98814415278\n",
      "\n",
      "\tTrain Micro F1: 0.76515505688\n",
      "\tTest Micro F1: 0.73992910087\n",
      "\n",
      "\tTrain Macro F1: 0.76515505688\n",
      "\tTest Macro F1: 0.73992910087\n",
      "\n",
      "\tTrain Pearson Correlation:  0.861980873595\n",
      "\tTest Pearson Correlation:  0.829981286499\n",
      "\n",
      "\tTrain Spearman Correlation:  0.677609393631\n",
      "\tTest Spearman Correlation:  0.63824376271\n",
      "\n",
      "\tTrain RMSE:  0.1251487096073248\n",
      "\tTest RMSE:  0.1358073931944462\n",
      "\n",
      "\tTrain R^2:  0.624809045809\n",
      "\tTest R^2:  0.54242226286\n",
      "\n",
      "\n",
      "Batch: 6501 cost= 0.392571455\n",
      "\n",
      "\tTrain Micro ROC:"
     ]
    },
    {
     "name": "stderr",
     "output_type": "stream",
     "text": [
      "/Users/ellerywulczyn/miniconda3/lib/python3.5/site-packages/sklearn/metrics/classification.py:976: DeprecationWarning: From version 0.18, binary input will not be handled specially when using averaged precision/recall/F-score. Please use average='binary' to report only the positive class performance.\n",
      "  'positive class performance.', DeprecationWarning)\n",
      "/Users/ellerywulczyn/miniconda3/lib/python3.5/site-packages/sklearn/metrics/classification.py:976: DeprecationWarning: From version 0.18, binary input will not be handled specially when using averaged precision/recall/F-score. Please use average='binary' to report only the positive class performance.\n",
      "  'positive class performance.', DeprecationWarning)\n",
      "/Users/ellerywulczyn/miniconda3/lib/python3.5/site-packages/sklearn/metrics/classification.py:976: DeprecationWarning: From version 0.18, binary input will not be handled specially when using averaged precision/recall/F-score. Please use average='binary' to report only the positive class performance.\n",
      "  'positive class performance.', DeprecationWarning)\n",
      "/Users/ellerywulczyn/miniconda3/lib/python3.5/site-packages/sklearn/metrics/classification.py:976: DeprecationWarning: From version 0.18, binary input will not be handled specially when using averaged precision/recall/F-score. Please use average='binary' to report only the positive class performance.\n",
      "  'positive class performance.', DeprecationWarning)\n"
     ]
    },
    {
     "name": "stdout",
     "output_type": "stream",
     "text": [
      " 0.990560658793\n",
      "\tTest Micro ROC: 0.988034149303\n",
      "\n",
      "\tTrain Micro F1: 0.777146321134\n",
      "\tTest Micro F1: 0.749294006903\n",
      "\n",
      "\tTrain Macro F1: 0.777146321134\n",
      "\tTest Macro F1: 0.749294006903\n",
      "\n",
      "\tTrain Pearson Correlation:  0.864399284525\n",
      "\tTest Pearson Correlation:  0.830478656118\n",
      "\n",
      "\tTrain Spearman Correlation:  0.677505249665\n",
      "\tTest Spearman Correlation:  0.641244660688\n",
      "\n",
      "\tTrain RMSE:  0.12379573381349096\n",
      "\tTest RMSE:  0.13543670921593506\n",
      "\n",
      "\tTrain R^2:  0.642773722642\n",
      "\tTest R^2:  0.558664875134\n",
      "\n",
      "\n",
      "Batch: 7001 cost= 0.393966677\n",
      "\n",
      "\tTrain Micro ROC:"
     ]
    },
    {
     "name": "stderr",
     "output_type": "stream",
     "text": [
      "/Users/ellerywulczyn/miniconda3/lib/python3.5/site-packages/sklearn/metrics/classification.py:976: DeprecationWarning: From version 0.18, binary input will not be handled specially when using averaged precision/recall/F-score. Please use average='binary' to report only the positive class performance.\n",
      "  'positive class performance.', DeprecationWarning)\n",
      "/Users/ellerywulczyn/miniconda3/lib/python3.5/site-packages/sklearn/metrics/classification.py:976: DeprecationWarning: From version 0.18, binary input will not be handled specially when using averaged precision/recall/F-score. Please use average='binary' to report only the positive class performance.\n",
      "  'positive class performance.', DeprecationWarning)\n",
      "/Users/ellerywulczyn/miniconda3/lib/python3.5/site-packages/sklearn/metrics/classification.py:976: DeprecationWarning: From version 0.18, binary input will not be handled specially when using averaged precision/recall/F-score. Please use average='binary' to report only the positive class performance.\n",
      "  'positive class performance.', DeprecationWarning)\n",
      "/Users/ellerywulczyn/miniconda3/lib/python3.5/site-packages/sklearn/metrics/classification.py:976: DeprecationWarning: From version 0.18, binary input will not be handled specially when using averaged precision/recall/F-score. Please use average='binary' to report only the positive class performance.\n",
      "  'positive class performance.', DeprecationWarning)\n"
     ]
    },
    {
     "name": "stdout",
     "output_type": "stream",
     "text": [
      " 0.990347859515\n",
      "\tTest Micro ROC: 0.987542246171\n",
      "\n",
      "\tTrain Micro F1: 0.779769431015\n",
      "\tTest Micro F1: 0.754856614246\n",
      "\n",
      "\tTrain Macro F1: 0.779769431015\n",
      "\tTest Macro F1: 0.754856614246\n",
      "\n",
      "\tTrain Pearson Correlation:  0.864826092344\n",
      "\tTest Pearson Correlation:  0.829750275812\n",
      "\n",
      "\tTrain Spearman Correlation:  0.680478234824\n",
      "\tTest Spearman Correlation:  0.641594143278\n",
      "\n",
      "\tTrain RMSE:  0.12406911697014451\n",
      "\tTest RMSE:  0.13614305193542475\n",
      "\n",
      "\tTrain R^2:  0.64440092995\n",
      "\tTest R^2:  0.557091168436\n",
      "\n",
      "\n",
      "Batch: 7501 cost= 0.394430678\n",
      "\n",
      "\tTrain Micro ROC:"
     ]
    },
    {
     "name": "stderr",
     "output_type": "stream",
     "text": [
      "/Users/ellerywulczyn/miniconda3/lib/python3.5/site-packages/sklearn/metrics/classification.py:976: DeprecationWarning: From version 0.18, binary input will not be handled specially when using averaged precision/recall/F-score. Please use average='binary' to report only the positive class performance.\n",
      "  'positive class performance.', DeprecationWarning)\n",
      "/Users/ellerywulczyn/miniconda3/lib/python3.5/site-packages/sklearn/metrics/classification.py:976: DeprecationWarning: From version 0.18, binary input will not be handled specially when using averaged precision/recall/F-score. Please use average='binary' to report only the positive class performance.\n",
      "  'positive class performance.', DeprecationWarning)\n",
      "/Users/ellerywulczyn/miniconda3/lib/python3.5/site-packages/sklearn/metrics/classification.py:976: DeprecationWarning: From version 0.18, binary input will not be handled specially when using averaged precision/recall/F-score. Please use average='binary' to report only the positive class performance.\n",
      "  'positive class performance.', DeprecationWarning)\n",
      "/Users/ellerywulczyn/miniconda3/lib/python3.5/site-packages/sklearn/metrics/classification.py:976: DeprecationWarning: From version 0.18, binary input will not be handled specially when using averaged precision/recall/F-score. Please use average='binary' to report only the positive class performance.\n",
      "  'positive class performance.', DeprecationWarning)\n"
     ]
    },
    {
     "name": "stdout",
     "output_type": "stream",
     "text": [
      " 0.990676238646\n",
      "\tTest Micro ROC: 0.987877068863\n",
      "\n",
      "\tTrain Micro F1: 0.775854144324\n",
      "\tTest Micro F1: 0.749841671944\n",
      "\n",
      "\tTrain Macro F1: 0.775854144324\n",
      "\tTest Macro F1: 0.749841671944\n",
      "\n",
      "\tTrain Pearson Correlation:  0.866319106971\n",
      "\tTest Pearson Correlation:  0.830377872185\n",
      "\n",
      "\tTrain Spearman Correlation:  0.681061451146\n",
      "\tTest Spearman Correlation:  0.642017330689\n",
      "\n",
      "\tTrain RMSE:  0.12334315303198777\n",
      "\tTest RMSE:  0.13549195939962486\n",
      "\n",
      "\tTrain R^2:  0.627750711385\n",
      "\tTest R^2:  0.535807982604\n",
      "\n",
      "\n",
      "Batch: 8001 cost= 0.392842741\n",
      "\n",
      "\tTrain Micro ROC:"
     ]
    },
    {
     "name": "stderr",
     "output_type": "stream",
     "text": [
      "/Users/ellerywulczyn/miniconda3/lib/python3.5/site-packages/sklearn/metrics/classification.py:976: DeprecationWarning: From version 0.18, binary input will not be handled specially when using averaged precision/recall/F-score. Please use average='binary' to report only the positive class performance.\n",
      "  'positive class performance.', DeprecationWarning)\n",
      "/Users/ellerywulczyn/miniconda3/lib/python3.5/site-packages/sklearn/metrics/classification.py:976: DeprecationWarning: From version 0.18, binary input will not be handled specially when using averaged precision/recall/F-score. Please use average='binary' to report only the positive class performance.\n",
      "  'positive class performance.', DeprecationWarning)\n",
      "/Users/ellerywulczyn/miniconda3/lib/python3.5/site-packages/sklearn/metrics/classification.py:976: DeprecationWarning: From version 0.18, binary input will not be handled specially when using averaged precision/recall/F-score. Please use average='binary' to report only the positive class performance.\n",
      "  'positive class performance.', DeprecationWarning)\n",
      "/Users/ellerywulczyn/miniconda3/lib/python3.5/site-packages/sklearn/metrics/classification.py:976: DeprecationWarning: From version 0.18, binary input will not be handled specially when using averaged precision/recall/F-score. Please use average='binary' to report only the positive class performance.\n",
      "  'positive class performance.', DeprecationWarning)\n"
     ]
    },
    {
     "name": "stdout",
     "output_type": "stream",
     "text": [
      " 0.990795957032\n",
      "\tTest Micro ROC: 0.988004583298\n",
      "\n",
      "\tTrain Micro F1: 0.78015903067\n",
      "\tTest Micro F1: 0.756959649672\n",
      "\n",
      "\tTrain Macro F1: 0.78015903067\n",
      "\tTest Macro F1: 0.756959649672\n",
      "\n",
      "\tTrain Pearson Correlation:  0.86791083181\n",
      "\tTest Pearson Correlation:  0.831819715621\n",
      "\n",
      "\tTrain Spearman Correlation:  0.682763975682\n",
      "\tTest Spearman Correlation:  0.64110451023\n",
      "\n",
      "\tTrain RMSE:  0.12234394474572759\n",
      "\tTest RMSE:  0.134942186075518\n",
      "\n",
      "\tTrain R^2:  0.650966303037\n",
      "\tTest R^2:  0.560815621248\n",
      "\n",
      "\n",
      "Batch: 8501 cost= 0.391768855\n",
      "\n",
      "\tTrain Micro ROC:"
     ]
    },
    {
     "name": "stderr",
     "output_type": "stream",
     "text": [
      "/Users/ellerywulczyn/miniconda3/lib/python3.5/site-packages/sklearn/metrics/classification.py:976: DeprecationWarning: From version 0.18, binary input will not be handled specially when using averaged precision/recall/F-score. Please use average='binary' to report only the positive class performance.\n",
      "  'positive class performance.', DeprecationWarning)\n",
      "/Users/ellerywulczyn/miniconda3/lib/python3.5/site-packages/sklearn/metrics/classification.py:976: DeprecationWarning: From version 0.18, binary input will not be handled specially when using averaged precision/recall/F-score. Please use average='binary' to report only the positive class performance.\n",
      "  'positive class performance.', DeprecationWarning)\n",
      "/Users/ellerywulczyn/miniconda3/lib/python3.5/site-packages/sklearn/metrics/classification.py:976: DeprecationWarning: From version 0.18, binary input will not be handled specially when using averaged precision/recall/F-score. Please use average='binary' to report only the positive class performance.\n",
      "  'positive class performance.', DeprecationWarning)\n",
      "/Users/ellerywulczyn/miniconda3/lib/python3.5/site-packages/sklearn/metrics/classification.py:976: DeprecationWarning: From version 0.18, binary input will not be handled specially when using averaged precision/recall/F-score. Please use average='binary' to report only the positive class performance.\n",
      "  'positive class performance.', DeprecationWarning)\n"
     ]
    },
    {
     "name": "stdout",
     "output_type": "stream",
     "text": [
      " 0.990867932614\n",
      "\tTest Micro ROC: 0.987964786302\n",
      "\n",
      "\tTrain Micro F1: 0.783405253993\n",
      "\tTest Micro F1: 0.744566929134\n",
      "\n",
      "\tTrain Macro F1: 0.783405253993\n",
      "\tTest Macro F1: 0.744566929134\n",
      "\n",
      "\tTrain Pearson Correlation:  0.868753486203\n",
      "\tTest Pearson Correlation:  0.830400329608\n",
      "\n",
      "\tTrain Spearman Correlation:  0.683538692007\n",
      "\tTest Spearman Correlation:  0.640735665574\n",
      "\n",
      "\tTrain RMSE:  0.12215390436153457\n",
      "\tTest RMSE:  0.13546274854099707\n",
      "\n",
      "\tTrain R^2:  0.644011841153\n",
      "\tTest R^2:  0.548476781821\n",
      "\n",
      "\n",
      "Optimization Finished!\n"
     ]
    },
    {
     "name": "stderr",
     "output_type": "stream",
     "text": [
      "/Users/ellerywulczyn/miniconda3/lib/python3.5/site-packages/sklearn/metrics/classification.py:976: DeprecationWarning: From version 0.18, binary input will not be handled specially when using averaged precision/recall/F-score. Please use average='binary' to report only the positive class performance.\n",
      "  'positive class performance.', DeprecationWarning)\n",
      "/Users/ellerywulczyn/miniconda3/lib/python3.5/site-packages/sklearn/metrics/classification.py:976: DeprecationWarning: From version 0.18, binary input will not be handled specially when using averaged precision/recall/F-score. Please use average='binary' to report only the positive class performance.\n",
      "  'positive class performance.', DeprecationWarning)\n",
      "/Users/ellerywulczyn/miniconda3/lib/python3.5/site-packages/sklearn/metrics/classification.py:976: DeprecationWarning: From version 0.18, binary input will not be handled specially when using averaged precision/recall/F-score. Please use average='binary' to report only the positive class performance.\n",
      "  'positive class performance.', DeprecationWarning)\n"
     ]
    },
    {
     "data": {
      "image/png": "[encoded data removed]",
      "text/plain": [
       "<matplotlib.figure.Figure at 0x13d88b160>"
      ]
     },
     "metadata": {},
     "output_type": "display_data"
    }
   ],
   "source": [
    "NN_CLF(X_train,\n",
    "        y_train,\n",
    "        X_test,\n",
    "        y_test,\n",
    "        training_epochs = training_epochs,\n",
    "        batch_size = batch_size,\n",
    "        display_step = display_step, \n",
    "        architecture = architecture)"
   ]
  },
  {
   "cell_type": "markdown",
   "metadata": {},
   "source": [
    "# BR on BR, One-Hot"
   ]
  },
  {
   "cell_type": "code",
   "execution_count": 8,
   "metadata": {
    "collapsed": false,
    "scrolled": true
   },
   "outputs": [
    {
     "name": "stdout",
     "output_type": "stream",
     "text": [
      "Batch: 0001 cost= 72.150474548\n",
      "\n",
      "\tTrain Micro ROC: 0.449673594983\n",
      "\tTest Micro ROC: 0.449616810957\n",
      "\n",
      "\tTrain Micro F1: 0.199783555231\n",
      "\tTest Micro F1: 0.188901288424\n",
      "\n",
      "\tTrain Macro F1: 0.199783555231\n",
      "\tTest Macro F1: 0.188901288424\n",
      "\n",
      "\tTrain Pearson Correlation:  0.014188529658\n",
      "\tTest Pearson Correlation:  0.00685021621157\n",
      "\n",
      "\tTrain Spearman Correlation:  0.0252510626626\n",
      "\tTest Spearman Correlation:  0.0294567099641\n",
      "\n",
      "\tTrain RMSE:  0.6431931259583505\n",
      "\tTest RMSE:  0.642779425094109\n",
      "\n",
      "\tTrain R^2:  -0.81878545467\n",
      "\tTest R^2:  -0.820251839898\n",
      "\n",
      "\n",
      "Batch: 0501 cost= 38.416214647\n",
      "\n",
      "\tTrain Micro ROC:"
     ]
    },
    {
     "name": "stderr",
     "output_type": "stream",
     "text": [
      "/Users/ellerywulczyn/miniconda3/lib/python3.5/site-packages/sklearn/metrics/classification.py:976: DeprecationWarning: From version 0.18, binary input will not be handled specially when using averaged precision/recall/F-score. Please use average='binary' to report only the positive class performance.\n",
      "  'positive class performance.', DeprecationWarning)\n",
      "/Users/ellerywulczyn/miniconda3/lib/python3.5/site-packages/sklearn/metrics/classification.py:976: DeprecationWarning: From version 0.18, binary input will not be handled specially when using averaged precision/recall/F-score. Please use average='binary' to report only the positive class performance.\n",
      "  'positive class performance.', DeprecationWarning)\n",
      "/Users/ellerywulczyn/miniconda3/lib/python3.5/site-packages/sklearn/metrics/classification.py:976: DeprecationWarning: From version 0.18, binary input will not be handled specially when using averaged precision/recall/F-score. Please use average='binary' to report only the positive class performance.\n",
      "  'positive class performance.', DeprecationWarning)\n",
      "/Users/ellerywulczyn/miniconda3/lib/python3.5/site-packages/sklearn/metrics/classification.py:976: DeprecationWarning: From version 0.18, binary input will not be handled specially when using averaged precision/recall/F-score. Please use average='binary' to report only the positive class performance.\n",
      "  'positive class performance.', DeprecationWarning)\n",
      "/Users/ellerywulczyn/miniconda3/lib/python3.5/site-packages/sklearn/metrics/classification.py:976: DeprecationWarning: From version 0.18, binary input will not be handled specially when using averaged precision/recall/F-score. Please use average='binary' to report only the positive class performance.\n",
      "  'positive class performance.', DeprecationWarning)\n"
     ]
    },
    {
     "name": "stdout",
     "output_type": "stream",
     "text": [
      " 0.950985175799\n",
      "\tTest Micro ROC: 0.94532516032\n",
      "\n",
      "\tTrain Micro F1: 0.533807829181\n",
      "\tTest Micro F1: 0.50200679222\n",
      "\n",
      "\tTrain Macro F1: 0.533807829181\n",
      "\tTest Macro F1: 0.50200679222\n",
      "\n",
      "\tTrain Pearson Correlation:  0.553573515892\n",
      "\tTest Pearson Correlation:  0.511913327235\n",
      "\n",
      "\tTrain Spearman Correlation:  0.374923623901\n",
      "\tTest Spearman Correlation:  0.353747845797\n",
      "\n",
      "\tTrain RMSE:  0.25653164856847854\n",
      "\tTest RMSE:  0.2644169206254756\n",
      "\n",
      "\tTrain R^2:  0.111762914288\n",
      "\tTest R^2:  0.0280933068909\n",
      "\n",
      "\n",
      "Batch: 1001 cost= 21.375211548\n",
      "\n",
      "\tTrain Micro ROC:"
     ]
    },
    {
     "name": "stderr",
     "output_type": "stream",
     "text": [
      "/Users/ellerywulczyn/miniconda3/lib/python3.5/site-packages/sklearn/metrics/classification.py:976: DeprecationWarning: From version 0.18, binary input will not be handled specially when using averaged precision/recall/F-score. Please use average='binary' to report only the positive class performance.\n",
      "  'positive class performance.', DeprecationWarning)\n",
      "/Users/ellerywulczyn/miniconda3/lib/python3.5/site-packages/sklearn/metrics/classification.py:976: DeprecationWarning: From version 0.18, binary input will not be handled specially when using averaged precision/recall/F-score. Please use average='binary' to report only the positive class performance.\n",
      "  'positive class performance.', DeprecationWarning)\n",
      "/Users/ellerywulczyn/miniconda3/lib/python3.5/site-packages/sklearn/metrics/classification.py:976: DeprecationWarning: From version 0.18, binary input will not be handled specially when using averaged precision/recall/F-score. Please use average='binary' to report only the positive class performance.\n",
      "  'positive class performance.', DeprecationWarning)\n",
      "/Users/ellerywulczyn/miniconda3/lib/python3.5/site-packages/sklearn/metrics/classification.py:976: DeprecationWarning: From version 0.18, binary input will not be handled specially when using averaged precision/recall/F-score. Please use average='binary' to report only the positive class performance.\n",
      "  'positive class performance.', DeprecationWarning)\n"
     ]
    },
    {
     "name": "stdout",
     "output_type": "stream",
     "text": [
      " 0.970652974721\n",
      "\tTest Micro ROC: 0.965243381085\n",
      "\n",
      "\tTrain Micro F1: 0.61983198814\n",
      "\tTest Micro F1: 0.568406687137\n",
      "\n",
      "\tTrain Macro F1: 0.61983198814\n",
      "\tTest Macro F1: 0.568406687137\n",
      "\n",
      "\tTrain Pearson Correlation:  0.67476443456\n",
      "\tTest Pearson Correlation:  0.630078110913\n",
      "\n",
      "\tTrain Spearman Correlation:  0.446526881575\n",
      "\tTest Spearman Correlation:  0.425263530172\n",
      "\n",
      "\tTrain RMSE:  0.21316002513724364\n",
      "\tTest RMSE:  0.2227362504588767\n",
      "\n",
      "\tTrain R^2:  0.203985953661\n",
      "\tTest R^2:  0.098424096925\n",
      "\n",
      "\n",
      "Batch: 1501 cost= 11.376784717\n",
      "\n",
      "\tTrain Micro ROC:"
     ]
    },
    {
     "name": "stderr",
     "output_type": "stream",
     "text": [
      "/Users/ellerywulczyn/miniconda3/lib/python3.5/site-packages/sklearn/metrics/classification.py:976: DeprecationWarning: From version 0.18, binary input will not be handled specially when using averaged precision/recall/F-score. Please use average='binary' to report only the positive class performance.\n",
      "  'positive class performance.', DeprecationWarning)\n",
      "/Users/ellerywulczyn/miniconda3/lib/python3.5/site-packages/sklearn/metrics/classification.py:976: DeprecationWarning: From version 0.18, binary input will not be handled specially when using averaged precision/recall/F-score. Please use average='binary' to report only the positive class performance.\n",
      "  'positive class performance.', DeprecationWarning)\n",
      "/Users/ellerywulczyn/miniconda3/lib/python3.5/site-packages/sklearn/metrics/classification.py:976: DeprecationWarning: From version 0.18, binary input will not be handled specially when using averaged precision/recall/F-score. Please use average='binary' to report only the positive class performance.\n",
      "  'positive class performance.', DeprecationWarning)\n",
      "/Users/ellerywulczyn/miniconda3/lib/python3.5/site-packages/sklearn/metrics/classification.py:976: DeprecationWarning: From version 0.18, binary input will not be handled specially when using averaged precision/recall/F-score. Please use average='binary' to report only the positive class performance.\n",
      "  'positive class performance.', DeprecationWarning)\n"
     ]
    },
    {
     "name": "stdout",
     "output_type": "stream",
     "text": [
      " 0.98003433609\n",
      "\tTest Micro ROC: 0.975634302925\n",
      "\n",
      "\tTrain Micro F1: 0.670903010033\n",
      "\tTest Micro F1: 0.636490250696\n",
      "\n",
      "\tTrain Macro F1: 0.670903010033\n",
      "\tTest Macro F1: 0.636490250696\n",
      "\n",
      "\tTrain Pearson Correlation:  0.742257598595\n",
      "\tTest Pearson Correlation:  0.707171849428\n",
      "\n",
      "\tTrain Spearman Correlation:  0.506203681885\n",
      "\tTest Spearman Correlation:  0.487001448293\n",
      "\n",
      "\tTrain RMSE:  0.19135355708983498\n",
      "\tTest RMSE:  0.19941084428801498\n",
      "\n",
      "\tTrain R^2:  0.332872776225\n",
      "\tTest R^2:  0.236681227825\n",
      "\n",
      "\n",
      "Batch: 2001 cost= 5.845669734\n",
      "\n",
      "\tTrain Micro ROC:"
     ]
    },
    {
     "name": "stderr",
     "output_type": "stream",
     "text": [
      "/Users/ellerywulczyn/miniconda3/lib/python3.5/site-packages/sklearn/metrics/classification.py:976: DeprecationWarning: From version 0.18, binary input will not be handled specially when using averaged precision/recall/F-score. Please use average='binary' to report only the positive class performance.\n",
      "  'positive class performance.', DeprecationWarning)\n",
      "/Users/ellerywulczyn/miniconda3/lib/python3.5/site-packages/sklearn/metrics/classification.py:976: DeprecationWarning: From version 0.18, binary input will not be handled specially when using averaged precision/recall/F-score. Please use average='binary' to report only the positive class performance.\n",
      "  'positive class performance.', DeprecationWarning)\n",
      "/Users/ellerywulczyn/miniconda3/lib/python3.5/site-packages/sklearn/metrics/classification.py:976: DeprecationWarning: From version 0.18, binary input will not be handled specially when using averaged precision/recall/F-score. Please use average='binary' to report only the positive class performance.\n",
      "  'positive class performance.', DeprecationWarning)\n",
      "/Users/ellerywulczyn/miniconda3/lib/python3.5/site-packages/sklearn/metrics/classification.py:976: DeprecationWarning: From version 0.18, binary input will not be handled specially when using averaged precision/recall/F-score. Please use average='binary' to report only the positive class performance.\n",
      "  'positive class performance.', DeprecationWarning)\n"
     ]
    },
    {
     "name": "stdout",
     "output_type": "stream",
     "text": [
      " 0.985276538975\n",
      "\tTest Micro ROC: 0.980562884409\n",
      "\n",
      "\tTrain Micro F1: 0.726445951336\n",
      "\tTest Micro F1: 0.690476190476\n",
      "\n",
      "\tTrain Macro F1: 0.726445951336\n",
      "\tTest Macro F1: 0.690476190476\n",
      "\n",
      "\tTrain Pearson Correlation:  0.785833648927\n",
      "\tTest Pearson Correlation:  0.752710502772\n",
      "\n",
      "\tTrain Spearman Correlation:  0.549046463478\n",
      "\tTest Spearman Correlation:  0.529337028038\n",
      "\n",
      "\tTrain RMSE:  0.17534623818459982\n",
      "\tTest RMSE:  0.18425230142019286\n",
      "\n",
      "\tTrain R^2:  0.488661930381\n",
      "\tTest R^2:  0.409469601047\n",
      "\n",
      "\n",
      "Batch: 2501 cost= 2.691616711\n",
      "\n",
      "\tTrain Micro ROC:"
     ]
    },
    {
     "name": "stderr",
     "output_type": "stream",
     "text": [
      "/Users/ellerywulczyn/miniconda3/lib/python3.5/site-packages/sklearn/metrics/classification.py:976: DeprecationWarning: From version 0.18, binary input will not be handled specially when using averaged precision/recall/F-score. Please use average='binary' to report only the positive class performance.\n",
      "  'positive class performance.', DeprecationWarning)\n",
      "/Users/ellerywulczyn/miniconda3/lib/python3.5/site-packages/sklearn/metrics/classification.py:976: DeprecationWarning: From version 0.18, binary input will not be handled specially when using averaged precision/recall/F-score. Please use average='binary' to report only the positive class performance.\n",
      "  'positive class performance.', DeprecationWarning)\n",
      "/Users/ellerywulczyn/miniconda3/lib/python3.5/site-packages/sklearn/metrics/classification.py:976: DeprecationWarning: From version 0.18, binary input will not be handled specially when using averaged precision/recall/F-score. Please use average='binary' to report only the positive class performance.\n",
      "  'positive class performance.', DeprecationWarning)\n",
      "/Users/ellerywulczyn/miniconda3/lib/python3.5/site-packages/sklearn/metrics/classification.py:976: DeprecationWarning: From version 0.18, binary input will not be handled specially when using averaged precision/recall/F-score. Please use average='binary' to report only the positive class performance.\n",
      "  'positive class performance.', DeprecationWarning)\n"
     ]
    },
    {
     "name": "stdout",
     "output_type": "stream",
     "text": [
      " 0.988184134136\n",
      "\tTest Micro ROC: 0.983640184116\n",
      "\n",
      "\tTrain Micro F1: 0.729333884981\n",
      "\tTest Micro F1: 0.689773507207\n",
      "\n",
      "\tTrain Macro F1: 0.729333884981\n",
      "\tTest Macro F1: 0.689773507207\n",
      "\n",
      "\tTrain Pearson Correlation:  0.796872798258\n",
      "\tTest Pearson Correlation:  0.764281789304\n",
      "\n",
      "\tTrain Spearman Correlation:  0.573783710065\n",
      "\tTest Spearman Correlation:  0.552036757108\n",
      "\n",
      "\tTrain RMSE:  0.17682710634086218\n",
      "\tTest RMSE:  0.18554464714656446\n",
      "\n",
      "\tTrain R^2:  0.454715735437\n",
      "\tTest R^2:  0.372597868531\n",
      "\n",
      "\n",
      "Batch: 3001 cost= 1.360150777\n",
      "\n",
      "\tTrain Micro ROC:"
     ]
    },
    {
     "name": "stderr",
     "output_type": "stream",
     "text": [
      "/Users/ellerywulczyn/miniconda3/lib/python3.5/site-packages/sklearn/metrics/classification.py:976: DeprecationWarning: From version 0.18, binary input will not be handled specially when using averaged precision/recall/F-score. Please use average='binary' to report only the positive class performance.\n",
      "  'positive class performance.', DeprecationWarning)\n",
      "/Users/ellerywulczyn/miniconda3/lib/python3.5/site-packages/sklearn/metrics/classification.py:976: DeprecationWarning: From version 0.18, binary input will not be handled specially when using averaged precision/recall/F-score. Please use average='binary' to report only the positive class performance.\n",
      "  'positive class performance.', DeprecationWarning)\n",
      "/Users/ellerywulczyn/miniconda3/lib/python3.5/site-packages/sklearn/metrics/classification.py:976: DeprecationWarning: From version 0.18, binary input will not be handled specially when using averaged precision/recall/F-score. Please use average='binary' to report only the positive class performance.\n",
      "  'positive class performance.', DeprecationWarning)\n",
      "/Users/ellerywulczyn/miniconda3/lib/python3.5/site-packages/sklearn/metrics/classification.py:976: DeprecationWarning: From version 0.18, binary input will not be handled specially when using averaged precision/recall/F-score. Please use average='binary' to report only the positive class performance.\n",
      "  'positive class performance.', DeprecationWarning)\n"
     ]
    },
    {
     "name": "stdout",
     "output_type": "stream",
     "text": [
      " 0.990422554272\n",
      "\tTest Micro ROC: 0.984705341043\n",
      "\n",
      "\tTrain Micro F1: 0.782714732109\n",
      "\tTest Micro F1: 0.741276328199\n",
      "\n",
      "\tTrain Macro F1: 0.782714732109\n",
      "\tTest Macro F1: 0.741276328199\n",
      "\n",
      "\tTrain Pearson Correlation:  0.826095445473\n",
      "\tTest Pearson Correlation:  0.787889277703\n",
      "\n",
      "\tTrain Spearman Correlation:  0.587781858784\n",
      "\tTest Spearman Correlation:  0.564437752268\n",
      "\n",
      "\tTrain RMSE:  0.16297115834552572\n",
      "\tTest RMSE:  0.17543245501248816\n",
      "\n",
      "\tTrain R^2:  0.603136034113\n",
      "\tTest R^2:  0.522075404637\n",
      "\n",
      "\n",
      "Batch: 3501 cost= 0.720025745\n",
      "\n",
      "\tTrain Micro ROC:"
     ]
    },
    {
     "name": "stderr",
     "output_type": "stream",
     "text": [
      "/Users/ellerywulczyn/miniconda3/lib/python3.5/site-packages/sklearn/metrics/classification.py:976: DeprecationWarning: From version 0.18, binary input will not be handled specially when using averaged precision/recall/F-score. Please use average='binary' to report only the positive class performance.\n",
      "  'positive class performance.', DeprecationWarning)\n",
      "/Users/ellerywulczyn/miniconda3/lib/python3.5/site-packages/sklearn/metrics/classification.py:976: DeprecationWarning: From version 0.18, binary input will not be handled specially when using averaged precision/recall/F-score. Please use average='binary' to report only the positive class performance.\n",
      "  'positive class performance.', DeprecationWarning)\n",
      "/Users/ellerywulczyn/miniconda3/lib/python3.5/site-packages/sklearn/metrics/classification.py:976: DeprecationWarning: From version 0.18, binary input will not be handled specially when using averaged precision/recall/F-score. Please use average='binary' to report only the positive class performance.\n",
      "  'positive class performance.', DeprecationWarning)\n",
      "/Users/ellerywulczyn/miniconda3/lib/python3.5/site-packages/sklearn/metrics/classification.py:976: DeprecationWarning: From version 0.18, binary input will not be handled specially when using averaged precision/recall/F-score. Please use average='binary' to report only the positive class performance.\n",
      "  'positive class performance.', DeprecationWarning)\n"
     ]
    },
    {
     "name": "stdout",
     "output_type": "stream",
     "text": [
      " 0.991161742585\n",
      "\tTest Micro ROC: 0.98548524783\n",
      "\n",
      "\tTrain Micro F1: 0.750230879019\n",
      "\tTest Micro F1: 0.700699300699\n",
      "\n",
      "\tTrain Macro F1: 0.750230879019\n",
      "\tTest Macro F1: 0.700699300699\n",
      "\n",
      "\tTrain Pearson Correlation:  0.810035444591\n",
      "\tTest Pearson Correlation:  0.769719255228\n",
      "\n",
      "\tTrain Spearman Correlation:  0.5890014207\n",
      "\tTest Spearman Correlation:  0.566710670448\n",
      "\n",
      "\tTrain RMSE:  0.17807257018358139\n",
      "\tTest RMSE:  0.18926684925298562\n",
      "\n",
      "\tTrain R^2:  0.435109416385\n",
      "\tTest R^2:  0.329736185606\n",
      "\n",
      "\n",
      "Batch: 4001 cost= 0.428512575\n",
      "\n",
      "\tTrain Micro ROC:"
     ]
    },
    {
     "name": "stderr",
     "output_type": "stream",
     "text": [
      "/Users/ellerywulczyn/miniconda3/lib/python3.5/site-packages/sklearn/metrics/classification.py:976: DeprecationWarning: From version 0.18, binary input will not be handled specially when using averaged precision/recall/F-score. Please use average='binary' to report only the positive class performance.\n",
      "  'positive class performance.', DeprecationWarning)\n",
      "/Users/ellerywulczyn/miniconda3/lib/python3.5/site-packages/sklearn/metrics/classification.py:976: DeprecationWarning: From version 0.18, binary input will not be handled specially when using averaged precision/recall/F-score. Please use average='binary' to report only the positive class performance.\n",
      "  'positive class performance.', DeprecationWarning)\n",
      "/Users/ellerywulczyn/miniconda3/lib/python3.5/site-packages/sklearn/metrics/classification.py:976: DeprecationWarning: From version 0.18, binary input will not be handled specially when using averaged precision/recall/F-score. Please use average='binary' to report only the positive class performance.\n",
      "  'positive class performance.', DeprecationWarning)\n",
      "/Users/ellerywulczyn/miniconda3/lib/python3.5/site-packages/sklearn/metrics/classification.py:976: DeprecationWarning: From version 0.18, binary input will not be handled specially when using averaged precision/recall/F-score. Please use average='binary' to report only the positive class performance.\n",
      "  'positive class performance.', DeprecationWarning)\n"
     ]
    },
    {
     "name": "stdout",
     "output_type": "stream",
     "text": [
      " 0.993572477497\n",
      "\tTest Micro ROC: 0.986246305243\n",
      "\n",
      "\tTrain Micro F1: 0.81724217135\n",
      "\tTest Micro F1: 0.738520408163\n",
      "\n",
      "\tTrain Macro F1: 0.81724217135\n",
      "\tTest Macro F1: 0.738520408163\n",
      "\n",
      "\tTrain Pearson Correlation:  0.844237312796\n",
      "\tTest Pearson Correlation:  0.79271418988\n",
      "\n",
      "\tTrain Spearman Correlation:  0.598922019244\n",
      "\tTest Spearman Correlation:  0.576814156312\n",
      "\n",
      "\tTrain RMSE:  0.15866565104879018\n",
      "\tTest RMSE:  0.1762020926250205\n",
      "\n",
      "\tTrain R^2:  0.619807249407\n",
      "\tTest R^2:  0.508765921887\n",
      "\n",
      "\n",
      "Batch: 4501 cost= 0.272096986\n",
      "\n",
      "\tTrain Micro ROC:"
     ]
    },
    {
     "name": "stderr",
     "output_type": "stream",
     "text": [
      "/Users/ellerywulczyn/miniconda3/lib/python3.5/site-packages/sklearn/metrics/classification.py:976: DeprecationWarning: From version 0.18, binary input will not be handled specially when using averaged precision/recall/F-score. Please use average='binary' to report only the positive class performance.\n",
      "  'positive class performance.', DeprecationWarning)\n",
      "/Users/ellerywulczyn/miniconda3/lib/python3.5/site-packages/sklearn/metrics/classification.py:976: DeprecationWarning: From version 0.18, binary input will not be handled specially when using averaged precision/recall/F-score. Please use average='binary' to report only the positive class performance.\n",
      "  'positive class performance.', DeprecationWarning)\n",
      "/Users/ellerywulczyn/miniconda3/lib/python3.5/site-packages/sklearn/metrics/classification.py:976: DeprecationWarning: From version 0.18, binary input will not be handled specially when using averaged precision/recall/F-score. Please use average='binary' to report only the positive class performance.\n",
      "  'positive class performance.', DeprecationWarning)\n",
      "/Users/ellerywulczyn/miniconda3/lib/python3.5/site-packages/sklearn/metrics/classification.py:976: DeprecationWarning: From version 0.18, binary input will not be handled specially when using averaged precision/recall/F-score. Please use average='binary' to report only the positive class performance.\n",
      "  'positive class performance.', DeprecationWarning)\n"
     ]
    },
    {
     "name": "stdout",
     "output_type": "stream",
     "text": [
      " 0.994094863515\n",
      "\tTest Micro ROC: 0.986631311605\n",
      "\n",
      "\tTrain Micro F1: 0.818336688865\n",
      "\tTest Micro F1: 0.737726098191\n",
      "\n",
      "\tTrain Macro F1: 0.818336688865\n",
      "\tTest Macro F1: 0.737726098191\n",
      "\n",
      "\tTrain Pearson Correlation:  0.839496900467\n",
      "\tTest Pearson Correlation:  0.78632066518\n",
      "\n",
      "\tTrain Spearman Correlation:  0.599972317903\n",
      "\tTest Spearman Correlation:  0.580123582742\n",
      "\n",
      "\tTrain RMSE:  0.16613658054372113\n",
      "\tTest RMSE:  0.18353058769869335\n",
      "\n",
      "\tTrain R^2:  0.588034190649\n",
      "\tTest R^2:  0.472976133765\n",
      "\n",
      "\n",
      "Batch: 5001 cost= 0.224575668\n",
      "\n",
      "\tTrain Micro ROC:"
     ]
    },
    {
     "name": "stderr",
     "output_type": "stream",
     "text": [
      "/Users/ellerywulczyn/miniconda3/lib/python3.5/site-packages/sklearn/metrics/classification.py:976: DeprecationWarning: From version 0.18, binary input will not be handled specially when using averaged precision/recall/F-score. Please use average='binary' to report only the positive class performance.\n",
      "  'positive class performance.', DeprecationWarning)\n",
      "/Users/ellerywulczyn/miniconda3/lib/python3.5/site-packages/sklearn/metrics/classification.py:976: DeprecationWarning: From version 0.18, binary input will not be handled specially when using averaged precision/recall/F-score. Please use average='binary' to report only the positive class performance.\n",
      "  'positive class performance.', DeprecationWarning)\n",
      "/Users/ellerywulczyn/miniconda3/lib/python3.5/site-packages/sklearn/metrics/classification.py:976: DeprecationWarning: From version 0.18, binary input will not be handled specially when using averaged precision/recall/F-score. Please use average='binary' to report only the positive class performance.\n",
      "  'positive class performance.', DeprecationWarning)\n",
      "/Users/ellerywulczyn/miniconda3/lib/python3.5/site-packages/sklearn/metrics/classification.py:976: DeprecationWarning: From version 0.18, binary input will not be handled specially when using averaged precision/recall/F-score. Please use average='binary' to report only the positive class performance.\n",
      "  'positive class performance.', DeprecationWarning)\n"
     ]
    },
    {
     "name": "stdout",
     "output_type": "stream",
     "text": [
      " 0.995440842825\n",
      "\tTest Micro ROC: 0.986334724421\n",
      "\n",
      "\tTrain Micro F1: 0.858998007821\n",
      "\tTest Micro F1: 0.744882370914\n",
      "\n",
      "\tTrain Macro F1: 0.858998007821\n",
      "\tTest Macro F1: 0.744882370914\n",
      "\n",
      "\tTrain Pearson Correlation:  0.857032271938\n",
      "\tTest Pearson Correlation:  0.798507239534\n",
      "\n",
      "\tTrain Spearman Correlation:  0.60425226099\n",
      "\tTest Spearman Correlation:  0.585054480285\n",
      "\n",
      "\tTrain RMSE:  0.15532579821382816\n",
      "\tTest RMSE:  0.17604229018864198\n",
      "\n",
      "\tTrain R^2:  0.664777042024\n",
      "\tTest R^2:  0.549830494986\n",
      "\n",
      "\n",
      "Batch: 5501 cost= 0.197582446\n",
      "\n",
      "\tTrain Micro ROC:"
     ]
    },
    {
     "name": "stderr",
     "output_type": "stream",
     "text": [
      "/Users/ellerywulczyn/miniconda3/lib/python3.5/site-packages/sklearn/metrics/classification.py:976: DeprecationWarning: From version 0.18, binary input will not be handled specially when using averaged precision/recall/F-score. Please use average='binary' to report only the positive class performance.\n",
      "  'positive class performance.', DeprecationWarning)\n",
      "/Users/ellerywulczyn/miniconda3/lib/python3.5/site-packages/sklearn/metrics/classification.py:976: DeprecationWarning: From version 0.18, binary input will not be handled specially when using averaged precision/recall/F-score. Please use average='binary' to report only the positive class performance.\n",
      "  'positive class performance.', DeprecationWarning)\n",
      "/Users/ellerywulczyn/miniconda3/lib/python3.5/site-packages/sklearn/metrics/classification.py:976: DeprecationWarning: From version 0.18, binary input will not be handled specially when using averaged precision/recall/F-score. Please use average='binary' to report only the positive class performance.\n",
      "  'positive class performance.', DeprecationWarning)\n",
      "/Users/ellerywulczyn/miniconda3/lib/python3.5/site-packages/sklearn/metrics/classification.py:976: DeprecationWarning: From version 0.18, binary input will not be handled specially when using averaged precision/recall/F-score. Please use average='binary' to report only the positive class performance.\n",
      "  'positive class performance.', DeprecationWarning)\n"
     ]
    },
    {
     "name": "stdout",
     "output_type": "stream",
     "text": [
      " 0.996122373605\n",
      "\tTest Micro ROC: 0.985850672871\n",
      "\n",
      "\tTrain Micro F1: 0.873842177066\n",
      "\tTest Micro F1: 0.752075919336\n",
      "\n",
      "\tTrain Macro F1: 0.873842177066\n",
      "\tTest Macro F1: 0.752075919336\n",
      "\n",
      "\tTrain Pearson Correlation:  0.862208531828\n",
      "\tTest Pearson Correlation:  0.799574229708\n",
      "\n",
      "\tTrain Spearman Correlation:  0.599096932379\n",
      "\tTest Spearman Correlation:  0.577865152337\n",
      "\n",
      "\tTrain RMSE:  0.1544882007534028\n",
      "\tTest RMSE:  0.1772925548436083\n",
      "\n",
      "\tTrain R^2:  0.693058905371\n",
      "\tTest R^2:  0.575749614486\n",
      "\n",
      "\n",
      "Batch: 6001 cost= 0.180535764\n",
      "\n",
      "\tTrain Micro ROC:"
     ]
    },
    {
     "name": "stderr",
     "output_type": "stream",
     "text": [
      "/Users/ellerywulczyn/miniconda3/lib/python3.5/site-packages/sklearn/metrics/classification.py:976: DeprecationWarning: From version 0.18, binary input will not be handled specially when using averaged precision/recall/F-score. Please use average='binary' to report only the positive class performance.\n",
      "  'positive class performance.', DeprecationWarning)\n",
      "/Users/ellerywulczyn/miniconda3/lib/python3.5/site-packages/sklearn/metrics/classification.py:976: DeprecationWarning: From version 0.18, binary input will not be handled specially when using averaged precision/recall/F-score. Please use average='binary' to report only the positive class performance.\n",
      "  'positive class performance.', DeprecationWarning)\n",
      "/Users/ellerywulczyn/miniconda3/lib/python3.5/site-packages/sklearn/metrics/classification.py:976: DeprecationWarning: From version 0.18, binary input will not be handled specially when using averaged precision/recall/F-score. Please use average='binary' to report only the positive class performance.\n",
      "  'positive class performance.', DeprecationWarning)\n",
      "/Users/ellerywulczyn/miniconda3/lib/python3.5/site-packages/sklearn/metrics/classification.py:976: DeprecationWarning: From version 0.18, binary input will not be handled specially when using averaged precision/recall/F-score. Please use average='binary' to report only the positive class performance.\n",
      "  'positive class performance.', DeprecationWarning)\n"
     ]
    },
    {
     "name": "stdout",
     "output_type": "stream",
     "text": [
      " 0.996849556353\n",
      "\tTest Micro ROC: 0.986200536491\n",
      "\n",
      "\tTrain Micro F1: 0.883242059146\n",
      "\tTest Micro F1: 0.747252747253\n",
      "\n",
      "\tTrain Macro F1: 0.883242059146\n",
      "\tTest Macro F1: 0.747252747253\n",
      "\n",
      "\tTrain Pearson Correlation:  0.865202916678\n",
      "\tTest Pearson Correlation:  0.795412045777\n",
      "\n",
      "\tTrain Spearman Correlation:  0.604041708921\n",
      "\tTest Spearman Correlation:  0.581514101952\n",
      "\n",
      "\tTrain RMSE:  0.15477949992830597\n",
      "\tTest RMSE:  0.1799477922015813\n",
      "\n",
      "\tTrain R^2:  0.681758449343\n",
      "\tTest R^2:  0.545819274706\n",
      "\n",
      "\n",
      "Batch: 6501 cost= 0.158124176\n",
      "\n",
      "\tTrain Micro ROC:"
     ]
    },
    {
     "name": "stderr",
     "output_type": "stream",
     "text": [
      "/Users/ellerywulczyn/miniconda3/lib/python3.5/site-packages/sklearn/metrics/classification.py:976: DeprecationWarning: From version 0.18, binary input will not be handled specially when using averaged precision/recall/F-score. Please use average='binary' to report only the positive class performance.\n",
      "  'positive class performance.', DeprecationWarning)\n",
      "/Users/ellerywulczyn/miniconda3/lib/python3.5/site-packages/sklearn/metrics/classification.py:976: DeprecationWarning: From version 0.18, binary input will not be handled specially when using averaged precision/recall/F-score. Please use average='binary' to report only the positive class performance.\n",
      "  'positive class performance.', DeprecationWarning)\n",
      "/Users/ellerywulczyn/miniconda3/lib/python3.5/site-packages/sklearn/metrics/classification.py:976: DeprecationWarning: From version 0.18, binary input will not be handled specially when using averaged precision/recall/F-score. Please use average='binary' to report only the positive class performance.\n",
      "  'positive class performance.', DeprecationWarning)\n",
      "/Users/ellerywulczyn/miniconda3/lib/python3.5/site-packages/sklearn/metrics/classification.py:976: DeprecationWarning: From version 0.18, binary input will not be handled specially when using averaged precision/recall/F-score. Please use average='binary' to report only the positive class performance.\n",
      "  'positive class performance.', DeprecationWarning)\n"
     ]
    },
    {
     "name": "stdout",
     "output_type": "stream",
     "text": [
      " 0.996836646624\n",
      "\tTest Micro ROC: 0.98643866552\n",
      "\n",
      "\tTrain Micro F1: 0.867376872009\n",
      "\tTest Micro F1: 0.732878935411\n",
      "\n",
      "\tTrain Macro F1: 0.867376872009\n",
      "\tTest Macro F1: 0.732878935411\n",
      "\n",
      "\tTrain Pearson Correlation:  0.851663137483\n",
      "\tTest Pearson Correlation:  0.779324630463\n",
      "\n",
      "\tTrain Spearman Correlation:  0.601400761912\n",
      "\tTest Spearman Correlation:  0.577600427002\n",
      "\n",
      "\tTrain RMSE:  0.16494918209168166\n",
      "\tTest RMSE:  0.18872845066758004\n",
      "\n",
      "\tTrain R^2:  0.607476787929\n",
      "\tTest R^2:  0.453393130681\n",
      "\n",
      "\n",
      "Batch: 7001 cost= 0.153218924\n",
      "\n",
      "\tTrain Micro ROC:"
     ]
    },
    {
     "name": "stderr",
     "output_type": "stream",
     "text": [
      "/Users/ellerywulczyn/miniconda3/lib/python3.5/site-packages/sklearn/metrics/classification.py:976: DeprecationWarning: From version 0.18, binary input will not be handled specially when using averaged precision/recall/F-score. Please use average='binary' to report only the positive class performance.\n",
      "  'positive class performance.', DeprecationWarning)\n",
      "/Users/ellerywulczyn/miniconda3/lib/python3.5/site-packages/sklearn/metrics/classification.py:976: DeprecationWarning: From version 0.18, binary input will not be handled specially when using averaged precision/recall/F-score. Please use average='binary' to report only the positive class performance.\n",
      "  'positive class performance.', DeprecationWarning)\n",
      "/Users/ellerywulczyn/miniconda3/lib/python3.5/site-packages/sklearn/metrics/classification.py:976: DeprecationWarning: From version 0.18, binary input will not be handled specially when using averaged precision/recall/F-score. Please use average='binary' to report only the positive class performance.\n",
      "  'positive class performance.', DeprecationWarning)\n",
      "/Users/ellerywulczyn/miniconda3/lib/python3.5/site-packages/sklearn/metrics/classification.py:976: DeprecationWarning: From version 0.18, binary input will not be handled specially when using averaged precision/recall/F-score. Please use average='binary' to report only the positive class performance.\n",
      "  'positive class performance.', DeprecationWarning)\n"
     ]
    },
    {
     "name": "stdout",
     "output_type": "stream",
     "text": [
      " 0.997472347798\n",
      "\tTest Micro ROC: 0.983516320121\n",
      "\n",
      "\tTrain Micro F1: 0.904588291945\n",
      "\tTest Micro F1: 0.745317305004\n",
      "\n",
      "\tTrain Macro F1: 0.904588291945\n",
      "\tTest Macro F1: 0.745317305004\n",
      "\n",
      "\tTrain Pearson Correlation:  0.873395005818\n",
      "\tTest Pearson Correlation:  0.790564755312\n",
      "\n",
      "\tTrain Spearman Correlation:  0.600134253513\n",
      "\tTest Spearman Correlation:  0.573577059214\n",
      "\n",
      "\tTrain RMSE:  0.15270189933006073\n",
      "\tTest RMSE:  0.1850636032817257\n",
      "\n",
      "\tTrain R^2:  0.729477399853\n",
      "\tTest R^2:  0.590216841289\n",
      "\n",
      "\n",
      "Batch: 7501 cost= 0.147286104\n",
      "\n",
      "\tTrain Micro ROC:"
     ]
    },
    {
     "name": "stderr",
     "output_type": "stream",
     "text": [
      "/Users/ellerywulczyn/miniconda3/lib/python3.5/site-packages/sklearn/metrics/classification.py:976: DeprecationWarning: From version 0.18, binary input will not be handled specially when using averaged precision/recall/F-score. Please use average='binary' to report only the positive class performance.\n",
      "  'positive class performance.', DeprecationWarning)\n",
      "/Users/ellerywulczyn/miniconda3/lib/python3.5/site-packages/sklearn/metrics/classification.py:976: DeprecationWarning: From version 0.18, binary input will not be handled specially when using averaged precision/recall/F-score. Please use average='binary' to report only the positive class performance.\n",
      "  'positive class performance.', DeprecationWarning)\n",
      "/Users/ellerywulczyn/miniconda3/lib/python3.5/site-packages/sklearn/metrics/classification.py:976: DeprecationWarning: From version 0.18, binary input will not be handled specially when using averaged precision/recall/F-score. Please use average='binary' to report only the positive class performance.\n",
      "  'positive class performance.', DeprecationWarning)\n",
      "/Users/ellerywulczyn/miniconda3/lib/python3.5/site-packages/sklearn/metrics/classification.py:976: DeprecationWarning: From version 0.18, binary input will not be handled specially when using averaged precision/recall/F-score. Please use average='binary' to report only the positive class performance.\n",
      "  'positive class performance.', DeprecationWarning)\n"
     ]
    },
    {
     "name": "stdout",
     "output_type": "stream",
     "text": [
      " 0.997693858577\n",
      "\tTest Micro ROC: 0.986144743552\n",
      "\n",
      "\tTrain Micro F1: 0.886203732028\n",
      "\tTest Micro F1: 0.735958683021\n",
      "\n",
      "\tTrain Macro F1: 0.886203732028\n",
      "\tTest Macro F1: 0.735958683021\n",
      "\n",
      "\tTrain Pearson Correlation:  0.853822509539\n",
      "\tTest Pearson Correlation:  0.773256486197\n",
      "\n",
      "\tTrain Spearman Correlation:  0.599058456127\n",
      "\tTest Spearman Correlation:  0.57518333586\n",
      "\n",
      "\tTrain RMSE:  0.16620780960549156\n",
      "\tTest RMSE:  0.19243793310843987\n",
      "\n",
      "\tTrain R^2:  0.612853340401\n",
      "\tTest R^2:  0.445409380441\n",
      "\n",
      "\n",
      "Batch: 8001 cost= 0.146839844\n",
      "\n",
      "\tTrain Micro ROC:"
     ]
    },
    {
     "name": "stderr",
     "output_type": "stream",
     "text": [
      "/Users/ellerywulczyn/miniconda3/lib/python3.5/site-packages/sklearn/metrics/classification.py:976: DeprecationWarning: From version 0.18, binary input will not be handled specially when using averaged precision/recall/F-score. Please use average='binary' to report only the positive class performance.\n",
      "  'positive class performance.', DeprecationWarning)\n",
      "/Users/ellerywulczyn/miniconda3/lib/python3.5/site-packages/sklearn/metrics/classification.py:976: DeprecationWarning: From version 0.18, binary input will not be handled specially when using averaged precision/recall/F-score. Please use average='binary' to report only the positive class performance.\n",
      "  'positive class performance.', DeprecationWarning)\n",
      "/Users/ellerywulczyn/miniconda3/lib/python3.5/site-packages/sklearn/metrics/classification.py:976: DeprecationWarning: From version 0.18, binary input will not be handled specially when using averaged precision/recall/F-score. Please use average='binary' to report only the positive class performance.\n",
      "  'positive class performance.', DeprecationWarning)\n",
      "/Users/ellerywulczyn/miniconda3/lib/python3.5/site-packages/sklearn/metrics/classification.py:976: DeprecationWarning: From version 0.18, binary input will not be handled specially when using averaged precision/recall/F-score. Please use average='binary' to report only the positive class performance.\n",
      "  'positive class performance.', DeprecationWarning)\n"
     ]
    },
    {
     "name": "stdout",
     "output_type": "stream",
     "text": [
      " 0.998170538449\n",
      "\tTest Micro ROC: 0.986216444135\n",
      "\n",
      "\tTrain Micro F1: 0.907097347755\n",
      "\tTest Micro F1: 0.739743188224\n",
      "\n",
      "\tTrain Macro F1: 0.907097347755\n",
      "\tTest Macro F1: 0.739743188224\n",
      "\n",
      "\tTrain Pearson Correlation:  0.860929016724\n",
      "\tTest Pearson Correlation:  0.777204131169\n",
      "\n",
      "\tTrain Spearman Correlation:  0.598220929475\n",
      "\tTest Spearman Correlation:  0.572052474\n",
      "\n",
      "\tTrain RMSE:  0.1639793393166528\n",
      "\tTest RMSE:  0.19234689995720317\n",
      "\n",
      "\tTrain R^2:  0.652359358312\n",
      "\tTest R^2:  0.486146579831\n",
      "\n",
      "\n",
      "Batch: 8501 cost= 0.132184047\n",
      "\n",
      "\tTrain Micro ROC:"
     ]
    },
    {
     "name": "stderr",
     "output_type": "stream",
     "text": [
      "/Users/ellerywulczyn/miniconda3/lib/python3.5/site-packages/sklearn/metrics/classification.py:976: DeprecationWarning: From version 0.18, binary input will not be handled specially when using averaged precision/recall/F-score. Please use average='binary' to report only the positive class performance.\n",
      "  'positive class performance.', DeprecationWarning)\n",
      "/Users/ellerywulczyn/miniconda3/lib/python3.5/site-packages/sklearn/metrics/classification.py:976: DeprecationWarning: From version 0.18, binary input will not be handled specially when using averaged precision/recall/F-score. Please use average='binary' to report only the positive class performance.\n",
      "  'positive class performance.', DeprecationWarning)\n",
      "/Users/ellerywulczyn/miniconda3/lib/python3.5/site-packages/sklearn/metrics/classification.py:976: DeprecationWarning: From version 0.18, binary input will not be handled specially when using averaged precision/recall/F-score. Please use average='binary' to report only the positive class performance.\n",
      "  'positive class performance.', DeprecationWarning)\n",
      "/Users/ellerywulczyn/miniconda3/lib/python3.5/site-packages/sklearn/metrics/classification.py:976: DeprecationWarning: From version 0.18, binary input will not be handled specially when using averaged precision/recall/F-score. Please use average='binary' to report only the positive class performance.\n",
      "  'positive class performance.', DeprecationWarning)\n"
     ]
    },
    {
     "name": "stdout",
     "output_type": "stream",
     "text": [
      " 0.999060270848\n",
      "\tTest Micro ROC: 0.984870637876\n",
      "\n",
      "\tTrain Micro F1: 0.940572585309\n",
      "\tTest Micro F1: 0.735917625681\n",
      "\n",
      "\tTrain Macro F1: 0.940572585309\n",
      "\tTest Macro F1: 0.735917625681\n",
      "\n",
      "\tTrain Pearson Correlation:  0.872700880514\n",
      "\tTest Pearson Correlation:  0.778765150334\n",
      "\n",
      "\tTrain Spearman Correlation:  0.596043346601\n",
      "\tTest Spearman Correlation:  0.56885698456\n",
      "\n",
      "\tTrain RMSE:  0.15658630114423064\n",
      "\tTest RMSE:  0.18921907664040397\n",
      "\n",
      "\tTrain R^2:  0.693464632085\n",
      "\tTest R^2:  0.51891375377\n",
      "\n",
      "\n",
      "Optimization Finished!\n"
     ]
    },
    {
     "name": "stderr",
     "output_type": "stream",
     "text": [
      "/Users/ellerywulczyn/miniconda3/lib/python3.5/site-packages/sklearn/metrics/classification.py:976: DeprecationWarning: From version 0.18, binary input will not be handled specially when using averaged precision/recall/F-score. Please use average='binary' to report only the positive class performance.\n",
      "  'positive class performance.', DeprecationWarning)\n",
      "/Users/ellerywulczyn/miniconda3/lib/python3.5/site-packages/sklearn/metrics/classification.py:976: DeprecationWarning: From version 0.18, binary input will not be handled specially when using averaged precision/recall/F-score. Please use average='binary' to report only the positive class performance.\n",
      "  'positive class performance.', DeprecationWarning)\n",
      "/Users/ellerywulczyn/miniconda3/lib/python3.5/site-packages/sklearn/metrics/classification.py:976: DeprecationWarning: From version 0.18, binary input will not be handled specially when using averaged precision/recall/F-score. Please use average='binary' to report only the positive class performance.\n",
      "  'positive class performance.', DeprecationWarning)\n"
     ]
    },
    {
     "data": {
      "image/png": "[encoded data removed]",
      "text/plain": [
       "<matplotlib.figure.Figure at 0x13dd276d8>"
      ]
     },
     "metadata": {},
     "output_type": "display_data"
    }
   ],
   "source": [
    "NN_CLF(X_train,\n",
    "        y_train,\n",
    "        X_test,\n",
    "        y_test,\n",
    "        training_epochs = training_epochs,\n",
    "        batch_size = batch_size,\n",
    "        display_step = display_step,\n",
    "        architecture = architecture,\n",
    "        one_hot = True)"
   ]
  },
  {
   "cell_type": "markdown",
   "metadata": {},
   "source": [
    "Conclusion: Spearman is 5 points higher in EDP model, Pearson and ROC are about the same. Spearman seems more appropriate than pearson (see link):\n",
    "\n",
    "https://stats.stackexchange.com/questions/11746/what-could-cause-big-differences-in-correlation-coefficient-between-pearsons-an"
   ]
  }
 ],
 "metadata": {
  "kernelspec": {
   "display_name": "Python 3",
   "language": "python",
   "name": "python3"
  },
  "language_info": {
   "codemirror_mode": {
    "name": "ipython",
    "version": 3
   },
   "file_extension": ".py",
   "mimetype": "text/x-python",
   "name": "python",
   "nbconvert_exporter": "python",
   "pygments_lexer": "ipython3",
   "version": "3.5.1"
  }
 },
 "nbformat": 4,
 "nbformat_minor": 0
}
