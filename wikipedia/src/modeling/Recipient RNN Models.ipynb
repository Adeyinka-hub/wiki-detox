{
 "cells": [
  {
   "cell_type": "code",
   "execution_count": 26,
   "metadata": {
    "collapsed": false
   },
   "outputs": [
    {
     "name": "stdout",
     "output_type": "stream",
     "text": [
      "The autoreload extension is already loaded. To reload it, use:\n",
      "  %reload_ext autoreload\n",
      "The autotime extension is already loaded. To reload it, use:\n",
      "  %reload_ext autotime\n",
      "time: 4.84 ms\n"
     ]
    }
   ],
   "source": [
    "%load_ext autoreload\n",
    "%autoreload 2\n",
    "%matplotlib inline\n",
    "%load_ext autotime\n",
    "\n",
    "import warnings\n",
    "warnings.filterwarnings('ignore')\n",
    "\n",
    "from ngram import *\n",
    "from baselines import *\n",
    "from error_analysis import *\n",
    "from deep_learning import *"
   ]
  },
  {
   "cell_type": "markdown",
   "metadata": {},
   "source": [
    "### Load Annotated Data"
   ]
  },
  {
   "cell_type": "code",
   "execution_count": 2,
   "metadata": {
    "collapsed": false
   },
   "outputs": [
    {
     "name": "stdout",
     "output_type": "stream",
     "text": [
      "time: 26.3 s\n"
     ]
    }
   ],
   "source": [
    "task = 'recipient'\n",
    "xtype = 'ngams'\n",
    "ytype = 'empirical_dist'\n",
    "n_classes = 2\n",
    "annotations = load_annotations()"
   ]
  },
  {
   "cell_type": "code",
   "execution_count": 3,
   "metadata": {
    "collapsed": false
   },
   "outputs": [
    {
     "name": "stdout",
     "output_type": "stream",
     "text": [
      "time: 1min 53s\n"
     ]
    }
   ],
   "source": [
    "data = label_and_split(annotations, task)"
   ]
  },
  {
   "cell_type": "markdown",
   "metadata": {},
   "source": [
    "### NGram Preprocessing"
   ]
  },
  {
   "cell_type": "code",
   "execution_count": 27,
   "metadata": {
    "collapsed": false
   },
   "outputs": [
    {
     "name": "stdout",
     "output_type": "stream",
     "text": [
      "time: 29.4 s\n"
     ]
    }
   ],
   "source": [
    "maxlen = 100\n",
    "max_features = 10000\n",
    "    \n",
    "feature_pipeline =  Pipeline([\n",
    "    ('vect', CountVectorizer(ngram_range = (1,1), analyzer = 'word', max_features = max_features)),\n",
    "    ('to_sequence', SequenceTransformer(maxlen = maxlen)), \n",
    "])\n",
    "\n",
    "X_comments, _ = assemble_data(data, 'comments', ytype, splits = ['train'])\n",
    "preprocessor = feature_pipeline.fit(X_comments)\n",
    "data = apply_transform(data, 'comments', preprocessor, xtype)\n",
    "\n",
    "X_train, y_train = assemble_data(data, xtype, ytype, splits = ['train'])\n",
    "X_test, y_test = assemble_data(data, xtype, 'empirical_dist', splits = ['test'])"
   ]
  },
  {
   "cell_type": "markdown",
   "metadata": {},
   "source": [
    "### Define Model"
   ]
  },
  {
   "cell_type": "code",
   "execution_count": 28,
   "metadata": {
    "collapsed": false
   },
   "outputs": [
    {
     "name": "stdout",
     "output_type": "stream",
     "text": [
      "time: 1.22 ms\n"
     ]
    }
   ],
   "source": [
    "clf =  KerasClassifier(build_fn=make_conv_rnn, output_dim = n_classes, max_features = max_features, maxlen = maxlen)"
   ]
  },
  {
   "cell_type": "markdown",
   "metadata": {
    "collapsed": true
   },
   "source": [
    "### Hyper-Parameter tuning"
   ]
  },
  {
   "cell_type": "code",
   "execution_count": 30,
   "metadata": {
    "collapsed": false
   },
   "outputs": [
    {
     "name": "stdout",
     "output_type": "stream",
     "text": [
      "Epoch 1/1\n",
      "70793/70793 [==============================] - 214s - loss: 0.0686 - acc: 0.9497   \n",
      "30341/30341 [==============================] - 28s    \n",
      "Epoch 1/2\n",
      "70793/70793 [==============================] - 244s - loss: 0.0680 - acc: 0.9520   \n",
      "Epoch 2/2\n",
      "70793/70793 [==============================] - 227s - loss: 0.0474 - acc: 0.9621   \n",
      "30341/30341 [==============================] - 30s    \n",
      "Epoch 1/1\n",
      "70793/70793 [==============================] - 219s - loss: 0.0682 - acc: 0.9512   \n",
      "30341/30341 [==============================] - 33s    \n",
      "Epoch 1/2\n",
      "70793/70793 [==============================] - 328s - loss: 0.0716 - acc: 0.9490   \n",
      "Epoch 2/2\n",
      "70793/70793 [==============================] - 326s - loss: 0.0486 - acc: 0.9617   \n",
      "30341/30341 [==============================] - 30s    \n",
      "\n",
      "Best parameters set found:\n",
      "{'nb_epoch': 2, 'dropout': 0.25, 'batch_size': 100} 0.972344856198\n",
      "\n",
      "\n",
      "Grid scores:\n",
      "0.96992 (+/-0.00000) for {'nb_epoch': 1, 'dropout': 0.25, 'batch_size': 100}\n",
      "0.97234 (+/-0.00000) for {'nb_epoch': 2, 'dropout': 0.25, 'batch_size': 100}\n",
      "0.96751 (+/-0.00000) for {'nb_epoch': 1, 'dropout': 0.5, 'batch_size': 100}\n",
      "0.97080 (+/-0.00000) for {'nb_epoch': 2, 'dropout': 0.5, 'batch_size': 100}\n",
      "time: 31min 59s\n"
     ]
    }
   ],
   "source": [
    "# Deep EDP\n",
    "\n",
    "param_grid = {\n",
    "    'nb_epoch' : (1,2),\n",
    "    'batch_size': (100,),\n",
    "    'dropout': (0.25, 0.5)\n",
    "}\n",
    "\n",
    "tune (X_train, y_train, clf, param_grid, roc_scorer, n_jobs=1, verbose=True)"
   ]
  },
  {
   "cell_type": "markdown",
   "metadata": {},
   "source": [
    "Seems, like we don't need to regularize at one epoch. Lets try more epochs."
   ]
  },
  {
   "cell_type": "markdown",
   "metadata": {},
   "source": [
    "### Eval SKlearn"
   ]
  },
  {
   "cell_type": "code",
   "execution_count": 6,
   "metadata": {
    "collapsed": false
   },
   "outputs": [
    {
     "name": "stdout",
     "output_type": "stream",
     "text": [
      "time: 2min 54s\n"
     ]
    }
   ],
   "source": [
    "sk_model = LogisticRegression(C = 5.0,  solver = 'sag')\n",
    "sk_model.fit(X_train, y_train.argmax(axis = 1))\n",
    "roc_df, spearman_df = test_cross(sk_model, data, xtype)"
   ]
  },
  {
   "cell_type": "code",
   "execution_count": 7,
   "metadata": {
    "collapsed": false
   },
   "outputs": [
    {
     "data": {
      "text/html": [
       "<div>\n",
       "<table border=\"1\" class=\"dataframe\">\n",
       "  <thead>\n",
       "    <tr style=\"text-align: right;\">\n",
       "      <th></th>\n",
       "      <th>random</th>\n",
       "      <th>blocked</th>\n",
       "      <th>both</th>\n",
       "    </tr>\n",
       "  </thead>\n",
       "  <tbody>\n",
       "    <tr>\n",
       "      <th>user</th>\n",
       "      <td>0.987031</td>\n",
       "      <td>0.952511</td>\n",
       "      <td>0.962879</td>\n",
       "    </tr>\n",
       "    <tr>\n",
       "      <th>article</th>\n",
       "      <td>0.988195</td>\n",
       "      <td>0.963257</td>\n",
       "      <td>0.971912</td>\n",
       "    </tr>\n",
       "    <tr>\n",
       "      <th>both</th>\n",
       "      <td>0.987903</td>\n",
       "      <td>0.961307</td>\n",
       "      <td>0.970488</td>\n",
       "    </tr>\n",
       "  </tbody>\n",
       "</table>\n",
       "</div>"
      ],
      "text/plain": [
       "           random   blocked      both\n",
       "user     0.987031  0.952511  0.962879\n",
       "article  0.988195  0.963257  0.971912\n",
       "both     0.987903  0.961307  0.970488"
      ]
     },
     "execution_count": 7,
     "metadata": {},
     "output_type": "execute_result"
    },
    {
     "name": "stdout",
     "output_type": "stream",
     "text": [
      "time: 8.42 ms\n"
     ]
    }
   ],
   "source": [
    "roc_df"
   ]
  },
  {
   "cell_type": "code",
   "execution_count": 8,
   "metadata": {
    "collapsed": false
   },
   "outputs": [
    {
     "data": {
      "text/html": [
       "<div>\n",
       "<table border=\"1\" class=\"dataframe\">\n",
       "  <thead>\n",
       "    <tr style=\"text-align: right;\">\n",
       "      <th></th>\n",
       "      <th>random</th>\n",
       "      <th>blocked</th>\n",
       "      <th>both</th>\n",
       "    </tr>\n",
       "  </thead>\n",
       "  <tbody>\n",
       "    <tr>\n",
       "      <th>user</th>\n",
       "      <td>0.205761</td>\n",
       "      <td>0.651672</td>\n",
       "      <td>0.603383</td>\n",
       "    </tr>\n",
       "    <tr>\n",
       "      <th>article</th>\n",
       "      <td>0.162326</td>\n",
       "      <td>0.419992</td>\n",
       "      <td>0.346429</td>\n",
       "    </tr>\n",
       "    <tr>\n",
       "      <th>both</th>\n",
       "      <td>0.174843</td>\n",
       "      <td>0.616330</td>\n",
       "      <td>0.541410</td>\n",
       "    </tr>\n",
       "  </tbody>\n",
       "</table>\n",
       "</div>"
      ],
      "text/plain": [
       "           random   blocked      both\n",
       "user     0.205761  0.651672  0.603383\n",
       "article  0.162326  0.419992  0.346429\n",
       "both     0.174843  0.616330  0.541410"
      ]
     },
     "execution_count": 8,
     "metadata": {},
     "output_type": "execute_result"
    },
    {
     "name": "stdout",
     "output_type": "stream",
     "text": [
      "time: 9.65 ms\n"
     ]
    }
   ],
   "source": [
    "spearman_df"
   ]
  },
  {
   "cell_type": "markdown",
   "metadata": {},
   "source": [
    "### Eval Conv RNN"
   ]
  },
  {
   "cell_type": "code",
   "execution_count": 32,
   "metadata": {
    "collapsed": false
   },
   "outputs": [
    {
     "name": "stdout",
     "output_type": "stream",
     "text": [
      "Epoch 1/2\n",
      "101134/101134 [==============================] - 312s - loss: 0.0621 - acc: 0.9545   \n",
      "Epoch 2/2\n",
      "101134/101134 [==============================] - 310s - loss: 0.0470 - acc: 0.9630   \n",
      "3999/3999 [==============================] - 4s     \n",
      "10683/10683 [==============================] - 9s     \n",
      "14682/14682 [==============================] - 12s    \n",
      "4000/4000 [==============================] - 3s     \n",
      "6603/6603 [==============================] - 5s     \n",
      "10603/10603 [==============================] - 9s     \n",
      "7999/7999 [==============================] - 7s     \n",
      "17286/17286 [==============================] - 15s    \n",
      "25285/25285 [==============================] - 23s    \n",
      "time: 13min 37s\n"
     ]
    }
   ],
   "source": [
    "conv_rnn =  KerasClassifier(build_fn=make_conv_rnn,\n",
    "                            output_dim = n_classes,\n",
    "                            max_features = max_features,\n",
    "                            maxlen = maxlen,\n",
    "                            batch_size = 100,\n",
    "                            nb_epoch = 2,\n",
    "                            dropout = 0.25)\n",
    "conv_rnn.fit(X_train, y_train)\n",
    "roc_df, spearman_df = test_cross(conv_rnn, data, xtype)"
   ]
  },
  {
   "cell_type": "code",
   "execution_count": 35,
   "metadata": {
    "collapsed": false
   },
   "outputs": [
    {
     "data": {
      "text/html": [
       "<div>\n",
       "<table border=\"1\" class=\"dataframe\">\n",
       "  <thead>\n",
       "    <tr style=\"text-align: right;\">\n",
       "      <th></th>\n",
       "      <th>random</th>\n",
       "      <th>blocked</th>\n",
       "      <th>both</th>\n",
       "    </tr>\n",
       "  </thead>\n",
       "  <tbody>\n",
       "    <tr>\n",
       "      <th>user</th>\n",
       "      <td>0.971240</td>\n",
       "      <td>0.953340</td>\n",
       "      <td>0.964069</td>\n",
       "    </tr>\n",
       "    <tr>\n",
       "      <th>article</th>\n",
       "      <td>0.991404</td>\n",
       "      <td>0.967789</td>\n",
       "      <td>0.976519</td>\n",
       "    </tr>\n",
       "    <tr>\n",
       "      <th>both</th>\n",
       "      <td>0.980668</td>\n",
       "      <td>0.962592</td>\n",
       "      <td>0.972059</td>\n",
       "    </tr>\n",
       "  </tbody>\n",
       "</table>\n",
       "</div>"
      ],
      "text/plain": [
       "           random   blocked      both\n",
       "user     0.971240  0.953340  0.964069\n",
       "article  0.991404  0.967789  0.976519\n",
       "both     0.980668  0.962592  0.972059"
      ]
     },
     "execution_count": 35,
     "metadata": {},
     "output_type": "execute_result"
    },
    {
     "name": "stdout",
     "output_type": "stream",
     "text": [
      "time: 7.51 ms\n"
     ]
    }
   ],
   "source": [
    "roc_df"
   ]
  },
  {
   "cell_type": "code",
   "execution_count": 36,
   "metadata": {
    "collapsed": false
   },
   "outputs": [
    {
     "data": {
      "text/html": [
       "<div>\n",
       "<table border=\"1\" class=\"dataframe\">\n",
       "  <thead>\n",
       "    <tr style=\"text-align: right;\">\n",
       "      <th></th>\n",
       "      <th>random</th>\n",
       "      <th>blocked</th>\n",
       "      <th>both</th>\n",
       "    </tr>\n",
       "  </thead>\n",
       "  <tbody>\n",
       "    <tr>\n",
       "      <th>user</th>\n",
       "      <td>0.258598</td>\n",
       "      <td>0.688111</td>\n",
       "      <td>0.655399</td>\n",
       "    </tr>\n",
       "    <tr>\n",
       "      <th>article</th>\n",
       "      <td>0.178419</td>\n",
       "      <td>0.482818</td>\n",
       "      <td>0.395979</td>\n",
       "    </tr>\n",
       "    <tr>\n",
       "      <th>both</th>\n",
       "      <td>0.204726</td>\n",
       "      <td>0.664377</td>\n",
       "      <td>0.594611</td>\n",
       "    </tr>\n",
       "  </tbody>\n",
       "</table>\n",
       "</div>"
      ],
      "text/plain": [
       "           random   blocked      both\n",
       "user     0.258598  0.688111  0.655399\n",
       "article  0.178419  0.482818  0.395979\n",
       "both     0.204726  0.664377  0.594611"
      ]
     },
     "execution_count": 36,
     "metadata": {},
     "output_type": "execute_result"
    },
    {
     "name": "stdout",
     "output_type": "stream",
     "text": [
      "time: 5.61 ms\n"
     ]
    }
   ],
   "source": [
    "spearman_df"
   ]
  },
  {
   "cell_type": "markdown",
   "metadata": {},
   "source": [
    "### Check Calibration"
   ]
  },
  {
   "cell_type": "code",
   "execution_count": 37,
   "metadata": {
    "collapsed": false,
    "scrolled": true
   },
   "outputs": [
    {
     "name": "stdout",
     "output_type": "stream",
     "text": [
      "25285/25285 [==============================] - 23s    \n"
     ]
    },
    {
     "data": {
      "image/png": "[encoded data removed]",
      "text/plain": [
       "<matplotlib.figure.Figure at 0x1ea67b2b0>"
      ]
     },
     "metadata": {},
     "output_type": "display_data"
    },
    {
     "data": {
      "text/plain": [
       "<matplotlib.figure.Figure at 0x1ea674a90>"
      ]
     },
     "metadata": {},
     "output_type": "display_data"
    },
    {
     "name": "stdout",
     "output_type": "stream",
     "text": [
      "time: 24.8 s\n"
     ]
    }
   ],
   "source": [
    "y_test_oh = one_hot(y_test)\n",
    "y_pred_ed = conv_rnn.predict_proba(X_test)\n",
    "\n",
    "if n_classes > 2:\n",
    "    classes = range(n_classes)\n",
    "else:\n",
    "    classes = [1]\n",
    "\n",
    "for i in classes:\n",
    "    plt.figure()\n",
    "    calibration_curve_plotter(y_test_oh[:, i], y_pred_ed[:, i])\n",
    "    plt.show()"
   ]
  },
  {
   "cell_type": "code",
   "execution_count": null,
   "metadata": {
    "collapsed": true
   },
   "outputs": [],
   "source": []
  }
 ],
 "metadata": {
  "kernelspec": {
   "display_name": "Python 3",
   "language": "python",
   "name": "python3"
  },
  "language_info": {
   "codemirror_mode": {
    "name": "ipython",
    "version": 3
   },
   "file_extension": ".py",
   "mimetype": "text/x-python",
   "name": "python",
   "nbconvert_exporter": "python",
   "pygments_lexer": "ipython3",
   "version": "3.5.1"
  }
 },
 "nbformat": 4,
 "nbformat_minor": 0
}
