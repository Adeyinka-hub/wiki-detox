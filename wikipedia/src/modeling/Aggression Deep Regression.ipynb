{
 "cells": [
  {
   "cell_type": "code",
   "execution_count": 1,
   "metadata": {
    "collapsed": false
   },
   "outputs": [],
   "source": [
    "%load_ext autoreload\n",
    "%autoreload 2\n",
    "%matplotlib inline\n",
    "import warnings\n",
    "warnings.filterwarnings('ignore')\n",
    "import tensorflow as tf\n",
    "\n",
    "from ngram import *\n",
    "from baselines import *\n",
    "from error_analysis import *"
   ]
  },
  {
   "cell_type": "code",
   "execution_count": 2,
   "metadata": {
    "collapsed": false
   },
   "outputs": [],
   "source": [
    "d_b, d_r =load_cf_data()\n",
    "d_br = pd.concat([d_b, d_r])"
   ]
  },
  {
   "cell_type": "code",
   "execution_count": 3,
   "metadata": {
    "collapsed": true
   },
   "outputs": [],
   "source": [
    "max_features = 5000\n",
    "architecture = [50, 20]"
   ]
  },
  {
   "cell_type": "code",
   "execution_count": 4,
   "metadata": {
    "collapsed": true
   },
   "outputs": [],
   "source": [
    "ngram_feature_pipeline = Pipeline([\n",
    "    ('vect', CountVectorizer(ngram_range = (1,5), analyzer = 'char', max_features = max_features)),\n",
    "    ('tfidf', TfidfTransformer(sublinear_tf=True,norm='l2')),\n",
    "])"
   ]
  },
  {
   "cell_type": "code",
   "execution_count": 5,
   "metadata": {
    "collapsed": true
   },
   "outputs": [],
   "source": [
    "training_epochs = 75\n",
    "batch_size = 500\n",
    "display_step = 500"
   ]
  },
  {
   "cell_type": "markdown",
   "metadata": {},
   "source": [
    "# BR on BR"
   ]
  },
  {
   "cell_type": "code",
   "execution_count": 6,
   "metadata": {
    "collapsed": false
   },
   "outputs": [],
   "source": [
    "X_train, y_train, X_test, y_test = tf_prep(d_br, ngram_feature_pipeline, 'aggression_score', average)"
   ]
  },
  {
   "cell_type": "code",
   "execution_count": 7,
   "metadata": {
    "collapsed": false
   },
   "outputs": [
    {
     "name": "stdout",
     "output_type": "stream",
     "text": [
      "Batch: 0001 cost= 520.881347656\n",
      "\n",
      "\tTrain RMSE:  21.099984638881573\n",
      "\tTest RMSE:  21.06386814223393\n",
      "\n",
      "\tTrain R^2:  -3.62353914127\n",
      "\tTest R^2:  -3.6946814226\n",
      "\n",
      "\n",
      "Batch: 1001 cost= 55.183299684\n",
      "\n",
      "\tTrain RMSE:  1.4678748448951848\n",
      "\tTest RMSE:  1.5186005405766168\n",
      "\n",
      "\tTrain R^2:  -0.10235701858\n",
      "\tTest R^2:  -0.12153357873\n",
      "\n",
      "\n",
      "Batch: 2001 cost= 42.626442529\n",
      "\n",
      "\tTrain RMSE:  0.8355617444179788\n",
      "\tTest RMSE:  0.866684027351025\n",
      "\n",
      "\tTrain R^2:  -0.181365862203\n",
      "\tTest R^2:  -0.195034627593\n",
      "\n",
      "\n",
      "Batch: 3001 cost= 30.923372904\n",
      "\n",
      "\tTrain RMSE:  0.6232201374259531\n",
      "\tTest RMSE:  0.6524085671699373\n",
      "\n",
      "\tTrain R^2:  0.0881790110061\n",
      "\tTest R^2:  0.0501215663512\n",
      "\n",
      "\n",
      "Batch: 4001 cost= 21.065930358\n",
      "\n",
      "\tTrain RMSE:  0.5100345284376745\n",
      "\tTest RMSE:  0.5400153059769109\n",
      "\n",
      "\tTrain R^2:  0.363247978519\n",
      "\tTest R^2:  0.307620191937\n",
      "\n",
      "\n",
      "Batch: 5001 cost= 12.589440621\n",
      "\n",
      "\tTrain RMSE:  0.4453617270586492\n",
      "\tTest RMSE:  0.47592772604726385\n",
      "\n",
      "\tTrain R^2:  0.521710667324\n",
      "\tTest R^2:  0.457856632617\n",
      "\n",
      "\n",
      "Batch: 6001 cost= 6.938857513\n",
      "\n",
      "\tTrain RMSE:  0.4133395125457447\n",
      "\tTest RMSE:  0.44541471231724566\n",
      "\n",
      "\tTrain R^2:  0.609267737246\n",
      "\tTest R^2:  0.544293991968\n",
      "\n",
      "\n",
      "Batch: 7001 cost= 3.325464487\n",
      "\n",
      "\tTrain RMSE:  0.38982767141755115\n",
      "\tTest RMSE:  0.4243470836944283\n",
      "\n",
      "\tTrain R^2:  0.653507792443\n",
      "\tTest R^2:  0.583256052229\n",
      "\n",
      "\n",
      "Batch: 8001 cost= 1.577447826\n",
      "\n",
      "\tTrain RMSE:  0.3733164435790778\n",
      "\tTest RMSE:  0.4138131926644333\n",
      "\n",
      "\tTrain R^2:  0.689353020234\n",
      "\tTest R^2:  0.609435242669\n",
      "\n",
      "\n",
      "Batch: 9001 cost= 0.731383271\n",
      "\n",
      "\tTrain RMSE:  0.36109228211443967\n",
      "\tTest RMSE:  0.4070006469339508\n",
      "\n",
      "\tTrain R^2:  0.708712433049\n",
      "\tTest R^2:  0.620718430071\n",
      "\n",
      "\n",
      "Batch: 10001 cost= 0.407264111\n",
      "\n",
      "\tTrain RMSE:  0.35043703070231924\n",
      "\tTest RMSE:  0.40468987191005357\n",
      "\n",
      "\tTrain R^2:  0.742409257668\n",
      "\tTest R^2:  0.647571385113\n",
      "\n",
      "\n",
      "Batch: 11001 cost= 0.259815213\n",
      "\n",
      "\tTrain RMSE:  0.341973336869688\n",
      "\tTest RMSE:  0.40459094328038814\n",
      "\n",
      "\tTrain R^2:  0.75465275301\n",
      "\tTest R^2:  0.648526078233\n",
      "\n",
      "\n",
      "Optimization Finished!\n"
     ]
    }
   ],
   "source": [
    "NN_REG(X_train,\n",
    "        y_train,\n",
    "        X_test,\n",
    "        y_test,\n",
    "        training_epochs = 100,\n",
    "        batch_size = 500,\n",
    "        display_step = 1000,\n",
    "        architecture = architecture)"
   ]
  },
  {
   "cell_type": "code",
   "execution_count": 9,
   "metadata": {
    "collapsed": false
   },
   "outputs": [
    {
     "name": "stdout",
     "output_type": "stream",
     "text": [
      "R^2: 0.566\n",
      "RMSE: 0.429\n",
      "Mean absolute error: 0.317\n",
      "Median absolute error: 0.239\n",
      "Pearson: 0.835\n",
      "Spearman: 0.744\n"
     ]
    }
   ],
   "source": [
    "sk_reg_model = Ridge(alpha = 1.0).fit(X_train, y_train)\n",
    "_ = get_regression_metrics(sk_reg_model.predict(X_test), y_test)"
   ]
  },
  {
   "cell_type": "markdown",
   "metadata": {},
   "source": [
    "# Random on Random"
   ]
  },
  {
   "cell_type": "code",
   "execution_count": 24,
   "metadata": {
    "collapsed": false
   },
   "outputs": [
    {
     "data": {
      "text/plain": [
       "(3999, 1)"
      ]
     },
     "execution_count": 24,
     "metadata": {},
     "output_type": "execute_result"
    }
   ],
   "source": [
    "X_train, y_train, X_test, y_test = tf_prep(d_b, ngram_feature_pipeline, 'aggression_score', average)"
   ]
  },
  {
   "cell_type": "code",
   "execution_count": 25,
   "metadata": {
    "collapsed": false
   },
   "outputs": [
    {
     "name": "stdout",
     "output_type": "stream",
     "text": [
      "Batch: 0001 cost= 1591.054687500\n",
      "\n",
      "\tTrain RMSE:  40.05427712220673\n",
      "\tTest RMSE:  39.97872458692088\n",
      "\n",
      "\tTrain R^2:  -12.6953108298\n",
      "\tTest R^2:  -12.5926494438\n",
      "\n",
      "\n",
      "Batch: 1001 cost= 60.303840637\n",
      "\n",
      "\tTrain RMSE:  1.7028794493942203\n",
      "\tTest RMSE:  1.8017602730189872\n",
      "\n",
      "\tTrain R^2:  -0.0240289297425\n",
      "\tTest R^2:  -0.0348713970643\n",
      "\n",
      "\n",
      "Batch: 2001 cost= 50.808229110\n",
      "\n",
      "\tTrain RMSE:  0.8433082921767926\n",
      "\tTest RMSE:  1.0108507614701627\n",
      "\n",
      "\tTrain R^2:  -0.0835647488017\n",
      "\tTest R^2:  -0.0776316936593\n",
      "\n",
      "\n",
      "Batch: 3001 cost= 41.912141724\n",
      "\n",
      "\tTrain RMSE:  0.5287524605212611\n",
      "\tTest RMSE:  0.7498003358278855\n",
      "\n",
      "\tTrain R^2:  -0.219931160498\n",
      "\tTest R^2:  -0.127767962056\n",
      "\n",
      "\n",
      "Optimization Finished!\n"
     ]
    }
   ],
   "source": [
    "NN_REG(X_train,\n",
    "        y_train,\n",
    "        X_test,\n",
    "        y_test,\n",
    "        training_epochs = 100,\n",
    "        batch_size = 500,\n",
    "        display_step = 1000,\n",
    "        architecture = architecture)"
   ]
  },
  {
   "cell_type": "code",
   "execution_count": 30,
   "metadata": {
    "collapsed": false
   },
   "outputs": [
    {
     "name": "stdout",
     "output_type": "stream",
     "text": [
      "R^2: -3.739\n",
      "RMSE: 0.663\n",
      "Mean absolute error: 0.544\n",
      "Median absolute error: 0.480\n",
      "Pearson: -0.004\n",
      "Spearman: -0.020\n"
     ]
    }
   ],
   "source": [
    "sk_reg_model = Ridge(alpha = 1.0).fit(X_train, y_train.dot(classes))\n",
    "_ = get_regression_metrics(sk_reg_model.predict(X_test), y_test)"
   ]
  },
  {
   "cell_type": "code",
   "execution_count": null,
   "metadata": {
    "collapsed": true
   },
   "outputs": [],
   "source": []
  }
 ],
 "metadata": {
  "kernelspec": {
   "display_name": "Python 3",
   "language": "python",
   "name": "python3"
  },
  "language_info": {
   "codemirror_mode": {
    "name": "ipython",
    "version": 3
   },
   "file_extension": ".py",
   "mimetype": "text/x-python",
   "name": "python",
   "nbconvert_exporter": "python",
   "pygments_lexer": "ipython3",
   "version": "3.5.1"
  }
 },
 "nbformat": 4,
 "nbformat_minor": 0
}
