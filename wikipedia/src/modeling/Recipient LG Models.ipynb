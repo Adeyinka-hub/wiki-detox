{
 "cells": [
  {
   "cell_type": "code",
   "execution_count": 1,
   "metadata": {
    "collapsed": false
   },
   "outputs": [],
   "source": [
    "%load_ext autoreload\n",
    "%autoreload 2\n",
    "%matplotlib inline\n",
    "%load_ext autotime\n",
    "\n",
    "import warnings\n",
    "warnings.filterwarnings('ignore')\n",
    "\n",
    "from ngram import *\n",
    "from baselines import *\n",
    "from error_analysis import *"
   ]
  },
  {
   "cell_type": "markdown",
   "metadata": {},
   "source": [
    "### Load Annotated Data"
   ]
  },
  {
   "cell_type": "code",
   "execution_count": 2,
   "metadata": {
    "collapsed": false
   },
   "outputs": [
    {
     "name": "stdout",
     "output_type": "stream",
     "text": [
      "time: 26.9 s\n"
     ]
    }
   ],
   "source": [
    "task = 'recipient'\n",
    "xtype = 'comments'\n",
    "ytype = 'plurality'\n",
    "n_classes = 2\n",
    "annotations = load_annotations()"
   ]
  },
  {
   "cell_type": "code",
   "execution_count": 3,
   "metadata": {
    "collapsed": false
   },
   "outputs": [
    {
     "name": "stdout",
     "output_type": "stream",
     "text": [
      "time: 2min 31s\n"
     ]
    }
   ],
   "source": [
    "data = label_and_split(annotations, task)\n",
    "X_train, y_train = assemble_data(data, xtype, ytype, splits = ['train'])\n",
    "X_test, y_test = assemble_data(data, xtype, 'empirical_dist', splits = ['test'])"
   ]
  },
  {
   "cell_type": "markdown",
   "metadata": {
    "collapsed": true
   },
   "source": [
    "### Hyper-Parameter tuning"
   ]
  },
  {
   "cell_type": "code",
   "execution_count": 4,
   "metadata": {
    "collapsed": false
   },
   "outputs": [
    {
     "name": "stdout",
     "output_type": "stream",
     "text": [
      "time: 2.52 ms\n"
     ]
    }
   ],
   "source": [
    "cv_pipeline = Pipeline([\n",
    "    ('vect', CountVectorizer()),\n",
    "    ('tfidf', TfidfTransformer(sublinear_tf=True,norm='l2')),\n",
    "    ('clf', LogisticRegression(solver = 'sag')),\n",
    "])"
   ]
  },
  {
   "cell_type": "code",
   "execution_count": 5,
   "metadata": {
    "collapsed": false
   },
   "outputs": [
    {
     "name": "stdout",
     "output_type": "stream",
     "text": [
      "\n",
      "Best parameters set found:\n",
      "{'vect__analyzer': 'char', 'vect__max_features': 50000, 'vect__ngram_range': (1, 5)} 0.972944219596\n",
      "\n",
      "\n",
      "Grid scores:\n",
      "0.94091 (+/-0.00000) for {'vect__analyzer': 'char', 'vect__max_features': 500, 'vect__ngram_range': (1, 5)}\n",
      "0.96799 (+/-0.00000) for {'vect__analyzer': 'char', 'vect__max_features': 5000, 'vect__ngram_range': (1, 5)}\n",
      "0.96894 (+/-0.00000) for {'vect__analyzer': 'char', 'vect__max_features': 10000, 'vect__ngram_range': (1, 5)}\n",
      "0.97294 (+/-0.00000) for {'vect__analyzer': 'char', 'vect__max_features': 50000, 'vect__ngram_range': (1, 5)}\n",
      "0.97205 (+/-0.00000) for {'vect__analyzer': 'char', 'vect__max_features': None, 'vect__ngram_range': (1, 5)}\n",
      "time: 7min 41s\n"
     ]
    }
   ],
   "source": [
    "param_grid = {\n",
    "    'vect__max_features': (500, 5000, 10000, 50000, None), \n",
    "    'vect__ngram_range': ((1,5),),  \n",
    "    'vect__analyzer' : ('char',), \n",
    "}\n",
    "\n",
    "tune (X_train, y_train, cv_pipeline, param_grid, roc_scorer, n_jobs=8, verbose=True)"
   ]
  },
  {
   "cell_type": "markdown",
   "metadata": {},
   "source": [
    "### Eval Best Pipeline"
   ]
  },
  {
   "cell_type": "code",
   "execution_count": 5,
   "metadata": {
    "collapsed": false
   },
   "outputs": [
    {
     "name": "stdout",
     "output_type": "stream",
     "text": [
      "time: 1.86 ms\n"
     ]
    }
   ],
   "source": [
    "optimal_pipeline = Pipeline([\n",
    "    ('vect', CountVectorizer(ngram_range = (1,5), analyzer = 'char', max_features = 10000)),\n",
    "    ('tfidf', TfidfTransformer(sublinear_tf=True,norm='l2')),\n",
    "    ('clf', LogisticRegression(C = 5.0,  solver = 'sag')),\n",
    "])"
   ]
  },
  {
   "cell_type": "code",
   "execution_count": 7,
   "metadata": {
    "collapsed": false
   },
   "outputs": [
    {
     "name": "stdout",
     "output_type": "stream",
     "text": [
      "time: 6min 30s\n"
     ]
    }
   ],
   "source": [
    "model = optimal_pipeline.fit(X_train, y_train)\n",
    "roc_df, spearman_df = test_cross(model, data, xtype)"
   ]
  },
  {
   "cell_type": "code",
   "execution_count": 10,
   "metadata": {
    "collapsed": false
   },
   "outputs": [
    {
     "data": {
      "text/html": [
       "<div>\n",
       "<table border=\"1\" class=\"dataframe\">\n",
       "  <thead>\n",
       "    <tr style=\"text-align: right;\">\n",
       "      <th></th>\n",
       "      <th>random</th>\n",
       "      <th>blocked</th>\n",
       "      <th>both</th>\n",
       "    </tr>\n",
       "  </thead>\n",
       "  <tbody>\n",
       "    <tr>\n",
       "      <th>user</th>\n",
       "      <td>0.986047</td>\n",
       "      <td>0.950795</td>\n",
       "      <td>0.961362</td>\n",
       "    </tr>\n",
       "    <tr>\n",
       "      <th>article</th>\n",
       "      <td>0.989825</td>\n",
       "      <td>0.960772</td>\n",
       "      <td>0.969866</td>\n",
       "    </tr>\n",
       "    <tr>\n",
       "      <th>both</th>\n",
       "      <td>0.988211</td>\n",
       "      <td>0.959751</td>\n",
       "      <td>0.969175</td>\n",
       "    </tr>\n",
       "  </tbody>\n",
       "</table>\n",
       "</div>"
      ],
      "text/plain": [
       "           random   blocked      both\n",
       "user     0.986047  0.950795  0.961362\n",
       "article  0.989825  0.960772  0.969866\n",
       "both     0.988211  0.959751  0.969175"
      ]
     },
     "execution_count": 10,
     "metadata": {},
     "output_type": "execute_result"
    },
    {
     "name": "stdout",
     "output_type": "stream",
     "text": [
      "time: 35.8 ms\n"
     ]
    }
   ],
   "source": [
    "roc_df"
   ]
  },
  {
   "cell_type": "code",
   "execution_count": 9,
   "metadata": {
    "collapsed": false
   },
   "outputs": [
    {
     "data": {
      "text/html": [
       "<div>\n",
       "<table border=\"1\" class=\"dataframe\">\n",
       "  <thead>\n",
       "    <tr style=\"text-align: right;\">\n",
       "      <th></th>\n",
       "      <th>random</th>\n",
       "      <th>blocked</th>\n",
       "      <th>both</th>\n",
       "    </tr>\n",
       "  </thead>\n",
       "  <tbody>\n",
       "    <tr>\n",
       "      <th>user</th>\n",
       "      <td>0.208376</td>\n",
       "      <td>0.648493</td>\n",
       "      <td>0.600309</td>\n",
       "    </tr>\n",
       "    <tr>\n",
       "      <th>article</th>\n",
       "      <td>0.161315</td>\n",
       "      <td>0.415527</td>\n",
       "      <td>0.343321</td>\n",
       "    </tr>\n",
       "    <tr>\n",
       "      <th>both</th>\n",
       "      <td>0.175508</td>\n",
       "      <td>0.613077</td>\n",
       "      <td>0.538718</td>\n",
       "    </tr>\n",
       "  </tbody>\n",
       "</table>\n",
       "</div>"
      ],
      "text/plain": [
       "           random   blocked      both\n",
       "user     0.208376  0.648493  0.600309\n",
       "article  0.161315  0.415527  0.343321\n",
       "both     0.175508  0.613077  0.538718"
      ]
     },
     "execution_count": 9,
     "metadata": {},
     "output_type": "execute_result"
    },
    {
     "name": "stdout",
     "output_type": "stream",
     "text": [
      "time: 6.47 ms\n"
     ]
    }
   ],
   "source": [
    "spearman_df"
   ]
  },
  {
   "cell_type": "markdown",
   "metadata": {},
   "source": [
    "### Does Adding Blocked Data Help predicting on Random Data?"
   ]
  },
  {
   "cell_type": "markdown",
   "metadata": {
    "collapsed": false
   },
   "source": [
    "#### User"
   ]
  },
  {
   "cell_type": "code",
   "execution_count": 28,
   "metadata": {
    "collapsed": false
   },
   "outputs": [
    {
     "name": "stdout",
     "output_type": "stream",
     "text": [
      "\n",
      "Train:  {'samples': ['random'], 'nss': ['user']}\n",
      "Test:  {'samples': ['random'], 'nss': ['user']} \n",
      "\n",
      "\tROC: 0.967\n",
      "\tSpearman: 0.112\n",
      "\n",
      "Train:  {'samples': ['random', 'blocked'], 'nss': ['user']}\n",
      "Test:  {'samples': ['random'], 'nss': ['user']} \n",
      "\n",
      "\tROC: 0.988\n",
      "\tSpearman: 0.195\n",
      "time: 3min 38s\n"
     ]
    }
   ],
   "source": [
    "train_params = [\n",
    "                {'nss': ['user'],\n",
    "                 'samples': ['random']},\n",
    "                {'nss': ['user'],\n",
    "                 'samples': ['random', 'blocked'] }\n",
    "                ]\n",
    "\n",
    "test_params =  [\n",
    "                {'nss': ['user'],\n",
    "                 'samples': ['random']}\n",
    "                ]\n",
    "\n",
    "test_custom_cross(optimal_pipeline, data, xtype, ytype, train_params, test_params)"
   ]
  },
  {
   "cell_type": "markdown",
   "metadata": {},
   "source": [
    "#### Article"
   ]
  },
  {
   "cell_type": "code",
   "execution_count": 29,
   "metadata": {
    "collapsed": false
   },
   "outputs": [
    {
     "name": "stdout",
     "output_type": "stream",
     "text": [
      "\n",
      "Train:  {'samples': ['random'], 'nss': ['article']}\n",
      "Test:  {'samples': ['random'], 'nss': ['article']} \n",
      "\n",
      "\tROC: 0.968\n",
      "\tSpearman: 0.166\n",
      "\n",
      "Train:  {'samples': ['random', 'blocked'], 'nss': ['article']}\n",
      "Test:  {'samples': ['random'], 'nss': ['article']} \n",
      "\n",
      "\tROC: 0.991\n",
      "\tSpearman: 0.153\n",
      "time: 2min 47s\n"
     ]
    }
   ],
   "source": [
    "train_params = [\n",
    "                {'nss': ['article'],\n",
    "                 'samples': ['random']},\n",
    "                {'nss': ['article'],\n",
    "                 'samples': ['random', 'blocked'] }\n",
    "                ]\n",
    "\n",
    "test_params =  [\n",
    "                {'nss': ['article'],\n",
    "                 'samples': ['random']}\n",
    "                ]\n",
    "\n",
    "test_custom_cross(optimal_pipeline, data, xtype, ytype, train_params, test_params)"
   ]
  },
  {
   "cell_type": "markdown",
   "metadata": {},
   "source": [
    "## Does adding random and blocked data from one namespace help predict on random data from the other namespace?"
   ]
  },
  {
   "cell_type": "markdown",
   "metadata": {},
   "source": [
    "#### User"
   ]
  },
  {
   "cell_type": "code",
   "execution_count": 30,
   "metadata": {
    "collapsed": false
   },
   "outputs": [
    {
     "name": "stdout",
     "output_type": "stream",
     "text": [
      "\n",
      "Train:  {'samples': ['random', 'blocked'], 'nss': ['user']}\n",
      "Test:  {'samples': ['random'], 'nss': ['user']} \n",
      "\n",
      "\tROC: 0.988\n",
      "\tSpearman: 0.195\n",
      "\n",
      "Train:  {'samples': ['random', 'blocked'], 'nss': ['user', 'article']}\n",
      "Test:  {'samples': ['random'], 'nss': ['user']} \n",
      "\n",
      "\tROC: 0.986\n",
      "\tSpearman: 0.208\n",
      "time: 6min 10s\n"
     ]
    }
   ],
   "source": [
    "train_params = [\n",
    "                {'nss': ['user'],\n",
    "                 'samples': ['random', 'blocked']},\n",
    "                {'nss': ['user', 'article'],\n",
    "                 'samples': ['random', 'blocked'] }\n",
    "                ]\n",
    "\n",
    "test_params =  [\n",
    "                {'nss': ['user'],\n",
    "                 'samples': ['random']}\n",
    "                ]\n",
    "\n",
    "test_custom_cross(optimal_pipeline, data, xtype, ytype, train_params, test_params)"
   ]
  },
  {
   "cell_type": "markdown",
   "metadata": {},
   "source": [
    "#### Article"
   ]
  },
  {
   "cell_type": "code",
   "execution_count": 31,
   "metadata": {
    "collapsed": false
   },
   "outputs": [
    {
     "name": "stdout",
     "output_type": "stream",
     "text": [
      "\n",
      "Train:  {'samples': ['random', 'blocked'], 'nss': ['article']}\n",
      "Test:  {'samples': ['random'], 'nss': ['article']} \n",
      "\n",
      "\tROC: 0.991\n",
      "\tSpearman: 0.153\n",
      "\n",
      "Train:  {'samples': ['random', 'blocked'], 'nss': ['user', 'article']}\n",
      "Test:  {'samples': ['random'], 'nss': ['article']} \n",
      "\n",
      "\tROC: 0.990\n",
      "\tSpearman: 0.161\n",
      "time: 5min 46s\n"
     ]
    }
   ],
   "source": [
    "train_params = [\n",
    "                {'nss': ['article'],\n",
    "                 'samples': ['random', 'blocked']},\n",
    "                {'nss': ['user', 'article'],\n",
    "                 'samples': ['random', 'blocked'] }\n",
    "                ]\n",
    "\n",
    "test_params =  [\n",
    "                {'nss': ['article'],\n",
    "                 'samples': ['random']}\n",
    "                ]\n",
    "\n",
    "test_custom_cross(optimal_pipeline, data, xtype, ytype, train_params, test_params)"
   ]
  },
  {
   "cell_type": "markdown",
   "metadata": {},
   "source": [
    "### Check Calibration"
   ]
  },
  {
   "cell_type": "code",
   "execution_count": 32,
   "metadata": {
    "collapsed": false,
    "scrolled": true
   },
   "outputs": [
    {
     "data": {
      "image/png": "[encoded data removed]",
      "text/plain": [
       "<matplotlib.figure.Figure at 0x1418a6f28>"
      ]
     },
     "metadata": {},
     "output_type": "display_data"
    },
    {
     "data": {
      "text/plain": [
       "<matplotlib.figure.Figure at 0x13ed95e48>"
      ]
     },
     "metadata": {},
     "output_type": "display_data"
    },
    {
     "name": "stdout",
     "output_type": "stream",
     "text": [
      "time: 45.9 s\n"
     ]
    }
   ],
   "source": [
    "y_test_oh = one_hot(y_test)\n",
    "y_pred_ed = model.predict_proba(X_test)\n",
    "\n",
    "if n_classes > 2:\n",
    "    classes = range(n_classes)\n",
    "else:\n",
    "    classes = [1]\n",
    "\n",
    "for i in classes:\n",
    "    plt.figure()\n",
    "    calibration_curve_plotter(y_test_oh[:, i], y_pred_ed[:, i])\n",
    "    plt.show()"
   ]
  },
  {
   "cell_type": "markdown",
   "metadata": {},
   "source": [
    "### Error Analysis"
   ]
  },
  {
   "cell_type": "code",
   "execution_count": 33,
   "metadata": {
    "collapsed": false
   },
   "outputs": [
    {
     "name": "stdout",
     "output_type": "stream",
     "text": [
      "\n",
      "\n",
      "\n",
      "CLASS:  1\n",
      "\n",
      "\n",
      "OVER\n",
      "\n",
      "COMMENT:\n",
      " Suck a dick you little cunt then go and take your uncle deep up your tight little ass\n",
      "SCORES: Actual: 0.00, Predicted: 1.00, Residual: -1.00\n",
      "\n",
      "\n",
      "COMMENT:\n",
      "You Utter TwatWhat kind of stupid cunt reports someone for a perfectly valid username. You complete waste of oxygen, you rancid piece of dog shit. Get a sense of perspective and stop being a petty minded little fucker.\n",
      "SCORES: Actual: 0.00, Predicted: 1.00, Residual: -1.00\n",
      "\n",
      "\n",
      "COMMENT:\n",
      " hi if you know clown will kill me guy then tell him that he is stupid, ugly, fat, gay, his mother's a whore, he smells like shit, he's an asshole, a bastard, and his little name just might be the gayest fucking thing i have ever heard. Hey and you are a faggot as well, so don't ever send me a message while i am editing pages again or i will rape your mother and kill you.\n",
      "SCORES: Actual: 0.00, Predicted: 1.00, Residual: -1.00\n",
      "\n",
      "\n",
      "COMMENT:\n",
      "MessageHey Dx927 you're a fat ugly cunt with the mental capacity of a 3-year-old amoeba. Why don't you get a life and stop trolling wikipedia you little fag?   \n",
      "SCORES: Actual: 0.00, Predicted: 1.00, Residual: -1.00\n",
      "\n",
      "\n",
      "COMMENT:\n",
      "\"He touched your anus with his penis, faggot. Fuck Dog. Come try and collect a bounty on me, motherfucker. I got a 12 gauge full of 00 buck for ya, \"\"bruh\"\". Couldn't make you any uglier to get shot in the face a few times, would it you loser fuck?\"\n",
      "SCORES: Actual: 0.00, Predicted: 1.00, Residual: -1.00\n",
      "\n",
      "\n",
      "COMMENT:\n",
      "Fucking piece of shit, he was vandalizing a bunch of articles, so fuck off, you little twerp.\n",
      "SCORES: Actual: 0.00, Predicted: 1.00, Residual: -1.00\n",
      "\n",
      "\n",
      "COMMENT:\n",
      " wikipedia search warrior4321 your a dickhead your a dickhead your a dickhead your a dickhead your a dickhead your a dickhead your a dickhead your a dickhead your a dickhead your a dickhead your a dickhead your a dickhead your a dickhead your a dickhead your a dickhead your a dickhead your a dickhead your a dickhead your a dickhead your a dickhead your a dickhead your a dickhead your a dickhead your a dickhead your a dickhead your a dickhead your a dickhead your a dickhead your a dickhead your\n",
      "SCORES: Actual: 0.00, Predicted: 0.99, Residual: -0.99\n",
      "\n",
      "\n",
      "COMMENT:\n",
      " Stay out of my business Go ahead, keep it up shithead, I'll kick your ass to!!! \n",
      "SCORES: Actual: 0.00, Predicted: 0.99, Residual: -0.99\n",
      "\n",
      "\n",
      "COMMENT:\n",
      " I give you facts and you spew politics. I don't have to stand for that. You are being stupid. Stupidity destroys\n",
      "SCORES: Actual: 0.00, Predicted: 0.99, Residual: -0.99\n",
      "\n",
      "\n",
      "COMMENT:\n",
      "Boy ScoutYou boy scout faggot. I bet you like mormon jizz all over your face\n",
      "SCORES: Actual: 0.00, Predicted: 0.99, Residual: -0.99\n",
      "\n",
      "\n",
      "\n",
      "\n",
      "UNDER\n",
      "\n",
      "COMMENT:\n",
      "tno thanks mate p i s s offe\n",
      "SCORES: Actual: 1.00, Predicted: 0.00, Residual: 1.00\n",
      "\n",
      "\n",
      "COMMENT:\n",
      "\", 21 April 2008 (UTC)Wait, I get it.  We get banned if we say \"\"fuck\"\" on our talk page?    17:36\"\n",
      "SCORES: Actual: 1.00, Predicted: 0.00, Residual: 1.00\n",
      "\n",
      "\n",
      "COMMENT:\n",
      "u aint got no pancake mix lady so stopppp\n",
      "SCORES: Actual: 1.00, Predicted: 0.00, Residual: 1.00\n",
      "\n",
      "\n",
      "COMMENT:\n",
      "ocean. In the end, Michael tragically hangs himself while masturbating over his brother's dead body.\n",
      "SCORES: Actual: 1.00, Predicted: 0.00, Residual: 1.00\n",
      "\n",
      "\n",
      "COMMENT:\n",
      "Dear Retard. There are DOZENS of references to the main crook, who is William Franklin Bermender. I have heard Kleargear has hired admins and that is why no truth is allowed. It sure appears that way based on this level of censorship while the public gets screwed openly by a criminal.\n",
      "SCORES: Actual: 1.00, Predicted: 0.00, Residual: 1.00\n",
      "\n",
      "\n",
      "COMMENT:\n",
      " ###################################### ###################################### ###################################### ###################################### ###################################### ###################################### ###################################### ###################################### ###################################### ###################################### ###################################### ###################################### ###############################\n",
      "SCORES: Actual: 1.00, Predicted: 0.00, Residual: 1.00\n",
      "\n",
      "\n",
      "COMMENT:\n",
      " n ig ger nig ger Hi n i g g e r\n",
      "SCORES: Actual: 1.00, Predicted: 0.00, Residual: 1.00\n",
      "\n",
      "\n",
      "COMMENT:\n",
      "\"Note to random idiot pedophile: I already called for an actual Wikipedian to feel free to wikify the entry I put in. However, for your boychat ass to remove the link to the Wiki (which isn't being used as a source, but instead links to it where it is referenced in the article) but then claim that Boychat, a message board forum, is a source that meets Wikipedia standards is hilariously silly. Also, the OR claim regarding the \"\"three counts\"\" is again, ridiculous. The Detroit News article says \n",
      "SCORES: Actual: 1.00, Predicted: 0.00, Residual: 1.00\n",
      "\n",
      "\n",
      "COMMENT:\n",
      "\" Unmarked spoilers For fuck's sake, KEEP SPOILERS UNDER A SPOILER WARNING. In the five years since this article's creation, and through dozens of edits, it has displayed a MAJOR reveal in the first sentence of the initial short description, potentially spoiling the film for thousands upon thousands of people  including myself!Speaking in the name of everyone whose naïveté and/or apparently over-optimistic expectations of Wikipedia's \"\"dedicated\"\" \"\"editors\"\" (and especially those of the W\n",
      "SCORES: Actual: 1.00, Predicted: 0.00, Residual: 1.00\n",
      "\n",
      "\n",
      "COMMENT:\n",
      "I am also issuing YOU a citation for uncivil conduct. Calling for a ban is a personal attack.  \n",
      "SCORES: Actual: 1.00, Predicted: 0.00, Residual: 1.00\n",
      "\n",
      "\n",
      "time: 36.5 ms\n"
     ]
    }
   ],
   "source": [
    "for i in classes:\n",
    "    print('\\n\\n\\nCLASS: ', i)\n",
    "    over, under = get_errors(X_test, y_test_oh[:, i], y_pred_ed[:, i])\n",
    "    print('\\n\\nOVER\\n')\n",
    "    print_errors(over, n=10)\n",
    "    print('\\n\\nUNDER\\n')\n",
    "    print_errors(under, n=10)"
   ]
  },
  {
   "cell_type": "markdown",
   "metadata": {},
   "source": [
    "### Learning Curves!\n",
    "How does adding more training data improve performance?"
   ]
  },
  {
   "cell_type": "code",
   "execution_count": 34,
   "metadata": {
    "collapsed": false
   },
   "outputs": [
    {
     "name": "stdout",
     "output_type": "stream",
     "text": [
      "time: 760 µs\n"
     ]
    }
   ],
   "source": [
    "#ms, metrics = eval_adding_other_data(optimal_pipeline, None, None, X_test, y_test, X_train, y_train, roc_scorer)\n",
    "#plot_adding_other_data(ms, metrics)"
   ]
  },
  {
   "cell_type": "markdown",
   "metadata": {},
   "source": [
    "### Model Understanding"
   ]
  },
  {
   "cell_type": "code",
   "execution_count": 35,
   "metadata": {
    "collapsed": false
   },
   "outputs": [
    {
     "name": "stdout",
     "output_type": "stream",
     "text": [
      "\n",
      "\n",
      "CLASS:  1\n",
      "STRONG POS: \n",
      "['off' 'e a ' ' ter' 'tar' 'ora' 't ad' 'suck' 'bitch' ' pen' 't is a'\n",
      " 'azi' ' fuc' 'u.' 'ou ' 'your' 'e pu' ' bitch' ' die ' 'aaaaaa' 'suck '\n",
      " 'stop ' 'hell' ' na' '. f' 'cis' ' you' 'ss ' 'go ' ' hell' 'bitc' 'a d'\n",
      " 'rd' 'uc' 'nke' 'e an ' ' bitc' ' yo' ' kil' 'bul' 'ose' ' cun' '! i'\n",
      " 'sho' 'up' 'bas' 'ss' 'id' ' ' ' cunt' 'ck o' 'r b' 't u' 'utt' '!' 'uck'\n",
      " 're an' 'et a' 'uck yo' 'ocks' ' off' 'umb' 'rap' 'fuck y' 'ur ' 'sex'\n",
      " 'hu' ' u' 'sh' 'fag' ' y' 'uck y' 'dick' ' die' 'head' 'k of' 'ker'\n",
      " 're a ' 'oron' '*' ' fag' 'ck' 'moro' 'hole' 'shit' 'ass' 'gay' 'fuck'\n",
      " 'moron' ' u ' ' stu' ' ass' 'stu' 'pi' ' id' 'fuc' 'u ' 'yo' 'you' 'idi'\n",
      " 'dio']\n",
      "STRONG NEG: \n",
      "['uf' 'ssu' 'm a' 'sum' 'p i' 'they' ' ph' 'they ' '\"' ' \"' 'e go' 'gam'\n",
      " 'hi ' '. ' 'x ' ' hi' ' but i' 'offe' 's a ' 'on' 'is ' 's d' 'fan' 'nic'\n",
      " 'did' 'n your' '\\nt' 'bt' 'r. ' 'le to' 's sh' 'is a' 'fun' 'but i' 'od'\n",
      " 'hi' 'tho' 'j' 'did ' 'ook' 'ne i' 'g f' ' they ' ' on' 'nl' ' at ' ' pas'\n",
      " 'if' 'le to ' 'roc' 'kl' 'ah' 'rad' ' they' 'elp ' 'vo' 'help ' 'rt'\n",
      " ' he ' 'bil' ')' 'a f' 'us' 'am a' ' sig' 'hes' 'ann' ' imp' 'nis ' 'uff'\n",
      " 'en.' '1' ' up' ' idea' 'se. ' 'od ' 'i have' 'ssa' 'm a ' 'cks' ' she'\n",
      " 'h is' ' help ' 'tell ' 'if ' 'pol' 'bre' 'on c' 'ide' 'd g' 'oto' 'ciat'\n",
      " ' ch' 'idea' 'by ' 'ng.' 'a so' 'd. i' 'tur' 'sia']\n",
      "time: 59.3 ms\n"
     ]
    }
   ],
   "source": [
    "feature_names = np.array(model.named_steps['vect'].get_feature_names())\n",
    "for i in classes:\n",
    "    print('\\n\\nCLASS: ', i)\n",
    "    \n",
    "    try:\n",
    "        coef = model.named_steps['clf'].coef_[i].ravel()\n",
    "    except:\n",
    "        coef = model.named_steps['clf'].coef_.ravel()\n",
    "    most_pos_idx = np.argsort(coef)[-100:]\n",
    "    most_pos = feature_names[most_pos_idx]\n",
    "    print('STRONG POS: ')\n",
    "    print(most_pos)\n",
    "    most_neg_idx = np.argsort(coef)[:100]\n",
    "    most_neg = feature_names[most_neg_idx]\n",
    "    print('STRONG NEG: ')\n",
    "    print(most_neg)"
   ]
  },
  {
   "cell_type": "markdown",
   "metadata": {},
   "source": [
    "### Final Model"
   ]
  },
  {
   "cell_type": "code",
   "execution_count": 6,
   "metadata": {
    "collapsed": false
   },
   "outputs": [
    {
     "data": {
      "text/plain": [
       "['../../models/recipient_ngram.pkl',\n",
       " '../../models/recipient_ngram.pkl_01.npy',\n",
       " '../../models/recipient_ngram.pkl_02.npy',\n",
       " '../../models/recipient_ngram.pkl_03.npy',\n",
       " '../../models/recipient_ngram.pkl_04.npy',\n",
       " '../../models/recipient_ngram.pkl_05.npy',\n",
       " '../../models/recipient_ngram.pkl_06.npy']"
      ]
     },
     "execution_count": 6,
     "metadata": {},
     "output_type": "execute_result"
    },
    {
     "name": "stdout",
     "output_type": "stream",
     "text": [
      "time: 3min 19s\n"
     ]
    }
   ],
   "source": [
    "X, y = assemble_data(data, xtype, ytype)\n",
    "final_model = optimal_pipeline.fit(X, y)\n",
    "joblib.dump(final_model, '../../models/%s_ngram.pkl' % task)"
   ]
  }
 ],
 "metadata": {
  "kernelspec": {
   "display_name": "Python 3",
   "language": "python",
   "name": "python3"
  },
  "language_info": {
   "codemirror_mode": {
    "name": "ipython",
    "version": 3
   },
   "file_extension": ".py",
   "mimetype": "text/x-python",
   "name": "python",
   "nbconvert_exporter": "python",
   "pygments_lexer": "ipython3",
   "version": "3.5.1"
  }
 },
 "nbformat": 4,
 "nbformat_minor": 0
}
