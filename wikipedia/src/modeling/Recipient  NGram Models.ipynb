{
 "cells": [
  {
   "cell_type": "code",
   "execution_count": 1,
   "metadata": {
    "collapsed": false
   },
   "outputs": [],
   "source": [
    "%load_ext autoreload\n",
    "%autoreload 2\n",
    "%matplotlib inline\n",
    "import warnings\n",
    "warnings.filterwarnings('ignore')\n",
    "\n",
    "from ngram import *\n",
    "from baselines import *\n",
    "from error_analysis import *"
   ]
  },
  {
   "cell_type": "markdown",
   "metadata": {},
   "source": [
    "### Load Annotated Data"
   ]
  },
  {
   "cell_type": "code",
   "execution_count": 2,
   "metadata": {
    "collapsed": false
   },
   "outputs": [],
   "source": [
    "data_filename  = '../../data/v4_annotated/annotated_onion_layer_5_rows_0_to_5000_raters_20.csv'\n",
    "d_b = load_cf_labels(data_filename)\n",
    "d_b = tidy_labels(d_b)\n",
    "\n",
    "data_filename  = '../../data/v4_annotated/annotated_random_data_rows_0_to_5000_raters_20.csv'\n",
    "d_r = load_cf_labels(data_filename)\n",
    "d_r = tidy_labels(d_r)"
   ]
  },
  {
   "cell_type": "code",
   "execution_count": 3,
   "metadata": {
    "collapsed": false
   },
   "outputs": [],
   "source": [
    "l_b = plurality(d_b['recipient'].dropna())\n",
    "l_r = plurality(d_r['recipient'].dropna())"
   ]
  },
  {
   "cell_type": "code",
   "execution_count": 4,
   "metadata": {
    "collapsed": true
   },
   "outputs": [],
   "source": [
    "data_b = get_labeled_comments(d_b, l_b)\n",
    "data_r = get_labeled_comments(d_r, l_r)"
   ]
  },
  {
   "cell_type": "markdown",
   "metadata": {},
   "source": [
    "### NGram Classification Pipeline"
   ]
  },
  {
   "cell_type": "code",
   "execution_count": 5,
   "metadata": {
    "collapsed": false
   },
   "outputs": [],
   "source": [
    "cv_pipeline = Pipeline([\n",
    "    ('vect', CountVectorizer()),\n",
    "    ('tfidf', TfidfTransformer(sublinear_tf=True,norm='l2')),\n",
    "    ('clf', LinearSVC()),\n",
    "])"
   ]
  },
  {
   "cell_type": "code",
   "execution_count": 6,
   "metadata": {
    "collapsed": true
   },
   "outputs": [],
   "source": [
    "param_grid = {\n",
    "    #'vect__max_df': (0.5, 0.75, 1.0),\n",
    "    'vect__max_features': (None,), #(None, 5000, 10000, 50000),\n",
    "    'vect__ngram_range': ((1,6),(1,5)),  # unigrams or bigrams\n",
    "    #'vect_lowercase': (True, False),\n",
    "    'vect__analyzer' : ('char',), #('word', 'char')\n",
    "    #'tfidf__use_idf': (True, False),\n",
    "    #'tfidf__norm': ('l1', 'l2'),\n",
    "    'clf__C': (0.001, 0.1, 1.0, 5.0, 10)\n",
    "}"
   ]
  },
  {
   "cell_type": "code",
   "execution_count": 7,
   "metadata": {
    "collapsed": false
   },
   "outputs": [
    {
     "name": "stdout",
     "output_type": "stream",
     "text": [
      "\n",
      "Best parameters set found:\n",
      "{'vect__max_features': None, 'vect__ngram_range': (1, 5), 'clf__C': 0.1, 'vect__analyzer': 'char'} 0.914423094585\n",
      "\n",
      "\n",
      "Grid scores:\n",
      "0.72512 (+/-0.00000) for {'vect__max_features': None, 'vect__ngram_range': (1, 6), 'clf__C': 0.001, 'vect__analyzer': 'char'}\n",
      "0.71680 (+/-0.00000) for {'vect__max_features': None, 'vect__ngram_range': (1, 5), 'clf__C': 0.001, 'vect__analyzer': 'char'}\n",
      "0.91438 (+/-0.00000) for {'vect__max_features': None, 'vect__ngram_range': (1, 6), 'clf__C': 0.1, 'vect__analyzer': 'char'}\n",
      "0.91442 (+/-0.00000) for {'vect__max_features': None, 'vect__ngram_range': (1, 5), 'clf__C': 0.1, 'vect__analyzer': 'char'}\n",
      "0.91016 (+/-0.00000) for {'vect__max_features': None, 'vect__ngram_range': (1, 6), 'clf__C': 1.0, 'vect__analyzer': 'char'}\n",
      "0.90908 (+/-0.00000) for {'vect__max_features': None, 'vect__ngram_range': (1, 5), 'clf__C': 1.0, 'vect__analyzer': 'char'}\n"
     ]
    },
    {
     "data": {
      "text/plain": [
       "0.90269773657395802"
      ]
     },
     "execution_count": 7,
     "metadata": {},
     "output_type": "execute_result"
    }
   ],
   "source": [
    "train, test = split(data_b)\n",
    "model = tune (train['x'], train['y'], cv_pipeline, param_grid, 'roc_auc', n_jobs=8, verbose=True)\n",
    "evaluate(model, test, roc_auc, plot = False)"
   ]
  },
  {
   "cell_type": "code",
   "execution_count": 8,
   "metadata": {
    "collapsed": true
   },
   "outputs": [],
   "source": [
    "optimal_pipeline = Pipeline([\n",
    "    ('vect', CountVectorizer(ngram_range = (1,6))),\n",
    "    ('tfidf', TfidfTransformer(sublinear_tf=True, norm='l2')),\n",
    "    ('clf', LinearSVC(C = 1.0)),\n",
    "])"
   ]
  },
  {
   "cell_type": "markdown",
   "metadata": {},
   "source": [
    "### Error Analysis"
   ]
  },
  {
   "cell_type": "code",
   "execution_count": 9,
   "metadata": {
    "collapsed": false
   },
   "outputs": [],
   "source": [
    "fn, fp = get_clf_errors(model, test)"
   ]
  },
  {
   "cell_type": "code",
   "execution_count": 10,
   "metadata": {
    "collapsed": false,
    "scrolled": true
   },
   "outputs": [
    {
     "name": "stdout",
     "output_type": "stream",
     "text": [
      "COMMENT:\n",
      "maroo doingaroo itaroo becausearoo Iaroo sawaroo somearoo evolutionsaroo inaroo thataroo programaroo andaroo heardaroo thearoo onesaroo thataroo werearoo mentionedaroo, somebodyaroo addedaroo somearoo accordingaroo thingaroo onaroo itaroo whicharoo didaroo notaroo happenaroo inaroo thearoo showaroo\n",
      "SCORES: Actual: 1, Predicted: 0, Score: -0.82\n",
      "\n",
      "\n",
      "COMMENT:\n",
      "Nope, sorry scumbag. I'm just a random guy reading about the petty (though not really disturbing) underbelly of Wikipedia. And it's pretty amusing that the guy who got blocked was 'right' all along, given the current content of your precious Rock Lobster article. Also, if I was vanboto, wouldn't an indefinite block have kept me blocked?\n",
      "SCORES: Actual: 1, Predicted: 0, Score: -0.75\n",
      "\n",
      "\n",
      "COMMENT:\n",
      "cradle of filthAre you unable to understand the text written in large capital letters next to the genre? Do not add Symponic Metal again, it will be removed.   \n",
      "SCORES: Actual: 1, Predicted: 0, Score: -0.70\n",
      "\n",
      "\n",
      "COMMENT:\n",
      " Don't touch my page Even though you were reverting vandalism, I don't want anyone dumb enough to support Quebec sovereignty to touch my user page in any way.\n",
      "SCORES: Actual: 1, Predicted: 0, Score: -0.69\n",
      "\n",
      "\n",
      "COMMENT:\n",
      "You're making a personal judgment call, and it's a bad one. In at least two of those comments, I was being positively moderate. In no case was anyone personally attacked, called names, or treated in any way that wouldn't have flown on any other site but this one. You're protecting miscreants, probably out of personal bias, and In my humble opinion, you're totally out of line. Just thought I'd let you know.  \n",
      "SCORES: Actual: 1, Predicted: 0, Score: -0.69\n",
      "\n",
      "\n",
      "COMMENT:\n",
      "You're a moronYou keep creating articles with slightly wrong names and then new ones are created because the correct names were still in red links. Now there are a lot of duplicate articles for the same subjects, but since yours are so badly written and incomplete I will ask an administrator to delete them. 172.129.98.125  17:50, 31 May 2009 (UTC)\n",
      "SCORES: Actual: 1, Predicted: 0, Score: -0.68\n",
      "\n",
      "\n",
      "COMMENT:\n",
      "What on earth is the problem with youI clearly asked my intention of speaking about any problem concerning my article but only on the discussion page of the Bosendorfer page. It makes sense to make this discussion open to all.I ask you to unblock me and to allow me to discuss the problems related to my article on this Bosendorfer discussion page.Your behaviour is inadmissible. And I will complain about it until I get the right that I am fully entitled to on Wikipedia. You really should be a\n",
      "SCORES: Actual: 1, Predicted: 0, Score: -0.67\n",
      "\n",
      "\n",
      "COMMENT:\n",
      "\"Rude of you to continually disregard my simple request.Please don't post about me.Thanks.- Sinneed \"\n",
      "SCORES: Actual: 1, Predicted: 0, Score: -0.66\n",
      "\n",
      "\n",
      "COMMENT:\n",
      "DID. It's called books and websites (external) and also pictures. Again, it is a FAILURE on your part and WIKI to notice.WIKI is a failure at getting real information to the world.You people are TOO DOCTRINED...too controlled by mass media. It makes me wonder if the OIL INDUSTRY is behind your funding. OR maybe it's the Church. Whatever the case, you can't support anything outside the norm.Good bye\n",
      "SCORES: Actual: 1, Predicted: 0, Score: -0.64\n",
      "\n",
      "\n",
      "COMMENT:\n",
      "situation better than a vandal like you, I'll revert and ask for this page to be protected from vandals like you\n",
      "SCORES: Actual: 1, Predicted: 0, Score: -0.62\n",
      "\n",
      "\n"
     ]
    }
   ],
   "source": [
    "# extreme False negatives\n",
    "print_clf_errors(fn)"
   ]
  },
  {
   "cell_type": "code",
   "execution_count": 11,
   "metadata": {
    "collapsed": false
   },
   "outputs": [
    {
     "name": "stdout",
     "output_type": "stream",
     "text": [
      "COMMENT:\n",
      "up, HES A FRAUD, A FUCKING FRAUD!!!!!!\n",
      "SCORES: Actual: 0, Predicted: 1, Score: 0.27\n",
      "\n",
      "\n",
      "COMMENT:\n",
      " jp gordon is a fucking kike\n",
      "SCORES: Actual: 0, Predicted: 1, Score: 0.20\n",
      "\n",
      "\n",
      "COMMENT:\n",
      "gay fucking faggot who has no life and no job and spends his whole shitty fucking life on wikipedia feeling powerful because he can ban and block peoples ips. hes a basement dwelling cunt. Not that i'm suprised however if I had a face like that I would stay indoors too.\n",
      "SCORES: Actual: 0, Predicted: 1, Score: 0.11\n",
      "\n",
      "\n",
      "COMMENT:\n",
      " So you want to block me I really don't care if you are going to block me or not. If you are going to block me, I request that you delete my user page.Thank you in advance.  \n",
      "SCORES: Actual: 0, Predicted: 1, Score: 0.10\n",
      "\n",
      "\n"
     ]
    }
   ],
   "source": [
    "# extreme False positives\n",
    "print_clf_errors(fp)"
   ]
  },
  {
   "cell_type": "markdown",
   "metadata": {},
   "source": [
    "### Does adding random data improve prediction on blocked data?\n",
    "\n",
    "Incrementally add random data to full blocked data set on training. Eval on held out blocked data."
   ]
  },
  {
   "cell_type": "code",
   "execution_count": 12,
   "metadata": {
    "collapsed": false
   },
   "outputs": [],
   "source": [
    "ms, metrics = eval_adding_other_data(optimal_pipeline, data_b, data_r, roc_auc)"
   ]
  },
  {
   "cell_type": "code",
   "execution_count": 13,
   "metadata": {
    "collapsed": false,
    "scrolled": true
   },
   "outputs": [
    {
     "data": {
      "image/png": "[encoded data removed]",
      "text/plain": [
       "<matplotlib.figure.Figure at 0x11b673160>"
      ]
     },
     "metadata": {},
     "output_type": "display_data"
    }
   ],
   "source": [
    "plot_adding_other_data(ms, metrics)"
   ]
  },
  {
   "cell_type": "markdown",
   "metadata": {},
   "source": [
    "# Final Model"
   ]
  },
  {
   "cell_type": "code",
   "execution_count": 15,
   "metadata": {
    "collapsed": false
   },
   "outputs": [
    {
     "data": {
      "text/plain": [
       "['../../models/recipient_ngram.pkl',\n",
       " '../../models/recipient_ngram.pkl_01.npy',\n",
       " '../../models/recipient_ngram.pkl_02.npy',\n",
       " '../../models/recipient_ngram.pkl_03.npy',\n",
       " '../../models/recipient_ngram.pkl_04.npy',\n",
       " '../../models/recipient_ngram.pkl_05.npy']"
      ]
     },
     "execution_count": 15,
     "metadata": {},
     "output_type": "execute_result"
    }
   ],
   "source": [
    "data = pd.concat([data_r,data_b])\n",
    "model = optimal_pipeline.fit(data['x'], data['y'])\n",
    "joblib.dump(model, '../../models/recipient_ngram.pkl')"
   ]
  }
 ],
 "metadata": {
  "kernelspec": {
   "display_name": "Python 3",
   "language": "python",
   "name": "python3"
  },
  "language_info": {
   "codemirror_mode": {
    "name": "ipython",
    "version": 3
   },
   "file_extension": ".py",
   "mimetype": "text/x-python",
   "name": "python",
   "nbconvert_exporter": "python",
   "pygments_lexer": "ipython3",
   "version": "3.5.1"
  }
 },
 "nbformat": 4,
 "nbformat_minor": 0
}
