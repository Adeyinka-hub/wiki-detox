{
 "cells": [
  {
   "cell_type": "code",
   "execution_count": 1,
   "metadata": {
    "collapsed": false
   },
   "outputs": [],
   "source": [
    "%load_ext autoreload\n",
    "%autoreload 2\n",
    "%matplotlib inline\n",
    "import warnings\n",
    "warnings.filterwarnings('ignore')\n",
    "\n",
    "from ngram import *\n",
    "from baselines import *"
   ]
  },
  {
   "cell_type": "markdown",
   "metadata": {},
   "source": [
    "### Load Annotated Data"
   ]
  },
  {
   "cell_type": "code",
   "execution_count": 2,
   "metadata": {
    "collapsed": false
   },
   "outputs": [],
   "source": [
    "data_filename  = '../data/v4_annotated/annotated_onion_layer_5_rows_0_to_5000_raters_20.csv'\n",
    "d_b = load_cf_labels(data_filename)\n",
    "d_b = tidy_labels(d_b)\n",
    "\n",
    "data_filename  = '../data/v4_annotated/annotated_random_data_rows_0_to_5000_raters_20.csv'\n",
    "d_r = load_cf_labels(data_filename)\n",
    "d_r = tidy_labels(d_r)"
   ]
  },
  {
   "cell_type": "code",
   "execution_count": 3,
   "metadata": {
    "collapsed": false
   },
   "outputs": [],
   "source": [
    "l_b = plurality(d_b['recipient'].dropna())\n",
    "l_r = plurality(d_r['recipient'].dropna())"
   ]
  },
  {
   "cell_type": "code",
   "execution_count": 4,
   "metadata": {
    "collapsed": true
   },
   "outputs": [],
   "source": [
    "data_b = get_labeled_comments(d_b, l_b)\n",
    "data_r = get_labeled_comments(d_r, l_r)"
   ]
  },
  {
   "cell_type": "markdown",
   "metadata": {},
   "source": [
    "### NGram Classification Pipeline"
   ]
  },
  {
   "cell_type": "code",
   "execution_count": 5,
   "metadata": {
    "collapsed": false
   },
   "outputs": [],
   "source": [
    "cv_pipeline = Pipeline([\n",
    "    ('vect', CountVectorizer()),\n",
    "    ('tfidf', TfidfTransformer(sublinear_tf=True,norm='l2')),\n",
    "    ('clf', LinearSVC()),\n",
    "])"
   ]
  },
  {
   "cell_type": "code",
   "execution_count": 6,
   "metadata": {
    "collapsed": true
   },
   "outputs": [],
   "source": [
    "param_grid = {\n",
    "    #'vect__max_df': (0.5, 0.75, 1.0),\n",
    "    'vect__max_features': (None,), #(None, 5000, 10000, 50000),\n",
    "    'vect__ngram_range': ((1,6),(1,5)),  # unigrams or bigrams\n",
    "    #'vect_lowercase': (True, False),\n",
    "    'vect__analyzer' : ('char',), #('word', 'char')\n",
    "    #'tfidf__use_idf': (True, False),\n",
    "    #'tfidf__norm': ('l1', 'l2'),\n",
    "    'clf__C': (0.001, 0.1, 1.0)\n",
    "}"
   ]
  },
  {
   "cell_type": "code",
   "execution_count": 7,
   "metadata": {
    "collapsed": false
   },
   "outputs": [
    {
     "name": "stdout",
     "output_type": "stream",
     "text": [
      "\n",
      "Best parameters set found:\n",
      "{'vect__max_features': None, 'vect__analyzer': 'char', 'vect__ngram_range': (1, 6), 'clf__C': 1.0} 0.903494356976\n",
      "\n",
      "\n",
      "Grid scores:\n",
      "0.71193 (+/-0.00000) for {'vect__max_features': None, 'vect__analyzer': 'char', 'vect__ngram_range': (1, 6), 'clf__C': 0.001}\n",
      "0.70354 (+/-0.00000) for {'vect__max_features': None, 'vect__analyzer': 'char', 'vect__ngram_range': (1, 5), 'clf__C': 0.001}\n",
      "0.89095 (+/-0.00000) for {'vect__max_features': None, 'vect__analyzer': 'char', 'vect__ngram_range': (1, 6), 'clf__C': 0.1}\n",
      "0.89233 (+/-0.00000) for {'vect__max_features': None, 'vect__analyzer': 'char', 'vect__ngram_range': (1, 5), 'clf__C': 0.1}\n",
      "0.90349 (+/-0.00000) for {'vect__max_features': None, 'vect__analyzer': 'char', 'vect__ngram_range': (1, 6), 'clf__C': 1.0}\n",
      "0.90152 (+/-0.00000) for {'vect__max_features': None, 'vect__analyzer': 'char', 'vect__ngram_range': (1, 5), 'clf__C': 1.0}\n"
     ]
    },
    {
     "data": {
      "text/plain": [
       "0.87400333311548262"
      ]
     },
     "execution_count": 7,
     "metadata": {},
     "output_type": "execute_result"
    }
   ],
   "source": [
    "train, test = split(data_b)\n",
    "model = tune (train['x'], train['y'], cv_pipeline, param_grid, 'roc_auc', n_jobs=8, verbose=True)\n",
    "evaluate(model, test, roc_auc, plot = False)"
   ]
  },
  {
   "cell_type": "code",
   "execution_count": 8,
   "metadata": {
    "collapsed": true
   },
   "outputs": [],
   "source": [
    "optimal_pipeline = Pipeline([\n",
    "    ('vect', CountVectorizer(ngram_range = (1,6))),\n",
    "    ('tfidf', TfidfTransformer(sublinear_tf=True, norm='l2')),\n",
    "    ('clf', LinearSVC(C = 1.0)),\n",
    "])"
   ]
  },
  {
   "cell_type": "markdown",
   "metadata": {},
   "source": [
    "### Does adding random data improve prediction on blocked data?\n",
    "\n",
    "Incrementally add random data to full blocked data set on training. Eval on held out blocked data."
   ]
  },
  {
   "cell_type": "code",
   "execution_count": 9,
   "metadata": {
    "collapsed": false
   },
   "outputs": [],
   "source": [
    "ms, metrics = eval_adding_other_data(optimal_pipeline, data_b, data_r, roc_auc)"
   ]
  },
  {
   "cell_type": "code",
   "execution_count": 10,
   "metadata": {
    "collapsed": false,
    "scrolled": true
   },
   "outputs": [
    {
     "data": {
      "image/png": "[encoded data removed]",
      "text/plain": [
       "<matplotlib.figure.Figure at 0x1187040b8>"
      ]
     },
     "metadata": {},
     "output_type": "display_data"
    }
   ],
   "source": [
    "plot_adding_other_data(ms, metrics)"
   ]
  },
  {
   "cell_type": "markdown",
   "metadata": {},
   "source": [
    "# Final Model"
   ]
  },
  {
   "cell_type": "code",
   "execution_count": 11,
   "metadata": {
    "collapsed": false
   },
   "outputs": [
    {
     "data": {
      "text/plain": [
       "['../models/recipient_ngram.pkl',\n",
       " '../models/recipient_ngram.pkl_01.npy',\n",
       " '../models/recipient_ngram.pkl_02.npy',\n",
       " '../models/recipient_ngram.pkl_03.npy',\n",
       " '../models/recipient_ngram.pkl_04.npy',\n",
       " '../models/recipient_ngram.pkl_05.npy']"
      ]
     },
     "execution_count": 11,
     "metadata": {},
     "output_type": "execute_result"
    }
   ],
   "source": [
    "data = pd.concat([data_r,data_b])\n",
    "model = optimal_pipeline.fit(data['x'], data['y'])\n",
    "joblib.dump(model, '../models/recipient_ngram.pkl')"
   ]
  }
 ],
 "metadata": {
  "kernelspec": {
   "display_name": "Python 3",
   "language": "python",
   "name": "python3"
  },
  "language_info": {
   "codemirror_mode": {
    "name": "ipython",
    "version": 3
   },
   "file_extension": ".py",
   "mimetype": "text/x-python",
   "name": "python",
   "nbconvert_exporter": "python",
   "pygments_lexer": "ipython3",
   "version": "3.5.1"
  }
 },
 "nbformat": 4,
 "nbformat_minor": 0
}
