{
 "cells": [
  {
   "cell_type": "code",
   "execution_count": 1,
   "metadata": {
    "collapsed": false
   },
   "outputs": [],
   "source": [
    "%load_ext autoreload\n",
    "%autoreload 2\n",
    "%matplotlib inline\n",
    "import warnings\n",
    "warnings.filterwarnings('ignore')\n",
    "import pandas as pd\n",
    "from db_utils import query_hive_ssh\n",
    "import re\n",
    "import copy\n",
    "import time\n",
    "import numpy as np\n",
    "import os\n"
   ]
  },
  {
   "cell_type": "code",
   "execution_count": 2,
   "metadata": {
    "collapsed": false
   },
   "outputs": [],
   "source": [
    "def transfer_table(params, dry = False):\n",
    "    hdfs_path = '/user/hive/warehouse/%(db)s.db/%(table)s' % params\n",
    "    stat2_path = '/home/ellery/detox/data/retention/%(name)s' % params\n",
    "    local_path = '/Users/ellerywulczyn/detox/data/retention/%(name)s/' % params\n",
    "    \n",
    "\n",
    "    if not dry:\n",
    "        # transfer from HDFS to stat2\n",
    "        cmd = \"ssh stat1002.eqiad.wmnet 'rm -rf %s'\" % stat2_path\n",
    "        print(os.system(cmd))\n",
    "        cmd = \"ssh stat1002.eqiad.wmnet 'hadoop fs -copyToLocal %s %s '\" % (hdfs_path, stat2_path)\n",
    "        print(os.system(cmd))\n",
    "        #transfer from stat2 to local\n",
    "        cmd = 'rm -rf %s' % local_path\n",
    "        print(os.system(cmd))\n",
    "        cmd = 'rsync -avz  stat1002.eqiad.wmnet:%s/* %s' % (stat2_path, local_path)\n",
    "        os.system(cmd)\n",
    "        \n",
    "        \n",
    "    dfs = []\n",
    "\n",
    "    for filename in os.listdir(local_path):\n",
    "        try:\n",
    "            dfs.append(pd.read_csv(os.path.join(local_path,filename), sep = '\\t', header = None))\n",
    "        except:\n",
    "            print(\"Error reading: \", os.path.join(local_path,filename))\n",
    "\n",
    "    df = pd.concat(dfs)\n",
    "    df.columns = params['columns']\n",
    "\n",
    "    df = df[df['user_text'] != \"false\"]\n",
    "\n",
    "    df.to_csv(local_path[:-1] + '.tsv', sep ='\\t', index = False)"
   ]
  },
  {
   "cell_type": "code",
   "execution_count": 8,
   "metadata": {
    "collapsed": false
   },
   "outputs": [
    {
     "data": {
      "text/html": [
       "<div>\n",
       "<table border=\"1\" class=\"dataframe\">\n",
       "  <thead>\n",
       "    <tr style=\"text-align: right;\">\n",
       "      <th></th>\n",
       "      <th>daily_revision_counts.user_id</th>\n",
       "      <th>daily_revision_counts.user_text</th>\n",
       "      <th>daily_revision_counts.day</th>\n",
       "      <th>daily_revision_counts.ns</th>\n",
       "      <th>daily_revision_counts.n_revisions</th>\n",
       "      <th>daily_revision_counts.n_deleted_revisions</th>\n",
       "      <th>daily_revision_counts.n_identity_reverted_revisions</th>\n",
       "      <th>daily_revision_counts.n_productive_revisions</th>\n",
       "    </tr>\n",
       "  </thead>\n",
       "  <tbody>\n",
       "    <tr>\n",
       "      <th>0</th>\n",
       "      <td>1</td>\n",
       "      <td>Damian Yerrick</td>\n",
       "      <td>20041121</td>\n",
       "      <td>0</td>\n",
       "      <td>1</td>\n",
       "      <td>0</td>\n",
       "      <td>0</td>\n",
       "      <td>1</td>\n",
       "    </tr>\n",
       "    <tr>\n",
       "      <th>1</th>\n",
       "      <td>1</td>\n",
       "      <td>Damian Yerrick</td>\n",
       "      <td>20050919</td>\n",
       "      <td>1</td>\n",
       "      <td>1</td>\n",
       "      <td>0</td>\n",
       "      <td>0</td>\n",
       "      <td>1</td>\n",
       "    </tr>\n",
       "    <tr>\n",
       "      <th>2</th>\n",
       "      <td>1</td>\n",
       "      <td>Damian Yerrick</td>\n",
       "      <td>20060227</td>\n",
       "      <td>0</td>\n",
       "      <td>1</td>\n",
       "      <td>0</td>\n",
       "      <td>0</td>\n",
       "      <td>1</td>\n",
       "    </tr>\n",
       "    <tr>\n",
       "      <th>3</th>\n",
       "      <td>1</td>\n",
       "      <td>Damian Yerrick</td>\n",
       "      <td>20070829</td>\n",
       "      <td>0</td>\n",
       "      <td>3</td>\n",
       "      <td>0</td>\n",
       "      <td>0</td>\n",
       "      <td>3</td>\n",
       "    </tr>\n",
       "    <tr>\n",
       "      <th>4</th>\n",
       "      <td>1</td>\n",
       "      <td>Damian Yerrick</td>\n",
       "      <td>20110818</td>\n",
       "      <td>0</td>\n",
       "      <td>2</td>\n",
       "      <td>0</td>\n",
       "      <td>0</td>\n",
       "      <td>2</td>\n",
       "    </tr>\n",
       "    <tr>\n",
       "      <th>5</th>\n",
       "      <td>2</td>\n",
       "      <td>AxelBoldt</td>\n",
       "      <td>20030608</td>\n",
       "      <td>0</td>\n",
       "      <td>24</td>\n",
       "      <td>0</td>\n",
       "      <td>1</td>\n",
       "      <td>23</td>\n",
       "    </tr>\n",
       "    <tr>\n",
       "      <th>6</th>\n",
       "      <td>2</td>\n",
       "      <td>AxelBoldt</td>\n",
       "      <td>20060211</td>\n",
       "      <td>3</td>\n",
       "      <td>4</td>\n",
       "      <td>0</td>\n",
       "      <td>0</td>\n",
       "      <td>4</td>\n",
       "    </tr>\n",
       "    <tr>\n",
       "      <th>7</th>\n",
       "      <td>2</td>\n",
       "      <td>AxelBoldt</td>\n",
       "      <td>20060421</td>\n",
       "      <td>0</td>\n",
       "      <td>4</td>\n",
       "      <td>0</td>\n",
       "      <td>0</td>\n",
       "      <td>4</td>\n",
       "    </tr>\n",
       "    <tr>\n",
       "      <th>8</th>\n",
       "      <td>2</td>\n",
       "      <td>AxelBoldt</td>\n",
       "      <td>20071022</td>\n",
       "      <td>0</td>\n",
       "      <td>2</td>\n",
       "      <td>0</td>\n",
       "      <td>0</td>\n",
       "      <td>2</td>\n",
       "    </tr>\n",
       "    <tr>\n",
       "      <th>9</th>\n",
       "      <td>2</td>\n",
       "      <td>AxelBoldt</td>\n",
       "      <td>20080121</td>\n",
       "      <td>2</td>\n",
       "      <td>2</td>\n",
       "      <td>0</td>\n",
       "      <td>0</td>\n",
       "      <td>2</td>\n",
       "    </tr>\n",
       "  </tbody>\n",
       "</table>\n",
       "</div>"
      ],
      "text/plain": [
       "   daily_revision_counts.user_id daily_revision_counts.user_text  \\\n",
       "0                              1                  Damian Yerrick   \n",
       "1                              1                  Damian Yerrick   \n",
       "2                              1                  Damian Yerrick   \n",
       "3                              1                  Damian Yerrick   \n",
       "4                              1                  Damian Yerrick   \n",
       "5                              2                       AxelBoldt   \n",
       "6                              2                       AxelBoldt   \n",
       "7                              2                       AxelBoldt   \n",
       "8                              2                       AxelBoldt   \n",
       "9                              2                       AxelBoldt   \n",
       "\n",
       "   daily_revision_counts.day  daily_revision_counts.ns  \\\n",
       "0                   20041121                         0   \n",
       "1                   20050919                         1   \n",
       "2                   20060227                         0   \n",
       "3                   20070829                         0   \n",
       "4                   20110818                         0   \n",
       "5                   20030608                         0   \n",
       "6                   20060211                         3   \n",
       "7                   20060421                         0   \n",
       "8                   20071022                         0   \n",
       "9                   20080121                         2   \n",
       "\n",
       "   daily_revision_counts.n_revisions  \\\n",
       "0                                  1   \n",
       "1                                  1   \n",
       "2                                  1   \n",
       "3                                  3   \n",
       "4                                  2   \n",
       "5                                 24   \n",
       "6                                  4   \n",
       "7                                  4   \n",
       "8                                  2   \n",
       "9                                  2   \n",
       "\n",
       "   daily_revision_counts.n_deleted_revisions  \\\n",
       "0                                          0   \n",
       "1                                          0   \n",
       "2                                          0   \n",
       "3                                          0   \n",
       "4                                          0   \n",
       "5                                          0   \n",
       "6                                          0   \n",
       "7                                          0   \n",
       "8                                          0   \n",
       "9                                          0   \n",
       "\n",
       "   daily_revision_counts.n_identity_reverted_revisions  \\\n",
       "0                                                  0     \n",
       "1                                                  0     \n",
       "2                                                  0     \n",
       "3                                                  0     \n",
       "4                                                  0     \n",
       "5                                                  1     \n",
       "6                                                  0     \n",
       "7                                                  0     \n",
       "8                                                  0     \n",
       "9                                                  0     \n",
       "\n",
       "   daily_revision_counts.n_productive_revisions  \n",
       "0                                             1  \n",
       "1                                             1  \n",
       "2                                             1  \n",
       "3                                             3  \n",
       "4                                             2  \n",
       "5                                            23  \n",
       "6                                             4  \n",
       "7                                             4  \n",
       "8                                             2  \n",
       "9                                             2  "
      ]
     },
     "execution_count": 8,
     "metadata": {},
     "output_type": "execute_result"
    }
   ],
   "source": [
    "cmd = \"SELECT * from enwiki.daily_revision_counts limit 10;\"\n",
    "from db_utils import query_hive_ssh\n",
    "query_hive_ssh(cmd, '/tmp/testfile')"
   ]
  },
  {
   "cell_type": "code",
   "execution_count": 3,
   "metadata": {
    "collapsed": false
   },
   "outputs": [
    {
     "name": "stdout",
     "output_type": "stream",
     "text": [
      "0\n",
      "0\n",
      "0\n",
      "Error reading:  /Users/ellerywulczyn/detox/data/retention/daily_revision_counts/000096_0\n",
      "Error reading:  /Users/ellerywulczyn/detox/data/retention/daily_revision_counts/000251_0\n"
     ]
    }
   ],
   "source": [
    "params = {\n",
    "        'db': 'enwiki',\n",
    "        'table':'daily_revision_counts',\n",
    "        'name': 'daily_revision_counts',\n",
    "        'columns': ['user_id','user_text','day','ns', 'n_revisions', 'n_deleted_revisions', 'n_identity_reverted_revisions', 'n_productive_revisions']\n",
    "    }\n",
    "transfer_table(params, dry = False)"
   ]
  },
  {
   "cell_type": "code",
   "execution_count": 11,
   "metadata": {
    "collapsed": false
   },
   "outputs": [
    {
     "name": "stdout",
     "output_type": "stream",
     "text": [
      "0\n",
      "0\n",
      "0\n"
     ]
    }
   ],
   "source": [
    "params = {\n",
    "        'db': 'newcomer',\n",
    "        'table':'daily_revision_counts',\n",
    "        'name': 'newcomer_daily_revision_counts',\n",
    "        'columns': ['user_id','user_text','day','ns', 'n_revisions', 'n_deleted_revisions', 'n_identity_reverted_revisions', 'n_productive_revisions']\n",
    "    }\n",
    "transfer_table(params, dry = False)"
   ]
  },
  {
   "cell_type": "code",
   "execution_count": 4,
   "metadata": {
    "collapsed": false
   },
   "outputs": [
    {
     "name": "stdout",
     "output_type": "stream",
     "text": [
      "0\n",
      "0\n",
      "0\n"
     ]
    }
   ],
   "source": [
    "params = {\n",
    "        'db': 'enwiki',\n",
    "        'table':'user_start',\n",
    "        'name': 'user_start',\n",
    "        'columns': ['user_id','user_text', 'registration_day', 'first_edit_day']\n",
    "    }\n",
    "transfer_table(params, dry = False)"
   ]
  },
  {
   "cell_type": "code",
   "execution_count": 12,
   "metadata": {
    "collapsed": false
   },
   "outputs": [
    {
     "name": "stdout",
     "output_type": "stream",
     "text": [
      "0\n",
      "0\n",
      "0\n"
     ]
    }
   ],
   "source": [
    "params = {\n",
    "        'db': 'newcomer',\n",
    "        'table':'user_start',\n",
    "        'name': 'newcomer_user_start',\n",
    "        'columns': ['user_id','user_text', 'registration_day', 'first_edit_day']\n",
    "    }\n",
    "transfer_table(params, dry = False)"
   ]
  },
  {
   "cell_type": "code",
   "execution_count": 5,
   "metadata": {
    "collapsed": false
   },
   "outputs": [
    {
     "name": "stdout",
     "output_type": "stream",
     "text": [
      "0\n",
      "0\n",
      "0\n"
     ]
    }
   ],
   "source": [
    "params = {\n",
    "        'db': 'enwiki',\n",
    "        'table':'user_warnings',\n",
    "        'name': 'user_warnings',\n",
    "        'columns': [\n",
    "                    'rev_id',\n",
    "                    'page_id',\n",
    "                    'page_title',\n",
    "                    'rev_timestamp',\n",
    "                    'user_id',\n",
    "                    'user_text',\n",
    "                    'bot',\n",
    "                    'admin',\n",
    "                    'ns',\n",
    "                    'year',\n",
    "                    'type',\n",
    "                    'level',\n",
    "                    ]\n",
    "    }\n",
    "transfer_table(params, dry = False)"
   ]
  },
  {
   "cell_type": "code",
   "execution_count": 13,
   "metadata": {
    "collapsed": false
   },
   "outputs": [
    {
     "name": "stdout",
     "output_type": "stream",
     "text": [
      "0\n",
      "0\n",
      "0\n"
     ]
    }
   ],
   "source": [
    "params = {\n",
    "        'db': 'newcomer',\n",
    "        'table':'user_warnings',\n",
    "        'name': 'newcomer_user_warnings',\n",
    "        'columns': [\n",
    "                    'rev_id',\n",
    "                    'page_id',\n",
    "                    'page_title',\n",
    "                    'rev_timestamp',\n",
    "                    'user_id',\n",
    "                    'user_text',\n",
    "                    'bot',\n",
    "                    'admin',\n",
    "                    'ns',\n",
    "                    'year',\n",
    "                    'type',\n",
    "                    'level',\n",
    "                    ]\n",
    "    }\n",
    "transfer_table(params, dry = False)"
   ]
  },
  {
   "cell_type": "code",
   "execution_count": null,
   "metadata": {
    "collapsed": true
   },
   "outputs": [],
   "source": []
  }
 ],
 "metadata": {
  "anaconda-cloud": {},
  "kernelspec": {
   "display_name": "Python [default]",
   "language": "python",
   "name": "python3"
  },
  "language_info": {
   "codemirror_mode": {
    "name": "ipython",
    "version": 3
   },
   "file_extension": ".py",
   "mimetype": "text/x-python",
   "name": "python",
   "nbconvert_exporter": "python",
   "pygments_lexer": "ipython3",
   "version": "3.5.1"
  }
 },
 "nbformat": 4,
 "nbformat_minor": 0
}
