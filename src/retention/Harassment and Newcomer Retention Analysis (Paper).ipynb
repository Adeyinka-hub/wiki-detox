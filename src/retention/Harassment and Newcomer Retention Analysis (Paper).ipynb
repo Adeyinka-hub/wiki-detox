{
 "cells": [
  {
   "cell_type": "markdown",
   "metadata": {},
   "source": [
    "# Harassment and Newcomer Retention (Paper)\n",
    "\n",
    "\n",
    "Regression analysis notebook for study of harassment on newcomer retention in Wikipedia. See [research project page](https://meta.wikimedia.org/wiki/Research:Detox/Harassment_and_User_Retention) for an overview."
   ]
  },
  {
   "cell_type": "code",
   "execution_count": 68,
   "metadata": {
    "collapsed": true
   },
   "outputs": [],
   "source": [
    "% matplotlib inline\n",
    "import pandas as pd\n",
    "from dateutil.relativedelta import relativedelta\n",
    "import statsmodels.formula.api as sm\n",
    "import requests\n",
    "from io import StringIO\n",
    "import math\n",
    "import pandas as pd"
   ]
  },
  {
   "cell_type": "markdown",
   "metadata": {},
   "source": [
    "### Load Data and take sample\n",
    "\n",
    "WIP, documentation coming"
   ]
  },
  {
   "cell_type": "code",
   "execution_count": 69,
   "metadata": {
    "collapsed": false
   },
   "outputs": [],
   "source": [
    "#Features computes in ./Harassment and Newcomer Retention Data Munging.ipynb\n",
    "df_reg = pd.read_csv(\"../../data/retention/newcomer_sample_features.csv\")"
   ]
  },
  {
   "cell_type": "code",
   "execution_count": 70,
   "metadata": {
    "collapsed": false
   },
   "outputs": [
    {
     "data": {
      "text/plain": [
       "(111290, 24)"
      ]
     },
     "execution_count": 70,
     "metadata": {},
     "output_type": "execute_result"
    }
   ],
   "source": [
    "df_reg.shape"
   ]
  },
  {
   "cell_type": "code",
   "execution_count": 71,
   "metadata": {
    "collapsed": true
   },
   "outputs": [],
   "source": [
    "df_newcomer_sample = pd.read_csv(\"../../data/retention/newcomer_sample.csv\")\n",
    "df_reg = df_reg.merge(df_newcomer_sample, on = \"user_text\", how = \"inner\")"
   ]
  },
  {
   "cell_type": "code",
   "execution_count": 72,
   "metadata": {
    "collapsed": false
   },
   "outputs": [
    {
     "data": {
      "text/plain": [
       "(111290, 26)"
      ]
     },
     "execution_count": 72,
     "metadata": {},
     "output_type": "execute_result"
    }
   ],
   "source": [
    "df_reg.shape"
   ]
  },
  {
   "cell_type": "code",
   "execution_count": 73,
   "metadata": {
    "collapsed": false
   },
   "outputs": [
    {
     "data": {
      "text/plain": [
       "random      92469\n",
       "attacked    18821\n",
       "Name: sample, dtype: int64"
      ]
     },
     "execution_count": 73,
     "metadata": {},
     "output_type": "execute_result"
    }
   ],
   "source": [
    "df_reg['sample'].value_counts()"
   ]
  },
  {
   "cell_type": "code",
   "execution_count": 74,
   "metadata": {
    "collapsed": false
   },
   "outputs": [
    {
     "data": {
      "text/plain": [
       "0    108887\n",
       "1      2403\n",
       "Name: t1_harassment_received, dtype: int64"
      ]
     },
     "execution_count": 74,
     "metadata": {},
     "output_type": "execute_result"
    }
   ],
   "source": [
    "df_reg['t1_harassment_received'].value_counts()"
   ]
  },
  {
   "cell_type": "code",
   "execution_count": 75,
   "metadata": {
    "collapsed": false
   },
   "outputs": [
    {
     "data": {
      "text/plain": [
       "0    105896\n",
       "1      5394\n",
       "Name: has_gender, dtype: int64"
      ]
     },
     "execution_count": 75,
     "metadata": {},
     "output_type": "execute_result"
    }
   ],
   "source": [
    "df_reg['has_gender'].value_counts()"
   ]
  },
  {
   "cell_type": "code",
   "execution_count": 76,
   "metadata": {
    "collapsed": false
   },
   "outputs": [
    {
     "data": {
      "text/plain": [
       "1    111290\n",
       "Name: t1_active, dtype: int64"
      ]
     },
     "execution_count": 76,
     "metadata": {},
     "output_type": "execute_result"
    }
   ],
   "source": [
    "df_reg['t1_active'].value_counts()"
   ]
  },
  {
   "cell_type": "code",
   "execution_count": 77,
   "metadata": {
    "collapsed": false
   },
   "outputs": [],
   "source": [
    "df_reg = pd.concat(\n",
    "    [df_reg.query('t1_harassment_received == 1')\n",
    "     , df_reg.query(\"sample == 'random'\").sample(50000, random_state = 12)]\n",
    ").drop_duplicates(subset = \"user_text\")"
   ]
  },
  {
   "cell_type": "code",
   "execution_count": 78,
   "metadata": {
    "collapsed": false
   },
   "outputs": [
    {
     "data": {
      "text/plain": [
       "random      50014\n",
       "attacked     2375\n",
       "Name: sample, dtype: int64"
      ]
     },
     "execution_count": 78,
     "metadata": {},
     "output_type": "execute_result"
    }
   ],
   "source": [
    "df_reg['sample'].value_counts()"
   ]
  },
  {
   "cell_type": "code",
   "execution_count": 79,
   "metadata": {
    "collapsed": false
   },
   "outputs": [
    {
     "data": {
      "text/plain": [
       "0    49986\n",
       "1     2403\n",
       "Name: t1_harassment_received, dtype: int64"
      ]
     },
     "execution_count": 79,
     "metadata": {},
     "output_type": "execute_result"
    }
   ],
   "source": [
    "df_reg['t1_harassment_received'].value_counts()"
   ]
  },
  {
   "cell_type": "code",
   "execution_count": 80,
   "metadata": {
    "collapsed": false
   },
   "outputs": [
    {
     "data": {
      "text/plain": [
       "(52389, 26)"
      ]
     },
     "execution_count": 80,
     "metadata": {},
     "output_type": "execute_result"
    }
   ],
   "source": [
    "df_reg.shape"
   ]
  },
  {
   "cell_type": "code",
   "execution_count": 81,
   "metadata": {
    "collapsed": false
   },
   "outputs": [],
   "source": [
    "column_map = {\n",
    "        't1_num_days_active': 'm1_days_active',\n",
    "        't2_num_days_active' : 'm2_days_active',\n",
    "        't1_harassment_received': 'm1_received_harassment',\n",
    "        't1_harassment_made': 'm1_made_harassment',\n",
    "        't1_fraction_ns0_deleted': 'm1_fraction_ns0_deleted',\n",
    "        't1_fraction_ns0_reverted': 'm1_fraction_ns0_reverted',\n",
    "        't1_num_warnings_recieved': 'm1_warnings',\n",
    "        }\n",
    "        \n",
    "df_reg = df_reg.rename(columns=column_map)"
   ]
  },
  {
   "cell_type": "markdown",
   "metadata": {},
   "source": [
    "### Regression Analysis"
   ]
  },
  {
   "cell_type": "code",
   "execution_count": 82,
   "metadata": {
    "collapsed": false
   },
   "outputs": [],
   "source": [
    "def regress(df, f, family = 'linear'):\n",
    "    if family == 'linear':\n",
    "        results = sm.ols(formula=f, data=df).fit()\n",
    "        return results.summary().tables[1]\n",
    "\n",
    "    elif family == 'logistic':\n",
    "        results = sm.logit(formula=f, data=df).fit(disp=0)\n",
    "        return results.summary().tables[1]\n",
    "    else:\n",
    "        return\n",
    "    \n",
    "\n",
    "def get_latex_table(results, famiily = 'linear'):\n",
    "    \"\"\"\n",
    "    Mess of a function for turning a statsmodels SimpleTable\n",
    "    into a nice latex table strinf\n",
    "    \"\"\"\n",
    "    \n",
    "    results = pd.read_csv(StringIO(results.as_csv()))\n",
    "    \n",
    "    if family == 'linear':\n",
    "        column_map = {\n",
    "            results.columns[0]: \"\",\n",
    "            '   coef   ' : 'coef',\n",
    "           'P>|t| ': \"p-val\",\n",
    "            '    t    ': \"z-stat\",\n",
    "           ' [95.0% Conf. Int.]': \"95% CI\"\n",
    "        }\n",
    "\n",
    "    elif family == 'logistic':\n",
    "        column_map = {\n",
    "            results.columns[0]: \"\",\n",
    "            '   coef   ' : 'coef',\n",
    "           'P>|z| ': \"p-val\",\n",
    "            '    z    ': \"z-stat\",\n",
    "           ' [95.0% Conf. Int.]': \"95% CI\"\n",
    "        }\n",
    "    else:\n",
    "        return\n",
    "        \n",
    "        \n",
    "    results = results.rename(columns=column_map)\n",
    "    results.index = results[\"\"]\n",
    "    del results[\"\"]\n",
    "    results = results[['coef', \"z-stat\", \"p-val\", \"95% CI\"]]\n",
    "    results['coef'] = results['coef'].apply(lambda x: round(float(x), 2))\n",
    "    results['z-stat'] = results['z-stat'].apply(lambda x: round(float(x), 1))\n",
    "    results['p-val'] = results['p-val'].apply(lambda x: round(float(x), 3))\n",
    "    results['95% CI'] = results['95% CI'].apply(reformat_ci)\n",
    "    header = \"\"\"\n",
    "\\\\begin{table}[h]\n",
    "\\\\begin{center}\n",
    "    \"\"\"\n",
    "    footer = \"\"\"\n",
    "\\\\end{center}\n",
    "\\\\caption{%s}\n",
    "\\\\label{tab:}\n",
    "\\\\end{table}\n",
    "    \"\"\"\n",
    "    f = f.replace(\"_\", \"\\_\").replace(\"~\", \"\\\\texttildelow\\\\\")\n",
    "    latex = header + results.to_latex() + footer % f\n",
    "    print(latex)\n",
    "    return results\n",
    "        \n",
    "    \n",
    "def reformat_ci(s):\n",
    "    ci = s.strip().split()\n",
    "    ci = (round(float(ci[0]), 1), round(float(ci[1]), 1))\n",
    "    return \"[%.1f, %.1f]\" % ci    "
   ]
  },
  {
   "cell_type": "markdown",
   "metadata": {},
   "source": [
    "#### RQ1: Do newcomers in general show reduced activity after experiencing harassment?"
   ]
  },
  {
   "cell_type": "code",
   "execution_count": 83,
   "metadata": {
    "collapsed": false
   },
   "outputs": [
    {
     "data": {
      "text/html": [
       "<table class=\"simpletable\">\n",
       "<tr>\n",
       "             <td></td>               <th>coef</th>     <th>std err</th>      <th>t</th>      <th>P>|t|</th> <th>[95.0% Conf. Int.]</th> \n",
       "</tr>\n",
       "<tr>\n",
       "  <th>Intercept</th>              <td>    0.1788</td> <td>    0.007</td> <td>   23.884</td> <td> 0.000</td> <td>    0.164     0.193</td>\n",
       "</tr>\n",
       "<tr>\n",
       "  <th>m1_received_harassment</th> <td>    1.8599</td> <td>    0.035</td> <td>   53.213</td> <td> 0.000</td> <td>    1.791     1.928</td>\n",
       "</tr>\n",
       "</table>"
      ],
      "text/plain": [
       "<class 'statsmodels.iolib.table.SimpleTable'>"
      ]
     },
     "execution_count": 83,
     "metadata": {},
     "output_type": "execute_result"
    }
   ],
   "source": [
    "f =\"m2_days_active ~ m1_received_harassment\"\n",
    "regress(df_reg, f)"
   ]
  },
  {
   "cell_type": "code",
   "execution_count": 84,
   "metadata": {
    "collapsed": false
   },
   "outputs": [
    {
     "data": {
      "text/html": [
       "<table class=\"simpletable\">\n",
       "<tr>\n",
       "             <td></td>               <th>coef</th>     <th>std err</th>      <th>t</th>      <th>P>|t|</th> <th>[95.0% Conf. Int.]</th> \n",
       "</tr>\n",
       "<tr>\n",
       "  <th>Intercept</th>              <td>   -0.5654</td> <td>    0.007</td> <td>  -81.425</td> <td> 0.000</td> <td>   -0.579    -0.552</td>\n",
       "</tr>\n",
       "<tr>\n",
       "  <th>m1_days_active</th>         <td>    0.4933</td> <td>    0.003</td> <td>  190.999</td> <td> 0.000</td> <td>    0.488     0.498</td>\n",
       "</tr>\n",
       "<tr>\n",
       "  <th>m1_received_harassment</th> <td>   -0.4743</td> <td>    0.029</td> <td>  -16.084</td> <td> 0.000</td> <td>   -0.532    -0.416</td>\n",
       "</tr>\n",
       "</table>"
      ],
      "text/plain": [
       "<class 'statsmodels.iolib.table.SimpleTable'>"
      ]
     },
     "execution_count": 84,
     "metadata": {},
     "output_type": "execute_result"
    }
   ],
   "source": [
    "f= \"m2_days_active ~ m1_days_active + m1_received_harassment\"\n",
    "regress(df_reg, f)"
   ]
  },
  {
   "cell_type": "markdown",
   "metadata": {},
   "source": [
    "The first regression shows that newcomers who are harassed in m1 tend to be more active in m2, indicating that harassment does not have a chilling effect on continued newcomer activity. However, this result is an artifact of the group of harassed newcomers being more active in general. After controlling for the level of activity in m1, we see that when comparing users of comparable activity levels in m1, those who get harassed are significantly less active in m2. "
   ]
  },
  {
   "cell_type": "markdown",
   "metadata": {},
   "source": [
    "#### RQ2: Does a newcomer's gender affect how they behave after experiencing harassment?"
   ]
  },
  {
   "cell_type": "code",
   "execution_count": 85,
   "metadata": {
    "collapsed": false
   },
   "outputs": [
    {
     "data": {
      "text/html": [
       "<table class=\"simpletable\">\n",
       "<tr>\n",
       "      <td></td>         <th>coef</th>     <th>std err</th>      <th>z</th>      <th>P>|z|</th> <th>[95.0% Conf. Int.]</th> \n",
       "</tr>\n",
       "<tr>\n",
       "  <th>Intercept</th> <td>   -1.8962</td> <td>    0.083</td> <td>  -22.712</td> <td> 0.000</td> <td>   -2.060    -1.733</td>\n",
       "</tr>\n",
       "<tr>\n",
       "  <th>is_female</th> <td>    0.5148</td> <td>    0.177</td> <td>    2.901</td> <td> 0.004</td> <td>    0.167     0.863</td>\n",
       "</tr>\n",
       "</table>"
      ],
      "text/plain": [
       "<class 'statsmodels.iolib.table.SimpleTable'>"
      ]
     },
     "execution_count": 85,
     "metadata": {},
     "output_type": "execute_result"
    }
   ],
   "source": [
    "f=\"m1_received_harassment ~ is_female\"\n",
    "regress(df_reg.query(\"has_gender == 1\"), f, family = 'logistic')"
   ]
  },
  {
   "cell_type": "code",
   "execution_count": 87,
   "metadata": {
    "collapsed": false
   },
   "outputs": [
    {
     "data": {
      "text/html": [
       "<table class=\"simpletable\">\n",
       "<tr>\n",
       "                  <td></td>                    <th>coef</th>     <th>std err</th>      <th>t</th>      <th>P>|t|</th> <th>[95.0% Conf. Int.]</th> \n",
       "</tr>\n",
       "<tr>\n",
       "  <th>Intercept</th>                        <td>   -0.8618</td> <td>    0.090</td> <td>   -9.548</td> <td> 0.000</td> <td>   -1.039    -0.685</td>\n",
       "</tr>\n",
       "<tr>\n",
       "  <th>m1_days_active</th>                   <td>    0.7157</td> <td>    0.017</td> <td>   41.515</td> <td> 0.000</td> <td>    0.682     0.749</td>\n",
       "</tr>\n",
       "<tr>\n",
       "  <th>m1_received_harassment</th>           <td>   -1.6535</td> <td>    0.291</td> <td>   -5.691</td> <td> 0.000</td> <td>   -2.223    -1.084</td>\n",
       "</tr>\n",
       "<tr>\n",
       "  <th>m1_received_harassment:is_female</th> <td>   -0.0869</td> <td>    0.472</td> <td>   -0.184</td> <td> 0.854</td> <td>   -1.013     0.839</td>\n",
       "</tr>\n",
       "</table>"
      ],
      "text/plain": [
       "<class 'statsmodels.iolib.table.SimpleTable'>"
      ]
     },
     "execution_count": 87,
     "metadata": {},
     "output_type": "execute_result"
    }
   ],
   "source": [
    "f=\"m2_days_active ~ m1_days_active + m1_received_harassment + m1_received_harassment : is_female\"\n",
    "regress(df_reg.query(\"has_gender == 1\"), f)"
   ]
  },
  {
   "cell_type": "markdown",
   "metadata": {},
   "source": [
    "For our gender analysis, we reduce our sample to the set of users who reported a gender. First off, we observe that newcomers who end up reporting a female gender are more likely to receive harassment in m1. To investigate whether the impact of receiving harassment differs across genders, we ran the same regression as in RQ1, but restricted our analysis to users who supplied a gender and added a interaction term between gender and our measure of harassment in m1. We find that when restricting to users who supplied a gender, we again see that users who received harassment have reduced activity in m2. Inspecting the regression results for the interaction term between harassment and gender indicates that the impact is not significantly different for males and females."
   ]
  },
  {
   "cell_type": "markdown",
   "metadata": {},
   "source": [
    "#### RQ3: How do good faith newcomers behave after experiencing harassment?"
   ]
  },
  {
   "cell_type": "code",
   "execution_count": 88,
   "metadata": {
    "collapsed": false
   },
   "outputs": [
    {
     "data": {
      "text/html": [
       "<table class=\"simpletable\">\n",
       "<tr>\n",
       "                      <td></td>                         <th>coef</th>     <th>std err</th>      <th>t</th>      <th>P>|t|</th> <th>[95.0% Conf. Int.]</th> \n",
       "</tr>\n",
       "<tr>\n",
       "  <th>Intercept</th>                                 <td>   -0.5666</td> <td>    0.007</td> <td>  -81.218</td> <td> 0.000</td> <td>   -0.580    -0.553</td>\n",
       "</tr>\n",
       "<tr>\n",
       "  <th>m1_days_active</th>                            <td>    0.4941</td> <td>    0.003</td> <td>  188.288</td> <td> 0.000</td> <td>    0.489     0.499</td>\n",
       "</tr>\n",
       "<tr>\n",
       "  <th>m1_received_harassment</th>                    <td>   -0.3896</td> <td>    0.033</td> <td>  -11.781</td> <td> 0.000</td> <td>   -0.454    -0.325</td>\n",
       "</tr>\n",
       "<tr>\n",
       "  <th>m1_received_harassment:m1_made_harassment</th> <td>   -0.1049</td> <td>    0.061</td> <td>   -1.724</td> <td> 0.085</td> <td>   -0.224     0.014</td>\n",
       "</tr>\n",
       "<tr>\n",
       "  <th>m1_received_harassment:m1_warnings</th>        <td>   -0.1512</td> <td>    0.019</td> <td>   -7.920</td> <td> 0.000</td> <td>   -0.189    -0.114</td>\n",
       "</tr>\n",
       "</table>"
      ],
      "text/plain": [
       "<class 'statsmodels.iolib.table.SimpleTable'>"
      ]
     },
     "execution_count": 88,
     "metadata": {},
     "output_type": "execute_result"
    }
   ],
   "source": [
    "f=\"m2_days_active ~ m1_days_active + m1_received_harassment +  m1_received_harassment : m1_made_harassment + m1_received_harassment : m1_warnings\"\n",
    "regress(df_reg, f)"
   ]
  },
  {
   "cell_type": "markdown",
   "metadata": {},
   "source": [
    "A serious potential confound in our analyses could be that the users who receive harassment are just bad faith newcomers or sock-puppets. They get attacked for their misbehavior and reduce their activity in m2 because they get blocked or because they never intended to stick around past their own attacks. To reduce this confound, we control for whether the user harassed anyone in m1 and for whether they received an user warning of any type. The results show that even users who receive harassment but did not harass anyone or receive a user warning show reduced activity in m2."
   ]
  },
  {
   "cell_type": "markdown",
   "metadata": {},
   "source": [
    "#### RQ4: How does experiencing harassment compare to previously studied barriers to newcomer socialization?\n",
    "\n",
    "[Halfak et al](https://www-users.cs.umn.edu/~halfak/publications/The_Rise_and_Decline/halfaker13rise-preprint.pdf) examine how user warnings and deletions and reverts correlate with newcomer retention. Here we add those features and see how they compare to measure of harassment."
   ]
  },
  {
   "cell_type": "code",
   "execution_count": 89,
   "metadata": {
    "collapsed": false
   },
   "outputs": [
    {
     "data": {
      "text/html": [
       "<table class=\"simpletable\">\n",
       "<tr>\n",
       "              <td></td>                <th>coef</th>     <th>std err</th>      <th>t</th>      <th>P>|t|</th> <th>[95.0% Conf. Int.]</th> \n",
       "</tr>\n",
       "<tr>\n",
       "  <th>Intercept</th>                <td>   -0.6018</td> <td>    0.012</td> <td>  -49.840</td> <td> 0.000</td> <td>   -0.625    -0.578</td>\n",
       "</tr>\n",
       "<tr>\n",
       "  <th>m1_days_active</th>           <td>    0.5094</td> <td>    0.003</td> <td>  158.863</td> <td> 0.000</td> <td>    0.503     0.516</td>\n",
       "</tr>\n",
       "<tr>\n",
       "  <th>m1_received_harassment</th>   <td>   -0.5343</td> <td>    0.041</td> <td>  -12.992</td> <td> 0.000</td> <td>   -0.615    -0.454</td>\n",
       "</tr>\n",
       "<tr>\n",
       "  <th>m1_warnings</th>              <td>   -0.1200</td> <td>    0.016</td> <td>   -7.667</td> <td> 0.000</td> <td>   -0.151    -0.089</td>\n",
       "</tr>\n",
       "<tr>\n",
       "  <th>m1_fraction_ns0_deleted</th>  <td>   -0.0483</td> <td>    0.044</td> <td>   -1.099</td> <td> 0.272</td> <td>   -0.134     0.038</td>\n",
       "</tr>\n",
       "<tr>\n",
       "  <th>m1_fraction_ns0_reverted</th> <td>   -0.0034</td> <td>    0.019</td> <td>   -0.180</td> <td> 0.857</td> <td>   -0.041     0.034</td>\n",
       "</tr>\n",
       "</table>"
      ],
      "text/plain": [
       "<class 'statsmodels.iolib.table.SimpleTable'>"
      ]
     },
     "execution_count": 89,
     "metadata": {},
     "output_type": "execute_result"
    }
   ],
   "source": [
    "f = \"m2_days_active ~ m1_days_active + m1_received_harassment + m1_warnings +  m1_fraction_ns0_deleted + m1_fraction_ns0_reverted \"\n",
    "regress(df_reg.query(\"t1_num_ns0_edits > 0\"), f)"
   ]
  },
  {
   "cell_type": "markdown",
   "metadata": {},
   "source": [
    "WIP: Receiving harassment is worse for a newcomer than receiving 11 warning messages or having all their first months work deleted or reverted."
   ]
  }
 ],
 "metadata": {
  "anaconda-cloud": {},
  "kernelspec": {
   "display_name": "Python [default]",
   "language": "python",
   "name": "python3"
  },
  "language_info": {
   "codemirror_mode": {
    "name": "ipython",
    "version": 3
   },
   "file_extension": ".py",
   "mimetype": "text/x-python",
   "name": "python",
   "nbconvert_exporter": "python",
   "pygments_lexer": "ipython3",
   "version": "3.5.1"
  }
 },
 "nbformat": 4,
 "nbformat_minor": 0
}
