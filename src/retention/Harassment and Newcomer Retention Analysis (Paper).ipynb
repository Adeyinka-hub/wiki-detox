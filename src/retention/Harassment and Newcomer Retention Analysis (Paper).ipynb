{
 "cells": [
  {
   "cell_type": "markdown",
   "metadata": {},
   "source": [
    "# Harassment and Newcomer Retention\n",
    "\n",
    "In this notebook we investigate how receiving harassment correlates with newcomer activity and retention. For the purposes of this study, our measures of harassment are classifiers over individual discussion comments for personal attacks, aggression and toxicity. These classifiers were developed [in previous work](https://arxiv.org/abs/1610.08914). We will investigate the relationship between harassment and newcomer retention through running regression models that use a measures of editing activity and harassment in a first time span (t1) as independent variables and a measure of editing activity in a subsequent time span (t2) as the dependent variable.\n",
    "\n",
    "In the following analyses, t1 is the first month after registering and t2 is the second month after registering, but this could be modified in further analysis. Our initial set of examples consists of all (20k) newcomers to English Wikipedia from 2001-2015 that received a personal attack or an aggressive or toxic comment on their user page by another user in t1 and a random sample of 100k newcomers from 2001-2015. We the reduced the set of examples to those newcomers who made at least one edit in t1. "
   ]
  },
  {
   "cell_type": "code",
   "execution_count": 53,
   "metadata": {
    "collapsed": true
   },
   "outputs": [],
   "source": [
    "% matplotlib inline\n",
    "import pandas as pd\n",
    "from dateutil.relativedelta import relativedelta\n",
    "import statsmodels.formula.api as sm\n",
    "import requests"
   ]
  },
  {
   "cell_type": "markdown",
   "metadata": {},
   "source": [
    "### Regression Modeling\n"
   ]
  },
  {
   "cell_type": "code",
   "execution_count": 54,
   "metadata": {
    "collapsed": false
   },
   "outputs": [],
   "source": [
    "#Features computes in ./Harassment and Newcomer Retention Data Munging.ipynb\n",
    "df_reg = pd.read_csv(\"../../data/retention/newcomer_sample_features.csv\")"
   ]
  },
  {
   "cell_type": "code",
   "execution_count": 55,
   "metadata": {
    "collapsed": false
   },
   "outputs": [
    {
     "data": {
      "text/plain": [
       "(111290, 24)"
      ]
     },
     "execution_count": 55,
     "metadata": {},
     "output_type": "execute_result"
    }
   ],
   "source": [
    "df_reg.shape"
   ]
  },
  {
   "cell_type": "code",
   "execution_count": 56,
   "metadata": {
    "collapsed": true
   },
   "outputs": [],
   "source": [
    "df_newcomer_sample = pd.read_csv(\"../../data/retention/newcomer_sample.csv\")\n",
    "df_reg = df_reg.merge(df_newcomer_sample, on = \"user_text\", how = \"inner\")"
   ]
  },
  {
   "cell_type": "code",
   "execution_count": 57,
   "metadata": {
    "collapsed": false
   },
   "outputs": [
    {
     "data": {
      "text/plain": [
       "(111290, 26)"
      ]
     },
     "execution_count": 57,
     "metadata": {},
     "output_type": "execute_result"
    }
   ],
   "source": [
    "df_reg.shape"
   ]
  },
  {
   "cell_type": "code",
   "execution_count": 58,
   "metadata": {
    "collapsed": false
   },
   "outputs": [
    {
     "data": {
      "text/plain": [
       "random      92469\n",
       "attacked    18821\n",
       "Name: sample, dtype: int64"
      ]
     },
     "execution_count": 58,
     "metadata": {},
     "output_type": "execute_result"
    }
   ],
   "source": [
    "df_reg['sample'].value_counts()"
   ]
  },
  {
   "cell_type": "code",
   "execution_count": 59,
   "metadata": {
    "collapsed": false
   },
   "outputs": [
    {
     "data": {
      "text/plain": [
       "0    108887\n",
       "1      2403\n",
       "Name: t1_harassment_received, dtype: int64"
      ]
     },
     "execution_count": 59,
     "metadata": {},
     "output_type": "execute_result"
    }
   ],
   "source": [
    "df_reg['t1_harassment_received'].value_counts()"
   ]
  },
  {
   "cell_type": "code",
   "execution_count": 60,
   "metadata": {
    "collapsed": false
   },
   "outputs": [
    {
     "data": {
      "text/plain": [
       "0    105896\n",
       "1      5394\n",
       "Name: has_gender, dtype: int64"
      ]
     },
     "execution_count": 60,
     "metadata": {},
     "output_type": "execute_result"
    }
   ],
   "source": [
    "df_reg['has_gender'].value_counts()"
   ]
  },
  {
   "cell_type": "code",
   "execution_count": 61,
   "metadata": {
    "collapsed": false
   },
   "outputs": [
    {
     "data": {
      "text/plain": [
       "1    111290\n",
       "Name: t1_active, dtype: int64"
      ]
     },
     "execution_count": 61,
     "metadata": {},
     "output_type": "execute_result"
    }
   ],
   "source": [
    "df_reg['t1_active'].value_counts()"
   ]
  },
  {
   "cell_type": "code",
   "execution_count": 62,
   "metadata": {
    "collapsed": false
   },
   "outputs": [],
   "source": [
    "df_reg = pd.concat(\n",
    "    [df_reg.query('t1_harassment_received == 1'), df_reg.query(\"sample == 'random'\").sample(50000, random_state = 12)]\n",
    ").drop_duplicates(subset = \"user_text\")"
   ]
  },
  {
   "cell_type": "code",
   "execution_count": 63,
   "metadata": {
    "collapsed": false
   },
   "outputs": [
    {
     "data": {
      "text/plain": [
       "random      50014\n",
       "attacked     2375\n",
       "Name: sample, dtype: int64"
      ]
     },
     "execution_count": 63,
     "metadata": {},
     "output_type": "execute_result"
    }
   ],
   "source": [
    "df_reg['sample'].value_counts()"
   ]
  },
  {
   "cell_type": "code",
   "execution_count": 64,
   "metadata": {
    "collapsed": false
   },
   "outputs": [
    {
     "data": {
      "text/plain": [
       "0    49986\n",
       "1     2403\n",
       "Name: t1_harassment_received, dtype: int64"
      ]
     },
     "execution_count": 64,
     "metadata": {},
     "output_type": "execute_result"
    }
   ],
   "source": [
    "df_reg['t1_harassment_received'].value_counts()"
   ]
  },
  {
   "cell_type": "code",
   "execution_count": 65,
   "metadata": {
    "collapsed": false
   },
   "outputs": [
    {
     "data": {
      "text/plain": [
       "(52389, 26)"
      ]
     },
     "execution_count": 65,
     "metadata": {},
     "output_type": "execute_result"
    }
   ],
   "source": [
    "df_reg.shape"
   ]
  },
  {
   "cell_type": "code",
   "execution_count": 66,
   "metadata": {
    "collapsed": false
   },
   "outputs": [],
   "source": [
    "column_map = {\n",
    "        't1_num_days_active': 'm1_days_active',\n",
    "        't2_num_days_active' : 'm2_days_active',\n",
    "        't1_harassment_received': 'm1_received_harassment',\n",
    "        't1_harassment_made': 'm1_made_harassment',\n",
    "        't1_fraction_ns0_deleted': 'm1_fraction_ns0_deleted',\n",
    "        't1_fraction_ns0_reverted': 'm1_fraction_ns0_reverted',\n",
    "        't1_num_warnings_recieved': 'm1_warnings',\n",
    "\n",
    "        }\n",
    "        \n",
    "df_reg = df_reg.rename(columns=column_map)"
   ]
  },
  {
   "cell_type": "code",
   "execution_count": 38,
   "metadata": {
    "collapsed": false
   },
   "outputs": [],
   "source": [
    "from io import StringIO\n",
    "import math\n",
    "import pandas as pd\n",
    "\n",
    "\n",
    "def reformat_ci(s):\n",
    "    ci = s.strip().split()\n",
    "    ci = (round(float(ci[0]), 1), round(float(ci[1]), 1))\n",
    "    return \"[%.1f, %.1f]\" % ci\n",
    "\n",
    "def regress(df, f, family = 'linear'):\n",
    "    if family == 'linear':\n",
    "        results = sm.ols(formula=f, data=df).fit()\n",
    "\n",
    "    elif family == 'logistic':\n",
    "        results = sm.logit(formula=f, data=df).fit(disp=0)\n",
    "    else:\n",
    "        return\n",
    "        \n",
    "    results = pd.read_csv(StringIO(results.summary().tables[1].as_csv()))\n",
    "    \n",
    "    if family == 'linear':\n",
    "        column_map = {\n",
    "            results.columns[0]: \"\",\n",
    "            '   coef   ' : 'coef',\n",
    "           'P>|t| ': \"p-val\",\n",
    "            '    t    ': \"z-stat\",\n",
    "           ' [95.0% Conf. Int.]': \"95% CI\"\n",
    "        }\n",
    "\n",
    "    elif family == 'logistic':\n",
    "        column_map = {\n",
    "            results.columns[0]: \"\",\n",
    "            '   coef   ' : 'coef',\n",
    "           'P>|z| ': \"p-val\",\n",
    "            '    z    ': \"z-stat\",\n",
    "           ' [95.0% Conf. Int.]': \"95% CI\"\n",
    "        }\n",
    "    else:\n",
    "        return\n",
    "        \n",
    "        \n",
    "    results = results.rename(columns=column_map)\n",
    "    results.index = results[\"\"]\n",
    "    del results[\"\"]\n",
    "    results = results[['coef', \"z-stat\", \"p-val\", \"95% CI\"]]\n",
    "    results['coef'] = results['coef'].apply(lambda x: round(float(x), 2))\n",
    "    results['z-stat'] = results['z-stat'].apply(lambda x: round(float(x), 1))\n",
    "    results['p-val'] = results['p-val'].apply(lambda x: round(float(x), 3))\n",
    "    results['95% CI'] = results['95% CI'].apply(reformat_ci)\n",
    "    header = \"\"\"\n",
    "\\\\begin{table}[h]\n",
    "\\\\begin{center}\n",
    "    \"\"\"\n",
    "    footer = \"\"\"\n",
    "\\\\end{center}\n",
    "\\\\caption{%s}\n",
    "\\\\label{tab:}\n",
    "\\\\end{table}\n",
    "    \"\"\"\n",
    "    f = f.replace(\"_\", \"\\_\").replace(\"~\", \"\\\\texttildelow\\\\\")\n",
    "    latex = header + results.to_latex() + footer % f\n",
    "    print(latex)\n",
    "    return results\n",
    "        \n",
    "    \n",
    "    "
   ]
  },
  {
   "cell_type": "markdown",
   "metadata": {},
   "source": [
    "#### Linear Regression: Is harassment correlated with reduction in activity from t1 to t2?\n",
    "\n",
    "Instead of running a logistic regression using an indicator for activity in t2 as our dependent variable, we will run a linear regression using the the number of days active in t2 as our dependent variable."
   ]
  },
  {
   "cell_type": "code",
   "execution_count": 27,
   "metadata": {
    "collapsed": false
   },
   "outputs": [
    {
     "name": "stdout",
     "output_type": "stream",
     "text": [
      "\n",
      "\\begin{table}[h]\n",
      "\\begin{center}\n",
      "    \\begin{tabular}{lrrrl}\n",
      "\\toprule\n",
      "{} &  coef &  z-stat &  p-val &      95\\% CI \\\\\n",
      "\\midrule\n",
      "                       &       &         &        &             \\\\\n",
      "Intercept              &  0.18 &    23.9 &    0.0 &  [0.2, 0.2] \\\\\n",
      "m1\\_received\\_harassment &  1.86 &    53.2 &    0.0 &  [1.8, 1.9] \\\\\n",
      "\\bottomrule\n",
      "\\end{tabular}\n",
      "\n",
      "\\end{center}\n",
      "\\caption{m2\\_days\\_active \\texttildelow\\ m1\\_received\\_harassment}\n",
      "\\label{}\n",
      "\\end{table}\n",
      "    \n"
     ]
    },
    {
     "data": {
      "text/html": [
       "<div>\n",
       "<table border=\"1\" class=\"dataframe\">\n",
       "  <thead>\n",
       "    <tr style=\"text-align: right;\">\n",
       "      <th></th>\n",
       "      <th>coef</th>\n",
       "      <th>z-stat</th>\n",
       "      <th>p-val</th>\n",
       "      <th>95% CI</th>\n",
       "    </tr>\n",
       "    <tr>\n",
       "      <th></th>\n",
       "      <th></th>\n",
       "      <th></th>\n",
       "      <th></th>\n",
       "      <th></th>\n",
       "    </tr>\n",
       "  </thead>\n",
       "  <tbody>\n",
       "    <tr>\n",
       "      <th>Intercept</th>\n",
       "      <td>0.18</td>\n",
       "      <td>23.9</td>\n",
       "      <td>0.0</td>\n",
       "      <td>[0.2, 0.2]</td>\n",
       "    </tr>\n",
       "    <tr>\n",
       "      <th>m1_received_harassment</th>\n",
       "      <td>1.86</td>\n",
       "      <td>53.2</td>\n",
       "      <td>0.0</td>\n",
       "      <td>[1.8, 1.9]</td>\n",
       "    </tr>\n",
       "  </tbody>\n",
       "</table>\n",
       "</div>"
      ],
      "text/plain": [
       "                        coef  z-stat  p-val      95% CI\n",
       "                                                       \n",
       "Intercept               0.18    23.9    0.0  [0.2, 0.2]\n",
       "m1_received_harassment  1.86    53.2    0.0  [1.8, 1.9]"
      ]
     },
     "execution_count": 27,
     "metadata": {},
     "output_type": "execute_result"
    }
   ],
   "source": [
    "f =\"m2_days_active ~ m1_received_harassment\"\n",
    "regress(df_reg, f)"
   ]
  },
  {
   "cell_type": "markdown",
   "metadata": {},
   "source": [
    "We see a similar results as above. Without controlling for activity in t1, users who receive harassment have, on average, more active days in t2."
   ]
  },
  {
   "cell_type": "code",
   "execution_count": 28,
   "metadata": {
    "collapsed": false
   },
   "outputs": [
    {
     "name": "stdout",
     "output_type": "stream",
     "text": [
      "\n",
      "\\begin{table}[h]\n",
      "\\begin{center}\n",
      "    \\begin{tabular}{lrrrl}\n",
      "\\toprule\n",
      "{} &  coef &  z-stat &  p-val &        95\\% CI \\\\\n",
      "\\midrule\n",
      "                       &       &         &        &               \\\\\n",
      "Intercept              & -0.57 &   -81.4 &    0.0 &  [-0.6, -0.6] \\\\\n",
      "m1\\_days\\_active         &  0.49 &   191.0 &    0.0 &    [0.5, 0.5] \\\\\n",
      "m1\\_received\\_harassment & -0.47 &   -16.1 &    0.0 &  [-0.5, -0.4] \\\\\n",
      "\\bottomrule\n",
      "\\end{tabular}\n",
      "\n",
      "\\end{center}\n",
      "\\caption{m2\\_days\\_active \\texttildelow\\ m1\\_days\\_active + m1\\_received\\_harassment}\n",
      "\\label{}\n",
      "\\end{table}\n",
      "    \n"
     ]
    },
    {
     "data": {
      "text/html": [
       "<div>\n",
       "<table border=\"1\" class=\"dataframe\">\n",
       "  <thead>\n",
       "    <tr style=\"text-align: right;\">\n",
       "      <th></th>\n",
       "      <th>coef</th>\n",
       "      <th>z-stat</th>\n",
       "      <th>p-val</th>\n",
       "      <th>95% CI</th>\n",
       "    </tr>\n",
       "    <tr>\n",
       "      <th></th>\n",
       "      <th></th>\n",
       "      <th></th>\n",
       "      <th></th>\n",
       "      <th></th>\n",
       "    </tr>\n",
       "  </thead>\n",
       "  <tbody>\n",
       "    <tr>\n",
       "      <th>Intercept</th>\n",
       "      <td>-0.57</td>\n",
       "      <td>-81.4</td>\n",
       "      <td>0.0</td>\n",
       "      <td>[-0.6, -0.6]</td>\n",
       "    </tr>\n",
       "    <tr>\n",
       "      <th>m1_days_active</th>\n",
       "      <td>0.49</td>\n",
       "      <td>191.0</td>\n",
       "      <td>0.0</td>\n",
       "      <td>[0.5, 0.5]</td>\n",
       "    </tr>\n",
       "    <tr>\n",
       "      <th>m1_received_harassment</th>\n",
       "      <td>-0.47</td>\n",
       "      <td>-16.1</td>\n",
       "      <td>0.0</td>\n",
       "      <td>[-0.5, -0.4]</td>\n",
       "    </tr>\n",
       "  </tbody>\n",
       "</table>\n",
       "</div>"
      ],
      "text/plain": [
       "                        coef  z-stat  p-val        95% CI\n",
       "                                                         \n",
       "Intercept              -0.57   -81.4    0.0  [-0.6, -0.6]\n",
       "m1_days_active          0.49   191.0    0.0    [0.5, 0.5]\n",
       "m1_received_harassment -0.47   -16.1    0.0  [-0.5, -0.4]"
      ]
     },
     "execution_count": 28,
     "metadata": {},
     "output_type": "execute_result"
    }
   ],
   "source": [
    "f= \"m2_days_active ~ m1_days_active + m1_received_harassment\"\n",
    "regress(df_reg, f)"
   ]
  },
  {
   "cell_type": "markdown",
   "metadata": {},
   "source": [
    "However, when we control for the number of days a user is active in t1, we see that users who receive harassment have fewer active days in t2. The coefficient is significantly less than 0. Instead of using an indicator for whether the user received harassment, lets use the count of various types of harassment received (i.e personal attacks, aggression, toxicity)"
   ]
  },
  {
   "cell_type": "markdown",
   "metadata": {},
   "source": [
    "#### How do gender, harassment and activity interact?\n",
    "\n",
    "Gender in Wikipedia is not well defined. After registering, users have the ability to report their gender in their user preferences. The vast majority of users do not report their gender. This may be because reporting their gender is not important to them, they don't want to report a gender, or they simply are unaware of the feature. There is anecdotal evidence that users often report an incorrect gender. Overall, this means that we should expect users who report their gender to be different than the rest and we cannot be sure if reported genders are correct. Another caveat for the following analysis is that we do not know when the user reported their gender; they may have changed their user preference after our 2 month interval of interest.\n",
    "\n",
    "\n"
   ]
  },
  {
   "cell_type": "markdown",
   "metadata": {},
   "source": [
    "Users who supply a gender are more likely to receive harassment! Lets see if this is different for males and females:"
   ]
  },
  {
   "cell_type": "code",
   "execution_count": 30,
   "metadata": {
    "collapsed": false
   },
   "outputs": [
    {
     "name": "stdout",
     "output_type": "stream",
     "text": [
      "\n",
      "\\begin{table}[h]\n",
      "\\begin{center}\n",
      "    \\begin{tabular}{lrrrl}\n",
      "\\toprule\n",
      "{} &  coef &  z-stat &  p-val &        95\\% CI \\\\\n",
      "\\midrule\n",
      "          &       &         &        &               \\\\\n",
      "Intercept & -1.90 &   -22.7 &  0.000 &  [-2.1, -1.7] \\\\\n",
      "is\\_female &  0.51 &     2.9 &  0.004 &    [0.2, 0.9] \\\\\n",
      "\\bottomrule\n",
      "\\end{tabular}\n",
      "\n",
      "\\end{center}\n",
      "\\caption{m1\\_received\\_harassment \\texttildelow\\ is\\_female}\n",
      "\\label{}\n",
      "\\end{table}\n",
      "    \n"
     ]
    },
    {
     "data": {
      "text/html": [
       "<div>\n",
       "<table border=\"1\" class=\"dataframe\">\n",
       "  <thead>\n",
       "    <tr style=\"text-align: right;\">\n",
       "      <th></th>\n",
       "      <th>coef</th>\n",
       "      <th>z-stat</th>\n",
       "      <th>p-val</th>\n",
       "      <th>95% CI</th>\n",
       "    </tr>\n",
       "    <tr>\n",
       "      <th></th>\n",
       "      <th></th>\n",
       "      <th></th>\n",
       "      <th></th>\n",
       "      <th></th>\n",
       "    </tr>\n",
       "  </thead>\n",
       "  <tbody>\n",
       "    <tr>\n",
       "      <th>Intercept</th>\n",
       "      <td>-1.90</td>\n",
       "      <td>-22.7</td>\n",
       "      <td>0.000</td>\n",
       "      <td>[-2.1, -1.7]</td>\n",
       "    </tr>\n",
       "    <tr>\n",
       "      <th>is_female</th>\n",
       "      <td>0.51</td>\n",
       "      <td>2.9</td>\n",
       "      <td>0.004</td>\n",
       "      <td>[0.2, 0.9]</td>\n",
       "    </tr>\n",
       "  </tbody>\n",
       "</table>\n",
       "</div>"
      ],
      "text/plain": [
       "           coef  z-stat  p-val        95% CI\n",
       "                                            \n",
       "Intercept -1.90   -22.7  0.000  [-2.1, -1.7]\n",
       "is_female  0.51     2.9  0.004    [0.2, 0.9]"
      ]
     },
     "execution_count": 30,
     "metadata": {},
     "output_type": "execute_result"
    }
   ],
   "source": [
    "f=\"m1_received_harassment ~ is_female\"\n",
    "regress(df_reg.query(\"has_gender == 1\"), f, family = 'logistic')"
   ]
  },
  {
   "cell_type": "markdown",
   "metadata": {},
   "source": [
    "Females have an increased probability of receiving harassment in t1."
   ]
  },
  {
   "cell_type": "code",
   "execution_count": 37,
   "metadata": {
    "collapsed": false
   },
   "outputs": [
    {
     "name": "stdout",
     "output_type": "stream",
     "text": [
      "\n",
      "\\begin{table}[h]\n",
      "\\begin{center}\n",
      "    \\begin{tabular}{lrrrl}\n",
      "\\toprule\n",
      "{} &  coef &  z-stat &  p-val &        95\\% CI \\\\\n",
      "\\midrule\n",
      "               &       &         &        &               \\\\\n",
      "Intercept      & -0.87 &    -8.9 &  0.000 &  [-1.1, -0.7] \\\\\n",
      "m1\\_days\\_active &  0.65 &    45.9 &  0.000 &    [0.6, 0.7] \\\\\n",
      "is\\_female      & -0.08 &    -0.4 &  0.714 &   [-0.5, 0.3] \\\\\n",
      "\\bottomrule\n",
      "\\end{tabular}\n",
      "\n",
      "\\end{center}\n",
      "\\caption{m2\\_days\\_active \\texttildelow\\ m1\\_days\\_active + is\\_female}\n",
      "\\label{}\n",
      "\\end{table}\n",
      "    \n"
     ]
    },
    {
     "data": {
      "text/html": [
       "<div>\n",
       "<table border=\"1\" class=\"dataframe\">\n",
       "  <thead>\n",
       "    <tr style=\"text-align: right;\">\n",
       "      <th></th>\n",
       "      <th>coef</th>\n",
       "      <th>z-stat</th>\n",
       "      <th>p-val</th>\n",
       "      <th>95% CI</th>\n",
       "    </tr>\n",
       "    <tr>\n",
       "      <th></th>\n",
       "      <th></th>\n",
       "      <th></th>\n",
       "      <th></th>\n",
       "      <th></th>\n",
       "    </tr>\n",
       "  </thead>\n",
       "  <tbody>\n",
       "    <tr>\n",
       "      <th>Intercept</th>\n",
       "      <td>-0.87</td>\n",
       "      <td>-8.9</td>\n",
       "      <td>0.000</td>\n",
       "      <td>[-1.1, -0.7]</td>\n",
       "    </tr>\n",
       "    <tr>\n",
       "      <th>m1_days_active</th>\n",
       "      <td>0.65</td>\n",
       "      <td>45.9</td>\n",
       "      <td>0.000</td>\n",
       "      <td>[0.6, 0.7]</td>\n",
       "    </tr>\n",
       "    <tr>\n",
       "      <th>is_female</th>\n",
       "      <td>-0.08</td>\n",
       "      <td>-0.4</td>\n",
       "      <td>0.714</td>\n",
       "      <td>[-0.5, 0.3]</td>\n",
       "    </tr>\n",
       "  </tbody>\n",
       "</table>\n",
       "</div>"
      ],
      "text/plain": [
       "                coef  z-stat  p-val        95% CI\n",
       "                                                 \n",
       "Intercept      -0.87    -8.9  0.000  [-1.1, -0.7]\n",
       "m1_days_active  0.65    45.9  0.000    [0.6, 0.7]\n",
       "is_female      -0.08    -0.4  0.714   [-0.5, 0.3]"
      ]
     },
     "execution_count": 37,
     "metadata": {},
     "output_type": "execute_result"
    }
   ],
   "source": [
    "f=\"m2_days_active ~ m1_days_active + is_female\"\n",
    "regress(df_reg.query(\"has_gender == 1\"), f)"
   ]
  },
  {
   "cell_type": "markdown",
   "metadata": {},
   "source": [
    "Females appear to have decreased activity in t2 even after controlling for activity in t1 compared to males."
   ]
  },
  {
   "cell_type": "code",
   "execution_count": 46,
   "metadata": {
    "collapsed": false
   },
   "outputs": [
    {
     "name": "stdout",
     "output_type": "stream",
     "text": [
      "\n",
      "\\begin{table}[h]\n",
      "\\begin{center}\n",
      "    \\begin{tabular}{lrrrl}\n",
      "\\toprule\n",
      "{} &  coef &  z-stat &  p-val &        95\\% CI \\\\\n",
      "\\midrule\n",
      "                                 &       &         &        &               \\\\\n",
      "Intercept                        & -0.86 &    -9.5 &  0.000 &  [-1.0, -0.7] \\\\\n",
      "m1\\_days\\_active                   &  0.72 &    41.5 &  0.000 &    [0.7, 0.7] \\\\\n",
      "m1\\_received\\_harassment           & -1.65 &    -5.7 &  0.000 &  [-2.2, -1.1] \\\\\n",
      "m1\\_received\\_harassment:is\\_female & -0.09 &    -0.2 &  0.854 &   [-1.0, 0.8] \\\\\n",
      "\\bottomrule\n",
      "\\end{tabular}\n",
      "\n",
      "\\end{center}\n",
      "\\caption{m2\\_days\\_active \\texttildelow\\ m1\\_days\\_active + m1\\_received\\_harassment + m1\\_received\\_harassment : is\\_female}\n",
      "\\label{tab:}\n",
      "\\end{table}\n",
      "    \n"
     ]
    },
    {
     "data": {
      "text/html": [
       "<div>\n",
       "<table border=\"1\" class=\"dataframe\">\n",
       "  <thead>\n",
       "    <tr style=\"text-align: right;\">\n",
       "      <th></th>\n",
       "      <th>coef</th>\n",
       "      <th>z-stat</th>\n",
       "      <th>p-val</th>\n",
       "      <th>95% CI</th>\n",
       "    </tr>\n",
       "    <tr>\n",
       "      <th></th>\n",
       "      <th></th>\n",
       "      <th></th>\n",
       "      <th></th>\n",
       "      <th></th>\n",
       "    </tr>\n",
       "  </thead>\n",
       "  <tbody>\n",
       "    <tr>\n",
       "      <th>Intercept</th>\n",
       "      <td>-0.86</td>\n",
       "      <td>-9.5</td>\n",
       "      <td>0.000</td>\n",
       "      <td>[-1.0, -0.7]</td>\n",
       "    </tr>\n",
       "    <tr>\n",
       "      <th>m1_days_active</th>\n",
       "      <td>0.72</td>\n",
       "      <td>41.5</td>\n",
       "      <td>0.000</td>\n",
       "      <td>[0.7, 0.7]</td>\n",
       "    </tr>\n",
       "    <tr>\n",
       "      <th>m1_received_harassment</th>\n",
       "      <td>-1.65</td>\n",
       "      <td>-5.7</td>\n",
       "      <td>0.000</td>\n",
       "      <td>[-2.2, -1.1]</td>\n",
       "    </tr>\n",
       "    <tr>\n",
       "      <th>m1_received_harassment:is_female</th>\n",
       "      <td>-0.09</td>\n",
       "      <td>-0.2</td>\n",
       "      <td>0.854</td>\n",
       "      <td>[-1.0, 0.8]</td>\n",
       "    </tr>\n",
       "  </tbody>\n",
       "</table>\n",
       "</div>"
      ],
      "text/plain": [
       "                                  coef  z-stat  p-val        95% CI\n",
       "                                                                   \n",
       "Intercept                        -0.86    -9.5  0.000  [-1.0, -0.7]\n",
       "m1_days_active                    0.72    41.5  0.000    [0.7, 0.7]\n",
       "m1_received_harassment           -1.65    -5.7  0.000  [-2.2, -1.1]\n",
       "m1_received_harassment:is_female -0.09    -0.2  0.854   [-1.0, 0.8]"
      ]
     },
     "execution_count": 46,
     "metadata": {},
     "output_type": "execute_result"
    }
   ],
   "source": [
    "f=\"m2_days_active ~ m1_days_active + m1_received_harassment + m1_received_harassment : is_female\"\n",
    "regress(df_reg.query(\"has_gender == 1\"), f)"
   ]
  },
  {
   "cell_type": "markdown",
   "metadata": {},
   "source": [
    "It seems like users who supply a gender and receive harassment have even more strongly reduced activity in t2 compared to users who do not supply a gender and get harassed."
   ]
  },
  {
   "cell_type": "markdown",
   "metadata": {},
   "source": [
    "When restricting to users with a gender, we see that users with `t1_harassment_received` have reduced activity in t2, but the impact is not significantly different for males and females."
   ]
  },
  {
   "cell_type": "markdown",
   "metadata": {},
   "source": [
    "#### Addressing the bad newcomer confound\n",
    "\n",
    "A serious potential confound in our analyses could be that the users who receive harassment are just bad faith newcomers or sock-puppets. They get attacked for their misbehavior and reduce their activity in t2 because they get blocked or because they never intended to stick around past their own attacks. To reduce this confound, we control for whether the user harassed anyone in t1 and for whether they received an user warning of any type:"
   ]
  },
  {
   "cell_type": "code",
   "execution_count": 41,
   "metadata": {
    "collapsed": false
   },
   "outputs": [
    {
     "name": "stdout",
     "output_type": "stream",
     "text": [
      "\n",
      "\\begin{table}[h]\n",
      "\\begin{center}\n",
      "    \\begin{tabular}{lrrrl}\n",
      "\\toprule\n",
      "{} &  coef &  z-stat &  p-val &        95\\% CI \\\\\n",
      "\\midrule\n",
      "                                          &       &         &        &               \\\\\n",
      "Intercept                                 & -0.57 &   -81.2 &  0.000 &  [-0.6, -0.6] \\\\\n",
      "m1\\_days\\_active                            &  0.49 &   188.3 &  0.000 &    [0.5, 0.5] \\\\\n",
      "m1\\_received\\_harassment                    & -0.39 &   -11.8 &  0.000 &  [-0.5, -0.3] \\\\\n",
      "m1\\_received\\_harassment:m1\\_made\\_harassment & -0.10 &    -1.7 &  0.085 &   [-0.2, 0.0] \\\\\n",
      "m1\\_received\\_harassment:m1\\_warnings        & -0.15 &    -7.9 &  0.000 &  [-0.2, -0.1] \\\\\n",
      "\\bottomrule\n",
      "\\end{tabular}\n",
      "\n",
      "\\end{center}\n",
      "\\caption{m2\\_days\\_active \\texttildelow\\ m1\\_days\\_active + m1\\_received\\_harassment +  m1\\_received\\_harassment : m1\\_made\\_harassment + m1\\_received\\_harassment : m1\\_warnings}\n",
      "\\label{tab:}\n",
      "\\end{table}\n",
      "    \n"
     ]
    },
    {
     "data": {
      "text/html": [
       "<div>\n",
       "<table border=\"1\" class=\"dataframe\">\n",
       "  <thead>\n",
       "    <tr style=\"text-align: right;\">\n",
       "      <th></th>\n",
       "      <th>coef</th>\n",
       "      <th>z-stat</th>\n",
       "      <th>p-val</th>\n",
       "      <th>95% CI</th>\n",
       "    </tr>\n",
       "    <tr>\n",
       "      <th></th>\n",
       "      <th></th>\n",
       "      <th></th>\n",
       "      <th></th>\n",
       "      <th></th>\n",
       "    </tr>\n",
       "  </thead>\n",
       "  <tbody>\n",
       "    <tr>\n",
       "      <th>Intercept</th>\n",
       "      <td>-0.57</td>\n",
       "      <td>-81.2</td>\n",
       "      <td>0.000</td>\n",
       "      <td>[-0.6, -0.6]</td>\n",
       "    </tr>\n",
       "    <tr>\n",
       "      <th>m1_days_active</th>\n",
       "      <td>0.49</td>\n",
       "      <td>188.3</td>\n",
       "      <td>0.000</td>\n",
       "      <td>[0.5, 0.5]</td>\n",
       "    </tr>\n",
       "    <tr>\n",
       "      <th>m1_received_harassment</th>\n",
       "      <td>-0.39</td>\n",
       "      <td>-11.8</td>\n",
       "      <td>0.000</td>\n",
       "      <td>[-0.5, -0.3]</td>\n",
       "    </tr>\n",
       "    <tr>\n",
       "      <th>m1_received_harassment:m1_made_harassment</th>\n",
       "      <td>-0.10</td>\n",
       "      <td>-1.7</td>\n",
       "      <td>0.085</td>\n",
       "      <td>[-0.2, 0.0]</td>\n",
       "    </tr>\n",
       "    <tr>\n",
       "      <th>m1_received_harassment:m1_warnings</th>\n",
       "      <td>-0.15</td>\n",
       "      <td>-7.9</td>\n",
       "      <td>0.000</td>\n",
       "      <td>[-0.2, -0.1]</td>\n",
       "    </tr>\n",
       "  </tbody>\n",
       "</table>\n",
       "</div>"
      ],
      "text/plain": [
       "                                           coef  z-stat  p-val        95% CI\n",
       "                                                                            \n",
       "Intercept                                 -0.57   -81.2  0.000  [-0.6, -0.6]\n",
       "m1_days_active                             0.49   188.3  0.000    [0.5, 0.5]\n",
       "m1_received_harassment                    -0.39   -11.8  0.000  [-0.5, -0.3]\n",
       "m1_received_harassment:m1_made_harassment -0.10    -1.7  0.085   [-0.2, 0.0]\n",
       "m1_received_harassment:m1_warnings        -0.15    -7.9  0.000  [-0.2, -0.1]"
      ]
     },
     "execution_count": 41,
     "metadata": {},
     "output_type": "execute_result"
    }
   ],
   "source": [
    "f=\"m2_days_active ~ m1_days_active + m1_received_harassment +  m1_received_harassment : m1_made_harassment + m1_received_harassment : m1_warnings\"\n",
    "regress(df_reg, f)"
   ]
  },
  {
   "cell_type": "markdown",
   "metadata": {},
   "source": [
    "Even users who receive harassment but did not harass anyone or receive a user warning show reduced activity in t2."
   ]
  },
  {
   "cell_type": "markdown",
   "metadata": {},
   "source": [
    "#### Harassment vs Previously identified newcomer socialization issues\n",
    "\n",
    "[Halfak et al](https://www-users.cs.umn.edu/~halfak/publications/The_Rise_and_Decline/halfaker13rise-preprint.pdf) examine how user warnings and deletions and reverts correlate with newcomer retention. Here we add those features and see how they compare to measure of harassment."
   ]
  },
  {
   "cell_type": "code",
   "execution_count": 67,
   "metadata": {
    "collapsed": false
   },
   "outputs": [
    {
     "name": "stdout",
     "output_type": "stream",
     "text": [
      "\n",
      "\\begin{table}[h]\n",
      "\\begin{center}\n",
      "    \\begin{tabular}{lrrrl}\n",
      "\\toprule\n",
      "{} &  coef &  z-stat &  p-val &        95\\% CI \\\\\n",
      "\\midrule\n",
      "                         &       &         &        &               \\\\\n",
      "Intercept                & -0.60 &   -49.8 &  0.000 &  [-0.6, -0.6] \\\\\n",
      "m1\\_days\\_active           &  0.51 &   158.9 &  0.000 &    [0.5, 0.5] \\\\\n",
      "m1\\_received\\_harassment   & -0.53 &   -13.0 &  0.000 &  [-0.6, -0.5] \\\\\n",
      "m1\\_warnings              & -0.12 &    -7.7 &  0.000 &  [-0.2, -0.1] \\\\\n",
      "m1\\_fraction\\_ns0\\_deleted  & -0.05 &    -1.1 &  0.272 &   [-0.1, 0.0] \\\\\n",
      "m1\\_fraction\\_ns0\\_reverted & -0.00 &    -0.2 &  0.857 &   [-0.0, 0.0] \\\\\n",
      "\\bottomrule\n",
      "\\end{tabular}\n",
      "\n",
      "\\end{center}\n",
      "\\caption{m2\\_days\\_active \\texttildelow\\ m1\\_days\\_active + m1\\_received\\_harassment + m1\\_warnings +  m1\\_fraction\\_ns0\\_deleted + m1\\_fraction\\_ns0\\_reverted }\n",
      "\\label{tab:}\n",
      "\\end{table}\n",
      "    \n"
     ]
    },
    {
     "data": {
      "text/html": [
       "<div>\n",
       "<table border=\"1\" class=\"dataframe\">\n",
       "  <thead>\n",
       "    <tr style=\"text-align: right;\">\n",
       "      <th></th>\n",
       "      <th>coef</th>\n",
       "      <th>z-stat</th>\n",
       "      <th>p-val</th>\n",
       "      <th>95% CI</th>\n",
       "    </tr>\n",
       "    <tr>\n",
       "      <th></th>\n",
       "      <th></th>\n",
       "      <th></th>\n",
       "      <th></th>\n",
       "      <th></th>\n",
       "    </tr>\n",
       "  </thead>\n",
       "  <tbody>\n",
       "    <tr>\n",
       "      <th>Intercept</th>\n",
       "      <td>-0.60</td>\n",
       "      <td>-49.8</td>\n",
       "      <td>0.000</td>\n",
       "      <td>[-0.6, -0.6]</td>\n",
       "    </tr>\n",
       "    <tr>\n",
       "      <th>m1_days_active</th>\n",
       "      <td>0.51</td>\n",
       "      <td>158.9</td>\n",
       "      <td>0.000</td>\n",
       "      <td>[0.5, 0.5]</td>\n",
       "    </tr>\n",
       "    <tr>\n",
       "      <th>m1_received_harassment</th>\n",
       "      <td>-0.53</td>\n",
       "      <td>-13.0</td>\n",
       "      <td>0.000</td>\n",
       "      <td>[-0.6, -0.5]</td>\n",
       "    </tr>\n",
       "    <tr>\n",
       "      <th>m1_warnings</th>\n",
       "      <td>-0.12</td>\n",
       "      <td>-7.7</td>\n",
       "      <td>0.000</td>\n",
       "      <td>[-0.2, -0.1]</td>\n",
       "    </tr>\n",
       "    <tr>\n",
       "      <th>m1_fraction_ns0_deleted</th>\n",
       "      <td>-0.05</td>\n",
       "      <td>-1.1</td>\n",
       "      <td>0.272</td>\n",
       "      <td>[-0.1, 0.0]</td>\n",
       "    </tr>\n",
       "    <tr>\n",
       "      <th>m1_fraction_ns0_reverted</th>\n",
       "      <td>-0.00</td>\n",
       "      <td>-0.2</td>\n",
       "      <td>0.857</td>\n",
       "      <td>[-0.0, 0.0]</td>\n",
       "    </tr>\n",
       "  </tbody>\n",
       "</table>\n",
       "</div>"
      ],
      "text/plain": [
       "                          coef  z-stat  p-val        95% CI\n",
       "                                                           \n",
       "Intercept                -0.60   -49.8  0.000  [-0.6, -0.6]\n",
       "m1_days_active            0.51   158.9  0.000    [0.5, 0.5]\n",
       "m1_received_harassment   -0.53   -13.0  0.000  [-0.6, -0.5]\n",
       "m1_warnings              -0.12    -7.7  0.000  [-0.2, -0.1]\n",
       "m1_fraction_ns0_deleted  -0.05    -1.1  0.272   [-0.1, 0.0]\n",
       "m1_fraction_ns0_reverted -0.00    -0.2  0.857   [-0.0, 0.0]"
      ]
     },
     "execution_count": 67,
     "metadata": {},
     "output_type": "execute_result"
    }
   ],
   "source": [
    "f = \"m2_days_active ~ m1_days_active + m1_received_harassment + m1_warnings +  m1_fraction_ns0_deleted + m1_fraction_ns0_reverted \"\n",
    "regress(df_reg.query(\"t1_num_ns0_edits > 0\"), f)"
   ]
  },
  {
   "cell_type": "markdown",
   "metadata": {},
   "source": [
    "WIP: Receiving harassment is worse for a newcomer than receiving 11 warning messages or having all their first months work deleted or reverted."
   ]
  },
  {
   "cell_type": "markdown",
   "metadata": {},
   "source": [
    "### Investigate some newcomer experiences\n",
    "\n",
    "Our regression analyses have established that newcomer who receive harassment show a greater subsequent decline in activity than normal. Let's look at a few example of newcomers, what edits they made and how other interacted with them."
   ]
  },
  {
   "cell_type": "code",
   "execution_count": 7,
   "metadata": {
    "collapsed": false
   },
   "outputs": [],
   "source": [
    "cols = ['user_text', 'registration_day', 't1_harassment_received', 't1_harassment_made', 't1_num_days_active', 't2_num_days_active']\n",
    "df_uxr = df_reg[cols]"
   ]
  },
  {
   "cell_type": "code",
   "execution_count": null,
   "metadata": {
    "collapsed": true
   },
   "outputs": [],
   "source": [
    "def find_attacks_made(u):\n",
    "    \n",
    "\n",
    "def find_attacks_received():"
   ]
  }
 ],
 "metadata": {
  "anaconda-cloud": {},
  "kernelspec": {
   "display_name": "Python [default]",
   "language": "python",
   "name": "python3"
  },
  "language_info": {
   "codemirror_mode": {
    "name": "ipython",
    "version": 3
   },
   "file_extension": ".py",
   "mimetype": "text/x-python",
   "name": "python",
   "nbconvert_exporter": "python",
   "pygments_lexer": "ipython3",
   "version": "3.5.1"
  }
 },
 "nbformat": 4,
 "nbformat_minor": 0
}
