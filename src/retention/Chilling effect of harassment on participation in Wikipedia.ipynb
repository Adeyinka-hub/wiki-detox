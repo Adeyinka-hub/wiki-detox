{
 "cells": [
  {
   "cell_type": "markdown",
   "metadata": {},
   "source": [
    "# Does harassment have a chilling effect on participation in Wikipedia?"
   ]
  },
  {
   "cell_type": "markdown",
   "metadata": {},
   "source": [
    "## Study Plan"
   ]
  },
  {
   "cell_type": "markdown",
   "metadata": {},
   "source": [
    "#### Establish correlation\n",
    "\n",
    "Short term effects:\n",
    "\n",
    "1. Take pairs of consecutive months. Regress 1{participation in month t2 is lower than in t1} on 1{ user experienced at least one attack in month t1}. Consider only taking one sample per user. Interpret coefficient.\n",
    "\n",
    "2. Regress count(edits in t2) on count(edits t1), count(attacks in t1). Consider only taking one sample per user. Interprest coefficient. Consider poisson regression.\n",
    "\n",
    "3. Add interaction terms: gender, topics, newness. Interpret interaction coefficients.\n",
    "\n",
    "4. Limit data to new users, who made no personal attacks before they were attacked\n",
    "\n",
    "5. Compare short term effects between new and experienced users\n",
    "\n",
    "6. compare effect across namespaces. Could be that you see increased particiapation in talk and decrease in main\n",
    "\n",
    "7. See if just participating in toxic discussion pages /articles makes you more likely to leave,  even if you don't recieve attacks on your talk page. As measures, consider edits to controversial topics/articles\n",
    "https://en.wikipedia.org/wiki/Wikipedia:List_of_controversial_issues\n",
    "https://en.wikipedia.org/wiki/Category:Wikipedia_controversial_topics\n",
    "or ranking pages by proportion and volume of toxic comments\n",
    "\n",
    "\n",
    "\n",
    "\n",
    "Long term effects (WIP)\n",
    "\n",
    "1. LSTM on count(edits in month t), count(attacks month t), count(attack in t1-t0). Start at month the user registered. Train on balance of users who have and who have not experienced harassment. Compare accuraccy on hold out of users broken down by whether they set have been attacked at least once, with and without attack features.  \n",
    "\n",
    "\n",
    "2. LSTM on inter-edit time interval. To measure impact: add random attacks to non-attacked users and see if inter edit time predictions increase?"
   ]
  },
  {
   "cell_type": "markdown",
   "metadata": {},
   "source": [
    "#### Establish causation (WIP)"
   ]
  },
  {
   "cell_type": "markdown",
   "metadata": {
    "collapsed": true
   },
   "source": [
    "## Code"
   ]
  },
  {
   "cell_type": "code",
   "execution_count": 1,
   "metadata": {
    "collapsed": true
   },
   "outputs": [],
   "source": [
    "% matplotlib inline\n",
    "import pandas as pd\n",
    "from dateutil.relativedelta import relativedelta\n",
    "import statsmodels.formula.api as sm"
   ]
  },
  {
   "cell_type": "markdown",
   "metadata": {},
   "source": [
    "### Load Data"
   ]
  },
  {
   "cell_type": "code",
   "execution_count": 2,
   "metadata": {
    "collapsed": false
   },
   "outputs": [],
   "source": [
    "# load scord diffs for 2015\n",
    "df_annotated = pd.read_csv(\"../../data/figshare/model_annotated_comments_2015.tsv\", \"\\t\")\n",
    "del df_annotated['comment']\n",
    "del df_annotated['raw_comment']\n",
    "df_annotated['timestamp'] = pd.to_datetime(df_annotated['timestamp'])"
   ]
  },
  {
   "cell_type": "code",
   "execution_count": 3,
   "metadata": {
    "collapsed": true
   },
   "outputs": [],
   "source": [
    "# load edits per day for 2015\n",
    "df_edits = pd.read_csv(\"../../data/retention/daily_edit_counts.tsv\", \"\\t\")\n",
    "df_edits['timestamp'] = pd.to_datetime(df_edits['day'].apply(lambda x: str(x)))"
   ]
  },
  {
   "cell_type": "code",
   "execution_count": 4,
   "metadata": {
    "collapsed": true
   },
   "outputs": [],
   "source": [
    "# registration times of editors who made and edit in 2015\n",
    "df_registration = pd.read_csv(\"../../data/retention/user_registration.tsv\", \"\\t\")\n",
    "df_registration = df_registration.query(\"user_registration != 'null'\")\n",
    "ts = df_registration['user_registration'].apply(lambda x: str(x)[:8])\n",
    "df_registration['user_registration'] = pd.to_datetime(ts, format = '%Y%m%d')"
   ]
  },
  {
   "cell_type": "code",
   "execution_count": 5,
   "metadata": {
    "collapsed": true
   },
   "outputs": [],
   "source": [
    "# genders\n",
    "df_gender = pd.read_csv(\"../../data/genders.tsv\", \"\\t\")"
   ]
  },
  {
   "cell_type": "code",
   "execution_count": 6,
   "metadata": {
    "collapsed": false
   },
   "outputs": [],
   "source": [
    "# create df of consolidated user level features\n",
    "df_user = df_edits.drop_duplicates(subset = 'user_text')[['user_text']]\n",
    "df_user = df_user.merge(df_gender, on = 'user_text', how = \"left\")[['user_text', 'gender']]\n",
    "df_user['gender'] = df_user['gender'].fillna('unknown')\n",
    "df_user = df_user.merge(df_registration, on = 'user_text', how = \"inner\")[['user_text', 'gender', 'user_registration']]"
   ]
  },
  {
   "cell_type": "markdown",
   "metadata": {},
   "source": [
    "### Visualizations"
   ]
  },
  {
   "cell_type": "code",
   "execution_count": 7,
   "metadata": {
    "collapsed": false
   },
   "outputs": [
    {
     "data": {
      "text/plain": [
       "<matplotlib.axes._subplots.AxesSubplot at 0x1056529e8>"
      ]
     },
     "execution_count": 7,
     "metadata": {},
     "output_type": "execute_result"
    },
    {
     "data": {
      "image/png": "[encoded data removed]",
      "text/plain": [
       "<matplotlib.figure.Figure at 0x129bdf8d0>"
      ]
     },
     "metadata": {},
     "output_type": "display_data"
    }
   ],
   "source": [
    "# hist of edits in 2015 by month\n",
    "df_edits['timestamp'].hist()"
   ]
  },
  {
   "cell_type": "markdown",
   "metadata": {},
   "source": [
    "Edit counts appear fairly uniform across months"
   ]
  },
  {
   "cell_type": "code",
   "execution_count": 8,
   "metadata": {
    "collapsed": false
   },
   "outputs": [
    {
     "data": {
      "text/plain": [
       "<matplotlib.axes._subplots.AxesSubplot at 0x10b917a20>"
      ]
     },
     "execution_count": 8,
     "metadata": {},
     "output_type": "execute_result"
    },
    {
     "data": {
      "image/png": "[encoded data removed]",
      "text/plain": [
       "<matplotlib.figure.Figure at 0x10b8fc860>"
      ]
     },
     "metadata": {},
     "output_type": "display_data"
    }
   ],
   "source": [
    "# hist of user registration times of editors who made at least one edit in 2015\n",
    "df_user['user_registration'].hist()"
   ]
  },
  {
   "cell_type": "markdown",
   "metadata": {},
   "source": [
    "Most editors who made an edit in 2015 are newcomers!"
   ]
  },
  {
   "cell_type": "code",
   "execution_count": 9,
   "metadata": {
    "collapsed": false
   },
   "outputs": [
    {
     "data": {
      "text/plain": [
       "<matplotlib.axes._subplots.AxesSubplot at 0x1184723c8>"
      ]
     },
     "execution_count": 9,
     "metadata": {},
     "output_type": "execute_result"
    },
    {
     "data": {
      "image/png": "[encoded data removed]",
      "text/plain": [
       "<matplotlib.figure.Figure at 0x11840ddd8>"
      ]
     },
     "metadata": {},
     "output_type": "display_data"
    }
   ],
   "source": [
    "# hist of edits in 2015 by month editor registered\n",
    "df_edits.merge(df_user, on = 'user_text')['user_registration'].hist()"
   ]
  },
  {
   "cell_type": "markdown",
   "metadata": {},
   "source": [
    "Wow, I did not expect that so many edits come from new users!"
   ]
  },
  {
   "cell_type": "code",
   "execution_count": 10,
   "metadata": {
    "collapsed": false
   },
   "outputs": [
    {
     "data": {
      "text/plain": [
       "<matplotlib.axes._subplots.AxesSubplot at 0x11738a780>"
      ]
     },
     "execution_count": 10,
     "metadata": {},
     "output_type": "execute_result"
    },
    {
     "data": {
      "image/png": "[encoded data removed]",
      "text/plain": [
       "<matplotlib.figure.Figure at 0x1174706d8>"
      ]
     },
     "metadata": {},
     "output_type": "display_data"
    }
   ],
   "source": [
    "# attacks made by registration date\n",
    "df_annotated.query(\"attack_score > 0.5\").merge(df_user, on = 'user_text')['user_registration'].hist()"
   ]
  },
  {
   "cell_type": "code",
   "execution_count": 11,
   "metadata": {
    "collapsed": false
   },
   "outputs": [
    {
     "data": {
      "text/plain": [
       "<matplotlib.axes._subplots.AxesSubplot at 0x11845cda0>"
      ]
     },
     "execution_count": 11,
     "metadata": {},
     "output_type": "execute_result"
    },
    {
     "data": {
      "image/png": "[encoded data removed]",
      "text/plain": [
       "<matplotlib.figure.Figure at 0x1184e1048>"
      ]
     },
     "metadata": {},
     "output_type": "display_data"
    }
   ],
   "source": [
    "# attacks received by registration date\n",
    "df_annotated.query(\"attack_score > 0.5 and ns == 'user'\").merge(df_user, left_on = 'page_title', right_on = 'user_text')['user_registration'].hist()"
   ]
  },
  {
   "cell_type": "code",
   "execution_count": 12,
   "metadata": {
    "collapsed": false
   },
   "outputs": [
    {
     "data": {
      "text/plain": [
       "unknown    854446\n",
       "male        45597\n",
       "female       5421\n",
       "Name: gender, dtype: int64"
      ]
     },
     "execution_count": 12,
     "metadata": {},
     "output_type": "execute_result"
    }
   ],
   "source": [
    "df_user['gender'].value_counts()"
   ]
  },
  {
   "cell_type": "markdown",
   "metadata": {},
   "source": [
    "### Reformat Data"
   ]
  },
  {
   "cell_type": "code",
   "execution_count": 13,
   "metadata": {
    "collapsed": false
   },
   "outputs": [],
   "source": [
    "# map data frames into dictionaries keyed by user\n",
    "def gb_to_dict(gb):\n",
    "    return { i:k for i,k in gb}\n",
    "\n",
    "df_annotated_user_text_groups = gb_to_dict(df_annotated.groupby(\"user_text\"))\n",
    "df_annotated_page_title_groups =  gb_to_dict(df_annotated.query(\"ns == 'user'\").groupby(\"page_title\"))\n",
    "df_edits_groups =  gb_to_dict(df_edits.groupby(\"user_text\"))\n",
    "df_user_groups =  gb_to_dict(df_user.groupby(\"user_text\"))"
   ]
  },
  {
   "cell_type": "code",
   "execution_count": 14,
   "metadata": {
    "collapsed": true
   },
   "outputs": [],
   "source": [
    "# collect User objects \n",
    "class User():\n",
    "    def __init__(self, user_text, df_annotated_user_text_groups, df_annotated_page_title_groups, df_edits_groups, df_user_groups):\n",
    "        self.user_text = user_text\n",
    "        self.df_activity =  df_edits_groups.get(user_text, None)\n",
    "        self.df_comments_made =  df_annotated_user_text_groups.get(user_text, None)\n",
    "        self.df_comments_received = df_annotated_page_title_groups.get(user_text, None)\n",
    "        self.gender = df_user_groups[user_text]['gender'].iloc[0]\n",
    "        self.user_registration = df_user_groups[user_text]['user_registration'].iloc[0]"
   ]
  },
  {
   "cell_type": "markdown",
   "metadata": {},
   "source": [
    "### RQ1: Does being harassed in the first month make newcomers less likely to make edits in the second month?"
   ]
  },
  {
   "cell_type": "markdown",
   "metadata": {},
   "source": [
    "#### Select newcomer sample"
   ]
  },
  {
   "cell_type": "code",
   "execution_count": 15,
   "metadata": {
    "collapsed": false
   },
   "outputs": [
    {
     "name": "stdout",
     "output_type": "stream",
     "text": [
      "Total Users:  768886\n"
     ]
    },
    {
     "data": {
      "text/plain": [
       "400000"
      ]
     },
     "execution_count": 15,
     "metadata": {},
     "output_type": "execute_result"
    }
   ],
   "source": [
    "# select subset of users to regress on, only consider new comers who registered between Jan and Oct\n",
    "n = 400000\n",
    "user_texts = df_user.query(\"user_registration >= '2015-01-01'\")\n",
    "user_texts = df_user.query(\"user_registration <= '2015-10-01'\")\n",
    "print(\"Total Users: \", user_texts.shape[0])\n",
    "user_texts = user_texts.sample(n)['user_text']\n",
    "\n",
    "\n",
    "user_objects = [User( user_text,\n",
    "                      df_annotated_user_text_groups,\n",
    "                      df_annotated_page_title_groups,\n",
    "                      df_edits_groups,\n",
    "                      df_user_groups) \n",
    "                for user_text in user_texts]\n",
    "\n",
    "len(user_objects)"
   ]
  },
  {
   "cell_type": "markdown",
   "metadata": {},
   "source": [
    "#### Feature extraction"
   ]
  },
  {
   "cell_type": "code",
   "execution_count": 16,
   "metadata": {
    "collapsed": false
   },
   "outputs": [
    {
     "data": {
      "text/plain": [
       "(400000, 10)"
      ]
     },
     "execution_count": 16,
     "metadata": {},
     "output_type": "execute_result"
    }
   ],
   "source": [
    "def select_timespan(user,  activity, t):\n",
    "    start = user.user_registration + relativedelta(months=(t-1))\n",
    "    stop = user.user_registration + relativedelta(months= t)\n",
    "    activity = activity[activity['timestamp'] < stop]\n",
    "    activity = activity[activity['timestamp'] >= start]\n",
    "    return activity\n",
    "\n",
    "def count_edits(user, t):\n",
    "    activity = user.df_activity\n",
    "    activity = select_timespan(user,  activity, t)\n",
    "    return activity['n'].sum()\n",
    "\n",
    "def count_days_active(user, t):\n",
    "    activity = user.df_activity\n",
    "    activity = select_timespan(user,  activity, t)\n",
    "    return len(activity.timestamp.unique())\n",
    "\n",
    "def count_score_received_above_threshold(user, score, threshold, t):\n",
    "    if user.df_comments_received is None:\n",
    "        return 0\n",
    "    \n",
    "    comments = user.df_comments_received\n",
    "    comments = select_timespan(user,  comments, t)\n",
    "    return (comments[score] > threshold).sum()\n",
    "\n",
    "def count_score_made_above_threshold(user, score, threshold, t):\n",
    "    if user.df_comments_made is None:\n",
    "        return 0\n",
    "    \n",
    "    comments = user.df_comments_made\n",
    "    comments = select_timespan(user,  comments, t)\n",
    "    return (comments[score] > threshold).sum()\n",
    "\n",
    "def is_female(u):\n",
    "    return u.gender == 'female'\n",
    "\n",
    "def is_male(u):\n",
    "    return u.gender == 'male'\n",
    "\n",
    "threshold  = 0.425\n",
    "df_reg = pd.DataFrame({\n",
    "        'is_female' : [is_female(u) for u in user_objects],\n",
    "        'is_male' : [is_male(u) for u in user_objects],\n",
    "        't1_num_edits' : [count_edits(u, 1) for u in user_objects],\n",
    "        't2_num_edits' : [count_edits(u, 2) for u in user_objects],\n",
    "        't1_num_days_active' : [count_days_active(u, 1) for u in user_objects],\n",
    "        't2_num_days_active' : [count_days_active(u, 2) for u in user_objects],\n",
    "        't1_num_attacks_received' : [count_score_received_above_threshold(u, 'attack_score',  threshold, 1) for u in user_objects],\n",
    "        't1_num_aggression_received' : [count_score_received_above_threshold(u,  'aggression_score',  threshold, 1) for u in user_objects],\n",
    "        't1_num_attacks_made' : [count_score_made_above_threshold(u, 'attack_score',  threshold, 1) for u in user_objects],\n",
    "        't1_num_aggresssion_made': [count_score_made_above_threshold(u,  'aggression_score',  threshold, 1) for u in user_objects],\n",
    "    })\n",
    "\n",
    "df_reg.shape"
   ]
  },
  {
   "cell_type": "code",
   "execution_count": 17,
   "metadata": {
    "collapsed": false
   },
   "outputs": [
    {
     "data": {
      "text/plain": [
       "(400000, 14)"
      ]
     },
     "execution_count": 17,
     "metadata": {},
     "output_type": "execute_result"
    }
   ],
   "source": [
    "df_reg['t1_active'] = df_reg['t1_num_edits'] > 0\n",
    "df_reg['t2_active'] = df_reg['t2_num_edits'] > 0\n",
    "df_reg['t1_harassment_received'] = (df_reg['t1_num_attacks_received'] > 0) | (df_reg['t1_num_aggression_received'] > 0)\n",
    "df_reg['t1_harassment_made'] = (df_reg['t1_num_attacks_made'] > 0) | (df_reg['t1_num_aggresssion_made'] > 0)\n",
    "df_reg.shape"
   ]
  },
  {
   "cell_type": "code",
   "execution_count": 18,
   "metadata": {
    "collapsed": false
   },
   "outputs": [],
   "source": [
    "df_reg = df_reg.astype(int)"
   ]
  },
  {
   "cell_type": "code",
   "execution_count": 19,
   "metadata": {
    "collapsed": false
   },
   "outputs": [],
   "source": [
    "# only consider friendly users who made at least one edit in the first month afer registering\n",
    "df_reg2 = df_reg.query('t1_active ==1 and t1_harassment_made == 0')"
   ]
  },
  {
   "cell_type": "code",
   "execution_count": 20,
   "metadata": {
    "collapsed": false
   },
   "outputs": [],
   "source": [
    "# remove outliers\n",
    "df_reg3 = df_reg2.query('t1_num_edits < 200 and t2_num_edits < 200')"
   ]
  },
  {
   "cell_type": "markdown",
   "metadata": {},
   "source": [
    "#### Modeling"
   ]
  },
  {
   "cell_type": "code",
   "execution_count": 21,
   "metadata": {
    "collapsed": false
   },
   "outputs": [
    {
     "data": {
      "text/html": [
       "<div>\n",
       "<table border=\"1\" class=\"dataframe\">\n",
       "  <thead>\n",
       "    <tr style=\"text-align: right;\">\n",
       "      <th></th>\n",
       "      <th>is_female</th>\n",
       "      <th>is_male</th>\n",
       "      <th>t1_num_aggression_received</th>\n",
       "      <th>t1_num_aggresssion_made</th>\n",
       "      <th>t1_num_attacks_made</th>\n",
       "      <th>t1_num_attacks_received</th>\n",
       "      <th>t1_num_days_active</th>\n",
       "      <th>t1_num_edits</th>\n",
       "      <th>t2_num_days_active</th>\n",
       "      <th>t2_num_edits</th>\n",
       "      <th>t1_active</th>\n",
       "      <th>t2_active</th>\n",
       "      <th>t1_harassment_received</th>\n",
       "      <th>t1_harassment_made</th>\n",
       "    </tr>\n",
       "  </thead>\n",
       "  <tbody>\n",
       "    <tr>\n",
       "      <th>count</th>\n",
       "      <td>400000.000000</td>\n",
       "      <td>400000.000000</td>\n",
       "      <td>400000.000000</td>\n",
       "      <td>400000.000000</td>\n",
       "      <td>400000.000000</td>\n",
       "      <td>400000.000000</td>\n",
       "      <td>400000.000000</td>\n",
       "      <td>400000.000000</td>\n",
       "      <td>400000.000000</td>\n",
       "      <td>400000.000000</td>\n",
       "      <td>400000.000000</td>\n",
       "      <td>400000.000000</td>\n",
       "      <td>400000.000000</td>\n",
       "      <td>400000.000000</td>\n",
       "    </tr>\n",
       "    <tr>\n",
       "      <th>mean</th>\n",
       "      <td>0.006553</td>\n",
       "      <td>0.057482</td>\n",
       "      <td>0.001980</td>\n",
       "      <td>0.003717</td>\n",
       "      <td>0.003005</td>\n",
       "      <td>0.001515</td>\n",
       "      <td>0.850017</td>\n",
       "      <td>4.612360</td>\n",
       "      <td>0.133920</td>\n",
       "      <td>1.607838</td>\n",
       "      <td>0.576497</td>\n",
       "      <td>0.050888</td>\n",
       "      <td>0.001512</td>\n",
       "      <td>0.002703</td>\n",
       "    </tr>\n",
       "    <tr>\n",
       "      <th>std</th>\n",
       "      <td>0.080682</td>\n",
       "      <td>0.232763</td>\n",
       "      <td>0.075539</td>\n",
       "      <td>0.097410</td>\n",
       "      <td>0.084059</td>\n",
       "      <td>0.059814</td>\n",
       "      <td>1.405262</td>\n",
       "      <td>865.684679</td>\n",
       "      <td>0.978965</td>\n",
       "      <td>428.646973</td>\n",
       "      <td>0.494114</td>\n",
       "      <td>0.219768</td>\n",
       "      <td>0.038861</td>\n",
       "      <td>0.051915</td>\n",
       "    </tr>\n",
       "    <tr>\n",
       "      <th>min</th>\n",
       "      <td>0.000000</td>\n",
       "      <td>0.000000</td>\n",
       "      <td>0.000000</td>\n",
       "      <td>0.000000</td>\n",
       "      <td>0.000000</td>\n",
       "      <td>0.000000</td>\n",
       "      <td>0.000000</td>\n",
       "      <td>0.000000</td>\n",
       "      <td>0.000000</td>\n",
       "      <td>0.000000</td>\n",
       "      <td>0.000000</td>\n",
       "      <td>0.000000</td>\n",
       "      <td>0.000000</td>\n",
       "      <td>0.000000</td>\n",
       "    </tr>\n",
       "    <tr>\n",
       "      <th>25%</th>\n",
       "      <td>0.000000</td>\n",
       "      <td>0.000000</td>\n",
       "      <td>0.000000</td>\n",
       "      <td>0.000000</td>\n",
       "      <td>0.000000</td>\n",
       "      <td>0.000000</td>\n",
       "      <td>0.000000</td>\n",
       "      <td>0.000000</td>\n",
       "      <td>0.000000</td>\n",
       "      <td>0.000000</td>\n",
       "      <td>0.000000</td>\n",
       "      <td>0.000000</td>\n",
       "      <td>0.000000</td>\n",
       "      <td>0.000000</td>\n",
       "    </tr>\n",
       "    <tr>\n",
       "      <th>50%</th>\n",
       "      <td>0.000000</td>\n",
       "      <td>0.000000</td>\n",
       "      <td>0.000000</td>\n",
       "      <td>0.000000</td>\n",
       "      <td>0.000000</td>\n",
       "      <td>0.000000</td>\n",
       "      <td>1.000000</td>\n",
       "      <td>1.000000</td>\n",
       "      <td>0.000000</td>\n",
       "      <td>0.000000</td>\n",
       "      <td>1.000000</td>\n",
       "      <td>0.000000</td>\n",
       "      <td>0.000000</td>\n",
       "      <td>0.000000</td>\n",
       "    </tr>\n",
       "    <tr>\n",
       "      <th>75%</th>\n",
       "      <td>0.000000</td>\n",
       "      <td>0.000000</td>\n",
       "      <td>0.000000</td>\n",
       "      <td>0.000000</td>\n",
       "      <td>0.000000</td>\n",
       "      <td>0.000000</td>\n",
       "      <td>1.000000</td>\n",
       "      <td>2.000000</td>\n",
       "      <td>0.000000</td>\n",
       "      <td>0.000000</td>\n",
       "      <td>1.000000</td>\n",
       "      <td>0.000000</td>\n",
       "      <td>0.000000</td>\n",
       "      <td>0.000000</td>\n",
       "    </tr>\n",
       "    <tr>\n",
       "      <th>max</th>\n",
       "      <td>1.000000</td>\n",
       "      <td>1.000000</td>\n",
       "      <td>26.000000</td>\n",
       "      <td>26.000000</td>\n",
       "      <td>21.000000</td>\n",
       "      <td>16.000000</td>\n",
       "      <td>31.000000</td>\n",
       "      <td>547040.000000</td>\n",
       "      <td>31.000000</td>\n",
       "      <td>269124.000000</td>\n",
       "      <td>1.000000</td>\n",
       "      <td>1.000000</td>\n",
       "      <td>1.000000</td>\n",
       "      <td>1.000000</td>\n",
       "    </tr>\n",
       "  </tbody>\n",
       "</table>\n",
       "</div>"
      ],
      "text/plain": [
       "           is_female        is_male  t1_num_aggression_received  \\\n",
       "count  400000.000000  400000.000000               400000.000000   \n",
       "mean        0.006553       0.057482                    0.001980   \n",
       "std         0.080682       0.232763                    0.075539   \n",
       "min         0.000000       0.000000                    0.000000   \n",
       "25%         0.000000       0.000000                    0.000000   \n",
       "50%         0.000000       0.000000                    0.000000   \n",
       "75%         0.000000       0.000000                    0.000000   \n",
       "max         1.000000       1.000000                   26.000000   \n",
       "\n",
       "       t1_num_aggresssion_made  t1_num_attacks_made  t1_num_attacks_received  \\\n",
       "count            400000.000000        400000.000000            400000.000000   \n",
       "mean                  0.003717             0.003005                 0.001515   \n",
       "std                   0.097410             0.084059                 0.059814   \n",
       "min                   0.000000             0.000000                 0.000000   \n",
       "25%                   0.000000             0.000000                 0.000000   \n",
       "50%                   0.000000             0.000000                 0.000000   \n",
       "75%                   0.000000             0.000000                 0.000000   \n",
       "max                  26.000000            21.000000                16.000000   \n",
       "\n",
       "       t1_num_days_active   t1_num_edits  t2_num_days_active   t2_num_edits  \\\n",
       "count       400000.000000  400000.000000       400000.000000  400000.000000   \n",
       "mean             0.850017       4.612360            0.133920       1.607838   \n",
       "std              1.405262     865.684679            0.978965     428.646973   \n",
       "min              0.000000       0.000000            0.000000       0.000000   \n",
       "25%              0.000000       0.000000            0.000000       0.000000   \n",
       "50%              1.000000       1.000000            0.000000       0.000000   \n",
       "75%              1.000000       2.000000            0.000000       0.000000   \n",
       "max             31.000000  547040.000000           31.000000  269124.000000   \n",
       "\n",
       "           t1_active      t2_active  t1_harassment_received  \\\n",
       "count  400000.000000  400000.000000           400000.000000   \n",
       "mean        0.576497       0.050888                0.001512   \n",
       "std         0.494114       0.219768                0.038861   \n",
       "min         0.000000       0.000000                0.000000   \n",
       "25%         0.000000       0.000000                0.000000   \n",
       "50%         1.000000       0.000000                0.000000   \n",
       "75%         1.000000       0.000000                0.000000   \n",
       "max         1.000000       1.000000                1.000000   \n",
       "\n",
       "       t1_harassment_made  \n",
       "count       400000.000000  \n",
       "mean             0.002703  \n",
       "std              0.051915  \n",
       "min              0.000000  \n",
       "25%              0.000000  \n",
       "50%              0.000000  \n",
       "75%              0.000000  \n",
       "max              1.000000  "
      ]
     },
     "execution_count": 21,
     "metadata": {},
     "output_type": "execute_result"
    }
   ],
   "source": [
    "df_reg.describe()"
   ]
  },
  {
   "cell_type": "code",
   "execution_count": 22,
   "metadata": {
    "collapsed": false
   },
   "outputs": [
    {
     "data": {
      "text/html": [
       "<div>\n",
       "<table border=\"1\" class=\"dataframe\">\n",
       "  <thead>\n",
       "    <tr style=\"text-align: right;\">\n",
       "      <th></th>\n",
       "      <th>is_female</th>\n",
       "      <th>is_male</th>\n",
       "      <th>t1_num_aggression_received</th>\n",
       "      <th>t1_num_aggresssion_made</th>\n",
       "      <th>t1_num_attacks_made</th>\n",
       "      <th>t1_num_attacks_received</th>\n",
       "      <th>t1_num_days_active</th>\n",
       "      <th>t1_num_edits</th>\n",
       "      <th>t2_num_days_active</th>\n",
       "      <th>t2_num_edits</th>\n",
       "      <th>t1_active</th>\n",
       "      <th>t2_active</th>\n",
       "      <th>t1_harassment_received</th>\n",
       "      <th>t1_harassment_made</th>\n",
       "    </tr>\n",
       "  </thead>\n",
       "  <tbody>\n",
       "    <tr>\n",
       "      <th>count</th>\n",
       "      <td>229518.000000</td>\n",
       "      <td>229518.000000</td>\n",
       "      <td>229518.000000</td>\n",
       "      <td>229518.0</td>\n",
       "      <td>229518.0</td>\n",
       "      <td>229518.000000</td>\n",
       "      <td>229518.000000</td>\n",
       "      <td>229518.000000</td>\n",
       "      <td>229518.000000</td>\n",
       "      <td>229518.000000</td>\n",
       "      <td>229518.0</td>\n",
       "      <td>229518.000000</td>\n",
       "      <td>229518.000000</td>\n",
       "      <td>229518.0</td>\n",
       "    </tr>\n",
       "    <tr>\n",
       "      <th>mean</th>\n",
       "      <td>0.003608</td>\n",
       "      <td>0.012234</td>\n",
       "      <td>0.000671</td>\n",
       "      <td>0.0</td>\n",
       "      <td>0.0</td>\n",
       "      <td>0.000396</td>\n",
       "      <td>1.467410</td>\n",
       "      <td>7.868577</td>\n",
       "      <td>0.188778</td>\n",
       "      <td>1.408073</td>\n",
       "      <td>1.0</td>\n",
       "      <td>0.063681</td>\n",
       "      <td>0.000627</td>\n",
       "      <td>0.0</td>\n",
       "    </tr>\n",
       "    <tr>\n",
       "      <th>std</th>\n",
       "      <td>0.059955</td>\n",
       "      <td>0.109930</td>\n",
       "      <td>0.028306</td>\n",
       "      <td>0.0</td>\n",
       "      <td>0.0</td>\n",
       "      <td>0.020974</td>\n",
       "      <td>1.554776</td>\n",
       "      <td>1142.770473</td>\n",
       "      <td>1.210369</td>\n",
       "      <td>67.763169</td>\n",
       "      <td>0.0</td>\n",
       "      <td>0.244185</td>\n",
       "      <td>0.025040</td>\n",
       "      <td>0.0</td>\n",
       "    </tr>\n",
       "    <tr>\n",
       "      <th>min</th>\n",
       "      <td>0.000000</td>\n",
       "      <td>0.000000</td>\n",
       "      <td>0.000000</td>\n",
       "      <td>0.0</td>\n",
       "      <td>0.0</td>\n",
       "      <td>0.000000</td>\n",
       "      <td>1.000000</td>\n",
       "      <td>1.000000</td>\n",
       "      <td>0.000000</td>\n",
       "      <td>0.000000</td>\n",
       "      <td>1.0</td>\n",
       "      <td>0.000000</td>\n",
       "      <td>0.000000</td>\n",
       "      <td>0.0</td>\n",
       "    </tr>\n",
       "    <tr>\n",
       "      <th>25%</th>\n",
       "      <td>0.000000</td>\n",
       "      <td>0.000000</td>\n",
       "      <td>0.000000</td>\n",
       "      <td>0.0</td>\n",
       "      <td>0.0</td>\n",
       "      <td>0.000000</td>\n",
       "      <td>1.000000</td>\n",
       "      <td>1.000000</td>\n",
       "      <td>0.000000</td>\n",
       "      <td>0.000000</td>\n",
       "      <td>1.0</td>\n",
       "      <td>0.000000</td>\n",
       "      <td>0.000000</td>\n",
       "      <td>0.0</td>\n",
       "    </tr>\n",
       "    <tr>\n",
       "      <th>50%</th>\n",
       "      <td>0.000000</td>\n",
       "      <td>0.000000</td>\n",
       "      <td>0.000000</td>\n",
       "      <td>0.0</td>\n",
       "      <td>0.0</td>\n",
       "      <td>0.000000</td>\n",
       "      <td>1.000000</td>\n",
       "      <td>2.000000</td>\n",
       "      <td>0.000000</td>\n",
       "      <td>0.000000</td>\n",
       "      <td>1.0</td>\n",
       "      <td>0.000000</td>\n",
       "      <td>0.000000</td>\n",
       "      <td>0.0</td>\n",
       "    </tr>\n",
       "    <tr>\n",
       "      <th>75%</th>\n",
       "      <td>0.000000</td>\n",
       "      <td>0.000000</td>\n",
       "      <td>0.000000</td>\n",
       "      <td>0.0</td>\n",
       "      <td>0.0</td>\n",
       "      <td>0.000000</td>\n",
       "      <td>1.000000</td>\n",
       "      <td>4.000000</td>\n",
       "      <td>0.000000</td>\n",
       "      <td>0.000000</td>\n",
       "      <td>1.0</td>\n",
       "      <td>0.000000</td>\n",
       "      <td>0.000000</td>\n",
       "      <td>0.0</td>\n",
       "    </tr>\n",
       "    <tr>\n",
       "      <th>max</th>\n",
       "      <td>1.000000</td>\n",
       "      <td>1.000000</td>\n",
       "      <td>4.000000</td>\n",
       "      <td>0.0</td>\n",
       "      <td>0.0</td>\n",
       "      <td>3.000000</td>\n",
       "      <td>31.000000</td>\n",
       "      <td>547040.000000</td>\n",
       "      <td>31.000000</td>\n",
       "      <td>22301.000000</td>\n",
       "      <td>1.0</td>\n",
       "      <td>1.000000</td>\n",
       "      <td>1.000000</td>\n",
       "      <td>0.0</td>\n",
       "    </tr>\n",
       "  </tbody>\n",
       "</table>\n",
       "</div>"
      ],
      "text/plain": [
       "           is_female        is_male  t1_num_aggression_received  \\\n",
       "count  229518.000000  229518.000000               229518.000000   \n",
       "mean        0.003608       0.012234                    0.000671   \n",
       "std         0.059955       0.109930                    0.028306   \n",
       "min         0.000000       0.000000                    0.000000   \n",
       "25%         0.000000       0.000000                    0.000000   \n",
       "50%         0.000000       0.000000                    0.000000   \n",
       "75%         0.000000       0.000000                    0.000000   \n",
       "max         1.000000       1.000000                    4.000000   \n",
       "\n",
       "       t1_num_aggresssion_made  t1_num_attacks_made  t1_num_attacks_received  \\\n",
       "count                 229518.0             229518.0            229518.000000   \n",
       "mean                       0.0                  0.0                 0.000396   \n",
       "std                        0.0                  0.0                 0.020974   \n",
       "min                        0.0                  0.0                 0.000000   \n",
       "25%                        0.0                  0.0                 0.000000   \n",
       "50%                        0.0                  0.0                 0.000000   \n",
       "75%                        0.0                  0.0                 0.000000   \n",
       "max                        0.0                  0.0                 3.000000   \n",
       "\n",
       "       t1_num_days_active   t1_num_edits  t2_num_days_active   t2_num_edits  \\\n",
       "count       229518.000000  229518.000000       229518.000000  229518.000000   \n",
       "mean             1.467410       7.868577            0.188778       1.408073   \n",
       "std              1.554776    1142.770473            1.210369      67.763169   \n",
       "min              1.000000       1.000000            0.000000       0.000000   \n",
       "25%              1.000000       1.000000            0.000000       0.000000   \n",
       "50%              1.000000       2.000000            0.000000       0.000000   \n",
       "75%              1.000000       4.000000            0.000000       0.000000   \n",
       "max             31.000000  547040.000000           31.000000   22301.000000   \n",
       "\n",
       "       t1_active      t2_active  t1_harassment_received  t1_harassment_made  \n",
       "count   229518.0  229518.000000           229518.000000            229518.0  \n",
       "mean         1.0       0.063681                0.000627                 0.0  \n",
       "std          0.0       0.244185                0.025040                 0.0  \n",
       "min          1.0       0.000000                0.000000                 0.0  \n",
       "25%          1.0       0.000000                0.000000                 0.0  \n",
       "50%          1.0       0.000000                0.000000                 0.0  \n",
       "75%          1.0       0.000000                0.000000                 0.0  \n",
       "max          1.0       1.000000                1.000000                 0.0  "
      ]
     },
     "execution_count": 22,
     "metadata": {},
     "output_type": "execute_result"
    }
   ],
   "source": [
    "df_reg2.describe()"
   ]
  },
  {
   "cell_type": "code",
   "execution_count": 23,
   "metadata": {
    "collapsed": false
   },
   "outputs": [
    {
     "data": {
      "text/html": [
       "<div>\n",
       "<table border=\"1\" class=\"dataframe\">\n",
       "  <thead>\n",
       "    <tr style=\"text-align: right;\">\n",
       "      <th></th>\n",
       "      <th>is_female</th>\n",
       "      <th>is_male</th>\n",
       "      <th>t1_num_aggression_received</th>\n",
       "      <th>t1_num_aggresssion_made</th>\n",
       "      <th>t1_num_attacks_made</th>\n",
       "      <th>t1_num_attacks_received</th>\n",
       "      <th>t1_num_days_active</th>\n",
       "      <th>t1_num_edits</th>\n",
       "      <th>t2_num_days_active</th>\n",
       "      <th>t2_num_edits</th>\n",
       "      <th>t1_active</th>\n",
       "      <th>t2_active</th>\n",
       "      <th>t1_harassment_received</th>\n",
       "      <th>t1_harassment_made</th>\n",
       "    </tr>\n",
       "  </thead>\n",
       "  <tbody>\n",
       "    <tr>\n",
       "      <th>count</th>\n",
       "      <td>229107.000000</td>\n",
       "      <td>229107.000000</td>\n",
       "      <td>229107.000000</td>\n",
       "      <td>229107.0</td>\n",
       "      <td>229107.0</td>\n",
       "      <td>229107.000000</td>\n",
       "      <td>229107.000000</td>\n",
       "      <td>229107.000000</td>\n",
       "      <td>229107.000000</td>\n",
       "      <td>229107.000000</td>\n",
       "      <td>229107.0</td>\n",
       "      <td>229107.000000</td>\n",
       "      <td>229107.000000</td>\n",
       "      <td>229107.0</td>\n",
       "    </tr>\n",
       "    <tr>\n",
       "      <th>mean</th>\n",
       "      <td>0.003583</td>\n",
       "      <td>0.011959</td>\n",
       "      <td>0.000629</td>\n",
       "      <td>0.0</td>\n",
       "      <td>0.0</td>\n",
       "      <td>0.000371</td>\n",
       "      <td>1.441375</td>\n",
       "      <td>4.759780</td>\n",
       "      <td>0.166097</td>\n",
       "      <td>0.692301</td>\n",
       "      <td>1.0</td>\n",
       "      <td>0.062333</td>\n",
       "      <td>0.000594</td>\n",
       "      <td>0.0</td>\n",
       "    </tr>\n",
       "    <tr>\n",
       "      <th>std</th>\n",
       "      <td>0.059755</td>\n",
       "      <td>0.108704</td>\n",
       "      <td>0.027072</td>\n",
       "      <td>0.0</td>\n",
       "      <td>0.0</td>\n",
       "      <td>0.020144</td>\n",
       "      <td>1.390345</td>\n",
       "      <td>11.097877</td>\n",
       "      <td>0.993869</td>\n",
       "      <td>5.947084</td>\n",
       "      <td>0.0</td>\n",
       "      <td>0.241760</td>\n",
       "      <td>0.024357</td>\n",
       "      <td>0.0</td>\n",
       "    </tr>\n",
       "    <tr>\n",
       "      <th>min</th>\n",
       "      <td>0.000000</td>\n",
       "      <td>0.000000</td>\n",
       "      <td>0.000000</td>\n",
       "      <td>0.0</td>\n",
       "      <td>0.0</td>\n",
       "      <td>0.000000</td>\n",
       "      <td>1.000000</td>\n",
       "      <td>1.000000</td>\n",
       "      <td>0.000000</td>\n",
       "      <td>0.000000</td>\n",
       "      <td>1.0</td>\n",
       "      <td>0.000000</td>\n",
       "      <td>0.000000</td>\n",
       "      <td>0.0</td>\n",
       "    </tr>\n",
       "    <tr>\n",
       "      <th>25%</th>\n",
       "      <td>0.000000</td>\n",
       "      <td>0.000000</td>\n",
       "      <td>0.000000</td>\n",
       "      <td>0.0</td>\n",
       "      <td>0.0</td>\n",
       "      <td>0.000000</td>\n",
       "      <td>1.000000</td>\n",
       "      <td>1.000000</td>\n",
       "      <td>0.000000</td>\n",
       "      <td>0.000000</td>\n",
       "      <td>1.0</td>\n",
       "      <td>0.000000</td>\n",
       "      <td>0.000000</td>\n",
       "      <td>0.0</td>\n",
       "    </tr>\n",
       "    <tr>\n",
       "      <th>50%</th>\n",
       "      <td>0.000000</td>\n",
       "      <td>0.000000</td>\n",
       "      <td>0.000000</td>\n",
       "      <td>0.0</td>\n",
       "      <td>0.0</td>\n",
       "      <td>0.000000</td>\n",
       "      <td>1.000000</td>\n",
       "      <td>2.000000</td>\n",
       "      <td>0.000000</td>\n",
       "      <td>0.000000</td>\n",
       "      <td>1.0</td>\n",
       "      <td>0.000000</td>\n",
       "      <td>0.000000</td>\n",
       "      <td>0.0</td>\n",
       "    </tr>\n",
       "    <tr>\n",
       "      <th>75%</th>\n",
       "      <td>0.000000</td>\n",
       "      <td>0.000000</td>\n",
       "      <td>0.000000</td>\n",
       "      <td>0.0</td>\n",
       "      <td>0.0</td>\n",
       "      <td>0.000000</td>\n",
       "      <td>1.000000</td>\n",
       "      <td>4.000000</td>\n",
       "      <td>0.000000</td>\n",
       "      <td>0.000000</td>\n",
       "      <td>1.0</td>\n",
       "      <td>0.000000</td>\n",
       "      <td>0.000000</td>\n",
       "      <td>0.0</td>\n",
       "    </tr>\n",
       "    <tr>\n",
       "      <th>max</th>\n",
       "      <td>1.000000</td>\n",
       "      <td>1.000000</td>\n",
       "      <td>4.000000</td>\n",
       "      <td>0.0</td>\n",
       "      <td>0.0</td>\n",
       "      <td>3.000000</td>\n",
       "      <td>30.000000</td>\n",
       "      <td>198.000000</td>\n",
       "      <td>29.000000</td>\n",
       "      <td>198.000000</td>\n",
       "      <td>1.0</td>\n",
       "      <td>1.000000</td>\n",
       "      <td>1.000000</td>\n",
       "      <td>0.0</td>\n",
       "    </tr>\n",
       "  </tbody>\n",
       "</table>\n",
       "</div>"
      ],
      "text/plain": [
       "           is_female        is_male  t1_num_aggression_received  \\\n",
       "count  229107.000000  229107.000000               229107.000000   \n",
       "mean        0.003583       0.011959                    0.000629   \n",
       "std         0.059755       0.108704                    0.027072   \n",
       "min         0.000000       0.000000                    0.000000   \n",
       "25%         0.000000       0.000000                    0.000000   \n",
       "50%         0.000000       0.000000                    0.000000   \n",
       "75%         0.000000       0.000000                    0.000000   \n",
       "max         1.000000       1.000000                    4.000000   \n",
       "\n",
       "       t1_num_aggresssion_made  t1_num_attacks_made  t1_num_attacks_received  \\\n",
       "count                 229107.0             229107.0            229107.000000   \n",
       "mean                       0.0                  0.0                 0.000371   \n",
       "std                        0.0                  0.0                 0.020144   \n",
       "min                        0.0                  0.0                 0.000000   \n",
       "25%                        0.0                  0.0                 0.000000   \n",
       "50%                        0.0                  0.0                 0.000000   \n",
       "75%                        0.0                  0.0                 0.000000   \n",
       "max                        0.0                  0.0                 3.000000   \n",
       "\n",
       "       t1_num_days_active   t1_num_edits  t2_num_days_active   t2_num_edits  \\\n",
       "count       229107.000000  229107.000000       229107.000000  229107.000000   \n",
       "mean             1.441375       4.759780            0.166097       0.692301   \n",
       "std              1.390345      11.097877            0.993869       5.947084   \n",
       "min              1.000000       1.000000            0.000000       0.000000   \n",
       "25%              1.000000       1.000000            0.000000       0.000000   \n",
       "50%              1.000000       2.000000            0.000000       0.000000   \n",
       "75%              1.000000       4.000000            0.000000       0.000000   \n",
       "max             30.000000     198.000000           29.000000     198.000000   \n",
       "\n",
       "       t1_active      t2_active  t1_harassment_received  t1_harassment_made  \n",
       "count   229107.0  229107.000000           229107.000000            229107.0  \n",
       "mean         1.0       0.062333                0.000594                 0.0  \n",
       "std          0.0       0.241760                0.024357                 0.0  \n",
       "min          1.0       0.000000                0.000000                 0.0  \n",
       "25%          1.0       0.000000                0.000000                 0.0  \n",
       "50%          1.0       0.000000                0.000000                 0.0  \n",
       "75%          1.0       0.000000                0.000000                 0.0  \n",
       "max          1.0       1.000000                1.000000                 0.0  "
      ]
     },
     "execution_count": 23,
     "metadata": {},
     "output_type": "execute_result"
    }
   ],
   "source": [
    "df_reg3.describe()"
   ]
  },
  {
   "cell_type": "markdown",
   "metadata": {},
   "source": [
    "Does receiving harassment in t1 make you less likely to make and edit t2?"
   ]
  },
  {
   "cell_type": "code",
   "execution_count": 24,
   "metadata": {
    "collapsed": false
   },
   "outputs": [
    {
     "data": {
      "text/html": [
       "<table class=\"simpletable\">\n",
       "<tr>\n",
       "             <td></td>               <th>coef</th>     <th>std err</th>      <th>t</th>      <th>P>|t|</th> <th>[95.0% Conf. Int.]</th> \n",
       "</tr>\n",
       "<tr>\n",
       "  <th>Intercept</th>              <td>    0.0623</td> <td>    0.001</td> <td>  123.319</td> <td> 0.000</td> <td>    0.061     0.063</td>\n",
       "</tr>\n",
       "<tr>\n",
       "  <th>t1_harassment_received</th> <td>    0.0480</td> <td>    0.021</td> <td>    2.314</td> <td> 0.021</td> <td>    0.007     0.089</td>\n",
       "</tr>\n",
       "</table>"
      ],
      "text/plain": [
       "<class 'statsmodels.iolib.table.SimpleTable'>"
      ]
     },
     "execution_count": 24,
     "metadata": {},
     "output_type": "execute_result"
    }
   ],
   "source": [
    "result = sm.ols(formula=\"t2_active ~ t1_harassment_received\", data=df_reg3).fit()\n",
    "result.summary().tables[1]"
   ]
  },
  {
   "cell_type": "code",
   "execution_count": 25,
   "metadata": {
    "collapsed": false
   },
   "outputs": [
    {
     "name": "stdout",
     "output_type": "stream",
     "text": [
      "Optimization terminated successfully.\n",
      "         Current function value: 0.233330\n",
      "         Iterations 7\n"
     ]
    },
    {
     "data": {
      "text/html": [
       "<table class=\"simpletable\">\n",
       "<tr>\n",
       "             <td></td>               <th>coef</th>     <th>std err</th>      <th>z</th>      <th>P>|z|</th> <th>[95.0% Conf. Int.]</th> \n",
       "</tr>\n",
       "<tr>\n",
       "  <th>Intercept</th>              <td>   -2.7114</td> <td>    0.009</td> <td> -313.598</td> <td> 0.000</td> <td>   -2.728    -2.694</td>\n",
       "</tr>\n",
       "<tr>\n",
       "  <th>t1_harassment_received</th> <td>    0.6236</td> <td>    0.274</td> <td>    2.277</td> <td> 0.023</td> <td>    0.087     1.160</td>\n",
       "</tr>\n",
       "</table>"
      ],
      "text/plain": [
       "<class 'statsmodels.iolib.table.SimpleTable'>"
      ]
     },
     "execution_count": 25,
     "metadata": {},
     "output_type": "execute_result"
    }
   ],
   "source": [
    "result = sm.logit(formula=\"t2_active ~ t1_harassment_received\", data=df_reg3).fit()\n",
    "result.summary().tables[1]"
   ]
  },
  {
   "cell_type": "markdown",
   "metadata": {},
   "source": [
    "Regress activity measure in t2 on activity measure in t1  "
   ]
  },
  {
   "cell_type": "code",
   "execution_count": 26,
   "metadata": {
    "collapsed": false
   },
   "outputs": [
    {
     "data": {
      "text/html": [
       "<table class=\"simpletable\">\n",
       "<tr>\n",
       "        <td></td>          <th>coef</th>     <th>std err</th>      <th>t</th>      <th>P>|t|</th> <th>[95.0% Conf. Int.]</th> \n",
       "</tr>\n",
       "<tr>\n",
       "  <th>Intercept</th>    <td>   -0.1801</td> <td>    0.013</td> <td>  -14.175</td> <td> 0.000</td> <td>   -0.205    -0.155</td>\n",
       "</tr>\n",
       "<tr>\n",
       "  <th>t1_num_edits</th> <td>    0.1833</td> <td>    0.001</td> <td>  174.215</td> <td> 0.000</td> <td>    0.181     0.185</td>\n",
       "</tr>\n",
       "</table>"
      ],
      "text/plain": [
       "<class 'statsmodels.iolib.table.SimpleTable'>"
      ]
     },
     "execution_count": 26,
     "metadata": {},
     "output_type": "execute_result"
    }
   ],
   "source": [
    "result = sm.ols(formula=\"t2_num_edits ~ t1_num_edits\", data=df_reg3).fit()\n",
    "result.summary().tables[1]"
   ]
  },
  {
   "cell_type": "code",
   "execution_count": 27,
   "metadata": {
    "collapsed": false
   },
   "outputs": [
    {
     "data": {
      "text/html": [
       "<table class=\"simpletable\">\n",
       "<tr>\n",
       "           <td></td>             <th>coef</th>     <th>std err</th>      <th>t</th>      <th>P>|t|</th> <th>[95.0% Conf. Int.]</th> \n",
       "</tr>\n",
       "<tr>\n",
       "  <th>Intercept</th>          <td>   -0.3759</td> <td>    0.003</td> <td> -147.767</td> <td> 0.000</td> <td>   -0.381    -0.371</td>\n",
       "</tr>\n",
       "<tr>\n",
       "  <th>t1_num_days_active</th> <td>    0.3760</td> <td>    0.001</td> <td>  296.033</td> <td> 0.000</td> <td>    0.374     0.378</td>\n",
       "</tr>\n",
       "</table>"
      ],
      "text/plain": [
       "<class 'statsmodels.iolib.table.SimpleTable'>"
      ]
     },
     "execution_count": 27,
     "metadata": {},
     "output_type": "execute_result"
    }
   ],
   "source": [
    "result = sm.ols(formula=\"t2_num_days_active ~ t1_num_days_active\", data=df_reg3).fit()\n",
    "result.summary().tables[1]"
   ]
  },
  {
   "cell_type": "markdown",
   "metadata": {},
   "source": [
    "Regress activity measure in t2 on activity measure in t1 a measure of harassment"
   ]
  },
  {
   "cell_type": "code",
   "execution_count": 28,
   "metadata": {
    "collapsed": false
   },
   "outputs": [
    {
     "data": {
      "text/html": [
       "<table class=\"simpletable\">\n",
       "<tr>\n",
       "             <td></td>                <th>coef</th>     <th>std err</th>      <th>t</th>      <th>P>|t|</th> <th>[95.0% Conf. Int.]</th> \n",
       "</tr>\n",
       "<tr>\n",
       "  <th>Intercept</th>               <td>   -0.1799</td> <td>    0.013</td> <td>  -14.161</td> <td> 0.000</td> <td>   -0.205    -0.155</td>\n",
       "</tr>\n",
       "<tr>\n",
       "  <th>t1_num_edits</th>            <td>    0.1835</td> <td>    0.001</td> <td>  174.286</td> <td> 0.000</td> <td>    0.181     0.186</td>\n",
       "</tr>\n",
       "<tr>\n",
       "  <th>t1_num_attacks_received</th> <td>   -2.8132</td> <td>    0.580</td> <td>   -4.851</td> <td> 0.000</td> <td>   -3.950    -1.677</td>\n",
       "</tr>\n",
       "</table>"
      ],
      "text/plain": [
       "<class 'statsmodels.iolib.table.SimpleTable'>"
      ]
     },
     "execution_count": 28,
     "metadata": {},
     "output_type": "execute_result"
    }
   ],
   "source": [
    "result = sm.ols(formula=\"t2_num_edits ~ t1_num_edits + t1_num_attacks_received\", data=df_reg3).fit()\n",
    "result.summary().tables[1]"
   ]
  },
  {
   "cell_type": "code",
   "execution_count": 29,
   "metadata": {
    "collapsed": false
   },
   "outputs": [
    {
     "data": {
      "text/html": [
       "<table class=\"simpletable\">\n",
       "<tr>\n",
       "             <td></td>                <th>coef</th>     <th>std err</th>      <th>t</th>      <th>P>|t|</th> <th>[95.0% Conf. Int.]</th> \n",
       "</tr>\n",
       "<tr>\n",
       "  <th>Intercept</th>               <td>   -0.3759</td> <td>    0.003</td> <td> -147.791</td> <td> 0.000</td> <td>   -0.381    -0.371</td>\n",
       "</tr>\n",
       "<tr>\n",
       "  <th>t1_num_days_active</th>      <td>    0.3761</td> <td>    0.001</td> <td>  296.069</td> <td> 0.000</td> <td>    0.374     0.379</td>\n",
       "</tr>\n",
       "<tr>\n",
       "  <th>t1_num_attacks_received</th> <td>   -0.3964</td> <td>    0.088</td> <td>   -4.520</td> <td> 0.000</td> <td>   -0.568    -0.225</td>\n",
       "</tr>\n",
       "</table>"
      ],
      "text/plain": [
       "<class 'statsmodels.iolib.table.SimpleTable'>"
      ]
     },
     "execution_count": 29,
     "metadata": {},
     "output_type": "execute_result"
    }
   ],
   "source": [
    "result = sm.ols(formula=\"t2_num_days_active ~ t1_num_days_active + t1_num_attacks_received\", data=df_reg3).fit()\n",
    "result.summary().tables[1]"
   ]
  },
  {
   "cell_type": "code",
   "execution_count": 30,
   "metadata": {
    "collapsed": false
   },
   "outputs": [
    {
     "data": {
      "text/html": [
       "<table class=\"simpletable\">\n",
       "<tr>\n",
       "               <td></td>                 <th>coef</th>     <th>std err</th>      <th>t</th>      <th>P>|t|</th> <th>[95.0% Conf. Int.]</th> \n",
       "</tr>\n",
       "<tr>\n",
       "  <th>Intercept</th>                  <td>   -0.1798</td> <td>    0.013</td> <td>  -14.156</td> <td> 0.000</td> <td>   -0.205    -0.155</td>\n",
       "</tr>\n",
       "<tr>\n",
       "  <th>t1_num_edits</th>               <td>    0.1836</td> <td>    0.001</td> <td>  174.330</td> <td> 0.000</td> <td>    0.182     0.186</td>\n",
       "</tr>\n",
       "<tr>\n",
       "  <th>t1_num_aggression_received</th> <td>   -2.6681</td> <td>    0.432</td> <td>   -6.180</td> <td> 0.000</td> <td>   -3.514    -1.822</td>\n",
       "</tr>\n",
       "</table>"
      ],
      "text/plain": [
       "<class 'statsmodels.iolib.table.SimpleTable'>"
      ]
     },
     "execution_count": 30,
     "metadata": {},
     "output_type": "execute_result"
    }
   ],
   "source": [
    "result = sm.ols(formula=\"t2_num_edits ~ t1_num_edits + t1_num_aggression_received\", data=df_reg3).fit()\n",
    "result.summary().tables[1]"
   ]
  },
  {
   "cell_type": "code",
   "execution_count": 31,
   "metadata": {
    "collapsed": false
   },
   "outputs": [
    {
     "data": {
      "text/html": [
       "<table class=\"simpletable\">\n",
       "<tr>\n",
       "               <td></td>                 <th>coef</th>     <th>std err</th>      <th>t</th>      <th>P>|t|</th> <th>[95.0% Conf. Int.]</th> \n",
       "</tr>\n",
       "<tr>\n",
       "  <th>Intercept</th>                  <td>   -0.3760</td> <td>    0.003</td> <td> -147.809</td> <td> 0.000</td> <td>   -0.381    -0.371</td>\n",
       "</tr>\n",
       "<tr>\n",
       "  <th>t1_num_days_active</th>         <td>    0.3762</td> <td>    0.001</td> <td>  296.109</td> <td> 0.000</td> <td>    0.374     0.379</td>\n",
       "</tr>\n",
       "<tr>\n",
       "  <th>t1_num_aggression_received</th> <td>   -0.4014</td> <td>    0.065</td> <td>   -6.151</td> <td> 0.000</td> <td>   -0.529    -0.274</td>\n",
       "</tr>\n",
       "</table>"
      ],
      "text/plain": [
       "<class 'statsmodels.iolib.table.SimpleTable'>"
      ]
     },
     "execution_count": 31,
     "metadata": {},
     "output_type": "execute_result"
    }
   ],
   "source": [
    "result = sm.ols(formula=\"t2_num_days_active ~ t1_num_days_active + t1_num_aggression_received\", data=df_reg3).fit()\n",
    "result.summary().tables[1]"
   ]
  },
  {
   "cell_type": "markdown",
   "metadata": {},
   "source": [
    "Regress activity measure in t2 on activity measure in t1 multiple measures of harassment: Does not work since the data is harassment measures are highly correlated."
   ]
  },
  {
   "cell_type": "code",
   "execution_count": 32,
   "metadata": {
    "collapsed": false
   },
   "outputs": [
    {
     "data": {
      "text/plain": [
       "(0.78394176424700313, 0.0)"
      ]
     },
     "execution_count": 32,
     "metadata": {},
     "output_type": "execute_result"
    }
   ],
   "source": [
    "from scipy.stats import pearsonr \n",
    "pearsonr(df_reg3['t1_num_attacks_received'] , df_reg3['t1_num_aggression_received'])"
   ]
  },
  {
   "cell_type": "markdown",
   "metadata": {},
   "source": [
    "Interact with gender"
   ]
  },
  {
   "cell_type": "code",
   "execution_count": 36,
   "metadata": {
    "collapsed": false
   },
   "outputs": [
    {
     "name": "stderr",
     "output_type": "stream",
     "text": [
      "/Users/ellerywulczyn/miniconda3/lib/python3.5/site-packages/statsmodels/regression/linear_model.py:1263: RuntimeWarning: divide by zero encountered in double_scalars\n",
      "  return np.sqrt(eigvals[0]/eigvals[-1])\n",
      "/Users/ellerywulczyn/miniconda3/lib/python3.5/site-packages/statsmodels/base/model.py:978: RuntimeWarning: invalid value encountered in true_divide\n",
      "  return self.params / self.bse\n",
      "/Users/ellerywulczyn/miniconda3/lib/python3.5/site-packages/scipy/stats/_distn_infrastructure.py:875: RuntimeWarning: invalid value encountered in greater\n",
      "  return (self.a < x) & (x < self.b)\n",
      "/Users/ellerywulczyn/miniconda3/lib/python3.5/site-packages/scipy/stats/_distn_infrastructure.py:875: RuntimeWarning: invalid value encountered in less\n",
      "  return (self.a < x) & (x < self.b)\n",
      "/Users/ellerywulczyn/miniconda3/lib/python3.5/site-packages/scipy/stats/_distn_infrastructure.py:1814: RuntimeWarning: invalid value encountered in less_equal\n",
      "  cond2 = cond0 & (x <= self.a)\n"
     ]
    },
    {
     "data": {
      "text/html": [
       "<table class=\"simpletable\">\n",
       "<tr>\n",
       "                    <td></td>                      <th>coef</th>     <th>std err</th>      <th>t</th>      <th>P>|t|</th> <th>[95.0% Conf. Int.]</th> \n",
       "</tr>\n",
       "<tr>\n",
       "  <th>Intercept</th>                            <td>   -0.3762</td> <td>    0.003</td> <td> -147.930</td> <td> 0.000</td> <td>   -0.381    -0.371</td>\n",
       "</tr>\n",
       "<tr>\n",
       "  <th>t1_num_days_active</th>                   <td>    0.3756</td> <td>    0.001</td> <td>  295.380</td> <td> 0.000</td> <td>    0.373     0.378</td>\n",
       "</tr>\n",
       "<tr>\n",
       "  <th>t1_num_aggression_received</th>           <td>   -0.3995</td> <td>    0.065</td> <td>   -6.124</td> <td> 0.000</td> <td>   -0.527    -0.272</td>\n",
       "</tr>\n",
       "<tr>\n",
       "  <th>is_female</th>                            <td>    0.3128</td> <td>    0.030</td> <td>   10.577</td> <td> 0.000</td> <td>    0.255     0.371</td>\n",
       "</tr>\n",
       "<tr>\n",
       "  <th>t1_num_aggression_received:is_female</th> <td>         0</td> <td>        0</td> <td>      nan</td> <td>   nan</td> <td>        0         0</td>\n",
       "</tr>\n",
       "</table>"
      ],
      "text/plain": [
       "<class 'statsmodels.iolib.table.SimpleTable'>"
      ]
     },
     "execution_count": 36,
     "metadata": {},
     "output_type": "execute_result"
    }
   ],
   "source": [
    "result = sm.ols(formula=\"t2_num_days_active ~ t1_num_days_active + t1_num_aggression_received * is_female\", data=df_reg3).fit()\n",
    "result.summary().tables[1]"
   ]
  },
  {
   "cell_type": "code",
   "execution_count": null,
   "metadata": {
    "collapsed": true
   },
   "outputs": [],
   "source": [
    "# only consider new comers whose edits in the first month were not reverted"
   ]
  }
 ],
 "metadata": {
  "anaconda-cloud": {},
  "kernelspec": {
   "display_name": "Python [default]",
   "language": "python",
   "name": "python3"
  },
  "language_info": {
   "codemirror_mode": {
    "name": "ipython",
    "version": 3
   },
   "file_extension": ".py",
   "mimetype": "text/x-python",
   "name": "python",
   "nbconvert_exporter": "python",
   "pygments_lexer": "ipython3",
   "version": "3.5.1"
  }
 },
 "nbformat": 4,
 "nbformat_minor": 0
}
