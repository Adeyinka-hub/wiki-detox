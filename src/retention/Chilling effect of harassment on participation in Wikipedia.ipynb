{
 "cells": [
  {
   "cell_type": "markdown",
   "metadata": {},
   "source": [
    "# Does harassment have a chilling effect on participation in Wikipedia?"
   ]
  },
  {
   "cell_type": "markdown",
   "metadata": {},
   "source": [
    "## Study Plan"
   ]
  },
  {
   "cell_type": "markdown",
   "metadata": {},
   "source": [
    "#### Establish correlation\n",
    "\n",
    "Short term effects:\n",
    "\n",
    "1. Take pairs of consecutive months. Regress 1{participation in month t2 is lower than in t1} on 1{ user experienced at least one attack in month t1}. Consider only taking one sample per user. Interpret coefficient.\n",
    "\n",
    "2. Regress count(edits in t2) on count(edits t1), count(attacks in t1). Consider only taking one sample per user. Interprest coefficient. Consider poisson regression.\n",
    "\n",
    "3. Add interaction terms: gender, topics, newness. Interpret interaction coefficients.\n",
    "\n",
    "4. Limit data to new users, who made no personal attacks before they were attacked\n",
    "\n",
    "5. Compare short term effects between new and experienced users\n",
    "\n",
    "6. compare effect across namespaces. Could be that you see increased particiapation in talk and decrease in main\n",
    "\n",
    "7. See if just participating in toxic discussion pages /articles makes you more likely to leave,  even if you don't recieve attacks on your talk page. As measures, consider edits to controversial topics/articles\n",
    "https://en.wikipedia.org/wiki/Wikipedia:List_of_controversial_issues\n",
    "https://en.wikipedia.org/wiki/Category:Wikipedia_controversial_topics\n",
    "or ranking pages by proportion and volume of toxic comments\n",
    "\n",
    "\n",
    "\n",
    "\n",
    "Long term effects (WIP)\n",
    "\n",
    "1. LSTM on count(edits in month t), count(attacks month t), count(attack in t1-t0). Start at month the user registered. Train on balance of users who have and who have not experienced harassment. Compare accuraccy on hold out of users broken down by whether they set have been attacked at least once, with and without attack features.  \n",
    "\n",
    "\n",
    "2. LSTM on inter-edit time interval. To measure impact: add random attacks to non-attacked users and see if inter edit time predictions increase?"
   ]
  },
  {
   "cell_type": "markdown",
   "metadata": {},
   "source": [
    "#### Establish causation (WIP)"
   ]
  },
  {
   "cell_type": "markdown",
   "metadata": {
    "collapsed": true
   },
   "source": [
    "## Code"
   ]
  },
  {
   "cell_type": "code",
   "execution_count": 1,
   "metadata": {
    "collapsed": true
   },
   "outputs": [],
   "source": [
    "% matplotlib inline\n",
    "import pandas as pd\n",
    "from dateutil.relativedelta import relativedelta\n",
    "import statsmodels.formula.api as sm"
   ]
  },
  {
   "cell_type": "markdown",
   "metadata": {},
   "source": [
    "### Load Data"
   ]
  },
  {
   "cell_type": "code",
   "execution_count": 3,
   "metadata": {
    "collapsed": false
   },
   "outputs": [],
   "source": [
    "# load scord diffs for 2015\n",
    "d1 = pd.read_csv(\"../../data/samples/user/scored/talk_diff_no_admin_2015.tsv\", \"\\t\")\n",
    "d1['ns'] = 'user'\n",
    "d2 = pd.read_csv(\"../../data/samples/article/scored/talk_diff_no_admin_2015.tsv\", \"\\t\")\n",
    "d2['ns'] = 'article'\n",
    "df_annotated = pd.concat([d1,d2])\n",
    "del df_annotated['clean_diff']\n",
    "df_annotated['timestamp'] = pd.to_datetime(df_annotated['rev_timestamp'])"
   ]
  },
  {
   "cell_type": "code",
   "execution_count": 4,
   "metadata": {
    "collapsed": true
   },
   "outputs": [],
   "source": [
    "# load edits per day for 2015\n",
    "df_edits = pd.read_csv(\"../../data/retention/daily_edit_counts.tsv\", \"\\t\")\n",
    "df_edits['timestamp'] = pd.to_datetime(df_edits['day'].apply(lambda x: str(x)))"
   ]
  },
  {
   "cell_type": "code",
   "execution_count": 5,
   "metadata": {
    "collapsed": true
   },
   "outputs": [],
   "source": [
    "# registration times of editors who made and edit in 2015\n",
    "df_registration = pd.read_csv(\"../../data/retention/user_registration.tsv\", \"\\t\")\n",
    "df_registration = df_registration.query(\"user_registration != 'null'\")\n",
    "ts = df_registration['user_registration'].apply(lambda x: str(x)[:8])\n",
    "df_registration['user_registration'] = pd.to_datetime(ts, format = '%Y%m%d')"
   ]
  },
  {
   "cell_type": "code",
   "execution_count": 6,
   "metadata": {
    "collapsed": true
   },
   "outputs": [],
   "source": [
    "# genders\n",
    "df_gender = pd.read_csv(\"../../data/genders.tsv\", \"\\t\")"
   ]
  },
  {
   "cell_type": "code",
   "execution_count": 7,
   "metadata": {
    "collapsed": false
   },
   "outputs": [],
   "source": [
    "# create df of consolidated user level features\n",
    "df_user = df_edits.drop_duplicates(subset = 'user_text')[['user_text']]\n",
    "df_user = df_user.merge(df_gender, on = 'user_text', how = \"left\")[['user_text', 'gender']]\n",
    "df_user['gender'] = df_user['gender'].fillna('unknown')\n",
    "df_user = df_user.merge(df_registration, on = 'user_text', how = \"inner\")[['user_text', 'gender', 'user_registration']]"
   ]
  },
  {
   "cell_type": "markdown",
   "metadata": {},
   "source": [
    "### Visualizations"
   ]
  },
  {
   "cell_type": "code",
   "execution_count": 8,
   "metadata": {
    "collapsed": false
   },
   "outputs": [
    {
     "data": {
      "text/plain": [
       "<matplotlib.axes._subplots.AxesSubplot at 0x189dfbcc0>"
      ]
     },
     "execution_count": 8,
     "metadata": {},
     "output_type": "execute_result"
    },
    {
     "data": {
      "image/png": "[encoded data removed]",
      "text/plain": [
       "<matplotlib.figure.Figure at 0x189dfb518>"
      ]
     },
     "metadata": {},
     "output_type": "display_data"
    }
   ],
   "source": [
    "# hist of edits in 2015 by month\n",
    "df_edits['timestamp'].hist()"
   ]
  },
  {
   "cell_type": "markdown",
   "metadata": {},
   "source": [
    "Edit counts appear fairly uniform across months"
   ]
  },
  {
   "cell_type": "code",
   "execution_count": 9,
   "metadata": {
    "collapsed": false
   },
   "outputs": [
    {
     "data": {
      "text/plain": [
       "<matplotlib.axes._subplots.AxesSubplot at 0x11da277f0>"
      ]
     },
     "execution_count": 9,
     "metadata": {},
     "output_type": "execute_result"
    },
    {
     "data": {
      "image/png": "[encoded data removed]",
      "text/plain": [
       "<matplotlib.figure.Figure at 0x11cc0e908>"
      ]
     },
     "metadata": {},
     "output_type": "display_data"
    }
   ],
   "source": [
    "# hist of user registration times of editors who made at least one edit in 2015\n",
    "df_user['user_registration'].hist()"
   ]
  },
  {
   "cell_type": "markdown",
   "metadata": {},
   "source": [
    "Most editors who made an edit in 2015 are newcomers!"
   ]
  },
  {
   "cell_type": "code",
   "execution_count": 10,
   "metadata": {
    "collapsed": false
   },
   "outputs": [
    {
     "data": {
      "text/plain": [
       "<matplotlib.axes._subplots.AxesSubplot at 0x11da54748>"
      ]
     },
     "execution_count": 10,
     "metadata": {},
     "output_type": "execute_result"
    },
    {
     "data": {
      "image/png": "[encoded data removed]",
      "text/plain": [
       "<matplotlib.figure.Figure at 0x11daba0b8>"
      ]
     },
     "metadata": {},
     "output_type": "display_data"
    }
   ],
   "source": [
    "# hist of edits in 2015 by month editor registered\n",
    "df_edits.merge(df_user, on = 'user_text')['user_registration'].hist()"
   ]
  },
  {
   "cell_type": "markdown",
   "metadata": {},
   "source": [
    "Wow, I did not expect that so many edits come from new users!"
   ]
  },
  {
   "cell_type": "code",
   "execution_count": 11,
   "metadata": {
    "collapsed": false
   },
   "outputs": [
    {
     "data": {
      "text/plain": [
       "<matplotlib.axes._subplots.AxesSubplot at 0x148657240>"
      ]
     },
     "execution_count": 11,
     "metadata": {},
     "output_type": "execute_result"
    },
    {
     "data": {
      "image/png": "[encoded data removed]",
      "text/plain": [
       "<matplotlib.figure.Figure at 0x11dac50f0>"
      ]
     },
     "metadata": {},
     "output_type": "display_data"
    }
   ],
   "source": [
    "# attacks made by registration date\n",
    "df_annotated.query(\"pred_attack_score_uncalibrated > 0.5\").merge(df_user, on = 'user_text')['user_registration'].hist()"
   ]
  },
  {
   "cell_type": "code",
   "execution_count": 12,
   "metadata": {
    "collapsed": false
   },
   "outputs": [
    {
     "data": {
      "text/plain": [
       "<matplotlib.axes._subplots.AxesSubplot at 0x11dae8be0>"
      ]
     },
     "execution_count": 12,
     "metadata": {},
     "output_type": "execute_result"
    },
    {
     "data": {
      "image/png": "[encoded data removed]",
      "text/plain": [
       "<matplotlib.figure.Figure at 0x11daf4278>"
      ]
     },
     "metadata": {},
     "output_type": "display_data"
    }
   ],
   "source": [
    "# attacks received by registration date\n",
    "df_annotated.query(\"pred_attack_score_uncalibrated > 0.5 and ns == 'user'\").merge(df_user, left_on = 'page_title', right_on = 'user_text')['user_registration'].hist()"
   ]
  },
  {
   "cell_type": "code",
   "execution_count": 13,
   "metadata": {
    "collapsed": false
   },
   "outputs": [
    {
     "data": {
      "text/plain": [
       "unknown    854446\n",
       "male        45597\n",
       "female       5421\n",
       "Name: gender, dtype: int64"
      ]
     },
     "execution_count": 13,
     "metadata": {},
     "output_type": "execute_result"
    }
   ],
   "source": [
    "df_user['gender'].value_counts()"
   ]
  },
  {
   "cell_type": "markdown",
   "metadata": {},
   "source": [
    "### Reformat Data"
   ]
  },
  {
   "cell_type": "code",
   "execution_count": 14,
   "metadata": {
    "collapsed": false
   },
   "outputs": [],
   "source": [
    "# map data frames into dictionaries keyed by user\n",
    "def gb_to_dict(gb):\n",
    "    return { i:k for i,k in gb}\n",
    "\n",
    "df_annotated_user_text_groups = gb_to_dict(df_annotated.groupby(\"user_text\"))\n",
    "df_annotated_page_title_groups =  gb_to_dict(df_annotated.query(\"ns == 'user'\").groupby(\"page_title\"))\n",
    "df_edits_groups =  gb_to_dict(df_edits.groupby(\"user_text\"))\n",
    "df_user_groups =  gb_to_dict(df_user.groupby(\"user_text\"))"
   ]
  },
  {
   "cell_type": "code",
   "execution_count": 15,
   "metadata": {
    "collapsed": true
   },
   "outputs": [],
   "source": [
    "# collect User objects \n",
    "class User():\n",
    "    def __init__(self, user_text, df_annotated_user_text_groups, df_annotated_page_title_groups, df_edits_groups, df_user_groups):\n",
    "        self.user_text = user_text\n",
    "        self.df_activity =  df_edits_groups.get(user_text, None)\n",
    "        self.df_comments_made =  df_annotated_user_text_groups.get(user_text, None)\n",
    "        self.df_comments_received = df_annotated_page_title_groups.get(user_text, None)\n",
    "        if self.df_comments_received is not None:\n",
    "            self.df_comments_received = self.df_comments_received.query(\"ns == 'user' and user_text != page_title\")\n",
    "        self.gender = df_user_groups[user_text]['gender'].iloc[0]\n",
    "        self.user_registration = df_user_groups[user_text]['user_registration'].iloc[0]"
   ]
  },
  {
   "cell_type": "markdown",
   "metadata": {},
   "source": [
    "### RQ1: Does being harassed in the first month make newcomers less likely to make edits in the second month?"
   ]
  },
  {
   "cell_type": "markdown",
   "metadata": {},
   "source": [
    "#### Select newcomer sample"
   ]
  },
  {
   "cell_type": "code",
   "execution_count": 16,
   "metadata": {
    "collapsed": false
   },
   "outputs": [
    {
     "name": "stdout",
     "output_type": "stream",
     "text": [
      "Total New Users:  459948\n"
     ]
    },
    {
     "ename": "NameError",
     "evalue": "name 'threshold' is not defined",
     "output_type": "error",
     "traceback": [
      "\u001b[0;31m---------------------------------------------------------------------------\u001b[0m",
      "\u001b[0;31mNameError\u001b[0m                                 Traceback (most recent call last)",
      "\u001b[0;32m<ipython-input-16-8933620c1feb>\u001b[0m in \u001b[0;36m<module>\u001b[0;34m()\u001b[0m\n\u001b[1;32m      8\u001b[0m \u001b[0mprint\u001b[0m\u001b[0;34m(\u001b[0m\u001b[0;34m\"Total New Users: \"\u001b[0m\u001b[0;34m,\u001b[0m \u001b[0mnew_user_texts\u001b[0m\u001b[0;34m.\u001b[0m\u001b[0mshape\u001b[0m\u001b[0;34m[\u001b[0m\u001b[0;36m0\u001b[0m\u001b[0;34m]\u001b[0m\u001b[0;34m)\u001b[0m\u001b[0;34m\u001b[0m\u001b[0m\n\u001b[1;32m      9\u001b[0m \u001b[0;34m\u001b[0m\u001b[0m\n\u001b[0;32m---> 10\u001b[0;31m \u001b[0mdf_bad_comments\u001b[0m \u001b[0;34m=\u001b[0m \u001b[0mdf_annotated\u001b[0m\u001b[0;34m.\u001b[0m\u001b[0mquery\u001b[0m\u001b[0;34m(\u001b[0m\u001b[0;34m\"pred_attack_score_uncalibrated > %f or pred_aggression_score_uncalibrated > %f\"\u001b[0m \u001b[0;34m%\u001b[0m \u001b[0;34m(\u001b[0m\u001b[0mthreshold\u001b[0m\u001b[0;34m,\u001b[0m \u001b[0mthreshold\u001b[0m\u001b[0;34m)\u001b[0m\u001b[0;34m)\u001b[0m\u001b[0;34m\u001b[0m\u001b[0m\n\u001b[0m\u001b[1;32m     11\u001b[0m \u001b[0mattacked_users\u001b[0m \u001b[0;34m=\u001b[0m \u001b[0mdf_bad_comments\u001b[0m\u001b[0;34m.\u001b[0m\u001b[0mquery\u001b[0m\u001b[0;34m(\u001b[0m\u001b[0;34m\"ns == 'user' and user_text != page_title\"\u001b[0m\u001b[0;34m)\u001b[0m\u001b[0;34m.\u001b[0m\u001b[0mdrop_duplicates\u001b[0m\u001b[0;34m(\u001b[0m\u001b[0;34m[\u001b[0m\u001b[0;34m'page_title'\u001b[0m\u001b[0;34m]\u001b[0m\u001b[0;34m)\u001b[0m\u001b[0;34m\u001b[0m\u001b[0m\n\u001b[1;32m     12\u001b[0m \u001b[0mattacked_users\u001b[0m \u001b[0;34m=\u001b[0m \u001b[0mattacked_users\u001b[0m\u001b[0;34m[\u001b[0m\u001b[0;34m[\u001b[0m\u001b[0;34m'page_title'\u001b[0m\u001b[0;34m]\u001b[0m\u001b[0;34m]\u001b[0m\u001b[0;34m\u001b[0m\u001b[0m\n",
      "\u001b[0;31mNameError\u001b[0m: name 'threshold' is not defined"
     ]
    }
   ],
   "source": [
    "# select subset of users to regress on, only consider new comers who registered between Jan and Oct\n",
    "# combine a random sample of newcomers with all newcomers who got attacked \n",
    "n_random = 1000\n",
    "\n",
    "new_user_texts = df_user.query(\"user_registration >= '2015-01-01'\")\n",
    "new_user_texts = new_user_texts.query(\"user_registration <= '2015-10-01'\")\n",
    "new_user_texts = new_user_texts[['user_text']]\n",
    "print(\"Total New Users: \", new_user_texts.shape[0])\n",
    "\n",
    "df_bad_comments = df_annotated.query(\"pred_attack_score_uncalibrated > %f or pred_aggression_score_uncalibrated > %f\" % (threshold, threshold))\n",
    "attacked_users = df_bad_comments.query(\"ns == 'user' and user_text != page_title\").drop_duplicates(['page_title'])\n",
    "attacked_users = attacked_users[['page_title']]\n",
    "new_attacked_users = attacked_users.merge(new_user_texts, right_on = 'user_text', left_on = 'page_title')[['user_text']]\n",
    "print(\"Total New Harrassed Users: \", new_attacked_users.shape[0])\n",
    "\n",
    "\n",
    "random_new_user_texts_sample = new_user_texts.sample(n_random)\n",
    "\n",
    "new_user_texts_sample = pd.concat([random_new_user_texts_sample, new_attacked_users])['user_text']\n",
    "\n",
    "user_objects = [User( user_text,\n",
    "                      df_annotated_user_text_groups,\n",
    "                      df_annotated_page_title_groups,\n",
    "                      df_edits_groups,\n",
    "                      df_user_groups) \n",
    "                for user_text in new_user_texts_sample]\n",
    "\n",
    "len(user_objects)"
   ]
  },
  {
   "cell_type": "markdown",
   "metadata": {},
   "source": [
    "#### Feature extraction"
   ]
  },
  {
   "cell_type": "code",
   "execution_count": 150,
   "metadata": {
    "collapsed": false
   },
   "outputs": [
    {
     "data": {
      "text/plain": [
       "(1709, 11)"
      ]
     },
     "execution_count": 150,
     "metadata": {},
     "output_type": "execute_result"
    }
   ],
   "source": [
    "def select_timespan(user,  activity, t):\n",
    "    start = user.user_registration + relativedelta(months=(t-1))\n",
    "    stop = user.user_registration + relativedelta(months= t)\n",
    "    activity = activity[activity['timestamp'] < stop]\n",
    "    activity = activity[activity['timestamp'] >= start]\n",
    "    return activity\n",
    "\n",
    "def count_edits(user, t):\n",
    "    activity = user.df_activity\n",
    "    activity = select_timespan(user,  activity, t)\n",
    "    return activity['n'].sum()\n",
    "\n",
    "def count_days_active(user, t):\n",
    "    activity = user.df_activity\n",
    "    activity = select_timespan(user,  activity, t)\n",
    "    return len(activity.timestamp.unique())\n",
    "\n",
    "def count_score_received_above_threshold(user, score, threshold, t):\n",
    "    if user.df_comments_received is None:\n",
    "        return 0\n",
    "    \n",
    "    comments = user.df_comments_received\n",
    "    comments = select_timespan(user,  comments, t)\n",
    "    return (comments[score] > threshold).sum()\n",
    "\n",
    "def count_score_made_above_threshold(user, score, threshold, t):\n",
    "    if user.df_comments_made is None:\n",
    "        return 0\n",
    "    \n",
    "    comments = user.df_comments_made\n",
    "    comments = select_timespan(user,  comments, t)\n",
    "    return (comments[score] > threshold).sum()\n",
    "\n",
    "def is_female(u):\n",
    "    return u.gender == 'female'\n",
    "\n",
    "def is_male(u):\n",
    "    return u.gender == 'male'\n",
    "\n",
    "threshold  = 0.425\n",
    "df_reg = pd.DataFrame({\n",
    "        'user_text' : [u.user_text for u in user_objects],\n",
    "        'is_female' : [is_female(u) for u in user_objects],\n",
    "        'is_male' : [is_male(u) for u in user_objects],\n",
    "        't1_num_edits' : [count_edits(u, 1) for u in user_objects],\n",
    "        't2_num_edits' : [count_edits(u, 2) for u in user_objects],\n",
    "        't1_num_days_active' : [count_days_active(u, 1) for u in user_objects],\n",
    "        't2_num_days_active' : [count_days_active(u, 2) for u in user_objects],\n",
    "        't1_num_attacks_received' : [count_score_received_above_threshold(u, 'pred_attack_score_uncalibrated',  threshold, 1) for u in user_objects],\n",
    "        't1_num_aggression_received' : [count_score_received_above_threshold(u,  'pred_aggression_score_uncalibrated',  threshold, 1) for u in user_objects],\n",
    "        't1_num_attacks_made' : [count_score_made_above_threshold(u, 'pred_attack_score_uncalibrated',  threshold, 1) for u in user_objects],\n",
    "        't1_num_aggresssion_made': [count_score_made_above_threshold(u,  'pred_aggression_score_uncalibrated',  threshold, 1) for u in user_objects],\n",
    "    })\n",
    "\n",
    "df_reg.shape"
   ]
  },
  {
   "cell_type": "code",
   "execution_count": 151,
   "metadata": {
    "collapsed": false
   },
   "outputs": [
    {
     "data": {
      "text/plain": [
       "(1709, 15)"
      ]
     },
     "execution_count": 151,
     "metadata": {},
     "output_type": "execute_result"
    }
   ],
   "source": [
    "df_reg['t1_active'] = df_reg['t1_num_edits'] > 0\n",
    "df_reg['t2_active'] = df_reg['t2_num_edits'] > 0\n",
    "df_reg['t1_harassment_received'] = (df_reg['t1_num_attacks_received'] > 0) | (df_reg['t1_num_aggression_received'] > 0)\n",
    "df_reg['t1_harassment_made'] = (df_reg['t1_num_attacks_made'] > 0) | (df_reg['t1_num_aggresssion_made'] > 0)\n",
    "df_reg.shape"
   ]
  },
  {
   "cell_type": "code",
   "execution_count": 152,
   "metadata": {
    "collapsed": false
   },
   "outputs": [
    {
     "data": {
      "text/html": [
       "<div>\n",
       "<table border=\"1\" class=\"dataframe\">\n",
       "  <thead>\n",
       "    <tr style=\"text-align: right;\">\n",
       "      <th></th>\n",
       "      <th>is_female</th>\n",
       "      <th>is_male</th>\n",
       "      <th>t1_num_aggression_received</th>\n",
       "      <th>t1_num_aggresssion_made</th>\n",
       "      <th>t1_num_attacks_made</th>\n",
       "      <th>t1_num_attacks_received</th>\n",
       "      <th>t1_num_days_active</th>\n",
       "      <th>t1_num_edits</th>\n",
       "      <th>t2_num_days_active</th>\n",
       "      <th>t2_num_edits</th>\n",
       "      <th>user_text</th>\n",
       "      <th>t1_active</th>\n",
       "      <th>t2_active</th>\n",
       "      <th>t1_harassment_received</th>\n",
       "      <th>t1_harassment_made</th>\n",
       "    </tr>\n",
       "  </thead>\n",
       "  <tbody>\n",
       "    <tr>\n",
       "      <th>0</th>\n",
       "      <td>False</td>\n",
       "      <td>False</td>\n",
       "      <td>0</td>\n",
       "      <td>0</td>\n",
       "      <td>0</td>\n",
       "      <td>0</td>\n",
       "      <td>1</td>\n",
       "      <td>1</td>\n",
       "      <td>0</td>\n",
       "      <td>0</td>\n",
       "      <td>Coonass5639</td>\n",
       "      <td>True</td>\n",
       "      <td>False</td>\n",
       "      <td>False</td>\n",
       "      <td>False</td>\n",
       "    </tr>\n",
       "    <tr>\n",
       "      <th>1</th>\n",
       "      <td>False</td>\n",
       "      <td>False</td>\n",
       "      <td>0</td>\n",
       "      <td>0</td>\n",
       "      <td>0</td>\n",
       "      <td>0</td>\n",
       "      <td>1</td>\n",
       "      <td>1</td>\n",
       "      <td>0</td>\n",
       "      <td>0</td>\n",
       "      <td>Webdynamika</td>\n",
       "      <td>True</td>\n",
       "      <td>False</td>\n",
       "      <td>False</td>\n",
       "      <td>False</td>\n",
       "    </tr>\n",
       "    <tr>\n",
       "      <th>2</th>\n",
       "      <td>False</td>\n",
       "      <td>False</td>\n",
       "      <td>0</td>\n",
       "      <td>0</td>\n",
       "      <td>0</td>\n",
       "      <td>0</td>\n",
       "      <td>1</td>\n",
       "      <td>4</td>\n",
       "      <td>0</td>\n",
       "      <td>0</td>\n",
       "      <td>Jefland2003</td>\n",
       "      <td>True</td>\n",
       "      <td>False</td>\n",
       "      <td>False</td>\n",
       "      <td>False</td>\n",
       "    </tr>\n",
       "    <tr>\n",
       "      <th>3</th>\n",
       "      <td>False</td>\n",
       "      <td>False</td>\n",
       "      <td>0</td>\n",
       "      <td>0</td>\n",
       "      <td>0</td>\n",
       "      <td>0</td>\n",
       "      <td>1</td>\n",
       "      <td>2</td>\n",
       "      <td>0</td>\n",
       "      <td>0</td>\n",
       "      <td>Rasheed jaber</td>\n",
       "      <td>True</td>\n",
       "      <td>False</td>\n",
       "      <td>False</td>\n",
       "      <td>False</td>\n",
       "    </tr>\n",
       "    <tr>\n",
       "      <th>4</th>\n",
       "      <td>False</td>\n",
       "      <td>False</td>\n",
       "      <td>0</td>\n",
       "      <td>0</td>\n",
       "      <td>0</td>\n",
       "      <td>0</td>\n",
       "      <td>1</td>\n",
       "      <td>2</td>\n",
       "      <td>0</td>\n",
       "      <td>0</td>\n",
       "      <td>Glorious Japan Forever VI</td>\n",
       "      <td>True</td>\n",
       "      <td>False</td>\n",
       "      <td>False</td>\n",
       "      <td>False</td>\n",
       "    </tr>\n",
       "  </tbody>\n",
       "</table>\n",
       "</div>"
      ],
      "text/plain": [
       "  is_female is_male  t1_num_aggression_received  t1_num_aggresssion_made  \\\n",
       "0     False   False                           0                        0   \n",
       "1     False   False                           0                        0   \n",
       "2     False   False                           0                        0   \n",
       "3     False   False                           0                        0   \n",
       "4     False   False                           0                        0   \n",
       "\n",
       "   t1_num_attacks_made  t1_num_attacks_received  t1_num_days_active  \\\n",
       "0                    0                        0                   1   \n",
       "1                    0                        0                   1   \n",
       "2                    0                        0                   1   \n",
       "3                    0                        0                   1   \n",
       "4                    0                        0                   1   \n",
       "\n",
       "   t1_num_edits  t2_num_days_active  t2_num_edits                  user_text  \\\n",
       "0             1                   0             0                Coonass5639   \n",
       "1             1                   0             0                Webdynamika   \n",
       "2             4                   0             0                Jefland2003   \n",
       "3             2                   0             0              Rasheed jaber   \n",
       "4             2                   0             0  Glorious Japan Forever VI   \n",
       "\n",
       "  t1_active t2_active t1_harassment_received t1_harassment_made  \n",
       "0      True     False                  False              False  \n",
       "1      True     False                  False              False  \n",
       "2      True     False                  False              False  \n",
       "3      True     False                  False              False  \n",
       "4      True     False                  False              False  "
      ]
     },
     "execution_count": 152,
     "metadata": {},
     "output_type": "execute_result"
    }
   ],
   "source": [
    "df_reg.head()"
   ]
  },
  {
   "cell_type": "code",
   "execution_count": 153,
   "metadata": {
    "collapsed": false
   },
   "outputs": [],
   "source": [
    "df_reg.index = df_reg.user_text\n",
    "del df_reg['user_text']\n",
    "df_reg = df_reg.astype(int)\n",
    "print(df_reg.shape[0])"
   ]
  },
  {
   "cell_type": "code",
   "execution_count": 159,
   "metadata": {
    "collapsed": false
   },
   "outputs": [
    {
     "name": "stdout",
     "output_type": "stream",
     "text": [
      "1560\n"
     ]
    }
   ],
   "source": [
    "# only consider friendly users who made at least one edit in the first month afer registering\n",
    "df_reg2 = df_reg.query('t1_active ==1 and t1_harassment_made == 0')\n",
    "print(df_reg2.shape[0])"
   ]
  },
  {
   "cell_type": "code",
   "execution_count": 160,
   "metadata": {
    "collapsed": false
   },
   "outputs": [
    {
     "name": "stdout",
     "output_type": "stream",
     "text": [
      "1499\n"
     ]
    }
   ],
   "source": [
    "# remove outliers\n",
    "df_reg3 = df_reg2.query('t1_num_edits < 200 and t2_num_edits < 200')\n",
    "print(df_reg3.shape[0])"
   ]
  },
  {
   "cell_type": "markdown",
   "metadata": {},
   "source": [
    "#### Modeling"
   ]
  },
  {
   "cell_type": "code",
   "execution_count": 161,
   "metadata": {
    "collapsed": false
   },
   "outputs": [
    {
     "data": {
      "text/html": [
       "<div>\n",
       "<table border=\"1\" class=\"dataframe\">\n",
       "  <thead>\n",
       "    <tr style=\"text-align: right;\">\n",
       "      <th></th>\n",
       "      <th>is_female</th>\n",
       "      <th>is_male</th>\n",
       "      <th>t1_num_aggression_received</th>\n",
       "      <th>t1_num_aggresssion_made</th>\n",
       "      <th>t1_num_attacks_made</th>\n",
       "      <th>t1_num_attacks_received</th>\n",
       "      <th>t1_num_days_active</th>\n",
       "      <th>t1_num_edits</th>\n",
       "      <th>t2_num_days_active</th>\n",
       "      <th>t2_num_edits</th>\n",
       "      <th>t1_active</th>\n",
       "      <th>t2_active</th>\n",
       "      <th>t1_harassment_received</th>\n",
       "      <th>t1_harassment_made</th>\n",
       "    </tr>\n",
       "  </thead>\n",
       "  <tbody>\n",
       "    <tr>\n",
       "      <th>count</th>\n",
       "      <td>1709.000000</td>\n",
       "      <td>1709.000000</td>\n",
       "      <td>1709.000000</td>\n",
       "      <td>1709.000000</td>\n",
       "      <td>1709.000000</td>\n",
       "      <td>1709.000000</td>\n",
       "      <td>1709.000000</td>\n",
       "      <td>1709.000000</td>\n",
       "      <td>1709.000000</td>\n",
       "      <td>1709.000000</td>\n",
       "      <td>1709.000000</td>\n",
       "      <td>1709.000000</td>\n",
       "      <td>1709.000000</td>\n",
       "      <td>1709.000000</td>\n",
       "    </tr>\n",
       "    <tr>\n",
       "      <th>mean</th>\n",
       "      <td>0.012873</td>\n",
       "      <td>0.042715</td>\n",
       "      <td>0.322996</td>\n",
       "      <td>0.103569</td>\n",
       "      <td>0.087185</td>\n",
       "      <td>0.176712</td>\n",
       "      <td>3.229959</td>\n",
       "      <td>41.787595</td>\n",
       "      <td>1.441194</td>\n",
       "      <td>29.634874</td>\n",
       "      <td>0.956700</td>\n",
       "      <td>0.191340</td>\n",
       "      <td>0.292569</td>\n",
       "      <td>0.043885</td>\n",
       "    </tr>\n",
       "    <tr>\n",
       "      <th>std</th>\n",
       "      <td>0.112760</td>\n",
       "      <td>0.202273</td>\n",
       "      <td>0.610077</td>\n",
       "      <td>0.861167</td>\n",
       "      <td>0.785558</td>\n",
       "      <td>0.520445</td>\n",
       "      <td>4.927972</td>\n",
       "      <td>183.070944</td>\n",
       "      <td>4.738807</td>\n",
       "      <td>222.914727</td>\n",
       "      <td>0.203592</td>\n",
       "      <td>0.393471</td>\n",
       "      <td>0.455075</td>\n",
       "      <td>0.204900</td>\n",
       "    </tr>\n",
       "    <tr>\n",
       "      <th>min</th>\n",
       "      <td>0.000000</td>\n",
       "      <td>0.000000</td>\n",
       "      <td>0.000000</td>\n",
       "      <td>0.000000</td>\n",
       "      <td>0.000000</td>\n",
       "      <td>0.000000</td>\n",
       "      <td>0.000000</td>\n",
       "      <td>0.000000</td>\n",
       "      <td>0.000000</td>\n",
       "      <td>0.000000</td>\n",
       "      <td>0.000000</td>\n",
       "      <td>0.000000</td>\n",
       "      <td>0.000000</td>\n",
       "      <td>0.000000</td>\n",
       "    </tr>\n",
       "    <tr>\n",
       "      <th>25%</th>\n",
       "      <td>0.000000</td>\n",
       "      <td>0.000000</td>\n",
       "      <td>0.000000</td>\n",
       "      <td>0.000000</td>\n",
       "      <td>0.000000</td>\n",
       "      <td>0.000000</td>\n",
       "      <td>1.000000</td>\n",
       "      <td>1.000000</td>\n",
       "      <td>0.000000</td>\n",
       "      <td>0.000000</td>\n",
       "      <td>1.000000</td>\n",
       "      <td>0.000000</td>\n",
       "      <td>0.000000</td>\n",
       "      <td>0.000000</td>\n",
       "    </tr>\n",
       "    <tr>\n",
       "      <th>50%</th>\n",
       "      <td>0.000000</td>\n",
       "      <td>0.000000</td>\n",
       "      <td>0.000000</td>\n",
       "      <td>0.000000</td>\n",
       "      <td>0.000000</td>\n",
       "      <td>0.000000</td>\n",
       "      <td>1.000000</td>\n",
       "      <td>3.000000</td>\n",
       "      <td>0.000000</td>\n",
       "      <td>0.000000</td>\n",
       "      <td>1.000000</td>\n",
       "      <td>0.000000</td>\n",
       "      <td>0.000000</td>\n",
       "      <td>0.000000</td>\n",
       "    </tr>\n",
       "    <tr>\n",
       "      <th>75%</th>\n",
       "      <td>0.000000</td>\n",
       "      <td>0.000000</td>\n",
       "      <td>1.000000</td>\n",
       "      <td>0.000000</td>\n",
       "      <td>0.000000</td>\n",
       "      <td>0.000000</td>\n",
       "      <td>3.000000</td>\n",
       "      <td>15.000000</td>\n",
       "      <td>0.000000</td>\n",
       "      <td>0.000000</td>\n",
       "      <td>1.000000</td>\n",
       "      <td>0.000000</td>\n",
       "      <td>1.000000</td>\n",
       "      <td>0.000000</td>\n",
       "    </tr>\n",
       "    <tr>\n",
       "      <th>max</th>\n",
       "      <td>1.000000</td>\n",
       "      <td>1.000000</td>\n",
       "      <td>10.000000</td>\n",
       "      <td>24.000000</td>\n",
       "      <td>21.000000</td>\n",
       "      <td>10.000000</td>\n",
       "      <td>31.000000</td>\n",
       "      <td>3079.000000</td>\n",
       "      <td>31.000000</td>\n",
       "      <td>6432.000000</td>\n",
       "      <td>1.000000</td>\n",
       "      <td>1.000000</td>\n",
       "      <td>1.000000</td>\n",
       "      <td>1.000000</td>\n",
       "    </tr>\n",
       "  </tbody>\n",
       "</table>\n",
       "</div>"
      ],
      "text/plain": [
       "         is_female      is_male  t1_num_aggression_received  \\\n",
       "count  1709.000000  1709.000000                 1709.000000   \n",
       "mean      0.012873     0.042715                    0.322996   \n",
       "std       0.112760     0.202273                    0.610077   \n",
       "min       0.000000     0.000000                    0.000000   \n",
       "25%       0.000000     0.000000                    0.000000   \n",
       "50%       0.000000     0.000000                    0.000000   \n",
       "75%       0.000000     0.000000                    1.000000   \n",
       "max       1.000000     1.000000                   10.000000   \n",
       "\n",
       "       t1_num_aggresssion_made  t1_num_attacks_made  t1_num_attacks_received  \\\n",
       "count              1709.000000          1709.000000              1709.000000   \n",
       "mean                  0.103569             0.087185                 0.176712   \n",
       "std                   0.861167             0.785558                 0.520445   \n",
       "min                   0.000000             0.000000                 0.000000   \n",
       "25%                   0.000000             0.000000                 0.000000   \n",
       "50%                   0.000000             0.000000                 0.000000   \n",
       "75%                   0.000000             0.000000                 0.000000   \n",
       "max                  24.000000            21.000000                10.000000   \n",
       "\n",
       "       t1_num_days_active  t1_num_edits  t2_num_days_active  t2_num_edits  \\\n",
       "count         1709.000000   1709.000000         1709.000000   1709.000000   \n",
       "mean             3.229959     41.787595            1.441194     29.634874   \n",
       "std              4.927972    183.070944            4.738807    222.914727   \n",
       "min              0.000000      0.000000            0.000000      0.000000   \n",
       "25%              1.000000      1.000000            0.000000      0.000000   \n",
       "50%              1.000000      3.000000            0.000000      0.000000   \n",
       "75%              3.000000     15.000000            0.000000      0.000000   \n",
       "max             31.000000   3079.000000           31.000000   6432.000000   \n",
       "\n",
       "         t1_active    t2_active  t1_harassment_received  t1_harassment_made  \n",
       "count  1709.000000  1709.000000             1709.000000         1709.000000  \n",
       "mean      0.956700     0.191340                0.292569            0.043885  \n",
       "std       0.203592     0.393471                0.455075            0.204900  \n",
       "min       0.000000     0.000000                0.000000            0.000000  \n",
       "25%       1.000000     0.000000                0.000000            0.000000  \n",
       "50%       1.000000     0.000000                0.000000            0.000000  \n",
       "75%       1.000000     0.000000                1.000000            0.000000  \n",
       "max       1.000000     1.000000                1.000000            1.000000  "
      ]
     },
     "execution_count": 161,
     "metadata": {},
     "output_type": "execute_result"
    }
   ],
   "source": [
    "df_reg.describe()"
   ]
  },
  {
   "cell_type": "code",
   "execution_count": 162,
   "metadata": {
    "collapsed": false
   },
   "outputs": [
    {
     "data": {
      "text/html": [
       "<div>\n",
       "<table border=\"1\" class=\"dataframe\">\n",
       "  <thead>\n",
       "    <tr style=\"text-align: right;\">\n",
       "      <th></th>\n",
       "      <th>is_female</th>\n",
       "      <th>is_male</th>\n",
       "      <th>t1_num_aggression_received</th>\n",
       "      <th>t1_num_aggresssion_made</th>\n",
       "      <th>t1_num_attacks_made</th>\n",
       "      <th>t1_num_attacks_received</th>\n",
       "      <th>t1_num_days_active</th>\n",
       "      <th>t1_num_edits</th>\n",
       "      <th>t2_num_days_active</th>\n",
       "      <th>t2_num_edits</th>\n",
       "      <th>t1_active</th>\n",
       "      <th>t2_active</th>\n",
       "      <th>t1_harassment_received</th>\n",
       "      <th>t1_harassment_made</th>\n",
       "    </tr>\n",
       "  </thead>\n",
       "  <tbody>\n",
       "    <tr>\n",
       "      <th>count</th>\n",
       "      <td>1560.000000</td>\n",
       "      <td>1560.000000</td>\n",
       "      <td>1560.000000</td>\n",
       "      <td>1560.0</td>\n",
       "      <td>1560.0</td>\n",
       "      <td>1560.000000</td>\n",
       "      <td>1560.000000</td>\n",
       "      <td>1560.000000</td>\n",
       "      <td>1560.000000</td>\n",
       "      <td>1560.000000</td>\n",
       "      <td>1560.0</td>\n",
       "      <td>1560.000000</td>\n",
       "      <td>1560.000000</td>\n",
       "      <td>1560.0</td>\n",
       "    </tr>\n",
       "    <tr>\n",
       "      <th>mean</th>\n",
       "      <td>0.011538</td>\n",
       "      <td>0.040385</td>\n",
       "      <td>0.294231</td>\n",
       "      <td>0.0</td>\n",
       "      <td>0.0</td>\n",
       "      <td>0.146154</td>\n",
       "      <td>3.105769</td>\n",
       "      <td>34.592308</td>\n",
       "      <td>1.360256</td>\n",
       "      <td>27.835256</td>\n",
       "      <td>1.0</td>\n",
       "      <td>0.180128</td>\n",
       "      <td>0.280769</td>\n",
       "      <td>0.0</td>\n",
       "    </tr>\n",
       "    <tr>\n",
       "      <th>std</th>\n",
       "      <td>0.106830</td>\n",
       "      <td>0.196923</td>\n",
       "      <td>0.512792</td>\n",
       "      <td>0.0</td>\n",
       "      <td>0.0</td>\n",
       "      <td>0.408910</td>\n",
       "      <td>4.595613</td>\n",
       "      <td>159.088808</td>\n",
       "      <td>4.532509</td>\n",
       "      <td>225.479346</td>\n",
       "      <td>0.0</td>\n",
       "      <td>0.384417</td>\n",
       "      <td>0.449519</td>\n",
       "      <td>0.0</td>\n",
       "    </tr>\n",
       "    <tr>\n",
       "      <th>min</th>\n",
       "      <td>0.000000</td>\n",
       "      <td>0.000000</td>\n",
       "      <td>0.000000</td>\n",
       "      <td>0.0</td>\n",
       "      <td>0.0</td>\n",
       "      <td>0.000000</td>\n",
       "      <td>1.000000</td>\n",
       "      <td>1.000000</td>\n",
       "      <td>0.000000</td>\n",
       "      <td>0.000000</td>\n",
       "      <td>1.0</td>\n",
       "      <td>0.000000</td>\n",
       "      <td>0.000000</td>\n",
       "      <td>0.0</td>\n",
       "    </tr>\n",
       "    <tr>\n",
       "      <th>25%</th>\n",
       "      <td>0.000000</td>\n",
       "      <td>0.000000</td>\n",
       "      <td>0.000000</td>\n",
       "      <td>0.0</td>\n",
       "      <td>0.0</td>\n",
       "      <td>0.000000</td>\n",
       "      <td>1.000000</td>\n",
       "      <td>1.000000</td>\n",
       "      <td>0.000000</td>\n",
       "      <td>0.000000</td>\n",
       "      <td>1.0</td>\n",
       "      <td>0.000000</td>\n",
       "      <td>0.000000</td>\n",
       "      <td>0.0</td>\n",
       "    </tr>\n",
       "    <tr>\n",
       "      <th>50%</th>\n",
       "      <td>0.000000</td>\n",
       "      <td>0.000000</td>\n",
       "      <td>0.000000</td>\n",
       "      <td>0.0</td>\n",
       "      <td>0.0</td>\n",
       "      <td>0.000000</td>\n",
       "      <td>1.000000</td>\n",
       "      <td>3.000000</td>\n",
       "      <td>0.000000</td>\n",
       "      <td>0.000000</td>\n",
       "      <td>1.0</td>\n",
       "      <td>0.000000</td>\n",
       "      <td>0.000000</td>\n",
       "      <td>0.0</td>\n",
       "    </tr>\n",
       "    <tr>\n",
       "      <th>75%</th>\n",
       "      <td>0.000000</td>\n",
       "      <td>0.000000</td>\n",
       "      <td>1.000000</td>\n",
       "      <td>0.0</td>\n",
       "      <td>0.0</td>\n",
       "      <td>0.000000</td>\n",
       "      <td>3.000000</td>\n",
       "      <td>14.000000</td>\n",
       "      <td>0.000000</td>\n",
       "      <td>0.000000</td>\n",
       "      <td>1.0</td>\n",
       "      <td>0.000000</td>\n",
       "      <td>1.000000</td>\n",
       "      <td>0.0</td>\n",
       "    </tr>\n",
       "    <tr>\n",
       "      <th>max</th>\n",
       "      <td>1.000000</td>\n",
       "      <td>1.000000</td>\n",
       "      <td>5.000000</td>\n",
       "      <td>0.0</td>\n",
       "      <td>0.0</td>\n",
       "      <td>5.000000</td>\n",
       "      <td>31.000000</td>\n",
       "      <td>3079.000000</td>\n",
       "      <td>31.000000</td>\n",
       "      <td>6432.000000</td>\n",
       "      <td>1.0</td>\n",
       "      <td>1.000000</td>\n",
       "      <td>1.000000</td>\n",
       "      <td>0.0</td>\n",
       "    </tr>\n",
       "  </tbody>\n",
       "</table>\n",
       "</div>"
      ],
      "text/plain": [
       "         is_female      is_male  t1_num_aggression_received  \\\n",
       "count  1560.000000  1560.000000                 1560.000000   \n",
       "mean      0.011538     0.040385                    0.294231   \n",
       "std       0.106830     0.196923                    0.512792   \n",
       "min       0.000000     0.000000                    0.000000   \n",
       "25%       0.000000     0.000000                    0.000000   \n",
       "50%       0.000000     0.000000                    0.000000   \n",
       "75%       0.000000     0.000000                    1.000000   \n",
       "max       1.000000     1.000000                    5.000000   \n",
       "\n",
       "       t1_num_aggresssion_made  t1_num_attacks_made  t1_num_attacks_received  \\\n",
       "count                   1560.0               1560.0              1560.000000   \n",
       "mean                       0.0                  0.0                 0.146154   \n",
       "std                        0.0                  0.0                 0.408910   \n",
       "min                        0.0                  0.0                 0.000000   \n",
       "25%                        0.0                  0.0                 0.000000   \n",
       "50%                        0.0                  0.0                 0.000000   \n",
       "75%                        0.0                  0.0                 0.000000   \n",
       "max                        0.0                  0.0                 5.000000   \n",
       "\n",
       "       t1_num_days_active  t1_num_edits  t2_num_days_active  t2_num_edits  \\\n",
       "count         1560.000000   1560.000000         1560.000000   1560.000000   \n",
       "mean             3.105769     34.592308            1.360256     27.835256   \n",
       "std              4.595613    159.088808            4.532509    225.479346   \n",
       "min              1.000000      1.000000            0.000000      0.000000   \n",
       "25%              1.000000      1.000000            0.000000      0.000000   \n",
       "50%              1.000000      3.000000            0.000000      0.000000   \n",
       "75%              3.000000     14.000000            0.000000      0.000000   \n",
       "max             31.000000   3079.000000           31.000000   6432.000000   \n",
       "\n",
       "       t1_active    t2_active  t1_harassment_received  t1_harassment_made  \n",
       "count     1560.0  1560.000000             1560.000000              1560.0  \n",
       "mean         1.0     0.180128                0.280769                 0.0  \n",
       "std          0.0     0.384417                0.449519                 0.0  \n",
       "min          1.0     0.000000                0.000000                 0.0  \n",
       "25%          1.0     0.000000                0.000000                 0.0  \n",
       "50%          1.0     0.000000                0.000000                 0.0  \n",
       "75%          1.0     0.000000                1.000000                 0.0  \n",
       "max          1.0     1.000000                1.000000                 0.0  "
      ]
     },
     "execution_count": 162,
     "metadata": {},
     "output_type": "execute_result"
    }
   ],
   "source": [
    "df_reg2.describe()"
   ]
  },
  {
   "cell_type": "code",
   "execution_count": 163,
   "metadata": {
    "collapsed": false
   },
   "outputs": [
    {
     "data": {
      "text/html": [
       "<div>\n",
       "<table border=\"1\" class=\"dataframe\">\n",
       "  <thead>\n",
       "    <tr style=\"text-align: right;\">\n",
       "      <th></th>\n",
       "      <th>is_female</th>\n",
       "      <th>is_male</th>\n",
       "      <th>t1_num_aggression_received</th>\n",
       "      <th>t1_num_aggresssion_made</th>\n",
       "      <th>t1_num_attacks_made</th>\n",
       "      <th>t1_num_attacks_received</th>\n",
       "      <th>t1_num_days_active</th>\n",
       "      <th>t1_num_edits</th>\n",
       "      <th>t2_num_days_active</th>\n",
       "      <th>t2_num_edits</th>\n",
       "      <th>t1_active</th>\n",
       "      <th>t2_active</th>\n",
       "      <th>t1_harassment_received</th>\n",
       "      <th>t1_harassment_made</th>\n",
       "    </tr>\n",
       "  </thead>\n",
       "  <tbody>\n",
       "    <tr>\n",
       "      <th>count</th>\n",
       "      <td>1499.000000</td>\n",
       "      <td>1499.000000</td>\n",
       "      <td>1499.000000</td>\n",
       "      <td>1499.0</td>\n",
       "      <td>1499.0</td>\n",
       "      <td>1499.000000</td>\n",
       "      <td>1499.000000</td>\n",
       "      <td>1499.000000</td>\n",
       "      <td>1499.000000</td>\n",
       "      <td>1499.000000</td>\n",
       "      <td>1499.0</td>\n",
       "      <td>1499.000000</td>\n",
       "      <td>1499.000000</td>\n",
       "      <td>1499.0</td>\n",
       "    </tr>\n",
       "    <tr>\n",
       "      <th>mean</th>\n",
       "      <td>0.010674</td>\n",
       "      <td>0.034023</td>\n",
       "      <td>0.280854</td>\n",
       "      <td>0.0</td>\n",
       "      <td>0.0</td>\n",
       "      <td>0.137425</td>\n",
       "      <td>2.494330</td>\n",
       "      <td>13.489660</td>\n",
       "      <td>0.787191</td>\n",
       "      <td>4.390260</td>\n",
       "      <td>1.0</td>\n",
       "      <td>0.154103</td>\n",
       "      <td>0.274850</td>\n",
       "      <td>0.0</td>\n",
       "    </tr>\n",
       "    <tr>\n",
       "      <th>std</th>\n",
       "      <td>0.102795</td>\n",
       "      <td>0.181348</td>\n",
       "      <td>0.486644</td>\n",
       "      <td>0.0</td>\n",
       "      <td>0.0</td>\n",
       "      <td>0.382957</td>\n",
       "      <td>3.148601</td>\n",
       "      <td>26.381263</td>\n",
       "      <td>2.859775</td>\n",
       "      <td>19.784599</td>\n",
       "      <td>0.0</td>\n",
       "      <td>0.361168</td>\n",
       "      <td>0.446588</td>\n",
       "      <td>0.0</td>\n",
       "    </tr>\n",
       "    <tr>\n",
       "      <th>min</th>\n",
       "      <td>0.000000</td>\n",
       "      <td>0.000000</td>\n",
       "      <td>0.000000</td>\n",
       "      <td>0.0</td>\n",
       "      <td>0.0</td>\n",
       "      <td>0.000000</td>\n",
       "      <td>1.000000</td>\n",
       "      <td>1.000000</td>\n",
       "      <td>0.000000</td>\n",
       "      <td>0.000000</td>\n",
       "      <td>1.0</td>\n",
       "      <td>0.000000</td>\n",
       "      <td>0.000000</td>\n",
       "      <td>0.0</td>\n",
       "    </tr>\n",
       "    <tr>\n",
       "      <th>25%</th>\n",
       "      <td>0.000000</td>\n",
       "      <td>0.000000</td>\n",
       "      <td>0.000000</td>\n",
       "      <td>0.0</td>\n",
       "      <td>0.0</td>\n",
       "      <td>0.000000</td>\n",
       "      <td>1.000000</td>\n",
       "      <td>1.000000</td>\n",
       "      <td>0.000000</td>\n",
       "      <td>0.000000</td>\n",
       "      <td>1.0</td>\n",
       "      <td>0.000000</td>\n",
       "      <td>0.000000</td>\n",
       "      <td>0.0</td>\n",
       "    </tr>\n",
       "    <tr>\n",
       "      <th>50%</th>\n",
       "      <td>0.000000</td>\n",
       "      <td>0.000000</td>\n",
       "      <td>0.000000</td>\n",
       "      <td>0.0</td>\n",
       "      <td>0.0</td>\n",
       "      <td>0.000000</td>\n",
       "      <td>1.000000</td>\n",
       "      <td>3.000000</td>\n",
       "      <td>0.000000</td>\n",
       "      <td>0.000000</td>\n",
       "      <td>1.0</td>\n",
       "      <td>0.000000</td>\n",
       "      <td>0.000000</td>\n",
       "      <td>0.0</td>\n",
       "    </tr>\n",
       "    <tr>\n",
       "      <th>75%</th>\n",
       "      <td>0.000000</td>\n",
       "      <td>0.000000</td>\n",
       "      <td>1.000000</td>\n",
       "      <td>0.0</td>\n",
       "      <td>0.0</td>\n",
       "      <td>0.000000</td>\n",
       "      <td>2.000000</td>\n",
       "      <td>12.000000</td>\n",
       "      <td>0.000000</td>\n",
       "      <td>0.000000</td>\n",
       "      <td>1.0</td>\n",
       "      <td>0.000000</td>\n",
       "      <td>1.000000</td>\n",
       "      <td>0.0</td>\n",
       "    </tr>\n",
       "    <tr>\n",
       "      <th>max</th>\n",
       "      <td>1.000000</td>\n",
       "      <td>1.000000</td>\n",
       "      <td>5.000000</td>\n",
       "      <td>0.0</td>\n",
       "      <td>0.0</td>\n",
       "      <td>5.000000</td>\n",
       "      <td>26.000000</td>\n",
       "      <td>192.000000</td>\n",
       "      <td>29.000000</td>\n",
       "      <td>198.000000</td>\n",
       "      <td>1.0</td>\n",
       "      <td>1.000000</td>\n",
       "      <td>1.000000</td>\n",
       "      <td>0.0</td>\n",
       "    </tr>\n",
       "  </tbody>\n",
       "</table>\n",
       "</div>"
      ],
      "text/plain": [
       "         is_female      is_male  t1_num_aggression_received  \\\n",
       "count  1499.000000  1499.000000                 1499.000000   \n",
       "mean      0.010674     0.034023                    0.280854   \n",
       "std       0.102795     0.181348                    0.486644   \n",
       "min       0.000000     0.000000                    0.000000   \n",
       "25%       0.000000     0.000000                    0.000000   \n",
       "50%       0.000000     0.000000                    0.000000   \n",
       "75%       0.000000     0.000000                    1.000000   \n",
       "max       1.000000     1.000000                    5.000000   \n",
       "\n",
       "       t1_num_aggresssion_made  t1_num_attacks_made  t1_num_attacks_received  \\\n",
       "count                   1499.0               1499.0              1499.000000   \n",
       "mean                       0.0                  0.0                 0.137425   \n",
       "std                        0.0                  0.0                 0.382957   \n",
       "min                        0.0                  0.0                 0.000000   \n",
       "25%                        0.0                  0.0                 0.000000   \n",
       "50%                        0.0                  0.0                 0.000000   \n",
       "75%                        0.0                  0.0                 0.000000   \n",
       "max                        0.0                  0.0                 5.000000   \n",
       "\n",
       "       t1_num_days_active  t1_num_edits  t2_num_days_active  t2_num_edits  \\\n",
       "count         1499.000000   1499.000000         1499.000000   1499.000000   \n",
       "mean             2.494330     13.489660            0.787191      4.390260   \n",
       "std              3.148601     26.381263            2.859775     19.784599   \n",
       "min              1.000000      1.000000            0.000000      0.000000   \n",
       "25%              1.000000      1.000000            0.000000      0.000000   \n",
       "50%              1.000000      3.000000            0.000000      0.000000   \n",
       "75%              2.000000     12.000000            0.000000      0.000000   \n",
       "max             26.000000    192.000000           29.000000    198.000000   \n",
       "\n",
       "       t1_active    t2_active  t1_harassment_received  t1_harassment_made  \n",
       "count     1499.0  1499.000000             1499.000000              1499.0  \n",
       "mean         1.0     0.154103                0.274850                 0.0  \n",
       "std          0.0     0.361168                0.446588                 0.0  \n",
       "min          1.0     0.000000                0.000000                 0.0  \n",
       "25%          1.0     0.000000                0.000000                 0.0  \n",
       "50%          1.0     0.000000                0.000000                 0.0  \n",
       "75%          1.0     0.000000                1.000000                 0.0  \n",
       "max          1.0     1.000000                1.000000                 0.0  "
      ]
     },
     "execution_count": 163,
     "metadata": {},
     "output_type": "execute_result"
    }
   ],
   "source": [
    "df_reg3.describe()"
   ]
  },
  {
   "cell_type": "markdown",
   "metadata": {},
   "source": [
    "Does receiving harassment in t1 make you less likely to make and edit t2?"
   ]
  },
  {
   "cell_type": "code",
   "execution_count": 164,
   "metadata": {
    "collapsed": false
   },
   "outputs": [
    {
     "data": {
      "text/html": [
       "<table class=\"simpletable\">\n",
       "<tr>\n",
       "             <td></td>               <th>coef</th>     <th>std err</th>      <th>t</th>      <th>P>|t|</th> <th>[95.0% Conf. Int.]</th> \n",
       "</tr>\n",
       "<tr>\n",
       "  <th>Intercept</th>              <td>    0.1362</td> <td>    0.011</td> <td>   12.466</td> <td> 0.000</td> <td>    0.115     0.158</td>\n",
       "</tr>\n",
       "<tr>\n",
       "  <th>t1_harassment_received</th> <td>    0.0653</td> <td>    0.021</td> <td>    3.134</td> <td> 0.002</td> <td>    0.024     0.106</td>\n",
       "</tr>\n",
       "</table>"
      ],
      "text/plain": [
       "<class 'statsmodels.iolib.table.SimpleTable'>"
      ]
     },
     "execution_count": 164,
     "metadata": {},
     "output_type": "execute_result"
    }
   ],
   "source": [
    "result = sm.ols(formula=\"t2_active ~ t1_harassment_received\", data=df_reg3).fit()\n",
    "result.summary().tables[1]"
   ]
  },
  {
   "cell_type": "code",
   "execution_count": 177,
   "metadata": {
    "collapsed": false
   },
   "outputs": [
    {
     "name": "stdout",
     "output_type": "stream",
     "text": [
      "Optimization terminated successfully.\n",
      "         Current function value: 0.307927\n",
      "         Iterations 7\n"
     ]
    },
    {
     "data": {
      "text/html": [
       "<table class=\"simpletable\">\n",
       "<tr>\n",
       "             <td></td>               <th>coef</th>     <th>std err</th>      <th>z</th>      <th>P>|z|</th> <th>[95.0% Conf. Int.]</th> \n",
       "</tr>\n",
       "<tr>\n",
       "  <th>Intercept</th>              <td>   -3.0283</td> <td>    0.133</td> <td>  -22.806</td> <td> 0.000</td> <td>   -3.289    -2.768</td>\n",
       "</tr>\n",
       "<tr>\n",
       "  <th>t1_harassment_received</th> <td>   -0.6527</td> <td>    0.213</td> <td>   -3.058</td> <td> 0.002</td> <td>   -1.071    -0.234</td>\n",
       "</tr>\n",
       "<tr>\n",
       "  <th>t1_num_days_active</th>     <td>    0.4837</td> <td>    0.035</td> <td>   13.762</td> <td> 0.000</td> <td>    0.415     0.553</td>\n",
       "</tr>\n",
       "</table>"
      ],
      "text/plain": [
       "<class 'statsmodels.iolib.table.SimpleTable'>"
      ]
     },
     "execution_count": 177,
     "metadata": {},
     "output_type": "execute_result"
    }
   ],
   "source": [
    "result = sm.logit(formula=\"t2_active ~ t1_harassment_received\", data=df_reg3).fit()\n",
    "result.summary().tables[1]"
   ]
  },
  {
   "cell_type": "markdown",
   "metadata": {},
   "source": [
    "Regress activity measure in t2 on activity measure in t1  "
   ]
  },
  {
   "cell_type": "code",
   "execution_count": 166,
   "metadata": {
    "collapsed": false
   },
   "outputs": [
    {
     "data": {
      "text/html": [
       "<table class=\"simpletable\">\n",
       "<tr>\n",
       "        <td></td>          <th>coef</th>     <th>std err</th>      <th>t</th>      <th>P>|t|</th> <th>[95.0% Conf. Int.]</th> \n",
       "</tr>\n",
       "<tr>\n",
       "  <th>Intercept</th>    <td>   -0.0250</td> <td>    0.517</td> <td>   -0.048</td> <td> 0.961</td> <td>   -1.038     0.988</td>\n",
       "</tr>\n",
       "<tr>\n",
       "  <th>t1_num_edits</th> <td>    0.3273</td> <td>    0.017</td> <td>   18.768</td> <td> 0.000</td> <td>    0.293     0.362</td>\n",
       "</tr>\n",
       "</table>"
      ],
      "text/plain": [
       "<class 'statsmodels.iolib.table.SimpleTable'>"
      ]
     },
     "execution_count": 166,
     "metadata": {},
     "output_type": "execute_result"
    }
   ],
   "source": [
    "result = sm.ols(formula=\"t2_num_edits ~ t1_num_edits\", data=df_reg3).fit()\n",
    "result.summary().tables[1]"
   ]
  },
  {
   "cell_type": "code",
   "execution_count": 167,
   "metadata": {
    "collapsed": false
   },
   "outputs": [
    {
     "data": {
      "text/html": [
       "<table class=\"simpletable\">\n",
       "<tr>\n",
       "           <td></td>             <th>coef</th>     <th>std err</th>      <th>t</th>      <th>P>|t|</th> <th>[95.0% Conf. Int.]</th> \n",
       "</tr>\n",
       "<tr>\n",
       "  <th>Intercept</th>          <td>   -0.6844</td> <td>    0.072</td> <td>   -9.549</td> <td> 0.000</td> <td>   -0.825    -0.544</td>\n",
       "</tr>\n",
       "<tr>\n",
       "  <th>t1_num_days_active</th> <td>    0.5900</td> <td>    0.018</td> <td>   33.056</td> <td> 0.000</td> <td>    0.555     0.625</td>\n",
       "</tr>\n",
       "</table>"
      ],
      "text/plain": [
       "<class 'statsmodels.iolib.table.SimpleTable'>"
      ]
     },
     "execution_count": 167,
     "metadata": {},
     "output_type": "execute_result"
    }
   ],
   "source": [
    "result = sm.ols(formula=\"t2_num_days_active ~ t1_num_days_active\", data=df_reg3).fit()\n",
    "result.summary().tables[1]"
   ]
  },
  {
   "cell_type": "markdown",
   "metadata": {},
   "source": [
    "Regress activity measure in t2 on activity measure in t1 a measure of harassment"
   ]
  },
  {
   "cell_type": "code",
   "execution_count": 168,
   "metadata": {
    "collapsed": false
   },
   "outputs": [
    {
     "data": {
      "text/html": [
       "<table class=\"simpletable\">\n",
       "<tr>\n",
       "             <td></td>                <th>coef</th>     <th>std err</th>      <th>t</th>      <th>P>|t|</th> <th>[95.0% Conf. Int.]</th> \n",
       "</tr>\n",
       "<tr>\n",
       "  <th>Intercept</th>               <td>    0.5695</td> <td>    0.532</td> <td>    1.071</td> <td> 0.284</td> <td>   -0.474     1.612</td>\n",
       "</tr>\n",
       "<tr>\n",
       "  <th>t1_num_edits</th>            <td>    0.3361</td> <td>    0.017</td> <td>   19.253</td> <td> 0.000</td> <td>    0.302     0.370</td>\n",
       "</tr>\n",
       "<tr>\n",
       "  <th>t1_num_attacks_received</th> <td>   -5.1908</td> <td>    1.203</td> <td>   -4.316</td> <td> 0.000</td> <td>   -7.550    -2.832</td>\n",
       "</tr>\n",
       "</table>"
      ],
      "text/plain": [
       "<class 'statsmodels.iolib.table.SimpleTable'>"
      ]
     },
     "execution_count": 168,
     "metadata": {},
     "output_type": "execute_result"
    }
   ],
   "source": [
    "result = sm.ols(formula=\"t2_num_edits ~ t1_num_edits + t1_num_attacks_received\", data=df_reg3).fit()\n",
    "result.summary().tables[1]"
   ]
  },
  {
   "cell_type": "code",
   "execution_count": 169,
   "metadata": {
    "collapsed": false
   },
   "outputs": [
    {
     "data": {
      "text/html": [
       "<table class=\"simpletable\">\n",
       "<tr>\n",
       "             <td></td>                <th>coef</th>     <th>std err</th>      <th>t</th>      <th>P>|t|</th> <th>[95.0% Conf. Int.]</th> \n",
       "</tr>\n",
       "<tr>\n",
       "  <th>Intercept</th>               <td>   -0.6118</td> <td>    0.073</td> <td>   -8.362</td> <td> 0.000</td> <td>   -0.755    -0.468</td>\n",
       "</tr>\n",
       "<tr>\n",
       "  <th>t1_num_days_active</th>      <td>    0.5961</td> <td>    0.018</td> <td>   33.494</td> <td> 0.000</td> <td>    0.561     0.631</td>\n",
       "</tr>\n",
       "<tr>\n",
       "  <th>t1_num_attacks_received</th> <td>   -0.6387</td> <td>    0.146</td> <td>   -4.365</td> <td> 0.000</td> <td>   -0.926    -0.352</td>\n",
       "</tr>\n",
       "</table>"
      ],
      "text/plain": [
       "<class 'statsmodels.iolib.table.SimpleTable'>"
      ]
     },
     "execution_count": 169,
     "metadata": {},
     "output_type": "execute_result"
    }
   ],
   "source": [
    "result = sm.ols(formula=\"t2_num_days_active ~ t1_num_days_active + t1_num_attacks_received\", data=df_reg3).fit()\n",
    "result.summary().tables[1]"
   ]
  },
  {
   "cell_type": "code",
   "execution_count": 170,
   "metadata": {
    "collapsed": false
   },
   "outputs": [
    {
     "data": {
      "text/html": [
       "<table class=\"simpletable\">\n",
       "<tr>\n",
       "               <td></td>                 <th>coef</th>     <th>std err</th>      <th>t</th>      <th>P>|t|</th> <th>[95.0% Conf. Int.]</th> \n",
       "</tr>\n",
       "<tr>\n",
       "  <th>Intercept</th>                  <td>    1.2862</td> <td>    0.547</td> <td>    2.351</td> <td> 0.019</td> <td>    0.213     2.359</td>\n",
       "</tr>\n",
       "<tr>\n",
       "  <th>t1_num_edits</th>               <td>    0.3643</td> <td>    0.018</td> <td>   20.131</td> <td> 0.000</td> <td>    0.329     0.400</td>\n",
       "</tr>\n",
       "<tr>\n",
       "  <th>t1_num_aggression_received</th> <td>   -6.4474</td> <td>    0.981</td> <td>   -6.571</td> <td> 0.000</td> <td>   -8.372    -4.523</td>\n",
       "</tr>\n",
       "</table>"
      ],
      "text/plain": [
       "<class 'statsmodels.iolib.table.SimpleTable'>"
      ]
     },
     "execution_count": 170,
     "metadata": {},
     "output_type": "execute_result"
    }
   ],
   "source": [
    "result = sm.ols(formula=\"t2_num_edits ~ t1_num_edits + t1_num_aggression_received\", data=df_reg3).fit()\n",
    "result.summary().tables[1]"
   ]
  },
  {
   "cell_type": "code",
   "execution_count": 171,
   "metadata": {
    "collapsed": false
   },
   "outputs": [
    {
     "data": {
      "text/html": [
       "<table class=\"simpletable\">\n",
       "<tr>\n",
       "               <td></td>                 <th>coef</th>     <th>std err</th>      <th>t</th>      <th>P>|t|</th> <th>[95.0% Conf. Int.]</th> \n",
       "</tr>\n",
       "<tr>\n",
       "  <th>Intercept</th>                  <td>   -0.4972</td> <td>    0.073</td> <td>   -6.815</td> <td> 0.000</td> <td>   -0.640    -0.354</td>\n",
       "</tr>\n",
       "<tr>\n",
       "  <th>t1_num_days_active</th>         <td>    0.6321</td> <td>    0.018</td> <td>   35.067</td> <td> 0.000</td> <td>    0.597     0.667</td>\n",
       "</tr>\n",
       "<tr>\n",
       "  <th>t1_num_aggression_received</th> <td>   -1.0408</td> <td>    0.117</td> <td>   -8.924</td> <td> 0.000</td> <td>   -1.270    -0.812</td>\n",
       "</tr>\n",
       "</table>"
      ],
      "text/plain": [
       "<class 'statsmodels.iolib.table.SimpleTable'>"
      ]
     },
     "execution_count": 171,
     "metadata": {},
     "output_type": "execute_result"
    }
   ],
   "source": [
    "result = sm.ols(formula=\"t2_num_days_active ~ t1_num_days_active + t1_num_aggression_received\", data=df_reg3).fit()\n",
    "result.summary().tables[1]"
   ]
  },
  {
   "cell_type": "markdown",
   "metadata": {},
   "source": [
    "Regress activity measure in t2 on activity measure in t1 multiple measures of harassment: Does not work since the data is harassment measures are highly correlated."
   ]
  },
  {
   "cell_type": "code",
   "execution_count": 172,
   "metadata": {
    "collapsed": false
   },
   "outputs": [
    {
     "data": {
      "text/plain": [
       "(0.65602394305625744, 3.6281155637990156e-185)"
      ]
     },
     "execution_count": 172,
     "metadata": {},
     "output_type": "execute_result"
    }
   ],
   "source": [
    "from scipy.stats import pearsonr \n",
    "pearsonr(df_reg3['t1_num_attacks_received'] , df_reg3['t1_num_aggression_received'])"
   ]
  },
  {
   "cell_type": "markdown",
   "metadata": {},
   "source": [
    "Interact with gender"
   ]
  },
  {
   "cell_type": "code",
   "execution_count": 176,
   "metadata": {
    "collapsed": false
   },
   "outputs": [
    {
     "data": {
      "text/html": [
       "<table class=\"simpletable\">\n",
       "<tr>\n",
       "           <td></td>             <th>coef</th>     <th>std err</th>      <th>t</th>      <th>P>|t|</th> <th>[95.0% Conf. Int.]</th> \n",
       "</tr>\n",
       "<tr>\n",
       "  <th>Intercept</th>          <td>   -0.6841</td> <td>    0.072</td> <td>   -9.541</td> <td> 0.000</td> <td>   -0.825    -0.543</td>\n",
       "</tr>\n",
       "<tr>\n",
       "  <th>t1_num_days_active</th> <td>    0.5907</td> <td>    0.018</td> <td>   32.873</td> <td> 0.000</td> <td>    0.555     0.626</td>\n",
       "</tr>\n",
       "<tr>\n",
       "  <th>is_female</th>          <td>   -0.1983</td> <td>    0.550</td> <td>   -0.360</td> <td> 0.719</td> <td>   -1.278     0.881</td>\n",
       "</tr>\n",
       "</table>"
      ],
      "text/plain": [
       "<class 'statsmodels.iolib.table.SimpleTable'>"
      ]
     },
     "execution_count": 176,
     "metadata": {},
     "output_type": "execute_result"
    }
   ],
   "source": [
    "result = sm.ols(formula=\"t2_num_days_active ~ t1_num_days_active + is_female\", data=df_reg3).fit()\n",
    "result.summary().tables[1]"
   ]
  },
  {
   "cell_type": "code",
   "execution_count": 173,
   "metadata": {
    "collapsed": false
   },
   "outputs": [
    {
     "data": {
      "text/html": [
       "<table class=\"simpletable\">\n",
       "<tr>\n",
       "                    <td></td>                      <th>coef</th>     <th>std err</th>      <th>t</th>      <th>P>|t|</th> <th>[95.0% Conf. Int.]</th> \n",
       "</tr>\n",
       "<tr>\n",
       "  <th>Intercept</th>                            <td>   -0.4965</td> <td>    0.073</td> <td>   -6.799</td> <td> 0.000</td> <td>   -0.640    -0.353</td>\n",
       "</tr>\n",
       "<tr>\n",
       "  <th>t1_num_days_active</th>                   <td>    0.6326</td> <td>    0.018</td> <td>   34.857</td> <td> 0.000</td> <td>    0.597     0.668</td>\n",
       "</tr>\n",
       "<tr>\n",
       "  <th>t1_num_aggression_received</th>           <td>   -1.0457</td> <td>    0.118</td> <td>   -8.899</td> <td> 0.000</td> <td>   -1.276    -0.815</td>\n",
       "</tr>\n",
       "<tr>\n",
       "  <th>is_female</th>                            <td>   -0.2843</td> <td>    0.808</td> <td>   -0.352</td> <td> 0.725</td> <td>   -1.870     1.301</td>\n",
       "</tr>\n",
       "<tr>\n",
       "  <th>t1_num_aggression_received:is_female</th> <td>    0.4233</td> <td>    1.076</td> <td>    0.393</td> <td> 0.694</td> <td>   -1.687     2.534</td>\n",
       "</tr>\n",
       "</table>"
      ],
      "text/plain": [
       "<class 'statsmodels.iolib.table.SimpleTable'>"
      ]
     },
     "execution_count": 173,
     "metadata": {},
     "output_type": "execute_result"
    }
   ],
   "source": [
    "result = sm.ols(formula=\"t2_num_days_active ~ t1_num_days_active + t1_num_aggression_received * is_female\", data=df_reg3).fit()\n",
    "result.summary().tables[1]"
   ]
  },
  {
   "cell_type": "markdown",
   "metadata": {
    "collapsed": true
   },
   "source": [
    "Only consider new comers whose edits in the first month were not damaging\n",
    "1. get all main ns edits in the first month\n",
    "2. score each of them via ores"
   ]
  },
  {
   "cell_type": "code",
   "execution_count": 175,
   "metadata": {
    "collapsed": false
   },
   "outputs": [
    {
     "data": {
      "text/html": [
       "<div>\n",
       "<table border=\"1\" class=\"dataframe\">\n",
       "  <thead>\n",
       "    <tr style=\"text-align: right;\">\n",
       "      <th></th>\n",
       "      <th>is_female</th>\n",
       "      <th>is_male</th>\n",
       "      <th>t1_num_aggression_received</th>\n",
       "      <th>t1_num_aggresssion_made</th>\n",
       "      <th>t1_num_attacks_made</th>\n",
       "      <th>t1_num_attacks_received</th>\n",
       "      <th>t1_num_days_active</th>\n",
       "      <th>t1_num_edits</th>\n",
       "      <th>t2_num_days_active</th>\n",
       "      <th>t2_num_edits</th>\n",
       "      <th>t1_active</th>\n",
       "      <th>t2_active</th>\n",
       "      <th>t1_harassment_received</th>\n",
       "      <th>t1_harassment_made</th>\n",
       "    </tr>\n",
       "    <tr>\n",
       "      <th>user_text</th>\n",
       "      <th></th>\n",
       "      <th></th>\n",
       "      <th></th>\n",
       "      <th></th>\n",
       "      <th></th>\n",
       "      <th></th>\n",
       "      <th></th>\n",
       "      <th></th>\n",
       "      <th></th>\n",
       "      <th></th>\n",
       "      <th></th>\n",
       "      <th></th>\n",
       "      <th></th>\n",
       "      <th></th>\n",
       "    </tr>\n",
       "  </thead>\n",
       "  <tbody>\n",
       "    <tr>\n",
       "      <th>Coonass5639</th>\n",
       "      <td>0</td>\n",
       "      <td>0</td>\n",
       "      <td>0</td>\n",
       "      <td>0</td>\n",
       "      <td>0</td>\n",
       "      <td>0</td>\n",
       "      <td>1</td>\n",
       "      <td>1</td>\n",
       "      <td>0</td>\n",
       "      <td>0</td>\n",
       "      <td>1</td>\n",
       "      <td>0</td>\n",
       "      <td>0</td>\n",
       "      <td>0</td>\n",
       "    </tr>\n",
       "    <tr>\n",
       "      <th>Webdynamika</th>\n",
       "      <td>0</td>\n",
       "      <td>0</td>\n",
       "      <td>0</td>\n",
       "      <td>0</td>\n",
       "      <td>0</td>\n",
       "      <td>0</td>\n",
       "      <td>1</td>\n",
       "      <td>1</td>\n",
       "      <td>0</td>\n",
       "      <td>0</td>\n",
       "      <td>1</td>\n",
       "      <td>0</td>\n",
       "      <td>0</td>\n",
       "      <td>0</td>\n",
       "    </tr>\n",
       "    <tr>\n",
       "      <th>Jefland2003</th>\n",
       "      <td>0</td>\n",
       "      <td>0</td>\n",
       "      <td>0</td>\n",
       "      <td>0</td>\n",
       "      <td>0</td>\n",
       "      <td>0</td>\n",
       "      <td>1</td>\n",
       "      <td>4</td>\n",
       "      <td>0</td>\n",
       "      <td>0</td>\n",
       "      <td>1</td>\n",
       "      <td>0</td>\n",
       "      <td>0</td>\n",
       "      <td>0</td>\n",
       "    </tr>\n",
       "    <tr>\n",
       "      <th>Rasheed jaber</th>\n",
       "      <td>0</td>\n",
       "      <td>0</td>\n",
       "      <td>0</td>\n",
       "      <td>0</td>\n",
       "      <td>0</td>\n",
       "      <td>0</td>\n",
       "      <td>1</td>\n",
       "      <td>2</td>\n",
       "      <td>0</td>\n",
       "      <td>0</td>\n",
       "      <td>1</td>\n",
       "      <td>0</td>\n",
       "      <td>0</td>\n",
       "      <td>0</td>\n",
       "    </tr>\n",
       "    <tr>\n",
       "      <th>Glorious Japan Forever VI</th>\n",
       "      <td>0</td>\n",
       "      <td>0</td>\n",
       "      <td>0</td>\n",
       "      <td>0</td>\n",
       "      <td>0</td>\n",
       "      <td>0</td>\n",
       "      <td>1</td>\n",
       "      <td>2</td>\n",
       "      <td>0</td>\n",
       "      <td>0</td>\n",
       "      <td>1</td>\n",
       "      <td>0</td>\n",
       "      <td>0</td>\n",
       "      <td>0</td>\n",
       "    </tr>\n",
       "  </tbody>\n",
       "</table>\n",
       "</div>"
      ],
      "text/plain": [
       "                           is_female  is_male  t1_num_aggression_received  \\\n",
       "user_text                                                                   \n",
       "Coonass5639                        0        0                           0   \n",
       "Webdynamika                        0        0                           0   \n",
       "Jefland2003                        0        0                           0   \n",
       "Rasheed jaber                      0        0                           0   \n",
       "Glorious Japan Forever VI          0        0                           0   \n",
       "\n",
       "                           t1_num_aggresssion_made  t1_num_attacks_made  \\\n",
       "user_text                                                                 \n",
       "Coonass5639                                      0                    0   \n",
       "Webdynamika                                      0                    0   \n",
       "Jefland2003                                      0                    0   \n",
       "Rasheed jaber                                    0                    0   \n",
       "Glorious Japan Forever VI                        0                    0   \n",
       "\n",
       "                           t1_num_attacks_received  t1_num_days_active  \\\n",
       "user_text                                                                \n",
       "Coonass5639                                      0                   1   \n",
       "Webdynamika                                      0                   1   \n",
       "Jefland2003                                      0                   1   \n",
       "Rasheed jaber                                    0                   1   \n",
       "Glorious Japan Forever VI                        0                   1   \n",
       "\n",
       "                           t1_num_edits  t2_num_days_active  t2_num_edits  \\\n",
       "user_text                                                                   \n",
       "Coonass5639                           1                   0             0   \n",
       "Webdynamika                           1                   0             0   \n",
       "Jefland2003                           4                   0             0   \n",
       "Rasheed jaber                         2                   0             0   \n",
       "Glorious Japan Forever VI             2                   0             0   \n",
       "\n",
       "                           t1_active  t2_active  t1_harassment_received  \\\n",
       "user_text                                                                 \n",
       "Coonass5639                        1          0                       0   \n",
       "Webdynamika                        1          0                       0   \n",
       "Jefland2003                        1          0                       0   \n",
       "Rasheed jaber                      1          0                       0   \n",
       "Glorious Japan Forever VI          1          0                       0   \n",
       "\n",
       "                           t1_harassment_made  \n",
       "user_text                                      \n",
       "Coonass5639                                 0  \n",
       "Webdynamika                                 0  \n",
       "Jefland2003                                 0  \n",
       "Rasheed jaber                               0  \n",
       "Glorious Japan Forever VI                   0  "
      ]
     },
     "execution_count": 175,
     "metadata": {},
     "output_type": "execute_result"
    }
   ],
   "source": [
    "df_reg3.head()"
   ]
  },
  {
   "cell_type": "code",
   "execution_count": null,
   "metadata": {
    "collapsed": true
   },
   "outputs": [],
   "source": []
  }
 ],
 "metadata": {
  "anaconda-cloud": {},
  "kernelspec": {
   "display_name": "Python [default]",
   "language": "python",
   "name": "python3"
  },
  "language_info": {
   "codemirror_mode": {
    "name": "ipython",
    "version": 3
   },
   "file_extension": ".py",
   "mimetype": "text/x-python",
   "name": "python",
   "nbconvert_exporter": "python",
   "pygments_lexer": "ipython3",
   "version": "3.5.1"
  }
 },
 "nbformat": 4,
 "nbformat_minor": 0
}
