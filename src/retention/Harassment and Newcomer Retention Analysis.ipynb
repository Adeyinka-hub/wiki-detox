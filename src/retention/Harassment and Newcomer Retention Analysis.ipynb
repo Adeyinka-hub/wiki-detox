{
 "cells": [
  {
   "cell_type": "markdown",
   "metadata": {},
   "source": [
    "# Harassment and Newcomer Retention\n",
    "\n",
    "In this notebook we investigate how receiving harassment correlates with newcomer activity and retention. For the purposes of this study, our measures of harassment are classifiers over individual discussion comments for personal attacks, aggression and toxicity. These classifiers were developed [in previous work](https://arxiv.org/abs/1610.08914). We will investigate the relationship between harassment and newcomer retention through running regression models that use a measures of editing activity and harassment in time span t1 as independent variables and a measure of harassment in time span t2 as the dependent variable."
   ]
  },
  {
   "cell_type": "code",
   "execution_count": 2,
   "metadata": {
    "collapsed": true
   },
   "outputs": [],
   "source": [
    "% matplotlib inline\n",
    "import pandas as pd\n",
    "from dateutil.relativedelta import relativedelta\n",
    "import statsmodels.formula.api as sm\n",
    "import requests"
   ]
  },
  {
   "cell_type": "markdown",
   "metadata": {},
   "source": [
    "### Regression Modeling\n",
    "\n",
    "In this section we explore various regression models that use a measures of editing activity and harassment in time span t1 as independent variables and a measure of harassment in time span t2 as the dependent variable."
   ]
  },
  {
   "cell_type": "code",
   "execution_count": 3,
   "metadata": {
    "collapsed": false
   },
   "outputs": [],
   "source": [
    "df_reg = pd.read_csv(\"../../data/retention/newcomer_sample_features.csv\")"
   ]
  },
  {
   "cell_type": "code",
   "execution_count": 4,
   "metadata": {
    "collapsed": true
   },
   "outputs": [],
   "source": [
    "def regress(df, formula, family = 'linear'):\n",
    "    if family == 'linear':\n",
    "        result = sm.ols(formula=f, data=df).fit()\n",
    "    elif family == 'logistic':\n",
    "        result = sm.logit(formula=f, data=df).fit(disp=0)\n",
    "    else:\n",
    "        print(\"Wrong Family\")\n",
    "    return result.summary().tables[1]"
   ]
  },
  {
   "cell_type": "markdown",
   "metadata": {},
   "source": [
    "#### Logistic Regression: Does receiving harassment in t1 make you less likely to make an edit t2?"
   ]
  },
  {
   "cell_type": "code",
   "execution_count": 5,
   "metadata": {
    "collapsed": false
   },
   "outputs": [
    {
     "data": {
      "text/html": [
       "<table class=\"simpletable\">\n",
       "<tr>\n",
       "             <td></td>               <th>coef</th>     <th>std err</th>      <th>z</th>      <th>P>|z|</th> <th>[95.0% Conf. Int.]</th> \n",
       "</tr>\n",
       "<tr>\n",
       "  <th>Intercept</th>              <td>   -2.5973</td> <td>    0.013</td> <td> -207.074</td> <td> 0.000</td> <td>   -2.622    -2.573</td>\n",
       "</tr>\n",
       "<tr>\n",
       "  <th>t1_harassment_received</th> <td>    1.8786</td> <td>    0.078</td> <td>   24.133</td> <td> 0.000</td> <td>    1.726     2.031</td>\n",
       "</tr>\n",
       "</table>"
      ],
      "text/plain": [
       "<class 'statsmodels.iolib.table.SimpleTable'>"
      ]
     },
     "execution_count": 5,
     "metadata": {},
     "output_type": "execute_result"
    }
   ],
   "source": [
    "f = \"t2_active ~ t1_harassment_received\"\n",
    "regress(df_reg, f, family = 'logistic')"
   ]
  },
  {
   "cell_type": "markdown",
   "metadata": {},
   "source": [
    "This model suggests that users who receive harassment have increased probability of being active in t2, compared to users who did not receive harassment. Lets control for how active the user was in t1 to see if the result holds."
   ]
  },
  {
   "cell_type": "code",
   "execution_count": 6,
   "metadata": {
    "collapsed": false
   },
   "outputs": [
    {
     "data": {
      "text/html": [
       "<table class=\"simpletable\">\n",
       "<tr>\n",
       "             <td></td>               <th>coef</th>     <th>std err</th>      <th>z</th>      <th>P>|z|</th> <th>[95.0% Conf. Int.]</th> \n",
       "</tr>\n",
       "<tr>\n",
       "  <th>Intercept</th>              <td>   -3.7756</td> <td>    0.021</td> <td> -179.910</td> <td> 0.000</td> <td>   -3.817    -3.734</td>\n",
       "</tr>\n",
       "<tr>\n",
       "  <th>t1_harassment_received</th> <td>   -0.1524</td> <td>    0.115</td> <td>   -1.321</td> <td> 0.187</td> <td>   -0.378     0.074</td>\n",
       "</tr>\n",
       "<tr>\n",
       "  <th>t1_num_days_active</th>     <td>    0.5172</td> <td>    0.006</td> <td>   79.999</td> <td> 0.000</td> <td>    0.505     0.530</td>\n",
       "</tr>\n",
       "</table>"
      ],
      "text/plain": [
       "<class 'statsmodels.iolib.table.SimpleTable'>"
      ]
     },
     "execution_count": 6,
     "metadata": {},
     "output_type": "execute_result"
    }
   ],
   "source": [
    "f =\"t2_active ~ t1_harassment_received + t1_num_days_active\"\n",
    "regress(df_reg, f, family = 'logistic')"
   ]
  },
  {
   "cell_type": "markdown",
   "metadata": {},
   "source": [
    "After controlling for the number of days a user was active in t1, we see that users receiving harassment have a decreased probability of activity in t2."
   ]
  },
  {
   "cell_type": "markdown",
   "metadata": {},
   "source": [
    "#### Linear Regression: Is harassment correlated with reduction in activity from t1 to t2?\n",
    "\n",
    "Instead of running a logistic regression using an indicator for activity in t2 as our dependent variable, we will run a linear regression using the the number of days active in t2 as our dependent variable."
   ]
  },
  {
   "cell_type": "code",
   "execution_count": 7,
   "metadata": {
    "collapsed": false
   },
   "outputs": [
    {
     "data": {
      "text/html": [
       "<table class=\"simpletable\">\n",
       "<tr>\n",
       "             <td></td>               <th>coef</th>     <th>std err</th>      <th>t</th>      <th>P>|t|</th> <th>[95.0% Conf. Int.]</th> \n",
       "</tr>\n",
       "<tr>\n",
       "  <th>Intercept</th>              <td>    0.3336</td> <td>    0.007</td> <td>   48.537</td> <td> 0.000</td> <td>    0.320     0.347</td>\n",
       "</tr>\n",
       "<tr>\n",
       "  <th>t1_harassment_received</th> <td>    1.5663</td> <td>    0.078</td> <td>   20.057</td> <td> 0.000</td> <td>    1.413     1.719</td>\n",
       "</tr>\n",
       "</table>"
      ],
      "text/plain": [
       "<class 'statsmodels.iolib.table.SimpleTable'>"
      ]
     },
     "execution_count": 7,
     "metadata": {},
     "output_type": "execute_result"
    }
   ],
   "source": [
    "f =\"t2_num_days_active ~ t1_harassment_received\"\n",
    "regress(df_reg, f)"
   ]
  },
  {
   "cell_type": "markdown",
   "metadata": {},
   "source": [
    "We see a similar results as above. Without controlling for activity in t1, users who receive harassment have, on average, more active days in t2."
   ]
  },
  {
   "cell_type": "code",
   "execution_count": 8,
   "metadata": {
    "collapsed": false
   },
   "outputs": [
    {
     "data": {
      "text/html": [
       "<table class=\"simpletable\">\n",
       "<tr>\n",
       "             <td></td>               <th>coef</th>     <th>std err</th>      <th>t</th>      <th>P>|t|</th> <th>[95.0% Conf. Int.]</th> \n",
       "</tr>\n",
       "<tr>\n",
       "  <th>Intercept</th>              <td>   -0.7705</td> <td>    0.006</td> <td> -138.232</td> <td> 0.000</td> <td>   -0.781    -0.760</td>\n",
       "</tr>\n",
       "<tr>\n",
       "  <th>t1_num_days_active</th>     <td>    0.6635</td> <td>    0.002</td> <td>  350.196</td> <td> 0.000</td> <td>    0.660     0.667</td>\n",
       "</tr>\n",
       "<tr>\n",
       "  <th>t1_harassment_received</th> <td>   -1.5108</td> <td>    0.053</td> <td>  -28.522</td> <td> 0.000</td> <td>   -1.615    -1.407</td>\n",
       "</tr>\n",
       "</table>"
      ],
      "text/plain": [
       "<class 'statsmodels.iolib.table.SimpleTable'>"
      ]
     },
     "execution_count": 8,
     "metadata": {},
     "output_type": "execute_result"
    }
   ],
   "source": [
    "f= \"t2_num_days_active ~ t1_num_days_active + t1_harassment_received\"\n",
    "regress(df_reg, f)"
   ]
  },
  {
   "cell_type": "markdown",
   "metadata": {},
   "source": [
    "However, when we control for the number of days a user is active in t1, we see that users who receive harassment have fewer active days in t2. The coefficient is significantly less than 0 and larger in magnitude as on the number of active days in t1. Instead of using an indicator for whether the user received harassment, lets use the count of various types of harassment received (i.e personal attacks, aggression, toxicity)"
   ]
  },
  {
   "cell_type": "code",
   "execution_count": 9,
   "metadata": {
    "collapsed": false
   },
   "outputs": [
    {
     "data": {
      "text/html": [
       "<table class=\"simpletable\">\n",
       "<tr>\n",
       "             <td></td>                <th>coef</th>     <th>std err</th>      <th>t</th>      <th>P>|t|</th> <th>[95.0% Conf. Int.]</th> \n",
       "</tr>\n",
       "<tr>\n",
       "  <th>Intercept</th>               <td>   -0.7703</td> <td>    0.006</td> <td> -138.105</td> <td> 0.000</td> <td>   -0.781    -0.759</td>\n",
       "</tr>\n",
       "<tr>\n",
       "  <th>t1_num_days_active</th>      <td>    0.6623</td> <td>    0.002</td> <td>  349.970</td> <td> 0.000</td> <td>    0.659     0.666</td>\n",
       "</tr>\n",
       "<tr>\n",
       "  <th>t1_num_attacks_received</th> <td>   -1.3215</td> <td>    0.050</td> <td>  -26.356</td> <td> 0.000</td> <td>   -1.420    -1.223</td>\n",
       "</tr>\n",
       "</table>"
      ],
      "text/plain": [
       "<class 'statsmodels.iolib.table.SimpleTable'>"
      ]
     },
     "execution_count": 9,
     "metadata": {},
     "output_type": "execute_result"
    }
   ],
   "source": [
    "f= \"t2_num_days_active ~ t1_num_days_active + t1_num_attacks_received\"\n",
    "regress(df_reg, f)"
   ]
  },
  {
   "cell_type": "code",
   "execution_count": 10,
   "metadata": {
    "collapsed": false
   },
   "outputs": [
    {
     "data": {
      "text/html": [
       "<table class=\"simpletable\">\n",
       "<tr>\n",
       "               <td></td>                 <th>coef</th>     <th>std err</th>      <th>t</th>      <th>P>|t|</th> <th>[95.0% Conf. Int.]</th> \n",
       "</tr>\n",
       "<tr>\n",
       "  <th>Intercept</th>                  <td>   -0.7703</td> <td>    0.006</td> <td> -138.160</td> <td> 0.000</td> <td>   -0.781    -0.759</td>\n",
       "</tr>\n",
       "<tr>\n",
       "  <th>t1_num_days_active</th>         <td>    0.6627</td> <td>    0.002</td> <td>  350.171</td> <td> 0.000</td> <td>    0.659     0.666</td>\n",
       "</tr>\n",
       "<tr>\n",
       "  <th>t1_num_aggression_received</th> <td>   -1.3447</td> <td>    0.049</td> <td>  -27.417</td> <td> 0.000</td> <td>   -1.441    -1.249</td>\n",
       "</tr>\n",
       "</table>"
      ],
      "text/plain": [
       "<class 'statsmodels.iolib.table.SimpleTable'>"
      ]
     },
     "execution_count": 10,
     "metadata": {},
     "output_type": "execute_result"
    }
   ],
   "source": [
    "f =\"t2_num_days_active ~ t1_num_days_active + t1_num_aggression_received\"\n",
    "regress(df_reg, f)"
   ]
  },
  {
   "cell_type": "code",
   "execution_count": 11,
   "metadata": {
    "collapsed": false
   },
   "outputs": [
    {
     "data": {
      "text/html": [
       "<table class=\"simpletable\">\n",
       "<tr>\n",
       "              <td></td>                <th>coef</th>     <th>std err</th>      <th>t</th>      <th>P>|t|</th> <th>[95.0% Conf. Int.]</th> \n",
       "</tr>\n",
       "<tr>\n",
       "  <th>Intercept</th>                <td>   -0.7669</td> <td>    0.006</td> <td> -137.068</td> <td> 0.000</td> <td>   -0.778    -0.756</td>\n",
       "</tr>\n",
       "<tr>\n",
       "  <th>t1_num_days_active</th>       <td>    0.6548</td> <td>    0.002</td> <td>  348.819</td> <td> 0.000</td> <td>    0.651     0.658</td>\n",
       "</tr>\n",
       "<tr>\n",
       "  <th>t1_num_toxicity_received</th> <td>   -0.3383</td> <td>    0.091</td> <td>   -3.725</td> <td> 0.000</td> <td>   -0.516    -0.160</td>\n",
       "</tr>\n",
       "</table>"
      ],
      "text/plain": [
       "<class 'statsmodels.iolib.table.SimpleTable'>"
      ]
     },
     "execution_count": 11,
     "metadata": {},
     "output_type": "execute_result"
    }
   ],
   "source": [
    "f=\"t2_num_days_active ~ t1_num_days_active + t1_num_toxicity_received\"\n",
    "regress(df_reg, f)"
   ]
  },
  {
   "cell_type": "markdown",
   "metadata": {},
   "source": [
    "We see the same general pattern as above, accept that toxic comments received seem to have a weaker association with lower activity in t2 than personal attacks and aggression. Also, the magnitude of the coefficients decreased since we are using a count and not an indicator as above."
   ]
  },
  {
   "cell_type": "markdown",
   "metadata": {},
   "source": [
    "Before we regress an activity measure in t2 on an activity measure in t1 and multiple measures of harassment, lets see how our different measures of harassment correlate:"
   ]
  },
  {
   "cell_type": "code",
   "execution_count": 12,
   "metadata": {
    "collapsed": false
   },
   "outputs": [
    {
     "name": "stdout",
     "output_type": "stream",
     "text": [
      "(0.97434616050296752, 0.0)\n",
      "(0.49586164323313414, 0.0)\n",
      "(0.48773009729386224, 0.0)\n"
     ]
    }
   ],
   "source": [
    "from scipy.stats import pearsonr \n",
    "print(pearsonr(df_reg['t1_num_attacks_received'] ,  df_reg['t1_num_aggression_received']))\n",
    "print(pearsonr(df_reg['t1_num_toxicity_received'] , df_reg['t1_num_aggression_received']))\n",
    "print(pearsonr(df_reg['t1_num_toxicity_received'] , df_reg['t1_num_attacks_received']))"
   ]
  },
  {
   "cell_type": "markdown",
   "metadata": {},
   "source": [
    "Personal attacks and aggression are very highly correlated. This is probably because both questions appeared on the same form. The toxicity measure has a lower though still high correlation with both personal attacks and aggression. Let's try a regression using toxicity and one of the two other measures:"
   ]
  },
  {
   "cell_type": "code",
   "execution_count": 13,
   "metadata": {
    "collapsed": false
   },
   "outputs": [
    {
     "data": {
      "text/html": [
       "<table class=\"simpletable\">\n",
       "<tr>\n",
       "              <td></td>                <th>coef</th>     <th>std err</th>      <th>t</th>      <th>P>|t|</th> <th>[95.0% Conf. Int.]</th> \n",
       "</tr>\n",
       "<tr>\n",
       "  <th>Intercept</th>                <td>   -0.7712</td> <td>    0.006</td> <td> -138.331</td> <td> 0.000</td> <td>   -0.782    -0.760</td>\n",
       "</tr>\n",
       "<tr>\n",
       "  <th>t1_num_days_active</th>       <td>    0.6632</td> <td>    0.002</td> <td>  350.277</td> <td> 0.000</td> <td>    0.659     0.667</td>\n",
       "</tr>\n",
       "<tr>\n",
       "  <th>t1_num_toxicity_received</th> <td>    1.0852</td> <td>    0.104</td> <td>   10.469</td> <td> 0.000</td> <td>    0.882     1.288</td>\n",
       "</tr>\n",
       "<tr>\n",
       "  <th>t1_num_attacks_received</th>  <td>   -1.6150</td> <td>    0.057</td> <td>  -28.125</td> <td> 0.000</td> <td>   -1.728    -1.502</td>\n",
       "</tr>\n",
       "</table>"
      ],
      "text/plain": [
       "<class 'statsmodels.iolib.table.SimpleTable'>"
      ]
     },
     "execution_count": 13,
     "metadata": {},
     "output_type": "execute_result"
    }
   ],
   "source": [
    "f=\"t2_num_days_active ~ t1_num_days_active + t1_num_toxicity_received + t1_num_attacks_received\"\n",
    "regress(df_reg, f)"
   ]
  },
  {
   "cell_type": "markdown",
   "metadata": {},
   "source": [
    "This result is harder to interpret due to the strong correlation between `t1_num_toxicity_received` and `t1_num_attacks_received`."
   ]
  },
  {
   "cell_type": "markdown",
   "metadata": {},
   "source": [
    "#### Linear Regression: How do gender, harassment and activity interact?\n",
    "\n",
    "Gender in Wikiedia is not well defined. After registering, users have the ability to report their gender in their user preferences. The vast majority of users do not report their gender. This may be because reporting their gender is not important to them, they don't want to report a gender, or they simply are unaware of the feature. There is anectodital evidence that users often report an incorrect gender. Overall, this means that we should expect users who report their gender to be different than the rest and we cannot be sure if reported genders are correct. Another caveat for the following analysis is that we do not know when the user reported their gender; they may have changed their user preference after our 2 month interval of interest.\n",
    "\n",
    "\n"
   ]
  },
  {
   "cell_type": "code",
   "execution_count": 14,
   "metadata": {
    "collapsed": false
   },
   "outputs": [
    {
     "data": {
      "text/html": [
       "<table class=\"simpletable\">\n",
       "<tr>\n",
       "       <td></td>         <th>coef</th>     <th>std err</th>      <th>z</th>      <th>P>|z|</th> <th>[95.0% Conf. Int.]</th> \n",
       "</tr>\n",
       "<tr>\n",
       "  <th>Intercept</th>  <td>   -5.0119</td> <td>    0.040</td> <td> -125.282</td> <td> 0.000</td> <td>   -5.090    -4.933</td>\n",
       "</tr>\n",
       "<tr>\n",
       "  <th>has_gender</th> <td>    1.6434</td> <td>    0.095</td> <td>   17.333</td> <td> 0.000</td> <td>    1.458     1.829</td>\n",
       "</tr>\n",
       "</table>"
      ],
      "text/plain": [
       "<class 'statsmodels.iolib.table.SimpleTable'>"
      ]
     },
     "execution_count": 14,
     "metadata": {},
     "output_type": "execute_result"
    }
   ],
   "source": [
    "f=\"t1_harassment_received ~ has_gender\"\n",
    "regress(df_reg, f, family = 'logistic')"
   ]
  },
  {
   "cell_type": "markdown",
   "metadata": {},
   "source": [
    "Users who supply a gender are more likely to receive harassment! Lets see if this is different for males and females:"
   ]
  },
  {
   "cell_type": "code",
   "execution_count": 15,
   "metadata": {
    "collapsed": false
   },
   "outputs": [
    {
     "data": {
      "text/html": [
       "<table class=\"simpletable\">\n",
       "<tr>\n",
       "      <td></td>         <th>coef</th>     <th>std err</th>      <th>z</th>      <th>P>|z|</th> <th>[95.0% Conf. Int.]</th> \n",
       "</tr>\n",
       "<tr>\n",
       "  <th>Intercept</th> <td>   -3.4824</td> <td>    0.100</td> <td>  -34.980</td> <td> 0.000</td> <td>   -3.678    -3.287</td>\n",
       "</tr>\n",
       "<tr>\n",
       "  <th>is_female</th> <td>    0.5424</td> <td>    0.198</td> <td>    2.741</td> <td> 0.006</td> <td>    0.155     0.930</td>\n",
       "</tr>\n",
       "</table>"
      ],
      "text/plain": [
       "<class 'statsmodels.iolib.table.SimpleTable'>"
      ]
     },
     "execution_count": 15,
     "metadata": {},
     "output_type": "execute_result"
    }
   ],
   "source": [
    "f=\"t1_harassment_received ~ is_female\"\n",
    "regress(df_reg.query(\"has_gender == 1\"), f, family = 'logistic')"
   ]
  },
  {
   "cell_type": "markdown",
   "metadata": {},
   "source": [
    "Females have an increased probability of receiving harassment in t1."
   ]
  },
  {
   "cell_type": "code",
   "execution_count": 16,
   "metadata": {
    "collapsed": false
   },
   "outputs": [
    {
     "data": {
      "text/html": [
       "<table class=\"simpletable\">\n",
       "<tr>\n",
       "       <td></td>         <th>coef</th>     <th>std err</th>      <th>t</th>      <th>P>|t|</th> <th>[95.0% Conf. Int.]</th> \n",
       "</tr>\n",
       "<tr>\n",
       "  <th>Intercept</th>  <td>    0.0641</td> <td>    0.001</td> <td>   77.514</td> <td> 0.000</td> <td>    0.062     0.066</td>\n",
       "</tr>\n",
       "<tr>\n",
       "  <th>has_gender</th> <td>    0.1701</td> <td>    0.004</td> <td>   42.328</td> <td> 0.000</td> <td>    0.162     0.178</td>\n",
       "</tr>\n",
       "</table>"
      ],
      "text/plain": [
       "<class 'statsmodels.iolib.table.SimpleTable'>"
      ]
     },
     "execution_count": 16,
     "metadata": {},
     "output_type": "execute_result"
    }
   ],
   "source": [
    "f=\"t2_active ~ has_gender\"\n",
    "regress(df_reg, f)"
   ]
  },
  {
   "cell_type": "markdown",
   "metadata": {},
   "source": [
    "Users who supply a gender are also more likely to be active in t2! Again, lets see if this is different for males and females:"
   ]
  },
  {
   "cell_type": "code",
   "execution_count": 17,
   "metadata": {
    "collapsed": false
   },
   "outputs": [
    {
     "data": {
      "text/html": [
       "<table class=\"simpletable\">\n",
       "<tr>\n",
       "      <td></td>         <th>coef</th>     <th>std err</th>      <th>z</th>      <th>P>|z|</th> <th>[95.0% Conf. Int.]</th> \n",
       "</tr>\n",
       "<tr>\n",
       "  <th>Intercept</th> <td>   -1.1576</td> <td>    0.040</td> <td>  -29.161</td> <td> 0.000</td> <td>   -1.235    -1.080</td>\n",
       "</tr>\n",
       "<tr>\n",
       "  <th>is_female</th> <td>   -0.1637</td> <td>    0.100</td> <td>   -1.640</td> <td> 0.101</td> <td>   -0.359     0.032</td>\n",
       "</tr>\n",
       "</table>"
      ],
      "text/plain": [
       "<class 'statsmodels.iolib.table.SimpleTable'>"
      ]
     },
     "execution_count": 17,
     "metadata": {},
     "output_type": "execute_result"
    }
   ],
   "source": [
    "f=\"t2_active ~ is_female\"\n",
    "regress(df_reg.query(\"has_gender == 1\"), f, family = 'logistic')"
   ]
  },
  {
   "cell_type": "markdown",
   "metadata": {},
   "source": [
    "Females have a descreased probability of being active in t1, although the effect is not significant. Lets see what happens when we control for activity in t1."
   ]
  },
  {
   "cell_type": "code",
   "execution_count": 18,
   "metadata": {
    "collapsed": false
   },
   "outputs": [
    {
     "data": {
      "text/html": [
       "<table class=\"simpletable\">\n",
       "<tr>\n",
       "           <td></td>             <th>coef</th>     <th>std err</th>      <th>t</th>      <th>P>|t|</th> <th>[95.0% Conf. Int.]</th> \n",
       "</tr>\n",
       "<tr>\n",
       "  <th>Intercept</th>          <td>   -0.7741</td> <td>    0.006</td> <td> -138.212</td> <td> 0.000</td> <td>   -0.785    -0.763</td>\n",
       "</tr>\n",
       "<tr>\n",
       "  <th>t1_num_days_active</th> <td>    0.6485</td> <td>    0.002</td> <td>  340.575</td> <td> 0.000</td> <td>    0.645     0.652</td>\n",
       "</tr>\n",
       "<tr>\n",
       "  <th>has_gender</th>         <td>    0.4127</td> <td>    0.023</td> <td>   17.812</td> <td> 0.000</td> <td>    0.367     0.458</td>\n",
       "</tr>\n",
       "</table>"
      ],
      "text/plain": [
       "<class 'statsmodels.iolib.table.SimpleTable'>"
      ]
     },
     "execution_count": 18,
     "metadata": {},
     "output_type": "execute_result"
    }
   ],
   "source": [
    "f=\"t2_num_days_active ~ t1_num_days_active + has_gender\"\n",
    "regress(df_reg, f)"
   ]
  },
  {
   "cell_type": "markdown",
   "metadata": {},
   "source": [
    "Users who supply a gender appear to be more active in t2 even after controlling for activity in t1."
   ]
  },
  {
   "cell_type": "code",
   "execution_count": 19,
   "metadata": {
    "collapsed": false
   },
   "outputs": [
    {
     "data": {
      "text/html": [
       "<table class=\"simpletable\">\n",
       "<tr>\n",
       "           <td></td>             <th>coef</th>     <th>std err</th>      <th>t</th>      <th>P>|t|</th> <th>[95.0% Conf. Int.]</th> \n",
       "</tr>\n",
       "<tr>\n",
       "  <th>Intercept</th>          <td>   -0.9551</td> <td>    0.067</td> <td>  -14.236</td> <td> 0.000</td> <td>   -1.087    -0.824</td>\n",
       "</tr>\n",
       "<tr>\n",
       "  <th>t1_num_days_active</th> <td>    0.8225</td> <td>    0.009</td> <td>   91.613</td> <td> 0.000</td> <td>    0.805     0.840</td>\n",
       "</tr>\n",
       "<tr>\n",
       "  <th>is_female</th>          <td>   -0.3886</td> <td>    0.139</td> <td>   -2.801</td> <td> 0.005</td> <td>   -0.661    -0.117</td>\n",
       "</tr>\n",
       "</table>"
      ],
      "text/plain": [
       "<class 'statsmodels.iolib.table.SimpleTable'>"
      ]
     },
     "execution_count": 19,
     "metadata": {},
     "output_type": "execute_result"
    }
   ],
   "source": [
    "f=\"t2_num_days_active ~ t1_num_days_active + is_female\"\n",
    "regress(df_reg.query(\"has_gender == 1\"), f)"
   ]
  },
  {
   "cell_type": "markdown",
   "metadata": {},
   "source": [
    "Females appear to have decreased activity in t2 even after controlling for activity in t1 compared to males."
   ]
  },
  {
   "cell_type": "code",
   "execution_count": 20,
   "metadata": {
    "collapsed": false
   },
   "outputs": [
    {
     "data": {
      "text/html": [
       "<table class=\"simpletable\">\n",
       "<tr>\n",
       "                  <td></td>                     <th>coef</th>     <th>std err</th>      <th>t</th>      <th>P>|t|</th> <th>[95.0% Conf. Int.]</th> \n",
       "</tr>\n",
       "<tr>\n",
       "  <th>Intercept</th>                         <td>   -0.7794</td> <td>    0.006</td> <td> -139.606</td> <td> 0.000</td> <td>   -0.790    -0.768</td>\n",
       "</tr>\n",
       "<tr>\n",
       "  <th>t1_num_days_active</th>                <td>    0.6575</td> <td>    0.002</td> <td>  342.434</td> <td> 0.000</td> <td>    0.654     0.661</td>\n",
       "</tr>\n",
       "<tr>\n",
       "  <th>t1_harassment_received</th>            <td>   -1.4099</td> <td>    0.058</td> <td>  -24.253</td> <td> 0.000</td> <td>   -1.524    -1.296</td>\n",
       "</tr>\n",
       "<tr>\n",
       "  <th>has_gender</th>                        <td>    0.4556</td> <td>    0.023</td> <td>   19.476</td> <td> 0.000</td> <td>    0.410     0.501</td>\n",
       "</tr>\n",
       "<tr>\n",
       "  <th>t1_harassment_received:has_gender</th> <td>   -0.7548</td> <td>    0.137</td> <td>   -5.526</td> <td> 0.000</td> <td>   -1.022    -0.487</td>\n",
       "</tr>\n",
       "</table>"
      ],
      "text/plain": [
       "<class 'statsmodels.iolib.table.SimpleTable'>"
      ]
     },
     "execution_count": 20,
     "metadata": {},
     "output_type": "execute_result"
    }
   ],
   "source": [
    "f=\"t2_num_days_active ~ t1_num_days_active + t1_harassment_received * has_gender\"\n",
    "regress(df_reg, f)"
   ]
  },
  {
   "cell_type": "markdown",
   "metadata": {},
   "source": [
    "It seems like users who supply a gender and receive harassment have even more strongly reduced activity in t2 compared to users who do not supply a gender and get harassed."
   ]
  },
  {
   "cell_type": "code",
   "execution_count": 21,
   "metadata": {
    "collapsed": false
   },
   "outputs": [
    {
     "data": {
      "text/html": [
       "<table class=\"simpletable\">\n",
       "<tr>\n",
       "                  <td></td>                    <th>coef</th>     <th>std err</th>      <th>t</th>      <th>P>|t|</th> <th>[95.0% Conf. Int.]</th> \n",
       "</tr>\n",
       "<tr>\n",
       "  <th>Intercept</th>                        <td>   -0.9257</td> <td>    0.066</td> <td>  -13.943</td> <td> 0.000</td> <td>   -1.056    -0.796</td>\n",
       "</tr>\n",
       "<tr>\n",
       "  <th>t1_num_days_active</th>               <td>    0.8402</td> <td>    0.009</td> <td>   93.345</td> <td> 0.000</td> <td>    0.823     0.858</td>\n",
       "</tr>\n",
       "<tr>\n",
       "  <th>t1_harassment_received</th>           <td>   -3.3005</td> <td>    0.336</td> <td>   -9.820</td> <td> 0.000</td> <td>   -3.959    -2.642</td>\n",
       "</tr>\n",
       "<tr>\n",
       "  <th>is_female</th>                        <td>   -0.3325</td> <td>    0.140</td> <td>   -2.372</td> <td> 0.018</td> <td>   -0.607    -0.058</td>\n",
       "</tr>\n",
       "<tr>\n",
       "  <th>t1_harassment_received:is_female</th> <td>    0.4436</td> <td>    0.660</td> <td>    0.672</td> <td> 0.501</td> <td>   -0.850     1.737</td>\n",
       "</tr>\n",
       "</table>"
      ],
      "text/plain": [
       "<class 'statsmodels.iolib.table.SimpleTable'>"
      ]
     },
     "execution_count": 21,
     "metadata": {},
     "output_type": "execute_result"
    }
   ],
   "source": [
    "f=\"t2_num_days_active ~ t1_num_days_active + t1_harassment_received * is_female\"\n",
    "regress(df_reg.query(\"has_gender == 1\"), f)"
   ]
  },
  {
   "cell_type": "markdown",
   "metadata": {},
   "source": [
    "Although the effect is not significant, it seems like females who receive harassment have even more strongly reduced activity in t2."
   ]
  },
  {
   "cell_type": "markdown",
   "metadata": {},
   "source": [
    "#### Linear regression: addressing the bad newcomer confound\n",
    "\n",
    "A serious potential confound in our analyses could be that the users who receive harassment are just bad faith newcomers or sock-puppets. They get attacked for their misbehavior and reduce their activity in t2 because they get blocked or because they never intended to stick around past their own attacks. To reduce this confound, we control for whether the user harassed anyone in t1 and for whether they received an user warning of any type:"
   ]
  },
  {
   "cell_type": "code",
   "execution_count": 23,
   "metadata": {
    "collapsed": false
   },
   "outputs": [
    {
     "data": {
      "text/html": [
       "<table class=\"simpletable\">\n",
       "<tr>\n",
       "                         <td></td>                            <th>coef</th>     <th>std err</th>      <th>t</th>      <th>P>|t|</th> <th>[95.0% Conf. Int.]</th> \n",
       "</tr>\n",
       "<tr>\n",
       "  <th>Intercept</th>                                       <td>   -0.7702</td> <td>    0.006</td> <td> -137.792</td> <td> 0.000</td> <td>   -0.781    -0.759</td>\n",
       "</tr>\n",
       "<tr>\n",
       "  <th>t1_num_days_active</th>                              <td>    0.6690</td> <td>    0.002</td> <td>  348.027</td> <td> 0.000</td> <td>    0.665     0.673</td>\n",
       "</tr>\n",
       "<tr>\n",
       "  <th>t1_harassment_received</th>                          <td>   -1.4574</td> <td>    0.055</td> <td>  -26.318</td> <td> 0.000</td> <td>   -1.566    -1.349</td>\n",
       "</tr>\n",
       "<tr>\n",
       "  <th>t1_harassment_made</th>                              <td>   -0.7307</td> <td>    0.050</td> <td>  -14.742</td> <td> 0.000</td> <td>   -0.828    -0.634</td>\n",
       "</tr>\n",
       "<tr>\n",
       "  <th>t1_harassment_made:t1_harassment_received</th>       <td>   -0.2378</td> <td>    0.190</td> <td>   -1.251</td> <td> 0.211</td> <td>   -0.610     0.135</td>\n",
       "</tr>\n",
       "<tr>\n",
       "  <th>t1_num_warnings_recieved</th>                        <td>   -0.1032</td> <td>    0.020</td> <td>   -5.130</td> <td> 0.000</td> <td>   -0.143    -0.064</td>\n",
       "</tr>\n",
       "<tr>\n",
       "  <th>t1_num_warnings_recieved:t1_harassment_received</th> <td>    0.0942</td> <td>    0.035</td> <td>    2.667</td> <td> 0.008</td> <td>    0.025     0.163</td>\n",
       "</tr>\n",
       "</table>"
      ],
      "text/plain": [
       "<class 'statsmodels.iolib.table.SimpleTable'>"
      ]
     },
     "execution_count": 23,
     "metadata": {},
     "output_type": "execute_result"
    }
   ],
   "source": [
    "f=\"t2_num_days_active ~ t1_num_days_active + t1_harassment_received + t1_harassment_made * t1_harassment_received + t1_num_warnings_recieved * t1_harassment_received \"\n",
    "regress(df_reg, f)"
   ]
  },
  {
   "cell_type": "markdown",
   "metadata": {},
   "source": [
    "Even users who receive harassment but did not harass anyone or receive a user warning show reduced activity in t2."
   ]
  },
  {
   "cell_type": "markdown",
   "metadata": {},
   "source": [
    "#### Linear regression: add revert and deletion features"
   ]
  },
  {
   "cell_type": "code",
   "execution_count": null,
   "metadata": {
    "collapsed": true
   },
   "outputs": [],
   "source": []
  },
  {
   "cell_type": "markdown",
   "metadata": {},
   "source": [
    "### Investigate some newcomer experiences\n",
    "\n",
    "Our regression analyses have established that newcomer who receive harassment show a greater subsequent decline in activity than normal. Let's look at a few example of newcomers, what edits they made and how other interacted with them."
   ]
  }
 ],
 "metadata": {
  "anaconda-cloud": {},
  "kernelspec": {
   "display_name": "Python [default]",
   "language": "python",
   "name": "python3"
  }
 },
 "nbformat": 4,
 "nbformat_minor": 0
}
