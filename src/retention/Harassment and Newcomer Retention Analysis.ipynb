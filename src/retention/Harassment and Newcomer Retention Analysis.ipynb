{
 "cells": [
  {
   "cell_type": "markdown",
   "metadata": {},
   "source": [
    "# Harassment and Newcomer Retention\n",
    "\n",
    "In this notebook we investigate how receiving harassment correlates with newcomer activity and retention. For the purposes of this study, our measures of harassment are classifiers over individual discussion comments for personal attacks, aggression and toxicity. These classifiers were developed [in previous work](https://arxiv.org/abs/1610.08914). We will investigate the relationship between harassment and newcomer retention through running regression models that use a measures of editing activity and harassment in a first time span (t1) as independent variables and a measure of editing activity in a subsequent time span (t2) as the dependent variable.\n",
    "\n",
    "In the following analyses, t1 is the first month after registering and t2 is the second month after registering, but this could be modified in further analysis. Our initial set of examples consists of all (20k) newcomers to English Wikipedia from 2001-2015 that received a personal attack or an aggressive or toxic comment on their user page by another user in t1 and a random sample of 100k newcomers from 2001-2015. We the reduced the set of examples to those newcomers who made at least one edit in t1. "
   ]
  },
  {
   "cell_type": "code",
   "execution_count": 143,
   "metadata": {
    "collapsed": true
   },
   "outputs": [],
   "source": [
    "% matplotlib inline\n",
    "import pandas as pd\n",
    "from dateutil.relativedelta import relativedelta\n",
    "import statsmodels.formula.api as sm\n",
    "import requests"
   ]
  },
  {
   "cell_type": "markdown",
   "metadata": {},
   "source": [
    "### Regression Modeling\n"
   ]
  },
  {
   "cell_type": "code",
   "execution_count": 144,
   "metadata": {
    "collapsed": false
   },
   "outputs": [],
   "source": [
    "#Features computes in ./Harassment and Newcomer Retention Data Munging.ipynb\n",
    "df_reg = pd.read_csv(\"../../data/retention/newcomer_sample_features.csv\")"
   ]
  },
  {
   "cell_type": "code",
   "execution_count": 145,
   "metadata": {
    "collapsed": false
   },
   "outputs": [
    {
     "data": {
      "text/plain": [
       "(111290, 24)"
      ]
     },
     "execution_count": 145,
     "metadata": {},
     "output_type": "execute_result"
    }
   ],
   "source": [
    "df_reg.shape"
   ]
  },
  {
   "cell_type": "code",
   "execution_count": 146,
   "metadata": {
    "collapsed": true
   },
   "outputs": [],
   "source": [
    "df_newcomer_sample = pd.read_csv(\"../../data/retention/newcomer_sample.csv\")\n",
    "df_reg = df_reg.merge(df_newcomer_sample, on = \"user_text\", how = \"inner\")"
   ]
  },
  {
   "cell_type": "code",
   "execution_count": 147,
   "metadata": {
    "collapsed": false
   },
   "outputs": [
    {
     "data": {
      "text/plain": [
       "(111290, 26)"
      ]
     },
     "execution_count": 147,
     "metadata": {},
     "output_type": "execute_result"
    }
   ],
   "source": [
    "df_reg.shape"
   ]
  },
  {
   "cell_type": "code",
   "execution_count": 148,
   "metadata": {
    "collapsed": false
   },
   "outputs": [
    {
     "data": {
      "text/plain": [
       "random      92469\n",
       "attacked    18821\n",
       "Name: sample, dtype: int64"
      ]
     },
     "execution_count": 148,
     "metadata": {},
     "output_type": "execute_result"
    }
   ],
   "source": [
    "df_reg['sample'].value_counts()"
   ]
  },
  {
   "cell_type": "code",
   "execution_count": 149,
   "metadata": {
    "collapsed": false
   },
   "outputs": [
    {
     "data": {
      "text/plain": [
       "0    108887\n",
       "1      2403\n",
       "Name: t1_harassment_received, dtype: int64"
      ]
     },
     "execution_count": 149,
     "metadata": {},
     "output_type": "execute_result"
    }
   ],
   "source": [
    "df_reg['t1_harassment_received'].value_counts()"
   ]
  },
  {
   "cell_type": "code",
   "execution_count": 150,
   "metadata": {
    "collapsed": false
   },
   "outputs": [
    {
     "data": {
      "text/plain": [
       "0    105896\n",
       "1      5394\n",
       "Name: has_gender, dtype: int64"
      ]
     },
     "execution_count": 150,
     "metadata": {},
     "output_type": "execute_result"
    }
   ],
   "source": [
    "df_reg['has_gender'].value_counts()"
   ]
  },
  {
   "cell_type": "code",
   "execution_count": 151,
   "metadata": {
    "collapsed": false
   },
   "outputs": [
    {
     "data": {
      "text/plain": [
       "1    111290\n",
       "Name: t1_active, dtype: int64"
      ]
     },
     "execution_count": 151,
     "metadata": {},
     "output_type": "execute_result"
    }
   ],
   "source": [
    "df_reg['t1_active'].value_counts()"
   ]
  },
  {
   "cell_type": "code",
   "execution_count": 152,
   "metadata": {
    "collapsed": false
   },
   "outputs": [],
   "source": [
    "df_reg = pd.concat(\n",
    "    [df_reg.query('t1_harassment_received == 1'), df_reg.query(\"sample == 'random'\").sample(50000, random_state = 12)]\n",
    ").drop_duplicates(subset = \"user_text\")"
   ]
  },
  {
   "cell_type": "code",
   "execution_count": 153,
   "metadata": {
    "collapsed": false
   },
   "outputs": [
    {
     "data": {
      "text/plain": [
       "random      50014\n",
       "attacked     2375\n",
       "Name: sample, dtype: int64"
      ]
     },
     "execution_count": 153,
     "metadata": {},
     "output_type": "execute_result"
    }
   ],
   "source": [
    "df_reg['sample'].value_counts()"
   ]
  },
  {
   "cell_type": "code",
   "execution_count": 154,
   "metadata": {
    "collapsed": false
   },
   "outputs": [
    {
     "data": {
      "text/plain": [
       "0    49986\n",
       "1     2403\n",
       "Name: t1_harassment_received, dtype: int64"
      ]
     },
     "execution_count": 154,
     "metadata": {},
     "output_type": "execute_result"
    }
   ],
   "source": [
    "df_reg['t1_harassment_received'].value_counts()"
   ]
  },
  {
   "cell_type": "code",
   "execution_count": 155,
   "metadata": {
    "collapsed": false
   },
   "outputs": [
    {
     "data": {
      "text/plain": [
       "(52389, 26)"
      ]
     },
     "execution_count": 155,
     "metadata": {},
     "output_type": "execute_result"
    }
   ],
   "source": [
    "df_reg.shape"
   ]
  },
  {
   "cell_type": "code",
   "execution_count": 184,
   "metadata": {
    "collapsed": false
   },
   "outputs": [
    {
     "data": {
      "text/plain": [
       "Index(['user_text', 'is_female', 'is_male', 'registration_day',\n",
       "       't1_fraction_ns0_deleted', 't1_fraction_ns0_productive',\n",
       "       't1_fraction_ns0_reverted', 't1_num_aggression_received',\n",
       "       't1_num_aggresssion_made', 't1_num_attacks_made',\n",
       "       't1_num_attacks_received', 't1_num_days_active', 't1_num_edits',\n",
       "       't1_num_ns0_edits', 't1_num_toxicity_made', 't1_num_toxicity_received',\n",
       "       't1_num_warnings_recieved', 't2_num_days_active', 't2_num_edits',\n",
       "       't1_active', 't2_active', 't1_harassment_received',\n",
       "       't1_harassment_made', 'has_gender', 'Unnamed: 0', 'sample'],\n",
       "      dtype='object')"
      ]
     },
     "execution_count": 184,
     "metadata": {},
     "output_type": "execute_result"
    }
   ],
   "source": [
    "df_reg.columns"
   ]
  },
  {
   "cell_type": "code",
   "execution_count": 187,
   "metadata": {
    "collapsed": false
   },
   "outputs": [],
   "source": [
    "from io import StringIO\n",
    "import math\n",
    "import pandas as pd\n",
    "\n",
    "\n",
    "def reformat_ci(s):\n",
    "    ci = s.strip().split()\n",
    "    ci = (round(float(ci[0]), 1), round(float(ci[1]), 1))\n",
    "    return \"[%.1f, %.1f]\" % ci\n",
    "\n",
    "def regress(df, f, family = 'linear'):\n",
    "    if family == 'linear':\n",
    "        results = sm.ols(formula=f, data=df).fit()\n",
    "        column_map = {\n",
    "            '                      ': \"\",\n",
    "            '   coef   ' : 'coef',\n",
    "           'P>|t| ': \"p-val\",\n",
    "            '    t    ': \"z-stat\",\n",
    "           ' [95.0% Conf. Int.]': \"95% CI\"\n",
    "        }\n",
    "\n",
    "    elif family == 'logistic':\n",
    "        results = sm.logit(formula=f, data=df).fit(disp=0)\n",
    "        column_map = {\n",
    "            '                      ': \"\",\n",
    "            '   coef   ' : 'coef',\n",
    "           'P>|z| ': \"p-val\",\n",
    "            '    z    ': \"z-stat\",\n",
    "           ' [95.0% Conf. Int.]': \"95% CI\"\n",
    "        }\n",
    "        \n",
    "    results = pd.read_csv(StringIO(results.summary().tables[1].as_csv()))\n",
    "    results = results.rename(columns=column_map)\n",
    "    results.index = results[\"\"]\n",
    "    del results[\"\"]\n",
    "    results = results[['coef', \"z-stat\", \"p-val\", \"95% CI\"]]\n",
    "    results['coef'] = results['coef'].apply(lambda x: round(float(x), 2))\n",
    "    results['z-stat'] = results['z-stat'].apply(lambda x: round(float(x), 1))\n",
    "    results['p-val'] = results['p-val'].apply(lambda x: round(float(x), 3))\n",
    "    results['95% CI'] = results['95% CI'].apply(reformat_ci)\n",
    "    header = \"\"\"\n",
    "\\\\begin{table}[h]\n",
    "\\\\begin{center}\n",
    "    \"\"\"\n",
    "    footer = \"\"\"\n",
    "\\\\end{center}\n",
    "\\\\caption{%s}\n",
    "\\\\label{}\n",
    "\\\\end{table}\n",
    "    \"\"\"\n",
    "    f = f.replace(\"_\", \"\\_\").replace(\"~\", \"\\\\texttildelow\\\\\")\n",
    "    latex = header + results.to_latex() + footer % f\n",
    "    print(latex)\n",
    "    return results\n",
    "        \n",
    "    \n",
    "    "
   ]
  },
  {
   "cell_type": "markdown",
   "metadata": {},
   "source": [
    "#### Logistic Regression: Does receiving harassment in t1 make you less likely to make an edit t2?"
   ]
  },
  {
   "cell_type": "code",
   "execution_count": 183,
   "metadata": {
    "collapsed": false
   },
   "outputs": [
    {
     "name": "stdout",
     "output_type": "stream",
     "text": [
      "\n",
      "\\begin{table}[h]\n",
      "\\begin{center}\n",
      "    \\begin{tabular}{lrrrl}\n",
      "\\toprule\n",
      "{} &  coef &  z-stat &  p-val &        95\\% CI \\\\\n",
      "\\midrule\n",
      "                       &       &         &        &               \\\\\n",
      "Intercept              & -2.74 &  -146.2 &    0.0 &  [-2.8, -2.7] \\\\\n",
      "t1\\_harassment\\_received &  1.73 &    34.7 &    0.0 &    [1.6, 1.8] \\\\\n",
      "\\bottomrule\n",
      "\\end{tabular}\n",
      "\n",
      "\\end{center}\n",
      "\\caption{t2\\_active \\texttildelow\\ t1\\_harassment\\_received}\n",
      "\\label{}\n",
      "\\end{table}\n",
      "    \n"
     ]
    },
    {
     "data": {
      "text/html": [
       "<div>\n",
       "<table border=\"1\" class=\"dataframe\">\n",
       "  <thead>\n",
       "    <tr style=\"text-align: right;\">\n",
       "      <th></th>\n",
       "      <th>coef</th>\n",
       "      <th>z-stat</th>\n",
       "      <th>p-val</th>\n",
       "      <th>95% CI</th>\n",
       "    </tr>\n",
       "    <tr>\n",
       "      <th></th>\n",
       "      <th></th>\n",
       "      <th></th>\n",
       "      <th></th>\n",
       "      <th></th>\n",
       "    </tr>\n",
       "  </thead>\n",
       "  <tbody>\n",
       "    <tr>\n",
       "      <th>Intercept</th>\n",
       "      <td>-2.74</td>\n",
       "      <td>-146.2</td>\n",
       "      <td>0.0</td>\n",
       "      <td>[-2.8, -2.7]</td>\n",
       "    </tr>\n",
       "    <tr>\n",
       "      <th>t1_harassment_received</th>\n",
       "      <td>1.73</td>\n",
       "      <td>34.7</td>\n",
       "      <td>0.0</td>\n",
       "      <td>[1.6, 1.8]</td>\n",
       "    </tr>\n",
       "  </tbody>\n",
       "</table>\n",
       "</div>"
      ],
      "text/plain": [
       "                        coef  z-stat  p-val        95% CI\n",
       "                                                         \n",
       "Intercept              -2.74  -146.2    0.0  [-2.8, -2.7]\n",
       "t1_harassment_received  1.73    34.7    0.0    [1.6, 1.8]"
      ]
     },
     "execution_count": 183,
     "metadata": {},
     "output_type": "execute_result"
    }
   ],
   "source": [
    "f = \"t2_active ~ t1_harassment_received\"\n",
    "regress(df_reg, f, family = 'logistic')"
   ]
  },
  {
   "cell_type": "markdown",
   "metadata": {},
   "source": [
    "This model suggests that users who receive harassment have increased probability of being active in t2, compared to users who did not receive harassment. Lets control for how active the user was in t1 to see if the result holds."
   ]
  },
  {
   "cell_type": "code",
   "execution_count": 173,
   "metadata": {
    "collapsed": false
   },
   "outputs": [
    {
     "name": "stdout",
     "output_type": "stream",
     "text": [
      "\n",
      "\\begin{table}[h]\n",
      "\\begin{center}\n",
      "    \\begin{tabular}{lrrrl}\n",
      "\\toprule\n",
      "{} &  coef &  z-stat &  p-val &        95\\% CI \\\\\n",
      "\\midrule\n",
      "                       &       &         &        &               \\\\\n",
      "Intercept              & -3.57 &  -133.1 &    0.0 &  [-3.6, -3.5] \\\\\n",
      "t1\\_harassment\\_received & -0.35 &    -4.3 &    0.0 &  [-0.5, -0.2] \\\\\n",
      "t1\\_num\\_days\\_active     &  0.42 &    51.2 &    0.0 &    [0.4, 0.4] \\\\\n",
      "\\bottomrule\n",
      "\\end{tabular}\n",
      "\n",
      "\\end{center}\n",
      "\\caption{t2\\_active \\texttildelow\\ t1\\_harassment\\_received + t1\\_num\\_days\\_active}\n",
      "\\label{}\n",
      "\\end{table}\n",
      "    \n"
     ]
    },
    {
     "data": {
      "text/html": [
       "<div>\n",
       "<table border=\"1\" class=\"dataframe\">\n",
       "  <thead>\n",
       "    <tr style=\"text-align: right;\">\n",
       "      <th></th>\n",
       "      <th>coef</th>\n",
       "      <th>z-stat</th>\n",
       "      <th>p-val</th>\n",
       "      <th>95% CI</th>\n",
       "    </tr>\n",
       "    <tr>\n",
       "      <th></th>\n",
       "      <th></th>\n",
       "      <th></th>\n",
       "      <th></th>\n",
       "      <th></th>\n",
       "    </tr>\n",
       "  </thead>\n",
       "  <tbody>\n",
       "    <tr>\n",
       "      <th>Intercept</th>\n",
       "      <td>-3.57</td>\n",
       "      <td>-133.1</td>\n",
       "      <td>0.0</td>\n",
       "      <td>[-3.6, -3.5]</td>\n",
       "    </tr>\n",
       "    <tr>\n",
       "      <th>t1_harassment_received</th>\n",
       "      <td>-0.35</td>\n",
       "      <td>-4.3</td>\n",
       "      <td>0.0</td>\n",
       "      <td>[-0.5, -0.2]</td>\n",
       "    </tr>\n",
       "    <tr>\n",
       "      <th>t1_num_days_active</th>\n",
       "      <td>0.42</td>\n",
       "      <td>51.2</td>\n",
       "      <td>0.0</td>\n",
       "      <td>[0.4, 0.4]</td>\n",
       "    </tr>\n",
       "  </tbody>\n",
       "</table>\n",
       "</div>"
      ],
      "text/plain": [
       "                        coef  z-stat  p-val        95% CI\n",
       "                                                         \n",
       "Intercept              -3.57  -133.1    0.0  [-3.6, -3.5]\n",
       "t1_harassment_received -0.35    -4.3    0.0  [-0.5, -0.2]\n",
       "t1_num_days_active      0.42    51.2    0.0    [0.4, 0.4]"
      ]
     },
     "execution_count": 173,
     "metadata": {},
     "output_type": "execute_result"
    }
   ],
   "source": [
    "f =\"t2_active ~ t1_harassment_received + t1_num_days_active\"\n",
    "regress(df_reg, f, family = 'logistic')"
   ]
  },
  {
   "cell_type": "markdown",
   "metadata": {},
   "source": [
    "After controlling for the number of days a user was active in t1, we see that users receiving harassment have a decreased probability of activity in t2."
   ]
  },
  {
   "cell_type": "markdown",
   "metadata": {},
   "source": [
    "#### Linear Regression: Is harassment correlated with reduction in activity from t1 to t2?\n",
    "\n",
    "Instead of running a logistic regression using an indicator for activity in t2 as our dependent variable, we will run a linear regression using the the number of days active in t2 as our dependent variable."
   ]
  },
  {
   "cell_type": "code",
   "execution_count": 174,
   "metadata": {
    "collapsed": false
   },
   "outputs": [
    {
     "name": "stdout",
     "output_type": "stream",
     "text": [
      "\n",
      "\\begin{table}[h]\n",
      "\\begin{center}\n",
      "    \\begin{tabular}{lrrrl}\n",
      "\\toprule\n",
      "{} &  coef &  z-stat &  p-val &      95\\% CI \\\\\n",
      "\\midrule\n",
      "                       &       &         &        &             \\\\\n",
      "Intercept              &  0.18 &    23.9 &    0.0 &  [0.2, 0.2] \\\\\n",
      "t1\\_harassment\\_received &  1.86 &    53.2 &    0.0 &  [1.8, 1.9] \\\\\n",
      "\\bottomrule\n",
      "\\end{tabular}\n",
      "\n",
      "\\end{center}\n",
      "\\caption{t2\\_num\\_days\\_active \\texttildelow\\ t1\\_harassment\\_received}\n",
      "\\label{}\n",
      "\\end{table}\n",
      "    \n"
     ]
    },
    {
     "data": {
      "text/html": [
       "<div>\n",
       "<table border=\"1\" class=\"dataframe\">\n",
       "  <thead>\n",
       "    <tr style=\"text-align: right;\">\n",
       "      <th></th>\n",
       "      <th>coef</th>\n",
       "      <th>z-stat</th>\n",
       "      <th>p-val</th>\n",
       "      <th>95% CI</th>\n",
       "    </tr>\n",
       "    <tr>\n",
       "      <th></th>\n",
       "      <th></th>\n",
       "      <th></th>\n",
       "      <th></th>\n",
       "      <th></th>\n",
       "    </tr>\n",
       "  </thead>\n",
       "  <tbody>\n",
       "    <tr>\n",
       "      <th>Intercept</th>\n",
       "      <td>0.18</td>\n",
       "      <td>23.9</td>\n",
       "      <td>0.0</td>\n",
       "      <td>[0.2, 0.2]</td>\n",
       "    </tr>\n",
       "    <tr>\n",
       "      <th>t1_harassment_received</th>\n",
       "      <td>1.86</td>\n",
       "      <td>53.2</td>\n",
       "      <td>0.0</td>\n",
       "      <td>[1.8, 1.9]</td>\n",
       "    </tr>\n",
       "  </tbody>\n",
       "</table>\n",
       "</div>"
      ],
      "text/plain": [
       "                        coef  z-stat  p-val      95% CI\n",
       "                                                       \n",
       "Intercept               0.18    23.9    0.0  [0.2, 0.2]\n",
       "t1_harassment_received  1.86    53.2    0.0  [1.8, 1.9]"
      ]
     },
     "execution_count": 174,
     "metadata": {},
     "output_type": "execute_result"
    }
   ],
   "source": [
    "f =\"t2_num_days_active ~ t1_harassment_received\"\n",
    "regress(df_reg, f)"
   ]
  },
  {
   "cell_type": "markdown",
   "metadata": {},
   "source": [
    "We see a similar results as above. Without controlling for activity in t1, users who receive harassment have, on average, more active days in t2."
   ]
  },
  {
   "cell_type": "code",
   "execution_count": 175,
   "metadata": {
    "collapsed": false
   },
   "outputs": [
    {
     "name": "stdout",
     "output_type": "stream",
     "text": [
      "\n",
      "\\begin{table}[h]\n",
      "\\begin{center}\n",
      "    \\begin{tabular}{lrrrl}\n",
      "\\toprule\n",
      "{} &  coef &  z-stat &  p-val &        95\\% CI \\\\\n",
      "\\midrule\n",
      "                       &       &         &        &               \\\\\n",
      "Intercept              & -0.57 &   -81.4 &    0.0 &  [-0.6, -0.6] \\\\\n",
      "t1\\_num\\_days\\_active     &  0.49 &   191.0 &    0.0 &    [0.5, 0.5] \\\\\n",
      "t1\\_harassment\\_received & -0.47 &   -16.1 &    0.0 &  [-0.5, -0.4] \\\\\n",
      "\\bottomrule\n",
      "\\end{tabular}\n",
      "\n",
      "\\end{center}\n",
      "\\caption{t2\\_num\\_days\\_active \\texttildelow\\ t1\\_num\\_days\\_active + t1\\_harassment\\_received}\n",
      "\\label{}\n",
      "\\end{table}\n",
      "    \n"
     ]
    },
    {
     "data": {
      "text/html": [
       "<div>\n",
       "<table border=\"1\" class=\"dataframe\">\n",
       "  <thead>\n",
       "    <tr style=\"text-align: right;\">\n",
       "      <th></th>\n",
       "      <th>coef</th>\n",
       "      <th>z-stat</th>\n",
       "      <th>p-val</th>\n",
       "      <th>95% CI</th>\n",
       "    </tr>\n",
       "    <tr>\n",
       "      <th></th>\n",
       "      <th></th>\n",
       "      <th></th>\n",
       "      <th></th>\n",
       "      <th></th>\n",
       "    </tr>\n",
       "  </thead>\n",
       "  <tbody>\n",
       "    <tr>\n",
       "      <th>Intercept</th>\n",
       "      <td>-0.57</td>\n",
       "      <td>-81.4</td>\n",
       "      <td>0.0</td>\n",
       "      <td>[-0.6, -0.6]</td>\n",
       "    </tr>\n",
       "    <tr>\n",
       "      <th>t1_num_days_active</th>\n",
       "      <td>0.49</td>\n",
       "      <td>191.0</td>\n",
       "      <td>0.0</td>\n",
       "      <td>[0.5, 0.5]</td>\n",
       "    </tr>\n",
       "    <tr>\n",
       "      <th>t1_harassment_received</th>\n",
       "      <td>-0.47</td>\n",
       "      <td>-16.1</td>\n",
       "      <td>0.0</td>\n",
       "      <td>[-0.5, -0.4]</td>\n",
       "    </tr>\n",
       "  </tbody>\n",
       "</table>\n",
       "</div>"
      ],
      "text/plain": [
       "                        coef  z-stat  p-val        95% CI\n",
       "                                                         \n",
       "Intercept              -0.57   -81.4    0.0  [-0.6, -0.6]\n",
       "t1_num_days_active      0.49   191.0    0.0    [0.5, 0.5]\n",
       "t1_harassment_received -0.47   -16.1    0.0  [-0.5, -0.4]"
      ]
     },
     "execution_count": 175,
     "metadata": {},
     "output_type": "execute_result"
    }
   ],
   "source": [
    "f= \"t2_num_days_active ~ t1_num_days_active + t1_harassment_received\"\n",
    "regress(df_reg, f)"
   ]
  },
  {
   "cell_type": "markdown",
   "metadata": {},
   "source": [
    "However, when we control for the number of days a user is active in t1, we see that users who receive harassment have fewer active days in t2. The coefficient is significantly less than 0. Instead of using an indicator for whether the user received harassment, lets use the count of various types of harassment received (i.e personal attacks, aggression, toxicity)"
   ]
  },
  {
   "cell_type": "code",
   "execution_count": 31,
   "metadata": {
    "collapsed": false
   },
   "outputs": [
    {
     "data": {
      "text/html": [
       "<table class=\"simpletable\">\n",
       "<tr>\n",
       "             <td></td>                <th>coef</th>     <th>std err</th>      <th>t</th>      <th>P>|t|</th> <th>[95.0% Conf. Int.]</th> \n",
       "</tr>\n",
       "<tr>\n",
       "  <th>Intercept</th>               <td>   -0.9147</td> <td>    0.009</td> <td> -103.327</td> <td> 0.000</td> <td>   -0.932    -0.897</td>\n",
       "</tr>\n",
       "<tr>\n",
       "  <th>t1_num_days_active</th>      <td>    0.7923</td> <td>    0.002</td> <td>  439.183</td> <td> 0.000</td> <td>    0.789     0.796</td>\n",
       "</tr>\n",
       "<tr>\n",
       "  <th>t1_num_attacks_received</th> <td>   -1.3299</td> <td>    0.047</td> <td>  -28.116</td> <td> 0.000</td> <td>   -1.423    -1.237</td>\n",
       "</tr>\n",
       "</table>"
      ],
      "text/plain": [
       "<class 'statsmodels.iolib.table.SimpleTable'>"
      ]
     },
     "execution_count": 31,
     "metadata": {},
     "output_type": "execute_result"
    }
   ],
   "source": [
    "f= \"t2_num_days_active ~ t1_num_days_active + t1_num_attacks_received\"\n",
    "regress(df_reg, f)"
   ]
  },
  {
   "cell_type": "code",
   "execution_count": 32,
   "metadata": {
    "collapsed": false
   },
   "outputs": [
    {
     "data": {
      "text/html": [
       "<table class=\"simpletable\">\n",
       "<tr>\n",
       "               <td></td>                 <th>coef</th>     <th>std err</th>      <th>t</th>      <th>P>|t|</th> <th>[95.0% Conf. Int.]</th> \n",
       "</tr>\n",
       "<tr>\n",
       "  <th>Intercept</th>                  <td>   -0.9132</td> <td>    0.009</td> <td> -103.197</td> <td> 0.000</td> <td>   -0.931    -0.896</td>\n",
       "</tr>\n",
       "<tr>\n",
       "  <th>t1_num_days_active</th>         <td>    0.7932</td> <td>    0.002</td> <td>  439.481</td> <td> 0.000</td> <td>    0.790     0.797</td>\n",
       "</tr>\n",
       "<tr>\n",
       "  <th>t1_num_aggression_received</th> <td>   -1.2197</td> <td>    0.040</td> <td>  -30.231</td> <td> 0.000</td> <td>   -1.299    -1.141</td>\n",
       "</tr>\n",
       "</table>"
      ],
      "text/plain": [
       "<class 'statsmodels.iolib.table.SimpleTable'>"
      ]
     },
     "execution_count": 32,
     "metadata": {},
     "output_type": "execute_result"
    }
   ],
   "source": [
    "f =\"t2_num_days_active ~ t1_num_days_active + t1_num_aggression_received\"\n",
    "regress(df_reg, f)"
   ]
  },
  {
   "cell_type": "code",
   "execution_count": 33,
   "metadata": {
    "collapsed": false
   },
   "outputs": [
    {
     "data": {
      "text/html": [
       "<table class=\"simpletable\">\n",
       "<tr>\n",
       "              <td></td>                <th>coef</th>     <th>std err</th>      <th>t</th>      <th>P>|t|</th> <th>[95.0% Conf. Int.]</th> \n",
       "</tr>\n",
       "<tr>\n",
       "  <th>Intercept</th>                <td>   -0.9197</td> <td>    0.009</td> <td> -103.745</td> <td> 0.000</td> <td>   -0.937    -0.902</td>\n",
       "</tr>\n",
       "<tr>\n",
       "  <th>t1_num_days_active</th>       <td>    0.7900</td> <td>    0.002</td> <td>  437.905</td> <td> 0.000</td> <td>    0.786     0.794</td>\n",
       "</tr>\n",
       "<tr>\n",
       "  <th>t1_num_toxicity_received</th> <td>   -0.9688</td> <td>    0.049</td> <td>  -19.622</td> <td> 0.000</td> <td>   -1.066    -0.872</td>\n",
       "</tr>\n",
       "</table>"
      ],
      "text/plain": [
       "<class 'statsmodels.iolib.table.SimpleTable'>"
      ]
     },
     "execution_count": 33,
     "metadata": {},
     "output_type": "execute_result"
    }
   ],
   "source": [
    "f=\"t2_num_days_active ~ t1_num_days_active + t1_num_toxicity_received\"\n",
    "regress(df_reg, f)"
   ]
  },
  {
   "cell_type": "markdown",
   "metadata": {},
   "source": [
    "We see the same general pattern as above, accept that toxic comments received seem to have a weaker association with lower activity in t2 than personal attacks and aggression. Also, the magnitude of the coefficients decreased since we are using a count and not an indicator as above."
   ]
  },
  {
   "cell_type": "markdown",
   "metadata": {},
   "source": [
    "Before we regress an activity measure in t2 on an activity measure in t1 and multiple measures of harassment, lets see how our different measures of harassment correlate:"
   ]
  },
  {
   "cell_type": "code",
   "execution_count": 34,
   "metadata": {
    "collapsed": false
   },
   "outputs": [
    {
     "name": "stdout",
     "output_type": "stream",
     "text": [
      "(0.89652629461566002, 0.0)\n",
      "(0.74724267108155895, 0.0)\n",
      "(0.72947262995624695, 0.0)\n"
     ]
    }
   ],
   "source": [
    "from scipy.stats import pearsonr \n",
    "print(pearsonr(df_reg['t1_num_attacks_received'] ,  df_reg['t1_num_aggression_received']))\n",
    "print(pearsonr(df_reg['t1_num_toxicity_received'] , df_reg['t1_num_aggression_received']))\n",
    "print(pearsonr(df_reg['t1_num_toxicity_received'] , df_reg['t1_num_attacks_received']))"
   ]
  },
  {
   "cell_type": "markdown",
   "metadata": {},
   "source": [
    "Personal attacks and aggression are very highly correlated. This is probably because both questions appeared on the same form. The toxicity measure has a lower though still high correlation with both personal attacks and aggression. Let's try a regression using toxicity and one of the two other measures:"
   ]
  },
  {
   "cell_type": "code",
   "execution_count": 35,
   "metadata": {
    "collapsed": false
   },
   "outputs": [
    {
     "data": {
      "text/html": [
       "<table class=\"simpletable\">\n",
       "<tr>\n",
       "              <td></td>                <th>coef</th>     <th>std err</th>      <th>t</th>      <th>P>|t|</th> <th>[95.0% Conf. Int.]</th> \n",
       "</tr>\n",
       "<tr>\n",
       "  <th>Intercept</th>                <td>   -0.9146</td> <td>    0.009</td> <td> -103.317</td> <td> 0.000</td> <td>   -0.932    -0.897</td>\n",
       "</tr>\n",
       "<tr>\n",
       "  <th>t1_num_days_active</th>       <td>    0.7923</td> <td>    0.002</td> <td>  439.109</td> <td> 0.000</td> <td>    0.789     0.796</td>\n",
       "</tr>\n",
       "<tr>\n",
       "  <th>t1_num_toxicity_received</th> <td>    0.0818</td> <td>    0.072</td> <td>    1.140</td> <td> 0.254</td> <td>   -0.059     0.223</td>\n",
       "</tr>\n",
       "<tr>\n",
       "  <th>t1_num_attacks_received</th>  <td>   -1.3870</td> <td>    0.069</td> <td>  -20.134</td> <td> 0.000</td> <td>   -1.522    -1.252</td>\n",
       "</tr>\n",
       "</table>"
      ],
      "text/plain": [
       "<class 'statsmodels.iolib.table.SimpleTable'>"
      ]
     },
     "execution_count": 35,
     "metadata": {},
     "output_type": "execute_result"
    }
   ],
   "source": [
    "f=\"t2_num_days_active ~ t1_num_days_active + t1_num_toxicity_received + t1_num_attacks_received\"\n",
    "regress(df_reg, f)"
   ]
  },
  {
   "cell_type": "markdown",
   "metadata": {},
   "source": [
    "This result is harder to interpret due to the strong correlation between `t1_num_toxicity_received` and `t1_num_attacks_received`."
   ]
  },
  {
   "cell_type": "markdown",
   "metadata": {},
   "source": [
    "#### How do gender, harassment and activity interact?\n",
    "\n",
    "Gender in Wikipedia is not well defined. After registering, users have the ability to report their gender in their user preferences. The vast majority of users do not report their gender. This may be because reporting their gender is not important to them, they don't want to report a gender, or they simply are unaware of the feature. There is anecdotal evidence that users often report an incorrect gender. Overall, this means that we should expect users who report their gender to be different than the rest and we cannot be sure if reported genders are correct. Another caveat for the following analysis is that we do not know when the user reported their gender; they may have changed their user preference after our 2 month interval of interest.\n",
    "\n",
    "\n"
   ]
  },
  {
   "cell_type": "code",
   "execution_count": 36,
   "metadata": {
    "collapsed": false
   },
   "outputs": [
    {
     "data": {
      "text/html": [
       "<table class=\"simpletable\">\n",
       "<tr>\n",
       "       <td></td>         <th>coef</th>     <th>std err</th>      <th>t</th>      <th>P>|t|</th> <th>[95.0% Conf. Int.]</th> \n",
       "</tr>\n",
       "<tr>\n",
       "  <th>Intercept</th>  <td>    0.1210</td> <td>    0.001</td> <td>  117.051</td> <td> 0.000</td> <td>    0.119     0.123</td>\n",
       "</tr>\n",
       "<tr>\n",
       "  <th>has_gender</th> <td>    0.3265</td> <td>    0.005</td> <td>   69.523</td> <td> 0.000</td> <td>    0.317     0.336</td>\n",
       "</tr>\n",
       "</table>"
      ],
      "text/plain": [
       "<class 'statsmodels.iolib.table.SimpleTable'>"
      ]
     },
     "execution_count": 36,
     "metadata": {},
     "output_type": "execute_result"
    }
   ],
   "source": [
    "f=\"t2_active ~ has_gender\"\n",
    "regress(df_reg, f)"
   ]
  },
  {
   "cell_type": "markdown",
   "metadata": {},
   "source": [
    "Users who supply a gender are also more likely to be active in t2, this is expected given how gender is reported.  Lets restrict to users with a gender and see if this is different for males and females:"
   ]
  },
  {
   "cell_type": "code",
   "execution_count": 37,
   "metadata": {
    "collapsed": false
   },
   "outputs": [
    {
     "data": {
      "text/html": [
       "<table class=\"simpletable\">\n",
       "<tr>\n",
       "      <td></td>         <th>coef</th>     <th>std err</th>      <th>z</th>      <th>P>|z|</th> <th>[95.0% Conf. Int.]</th> \n",
       "</tr>\n",
       "<tr>\n",
       "  <th>Intercept</th> <td>   -0.1510</td> <td>    0.029</td> <td>   -5.139</td> <td> 0.000</td> <td>   -0.209    -0.093</td>\n",
       "</tr>\n",
       "<tr>\n",
       "  <th>is_female</th> <td>   -0.4499</td> <td>    0.082</td> <td>   -5.457</td> <td> 0.000</td> <td>   -0.611    -0.288</td>\n",
       "</tr>\n",
       "</table>"
      ],
      "text/plain": [
       "<class 'statsmodels.iolib.table.SimpleTable'>"
      ]
     },
     "execution_count": 37,
     "metadata": {},
     "output_type": "execute_result"
    }
   ],
   "source": [
    "f=\"t2_active ~ is_female\"\n",
    "regress(df_reg.query(\"has_gender == 1\"), f, family = 'logistic')"
   ]
  },
  {
   "cell_type": "markdown",
   "metadata": {},
   "source": [
    "Females have a decreased probability of being active in t1."
   ]
  },
  {
   "cell_type": "code",
   "execution_count": 38,
   "metadata": {
    "collapsed": false
   },
   "outputs": [
    {
     "data": {
      "text/html": [
       "<table class=\"simpletable\">\n",
       "<tr>\n",
       "       <td></td>         <th>coef</th>     <th>std err</th>      <th>z</th>      <th>P>|z|</th> <th>[95.0% Conf. Int.]</th> \n",
       "</tr>\n",
       "<tr>\n",
       "  <th>Intercept</th>  <td>   -3.8591</td> <td>    0.022</td> <td> -178.597</td> <td> 0.000</td> <td>   -3.901    -3.817</td>\n",
       "</tr>\n",
       "<tr>\n",
       "  <th>has_gender</th> <td>    0.6822</td> <td>    0.073</td> <td>    9.379</td> <td> 0.000</td> <td>    0.540     0.825</td>\n",
       "</tr>\n",
       "</table>"
      ],
      "text/plain": [
       "<class 'statsmodels.iolib.table.SimpleTable'>"
      ]
     },
     "execution_count": 38,
     "metadata": {},
     "output_type": "execute_result"
    }
   ],
   "source": [
    "f=\"t1_harassment_received ~ has_gender\"\n",
    "regress(df_reg, f, family = 'logistic')"
   ]
  },
  {
   "cell_type": "markdown",
   "metadata": {},
   "source": [
    "Users who supply a gender are more likely to receive harassment! Lets see if this is different for males and females:"
   ]
  },
  {
   "cell_type": "code",
   "execution_count": 39,
   "metadata": {
    "collapsed": false
   },
   "outputs": [
    {
     "data": {
      "text/html": [
       "<table class=\"simpletable\">\n",
       "<tr>\n",
       "      <td></td>         <th>coef</th>     <th>std err</th>      <th>z</th>      <th>P>|z|</th> <th>[95.0% Conf. Int.]</th> \n",
       "</tr>\n",
       "<tr>\n",
       "  <th>Intercept</th> <td>   -3.3041</td> <td>    0.079</td> <td>  -41.683</td> <td> 0.000</td> <td>   -3.459    -3.149</td>\n",
       "</tr>\n",
       "<tr>\n",
       "  <th>is_female</th> <td>    0.7051</td> <td>    0.165</td> <td>    4.263</td> <td> 0.000</td> <td>    0.381     1.029</td>\n",
       "</tr>\n",
       "</table>"
      ],
      "text/plain": [
       "<class 'statsmodels.iolib.table.SimpleTable'>"
      ]
     },
     "execution_count": 39,
     "metadata": {},
     "output_type": "execute_result"
    }
   ],
   "source": [
    "f=\"t1_harassment_received ~ is_female\"\n",
    "regress(df_reg.query(\"has_gender == 1\"), f, family = 'logistic')"
   ]
  },
  {
   "cell_type": "markdown",
   "metadata": {},
   "source": [
    "Females have an increased probability of receiving harassment in t1."
   ]
  },
  {
   "cell_type": "code",
   "execution_count": 41,
   "metadata": {
    "collapsed": false
   },
   "outputs": [
    {
     "data": {
      "text/html": [
       "<table class=\"simpletable\">\n",
       "<tr>\n",
       "           <td></td>             <th>coef</th>     <th>std err</th>      <th>t</th>      <th>P>|t|</th> <th>[95.0% Conf. Int.]</th> \n",
       "</tr>\n",
       "<tr>\n",
       "  <th>Intercept</th>          <td>   -0.9431</td> <td>    0.009</td> <td> -106.206</td> <td> 0.000</td> <td>   -0.961    -0.926</td>\n",
       "</tr>\n",
       "<tr>\n",
       "  <th>t1_num_days_active</th> <td>    0.7760</td> <td>    0.002</td> <td>  421.985</td> <td> 0.000</td> <td>    0.772     0.780</td>\n",
       "</tr>\n",
       "<tr>\n",
       "  <th>has_gender</th>         <td>    0.9819</td> <td>    0.036</td> <td>   27.110</td> <td> 0.000</td> <td>    0.911     1.053</td>\n",
       "</tr>\n",
       "</table>"
      ],
      "text/plain": [
       "<class 'statsmodels.iolib.table.SimpleTable'>"
      ]
     },
     "execution_count": 41,
     "metadata": {},
     "output_type": "execute_result"
    }
   ],
   "source": [
    "f=\"t2_num_days_active ~ t1_num_days_active + has_gender\"\n",
    "regress(df_reg, f)"
   ]
  },
  {
   "cell_type": "markdown",
   "metadata": {},
   "source": [
    "Users who supply a gender appear to be more active in t2 even after controlling for activity in t1."
   ]
  },
  {
   "cell_type": "code",
   "execution_count": 20,
   "metadata": {
    "collapsed": false
   },
   "outputs": [
    {
     "data": {
      "text/html": [
       "<table class=\"simpletable\">\n",
       "<tr>\n",
       "           <td></td>             <th>coef</th>     <th>std err</th>      <th>t</th>      <th>P>|t|</th> <th>[95.0% Conf. Int.]</th> \n",
       "</tr>\n",
       "<tr>\n",
       "  <th>Intercept</th>          <td>   -0.5978</td> <td>    0.096</td> <td>   -6.212</td> <td> 0.000</td> <td>   -0.786    -0.409</td>\n",
       "</tr>\n",
       "<tr>\n",
       "  <th>t1_num_days_active</th> <td>    0.8843</td> <td>    0.009</td> <td>  100.709</td> <td> 0.000</td> <td>    0.867     0.901</td>\n",
       "</tr>\n",
       "<tr>\n",
       "  <th>is_female</th>          <td>   -0.6060</td> <td>    0.204</td> <td>   -2.974</td> <td> 0.003</td> <td>   -1.006    -0.207</td>\n",
       "</tr>\n",
       "</table>"
      ],
      "text/plain": [
       "<class 'statsmodels.iolib.table.SimpleTable'>"
      ]
     },
     "execution_count": 20,
     "metadata": {},
     "output_type": "execute_result"
    }
   ],
   "source": [
    "f=\"t2_num_days_active ~ t1_num_days_active + is_female\"\n",
    "regress(df_reg.query(\"has_gender == 1\"), f)"
   ]
  },
  {
   "cell_type": "markdown",
   "metadata": {},
   "source": [
    "Females appear to have decreased activity in t2 even after controlling for activity in t1 compared to males."
   ]
  },
  {
   "cell_type": "code",
   "execution_count": 21,
   "metadata": {
    "collapsed": false
   },
   "outputs": [
    {
     "data": {
      "text/html": [
       "<table class=\"simpletable\">\n",
       "<tr>\n",
       "                  <td></td>                     <th>coef</th>     <th>std err</th>      <th>t</th>      <th>P>|t|</th> <th>[95.0% Conf. Int.]</th> \n",
       "</tr>\n",
       "<tr>\n",
       "  <th>Intercept</th>                         <td>   -0.9256</td> <td>    0.009</td> <td> -104.670</td> <td> 0.000</td> <td>   -0.943    -0.908</td>\n",
       "</tr>\n",
       "<tr>\n",
       "  <th>t1_num_days_active</th>                <td>    0.7852</td> <td>    0.002</td> <td>  426.502</td> <td> 0.000</td> <td>    0.782     0.789</td>\n",
       "</tr>\n",
       "<tr>\n",
       "  <th>t1_harassment_received</th>            <td>   -1.8914</td> <td>    0.055</td> <td>  -34.575</td> <td> 0.000</td> <td>   -1.999    -1.784</td>\n",
       "</tr>\n",
       "<tr>\n",
       "  <th>has_gender</th>                        <td>    1.0402</td> <td>    0.037</td> <td>   28.401</td> <td> 0.000</td> <td>    0.968     1.112</td>\n",
       "</tr>\n",
       "<tr>\n",
       "  <th>t1_harassment_received:has_gender</th> <td>   -1.5351</td> <td>    0.183</td> <td>   -8.395</td> <td> 0.000</td> <td>   -1.893    -1.177</td>\n",
       "</tr>\n",
       "</table>"
      ],
      "text/plain": [
       "<class 'statsmodels.iolib.table.SimpleTable'>"
      ]
     },
     "execution_count": 21,
     "metadata": {},
     "output_type": "execute_result"
    }
   ],
   "source": [
    "f=\"t2_num_days_active ~ t1_num_days_active + t1_harassment_received * has_gender\"\n",
    "regress(df_reg, f)"
   ]
  },
  {
   "cell_type": "markdown",
   "metadata": {},
   "source": [
    "It seems like users who supply a gender and receive harassment have even more strongly reduced activity in t2 compared to users who do not supply a gender and get harassed."
   ]
  },
  {
   "cell_type": "code",
   "execution_count": 22,
   "metadata": {
    "collapsed": false
   },
   "outputs": [
    {
     "data": {
      "text/html": [
       "<table class=\"simpletable\">\n",
       "<tr>\n",
       "                  <td></td>                    <th>coef</th>     <th>std err</th>      <th>t</th>      <th>P>|t|</th> <th>[95.0% Conf. Int.]</th> \n",
       "</tr>\n",
       "<tr>\n",
       "  <th>Intercept</th>                        <td>   -0.5329</td> <td>    0.096</td> <td>   -5.574</td> <td> 0.000</td> <td>   -0.720    -0.346</td>\n",
       "</tr>\n",
       "<tr>\n",
       "  <th>t1_num_days_active</th>               <td>    0.8958</td> <td>    0.009</td> <td>  102.390</td> <td> 0.000</td> <td>    0.879     0.913</td>\n",
       "</tr>\n",
       "<tr>\n",
       "  <th>t1_harassment_received</th>           <td>   -4.0475</td> <td>    0.404</td> <td>  -10.009</td> <td> 0.000</td> <td>   -4.840    -3.255</td>\n",
       "</tr>\n",
       "<tr>\n",
       "  <th>is_female</th>                        <td>   -0.4971</td> <td>    0.209</td> <td>   -2.384</td> <td> 0.017</td> <td>   -0.906    -0.088</td>\n",
       "</tr>\n",
       "<tr>\n",
       "  <th>t1_harassment_received:is_female</th> <td>    0.6461</td> <td>    0.839</td> <td>    0.770</td> <td> 0.441</td> <td>   -0.999     2.291</td>\n",
       "</tr>\n",
       "</table>"
      ],
      "text/plain": [
       "<class 'statsmodels.iolib.table.SimpleTable'>"
      ]
     },
     "execution_count": 22,
     "metadata": {},
     "output_type": "execute_result"
    }
   ],
   "source": [
    "f=\"t2_num_days_active ~ t1_num_days_active + t1_harassment_received * is_female\"\n",
    "regress(df_reg.query(\"has_gender == 1\"), f)"
   ]
  },
  {
   "cell_type": "markdown",
   "metadata": {},
   "source": [
    "When restricting to users with a gender, we see that users with `t1_harassment_received` have reduced activity in t2, but the impact is not significantly different for males and females."
   ]
  },
  {
   "cell_type": "markdown",
   "metadata": {},
   "source": [
    "#### Addressing the bad newcomer confound\n",
    "\n",
    "A serious potential confound in our analyses could be that the users who receive harassment are just bad faith newcomers or sock-puppets. They get attacked for their misbehavior and reduce their activity in t2 because they get blocked or because they never intended to stick around past their own attacks. To reduce this confound, we control for whether the user harassed anyone in t1 and for whether they received an user warning of any type:"
   ]
  },
  {
   "cell_type": "code",
   "execution_count": 23,
   "metadata": {
    "collapsed": false
   },
   "outputs": [
    {
     "data": {
      "text/html": [
       "<table class=\"simpletable\">\n",
       "<tr>\n",
       "                         <td></td>                            <th>coef</th>     <th>std err</th>      <th>t</th>      <th>P>|t|</th> <th>[95.0% Conf. Int.]</th> \n",
       "</tr>\n",
       "<tr>\n",
       "  <th>Intercept</th>                                       <td>   -0.8925</td> <td>    0.009</td> <td> -100.442</td> <td> 0.000</td> <td>   -0.910    -0.875</td>\n",
       "</tr>\n",
       "<tr>\n",
       "  <th>t1_num_days_active</th>                              <td>    0.8103</td> <td>    0.002</td> <td>  433.487</td> <td> 0.000</td> <td>    0.807     0.814</td>\n",
       "</tr>\n",
       "<tr>\n",
       "  <th>t1_harassment_received</th>                          <td>   -1.7093</td> <td>    0.062</td> <td>  -27.751</td> <td> 0.000</td> <td>   -1.830    -1.589</td>\n",
       "</tr>\n",
       "<tr>\n",
       "  <th>t1_harassment_made</th>                              <td>   -1.2465</td> <td>    0.053</td> <td>  -23.582</td> <td> 0.000</td> <td>   -1.350    -1.143</td>\n",
       "</tr>\n",
       "<tr>\n",
       "  <th>t1_harassment_made:t1_harassment_received</th>       <td>   -0.1804</td> <td>    0.128</td> <td>   -1.410</td> <td> 0.158</td> <td>   -0.431     0.070</td>\n",
       "</tr>\n",
       "<tr>\n",
       "  <th>t1_num_warnings_recieved</th>                        <td>   -0.2231</td> <td>    0.020</td> <td>  -11.378</td> <td> 0.000</td> <td>   -0.262    -0.185</td>\n",
       "</tr>\n",
       "<tr>\n",
       "  <th>t1_num_warnings_recieved:t1_harassment_received</th> <td>    0.1221</td> <td>    0.042</td> <td>    2.893</td> <td> 0.004</td> <td>    0.039     0.205</td>\n",
       "</tr>\n",
       "</table>"
      ],
      "text/plain": [
       "<class 'statsmodels.iolib.table.SimpleTable'>"
      ]
     },
     "execution_count": 23,
     "metadata": {},
     "output_type": "execute_result"
    }
   ],
   "source": [
    "f=\"t2_num_days_active ~ t1_num_days_active + t1_harassment_received + t1_harassment_made * t1_harassment_received + t1_num_warnings_recieved * t1_harassment_received \"\n",
    "regress(df_reg, f)"
   ]
  },
  {
   "cell_type": "markdown",
   "metadata": {},
   "source": [
    "Even users who receive harassment but did not harass anyone or receive a user warning show reduced activity in t2."
   ]
  },
  {
   "cell_type": "markdown",
   "metadata": {},
   "source": [
    "#### Harassment vs Previously identified newcomer socialization issues\n",
    "\n",
    "[Halfak et al](https://www-users.cs.umn.edu/~halfak/publications/The_Rise_and_Decline/halfaker13rise-preprint.pdf) examine how user warnings and deletions and reverts correlate with newcomer retention. Here we add those features and see how they compare to measure of harassment."
   ]
  },
  {
   "cell_type": "code",
   "execution_count": 28,
   "metadata": {
    "collapsed": false
   },
   "outputs": [
    {
     "data": {
      "text/html": [
       "<table class=\"simpletable\">\n",
       "<tr>\n",
       "              <td></td>                <th>coef</th>     <th>std err</th>      <th>t</th>      <th>P>|t|</th> <th>[95.0% Conf. Int.]</th> \n",
       "</tr>\n",
       "<tr>\n",
       "  <th>Intercept</th>                <td>   -0.8718</td> <td>    0.016</td> <td>  -55.874</td> <td> 0.000</td> <td>   -0.902    -0.841</td>\n",
       "</tr>\n",
       "<tr>\n",
       "  <th>t1_num_days_active</th>       <td>    0.8061</td> <td>    0.002</td> <td>  367.433</td> <td> 0.000</td> <td>    0.802     0.810</td>\n",
       "</tr>\n",
       "<tr>\n",
       "  <th>t1_harassment_received</th>   <td>   -2.3466</td> <td>    0.071</td> <td>  -33.038</td> <td> 0.000</td> <td>   -2.486    -2.207</td>\n",
       "</tr>\n",
       "<tr>\n",
       "  <th>t1_num_warnings_recieved</th> <td>   -0.2076</td> <td>    0.022</td> <td>   -9.586</td> <td> 0.000</td> <td>   -0.250    -0.165</td>\n",
       "</tr>\n",
       "<tr>\n",
       "  <th>t1_fraction_ns0_deleted</th>  <td>   -0.1547</td> <td>    0.062</td> <td>   -2.476</td> <td> 0.013</td> <td>   -0.277    -0.032</td>\n",
       "</tr>\n",
       "<tr>\n",
       "  <th>t1_fraction_ns0_reverted</th> <td>   -0.1563</td> <td>    0.026</td> <td>   -6.026</td> <td> 0.000</td> <td>   -0.207    -0.105</td>\n",
       "</tr>\n",
       "</table>"
      ],
      "text/plain": [
       "<class 'statsmodels.iolib.table.SimpleTable'>"
      ]
     },
     "execution_count": 28,
     "metadata": {},
     "output_type": "execute_result"
    }
   ],
   "source": [
    "f = \"t2_num_days_active ~ t1_num_days_active + t1_harassment_received + t1_num_warnings_recieved +  t1_fraction_ns0_deleted + t1_fraction_ns0_reverted \"\n",
    "regress(df_reg.query(\"t1_num_ns0_edits > 0\"), f)"
   ]
  },
  {
   "cell_type": "markdown",
   "metadata": {},
   "source": [
    "WIP: Receiving harassment is worse for a newcomer than receiving 11 warning messages or having all their first months work deleted or reverted."
   ]
  },
  {
   "cell_type": "markdown",
   "metadata": {},
   "source": [
    "### Investigate some newcomer experiences\n",
    "\n",
    "Our regression analyses have established that newcomer who receive harassment show a greater subsequent decline in activity than normal. Let's look at a few example of newcomers, what edits they made and how other interacted with them."
   ]
  },
  {
   "cell_type": "code",
   "execution_count": 7,
   "metadata": {
    "collapsed": false
   },
   "outputs": [],
   "source": [
    "cols = ['user_text', 'registration_day', 't1_harassment_received', 't1_harassment_made', 't1_num_days_active', 't2_num_days_active']\n",
    "df_uxr = df_reg[cols]"
   ]
  },
  {
   "cell_type": "code",
   "execution_count": null,
   "metadata": {
    "collapsed": true
   },
   "outputs": [],
   "source": [
    "def find_attacks_made(u):\n",
    "    \n",
    "\n",
    "def find_attacks_received():"
   ]
  }
 ],
 "metadata": {
  "anaconda-cloud": {},
  "kernelspec": {
   "display_name": "Python [default]",
   "language": "python",
   "name": "python3"
  },
  "language_info": {
   "codemirror_mode": {
    "name": "ipython",
    "version": 3
   },
   "file_extension": ".py",
   "mimetype": "text/x-python",
   "name": "python",
   "nbconvert_exporter": "python",
   "pygments_lexer": "ipython3",
   "version": "3.5.1"
  }
 },
 "nbformat": 4,
 "nbformat_minor": 0
}
