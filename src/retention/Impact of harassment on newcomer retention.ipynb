{
 "cells": [
  {
   "cell_type": "markdown",
   "metadata": {},
   "source": [
    "# Does harassment have a chilling effect on newcomer participation in Wikipedia?"
   ]
  },
  {
   "cell_type": "markdown",
   "metadata": {
    "collapsed": true
   },
   "source": [
    "## Code"
   ]
  },
  {
   "cell_type": "code",
   "execution_count": 130,
   "metadata": {
    "collapsed": true
   },
   "outputs": [],
   "source": [
    "% matplotlib inline\n",
    "import pandas as pd\n",
    "from dateutil.relativedelta import relativedelta\n",
    "import statsmodels.formula.api as sm\n",
    "import requests"
   ]
  },
  {
   "cell_type": "markdown",
   "metadata": {},
   "source": [
    "### Load Data for 2015 newcomers"
   ]
  },
  {
   "cell_type": "code",
   "execution_count": 9,
   "metadata": {
    "collapsed": false
   },
   "outputs": [],
   "source": [
    "# load no bot, non admin scord diffs for 2015\n",
    "d1 = pd.read_csv(\"../../data/figshare/scored/comments_user_2015.tsv.gz\", sep = \"\\t\", compression = \"gzip\")\n",
    "d1['ns'] = 'user'\n",
    "del d1['comment']\n",
    "del d1['raw_comment']\n",
    "d1 = d1.query(\"bot == 0 and admin == 0\")\n",
    "\n",
    "d2 = pd.read_csv(\"../../data/figshare/scored/comments_article_2015.tsv.gz\", sep = \"\\t\", compression = \"gzip\")\n",
    "d2['ns'] = 'article'\n",
    "del d2['comment']\n",
    "del d2['raw_comment']\n",
    "d2 = d2.query(\"bot == 0 and admin == 0\")\n",
    "\n",
    "df_annotated = pd.concat([d1,d2])\n",
    "df_annotated['timestamp'] = pd.to_datetime(df_annotated['timestamp'])"
   ]
  },
  {
   "cell_type": "code",
   "execution_count": 6,
   "metadata": {
    "collapsed": false
   },
   "outputs": [
    {
     "name": "stderr",
     "output_type": "stream",
     "text": [
      "/Users/ellerywulczyn/miniconda3/lib/python3.5/site-packages/IPython/core/interactiveshell.py:2723: DtypeWarning: Columns (2,3) have mixed types. Specify dtype option on import or set low_memory=False.\n",
      "  interactivity=interactivity, compiler=compiler, result=result)\n"
     ]
    }
   ],
   "source": [
    "# registration times of all editors who registered in 2015 and who made and edit\n",
    "df_user_start = pd.read_csv(\"../../data/retention/user_start.tsv\", \"\\t\")\n",
    "df_user_start = df_user_start.query(\"user_registration != 'null'\")\n",
    "del df_user_start['user_registration']\n",
    "df_user_start['registration_day'] = pd.to_datetime(df_user_start['registration_day'], format = '%Y%m%d')\n",
    "df_user_start['first_edit_day'] = pd.to_datetime(df_user_start['first_edit_day'], format = '%Y%m%d')\n",
    "df_user_start = df_user_start.query(\"registration_day >= '2015-01-01'\")"
   ]
  },
  {
   "cell_type": "code",
   "execution_count": 17,
   "metadata": {
    "collapsed": false
   },
   "outputs": [
    {
     "ename": "KeyError",
     "evalue": "\"['user_text'] not in index\"",
     "output_type": "error",
     "traceback": [
      "\u001b[0;31m---------------------------------------------------------------------------\u001b[0m",
      "\u001b[0;31mKeyError\u001b[0m                                  Traceback (most recent call last)",
      "\u001b[0;32m<ipython-input-17-9f1d70ab5eff>\u001b[0m in \u001b[0;36m<module>\u001b[0;34m()\u001b[0m\n\u001b[1;32m      2\u001b[0m \u001b[0mdf_edits\u001b[0m \u001b[0;34m=\u001b[0m \u001b[0mpd\u001b[0m\u001b[0;34m.\u001b[0m\u001b[0mread_csv\u001b[0m\u001b[0;34m(\u001b[0m\u001b[0;34m\"../../data/retention/daily_edit_counts.tsv\"\u001b[0m\u001b[0;34m,\u001b[0m \u001b[0;34m\"\\t\"\u001b[0m\u001b[0;34m)\u001b[0m\u001b[0;34m\u001b[0m\u001b[0m\n\u001b[1;32m      3\u001b[0m \u001b[0mdf_edits\u001b[0m\u001b[0;34m[\u001b[0m\u001b[0;34m'timestamp'\u001b[0m\u001b[0;34m]\u001b[0m \u001b[0;34m=\u001b[0m \u001b[0mpd\u001b[0m\u001b[0;34m.\u001b[0m\u001b[0mto_datetime\u001b[0m\u001b[0;34m(\u001b[0m\u001b[0mdf_edits\u001b[0m\u001b[0;34m[\u001b[0m\u001b[0;34m'day'\u001b[0m\u001b[0;34m]\u001b[0m\u001b[0;34m.\u001b[0m\u001b[0mapply\u001b[0m\u001b[0;34m(\u001b[0m\u001b[0;32mlambda\u001b[0m \u001b[0mx\u001b[0m\u001b[0;34m:\u001b[0m \u001b[0mstr\u001b[0m\u001b[0;34m(\u001b[0m\u001b[0mx\u001b[0m\u001b[0;34m)\u001b[0m\u001b[0;34m)\u001b[0m\u001b[0;34m)\u001b[0m\u001b[0;34m\u001b[0m\u001b[0m\n\u001b[0;32m----> 4\u001b[0;31m \u001b[0mdf_edits\u001b[0m \u001b[0;34m=\u001b[0m \u001b[0mdf_edits\u001b[0m\u001b[0;34m.\u001b[0m\u001b[0mmerge\u001b[0m\u001b[0;34m(\u001b[0m\u001b[0mdf_user_start\u001b[0m\u001b[0;34m,\u001b[0m \u001b[0mhow\u001b[0m \u001b[0;34m=\u001b[0m \u001b[0;34m'inner'\u001b[0m\u001b[0;34m,\u001b[0m \u001b[0mon\u001b[0m \u001b[0;34m=\u001b[0m \u001b[0;34m'user_id'\u001b[0m\u001b[0;34m)\u001b[0m\u001b[0;34m[\u001b[0m\u001b[0mdf_edits\u001b[0m\u001b[0;34m.\u001b[0m\u001b[0mcolumns\u001b[0m\u001b[0;34m.\u001b[0m\u001b[0mvalues\u001b[0m\u001b[0;34m]\u001b[0m\u001b[0;34m\u001b[0m\u001b[0m\n\u001b[0m",
      "\u001b[0;32m/Users/ellerywulczyn/miniconda3/lib/python3.5/site-packages/pandas/core/frame.py\u001b[0m in \u001b[0;36m__getitem__\u001b[0;34m(self, key)\u001b[0m\n\u001b[1;32m   2049\u001b[0m         \u001b[0;32mif\u001b[0m \u001b[0misinstance\u001b[0m\u001b[0;34m(\u001b[0m\u001b[0mkey\u001b[0m\u001b[0;34m,\u001b[0m \u001b[0;34m(\u001b[0m\u001b[0mSeries\u001b[0m\u001b[0;34m,\u001b[0m \u001b[0mnp\u001b[0m\u001b[0;34m.\u001b[0m\u001b[0mndarray\u001b[0m\u001b[0;34m,\u001b[0m \u001b[0mIndex\u001b[0m\u001b[0;34m,\u001b[0m \u001b[0mlist\u001b[0m\u001b[0;34m)\u001b[0m\u001b[0;34m)\u001b[0m\u001b[0;34m:\u001b[0m\u001b[0;34m\u001b[0m\u001b[0m\n\u001b[1;32m   2050\u001b[0m             \u001b[0;31m# either boolean or fancy integer index\u001b[0m\u001b[0;34m\u001b[0m\u001b[0;34m\u001b[0m\u001b[0m\n\u001b[0;32m-> 2051\u001b[0;31m             \u001b[0;32mreturn\u001b[0m \u001b[0mself\u001b[0m\u001b[0;34m.\u001b[0m\u001b[0m_getitem_array\u001b[0m\u001b[0;34m(\u001b[0m\u001b[0mkey\u001b[0m\u001b[0;34m)\u001b[0m\u001b[0;34m\u001b[0m\u001b[0m\n\u001b[0m\u001b[1;32m   2052\u001b[0m         \u001b[0;32melif\u001b[0m \u001b[0misinstance\u001b[0m\u001b[0;34m(\u001b[0m\u001b[0mkey\u001b[0m\u001b[0;34m,\u001b[0m \u001b[0mDataFrame\u001b[0m\u001b[0;34m)\u001b[0m\u001b[0;34m:\u001b[0m\u001b[0;34m\u001b[0m\u001b[0m\n\u001b[1;32m   2053\u001b[0m             \u001b[0;32mreturn\u001b[0m \u001b[0mself\u001b[0m\u001b[0;34m.\u001b[0m\u001b[0m_getitem_frame\u001b[0m\u001b[0;34m(\u001b[0m\u001b[0mkey\u001b[0m\u001b[0;34m)\u001b[0m\u001b[0;34m\u001b[0m\u001b[0m\n",
      "\u001b[0;32m/Users/ellerywulczyn/miniconda3/lib/python3.5/site-packages/pandas/core/frame.py\u001b[0m in \u001b[0;36m_getitem_array\u001b[0;34m(self, key)\u001b[0m\n\u001b[1;32m   2093\u001b[0m             \u001b[0;32mreturn\u001b[0m \u001b[0mself\u001b[0m\u001b[0;34m.\u001b[0m\u001b[0mtake\u001b[0m\u001b[0;34m(\u001b[0m\u001b[0mindexer\u001b[0m\u001b[0;34m,\u001b[0m \u001b[0maxis\u001b[0m\u001b[0;34m=\u001b[0m\u001b[0;36m0\u001b[0m\u001b[0;34m,\u001b[0m \u001b[0mconvert\u001b[0m\u001b[0;34m=\u001b[0m\u001b[0;32mFalse\u001b[0m\u001b[0;34m)\u001b[0m\u001b[0;34m\u001b[0m\u001b[0m\n\u001b[1;32m   2094\u001b[0m         \u001b[0;32melse\u001b[0m\u001b[0;34m:\u001b[0m\u001b[0;34m\u001b[0m\u001b[0m\n\u001b[0;32m-> 2095\u001b[0;31m             \u001b[0mindexer\u001b[0m \u001b[0;34m=\u001b[0m \u001b[0mself\u001b[0m\u001b[0;34m.\u001b[0m\u001b[0mix\u001b[0m\u001b[0;34m.\u001b[0m\u001b[0m_convert_to_indexer\u001b[0m\u001b[0;34m(\u001b[0m\u001b[0mkey\u001b[0m\u001b[0;34m,\u001b[0m \u001b[0maxis\u001b[0m\u001b[0;34m=\u001b[0m\u001b[0;36m1\u001b[0m\u001b[0;34m)\u001b[0m\u001b[0;34m\u001b[0m\u001b[0m\n\u001b[0m\u001b[1;32m   2096\u001b[0m             \u001b[0;32mreturn\u001b[0m \u001b[0mself\u001b[0m\u001b[0;34m.\u001b[0m\u001b[0mtake\u001b[0m\u001b[0;34m(\u001b[0m\u001b[0mindexer\u001b[0m\u001b[0;34m,\u001b[0m \u001b[0maxis\u001b[0m\u001b[0;34m=\u001b[0m\u001b[0;36m1\u001b[0m\u001b[0;34m,\u001b[0m \u001b[0mconvert\u001b[0m\u001b[0;34m=\u001b[0m\u001b[0;32mTrue\u001b[0m\u001b[0;34m)\u001b[0m\u001b[0;34m\u001b[0m\u001b[0m\n\u001b[1;32m   2097\u001b[0m \u001b[0;34m\u001b[0m\u001b[0m\n",
      "\u001b[0;32m/Users/ellerywulczyn/miniconda3/lib/python3.5/site-packages/pandas/core/indexing.py\u001b[0m in \u001b[0;36m_convert_to_indexer\u001b[0;34m(self, obj, axis, is_setter)\u001b[0m\n\u001b[1;32m   1227\u001b[0m                 \u001b[0mmask\u001b[0m \u001b[0;34m=\u001b[0m \u001b[0mcheck\u001b[0m \u001b[0;34m==\u001b[0m \u001b[0;34m-\u001b[0m\u001b[0;36m1\u001b[0m\u001b[0;34m\u001b[0m\u001b[0m\n\u001b[1;32m   1228\u001b[0m                 \u001b[0;32mif\u001b[0m \u001b[0mmask\u001b[0m\u001b[0;34m.\u001b[0m\u001b[0many\u001b[0m\u001b[0;34m(\u001b[0m\u001b[0;34m)\u001b[0m\u001b[0;34m:\u001b[0m\u001b[0;34m\u001b[0m\u001b[0m\n\u001b[0;32m-> 1229\u001b[0;31m                     \u001b[0;32mraise\u001b[0m \u001b[0mKeyError\u001b[0m\u001b[0;34m(\u001b[0m\u001b[0;34m'%s not in index'\u001b[0m \u001b[0;34m%\u001b[0m \u001b[0mobjarr\u001b[0m\u001b[0;34m[\u001b[0m\u001b[0mmask\u001b[0m\u001b[0;34m]\u001b[0m\u001b[0;34m)\u001b[0m\u001b[0;34m\u001b[0m\u001b[0m\n\u001b[0m\u001b[1;32m   1230\u001b[0m \u001b[0;34m\u001b[0m\u001b[0m\n\u001b[1;32m   1231\u001b[0m                 \u001b[0;32mreturn\u001b[0m \u001b[0m_values_from_object\u001b[0m\u001b[0;34m(\u001b[0m\u001b[0mindexer\u001b[0m\u001b[0;34m)\u001b[0m\u001b[0;34m\u001b[0m\u001b[0m\n",
      "\u001b[0;31mKeyError\u001b[0m: \"['user_text'] not in index\""
     ]
    }
   ],
   "source": [
    "# load edits per day in 2015 for new users in 2015\n",
    "df_edits = pd.read_csv(\"../../data/retention/daily_edit_counts.tsv\", \"\\t\")\n",
    "df_edits['timestamp'] = pd.to_datetime(df_edits['day'].apply(lambda x: str(x)))\n",
    "df_edits = df_edits.merge(df_user_start[['user_id']], how = 'inner', on = 'user_id')\n",
    "df_edits = df_edits.query(\"timestamp >= '2015-01-01'\")"
   ]
  },
  {
   "cell_type": "code",
   "execution_count": 29,
   "metadata": {
    "collapsed": false
   },
   "outputs": [],
   "source": [
    "# genders\n",
    "df_gender = pd.read_csv(\"../../data/misc/genders.tsv\", \"\\t\")"
   ]
  },
  {
   "cell_type": "code",
   "execution_count": 32,
   "metadata": {
    "collapsed": false
   },
   "outputs": [],
   "source": [
    "# create df of consolidated user level features\n",
    "df_user = df_edits.drop_duplicates(subset = 'user_text')[['user_text']]\n",
    "df_user = df_user.merge(df_gender, on = 'user_text', how = \"left\")[['user_text', 'gender']]\n",
    "df_user['gender'] = df_user['gender'].fillna('unknown')\n",
    "df_user = df_user.merge(df_user_start, on = 'user_text', how = \"inner\")[['user_text', 'gender', 'registration_day', 'first_edit_day']]\n",
    "del df_user_start\n",
    "del df_gender"
   ]
  },
  {
   "cell_type": "markdown",
   "metadata": {},
   "source": [
    "### Visualizations"
   ]
  },
  {
   "cell_type": "code",
   "execution_count": 35,
   "metadata": {
    "collapsed": false
   },
   "outputs": [
    {
     "data": {
      "text/plain": [
       "<matplotlib.axes._subplots.AxesSubplot at 0x262251630>"
      ]
     },
     "execution_count": 35,
     "metadata": {},
     "output_type": "execute_result"
    },
    {
     "data": {
      "image/png": "[encoded data removed]",
      "text/plain": [
       "<matplotlib.figure.Figure at 0x5ff4bdd30>"
      ]
     },
     "metadata": {},
     "output_type": "display_data"
    }
   ],
   "source": [
    "# hist of active user days for 2015 newcomers\n",
    "df_edits['timestamp'].hist()"
   ]
  },
  {
   "cell_type": "code",
   "execution_count": 36,
   "metadata": {
    "collapsed": false
   },
   "outputs": [
    {
     "data": {
      "text/plain": [
       "<matplotlib.axes._subplots.AxesSubplot at 0x26220f0b8>"
      ]
     },
     "execution_count": 36,
     "metadata": {},
     "output_type": "execute_result"
    },
    {
     "data": {
      "image/png": "[encoded data removed]",
      "text/plain": [
       "<matplotlib.figure.Figure at 0x2622053c8>"
      ]
     },
     "metadata": {},
     "output_type": "display_data"
    }
   ],
   "source": [
    "# hist of user registration times of editors who made at least one edit in 2015\n",
    "df_user['registration_day'].hist()"
   ]
  },
  {
   "cell_type": "code",
   "execution_count": 39,
   "metadata": {
    "collapsed": false
   },
   "outputs": [
    {
     "data": {
      "text/plain": [
       "<matplotlib.axes._subplots.AxesSubplot at 0x262120940>"
      ]
     },
     "execution_count": 39,
     "metadata": {},
     "output_type": "execute_result"
    },
    {
     "data": {
      "image/png": "[encoded data removed]",
      "text/plain": [
       "<matplotlib.figure.Figure at 0x262114f28>"
      ]
     },
     "metadata": {},
     "output_type": "display_data"
    }
   ],
   "source": [
    "# hist of newcomer edits by month newcomer registered\n",
    "df_edits.merge(df_user, on = 'user_text')['registration_day'].hist()"
   ]
  },
  {
   "cell_type": "code",
   "execution_count": 40,
   "metadata": {
    "collapsed": false
   },
   "outputs": [
    {
     "data": {
      "text/plain": [
       "<matplotlib.axes._subplots.AxesSubplot at 0x262086e48>"
      ]
     },
     "execution_count": 40,
     "metadata": {},
     "output_type": "execute_result"
    },
    {
     "data": {
      "image/png": "[encoded data removed]",
      "text/plain": [
       "<matplotlib.figure.Figure at 0x262027c18>"
      ]
     },
     "metadata": {},
     "output_type": "display_data"
    }
   ],
   "source": [
    "# attacks made in 2015 by registration date\n",
    "df_annotated.query(\"pred_attack_score > 0.5\").merge(df_user, on = 'user_text')['registration_day'].hist()"
   ]
  },
  {
   "cell_type": "code",
   "execution_count": 42,
   "metadata": {
    "collapsed": false
   },
   "outputs": [
    {
     "data": {
      "text/plain": [
       "<matplotlib.axes._subplots.AxesSubplot at 0x261c3e9e8>"
      ]
     },
     "execution_count": 42,
     "metadata": {},
     "output_type": "execute_result"
    },
    {
     "data": {
      "image/png": "[encoded data removed]",
      "text/plain": [
       "<matplotlib.figure.Figure at 0x2612f8b00>"
      ]
     },
     "metadata": {},
     "output_type": "display_data"
    }
   ],
   "source": [
    "# attacks received by newcomer registration date\n",
    "df_annotated.query(\"pred_attack_score > 0.5 and ns == 'user'\").merge(df_user, left_on = 'page_title', right_on = 'user_text')['registration_day'].hist()"
   ]
  },
  {
   "cell_type": "code",
   "execution_count": 43,
   "metadata": {
    "collapsed": false
   },
   "outputs": [
    {
     "data": {
      "text/plain": [
       "unknown    669537\n",
       "male         8599\n",
       "female       2378\n",
       "Name: gender, dtype: int64"
      ]
     },
     "execution_count": 43,
     "metadata": {},
     "output_type": "execute_result"
    }
   ],
   "source": [
    "df_user['gender'].value_counts()"
   ]
  },
  {
   "cell_type": "markdown",
   "metadata": {},
   "source": [
    "### Reformat Data"
   ]
  },
  {
   "cell_type": "code",
   "execution_count": 44,
   "metadata": {
    "collapsed": false
   },
   "outputs": [],
   "source": [
    "# map data frames into dictionaries keyed by user\n",
    "def gb_to_dict(gb):\n",
    "    return { i:k for i,k in gb}\n",
    "\n",
    "df_annotated_user_text_groups = gb_to_dict(df_annotated.groupby(\"user_text\"))\n",
    "df_annotated_page_title_groups =  gb_to_dict(df_annotated.query(\"ns == 'user'\").groupby(\"page_title\"))\n",
    "df_edits_groups =  gb_to_dict(df_edits.groupby(\"user_text\"))\n",
    "df_user_groups =  gb_to_dict(df_user.groupby(\"user_text\"))"
   ]
  },
  {
   "cell_type": "code",
   "execution_count": 49,
   "metadata": {
    "collapsed": true
   },
   "outputs": [],
   "source": [
    "# collect User objects \n",
    "class User():\n",
    "    def __init__(self, user_text, df_annotated_user_text_groups, df_annotated_page_title_groups, df_edits_groups, df_user_groups):\n",
    "        self.user_text = user_text\n",
    "        self.df_activity =  df_edits_groups.get(user_text, None)\n",
    "        self.df_comments_made =  df_annotated_user_text_groups.get(user_text, None)\n",
    "        self.df_comments_received = df_annotated_page_title_groups.get(user_text, None)\n",
    "        if self.df_comments_received is not None:\n",
    "            self.df_comments_received = self.df_comments_received.query(\"ns == 'user' and user_text != page_title\")\n",
    "        self.gender = df_user_groups[user_text]['gender'].iloc[0]\n",
    "        self.registration_day = df_user_groups[user_text]['registration_day'].iloc[0]\n",
    "        self.first_edit_day = df_user_groups[user_text]['first_edit_day'].iloc[0]"
   ]
  },
  {
   "cell_type": "markdown",
   "metadata": {},
   "source": [
    "### RQ1: Does being harassed in the first month make newcomers less likely to make edits in the second month?"
   ]
  },
  {
   "cell_type": "markdown",
   "metadata": {},
   "source": [
    "#### Select newcomer sample"
   ]
  },
  {
   "cell_type": "code",
   "execution_count": 51,
   "metadata": {
    "collapsed": false
   },
   "outputs": [
    {
     "name": "stdout",
     "output_type": "stream",
     "text": [
      "Total New Users:  460668\n",
      "Total New Harrassed Users:  735\n"
     ]
    }
   ],
   "source": [
    "# select subset of users to regress on, only consider new comers who registered between Jan and Oct\n",
    "# combine a random sample of newcomers with all newcomers who got attacked \n",
    "n_random = 1000\n",
    "threshold = 0.425\n",
    "new_user_texts = df_user.query(\"registration_day <= '2015-10-01'\")[['user_text']]\n",
    "print(\"Total New Users: \", new_user_texts.shape[0])\n",
    "\n",
    "df_bad_comments = df_annotated.query(\"pred_attack_score > %f or pred_aggression_score > %f or pred_toxicity_score > %f\" % (threshold, threshold, threshold))\n",
    "attacked_users = df_bad_comments.query(\"ns == 'user' and user_text != page_title\").drop_duplicates(['page_title'])\n",
    "attacked_users = attacked_users[['page_title']]\n",
    "new_attacked_users = attacked_users.merge(new_user_texts, right_on = 'user_text', left_on = 'page_title')[['user_text']]\n",
    "print(\"Total New Harrassed Users: \", new_attacked_users.shape[0])\n",
    "\n",
    "\n",
    "random_new_user_texts_sample = new_user_texts.sample(n_random)\n",
    "\n",
    "new_user_texts_sample = pd.concat([random_new_user_texts_sample, new_attacked_users])['user_text']\n",
    "\n",
    "user_objects = [User( user_text,\n",
    "                      df_annotated_user_text_groups,\n",
    "                      df_annotated_page_title_groups,\n",
    "                      df_edits_groups,\n",
    "                      df_user_groups) \n",
    "                for user_text in new_user_texts_sample]"
   ]
  },
  {
   "cell_type": "markdown",
   "metadata": {},
   "source": [
    "#### Feature extraction"
   ]
  },
  {
   "cell_type": "code",
   "execution_count": 61,
   "metadata": {
    "collapsed": false
   },
   "outputs": [
    {
     "data": {
      "text/plain": [
       "(1735, 13)"
      ]
     },
     "execution_count": 61,
     "metadata": {},
     "output_type": "execute_result"
    }
   ],
   "source": [
    "def select_timespan(user,  activity, t):\n",
    "    start = user.registration_day + relativedelta(months=(t-1))\n",
    "    stop = user.registration_day + relativedelta(months= t)\n",
    "    activity = activity[activity['timestamp'] < stop]\n",
    "    activity = activity[activity['timestamp'] >= start]\n",
    "    return activity\n",
    "\n",
    "def count_edits(user, t):\n",
    "    activity = user.df_activity\n",
    "    activity = select_timespan(user,  activity, t)\n",
    "    return activity['n'].sum()\n",
    "\n",
    "def count_days_active(user, t):\n",
    "    activity = user.df_activity\n",
    "    activity = select_timespan(user,  activity, t)\n",
    "    return len(activity.timestamp.unique())\n",
    "\n",
    "def count_score_received_above_threshold(user, score, threshold, t):\n",
    "    if user.df_comments_received is None:\n",
    "        return 0\n",
    "    \n",
    "    comments = user.df_comments_received\n",
    "    comments = select_timespan(user,  comments, t)\n",
    "    return (comments[score] > threshold).sum()\n",
    "\n",
    "def count_score_made_above_threshold(user, score, threshold, t):\n",
    "    if user.df_comments_made is None:\n",
    "        return 0\n",
    "    \n",
    "    comments = user.df_comments_made\n",
    "    comments = select_timespan(user,  comments, t)\n",
    "    return (comments[score] > threshold).sum()\n",
    "\n",
    "def is_female(u):\n",
    "    return u.gender == 'female'\n",
    "\n",
    "def is_male(u):\n",
    "    return u.gender == 'male'\n",
    "\n",
    "df_reg = pd.DataFrame({\n",
    "        'user_text' : [u.user_text for u in user_objects],\n",
    "        'is_female' : [is_female(u) for u in user_objects],\n",
    "        'is_male' : [is_male(u) for u in user_objects],\n",
    "        't1_num_edits' : [count_edits(u, 1) for u in user_objects],\n",
    "        't2_num_edits' : [count_edits(u, 2) for u in user_objects],\n",
    "        't1_num_days_active' : [count_days_active(u, 1) for u in user_objects],\n",
    "        't2_num_days_active' : [count_days_active(u, 2) for u in user_objects],\n",
    "        't1_num_attacks_received' : [count_score_received_above_threshold(u, 'pred_attack_score',  threshold, 1) for u in user_objects],\n",
    "        't1_num_aggression_received' : [count_score_received_above_threshold(u,  'pred_aggression_score',  threshold, 1) for u in user_objects],\n",
    "        't1_num_toxicity_received' : [count_score_received_above_threshold(u,  'pred_toxicity_score',  threshold, 1) for u in user_objects],\n",
    "        't1_num_attacks_made' : [count_score_made_above_threshold(u, 'pred_attack_score',  threshold, 1) for u in user_objects],\n",
    "        't1_num_aggresssion_made': [count_score_made_above_threshold(u,  'pred_aggression_score',  threshold, 1) for u in user_objects],\n",
    "        't1_num_toxicity_made': [count_score_made_above_threshold(u,  'pred_toxicity_score',  threshold, 1) for u in user_objects],\n",
    "\n",
    "    })\n",
    "\n",
    "df_reg.shape"
   ]
  },
  {
   "cell_type": "code",
   "execution_count": 62,
   "metadata": {
    "collapsed": false
   },
   "outputs": [
    {
     "data": {
      "text/plain": [
       "(1735, 17)"
      ]
     },
     "execution_count": 62,
     "metadata": {},
     "output_type": "execute_result"
    }
   ],
   "source": [
    "df_reg['t1_active'] = df_reg['t1_num_edits'] > 0\n",
    "df_reg['t2_active'] = df_reg['t2_num_edits'] > 0\n",
    "df_reg['t1_harassment_received'] = (df_reg['t1_num_attacks_received'] > 0) | (df_reg['t1_num_aggression_received'] > 0) | (df_reg['t1_num_toxicity_received'] > 0)\n",
    "df_reg['t1_harassment_made'] = (df_reg['t1_num_attacks_made'] > 0) | (df_reg['t1_num_aggresssion_made'] > 0) | (df_reg['t1_num_toxicity_made'] > 0)"
   ]
  },
  {
   "cell_type": "code",
   "execution_count": null,
   "metadata": {
    "collapsed": true
   },
   "outputs": [],
   "source": [
    "df_reg.index = df_reg.user_text\n",
    "del df_reg['user_text']\n",
    "df_reg = df_reg.astype(int)\n",
    "df_reg.shape"
   ]
  },
  {
   "cell_type": "code",
   "execution_count": 109,
   "metadata": {
    "collapsed": false
   },
   "outputs": [
    {
     "name": "stdout",
     "output_type": "stream",
     "text": [
      "1659\n"
     ]
    }
   ],
   "source": [
    "# only consider users who made at least one edit in the first month afer registering (active)\n",
    "df_reg_active = df_reg.query('t1_active ==1')\n",
    "print(df_reg_active.shape[0])"
   ]
  },
  {
   "cell_type": "code",
   "execution_count": 110,
   "metadata": {
    "collapsed": false
   },
   "outputs": [
    {
     "name": "stdout",
     "output_type": "stream",
     "text": [
      "1579\n"
     ]
    }
   ],
   "source": [
    "# only consider  users who made at least one edit in the first month afer registering and did not harass anyone (active, friendly)\n",
    "df_reg_active_friendly = df_reg.query('t1_active ==1 and t1_harassment_made == 0')\n",
    "print(df_reg_active_friendly.shape[0])"
   ]
  },
  {
   "cell_type": "code",
   "execution_count": null,
   "metadata": {
    "collapsed": true
   },
   "outputs": [],
   "source": [
    "# only consider  users who made at least one edit in the first month afer registering,\n",
    "# did not harass anyone, and did not vandalize (active, friendly, goodfaith)\n",
    "df_reg_active_friendly_goodfaith = df_reg.query('t1_active ==1 and t1_harassment_made == 0 and t1_vandalism_made == 0')\n",
    "print(df_reg_acitive_friendly.shape[0])"
   ]
  },
  {
   "cell_type": "markdown",
   "metadata": {},
   "source": [
    "#### Modeling"
   ]
  },
  {
   "cell_type": "markdown",
   "metadata": {},
   "source": [
    "Does receiving harassment in t1 make you less likely to make an edit t2?"
   ]
  },
  {
   "cell_type": "code",
   "execution_count": 91,
   "metadata": {
    "collapsed": false
   },
   "outputs": [
    {
     "data": {
      "text/html": [
       "<table class=\"simpletable\">\n",
       "<tr>\n",
       "             <td></td>               <th>coef</th>     <th>std err</th>      <th>t</th>      <th>P>|t|</th> <th>[95.0% Conf. Int.]</th> \n",
       "</tr>\n",
       "<tr>\n",
       "  <th>Intercept</th>              <td>    0.1469</td> <td>    0.011</td> <td>   12.959</td> <td> 0.000</td> <td>    0.125     0.169</td>\n",
       "</tr>\n",
       "<tr>\n",
       "  <th>t1_harassment_received</th> <td>    0.0803</td> <td>    0.021</td> <td>    3.802</td> <td> 0.000</td> <td>    0.039     0.122</td>\n",
       "</tr>\n",
       "</table>"
      ],
      "text/plain": [
       "<class 'statsmodels.iolib.table.SimpleTable'>"
      ]
     },
     "execution_count": 91,
     "metadata": {},
     "output_type": "execute_result"
    }
   ],
   "source": [
    "result = sm.ols(formula=\"t2_active ~ t1_harassment_received\", data=df_reg3).fit()\n",
    "result.summary().tables[1]"
   ]
  },
  {
   "cell_type": "code",
   "execution_count": 92,
   "metadata": {
    "collapsed": false
   },
   "outputs": [
    {
     "name": "stdout",
     "output_type": "stream",
     "text": [
      "Optimization terminated successfully.\n",
      "         Current function value: 0.451472\n",
      "         Iterations 6\n"
     ]
    },
    {
     "data": {
      "text/html": [
       "<table class=\"simpletable\">\n",
       "<tr>\n",
       "             <td></td>               <th>coef</th>     <th>std err</th>      <th>z</th>      <th>P>|z|</th> <th>[95.0% Conf. Int.]</th> \n",
       "</tr>\n",
       "<tr>\n",
       "  <th>Intercept</th>              <td>   -1.7589</td> <td>    0.086</td> <td>  -20.550</td> <td> 0.000</td> <td>   -1.927    -1.591</td>\n",
       "</tr>\n",
       "<tr>\n",
       "  <th>t1_harassment_received</th> <td>    0.5352</td> <td>    0.142</td> <td>    3.759</td> <td> 0.000</td> <td>    0.256     0.814</td>\n",
       "</tr>\n",
       "</table>"
      ],
      "text/plain": [
       "<class 'statsmodels.iolib.table.SimpleTable'>"
      ]
     },
     "execution_count": 92,
     "metadata": {},
     "output_type": "execute_result"
    }
   ],
   "source": [
    "result = sm.logit(formula=\"t2_active ~ t1_harassment_received\", data=df_reg3).fit()\n",
    "result.summary().tables[1]"
   ]
  },
  {
   "cell_type": "markdown",
   "metadata": {},
   "source": [
    "Regress activity measure in t2 on activity measure in t1  "
   ]
  },
  {
   "cell_type": "code",
   "execution_count": 94,
   "metadata": {
    "collapsed": false
   },
   "outputs": [
    {
     "data": {
      "text/html": [
       "<table class=\"simpletable\">\n",
       "<tr>\n",
       "           <td></td>             <th>coef</th>     <th>std err</th>      <th>t</th>      <th>P>|t|</th> <th>[95.0% Conf. Int.]</th> \n",
       "</tr>\n",
       "<tr>\n",
       "  <th>Intercept</th>          <td>   -0.6304</td> <td>    0.074</td> <td>   -8.496</td> <td> 0.000</td> <td>   -0.776    -0.485</td>\n",
       "</tr>\n",
       "<tr>\n",
       "  <th>t1_num_days_active</th> <td>    0.5801</td> <td>    0.018</td> <td>   32.478</td> <td> 0.000</td> <td>    0.545     0.615</td>\n",
       "</tr>\n",
       "</table>"
      ],
      "text/plain": [
       "<class 'statsmodels.iolib.table.SimpleTable'>"
      ]
     },
     "execution_count": 94,
     "metadata": {},
     "output_type": "execute_result"
    }
   ],
   "source": [
    "result = sm.ols(formula=\"t2_num_days_active ~ t1_num_days_active\", data=df_reg3).fit()\n",
    "result.summary().tables[1]"
   ]
  },
  {
   "cell_type": "markdown",
   "metadata": {},
   "source": [
    "Regress activity measure in t2 on activity measure in t1 a measure of harassment"
   ]
  },
  {
   "cell_type": "code",
   "execution_count": 96,
   "metadata": {
    "collapsed": false
   },
   "outputs": [
    {
     "data": {
      "text/html": [
       "<table class=\"simpletable\">\n",
       "<tr>\n",
       "             <td></td>                <th>coef</th>     <th>std err</th>      <th>t</th>      <th>P>|t|</th> <th>[95.0% Conf. Int.]</th> \n",
       "</tr>\n",
       "<tr>\n",
       "  <th>Intercept</th>               <td>   -0.5105</td> <td>    0.076</td> <td>   -6.752</td> <td> 0.000</td> <td>   -0.659    -0.362</td>\n",
       "</tr>\n",
       "<tr>\n",
       "  <th>t1_num_days_active</th>      <td>    0.6104</td> <td>    0.018</td> <td>   33.431</td> <td> 0.000</td> <td>    0.575     0.646</td>\n",
       "</tr>\n",
       "<tr>\n",
       "  <th>t1_num_attacks_received</th> <td>   -0.8647</td> <td>    0.135</td> <td>   -6.390</td> <td> 0.000</td> <td>   -1.130    -0.599</td>\n",
       "</tr>\n",
       "</table>"
      ],
      "text/plain": [
       "<class 'statsmodels.iolib.table.SimpleTable'>"
      ]
     },
     "execution_count": 96,
     "metadata": {},
     "output_type": "execute_result"
    }
   ],
   "source": [
    "result = sm.ols(formula=\"t2_num_days_active ~ t1_num_days_active + t1_num_attacks_received\", data=df_reg3).fit()\n",
    "result.summary().tables[1]"
   ]
  },
  {
   "cell_type": "code",
   "execution_count": 98,
   "metadata": {
    "collapsed": false
   },
   "outputs": [
    {
     "data": {
      "text/html": [
       "<table class=\"simpletable\">\n",
       "<tr>\n",
       "               <td></td>                 <th>coef</th>     <th>std err</th>      <th>t</th>      <th>P>|t|</th> <th>[95.0% Conf. Int.]</th> \n",
       "</tr>\n",
       "<tr>\n",
       "  <th>Intercept</th>                  <td>   -0.4814</td> <td>    0.076</td> <td>   -6.334</td> <td> 0.000</td> <td>   -0.630    -0.332</td>\n",
       "</tr>\n",
       "<tr>\n",
       "  <th>t1_num_days_active</th>         <td>    0.6164</td> <td>    0.018</td> <td>   33.660</td> <td> 0.000</td> <td>    0.581     0.652</td>\n",
       "</tr>\n",
       "<tr>\n",
       "  <th>t1_num_aggression_received</th> <td>   -0.9076</td> <td>    0.128</td> <td>   -7.083</td> <td> 0.000</td> <td>   -1.159    -0.656</td>\n",
       "</tr>\n",
       "</table>"
      ],
      "text/plain": [
       "<class 'statsmodels.iolib.table.SimpleTable'>"
      ]
     },
     "execution_count": 98,
     "metadata": {},
     "output_type": "execute_result"
    }
   ],
   "source": [
    "result = sm.ols(formula=\"t2_num_days_active ~ t1_num_days_active + t1_num_aggression_received\", data=df_reg3).fit()\n",
    "result.summary().tables[1]"
   ]
  },
  {
   "cell_type": "code",
   "execution_count": 100,
   "metadata": {
    "collapsed": false
   },
   "outputs": [
    {
     "data": {
      "text/html": [
       "<table class=\"simpletable\">\n",
       "<tr>\n",
       "              <td></td>                <th>coef</th>     <th>std err</th>      <th>t</th>      <th>P>|t|</th> <th>[95.0% Conf. Int.]</th> \n",
       "</tr>\n",
       "<tr>\n",
       "  <th>Intercept</th>                <td>   -0.5692</td> <td>    0.076</td> <td>   -7.506</td> <td> 0.000</td> <td>   -0.718    -0.420</td>\n",
       "</tr>\n",
       "<tr>\n",
       "  <th>t1_num_days_active</th>       <td>    0.5846</td> <td>    0.018</td> <td>   32.778</td> <td> 0.000</td> <td>    0.550     0.620</td>\n",
       "</tr>\n",
       "<tr>\n",
       "  <th>t1_num_toxicity_received</th> <td>   -0.6116</td> <td>    0.169</td> <td>   -3.614</td> <td> 0.000</td> <td>   -0.944    -0.280</td>\n",
       "</tr>\n",
       "</table>"
      ],
      "text/plain": [
       "<class 'statsmodels.iolib.table.SimpleTable'>"
      ]
     },
     "execution_count": 100,
     "metadata": {},
     "output_type": "execute_result"
    }
   ],
   "source": [
    "result = sm.ols(formula=\"t2_num_days_active ~ t1_num_days_active + t1_num_toxicity_received\", data=df_reg3).fit()\n",
    "result.summary().tables[1]"
   ]
  },
  {
   "cell_type": "markdown",
   "metadata": {},
   "source": [
    "Regress activity measure in t2 on activity measure in t1 multiple measures of harassment: Does not work since the data is harassment measures are highly correlated."
   ]
  },
  {
   "cell_type": "code",
   "execution_count": 101,
   "metadata": {
    "collapsed": false
   },
   "outputs": [
    {
     "name": "stdout",
     "output_type": "stream",
     "text": [
      "(0.86488325520199183, 0.0)\n",
      "(0.47212670216702707, 1.0291539426236762e-85)\n",
      "(0.46513519636080747, 6.3574362535439e-83)\n"
     ]
    }
   ],
   "source": [
    "from scipy.stats import pearsonr \n",
    "print(pearsonr(df_reg3['t1_num_attacks_received'] , df_reg3['t1_num_aggression_received']))\n",
    "print(pearsonr(df_reg3['t1_num_toxicity_received'] , df_reg3['t1_num_aggression_received']))\n",
    "print(pearsonr(df_reg3['t1_num_toxicity_received'] , df_reg3['t1_num_attacks_received']))"
   ]
  },
  {
   "cell_type": "markdown",
   "metadata": {},
   "source": [
    "Interact with gender"
   ]
  },
  {
   "cell_type": "code",
   "execution_count": 102,
   "metadata": {
    "collapsed": false
   },
   "outputs": [
    {
     "data": {
      "text/html": [
       "<table class=\"simpletable\">\n",
       "<tr>\n",
       "           <td></td>             <th>coef</th>     <th>std err</th>      <th>t</th>      <th>P>|t|</th> <th>[95.0% Conf. Int.]</th> \n",
       "</tr>\n",
       "<tr>\n",
       "  <th>Intercept</th>          <td>   -0.6335</td> <td>    0.074</td> <td>   -8.536</td> <td> 0.000</td> <td>   -0.779    -0.488</td>\n",
       "</tr>\n",
       "<tr>\n",
       "  <th>t1_num_days_active</th> <td>    0.5779</td> <td>    0.018</td> <td>   32.225</td> <td> 0.000</td> <td>    0.543     0.613</td>\n",
       "</tr>\n",
       "<tr>\n",
       "  <th>is_female</th>          <td>    0.6783</td> <td>    0.512</td> <td>    1.326</td> <td> 0.185</td> <td>   -0.325     1.682</td>\n",
       "</tr>\n",
       "</table>"
      ],
      "text/plain": [
       "<class 'statsmodels.iolib.table.SimpleTable'>"
      ]
     },
     "execution_count": 102,
     "metadata": {},
     "output_type": "execute_result"
    }
   ],
   "source": [
    "result = sm.ols(formula=\"t2_num_days_active ~ t1_num_days_active + is_female\", data=df_reg3).fit()\n",
    "result.summary().tables[1]"
   ]
  },
  {
   "cell_type": "code",
   "execution_count": 103,
   "metadata": {
    "collapsed": false
   },
   "outputs": [
    {
     "data": {
      "text/html": [
       "<table class=\"simpletable\">\n",
       "<tr>\n",
       "                    <td></td>                      <th>coef</th>     <th>std err</th>      <th>t</th>      <th>P>|t|</th> <th>[95.0% Conf. Int.]</th> \n",
       "</tr>\n",
       "<tr>\n",
       "  <th>Intercept</th>                            <td>   -0.4896</td> <td>    0.076</td> <td>   -6.442</td> <td> 0.000</td> <td>   -0.639    -0.341</td>\n",
       "</tr>\n",
       "<tr>\n",
       "  <th>t1_num_days_active</th>                   <td>    0.6133</td> <td>    0.018</td> <td>   33.414</td> <td> 0.000</td> <td>    0.577     0.649</td>\n",
       "</tr>\n",
       "<tr>\n",
       "  <th>t1_num_aggression_received</th>           <td>   -0.8855</td> <td>    0.129</td> <td>   -6.861</td> <td> 0.000</td> <td>   -1.139    -0.632</td>\n",
       "</tr>\n",
       "<tr>\n",
       "  <th>is_female</th>                            <td>    1.6843</td> <td>    0.709</td> <td>    2.376</td> <td> 0.018</td> <td>    0.294     3.074</td>\n",
       "</tr>\n",
       "<tr>\n",
       "  <th>t1_num_aggression_received:is_female</th> <td>   -1.7825</td> <td>    1.003</td> <td>   -1.777</td> <td> 0.076</td> <td>   -3.750     0.185</td>\n",
       "</tr>\n",
       "</table>"
      ],
      "text/plain": [
       "<class 'statsmodels.iolib.table.SimpleTable'>"
      ]
     },
     "execution_count": 103,
     "metadata": {},
     "output_type": "execute_result"
    }
   ],
   "source": [
    "result = sm.ols(formula=\"t2_num_days_active ~ t1_num_days_active + t1_num_aggression_received * is_female\", data=df_reg3).fit()\n",
    "result.summary().tables[1]"
   ]
  },
  {
   "cell_type": "markdown",
   "metadata": {
    "collapsed": true
   },
   "source": [
    "Only consider new comers whose edits in the first month were not damaging\n",
    "1. get all main ns edits in the first month\n",
    "2. score each of them via ores"
   ]
  },
  {
   "cell_type": "code",
   "execution_count": 175,
   "metadata": {
    "collapsed": false
   },
   "outputs": [
    {
     "data": {
      "text/html": [
       "<div>\n",
       "<table border=\"1\" class=\"dataframe\">\n",
       "  <thead>\n",
       "    <tr style=\"text-align: right;\">\n",
       "      <th></th>\n",
       "      <th>is_female</th>\n",
       "      <th>is_male</th>\n",
       "      <th>t1_num_aggression_received</th>\n",
       "      <th>t1_num_aggresssion_made</th>\n",
       "      <th>t1_num_attacks_made</th>\n",
       "      <th>t1_num_attacks_received</th>\n",
       "      <th>t1_num_days_active</th>\n",
       "      <th>t1_num_edits</th>\n",
       "      <th>t2_num_days_active</th>\n",
       "      <th>t2_num_edits</th>\n",
       "      <th>t1_active</th>\n",
       "      <th>t2_active</th>\n",
       "      <th>t1_harassment_received</th>\n",
       "      <th>t1_harassment_made</th>\n",
       "    </tr>\n",
       "    <tr>\n",
       "      <th>user_text</th>\n",
       "      <th></th>\n",
       "      <th></th>\n",
       "      <th></th>\n",
       "      <th></th>\n",
       "      <th></th>\n",
       "      <th></th>\n",
       "      <th></th>\n",
       "      <th></th>\n",
       "      <th></th>\n",
       "      <th></th>\n",
       "      <th></th>\n",
       "      <th></th>\n",
       "      <th></th>\n",
       "      <th></th>\n",
       "    </tr>\n",
       "  </thead>\n",
       "  <tbody>\n",
       "    <tr>\n",
       "      <th>Coonass5639</th>\n",
       "      <td>0</td>\n",
       "      <td>0</td>\n",
       "      <td>0</td>\n",
       "      <td>0</td>\n",
       "      <td>0</td>\n",
       "      <td>0</td>\n",
       "      <td>1</td>\n",
       "      <td>1</td>\n",
       "      <td>0</td>\n",
       "      <td>0</td>\n",
       "      <td>1</td>\n",
       "      <td>0</td>\n",
       "      <td>0</td>\n",
       "      <td>0</td>\n",
       "    </tr>\n",
       "    <tr>\n",
       "      <th>Webdynamika</th>\n",
       "      <td>0</td>\n",
       "      <td>0</td>\n",
       "      <td>0</td>\n",
       "      <td>0</td>\n",
       "      <td>0</td>\n",
       "      <td>0</td>\n",
       "      <td>1</td>\n",
       "      <td>1</td>\n",
       "      <td>0</td>\n",
       "      <td>0</td>\n",
       "      <td>1</td>\n",
       "      <td>0</td>\n",
       "      <td>0</td>\n",
       "      <td>0</td>\n",
       "    </tr>\n",
       "    <tr>\n",
       "      <th>Jefland2003</th>\n",
       "      <td>0</td>\n",
       "      <td>0</td>\n",
       "      <td>0</td>\n",
       "      <td>0</td>\n",
       "      <td>0</td>\n",
       "      <td>0</td>\n",
       "      <td>1</td>\n",
       "      <td>4</td>\n",
       "      <td>0</td>\n",
       "      <td>0</td>\n",
       "      <td>1</td>\n",
       "      <td>0</td>\n",
       "      <td>0</td>\n",
       "      <td>0</td>\n",
       "    </tr>\n",
       "    <tr>\n",
       "      <th>Rasheed jaber</th>\n",
       "      <td>0</td>\n",
       "      <td>0</td>\n",
       "      <td>0</td>\n",
       "      <td>0</td>\n",
       "      <td>0</td>\n",
       "      <td>0</td>\n",
       "      <td>1</td>\n",
       "      <td>2</td>\n",
       "      <td>0</td>\n",
       "      <td>0</td>\n",
       "      <td>1</td>\n",
       "      <td>0</td>\n",
       "      <td>0</td>\n",
       "      <td>0</td>\n",
       "    </tr>\n",
       "    <tr>\n",
       "      <th>Glorious Japan Forever VI</th>\n",
       "      <td>0</td>\n",
       "      <td>0</td>\n",
       "      <td>0</td>\n",
       "      <td>0</td>\n",
       "      <td>0</td>\n",
       "      <td>0</td>\n",
       "      <td>1</td>\n",
       "      <td>2</td>\n",
       "      <td>0</td>\n",
       "      <td>0</td>\n",
       "      <td>1</td>\n",
       "      <td>0</td>\n",
       "      <td>0</td>\n",
       "      <td>0</td>\n",
       "    </tr>\n",
       "  </tbody>\n",
       "</table>\n",
       "</div>"
      ],
      "text/plain": [
       "                           is_female  is_male  t1_num_aggression_received  \\\n",
       "user_text                                                                   \n",
       "Coonass5639                        0        0                           0   \n",
       "Webdynamika                        0        0                           0   \n",
       "Jefland2003                        0        0                           0   \n",
       "Rasheed jaber                      0        0                           0   \n",
       "Glorious Japan Forever VI          0        0                           0   \n",
       "\n",
       "                           t1_num_aggresssion_made  t1_num_attacks_made  \\\n",
       "user_text                                                                 \n",
       "Coonass5639                                      0                    0   \n",
       "Webdynamika                                      0                    0   \n",
       "Jefland2003                                      0                    0   \n",
       "Rasheed jaber                                    0                    0   \n",
       "Glorious Japan Forever VI                        0                    0   \n",
       "\n",
       "                           t1_num_attacks_received  t1_num_days_active  \\\n",
       "user_text                                                                \n",
       "Coonass5639                                      0                   1   \n",
       "Webdynamika                                      0                   1   \n",
       "Jefland2003                                      0                   1   \n",
       "Rasheed jaber                                    0                   1   \n",
       "Glorious Japan Forever VI                        0                   1   \n",
       "\n",
       "                           t1_num_edits  t2_num_days_active  t2_num_edits  \\\n",
       "user_text                                                                   \n",
       "Coonass5639                           1                   0             0   \n",
       "Webdynamika                           1                   0             0   \n",
       "Jefland2003                           4                   0             0   \n",
       "Rasheed jaber                         2                   0             0   \n",
       "Glorious Japan Forever VI             2                   0             0   \n",
       "\n",
       "                           t1_active  t2_active  t1_harassment_received  \\\n",
       "user_text                                                                 \n",
       "Coonass5639                        1          0                       0   \n",
       "Webdynamika                        1          0                       0   \n",
       "Jefland2003                        1          0                       0   \n",
       "Rasheed jaber                      1          0                       0   \n",
       "Glorious Japan Forever VI          1          0                       0   \n",
       "\n",
       "                           t1_harassment_made  \n",
       "user_text                                      \n",
       "Coonass5639                                 0  \n",
       "Webdynamika                                 0  \n",
       "Jefland2003                                 0  \n",
       "Rasheed jaber                               0  \n",
       "Glorious Japan Forever VI                   0  "
      ]
     },
     "execution_count": 175,
     "metadata": {},
     "output_type": "execute_result"
    }
   ],
   "source": [
    "df_reg3.head()"
   ]
  },
  {
   "cell_type": "code",
   "execution_count": 131,
   "metadata": {
    "collapsed": true
   },
   "outputs": [],
   "source": [
    "def get_user_contribs(uname, start, end, uclimit = 500):\n",
    "    params = {'action': 'query',\n",
    "           'format': 'json',\n",
    "           'list' : 'usercontribs',\n",
    "           'uclimit': uclimit,\n",
    "           'ucdir': 'newer',\n",
    "           'ucprop': 'oresscores|ids|timestamp|title',\n",
    "           'ucuser': uname,\n",
    "           'ucstart': start,\n",
    "           'ucend': end,\n",
    "          }\n",
    "    \n",
    "    r = requests.get('http://en.wikipedia.org/w/api.php', params=params).json()\n",
    "    try:\n",
    "        r = requests.get('http://en.wikipedia.org/w/api.php', params=params).json()\n",
    "        print(r)\n",
    "        return r[\"query\"]['usercontribs']\n",
    "    except:\n",
    "        print(\"Error getting contribs: \", uname)\n",
    "        return []"
   ]
  },
  {
   "cell_type": "code",
   "execution_count": 132,
   "metadata": {
    "collapsed": false
   },
   "outputs": [
    {
     "name": "stdout",
     "output_type": "stream",
     "text": [
      "{'query': {'usercontribs': [{'oresscores': {'damaging': {'false': 0.185, 'true': 0.815}}, 'pageid': 318620, 'user': 'Martinlanza', 'userid': 26274229, 'title': 'Alexandra Palace', 'timestamp': '2015-09-16T13:47:14Z', 'revid': 681312508, 'parentid': 680528205, 'ns': 0}, {'oresscores': {'damaging': {'false': 0.29, 'true': 0.71}}, 'pageid': 318620, 'user': 'Martinlanza', 'userid': 26274229, 'title': 'Alexandra Palace', 'timestamp': '2015-09-16T13:51:32Z', 'revid': 681313074, 'parentid': 681312508, 'ns': 0}, {'oresscores': {'damaging': {'false': 0.384, 'true': 0.616}}, 'pageid': 318620, 'user': 'Martinlanza', 'userid': 26274229, 'title': 'Alexandra Palace', 'timestamp': '2015-09-16T14:02:52Z', 'revid': 681314409, 'parentid': 681313074, 'ns': 0}]}, 'batchcomplete': ''}\n"
     ]
    }
   ],
   "source": [
    "user_contribs_t1 = {}\n",
    "\n",
    "for user in user_objects:\n",
    "    start = user.registration_day \n",
    "    end = user.registration_day + relativedelta(months=1)\n",
    "    user_contribs_t1[user.user_text] = get_user_contribs(user.user_text, str(start), str(end))\n",
    "    break\n",
    "    "
   ]
  },
  {
   "cell_type": "code",
   "execution_count": 127,
   "metadata": {
    "collapsed": false
   },
   "outputs": [
    {
     "data": {
      "text/plain": [
       "'2015-09-16 00:00:00'"
      ]
     },
     "execution_count": 127,
     "metadata": {},
     "output_type": "execute_result"
    }
   ],
   "source": [
    "str(start)"
   ]
  },
  {
   "cell_type": "code",
   "execution_count": null,
   "metadata": {
    "collapsed": true
   },
   "outputs": [],
   "source": []
  }
 ],
 "metadata": {
  "anaconda-cloud": {},
  "kernelspec": {
   "display_name": "Python [default]",
   "language": "python",
   "name": "python3"
  },
  "language_info": {
   "codemirror_mode": {
    "name": "ipython",
    "version": 3
   },
   "file_extension": ".py",
   "mimetype": "text/x-python",
   "name": "python",
   "nbconvert_exporter": "python",
   "pygments_lexer": "ipython3",
   "version": "3.5.1"
  }
 },
 "nbformat": 4,
 "nbformat_minor": 0
}
