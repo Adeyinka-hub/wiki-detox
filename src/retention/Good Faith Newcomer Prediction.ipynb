{
 "cells": [
  {
   "cell_type": "markdown",
   "metadata": {},
   "source": [
    "# Good Faith Newcomer Prediction"
   ]
  },
  {
   "cell_type": "markdown",
   "metadata": {},
   "source": [
    "Aaron has a labeled dataset of newcomers to English Wikipedia. Newcomers are labeled as good-faith or bad-faith based on Wikipedians' judgements of the newcomers' edits in their first edit session. Aaron used STiki scores to construct a bayesian prediction model of good-faith newcomers. In this notebook, I'll try to reproduce his results using ORES scores as well as try out some other modeling strategies."
   ]
  },
  {
   "cell_type": "code",
   "execution_count": 1,
   "metadata": {
    "collapsed": true
   },
   "outputs": [],
   "source": [
    "% matplotlib inline\n",
    "import pandas as pd\n",
    "import urllib\n",
    "import requests\n",
    "from scipy.stats import beta\n",
    "import numpy as np\n",
    "from sklearn.metrics import roc_auc_score\n",
    "import datetime\n",
    "import matplotlib.pyplot as plt \n",
    "import pickle\n",
    "from math import log, factorial, exp"
   ]
  },
  {
   "cell_type": "markdown",
   "metadata": {},
   "source": [
    "### Download newcomer quality data"
   ]
  },
  {
   "cell_type": "code",
   "execution_count": 2,
   "metadata": {
    "collapsed": false
   },
   "outputs": [],
   "source": [
    "DATA_URL = \"https://datasets.wikimedia.org/public-datasets/enwiki/rise-and-decline/newbie_quality_sample.tsv\"\n",
    "_ = urllib.request.urlretrieve(DATA_URL, \"newbie_quality_sample.tsv\")"
   ]
  },
  {
   "cell_type": "code",
   "execution_count": 2,
   "metadata": {
    "collapsed": true
   },
   "outputs": [],
   "source": [
    "df = pd.read_csv(\"newbie_quality_sample.tsv\", sep = '\\t')\n",
    "df.index = df.user_id\n",
    "df[\"good_faith\"] = df.category > 2 "
   ]
  },
  {
   "cell_type": "code",
   "execution_count": 3,
   "metadata": {
    "collapsed": false
   },
   "outputs": [
    {
     "data": {
      "text/html": [
       "<div>\n",
       "<table border=\"1\" class=\"dataframe\">\n",
       "  <thead>\n",
       "    <tr style=\"text-align: right;\">\n",
       "      <th></th>\n",
       "      <th>user_id</th>\n",
       "      <th>category</th>\n",
       "      <th>good_faith</th>\n",
       "    </tr>\n",
       "    <tr>\n",
       "      <th>user_id</th>\n",
       "      <th></th>\n",
       "      <th></th>\n",
       "      <th></th>\n",
       "    </tr>\n",
       "  </thead>\n",
       "  <tbody>\n",
       "    <tr>\n",
       "      <th>8</th>\n",
       "      <td>8</td>\n",
       "      <td>3</td>\n",
       "      <td>True</td>\n",
       "    </tr>\n",
       "    <tr>\n",
       "      <th>10</th>\n",
       "      <td>10</td>\n",
       "      <td>3</td>\n",
       "      <td>True</td>\n",
       "    </tr>\n",
       "    <tr>\n",
       "      <th>19</th>\n",
       "      <td>19</td>\n",
       "      <td>4</td>\n",
       "      <td>True</td>\n",
       "    </tr>\n",
       "    <tr>\n",
       "      <th>22</th>\n",
       "      <td>22</td>\n",
       "      <td>3</td>\n",
       "      <td>True</td>\n",
       "    </tr>\n",
       "    <tr>\n",
       "      <th>27</th>\n",
       "      <td>27</td>\n",
       "      <td>3</td>\n",
       "      <td>True</td>\n",
       "    </tr>\n",
       "  </tbody>\n",
       "</table>\n",
       "</div>"
      ],
      "text/plain": [
       "         user_id  category good_faith\n",
       "user_id                              \n",
       "8              8         3       True\n",
       "10            10         3       True\n",
       "19            19         4       True\n",
       "22            22         3       True\n",
       "27            27         3       True"
      ]
     },
     "execution_count": 3,
     "metadata": {},
     "output_type": "execute_result"
    }
   ],
   "source": [
    "df.head()"
   ]
  },
  {
   "cell_type": "code",
   "execution_count": 4,
   "metadata": {
    "collapsed": false
   },
   "outputs": [
    {
     "data": {
      "text/plain": [
       "True     875\n",
       "False    188\n",
       "Name: good_faith, dtype: int64"
      ]
     },
     "execution_count": 4,
     "metadata": {},
     "output_type": "execute_result"
    }
   ],
   "source": [
    "df[\"good_faith\"].value_counts()"
   ]
  },
  {
   "cell_type": "markdown",
   "metadata": {},
   "source": [
    "### Get early newcomer contribution history"
   ]
  },
  {
   "cell_type": "code",
   "execution_count": 6,
   "metadata": {
    "collapsed": true
   },
   "outputs": [],
   "source": [
    "\n",
    "def get_user_name(uid):\n",
    "        url = 'http://en.wikipedia.org/w/api.php?action=query&format=json&list=users&usprop=&ususerids=%d'\n",
    "        try:\n",
    "            r = requests.get( url % uid).json()\n",
    "            return r[\"query\"]['users'][0]['name']\n",
    "        except:\n",
    "            print(\"Error getting username: \", uid)\n",
    "            return None\n",
    "\n",
    "def get_user_contribs(uname, uclimit = 100):\n",
    "    params = {'action': 'query',\n",
    "           'format': 'json',\n",
    "           'list' : 'usercontribs',\n",
    "           'uclimit': uclimit,\n",
    "           'ucdir': 'newer',\n",
    "           'ucprop': 'oresscores|ids|timestamp|title',\n",
    "           'ucuser': uname\n",
    "          }\n",
    "\n",
    "    try:\n",
    "        r = requests.get('http://en.wikipedia.org/w/api.php', params=params).json()\n",
    "        return r[\"query\"]['usercontribs']\n",
    "    except:\n",
    "        print(\"Error getting contribs: \", uname)\n",
    "        return []"
   ]
  },
  {
   "cell_type": "code",
   "execution_count": 11,
   "metadata": {
    "collapsed": false
   },
   "outputs": [
    {
     "name": "stdout",
     "output_type": "stream",
     "text": [
      "0\n",
      "25\n",
      "50\n",
      "75\n",
      "100\n",
      "125\n",
      "150\n",
      "175\n",
      "200\n",
      "225\n",
      "250\n",
      "275\n",
      "300\n",
      "Error getting contribs:  Spinal83\n",
      "325\n",
      "350\n",
      "375\n",
      "400\n",
      "425\n",
      "450\n",
      "475\n",
      "500\n",
      "525\n",
      "550\n",
      "575\n",
      "600\n",
      "625\n",
      "650\n",
      "675\n",
      "700\n",
      "725\n",
      "Error getting contribs:  Tapatun\n",
      "750\n",
      "Error getting contribs:  AyeSpy\n",
      "775\n",
      "800\n",
      "825\n",
      "850\n",
      "875\n",
      "900\n",
      "925\n",
      "950\n",
      "975\n",
      "1000\n",
      "1025\n",
      "1050\n"
     ]
    }
   ],
   "source": [
    "contribs = {}\n",
    "\n",
    "for i, uid in enumerate(df.user_id):\n",
    "    if i % 100 ==0:\n",
    "        print(i)\n",
    "        \n",
    "    uname = get_user_name(uid)\n",
    "    if uname is not None:\n",
    "        contribs[uid] = get_user_contribs(uname, uclimit = 100)\n",
    "\n",
    "with open('newbie_quality_sample_contributions.pkl', 'wb') as fp:\n",
    "    pickle.dump(contribs, fp)"
   ]
  },
  {
   "cell_type": "code",
   "execution_count": 6,
   "metadata": {
    "collapsed": false
   },
   "outputs": [],
   "source": [
    "with open('newbie_quality_sample_contributions.pkl', 'rb') as fp:\n",
    "    contribs = pickle.load(fp)"
   ]
  },
  {
   "cell_type": "markdown",
   "metadata": {},
   "source": [
    "### Get newcomer first edit session"
   ]
  },
  {
   "cell_type": "code",
   "execution_count": 7,
   "metadata": {
    "collapsed": true
   },
   "outputs": [],
   "source": [
    "def get_main_ns_contribs(contribs):\n",
    "    return {k:[x for x in v if x['ns'] == 0] for k,v in contribs.items()}\n",
    "\n",
    "def parse_dt(s):\n",
    "    return datetime.datetime.strptime(s, '%Y-%m-%dT%H:%M:%SZ')\n",
    "\n",
    "def get_first_edit_session(contribs, gap = 60):\n",
    "    fes_contribs = {}\n",
    "    \n",
    "    for k,v in contribs.items():\n",
    "        if len(v) <= 1:\n",
    "            fes_contribs[k] = v\n",
    "        else:\n",
    "            session = [v[0]]\n",
    "            t_prev = parse_dt(v[0]['timestamp'])\n",
    "            for x in v[1:]:\n",
    "                t_curr = parse_dt(x['timestamp'])\n",
    "                delta = t_curr - t_prev\n",
    "                \n",
    "                if delta > datetime.timedelta(minutes=gap):\n",
    "                    break\n",
    "                else:\n",
    "                    t_prev = t_curr\n",
    "                    session.append(x)\n",
    "            fes_contribs[k] = session\n",
    "    return fes_contribs\n",
    "\n",
    "def get_first_edit(contribs):\n",
    "    return {k:v[:2] for k,v in contribs.items()}\n"
   ]
  },
  {
   "cell_type": "code",
   "execution_count": 8,
   "metadata": {
    "collapsed": false
   },
   "outputs": [],
   "source": [
    "fes_contribs = get_first_edit_session(contribs)\n",
    "ns0_contribs = get_main_ns_contribs(contribs)\n",
    "ns0_fes_contribs = get_first_edit_session(ns0_contribs)\n",
    "ns0_fe_contribs = get_first_edit(ns0_contribs)"
   ]
  },
  {
   "cell_type": "markdown",
   "metadata": {},
   "source": [
    "### Snuggle Model\n"
   ]
  },
  {
   "cell_type": "code",
   "execution_count": 9,
   "metadata": {
    "collapsed": false
   },
   "outputs": [],
   "source": [
    "class SnuggleScorer():\n",
    "\n",
    "    def __init__(self, ):\n",
    "        self.EPSILON = 0.005\n",
    "    \n",
    "    def fit(self, contribs, labels):\n",
    "        \n",
    "        contribs_0 = [contribs[uid] for uid in labels.query('good_faith == 0')['user_id'] if uid in contribs]\n",
    "        self.scores_0 = [c['oresscores']['damaging']['true'] for cs in contribs_0 for c in cs]\n",
    "        \n",
    "        contribs_1 = [contribs[uid] for uid in labels.query('good_faith == 1')['user_id'] if uid in contribs]\n",
    "        self.scores_1 = [c['oresscores']['damaging']['true'] for cs in contribs_1 for c in cs]\n",
    "        \n",
    "        \n",
    "        self.a0, self.b0, _, _ = beta.fit(self.scores_0)\n",
    "        self.a1, self.b1, _, _ = beta.fit(self.scores_1)\n",
    "        self.model_0 = beta(self.a0, self.b0)\n",
    "        self.model_1 = beta(self.a1, self.b1)\n",
    "        \n",
    "        self.p_0_prior = float(len(contribs_0)) / (len(contribs_0) + len(contribs_1))\n",
    "        self.p_1_prior = 1 - self.p_0_prior\n",
    "        \n",
    "    \n",
    "    \n",
    "    def beta_likelihood(self, scores, model):\n",
    "        \"\"\"\n",
    "        Straight from https://github.com/wikimedia/analytics-snuggle/blob/master/snuggle/desirability.py#L18-L27\n",
    "        \"\"\"\n",
    "        log_p = log(factorial(len(scores)))\n",
    "        for score in scores:\n",
    "            log_p += log(\n",
    "            model.cdf(min(score + self.EPSILON, 1)) - \n",
    "            model.cdf(max(score - self.EPSILON, 0.005))\n",
    "            )\n",
    "\n",
    "        return exp(log_p)\n",
    "        \n",
    "\n",
    "        \n",
    "    def score(self, contribs):\n",
    "        \"\"\"\n",
    "        Straight from https://github.com/wikimedia/analytics-snuggle/blob/master/snuggle/desirability.py#L30-L34\n",
    "        \"\"\"\n",
    "        \n",
    "        scores =[c['oresscores']['damaging']['true'] for c in contribs]\n",
    "        \n",
    "        p_0 = self.beta_likelihood(scores, self.model_0) * self.p_0_prior\n",
    "        p_1 = self.beta_likelihood(scores, self.model_1) * self.p_1_prior\n",
    "        \n",
    "        return p_1 / (p_1 + p_0)"
   ]
  },
  {
   "cell_type": "code",
   "execution_count": 10,
   "metadata": {
    "collapsed": false
   },
   "outputs": [
    {
     "name": "stderr",
     "output_type": "stream",
     "text": [
      "/Users/ellerywulczyn/miniconda3/lib/python3.5/site-packages/scipy/stats/_continuous_distns.py:407: RuntimeWarning: invalid value encountered in sqrt\n",
      "  sk = 2*(b-a)*sqrt(a + b + 1) / (a + b + 2) / sqrt(a*b)\n"
     ]
    }
   ],
   "source": [
    "SC = SnuggleScorer()\n",
    "SC.fit(ns0_fes_contribs, df)"
   ]
  },
  {
   "cell_type": "code",
   "execution_count": 16,
   "metadata": {
    "collapsed": false
   },
   "outputs": [
    {
     "data": {
      "text/plain": [
       "[<matplotlib.lines.Line2D at 0x11bd630f0>]"
      ]
     },
     "execution_count": 16,
     "metadata": {},
     "output_type": "execute_result"
    },
    {
     "data": {
      "image/png": "[encoded data removed]",
      "text/plain": [
       "<matplotlib.figure.Figure at 0x11b60bf28>"
      ]
     },
     "metadata": {},
     "output_type": "display_data"
    }
   ],
   "source": [
    "plt.title(\"Desirable\")\n",
    "plt.hist(SC.scores_1, normed = True)\n",
    "x = np.linspace(0, 1, 100)\n",
    "rv = beta(SC.a1, SC.b1)\n",
    "plt.plot(x, rv.pdf(x), 'k-', lw=2, label='frozen pdf')\n"
   ]
  },
  {
   "cell_type": "code",
   "execution_count": 17,
   "metadata": {
    "collapsed": false
   },
   "outputs": [
    {
     "data": {
      "text/plain": [
       "[<matplotlib.lines.Line2D at 0x11bfdeb70>]"
      ]
     },
     "execution_count": 17,
     "metadata": {},
     "output_type": "execute_result"
    },
    {
     "data": {
      "image/png": "[encoded data removed]",
      "text/plain": [
       "<matplotlib.figure.Figure at 0x11bd30ba8>"
      ]
     },
     "metadata": {},
     "output_type": "display_data"
    }
   ],
   "source": [
    "plt.title(\"Undesirable\")\n",
    "plt.hist(SC.scores_0, normed = True)\n",
    "x = np.linspace(0, 1, 100)\n",
    "rv = beta(SC.a0, SC.b0)\n",
    "plt.plot(x, rv.pdf(x), 'k-', lw=2, label='frozen pdf')\n"
   ]
  },
  {
   "cell_type": "code",
   "execution_count": 14,
   "metadata": {
    "collapsed": false
   },
   "outputs": [
    {
     "data": {
      "text/plain": [
       "0.75583890577507606"
      ]
     },
     "execution_count": 14,
     "metadata": {},
     "output_type": "execute_result"
    }
   ],
   "source": [
    "pred = df['user_id'].apply(lambda x: SC.score(ns0_fes_contribs.get(x, [])))\n",
    "roc_auc_score(df['good_faith'], pred)"
   ]
  },
  {
   "cell_type": "code",
   "execution_count": 15,
   "metadata": {
    "collapsed": false
   },
   "outputs": [
    {
     "data": {
      "text/plain": [
       "0.78589513713745274"
      ]
     },
     "execution_count": 15,
     "metadata": {},
     "output_type": "execute_result"
    }
   ],
   "source": [
    "# only include newcomers with a non-empty ns0_fes_contribs\n",
    "df['has_ns0_fes'] = df['user_id'].apply(lambda x: len(ns0_fes_contribs[x]) > 0)\n",
    "df_ns0_fes = df.query(\"has_ns0_fes == 1\")\n",
    "pred_ns0_fes = df_ns0_fes['user_id'].apply(lambda x: SC.score(ns0_fes_contribs.get(x, [])))\n",
    "roc_auc_score(df_ns0_fes['good_faith'], pred_ns0_fes)"
   ]
  },
  {
   "cell_type": "markdown",
   "metadata": {},
   "source": [
    "The Snuggle paper reports an ROC of .88. We will need to figure out where the discrepancy comes from:\n",
    "1. concecptual or implementation error in reproduction\n",
    "2. difference in accuracy/semantics between ORES and STiki scores\n",
    "3. small sample size effect in paper (n=150 vs n=1000)"
   ]
  },
  {
   "cell_type": "markdown",
   "metadata": {},
   "source": [
    "### LSTM model\n"
   ]
  },
  {
   "cell_type": "code",
   "execution_count": null,
   "metadata": {
    "collapsed": true
   },
   "outputs": [],
   "source": []
  }
 ],
 "metadata": {
  "anaconda-cloud": {},
  "kernelspec": {
   "display_name": "Python [default]",
   "language": "python",
   "name": "python3"
  },
  "language_info": {
   "codemirror_mode": {
    "name": "ipython",
    "version": 3
   },
   "file_extension": ".py",
   "mimetype": "text/x-python",
   "name": "python",
   "nbconvert_exporter": "python",
   "pygments_lexer": "ipython3",
   "version": "3.5.1"
  }
 },
 "nbformat": 4,
 "nbformat_minor": 0
}
