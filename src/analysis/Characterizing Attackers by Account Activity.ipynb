{
 "cells": [
  {
   "cell_type": "code",
   "execution_count": 16,
   "metadata": {
    "collapsed": false
   },
   "outputs": [
    {
     "name": "stdout",
     "output_type": "stream",
     "text": [
      "The autoreload extension is already loaded. To reload it, use:\n",
      "  %reload_ext autoreload\n"
     ]
    }
   ],
   "source": [
    "%load_ext autoreload\n",
    "%autoreload 2\n",
    "%matplotlib inline\n",
    "import warnings\n",
    "warnings.filterwarnings('ignore')\n",
    "\n",
    "import matplotlib.pyplot as plt\n",
    "import seaborn as sns\n",
    "import numpy as np\n",
    "import pandas as pd\n",
    "from load_utils import *\n",
    "from analysis_utils import *\n",
    "from collections import OrderedDict"
   ]
  },
  {
   "cell_type": "markdown",
   "metadata": {},
   "source": [
    "### Load and Group Data"
   ]
  },
  {
   "cell_type": "code",
   "execution_count": 2,
   "metadata": {
    "collapsed": true
   },
   "outputs": [],
   "source": [
    "d = load_diffs()\n",
    "df_events, df_blocked_user_text = load_block_events_and_users()"
   ]
  },
  {
   "cell_type": "code",
   "execution_count": 36,
   "metadata": {
    "collapsed": true
   },
   "outputs": [],
   "source": [
    "d['2015']['pred_recipient'] = (d['2015']['pred_recipient_score'] > 0.7)"
   ]
  },
  {
   "cell_type": "code",
   "execution_count": 37,
   "metadata": {
    "collapsed": true
   },
   "outputs": [],
   "source": [
    "agg_dict = {'pred_recipient': ['count','sum'], 'user_id': 'first', 'author_anon': 'first', 'pred_recipient_score': 'mean'}\n",
    "agg_dict = OrderedDict(agg_dict.items())\n",
    "df_a = d['2015'].groupby('user_text', as_index = False).agg(agg_dict)"
   ]
  },
  {
   "cell_type": "code",
   "execution_count": 39,
   "metadata": {
    "collapsed": true
   },
   "outputs": [],
   "source": [
    "df_a.columns = ['user_text', 'avg_attack_score', 'author_anon', 'user_id', 'total', 'attacks']"
   ]
  },
  {
   "cell_type": "code",
   "execution_count": 41,
   "metadata": {
    "collapsed": true
   },
   "outputs": [],
   "source": [
    "df_a['frac_attacks'] = df_a['attacks']/df_a['total']"
   ]
  },
  {
   "cell_type": "code",
   "execution_count": 42,
   "metadata": {
    "collapsed": true
   },
   "outputs": [],
   "source": [
    "import statsmodels.api as sm\n",
    "import statsmodels.formula.api as smf"
   ]
  },
  {
   "cell_type": "code",
   "execution_count": 43,
   "metadata": {
    "collapsed": true
   },
   "outputs": [],
   "source": [
    "y = df_a['avg_attack_score']\n",
    "X = df_a['frac_attacks']"
   ]
  },
  {
   "cell_type": "markdown",
   "metadata": {},
   "source": [
    "### Distribution of Attacking Comments"
   ]
  },
  {
   "cell_type": "code",
   "execution_count": 46,
   "metadata": {
    "collapsed": false
   },
   "outputs": [],
   "source": [
    "bins = [1,2,6,101,10000]\n",
    "values, base = np.histogram(df_a[['total']], weights = df_a[['attacks']], bins = bins)\n",
    "width = 0.7 * (base[1] - base[0])\n",
    "center = (base[:-1] + base[1:]) / 2"
   ]
  },
  {
   "cell_type": "code",
   "execution_count": 47,
   "metadata": {
    "collapsed": false,
    "scrolled": true
   },
   "outputs": [
    {
     "name": "stdout",
     "output_type": "stream",
     "text": [
      "[ 908.  975.  660.  284.]\n",
      "[ 32.11885391  34.48885745  23.3463035   10.04598514]\n"
     ]
    }
   ],
   "source": [
    "print(values)\n",
    "frac_values = 100.0*values/np.sum(values)\n",
    "print(frac_values)\n",
    "y_range = range(len(values))\n",
    "y_labels = ['1', '2 - 5', '6 - 100', '100+']\n",
    "# Make the damn non cumulative plot"
   ]
  },
  {
   "cell_type": "code",
   "execution_count": 48,
   "metadata": {
    "collapsed": false,
    "scrolled": true
   },
   "outputs": [
    {
     "data": {
      "text/plain": [
       "<matplotlib.text.Text at 0x12f2fc198>"
      ]
     },
     "execution_count": 48,
     "metadata": {},
     "output_type": "execute_result"
    },
    {
     "data": {
      "image/png": "[encoded data removed]",
      "text/plain": [
       "<matplotlib.figure.Figure at 0x12ea5e748>"
      ]
     },
     "metadata": {},
     "output_type": "display_data"
    }
   ],
   "source": [
    "plt.bar(y_range, frac_values, align = 'center')\n",
    "plt.xticks(y_range, y_labels)\n",
    "plt.ylabel('Percentage of Attacking Comments')\n",
    "plt.xlabel('Total Number of Comments Made')"
   ]
  },
  {
   "cell_type": "markdown",
   "metadata": {},
   "source": [
    "### Split by Anonymity"
   ]
  },
  {
   "cell_type": "code",
   "execution_count": 49,
   "metadata": {
    "collapsed": true
   },
   "outputs": [],
   "source": [
    "df_anon = df_a.query('author_anon')\n",
    "df_registered = df_a.query('not author_anon')"
   ]
  },
  {
   "cell_type": "code",
   "execution_count": 55,
   "metadata": {
    "collapsed": false
   },
   "outputs": [
    {
     "data": {
      "text/plain": [
       "<matplotlib.legend.Legend at 0x12e4521d0>"
      ]
     },
     "execution_count": 55,
     "metadata": {},
     "output_type": "execute_result"
    },
    {
     "data": {
      "image/png": "[encoded data removed]",
      "text/plain": [
       "<matplotlib.figure.Figure at 0x12e4523c8>"
      ]
     },
     "metadata": {},
     "output_type": "display_data"
    }
   ],
   "source": [
    "total_values = np.sum(reg_values) + np.sum(anon_values)\n",
    "frac_reg = 100.0*reg_values/total_values\n",
    "frac_anon = 100.0*anon_values/total_values\n",
    "p_reg = plt.bar(y_range, frac_reg, align = 'center', color = 'orange')\n",
    "p_anon = plt.bar(y_range, frac_anon, align = 'center', bottom=frac_reg)\n",
    "plt.xticks(y_range, y_labels)\n",
    "plt.ylabel('Percentage of Attacking Comments')\n",
    "plt.xlabel('Editor Activity Level')\n",
    "plt.legend((p_reg[0],p_anon[0]),('Registered','Anonymous'))"
   ]
  },
  {
   "cell_type": "markdown",
   "metadata": {},
   "source": [
    "### Distribution of All Comments"
   ]
  },
  {
   "cell_type": "code",
   "execution_count": 57,
   "metadata": {
    "collapsed": false
   },
   "outputs": [],
   "source": [
    "bins = [1,2,6,101,10000]\n",
    "values, base = np.histogram(df_a[['total']], weights = df_a[['total']], bins = bins)"
   ]
  },
  {
   "cell_type": "code",
   "execution_count": 58,
   "metadata": {
    "collapsed": false
   },
   "outputs": [
    {
     "data": {
      "text/plain": [
       "array([ 140987,  161539,  453716, 1267317])"
      ]
     },
     "execution_count": 58,
     "metadata": {},
     "output_type": "execute_result"
    }
   ],
   "source": [
    "values"
   ]
  },
  {
   "cell_type": "code",
   "execution_count": 59,
   "metadata": {
    "collapsed": false
   },
   "outputs": [
    {
     "data": {
      "text/plain": [
       "<matplotlib.text.Text at 0x12c071160>"
      ]
     },
     "execution_count": 59,
     "metadata": {},
     "output_type": "execute_result"
    },
    {
     "data": {
      "image/png": "[encoded data removed]",
      "text/plain": [
       "<matplotlib.figure.Figure at 0x131bdd710>"
      ]
     },
     "metadata": {},
     "output_type": "display_data"
    }
   ],
   "source": [
    "frac_values = 100.0*values/np.sum(values)\n",
    "y_range = range(len(values))\n",
    "y_labels = ['1', '2 - 5', '6 - 100', '100+']\n",
    "plt.bar(y_range, frac_values, align = 'center')\n",
    "plt.xticks(y_range, y_labels)\n",
    "plt.ylabel('Percentage of All Comments')\n",
    "plt.xlabel('Editor Activity Level')"
   ]
  },
  {
   "cell_type": "code",
   "execution_count": 60,
   "metadata": {
    "collapsed": false
   },
   "outputs": [
    {
     "data": {
      "text/plain": [
       "array([  6.96727894,   7.98291525,  22.42168378,  62.62812204])"
      ]
     },
     "execution_count": 60,
     "metadata": {},
     "output_type": "execute_result"
    }
   ],
   "source": [
    "frac_values"
   ]
  },
  {
   "cell_type": "code",
   "execution_count": null,
   "metadata": {
    "collapsed": true
   },
   "outputs": [],
   "source": []
  }
 ],
 "metadata": {
  "anaconda-cloud": {},
  "kernelspec": {
   "display_name": "Python [Root]",
   "language": "python",
   "name": "Python [Root]"
  },
  "language_info": {
   "codemirror_mode": {
    "name": "ipython",
    "version": 3
   },
   "file_extension": ".py",
   "mimetype": "text/x-python",
   "name": "python",
   "nbconvert_exporter": "python",
   "pygments_lexer": "ipython3",
   "version": "3.5.2"
  }
 },
 "nbformat": 4,
 "nbformat_minor": 0
}
