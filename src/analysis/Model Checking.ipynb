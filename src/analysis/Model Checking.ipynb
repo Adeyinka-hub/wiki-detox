{
 "cells": [
  {
   "cell_type": "code",
   "execution_count": 1,
   "metadata": {
    "collapsed": true
   },
   "outputs": [],
   "source": [
    "%load_ext autoreload\n",
    "%autoreload 2\n",
    "%matplotlib inline\n",
    "import warnings\n",
    "warnings.filterwarnings('ignore')\n",
    "\n",
    "import matplotlib.pyplot as plt\n",
    "import seaborn as sns\n",
    "import numpy as np\n",
    "import pandas as pd\n",
    "\n",
    "from load_utils import *"
   ]
  },
  {
   "cell_type": "code",
   "execution_count": 2,
   "metadata": {
    "collapsed": true
   },
   "outputs": [],
   "source": [
    "d = load_diffs(keep_diff = True)\n",
    "df_events, df_blocked_user_text = load_block_events_and_users()"
   ]
  },
  {
   "cell_type": "markdown",
   "metadata": {},
   "source": [
    "# Model Checking\n",
    "### Q: What do comments in different score intervals look like?"
   ]
  },
  {
   "cell_type": "code",
   "execution_count": 3,
   "metadata": {
    "collapsed": true
   },
   "outputs": [],
   "source": [
    "def check_range(d, col, min, max, n = 10, ):\n",
    "    df = d.query('%s >= %f and %s <= %f' % (col, min, col, max))\n",
    "    for i, r in df.sample(n).iterrows():\n",
    "        print(r[col])\n",
    "        print(r.clean_diff)\n",
    "        print('\\n')  "
   ]
  },
  {
   "cell_type": "code",
   "execution_count": 4,
   "metadata": {
    "collapsed": false
   },
   "outputs": [
    {
     "name": "stdout",
     "output_type": "stream",
     "text": [
      "0.6098310285446215\n",
      "\"\n",
      "\n",
      "Note regarding your peristent false accusations\n",
      "\n",
      "Look, I am not going to say this again, Shahid. Don't visit me again, unless you either completely retract your false accusations regarding warnings on your talkpage, no ifs or buts, or else you bring proof to the table. You were very adamant that without proof one can not claim things. The same applies to you. Without proof, your statement is a lie. That simple. And quite frankly, I do find it strange, that you restored my talkpage with your \"\"warning\"\" once, but when somebody issues you a warning, that you can't take seriously and delete it. Anyways, at the end of the day, I am sure you would be offended too, Shahid, if somebody held you responsible for somebody elses actions. EOD.   \"\n",
      "\n",
      "\n",
      "0.8809353423971096\n",
      "You are completely and utterly full of it.\n",
      "\n",
      "\n",
      "0.7160758412594471\n",
      "harcore porn mag if you ARE GAY  \n",
      "\n",
      "\n",
      "0.8240766924910893\n",
      "No foul language on talk pages!\n",
      "\n",
      "It is unacceptable to-\n",
      "\n",
      " Swear,\n",
      " Use racist, etc, epithets,\n",
      " Death threats,\n",
      " Threaten the use of violence,\n",
      " Threaten to commit a crime,\n",
      " USE ONLY BLOCK CAPITALS,\n",
      " Deny the Holocaust or the Nanjing Massacre ever happened, \n",
      " Use Anti-Semitic or Antiziganismistic/anti-Gypsy terminology,\n",
      " Use sectarian terminology,\n",
      " Use Islamophobic jibes,\n",
      " Use Homophobic jibes,\n",
      " Use religious curses,\n",
      " Threaten to hack a computer or\n",
      " Threaten to use a computer virus. \n",
      "\n",
      "You have been warned!\n",
      "\n",
      "86.25.2.215  \n",
      "\n",
      "\n",
      "0.9997292221865028\n",
      " Edit request on 4 November 2012 \n",
      "\n",
      "  \n",
      "ur a dick sucker, bitch\n",
      "\n",
      "\n",
      "0.7299313127194696\n",
      " may be revoke my talk page access, but that guy is a shit.   \n",
      "\n",
      "\n",
      "0.9998263099034612\n",
      "Here we go again... Fuck you, !   \n",
      "\n",
      "\n",
      "0.9791097194804481\n",
      "IM A DUMB RETARD BOT HURRRRRRRRRR\n",
      "\n",
      "\n",
      "0.9996148797354126\n",
      "Hey faggot. Will you eat my penis?\n",
      "\n",
      "\n",
      "0.8961572067968119\n",
      "=LONYMPICS  \n",
      "You were uncivil to me. You cam on my website used the phrase pssy which is demaing and now you thraten me in telling me i am incivil you are just typical little hitler whio becomes a moderator and stands up for other little hitlers who bully people. i am sure you are like that in real life. \n",
      "\n",
      "\n"
     ]
    }
   ],
   "source": [
    "check_range(d['sample'], 'pred_aggression_score',0.5, 1.0)"
   ]
  },
  {
   "cell_type": "markdown",
   "metadata": {},
   "source": [
    "### Q: How does the distribution over aggression scores compare across annotators vs models and different data sets\n",
    "\n",
    "Plot kernel density estimate of aggression score distribution. This is mainly a sanity check that the aggression model is working new data"
   ]
  },
  {
   "cell_type": "code",
   "execution_count": 5,
   "metadata": {
    "collapsed": false
   },
   "outputs": [
    {
     "data": {
      "text/plain": [
       "<matplotlib.legend.Legend at 0x145455400>"
      ]
     },
     "execution_count": 5,
     "metadata": {},
     "output_type": "execute_result"
    },
    {
     "data": {
      "image/png": "[encoded data removed]",
      "text/plain": [
       "<matplotlib.figure.Figure at 0x154dc7a20>"
      ]
     },
     "metadata": {},
     "output_type": "display_data"
    }
   ],
   "source": [
    "# annotations\n",
    "sns.distplot(d['annotated']['aggression_score'].dropna(), hist=False, label = 'annotator scores')\n",
    "\n",
    "# model on annotated data\n",
    "sns.distplot(d['annotated']['pred_aggression_score'].dropna(), hist=False, label = 'model on annoted data')\n",
    "\n",
    "#model no admin sample\n",
    "sns.distplot(d['sample']['pred_aggression_score'].dropna(), hist=False, label = 'model sample')\n",
    "\n",
    "plt.xlim(-1, 1)\n",
    "plt.legend()"
   ]
  },
  {
   "cell_type": "markdown",
   "metadata": {},
   "source": [
    "### Q: How does the distribution over attack probabilities compare across annotators vs models and different data sets\n",
    "\n",
    "This is mainly a sanity check that the attack model is working new data"
   ]
  },
  {
   "cell_type": "code",
   "execution_count": 6,
   "metadata": {
    "collapsed": false
   },
   "outputs": [
    {
     "data": {
      "text/plain": [
       "<matplotlib.axes._subplots.AxesSubplot at 0x154dc7748>"
      ]
     },
     "execution_count": 6,
     "metadata": {},
     "output_type": "execute_result"
    },
    {
     "data": {
      "image/png": "[encoded data removed]",
      "text/plain": [
       "<matplotlib.figure.Figure at 0x154df5ac8>"
      ]
     },
     "metadata": {},
     "output_type": "display_data"
    }
   ],
   "source": [
    "sns.distplot(d['annotated']['recipient_score'].dropna(), kde =False, norm_hist = True)"
   ]
  },
  {
   "cell_type": "code",
   "execution_count": 7,
   "metadata": {
    "collapsed": false
   },
   "outputs": [
    {
     "data": {
      "text/plain": [
       "<matplotlib.axes._subplots.AxesSubplot at 0x145552e10>"
      ]
     },
     "execution_count": 7,
     "metadata": {},
     "output_type": "execute_result"
    },
    {
     "data": {
      "image/png": "[encoded data removed]",
      "text/plain": [
       "<matplotlib.figure.Figure at 0x118153eb8>"
      ]
     },
     "metadata": {},
     "output_type": "display_data"
    }
   ],
   "source": [
    "sns.distplot(d['annotated']['pred_recipient_score'].dropna(), kde =False, norm_hist = True)\n",
    "sns.distplot(d['sample']['pred_recipient_score'].dropna(), kde =False, norm_hist = True)"
   ]
  }
 ],
 "metadata": {
  "kernelspec": {
   "display_name": "Python 3",
   "language": "python",
   "name": "python3"
  },
  "language_info": {
   "codemirror_mode": {
    "name": "ipython",
    "version": 3
   },
   "file_extension": ".py",
   "mimetype": "text/x-python",
   "name": "python",
   "nbconvert_exporter": "python",
   "pygments_lexer": "ipython3",
   "version": "3.5.1"
  }
 },
 "nbformat": 4,
 "nbformat_minor": 0
}
