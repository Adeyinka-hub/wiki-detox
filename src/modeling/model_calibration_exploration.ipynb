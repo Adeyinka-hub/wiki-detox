{
 "cells": [
  {
   "cell_type": "markdown",
   "metadata": {},
   "source": [
    "Idea: in order to do longitudinal analysis using our models, we would like them to be well calibrated. Since models are trained on a non-random sample of comments, we should not expect them to be well calibrated to the natural distribution of comments. Furthermore, architectures besides LR are not even well calibrated to their training distribution.\n",
    "\n",
    "To evaluate our calibration procedure, we see if the calibrated model can be used to infer the rate of attacks in an annotated test set. We also inspect calibration plots and the brier score."
   ]
  },
  {
   "cell_type": "code",
   "execution_count": 52,
   "metadata": {
    "collapsed": false
   },
   "outputs": [
    {
     "name": "stdout",
     "output_type": "stream",
     "text": [
      "The autoreload extension is already loaded. To reload it, use:\n",
      "  %reload_ext autoreload\n"
     ]
    }
   ],
   "source": [
    "%load_ext autoreload\n",
    "%autoreload 2\n",
    "%matplotlib inline\n",
    "import warnings\n",
    "warnings.filterwarnings('ignore')\n",
    "\n",
    "import matplotlib.pyplot as plt\n",
    "import seaborn as sns\n",
    "import numpy as np\n",
    "import pandas as pd\n",
    "from serialization import load_pipeline\n",
    "from baselines import load_comments_and_labels, assemble_data\n",
    "from sklearn.metrics import roc_curve, brier_score_loss, log_loss, roc_auc_score\n",
    "from sklearn.calibration import CalibratedClassifierCV"
   ]
  },
  {
   "cell_type": "code",
   "execution_count": 53,
   "metadata": {
    "collapsed": false
   },
   "outputs": [],
   "source": [
    "# load data\n",
    "task = 'attack'\n",
    "data = load_comments_and_labels(task)"
   ]
  },
  {
   "cell_type": "code",
   "execution_count": 85,
   "metadata": {
    "collapsed": false
   },
   "outputs": [],
   "source": [
    "#load model trained on train split\n",
    "model_name = 'linear_char_ed_train'\n",
    "model_type = 'linear_char_ed'\n",
    "path = '../../models/%s/%s' % (task, model_type)\n",
    "model =  load_pipeline(path, model_name)"
   ]
  },
  {
   "cell_type": "code",
   "execution_count": 86,
   "metadata": {
    "collapsed": true
   },
   "outputs": [],
   "source": [
    "# train calibrator on dev set, eval done on test\n",
    "# all data comes from data sampled at random\n",
    "\n",
    "from sklearn.linear_model import LogisticRegression as LR\n",
    "from sklearn.isotonic import IsotonicRegression as IR\n",
    "\n",
    "X_dev, y_dev = assemble_data(data, 'comments', 'plurality', splits = ['dev'], samples = ['random'])\n",
    "X_test, y_test = assemble_data(data, 'comments', 'plurality', splits = ['test'], samples = ['random'])\n",
    "\n",
    "y_dev_pred = model.predict_proba(X_dev)[:,1]\n",
    "y_test_pred = model.predict_proba(X_test)[:,1]"
   ]
  },
  {
   "cell_type": "code",
   "execution_count": 87,
   "metadata": {
    "collapsed": false
   },
   "outputs": [
    {
     "name": "stdout",
     "output_type": "stream",
     "text": [
      "(37634,)\n"
     ]
    },
    {
     "data": {
      "text/plain": [
       "0.0091672423872030603"
      ]
     },
     "execution_count": 87,
     "metadata": {},
     "output_type": "execute_result"
    }
   ],
   "source": [
    "_, y_all = assemble_data(data, 'comments', 'plurality', samples = ['random'])\n",
    "print(y_all.shape)\n",
    "y_all.mean()"
   ]
  },
  {
   "cell_type": "code",
   "execution_count": 88,
   "metadata": {
    "collapsed": false
   },
   "outputs": [],
   "source": [
    "lr_calibrator = LR().fit( y_dev_pred.reshape( -1, 1 ), y_dev )                                                       \n",
    "ir_calibrator = IR( out_of_bounds = 'clip' ).fit( y_dev_pred, y_dev )"
   ]
  },
  {
   "cell_type": "code",
   "execution_count": 89,
   "metadata": {
    "collapsed": true
   },
   "outputs": [],
   "source": [
    "y_test_pred_lr_calibrated = lr_calibrator.predict_proba( y_test_pred.reshape( -1, 1 ))[:,1]\n",
    "y_test_pred_ir_calibrated = ir_calibrator.transform( y_test_pred ) "
   ]
  },
  {
   "cell_type": "code",
   "execution_count": 90,
   "metadata": {
    "collapsed": true
   },
   "outputs": [],
   "source": [
    "# plot calibration transformations "
   ]
  },
  {
   "cell_type": "code",
   "execution_count": 91,
   "metadata": {
    "collapsed": false
   },
   "outputs": [
    {
     "data": {
      "text/plain": [
       "<matplotlib.collections.PathCollection at 0x13b600518>"
      ]
     },
     "execution_count": 91,
     "metadata": {},
     "output_type": "execute_result"
    },
    {
     "data": {
      "image/png": "[encoded data removed]",
      "text/plain": [
       "<matplotlib.figure.Figure at 0x12f917da0>"
      ]
     },
     "metadata": {},
     "output_type": "display_data"
    }
   ],
   "source": [
    "plt.scatter(y_test_pred, y_test_pred_lr_calibrated)"
   ]
  },
  {
   "cell_type": "code",
   "execution_count": 92,
   "metadata": {
    "collapsed": false
   },
   "outputs": [
    {
     "data": {
      "text/plain": [
       "<matplotlib.collections.PathCollection at 0x127dad780>"
      ]
     },
     "execution_count": 92,
     "metadata": {},
     "output_type": "execute_result"
    },
    {
     "data": {
      "image/png": "[encoded data removed]",
      "text/plain": [
       "<matplotlib.figure.Figure at 0x138372748>"
      ]
     },
     "metadata": {},
     "output_type": "display_data"
    }
   ],
   "source": [
    "plt.scatter(y_test_pred, y_test_pred_ir_calibrated)"
   ]
  },
  {
   "cell_type": "code",
   "execution_count": 93,
   "metadata": {
    "collapsed": false
   },
   "outputs": [
    {
     "data": {
      "text/plain": [
       "<matplotlib.text.Text at 0x131bdedd8>"
      ]
     },
     "execution_count": 93,
     "metadata": {},
     "output_type": "execute_result"
    },
    {
     "data": {
      "image/png": "[encoded data removed]",
      "text/plain": [
       "<matplotlib.figure.Figure at 0x121c09ac8>"
      ]
     },
     "metadata": {},
     "output_type": "display_data"
    }
   ],
   "source": [
    "df_brier = pd.DataFrame()\n",
    "df_brier['predicted_prob'] = y_test_pred\n",
    "df_brier['raw_error'] = (y_test - y_test_pred)**2\n",
    "df_brier['ir_error'] = (y_test - y_test_pred_ir_calibrated)**2\n",
    "df_brier['lr_error'] = (y_test - y_test_pred_lr_calibrated)**2\n",
    "df_brier = df_brier.sort_values('predicted_prob')\n",
    "df_brier.index = df_brier['predicted_prob']\n",
    "df_brier = pd.rolling_mean(df_brier[['raw_error', 'ir_error', 'lr_error']], 200)\n",
    "df_brier.plot()\n",
    "plt.ylabel('smoothed local brier score loss')"
   ]
  },
  {
   "cell_type": "code",
   "execution_count": 94,
   "metadata": {
    "collapsed": true
   },
   "outputs": [],
   "source": [
    "# see how well model scores can be used to infer attack rates for each calibrator\n",
    "\n",
    "def plot_attack_rates(y, y_pred):\n",
    "    \n",
    "    print('brier_score_loss: ',  brier_score_loss(y, y_pred))\n",
    "    print('log_loss: ',  log_loss(y, y_pred))\n",
    "    print('roc_auc_score: ',  roc_auc_score(y, y_pred))\n",
    "        \n",
    "    true_rate = y.mean()\n",
    "    expected_rate = y_pred.mean()\n",
    "    print('true_rate: ', true_rate, ' expected_rate: ', expected_rate)\n",
    "    fpr, tpr, thresholds = roc_curve(y, y_pred)\n",
    "    rates = [true_rate * tpr[i] + (1-true_rate) * fpr[i] for i in range(len(thresholds))]\n",
    "    \n",
    "    plt.plot(thresholds, rates, label='threshold rate')\n",
    "    plt.plot(thresholds, [true_rate] * len(rates), label='true rate')\n",
    "    plt.plot(thresholds, [expected_rate] * len(rates), label='expected rate')\n",
    "    plt.ylabel('attack rate')\n",
    "    plt.xlabel('threshold')\n",
    "    plt.ylim((true_rate - 2.0*true_rate, true_rate + 2.0*true_rate))\n",
    "    plt.legend()\n",
    "    plt.xlim(0.0, 0.6)"
   ]
  },
  {
   "cell_type": "code",
   "execution_count": 95,
   "metadata": {
    "collapsed": false
   },
   "outputs": [
    {
     "name": "stdout",
     "output_type": "stream",
     "text": [
      "brier_score_loss:  0.0104372378311\n",
      "log_loss:  0.0749894085529\n",
      "roc_auc_score:  0.981287335638\n",
      "true_rate:  0.00948196114709  expected_rate:  0.0690152\n"
     ]
    },
    {
     "data": {
      "image/png": "[encoded data removed]",
      "text/plain": [
       "<matplotlib.figure.Figure at 0x121c09320>"
      ]
     },
     "metadata": {},
     "output_type": "display_data"
    }
   ],
   "source": [
    "#no calibration\n",
    "plot_attack_rates(y_test, y_test_pred)"
   ]
  },
  {
   "cell_type": "code",
   "execution_count": 96,
   "metadata": {
    "collapsed": false
   },
   "outputs": [
    {
     "name": "stdout",
     "output_type": "stream",
     "text": [
      "brier_score_loss:  0.00471483816757\n",
      "log_loss:  0.0368245004985\n",
      "roc_auc_score:  0.978369532411\n",
      "true_rate:  0.00948196114709  expected_rate:  0.0108583374526\n"
     ]
    },
    {
     "data": {
      "image/png": "[encoded data removed]",
      "text/plain": [
       "<matplotlib.figure.Figure at 0x15cf5def0>"
      ]
     },
     "metadata": {},
     "output_type": "display_data"
    }
   ],
   "source": [
    "# isotonic regression calibration\n",
    "plot_attack_rates(y_test, y_test_pred_ir_calibrated)"
   ]
  },
  {
   "cell_type": "code",
   "execution_count": 97,
   "metadata": {
    "collapsed": false
   },
   "outputs": [
    {
     "name": "stdout",
     "output_type": "stream",
     "text": [
      "brier_score_loss:  0.00485288803301\n",
      "log_loss:  0.0228516631178\n",
      "roc_auc_score:  0.981287335638\n",
      "true_rate:  0.00948196114709  expected_rate:  0.0115423619033\n"
     ]
    },
    {
     "data": {
      "image/png": "[encoded data removed]",
      "text/plain": [
       "<matplotlib.figure.Figure at 0x12e9b4860>"
      ]
     },
     "metadata": {},
     "output_type": "display_data"
    }
   ],
   "source": [
    "# logistic regression calibration\n",
    "plot_attack_rates(y_test, y_test_pred_lr_calibrated)"
   ]
  },
  {
   "cell_type": "markdown",
   "metadata": {},
   "source": [
    "### What about picking a threshold on the dev set?"
   ]
  },
  {
   "cell_type": "code",
   "execution_count": 98,
   "metadata": {
    "collapsed": false
   },
   "outputs": [],
   "source": [
    "true_rate = y_dev.mean()\n",
    "thresholds = sorted(y_dev_pred)"
   ]
  },
  {
   "cell_type": "code",
   "execution_count": 99,
   "metadata": {
    "collapsed": true
   },
   "outputs": [],
   "source": [
    "rates = [(y_dev_pred > t).mean() for t in thresholds]"
   ]
  },
  {
   "cell_type": "code",
   "execution_count": 106,
   "metadata": {
    "collapsed": false
   },
   "outputs": [
    {
     "data": {
      "text/plain": [
       "[<matplotlib.lines.Line2D at 0x11e964780>]"
      ]
     },
     "execution_count": 106,
     "metadata": {},
     "output_type": "execute_result"
    },
    {
     "data": {
      "image/png": "[encoded data removed]",
      "text/plain": [
       "<matplotlib.figure.Figure at 0x11e9649e8>"
      ]
     },
     "metadata": {},
     "output_type": "display_data"
    }
   ],
   "source": [
    "plt.plot(thresholds, rates)\n",
    "plt.ylim((true_rate - 0.1*true_rate, true_rate + 0.1*true_rate))\n",
    "plt.xlim((0.4, 0.42))\n",
    "\n",
    "plt.plot(thresholds, [true_rate] * len(rates), label='true rate')"
   ]
  },
  {
   "cell_type": "code",
   "execution_count": 110,
   "metadata": {
    "collapsed": true
   },
   "outputs": [],
   "source": [
    "threshold = 0.408"
   ]
  },
  {
   "cell_type": "code",
   "execution_count": 111,
   "metadata": {
    "collapsed": false
   },
   "outputs": [
    {
     "data": {
      "text/plain": [
       "0.0094819611470860314"
      ]
     },
     "execution_count": 111,
     "metadata": {},
     "output_type": "execute_result"
    }
   ],
   "source": [
    "y_test.mean()"
   ]
  },
  {
   "cell_type": "code",
   "execution_count": 112,
   "metadata": {
    "collapsed": false
   },
   "outputs": [
    {
     "data": {
      "text/plain": [
       "0.010638297872340425"
      ]
     },
     "execution_count": 112,
     "metadata": {},
     "output_type": "execute_result"
    }
   ],
   "source": [
    "(y_test_pred > threshold).mean()"
   ]
  },
  {
   "cell_type": "code",
   "execution_count": 113,
   "metadata": {
    "collapsed": true
   },
   "outputs": [],
   "source": [
    "df_sub = pd.DataFrame()\n",
    "df_sub['true'] = y_test\n",
    "df_sub['threshold'] = (y_test_pred > threshold).astype(int)\n",
    "df_sub['sum'] = y_test_pred_ir_calibrated"
   ]
  },
  {
   "cell_type": "code",
   "execution_count": 122,
   "metadata": {
    "collapsed": false
   },
   "outputs": [],
   "source": [
    "n = df_sub.shape[0]"
   ]
  },
  {
   "cell_type": "code",
   "execution_count": 123,
   "metadata": {
    "collapsed": false
   },
   "outputs": [],
   "source": [
    "ks = [1, 8, 64, int(n/64), int(n/8), n]"
   ]
  },
  {
   "cell_type": "code",
   "execution_count": 139,
   "metadata": {
    "collapsed": false
   },
   "outputs": [],
   "source": [
    "results_list=[]\n",
    "\n",
    "for k in ks:\n",
    "    for i in range(1000):\n",
    "        idxs = np.random.choice(n, k)\n",
    "        df_temp = df_sub.loc[idxs]\n",
    "        result_dict = {\n",
    "            'true': df_sub.loc[idxs]['true'].mean(),\n",
    "            'sum': df_sub['sum'].loc[idxs].mean(),\n",
    "            'threshold': df_sub['threshold'].loc[idxs].mean(),\n",
    "            'k': k,\n",
    "        }\n",
    "        \n",
    "        results_list.append(result_dict)\n",
    "        \n",
    "df_results = pd.DataFrame(results_list)"
   ]
  },
  {
   "cell_type": "code",
   "execution_count": 145,
   "metadata": {
    "collapsed": false
   },
   "outputs": [],
   "source": [
    "df_results = df_results*100"
   ]
  },
  {
   "cell_type": "code",
   "execution_count": 152,
   "metadata": {
    "collapsed": false
   },
   "outputs": [
    {
     "data": {
      "text/plain": [
       "<matplotlib.axes._subplots.AxesSubplot at 0x12ddbf6a0>"
      ]
     },
     "execution_count": 152,
     "metadata": {},
     "output_type": "execute_result"
    },
    {
     "data": {
      "image/png": "[encoded data removed]",
      "text/plain": [
       "<matplotlib.figure.Figure at 0x12ddbf668>"
      ]
     },
     "metadata": {},
     "output_type": "display_data"
    }
   ],
   "source": [
    "df_results.query('k==100')['true'].hist()"
   ]
  },
  {
   "cell_type": "code",
   "execution_count": 146,
   "metadata": {
    "collapsed": false
   },
   "outputs": [
    {
     "data": {
      "text/html": [
       "<div>\n",
       "<table border=\"1\" class=\"dataframe\">\n",
       "  <thead>\n",
       "    <tr style=\"text-align: right;\">\n",
       "      <th></th>\n",
       "      <th>i</th>\n",
       "      <th>sum</th>\n",
       "      <th>threshold</th>\n",
       "      <th>true</th>\n",
       "    </tr>\n",
       "    <tr>\n",
       "      <th>k</th>\n",
       "      <th></th>\n",
       "      <th></th>\n",
       "      <th></th>\n",
       "      <th></th>\n",
       "    </tr>\n",
       "  </thead>\n",
       "  <tbody>\n",
       "    <tr>\n",
       "      <th>100</th>\n",
       "      <td>49950</td>\n",
       "      <td>1.051776</td>\n",
       "      <td>1.400000</td>\n",
       "      <td>1.200000</td>\n",
       "    </tr>\n",
       "    <tr>\n",
       "      <th>800</th>\n",
       "      <td>49950</td>\n",
       "      <td>1.218954</td>\n",
       "      <td>1.312500</td>\n",
       "      <td>1.025000</td>\n",
       "    </tr>\n",
       "    <tr>\n",
       "      <th>6400</th>\n",
       "      <td>49950</td>\n",
       "      <td>1.035721</td>\n",
       "      <td>0.993750</td>\n",
       "      <td>0.904687</td>\n",
       "    </tr>\n",
       "    <tr>\n",
       "      <th>13500</th>\n",
       "      <td>49950</td>\n",
       "      <td>1.029348</td>\n",
       "      <td>1.004444</td>\n",
       "      <td>0.915556</td>\n",
       "    </tr>\n",
       "    <tr>\n",
       "      <th>108100</th>\n",
       "      <td>49950</td>\n",
       "      <td>1.079032</td>\n",
       "      <td>1.059019</td>\n",
       "      <td>0.940241</td>\n",
       "    </tr>\n",
       "    <tr>\n",
       "      <th>864800</th>\n",
       "      <td>49950</td>\n",
       "      <td>1.087027</td>\n",
       "      <td>1.066883</td>\n",
       "      <td>0.950220</td>\n",
       "    </tr>\n",
       "  </tbody>\n",
       "</table>\n",
       "</div>"
      ],
      "text/plain": [
       "            i       sum  threshold      true\n",
       "k                                           \n",
       "100     49950  1.051776   1.400000  1.200000\n",
       "800     49950  1.218954   1.312500  1.025000\n",
       "6400    49950  1.035721   0.993750  0.904687\n",
       "13500   49950  1.029348   1.004444  0.915556\n",
       "108100  49950  1.079032   1.059019  0.940241\n",
       "864800  49950  1.087027   1.066883  0.950220"
      ]
     },
     "execution_count": 146,
     "metadata": {},
     "output_type": "execute_result"
    }
   ],
   "source": [
    "df_results.groupby(['k']).mean()"
   ]
  },
  {
   "cell_type": "code",
   "execution_count": 148,
   "metadata": {
    "collapsed": false
   },
   "outputs": [
    {
     "data": {
      "text/html": [
       "<div>\n",
       "<table border=\"1\" class=\"dataframe\">\n",
       "  <thead>\n",
       "    <tr style=\"text-align: right;\">\n",
       "      <th></th>\n",
       "      <th>i</th>\n",
       "      <th>sum</th>\n",
       "      <th>threshold</th>\n",
       "      <th>true</th>\n",
       "    </tr>\n",
       "    <tr>\n",
       "      <th>k</th>\n",
       "      <th></th>\n",
       "      <th></th>\n",
       "      <th></th>\n",
       "      <th></th>\n",
       "    </tr>\n",
       "  </thead>\n",
       "  <tbody>\n",
       "    <tr>\n",
       "      <th>100</th>\n",
       "      <td>28881.943598</td>\n",
       "      <td>6.309195</td>\n",
       "      <td>11.754921</td>\n",
       "      <td>10.893974</td>\n",
       "    </tr>\n",
       "    <tr>\n",
       "      <th>800</th>\n",
       "      <td>28881.943598</td>\n",
       "      <td>2.957041</td>\n",
       "      <td>3.993688</td>\n",
       "      <td>3.565401</td>\n",
       "    </tr>\n",
       "    <tr>\n",
       "      <th>6400</th>\n",
       "      <td>28881.943598</td>\n",
       "      <td>0.925781</td>\n",
       "      <td>1.214444</td>\n",
       "      <td>1.150642</td>\n",
       "    </tr>\n",
       "    <tr>\n",
       "      <th>13500</th>\n",
       "      <td>28881.943598</td>\n",
       "      <td>0.627675</td>\n",
       "      <td>0.849943</td>\n",
       "      <td>0.841187</td>\n",
       "    </tr>\n",
       "    <tr>\n",
       "      <th>108100</th>\n",
       "      <td>28881.943598</td>\n",
       "      <td>0.238482</td>\n",
       "      <td>0.312102</td>\n",
       "      <td>0.295317</td>\n",
       "    </tr>\n",
       "    <tr>\n",
       "      <th>864800</th>\n",
       "      <td>28881.943598</td>\n",
       "      <td>0.085324</td>\n",
       "      <td>0.111598</td>\n",
       "      <td>0.104222</td>\n",
       "    </tr>\n",
       "  </tbody>\n",
       "</table>\n",
       "</div>"
      ],
      "text/plain": [
       "                   i       sum  threshold       true\n",
       "k                                                   \n",
       "100     28881.943598  6.309195  11.754921  10.893974\n",
       "800     28881.943598  2.957041   3.993688   3.565401\n",
       "6400    28881.943598  0.925781   1.214444   1.150642\n",
       "13500   28881.943598  0.627675   0.849943   0.841187\n",
       "108100  28881.943598  0.238482   0.312102   0.295317\n",
       "864800  28881.943598  0.085324   0.111598   0.104222"
      ]
     },
     "execution_count": 148,
     "metadata": {},
     "output_type": "execute_result"
    }
   ],
   "source": [
    "df_results.groupby(['k']).std()"
   ]
  },
  {
   "cell_type": "code",
   "execution_count": 153,
   "metadata": {
    "collapsed": false
   },
   "outputs": [
    {
     "data": {
      "text/plain": [
       "(0.0076480128898662545, 0.011721217896266765)"
      ]
     },
     "execution_count": 153,
     "metadata": {},
     "output_type": "execute_result"
    }
   ],
   "source": [
    "from stats_utils import bayesian_rate_interval\n",
    "num_attacks = df_sub['true'].sum()\n",
    "num_comments = n\n",
    "bayesian_rate_interval(num_attacks, num_comments, conf=95, plot =True)"
   ]
  },
  {
   "cell_type": "code",
   "execution_count": null,
   "metadata": {
    "collapsed": true
   },
   "outputs": [],
   "source": []
  }
 ],
 "metadata": {
  "anaconda-cloud": {},
  "kernelspec": {
   "display_name": "Python [default]",
   "language": "python",
   "name": "python3"
  },
  "language_info": {
   "codemirror_mode": {
    "name": "ipython",
    "version": 3
   },
   "file_extension": ".py",
   "mimetype": "text/x-python",
   "name": "python",
   "nbconvert_exporter": "python",
   "pygments_lexer": "ipython3",
   "version": "3.5.1"
  }
 },
 "nbformat": 4,
 "nbformat_minor": 0
}
