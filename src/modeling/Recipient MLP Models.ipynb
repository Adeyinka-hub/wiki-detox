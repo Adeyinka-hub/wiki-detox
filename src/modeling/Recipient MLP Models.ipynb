{
 "cells": [
  {
   "cell_type": "code",
   "execution_count": 1,
   "metadata": {
    "collapsed": false
   },
   "outputs": [
    {
     "name": "stderr",
     "output_type": "stream",
     "text": [
      "Using TensorFlow backend.\n"
     ]
    }
   ],
   "source": [
    "%load_ext autoreload\n",
    "%autoreload 2\n",
    "%matplotlib inline\n",
    "%load_ext autotime\n",
    "\n",
    "from ngram import *\n",
    "from baselines import *\n",
    "from error_analysis import *\n",
    "from deep_learning import *\n",
    "pd.options.mode.chained_assignment = None\n"
   ]
  },
  {
   "cell_type": "markdown",
   "metadata": {},
   "source": [
    "### Load Annotated Data"
   ]
  },
  {
   "cell_type": "code",
   "execution_count": 2,
   "metadata": {
    "collapsed": false
   },
   "outputs": [
    {
     "name": "stdout",
     "output_type": "stream",
     "text": [
      "time: 1.98 ms\n"
     ]
    }
   ],
   "source": [
    "task = 'recipient'\n",
    "xtype = 'ngrams'\n",
    "ytype = 'empirical_dist'\n",
    "n_classes = 2"
   ]
  },
  {
   "cell_type": "code",
   "execution_count": 3,
   "metadata": {
    "collapsed": false
   },
   "outputs": [
    {
     "name": "stdout",
     "output_type": "stream",
     "text": [
      "time: 2min 1s\n"
     ]
    }
   ],
   "source": [
    "data = load_comments_and_labels(task)"
   ]
  },
  {
   "cell_type": "markdown",
   "metadata": {},
   "source": [
    "### NGram Preprocessing"
   ]
  },
  {
   "cell_type": "code",
   "execution_count": 4,
   "metadata": {
    "collapsed": false
   },
   "outputs": [
    {
     "name": "stdout",
     "output_type": "stream",
     "text": [
      "time: 4min 34s\n"
     ]
    }
   ],
   "source": [
    "feature_pipeline =  Pipeline([\n",
    "    ('vect', CountVectorizer(ngram_range = (1,5), analyzer = 'char', max_features = 10000)),\n",
    "    ('tfidf', TfidfTransformer(sublinear_tf=True,norm='l2')),\n",
    "    ('to_dense', DenseTransformer()), \n",
    "])\n",
    "\n",
    "X_comments, _ = assemble_data(data, 'comments', ytype, splits = ['train'])\n",
    "preprocessor = feature_pipeline.fit(X_comments)\n",
    "data = apply_transform(data, 'comments', preprocessor, xtype)\n",
    "\n",
    "X_train, y_train = assemble_data(data, xtype, ytype, splits = ['train'])\n",
    "X_test, y_test = assemble_data(data, xtype, 'empirical_dist', splits = ['test'])"
   ]
  },
  {
   "cell_type": "markdown",
   "metadata": {},
   "source": [
    "### Define Model"
   ]
  },
  {
   "cell_type": "code",
   "execution_count": 5,
   "metadata": {
    "collapsed": false
   },
   "outputs": [
    {
     "name": "stdout",
     "output_type": "stream",
     "text": [
      "time: 12.6 ms\n"
     ]
    }
   ],
   "source": [
    "clf =  KerasClassifier(build_fn=make_MLP, output_dim = n_classes, input_dim = 10000)"
   ]
  },
  {
   "cell_type": "markdown",
   "metadata": {
    "collapsed": true
   },
   "source": [
    "### Deep EDP Hyper-Parameter tuning"
   ]
  },
  {
   "cell_type": "code",
   "execution_count": 28,
   "metadata": {
    "collapsed": true
   },
   "outputs": [
    {
     "name": "stdout",
     "output_type": "stream",
     "text": [
      "Epoch 1/1\n",
      "70793/70793 [==============================] - 34s - loss: 0.0865 - acc: 0.9376    \n",
      "30341/30341 [==============================] - 6s     \n",
      "Epoch 1/1\n",
      "70793/70793 [==============================] - 32s - loss: 0.0916 - acc: 0.9495    \n",
      "30341/30341 [==============================] - 6s     \n",
      "Epoch 1/1\n",
      "70793/70793 [==============================] - 30s - loss: 0.1119 - acc: 0.9273    \n",
      "30341/30341 [==============================] - 6s     \n",
      "Epoch 1/1\n",
      "70793/70793 [==============================] - 29s - loss: 0.1772 - acc: 0.9246    \n",
      "30341/30341 [==============================] - 7s     \n",
      "\n",
      "Best parameters set found:\n",
      "{'batch_size': 100, 'l': 0, 'nb_epoch': 1, 'layers': [50, 10]} 0.969898083321\n",
      "\n",
      "\n",
      "Grid scores:\n",
      "0.96990 (+/-0.00000) for {'batch_size': 100, 'l': 0, 'nb_epoch': 1, 'layers': [50, 10]}\n",
      "0.96727 (+/-0.00000) for {'batch_size': 100, 'l': 1e-05, 'nb_epoch': 1, 'layers': [50, 10]}\n",
      "0.96517 (+/-0.00000) for {'batch_size': 100, 'l': 0.0001, 'nb_epoch': 1, 'layers': [50, 10]}\n",
      "0.95914 (+/-0.00000) for {'batch_size': 100, 'l': 0.001, 'nb_epoch': 1, 'layers': [50, 10]}\n",
      "time: 4min 42s\n"
     ]
    }
   ],
   "source": [
    "# Deep EDP\n",
    "\n",
    "param_grid = {\n",
    "    'l': (0, 0.00001, 0.0001, 0.001),\n",
    "    'nb_epoch' : (1,),\n",
    "    'batch_size': (100,),\n",
    "    'layers': ([50, 10],),\n",
    "}\n",
    "\n",
    "tune (X_train, y_train, clf, param_grid, roc_scorer, n_jobs=1, verbose=True)"
   ]
  },
  {
   "cell_type": "markdown",
   "metadata": {},
   "source": [
    "Seems, like we don't need to regularize at one epoch. Lets try more epochs."
   ]
  },
  {
   "cell_type": "code",
   "execution_count": 5,
   "metadata": {
    "collapsed": true
   },
   "outputs": [
    {
     "name": "stdout",
     "output_type": "stream",
     "text": [
      "Epoch 1/2\n",
      "70793/70793 [==============================] - 25s - loss: 0.0844 - acc: 0.9479    \n",
      "Epoch 2/2\n",
      "70793/70793 [==============================] - 23s - loss: 0.0492 - acc: 0.9619    \n",
      "30341/30341 [==============================] - 5s     \n",
      "Epoch 1/2\n",
      "70793/70793 [==============================] - 25s - loss: 0.0957 - acc: 0.9483    \n",
      "Epoch 2/2\n",
      "70793/70793 [==============================] - 21s - loss: 0.0557 - acc: 0.9609    \n",
      "30341/30341 [==============================] - 5s     \n",
      "Epoch 1/2\n",
      "70793/70793 [==============================] - 26s - loss: 0.1062 - acc: 0.9316    \n",
      "Epoch 2/2\n",
      "70793/70793 [==============================] - 22s - loss: 0.0688 - acc: 0.9593    \n",
      "30341/30341 [==============================] - 6s     \n",
      "Epoch 1/2\n",
      "70793/70793 [==============================] - 26s - loss: 0.1779 - acc: 0.9244    \n",
      "Epoch 2/2\n",
      "70793/70793 [==============================] - 23s - loss: 0.0937 - acc: 0.9519    \n",
      "30341/30341 [==============================] - 5s     \n",
      "\n",
      "Best parameters set found:\n",
      "{'batch_size': 100, 'nb_epoch': 2, 'l': 0, 'layers': [50, 10]} 0.974316704132\n",
      "\n",
      "\n",
      "Grid scores:\n",
      "0.97432 (+/-0.00000) for {'batch_size': 100, 'nb_epoch': 2, 'l': 0, 'layers': [50, 10]}\n",
      "0.97292 (+/-0.00000) for {'batch_size': 100, 'nb_epoch': 2, 'l': 1e-05, 'layers': [50, 10]}\n",
      "0.96489 (+/-0.00000) for {'batch_size': 100, 'nb_epoch': 2, 'l': 0.0001, 'layers': [50, 10]}\n",
      "0.95533 (+/-0.00000) for {'batch_size': 100, 'nb_epoch': 2, 'l': 0.001, 'layers': [50, 10]}\n",
      "time: 4min 26s\n"
     ]
    }
   ],
   "source": [
    "# Deep EDP\n",
    "param_grid = {\n",
    "    'l': (0, 0.00001, 0.0001, 0.001),\n",
    "    'nb_epoch' : (2,),\n",
    "    'batch_size': (100,),\n",
    "    'layers': ([50, 10],),\n",
    "}\n",
    "\n",
    "tune (X_train, y_train, clf, param_grid, roc_scorer, n_jobs=1, verbose=True)"
   ]
  },
  {
   "cell_type": "markdown",
   "metadata": {},
   "source": [
    "Same pattern. Results improved for lower reg. Lets try more epochs."
   ]
  },
  {
   "cell_type": "code",
   "execution_count": 6,
   "metadata": {
    "collapsed": true
   },
   "outputs": [
    {
     "name": "stdout",
     "output_type": "stream",
     "text": [
      "Epoch 1/4\n",
      "70793/70793 [==============================] - 26s - loss: 0.0831 - acc: 0.9489    \n",
      "Epoch 2/4\n",
      "70793/70793 [==============================] - 21s - loss: 0.0496 - acc: 0.9615    \n",
      "Epoch 3/4\n",
      "70793/70793 [==============================] - 22s - loss: 0.0455 - acc: 0.9653    \n",
      "Epoch 4/4\n",
      "70793/70793 [==============================] - 23s - loss: 0.0412 - acc: 0.9691    \n",
      "30341/30341 [==============================] - 5s     \n",
      "Epoch 1/4\n",
      "70793/70793 [==============================] - 24s - loss: 0.0947 - acc: 0.9476    \n",
      "Epoch 2/4\n",
      "70793/70793 [==============================] - 21s - loss: 0.0554 - acc: 0.9606    \n",
      "Epoch 3/4\n",
      "70793/70793 [==============================] - 22s - loss: 0.0527 - acc: 0.9623    \n",
      "Epoch 4/4\n",
      "70793/70793 [==============================] - 22s - loss: 0.0507 - acc: 0.9635    \n",
      "30341/30341 [==============================] - 5s     \n",
      "Epoch 1/4\n",
      "70793/70793 [==============================] - 25s - loss: 0.1087 - acc: 0.9460    \n",
      "Epoch 2/4\n",
      "70793/70793 [==============================] - 22s - loss: 0.0633 - acc: 0.9585    \n",
      "Epoch 3/4\n",
      "70793/70793 [==============================] - 22s - loss: 0.0608 - acc: 0.9605    \n",
      "Epoch 4/4\n",
      "70793/70793 [==============================] - 23s - loss: 0.0593 - acc: 0.9611    \n",
      "30341/30341 [==============================] - 5s     \n",
      "Epoch 1/4\n",
      "70793/70793 [==============================] - 26s - loss: 0.1794 - acc: 0.9234    \n",
      "Epoch 2/4\n",
      "70793/70793 [==============================] - 22s - loss: 0.0931 - acc: 0.9507    \n",
      "Epoch 3/4\n",
      "70793/70793 [==============================] - 29s - loss: 0.0888 - acc: 0.9545    \n",
      "Epoch 4/4\n",
      "70793/70793 [==============================] - 26s - loss: 0.0865 - acc: 0.9549    \n",
      "30341/30341 [==============================] - 7s     \n",
      "\n",
      "Best parameters set found:\n",
      "{'batch_size': 100, 'nb_epoch': 4, 'l': 0, 'layers': [50, 10]} 0.973405571741\n",
      "\n",
      "\n",
      "Grid scores:\n",
      "0.97341 (+/-0.00000) for {'batch_size': 100, 'nb_epoch': 4, 'l': 0, 'layers': [50, 10]}\n",
      "0.97332 (+/-0.00000) for {'batch_size': 100, 'nb_epoch': 4, 'l': 1e-05, 'layers': [50, 10]}\n",
      "0.97101 (+/-0.00000) for {'batch_size': 100, 'nb_epoch': 4, 'l': 0.0001, 'layers': [50, 10]}\n",
      "0.96146 (+/-0.00000) for {'batch_size': 100, 'nb_epoch': 4, 'l': 0.001, 'layers': [50, 10]}\n",
      "time: 7min 36s\n"
     ]
    }
   ],
   "source": [
    "# Deep EDP\n",
    "param_grid = {\n",
    "    'l': (0, 0.00001, 0.0001, 0.001),\n",
    "    'nb_epoch' : (4,),\n",
    "    'batch_size': (100,),\n",
    "    'layers': ([50, 10],),\n",
    "}\n",
    "\n",
    "tune (X_train, y_train, clf, param_grid, roc_scorer, n_jobs=1, verbose=True)"
   ]
  },
  {
   "cell_type": "markdown",
   "metadata": {},
   "source": [
    "Same pattern still, although performance went a bit down. Lets push the epochs even further."
   ]
  },
  {
   "cell_type": "code",
   "execution_count": 8,
   "metadata": {
    "collapsed": true
   },
   "outputs": [
    {
     "name": "stdout",
     "output_type": "stream",
     "text": [
      "Epoch 1/8\n",
      "70793/70793 [==============================] - 26s - loss: 0.0928 - acc: 0.9489    \n",
      "Epoch 2/8\n",
      "70793/70793 [==============================] - 23s - loss: 0.0550 - acc: 0.9613    \n",
      "Epoch 3/8\n",
      "70793/70793 [==============================] - 23s - loss: 0.0521 - acc: 0.9627    \n",
      "Epoch 4/8\n",
      "70793/70793 [==============================] - 23s - loss: 0.0500 - acc: 0.9639    \n",
      "Epoch 5/8\n",
      "70793/70793 [==============================] - 24s - loss: 0.0483 - acc: 0.9655    \n",
      "Epoch 6/8\n",
      "70793/70793 [==============================] - 24s - loss: 0.0467 - acc: 0.9672    \n",
      "Epoch 7/8\n",
      "70793/70793 [==============================] - 22s - loss: 0.0451 - acc: 0.9685    \n",
      "Epoch 8/8\n",
      "70793/70793 [==============================] - 23s - loss: 0.0439 - acc: 0.9702    \n",
      "30341/30341 [==============================] - 5s     \n",
      "Epoch 1/16\n",
      "70793/70793 [==============================] - 25s - loss: 0.0936 - acc: 0.9460    \n",
      "Epoch 2/16\n",
      "70793/70793 [==============================] - 22s - loss: 0.0552 - acc: 0.9617    \n",
      "Epoch 3/16\n",
      "70793/70793 [==============================] - 22s - loss: 0.0524 - acc: 0.9635    \n",
      "Epoch 4/16\n",
      "70793/70793 [==============================] - 24s - loss: 0.0506 - acc: 0.9644    \n",
      "Epoch 5/16\n",
      "70793/70793 [==============================] - 23s - loss: 0.0488 - acc: 0.9657    \n",
      "Epoch 6/16\n",
      "70793/70793 [==============================] - 23s - loss: 0.0472 - acc: 0.9671    \n",
      "Epoch 7/16\n",
      "70793/70793 [==============================] - 23s - loss: 0.0457 - acc: 0.9684    \n",
      "Epoch 8/16\n",
      "70793/70793 [==============================] - 24s - loss: 0.0439 - acc: 0.9695    \n",
      "Epoch 9/16\n",
      "70793/70793 [==============================] - 23s - loss: 0.0424 - acc: 0.9714    \n",
      "Epoch 10/16\n",
      "70793/70793 [==============================] - 25s - loss: 0.0408 - acc: 0.9726    \n",
      "Epoch 11/16\n",
      "70793/70793 [==============================] - 25s - loss: 0.0393 - acc: 0.9739    \n",
      "Epoch 12/16\n",
      "70793/70793 [==============================] - 26s - loss: 0.0378 - acc: 0.9749    \n",
      "Epoch 13/16\n",
      "70793/70793 [==============================] - 25s - loss: 0.0365 - acc: 0.9764    \n",
      "Epoch 14/16\n",
      "70793/70793 [==============================] - 25s - loss: 0.0353 - acc: 0.9770    \n",
      "Epoch 15/16\n",
      "70793/70793 [==============================] - 26s - loss: 0.0339 - acc: 0.9782    \n",
      "Epoch 16/16\n",
      "70793/70793 [==============================] - 28s - loss: 0.0331 - acc: 0.9785    \n",
      "30341/30341 [==============================] - 8s     \n",
      "\n",
      "Best parameters set found:\n",
      "{'batch_size': 100, 'nb_epoch': 8, 'l': 1e-05, 'layers': [50, 10]} 0.973699572032\n",
      "\n",
      "\n",
      "Grid scores:\n",
      "0.97370 (+/-0.00000) for {'batch_size': 100, 'nb_epoch': 8, 'l': 1e-05, 'layers': [50, 10]}\n",
      "0.96652 (+/-0.00000) for {'batch_size': 100, 'nb_epoch': 16, 'l': 1e-05, 'layers': [50, 10]}\n",
      "time: 10min 31s\n"
     ]
    }
   ],
   "source": [
    "# Deep EDP\n",
    "param_grid = {\n",
    "    'l': (0.00001,),\n",
    "    'nb_epoch' : (8,16),\n",
    "    'batch_size': (100,),\n",
    "    'layers': ([50, 10],),\n",
    "}\n",
    "\n",
    "tune (X_train, y_train, clf, param_grid, roc_scorer, n_jobs=1, verbose=True)"
   ]
  },
  {
   "cell_type": "markdown",
   "metadata": {},
   "source": [
    "Right now, 2 epochs and no regularization is best. Lets add more layers."
   ]
  },
  {
   "cell_type": "code",
   "execution_count": 9,
   "metadata": {
    "collapsed": true
   },
   "outputs": [
    {
     "name": "stdout",
     "output_type": "stream",
     "text": [
      "Epoch 1/2\n",
      "70793/70793 [==============================] - 27s - loss: 0.0837 - acc: 0.9481    \n",
      "Epoch 2/2\n",
      "70793/70793 [==============================] - 24s - loss: 0.0536 - acc: 0.9628    \n",
      "30341/30341 [==============================] - 6s     \n",
      "\n",
      "Best parameters set found:\n",
      "{'batch_size': 100, 'nb_epoch': 2, 'l': 1e-05, 'layers': [50, 50]} 0.972172736981\n",
      "\n",
      "\n",
      "Grid scores:\n",
      "0.97217 (+/-0.00000) for {'batch_size': 100, 'nb_epoch': 2, 'l': 1e-05, 'layers': [50, 50]}\n",
      "time: 1min 14s\n"
     ]
    }
   ],
   "source": [
    "# Deep EDP\n",
    "param_grid = {\n",
    "    'l': (0.00001,),\n",
    "    'nb_epoch' : (2,),\n",
    "    'batch_size': (100,),\n",
    "    'layers': ([50, 50],),\n",
    "}\n",
    "\n",
    "tune (X_train, y_train, clf, param_grid, roc_scorer, n_jobs=1, verbose=True)"
   ]
  },
  {
   "cell_type": "markdown",
   "metadata": {},
   "source": [
    "Adding more layers did not help."
   ]
  },
  {
   "cell_type": "markdown",
   "metadata": {},
   "source": [
    "### Linear EDP Tuning"
   ]
  },
  {
   "cell_type": "code",
   "execution_count": 13,
   "metadata": {
    "collapsed": true
   },
   "outputs": [
    {
     "name": "stdout",
     "output_type": "stream",
     "text": [
      "Epoch 1/1\n",
      "70793/70793 [==============================] - 14s - loss: 0.1071 - acc: 0.9384    \n",
      "30300/30341 [============================>.] - ETA: 0sEpoch 1/2\n",
      "70793/70793 [==============================] - 13s - loss: 0.1045 - acc: 0.9396    \n",
      "Epoch 2/2\n",
      "70793/70793 [==============================] - 9s - loss: 0.0633 - acc: 0.9537     \n",
      "30300/30341 [============================>.] - ETA: 0sEpoch 1/4\n",
      "70793/70793 [==============================] - 13s - loss: 0.1070 - acc: 0.9376    \n",
      "Epoch 2/4\n",
      "70793/70793 [==============================] - 8s - loss: 0.0637 - acc: 0.9536     \n",
      "Epoch 3/4\n",
      "70793/70793 [==============================] - 8s - loss: 0.0569 - acc: 0.9568     \n",
      "Epoch 4/4\n",
      "70793/70793 [==============================] - 8s - loss: 0.0539 - acc: 0.9589     \n",
      "30300/30341 [============================>.] - ETA: 0sEpoch 1/8\n",
      "70793/70793 [==============================] - 13s - loss: 0.1062 - acc: 0.9384    \n",
      "Epoch 2/8\n",
      "70793/70793 [==============================] - 9s - loss: 0.0640 - acc: 0.9530     \n",
      "Epoch 3/8\n",
      "70793/70793 [==============================] - 8s - loss: 0.0574 - acc: 0.9569     \n",
      "Epoch 4/8\n",
      "70793/70793 [==============================] - 9s - loss: 0.0545 - acc: 0.9584     \n",
      "Epoch 5/8\n",
      "70793/70793 [==============================] - 9s - loss: 0.0527 - acc: 0.9595     \n",
      "Epoch 6/8\n",
      "70793/70793 [==============================] - 9s - loss: 0.0515 - acc: 0.9603     \n",
      "Epoch 7/8\n",
      "70793/70793 [==============================] - 9s - loss: 0.0505 - acc: 0.9608     \n",
      "Epoch 8/8\n",
      "70793/70793 [==============================] - 9s - loss: 0.0498 - acc: 0.9614     \n",
      "30300/30341 [============================>.] - ETA: 0sEpoch 1/16\n",
      "70793/70793 [==============================] - 13s - loss: 0.1067 - acc: 0.9383    \n",
      "Epoch 2/16\n",
      "70793/70793 [==============================] - 8s - loss: 0.0639 - acc: 0.9535     \n",
      "Epoch 3/16\n",
      "70793/70793 [==============================] - 8s - loss: 0.0572 - acc: 0.9568     \n",
      "Epoch 4/16\n",
      "70793/70793 [==============================] - 9s - loss: 0.0543 - acc: 0.9585     \n",
      "Epoch 5/16\n",
      "70793/70793 [==============================] - 9s - loss: 0.0525 - acc: 0.9596     \n",
      "Epoch 6/16\n",
      "70793/70793 [==============================] - 9s - loss: 0.0512 - acc: 0.9605     \n",
      "Epoch 7/16\n",
      "70793/70793 [==============================] - 9s - loss: 0.0503 - acc: 0.9611     \n",
      "Epoch 8/16\n",
      "70793/70793 [==============================] - 9s - loss: 0.0496 - acc: 0.9616     \n",
      "Epoch 9/16\n",
      "70793/70793 [==============================] - 10s - loss: 0.0490 - acc: 0.9620    \n",
      "Epoch 10/16\n",
      "70793/70793 [==============================] - 10s - loss: 0.0485 - acc: 0.9626    \n",
      "Epoch 11/16\n",
      "70793/70793 [==============================] - 11s - loss: 0.0481 - acc: 0.9628    \n",
      "Epoch 12/16\n",
      "70793/70793 [==============================] - 10s - loss: 0.0478 - acc: 0.9629    \n",
      "Epoch 13/16\n",
      "70793/70793 [==============================] - 9s - loss: 0.0474 - acc: 0.9632     \n",
      "Epoch 14/16\n",
      "70793/70793 [==============================] - 10s - loss: 0.0472 - acc: 0.9634    \n",
      "Epoch 15/16\n",
      "70793/70793 [==============================] - 9s - loss: 0.0469 - acc: 0.9636     \n",
      "Epoch 16/16\n",
      "70793/70793 [==============================] - 10s - loss: 0.0467 - acc: 0.9636    \n",
      "30300/30341 [============================>.] - ETA: 0s\n",
      "Best parameters set found:\n",
      "{'batch_size': 100, 'nb_epoch': 8, 'l': 0, 'layers': []} 0.972634583237\n",
      "\n",
      "\n",
      "Grid scores:\n",
      "0.94669 (+/-0.00000) for {'batch_size': 100, 'nb_epoch': 1, 'l': 0, 'layers': []}\n",
      "0.96256 (+/-0.00000) for {'batch_size': 100, 'nb_epoch': 2, 'l': 0, 'layers': []}\n",
      "0.96667 (+/-0.00000) for {'batch_size': 100, 'nb_epoch': 4, 'l': 0, 'layers': []}\n",
      "0.97263 (+/-0.00000) for {'batch_size': 100, 'nb_epoch': 8, 'l': 0, 'layers': []}\n",
      "0.97088 (+/-0.00000) for {'batch_size': 100, 'nb_epoch': 16, 'l': 0, 'layers': []}\n",
      "time: 6min 39s\n"
     ]
    }
   ],
   "source": [
    "# Linear EDP\n",
    "param_grid = {\n",
    "    'l': (0,),\n",
    "    'nb_epoch' : (1,2,4,8,16),\n",
    "    'batch_size': (100,),\n",
    "    'layers': ([],),\n",
    "}\n",
    "\n",
    "tune (X_train, y_train, clf, param_grid, roc_scorer, n_jobs=1, verbose=True)"
   ]
  },
  {
   "cell_type": "markdown",
   "metadata": {},
   "source": [
    "We won't bother regularizing. Lets just tune epochs. Seems to max out at 8."
   ]
  },
  {
   "cell_type": "markdown",
   "metadata": {},
   "source": [
    "### Linear OH Tuning"
   ]
  },
  {
   "cell_type": "code",
   "execution_count": 14,
   "metadata": {
    "collapsed": true
   },
   "outputs": [
    {
     "name": "stdout",
     "output_type": "stream",
     "text": [
      "Epoch 1/1\n",
      "70793/70793 [==============================] - 14s - loss: 0.2187 - acc: 0.9327    \n",
      "30300/30341 [============================>.] - ETA: 0sEpoch 1/2\n",
      "70793/70793 [==============================] - 14s - loss: 0.2185 - acc: 0.9343    \n",
      "Epoch 2/2\n",
      "70793/70793 [==============================] - 9s - loss: 0.1485 - acc: 0.9491     \n",
      "30300/30341 [============================>.] - ETA: 0sEpoch 1/4\n",
      "70793/70793 [==============================] - 13s - loss: 0.2219 - acc: 0.9317    \n",
      "Epoch 2/4\n",
      "70793/70793 [==============================] - 9s - loss: 0.1497 - acc: 0.9489     \n",
      "Epoch 3/4\n",
      "70793/70793 [==============================] - 10s - loss: 0.1292 - acc: 0.9541    \n",
      "Epoch 4/4\n",
      "70793/70793 [==============================] - 10s - loss: 0.1186 - acc: 0.9563    \n",
      "30300/30341 [============================>.] - ETA: 0sEpoch 1/8\n",
      "70793/70793 [==============================] - 14s - loss: 0.2169 - acc: 0.9336    \n",
      "Epoch 2/8\n",
      "70793/70793 [==============================] - 10s - loss: 0.1469 - acc: 0.9498    \n",
      "Epoch 3/8\n",
      "70793/70793 [==============================] - 10s - loss: 0.1270 - acc: 0.9546    \n",
      "Epoch 4/8\n",
      "70793/70793 [==============================] - 10s - loss: 0.1165 - acc: 0.9568    \n",
      "Epoch 5/8\n",
      "70793/70793 [==============================] - 10s - loss: 0.1099 - acc: 0.9588    \n",
      "Epoch 6/8\n",
      "70793/70793 [==============================] - 10s - loss: 0.1052 - acc: 0.9605    \n",
      "Epoch 7/8\n",
      "70793/70793 [==============================] - 10s - loss: 0.1017 - acc: 0.9617    \n",
      "Epoch 8/8\n",
      "70793/70793 [==============================] - 10s - loss: 0.0989 - acc: 0.9624    \n",
      "30300/30341 [============================>.] - ETA: 0sEpoch 1/16\n",
      "70793/70793 [==============================] - 14s - loss: 0.2196 - acc: 0.9327    \n",
      "Epoch 2/16\n",
      "70793/70793 [==============================] - 9s - loss: 0.1483 - acc: 0.9494     \n",
      "Epoch 3/16\n",
      "70793/70793 [==============================] - 9s - loss: 0.1283 - acc: 0.9543     \n",
      "Epoch 4/16\n",
      "70793/70793 [==============================] - 10s - loss: 0.1178 - acc: 0.9566    \n",
      "Epoch 5/16\n",
      "70793/70793 [==============================] - 10s - loss: 0.1111 - acc: 0.9587    \n",
      "Epoch 6/16\n",
      "70793/70793 [==============================] - 9s - loss: 0.1065 - acc: 0.9603     \n",
      "Epoch 7/16\n",
      "70793/70793 [==============================] - 10s - loss: 0.1029 - acc: 0.9616    \n",
      "Epoch 8/16\n",
      "70793/70793 [==============================] - 9s - loss: 0.1001 - acc: 0.9623     \n",
      "Epoch 9/16\n",
      "70793/70793 [==============================] - 9s - loss: 0.0978 - acc: 0.9632     \n",
      "Epoch 10/16\n",
      "70793/70793 [==============================] - 9s - loss: 0.0957 - acc: 0.9638     \n",
      "Epoch 11/16\n",
      "70793/70793 [==============================] - 9s - loss: 0.0939 - acc: 0.9645     \n",
      "Epoch 12/16\n",
      "70793/70793 [==============================] - 9s - loss: 0.0924 - acc: 0.9646     \n",
      "Epoch 13/16\n",
      "70793/70793 [==============================] - 10s - loss: 0.0910 - acc: 0.9652    \n",
      "Epoch 14/16\n",
      "70793/70793 [==============================] - 10s - loss: 0.0897 - acc: 0.9659    \n",
      "Epoch 15/16\n",
      "70793/70793 [==============================] - 10s - loss: 0.0886 - acc: 0.9665    \n",
      "Epoch 16/16\n",
      "70793/70793 [==============================] - 10s - loss: 0.0875 - acc: 0.9666    \n",
      "30341/30341 [==============================] - 4s     \n",
      "\n",
      "Best parameters set found:\n",
      "{'batch_size': 100, 'nb_epoch': 16, 'l': 0, 'layers': []} 0.967976277299\n",
      "\n",
      "\n",
      "Grid scores:\n",
      "0.90762 (+/-0.00000) for {'batch_size': 100, 'nb_epoch': 1, 'l': 0, 'layers': []}\n",
      "0.94350 (+/-0.00000) for {'batch_size': 100, 'nb_epoch': 2, 'l': 0, 'layers': []}\n",
      "0.96031 (+/-0.00000) for {'batch_size': 100, 'nb_epoch': 4, 'l': 0, 'layers': []}\n",
      "0.96295 (+/-0.00000) for {'batch_size': 100, 'nb_epoch': 8, 'l': 0, 'layers': []}\n",
      "0.96798 (+/-0.00000) for {'batch_size': 100, 'nb_epoch': 16, 'l': 0, 'layers': []}\n",
      "time: 6min 59s\n"
     ]
    }
   ],
   "source": [
    "# Linear OH\n",
    "param_grid = {\n",
    "    'l': (0,),\n",
    "    'nb_epoch' : (1,2,4,8,16),\n",
    "    'batch_size': (100,),\n",
    "    'layers': ([],),\n",
    "}\n",
    "\n",
    "tune (X_train, one_hot(y_train), clf, param_grid, roc_scorer, n_jobs=1, verbose=True)"
   ]
  },
  {
   "cell_type": "markdown",
   "metadata": {},
   "source": [
    "Lets try more epochs."
   ]
  },
  {
   "cell_type": "code",
   "execution_count": 16,
   "metadata": {
    "collapsed": true
   },
   "outputs": [
    {
     "name": "stdout",
     "output_type": "stream",
     "text": [
      "Epoch 1/24\n",
      "70793/70793 [==============================] - 13s - loss: 0.2180 - acc: 0.9332    \n",
      "Epoch 2/24\n",
      "70793/70793 [==============================] - 9s - loss: 0.1488 - acc: 0.9494     \n",
      "Epoch 3/24\n",
      "70793/70793 [==============================] - 9s - loss: 0.1294 - acc: 0.9537     \n",
      "Epoch 4/24\n",
      "70793/70793 [==============================] - 9s - loss: 0.1191 - acc: 0.9563     \n",
      "Epoch 5/24\n",
      "70793/70793 [==============================] - 9s - loss: 0.1128 - acc: 0.9581     \n",
      "Epoch 6/24\n",
      "70793/70793 [==============================] - 9s - loss: 0.1082 - acc: 0.9596     \n",
      "Epoch 7/24\n",
      "70793/70793 [==============================] - 10s - loss: 0.1048 - acc: 0.9606    \n",
      "Epoch 8/24\n",
      "70793/70793 [==============================] - 10s - loss: 0.1020 - acc: 0.9614    \n",
      "Epoch 9/24\n",
      "70793/70793 [==============================] - 9s - loss: 0.0997 - acc: 0.9620     \n",
      "Epoch 10/24\n",
      "70793/70793 [==============================] - 9s - loss: 0.0977 - acc: 0.9630     \n",
      "Epoch 11/24\n",
      "70793/70793 [==============================] - 10s - loss: 0.0960 - acc: 0.9633    \n",
      "Epoch 12/24\n",
      "70793/70793 [==============================] - 10s - loss: 0.0945 - acc: 0.9639    \n",
      "Epoch 13/24\n",
      "70793/70793 [==============================] - 10s - loss: 0.0930 - acc: 0.9643    \n",
      "Epoch 14/24\n",
      "70793/70793 [==============================] - 9s - loss: 0.0918 - acc: 0.9648     \n",
      "Epoch 15/24\n",
      "70793/70793 [==============================] - 10s - loss: 0.0907 - acc: 0.9653    \n",
      "Epoch 16/24\n",
      "70793/70793 [==============================] - 10s - loss: 0.0897 - acc: 0.9657    \n",
      "Epoch 17/24\n",
      "70793/70793 [==============================] - 10s - loss: 0.0887 - acc: 0.9662    \n",
      "Epoch 18/24\n",
      "70793/70793 [==============================] - 11s - loss: 0.0878 - acc: 0.9665    \n",
      "Epoch 19/24\n",
      "70793/70793 [==============================] - 9s - loss: 0.0869 - acc: 0.9667     \n",
      "Epoch 20/24\n",
      "70793/70793 [==============================] - 11s - loss: 0.0861 - acc: 0.9668    \n",
      "Epoch 21/24\n",
      "70793/70793 [==============================] - 12s - loss: 0.0854 - acc: 0.9672    \n",
      "Epoch 22/24\n",
      "70793/70793 [==============================] - 12s - loss: 0.0847 - acc: 0.9674    \n",
      "Epoch 23/24\n",
      "70793/70793 [==============================] - 10s - loss: 0.0840 - acc: 0.9676    \n",
      "Epoch 24/24\n",
      "70793/70793 [==============================] - 10s - loss: 0.0834 - acc: 0.9678    \n",
      "30341/30341 [==============================] - 4s     \n",
      "Epoch 1/32\n",
      "70793/70793 [==============================] - 15s - loss: 0.2187 - acc: 0.9334    \n",
      "Epoch 2/32\n",
      "70793/70793 [==============================] - 10s - loss: 0.1473 - acc: 0.9504    \n",
      "Epoch 3/32\n",
      "70793/70793 [==============================] - 10s - loss: 0.1272 - acc: 0.9552    \n",
      "Epoch 4/32\n",
      "70793/70793 [==============================] - 10s - loss: 0.1166 - acc: 0.9575    \n",
      "Epoch 5/32\n",
      "70793/70793 [==============================] - 10s - loss: 0.1100 - acc: 0.9593    \n",
      "Epoch 6/32\n",
      "70793/70793 [==============================] - 10s - loss: 0.1054 - acc: 0.9609    \n",
      "Epoch 7/32\n",
      "70793/70793 [==============================] - 10s - loss: 0.1019 - acc: 0.9617    \n",
      "Epoch 8/32\n",
      "70793/70793 [==============================] - 10s - loss: 0.0991 - acc: 0.9626    \n",
      "Epoch 9/32\n",
      "70793/70793 [==============================] - 10s - loss: 0.0967 - acc: 0.9636    \n",
      "Epoch 10/32\n",
      "70793/70793 [==============================] - 10s - loss: 0.0947 - acc: 0.9640    \n",
      "Epoch 11/32\n",
      "70793/70793 [==============================] - 10s - loss: 0.0930 - acc: 0.9648    \n",
      "Epoch 12/32\n",
      "70793/70793 [==============================] - 10s - loss: 0.0914 - acc: 0.9654    \n",
      "Epoch 13/32\n",
      "70793/70793 [==============================] - 10s - loss: 0.0901 - acc: 0.9657    \n",
      "Epoch 14/32\n",
      "70793/70793 [==============================] - 11s - loss: 0.0888 - acc: 0.9660    \n",
      "Epoch 15/32\n",
      "70793/70793 [==============================] - 10s - loss: 0.0877 - acc: 0.9667    \n",
      "Epoch 16/32\n",
      "70793/70793 [==============================] - 11s - loss: 0.0866 - acc: 0.9669    \n",
      "Epoch 17/32\n",
      "70793/70793 [==============================] - 10s - loss: 0.0856 - acc: 0.9672    \n",
      "Epoch 18/32\n",
      "70793/70793 [==============================] - 10s - loss: 0.0847 - acc: 0.9673    \n",
      "Epoch 19/32\n",
      "70793/70793 [==============================] - 11s - loss: 0.0839 - acc: 0.9678    \n",
      "Epoch 20/32\n",
      "70793/70793 [==============================] - 12s - loss: 0.0831 - acc: 0.9680    \n",
      "Epoch 21/32\n",
      "70793/70793 [==============================] - 12s - loss: 0.0823 - acc: 0.9684    \n",
      "Epoch 22/32\n",
      "70793/70793 [==============================] - 12s - loss: 0.0816 - acc: 0.9685    \n",
      "Epoch 23/32\n",
      "70793/70793 [==============================] - 11s - loss: 0.0809 - acc: 0.9689    \n",
      "Epoch 24/32\n",
      "70793/70793 [==============================] - 11s - loss: 0.0803 - acc: 0.9694    \n",
      "Epoch 25/32\n",
      "70793/70793 [==============================] - 11s - loss: 0.0796 - acc: 0.9694    \n",
      "Epoch 26/32\n",
      "70793/70793 [==============================] - 12s - loss: 0.0791 - acc: 0.9696    \n",
      "Epoch 27/32\n",
      "70793/70793 [==============================] - 13s - loss: 0.0784 - acc: 0.9698    \n",
      "Epoch 28/32\n",
      "70793/70793 [==============================] - 13s - loss: 0.0778 - acc: 0.9702    \n",
      "Epoch 29/32\n",
      "70793/70793 [==============================] - 13s - loss: 0.0774 - acc: 0.9702    \n",
      "Epoch 30/32\n",
      "70793/70793 [==============================] - 13s - loss: 0.0769 - acc: 0.9708    \n",
      "Epoch 31/32\n",
      "70793/70793 [==============================] - 13s - loss: 0.0764 - acc: 0.9706    \n",
      "Epoch 32/32\n",
      "70793/70793 [==============================] - 13s - loss: 0.0759 - acc: 0.9707    \n",
      "30341/30341 [==============================] - 6s     \n",
      "\n",
      "Best parameters set found:\n",
      "{'batch_size': 100, 'nb_epoch': 24, 'l': 0, 'layers': []} 0.969859350724\n",
      "\n",
      "\n",
      "Grid scores:\n",
      "0.96986 (+/-0.00000) for {'batch_size': 100, 'nb_epoch': 24, 'l': 0, 'layers': []}\n",
      "0.96552 (+/-0.00000) for {'batch_size': 100, 'nb_epoch': 32, 'l': 0, 'layers': []}\n",
      "time: 11min 3s\n"
     ]
    }
   ],
   "source": [
    "param_grid = {\n",
    "    'l': (0,),\n",
    "    'nb_epoch' : (24, 32),\n",
    "    'batch_size': (100,),\n",
    "    'layers': ([],),\n",
    "}\n",
    "\n",
    "tune (X_train, one_hot(y_train), clf, param_grid, roc_scorer, n_jobs=1, verbose=True)"
   ]
  },
  {
   "cell_type": "markdown",
   "metadata": {},
   "source": [
    "ok, so 24 is enough for oh."
   ]
  },
  {
   "cell_type": "markdown",
   "metadata": {},
   "source": [
    "### Eval SKlearn"
   ]
  },
  {
   "cell_type": "code",
   "execution_count": 6,
   "metadata": {
    "collapsed": false
   },
   "outputs": [
    {
     "name": "stdout",
     "output_type": "stream",
     "text": [
      "time: 2min 37s\n"
     ]
    }
   ],
   "source": [
    "sk_model = LogisticRegression(C = 5.0,  solver = 'sag')\n",
    "sk_model.fit(X_train, y_train.argmax(axis = 1))\n",
    "roc_df, spearman_df = test_cross(sk_model, data, xtype)"
   ]
  },
  {
   "cell_type": "code",
   "execution_count": 7,
   "metadata": {
    "collapsed": false
   },
   "outputs": [
    {
     "data": {
      "text/html": [
       "<div>\n",
       "<table border=\"1\" class=\"dataframe\">\n",
       "  <thead>\n",
       "    <tr style=\"text-align: right;\">\n",
       "      <th></th>\n",
       "      <th>random</th>\n",
       "      <th>blocked</th>\n",
       "      <th>both</th>\n",
       "    </tr>\n",
       "  </thead>\n",
       "  <tbody>\n",
       "    <tr>\n",
       "      <th>user</th>\n",
       "      <td>0.994495</td>\n",
       "      <td>0.949073</td>\n",
       "      <td>0.961200</td>\n",
       "    </tr>\n",
       "    <tr>\n",
       "      <th>article</th>\n",
       "      <td>0.971179</td>\n",
       "      <td>0.961371</td>\n",
       "      <td>0.970168</td>\n",
       "    </tr>\n",
       "    <tr>\n",
       "      <th>both</th>\n",
       "      <td>0.983033</td>\n",
       "      <td>0.959499</td>\n",
       "      <td>0.969617</td>\n",
       "    </tr>\n",
       "  </tbody>\n",
       "</table>\n",
       "</div>"
      ],
      "text/plain": [
       "           random   blocked      both\n",
       "user     0.994495  0.949073  0.961200\n",
       "article  0.971179  0.961371  0.970168\n",
       "both     0.983033  0.959499  0.969617"
      ]
     },
     "execution_count": 7,
     "metadata": {},
     "output_type": "execute_result"
    },
    {
     "name": "stdout",
     "output_type": "stream",
     "text": [
      "time: 54.9 ms\n"
     ]
    }
   ],
   "source": [
    "roc_df"
   ]
  },
  {
   "cell_type": "code",
   "execution_count": 8,
   "metadata": {
    "collapsed": false
   },
   "outputs": [
    {
     "data": {
      "text/html": [
       "<div>\n",
       "<table border=\"1\" class=\"dataframe\">\n",
       "  <thead>\n",
       "    <tr style=\"text-align: right;\">\n",
       "      <th></th>\n",
       "      <th>random</th>\n",
       "      <th>blocked</th>\n",
       "      <th>both</th>\n",
       "    </tr>\n",
       "  </thead>\n",
       "  <tbody>\n",
       "    <tr>\n",
       "      <th>user</th>\n",
       "      <td>0.199411</td>\n",
       "      <td>0.650519</td>\n",
       "      <td>0.598965</td>\n",
       "    </tr>\n",
       "    <tr>\n",
       "      <th>article</th>\n",
       "      <td>0.141854</td>\n",
       "      <td>0.434141</td>\n",
       "      <td>0.355467</td>\n",
       "    </tr>\n",
       "    <tr>\n",
       "      <th>both</th>\n",
       "      <td>0.193016</td>\n",
       "      <td>0.618578</td>\n",
       "      <td>0.545708</td>\n",
       "    </tr>\n",
       "  </tbody>\n",
       "</table>\n",
       "</div>"
      ],
      "text/plain": [
       "           random   blocked      both\n",
       "user     0.199411  0.650519  0.598965\n",
       "article  0.141854  0.434141  0.355467\n",
       "both     0.193016  0.618578  0.545708"
      ]
     },
     "execution_count": 8,
     "metadata": {},
     "output_type": "execute_result"
    },
    {
     "name": "stdout",
     "output_type": "stream",
     "text": [
      "time: 6.66 ms\n"
     ]
    }
   ],
   "source": [
    "spearman_df"
   ]
  },
  {
   "cell_type": "markdown",
   "metadata": {},
   "source": [
    "### Eval OH"
   ]
  },
  {
   "cell_type": "code",
   "execution_count": 9,
   "metadata": {
    "collapsed": false
   },
   "outputs": [
    {
     "name": "stdout",
     "output_type": "stream",
     "text": [
      "Epoch 1/24\n",
      "71009/71009 [==============================] - 15s - loss: 0.2133 - acc: 0.9359    \n",
      "Epoch 2/24\n",
      "71009/71009 [==============================] - 12s - loss: 0.1441 - acc: 0.9511    \n",
      "Epoch 3/24\n",
      "71009/71009 [==============================] - 12s - loss: 0.1241 - acc: 0.9554    \n",
      "Epoch 4/24\n",
      "71009/71009 [==============================] - 13s - loss: 0.1135 - acc: 0.9582    \n",
      "Epoch 5/24\n",
      "71009/71009 [==============================] - 12s - loss: 0.1069 - acc: 0.9599    \n",
      "Epoch 6/24\n",
      "71009/71009 [==============================] - 13s - loss: 0.1022 - acc: 0.9616    \n",
      "Epoch 7/24\n",
      "71009/71009 [==============================] - 13s - loss: 0.0987 - acc: 0.9625    \n",
      "Epoch 8/24\n",
      "71009/71009 [==============================] - 16s - loss: 0.0959 - acc: 0.9634    \n",
      "Epoch 9/24\n",
      "71009/71009 [==============================] - 15s - loss: 0.0935 - acc: 0.9642    \n",
      "Epoch 10/24\n",
      "71009/71009 [==============================] - 16s - loss: 0.0915 - acc: 0.9652    \n",
      "Epoch 11/24\n",
      "71009/71009 [==============================] - 15s - loss: 0.0898 - acc: 0.9657    \n",
      "Epoch 12/24\n",
      "71009/71009 [==============================] - 15s - loss: 0.0882 - acc: 0.9662    \n",
      "Epoch 13/24\n",
      "71009/71009 [==============================] - 15s - loss: 0.0869 - acc: 0.9668    \n",
      "Epoch 14/24\n",
      "71009/71009 [==============================] - 18s - loss: 0.0857 - acc: 0.9673    \n",
      "Epoch 15/24\n",
      "71009/71009 [==============================] - 21s - loss: 0.0845 - acc: 0.9679    \n",
      "Epoch 16/24\n",
      "71009/71009 [==============================] - 16s - loss: 0.0835 - acc: 0.9682    \n",
      "Epoch 17/24\n",
      "71009/71009 [==============================] - 17s - loss: 0.0825 - acc: 0.9686    \n",
      "Epoch 18/24\n",
      "71009/71009 [==============================] - 17s - loss: 0.0816 - acc: 0.9689    \n",
      "Epoch 19/24\n",
      "71009/71009 [==============================] - 17s - loss: 0.0808 - acc: 0.9691    \n",
      "Epoch 20/24\n",
      "71009/71009 [==============================] - 17s - loss: 0.0800 - acc: 0.9693    \n",
      "Epoch 21/24\n",
      "71009/71009 [==============================] - 17s - loss: 0.0792 - acc: 0.9699    \n",
      "Epoch 22/24\n",
      "71009/71009 [==============================] - 17s - loss: 0.0785 - acc: 0.9698    \n",
      "Epoch 23/24\n",
      "71009/71009 [==============================] - 16s - loss: 0.0778 - acc: 0.9702    \n",
      "Epoch 24/24\n",
      "71009/71009 [==============================] - 16s - loss: 0.0771 - acc: 0.9705    \n",
      "3853/3853 [==============================] - 1s     \n",
      "13259/13259 [==============================] - 1s     \n",
      "3896/3896 [==============================] - 0s     \n",
      "7749/7749 [==============================] - 1s     \n",
      "23668/23668 [==============================] - 3s     \n",
      "time: 7min 5s\n"
     ]
    }
   ],
   "source": [
    "oh_linear_model =  KerasClassifier(build_fn=make_MLP,\n",
    "                               output_dim = n_classes,\n",
    "                               input_dim = 10000,\n",
    "                               nb_epoch = 24,\n",
    "                               batch_size = 100,\n",
    "                               l = 0.0, \n",
    "                               layers = [])\n",
    "oh_linear_model.fit(X_train, one_hot(y_train))\n",
    "roc_df, spearman_df = test_cross(oh_linear_model, data, xtype)"
   ]
  },
  {
   "cell_type": "code",
   "execution_count": 10,
   "metadata": {
    "collapsed": false
   },
   "outputs": [
    {
     "data": {
      "text/html": [
       "<div>\n",
       "<table border=\"1\" class=\"dataframe\">\n",
       "  <thead>\n",
       "    <tr style=\"text-align: right;\">\n",
       "      <th></th>\n",
       "      <th>random</th>\n",
       "      <th>blocked</th>\n",
       "      <th>both</th>\n",
       "    </tr>\n",
       "  </thead>\n",
       "  <tbody>\n",
       "    <tr>\n",
       "      <th>user</th>\n",
       "      <td>0.993791</td>\n",
       "      <td>0.946814</td>\n",
       "      <td>0.959405</td>\n",
       "    </tr>\n",
       "    <tr>\n",
       "      <th>article</th>\n",
       "      <td>0.959110</td>\n",
       "      <td>0.955523</td>\n",
       "      <td>0.964508</td>\n",
       "    </tr>\n",
       "    <tr>\n",
       "      <th>both</th>\n",
       "      <td>0.978141</td>\n",
       "      <td>0.957059</td>\n",
       "      <td>0.967490</td>\n",
       "    </tr>\n",
       "  </tbody>\n",
       "</table>\n",
       "</div>"
      ],
      "text/plain": [
       "           random   blocked      both\n",
       "user     0.993791  0.946814  0.959405\n",
       "article  0.959110  0.955523  0.964508\n",
       "both     0.978141  0.957059  0.967490"
      ]
     },
     "execution_count": 10,
     "metadata": {},
     "output_type": "execute_result"
    },
    {
     "name": "stdout",
     "output_type": "stream",
     "text": [
      "time: 25.4 ms\n"
     ]
    }
   ],
   "source": [
    "roc_df"
   ]
  },
  {
   "cell_type": "code",
   "execution_count": 11,
   "metadata": {
    "collapsed": false
   },
   "outputs": [
    {
     "data": {
      "text/html": [
       "<div>\n",
       "<table border=\"1\" class=\"dataframe\">\n",
       "  <thead>\n",
       "    <tr style=\"text-align: right;\">\n",
       "      <th></th>\n",
       "      <th>random</th>\n",
       "      <th>blocked</th>\n",
       "      <th>both</th>\n",
       "    </tr>\n",
       "  </thead>\n",
       "  <tbody>\n",
       "    <tr>\n",
       "      <th>user</th>\n",
       "      <td>0.176883</td>\n",
       "      <td>0.635657</td>\n",
       "      <td>0.587431</td>\n",
       "    </tr>\n",
       "    <tr>\n",
       "      <th>article</th>\n",
       "      <td>0.126734</td>\n",
       "      <td>0.406099</td>\n",
       "      <td>0.331456</td>\n",
       "    </tr>\n",
       "    <tr>\n",
       "      <th>both</th>\n",
       "      <td>0.171392</td>\n",
       "      <td>0.600709</td>\n",
       "      <td>0.528904</td>\n",
       "    </tr>\n",
       "  </tbody>\n",
       "</table>\n",
       "</div>"
      ],
      "text/plain": [
       "           random   blocked      both\n",
       "user     0.176883  0.635657  0.587431\n",
       "article  0.126734  0.406099  0.331456\n",
       "both     0.171392  0.600709  0.528904"
      ]
     },
     "execution_count": 11,
     "metadata": {},
     "output_type": "execute_result"
    },
    {
     "name": "stdout",
     "output_type": "stream",
     "text": [
      "time: 38.1 ms\n"
     ]
    }
   ],
   "source": [
    "spearman_df"
   ]
  },
  {
   "cell_type": "markdown",
   "metadata": {},
   "source": [
    "### Eval Linear EDP"
   ]
  },
  {
   "cell_type": "code",
   "execution_count": 12,
   "metadata": {
    "collapsed": false
   },
   "outputs": [
    {
     "name": "stdout",
     "output_type": "stream",
     "text": [
      "Epoch 1/8\n",
      "71009/71009 [==============================] - 21s - loss: 0.1429 - acc: 0.9394    \n",
      "Epoch 2/8\n",
      "71009/71009 [==============================] - 15s - loss: 0.0903 - acc: 0.9547    \n",
      "Epoch 3/8\n",
      "71009/71009 [==============================] - 14s - loss: 0.0807 - acc: 0.9576    \n",
      "Epoch 4/8\n",
      "71009/71009 [==============================] - 14s - loss: 0.0769 - acc: 0.9594    \n",
      "Epoch 5/8\n",
      "71009/71009 [==============================] - 15s - loss: 0.0746 - acc: 0.9610    \n",
      "Epoch 6/8\n",
      "71009/71009 [==============================] - 15s - loss: 0.0730 - acc: 0.9616    \n",
      "Epoch 7/8\n",
      "71009/71009 [==============================] - 15s - loss: 0.0718 - acc: 0.9622    \n",
      "Epoch 8/8\n",
      "71009/71009 [==============================] - 15s - loss: 0.0709 - acc: 0.9626    \n",
      "3853/3853 [==============================] - 1s     \n",
      "9406/9406 [==============================] - 3s     \n",
      "13259/13259 [==============================] - 1s     \n",
      "3896/3896 [==============================] - 1s     \n",
      "6513/6513 [==============================] - 2s     \n",
      "7749/7749 [==============================] - 1s     \n",
      "23668/23668 [==============================] - 3s     \n",
      "time: 2min 55s\n"
     ]
    }
   ],
   "source": [
    "ed_linear_model =  KerasClassifier(build_fn=make_MLP,\n",
    "                               output_dim = n_classes,\n",
    "                               input_dim = 10000,\n",
    "                               nb_epoch = 8,\n",
    "                               batch_size = 100,\n",
    "                               l = 0.0, \n",
    "                               layers = [])\n",
    "ed_linear_model.fit(X_train, y_train)\n",
    "roc_df, spearman_df = test_cross(ed_linear_model, data, xtype)"
   ]
  },
  {
   "cell_type": "code",
   "execution_count": 13,
   "metadata": {
    "collapsed": false
   },
   "outputs": [
    {
     "data": {
      "text/html": [
       "<div>\n",
       "<table border=\"1\" class=\"dataframe\">\n",
       "  <thead>\n",
       "    <tr style=\"text-align: right;\">\n",
       "      <th></th>\n",
       "      <th>random</th>\n",
       "      <th>blocked</th>\n",
       "      <th>both</th>\n",
       "    </tr>\n",
       "  </thead>\n",
       "  <tbody>\n",
       "    <tr>\n",
       "      <th>user</th>\n",
       "      <td>0.994860</td>\n",
       "      <td>0.947449</td>\n",
       "      <td>0.961308</td>\n",
       "    </tr>\n",
       "    <tr>\n",
       "      <th>article</th>\n",
       "      <td>0.977303</td>\n",
       "      <td>0.960489</td>\n",
       "      <td>0.970652</td>\n",
       "    </tr>\n",
       "    <tr>\n",
       "      <th>both</th>\n",
       "      <td>0.985309</td>\n",
       "      <td>0.958961</td>\n",
       "      <td>0.970301</td>\n",
       "    </tr>\n",
       "  </tbody>\n",
       "</table>\n",
       "</div>"
      ],
      "text/plain": [
       "           random   blocked      both\n",
       "user     0.994860  0.947449  0.961308\n",
       "article  0.977303  0.960489  0.970652\n",
       "both     0.985309  0.958961  0.970301"
      ]
     },
     "execution_count": 13,
     "metadata": {},
     "output_type": "execute_result"
    },
    {
     "name": "stdout",
     "output_type": "stream",
     "text": [
      "time: 20.7 ms\n"
     ]
    }
   ],
   "source": [
    "roc_df"
   ]
  },
  {
   "cell_type": "code",
   "execution_count": 14,
   "metadata": {
    "collapsed": false
   },
   "outputs": [
    {
     "data": {
      "text/html": [
       "<div>\n",
       "<table border=\"1\" class=\"dataframe\">\n",
       "  <thead>\n",
       "    <tr style=\"text-align: right;\">\n",
       "      <th></th>\n",
       "      <th>random</th>\n",
       "      <th>blocked</th>\n",
       "      <th>both</th>\n",
       "    </tr>\n",
       "  </thead>\n",
       "  <tbody>\n",
       "    <tr>\n",
       "      <th>user</th>\n",
       "      <td>0.251074</td>\n",
       "      <td>0.676574</td>\n",
       "      <td>0.645185</td>\n",
       "    </tr>\n",
       "    <tr>\n",
       "      <th>article</th>\n",
       "      <td>0.179259</td>\n",
       "      <td>0.474345</td>\n",
       "      <td>0.395362</td>\n",
       "    </tr>\n",
       "    <tr>\n",
       "      <th>both</th>\n",
       "      <td>0.236284</td>\n",
       "      <td>0.657584</td>\n",
       "      <td>0.594054</td>\n",
       "    </tr>\n",
       "  </tbody>\n",
       "</table>\n",
       "</div>"
      ],
      "text/plain": [
       "           random   blocked      both\n",
       "user     0.251074  0.676574  0.645185\n",
       "article  0.179259  0.474345  0.395362\n",
       "both     0.236284  0.657584  0.594054"
      ]
     },
     "execution_count": 14,
     "metadata": {},
     "output_type": "execute_result"
    },
    {
     "name": "stdout",
     "output_type": "stream",
     "text": [
      "time: 14.7 ms\n"
     ]
    }
   ],
   "source": [
    "spearman_df"
   ]
  },
  {
   "cell_type": "markdown",
   "metadata": {},
   "source": [
    "### Eval Deep EDP"
   ]
  },
  {
   "cell_type": "code",
   "execution_count": 15,
   "metadata": {
    "collapsed": false
   },
   "outputs": [
    {
     "name": "stdout",
     "output_type": "stream",
     "text": [
      "Epoch 1/2\n",
      "71009/71009 [==============================] - 40s - loss: 0.1179 - acc: 0.9335    \n",
      "Epoch 2/2\n",
      "71009/71009 [==============================] - 38s - loss: 0.0778 - acc: 0.9622    \n",
      "3853/3853 [==============================] - 1s     \n",
      "9406/9406 [==============================] - 5s     \n",
      "13259/13259 [==============================] - 3s     \n",
      "3896/3896 [==============================] - 1s     \n",
      "6513/6513 [==============================] - 3s     \n",
      "10409/10409 [==============================] - 2s     \n",
      "7749/7749 [==============================] - 1s     \n",
      "15919/15919 [==============================] - 3s     \n",
      "23668/23668 [==============================] - 6s     \n",
      "time: 2min 19s\n"
     ]
    }
   ],
   "source": [
    "deep_model =  KerasClassifier(build_fn=make_MLP,\n",
    "                               output_dim = n_classes,\n",
    "                               input_dim = 10000,\n",
    "                               nb_epoch = 2,\n",
    "                               batch_size = 100,\n",
    "                               l = 0.000001, \n",
    "                               layers = [50, 10])\n",
    "deep_model.fit(X_train, y_train)\n",
    "roc_df, spearman_df = test_cross(deep_model, data, xtype)"
   ]
  },
  {
   "cell_type": "code",
   "execution_count": 16,
   "metadata": {
    "collapsed": false
   },
   "outputs": [
    {
     "data": {
      "text/html": [
       "<div>\n",
       "<table border=\"1\" class=\"dataframe\">\n",
       "  <thead>\n",
       "    <tr style=\"text-align: right;\">\n",
       "      <th></th>\n",
       "      <th>random</th>\n",
       "      <th>blocked</th>\n",
       "      <th>both</th>\n",
       "    </tr>\n",
       "  </thead>\n",
       "  <tbody>\n",
       "    <tr>\n",
       "      <th>user</th>\n",
       "      <td>0.996074</td>\n",
       "      <td>0.947479</td>\n",
       "      <td>0.961482</td>\n",
       "    </tr>\n",
       "    <tr>\n",
       "      <th>article</th>\n",
       "      <td>0.985435</td>\n",
       "      <td>0.962880</td>\n",
       "      <td>0.972930</td>\n",
       "    </tr>\n",
       "    <tr>\n",
       "      <th>both</th>\n",
       "      <td>0.989515</td>\n",
       "      <td>0.958800</td>\n",
       "      <td>0.970352</td>\n",
       "    </tr>\n",
       "  </tbody>\n",
       "</table>\n",
       "</div>"
      ],
      "text/plain": [
       "           random   blocked      both\n",
       "user     0.996074  0.947479  0.961482\n",
       "article  0.985435  0.962880  0.972930\n",
       "both     0.989515  0.958800  0.970352"
      ]
     },
     "execution_count": 16,
     "metadata": {},
     "output_type": "execute_result"
    },
    {
     "name": "stdout",
     "output_type": "stream",
     "text": [
      "time: 17.9 ms\n"
     ]
    }
   ],
   "source": [
    "roc_df"
   ]
  },
  {
   "cell_type": "code",
   "execution_count": 17,
   "metadata": {
    "collapsed": false
   },
   "outputs": [
    {
     "data": {
      "text/html": [
       "<div>\n",
       "<table border=\"1\" class=\"dataframe\">\n",
       "  <thead>\n",
       "    <tr style=\"text-align: right;\">\n",
       "      <th></th>\n",
       "      <th>random</th>\n",
       "      <th>blocked</th>\n",
       "      <th>both</th>\n",
       "    </tr>\n",
       "  </thead>\n",
       "  <tbody>\n",
       "    <tr>\n",
       "      <th>user</th>\n",
       "      <td>0.262938</td>\n",
       "      <td>0.684797</td>\n",
       "      <td>0.649111</td>\n",
       "    </tr>\n",
       "    <tr>\n",
       "      <th>article</th>\n",
       "      <td>0.182304</td>\n",
       "      <td>0.483905</td>\n",
       "      <td>0.402879</td>\n",
       "    </tr>\n",
       "    <tr>\n",
       "      <th>both</th>\n",
       "      <td>0.245107</td>\n",
       "      <td>0.661445</td>\n",
       "      <td>0.596676</td>\n",
       "    </tr>\n",
       "  </tbody>\n",
       "</table>\n",
       "</div>"
      ],
      "text/plain": [
       "           random   blocked      both\n",
       "user     0.262938  0.684797  0.649111\n",
       "article  0.182304  0.483905  0.402879\n",
       "both     0.245107  0.661445  0.596676"
      ]
     },
     "execution_count": 17,
     "metadata": {},
     "output_type": "execute_result"
    },
    {
     "name": "stdout",
     "output_type": "stream",
     "text": [
      "time: 9.22 ms\n"
     ]
    }
   ],
   "source": [
    "spearman_df"
   ]
  },
  {
   "cell_type": "markdown",
   "metadata": {},
   "source": [
    "### Check Calibration"
   ]
  },
  {
   "cell_type": "code",
   "execution_count": 23,
   "metadata": {
    "collapsed": false,
    "scrolled": false
   },
   "outputs": [
    {
     "name": "stdout",
     "output_type": "stream",
     "text": [
      "23668/23668 [==============================] - 3s     \n"
     ]
    },
    {
     "data": {
      "image/png": "[encoded data removed]",
      "text/plain": [
       "<matplotlib.figure.Figure at 0x12bba3438>"
      ]
     },
     "metadata": {},
     "output_type": "display_data"
    },
    {
     "data": {
      "text/plain": [
       "<matplotlib.figure.Figure at 0x123d92630>"
      ]
     },
     "metadata": {},
     "output_type": "display_data"
    },
    {
     "name": "stdout",
     "output_type": "stream",
     "text": [
      "time: 5.64 s\n"
     ]
    }
   ],
   "source": [
    "y_test_oh = one_hot(y_test)\n",
    "y_pred_ed = ed_linear_model.predict_proba(X_test)\n",
    "\n",
    "if n_classes > 2:\n",
    "    classes = range(n_classes)\n",
    "else:\n",
    "    classes = [1]\n",
    "\n",
    "for i in classes:\n",
    "    plt.figure()\n",
    "    calibration_curve_plotter(y_test_oh[:, i], y_pred_ed[:, i])\n",
    "    plt.show()"
   ]
  },
  {
   "cell_type": "code",
   "execution_count": null,
   "metadata": {
    "collapsed": true
   },
   "outputs": [],
   "source": []
  }
 ],
 "metadata": {
  "kernelspec": {
   "display_name": "Python 3",
   "language": "python",
   "name": "python3"
  },
  "language_info": {
   "codemirror_mode": {
    "name": "ipython",
    "version": 3
   },
   "file_extension": ".py",
   "mimetype": "text/x-python",
   "name": "python",
   "nbconvert_exporter": "python",
   "pygments_lexer": "ipython3",
   "version": "3.5.1"
  }
 },
 "nbformat": 4,
 "nbformat_minor": 0
}
