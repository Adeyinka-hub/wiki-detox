{
 "cells": [
  {
   "cell_type": "code",
   "execution_count": 1,
   "metadata": {
    "collapsed": false
   },
   "outputs": [
    {
     "name": "stderr",
     "output_type": "stream",
     "text": [
      "Using TensorFlow backend.\n"
     ]
    }
   ],
   "source": [
    "%load_ext autoreload\n",
    "%autoreload 2\n",
    "%matplotlib inline\n",
    "%load_ext autotime\n",
    "\n",
    "from ngram import *\n",
    "from baselines import *\n",
    "from error_analysis import *\n",
    "from deep_learning import *\n",
    "pd.options.mode.chained_assignment = None\n"
   ]
  },
  {
   "cell_type": "markdown",
   "metadata": {},
   "source": [
    "### Load Annotated Data"
   ]
  },
  {
   "cell_type": "code",
   "execution_count": 2,
   "metadata": {
    "collapsed": false
   },
   "outputs": [
    {
     "name": "stdout",
     "output_type": "stream",
     "text": [
      "time: 2.26 ms\n"
     ]
    }
   ],
   "source": [
    "task = 'recipient'\n",
    "xtype = 'ngrams'\n",
    "ytype = 'empirical_dist'\n",
    "n_classes = 2"
   ]
  },
  {
   "cell_type": "code",
   "execution_count": 3,
   "metadata": {
    "collapsed": false
   },
   "outputs": [
    {
     "name": "stdout",
     "output_type": "stream",
     "text": [
      "time: 1min 50s\n"
     ]
    }
   ],
   "source": [
    "data = load_comments_and_labels(task)"
   ]
  },
  {
   "cell_type": "markdown",
   "metadata": {},
   "source": [
    "### NGram Preprocessing"
   ]
  },
  {
   "cell_type": "code",
   "execution_count": 4,
   "metadata": {
    "collapsed": false
   },
   "outputs": [
    {
     "name": "stdout",
     "output_type": "stream",
     "text": [
      "time: 4min 52s\n"
     ]
    }
   ],
   "source": [
    "feature_pipeline =  Pipeline([\n",
    "    ('vect', CountVectorizer(ngram_range = (1,5), analyzer = 'char', max_features = 10000)),\n",
    "    ('tfidf', TfidfTransformer(sublinear_tf=True,norm='l2')),\n",
    "    ('to_dense', DenseTransformer()), \n",
    "])\n",
    "\n",
    "X_comments, _ = assemble_data(data, 'comments', ytype, splits = ['train'])\n",
    "preprocessor = feature_pipeline.fit(X_comments)\n",
    "data = apply_transform(data, 'comments', preprocessor, xtype)\n",
    "\n",
    "X_train, y_train = assemble_data(data, xtype, ytype, splits = ['train'])\n",
    "X_test, y_test = assemble_data(data, xtype, 'empirical_dist', splits = ['test'])"
   ]
  },
  {
   "cell_type": "markdown",
   "metadata": {},
   "source": [
    "### Define Model"
   ]
  },
  {
   "cell_type": "code",
   "execution_count": 5,
   "metadata": {
    "collapsed": false
   },
   "outputs": [
    {
     "name": "stdout",
     "output_type": "stream",
     "text": [
      "time: 13.2 ms\n"
     ]
    }
   ],
   "source": [
    "clf =  KerasClassifier(build_fn=make_MLP, output_dim = n_classes, input_dim = 10000)"
   ]
  },
  {
   "cell_type": "markdown",
   "metadata": {
    "collapsed": true
   },
   "source": [
    "### Deep EDP Hyper-Parameter tuning"
   ]
  },
  {
   "cell_type": "code",
   "execution_count": 6,
   "metadata": {
    "collapsed": false
   },
   "outputs": [
    {
     "name": "stdout",
     "output_type": "stream",
     "text": [
      "Epoch 1/1\n",
      "48643/48643 [==============================] - 25s - loss: 0.1298 - acc: 0.9456    \n",
      "20847/20847 [==============================] - 6s     \n",
      "Epoch 1/1\n",
      "48643/48643 [==============================] - 25s - loss: 0.1370 - acc: 0.9241    \n",
      "20847/20847 [==============================] - 6s     \n",
      "Epoch 1/1\n",
      "48643/48643 [==============================] - 26s - loss: 0.1564 - acc: 0.9248    \n",
      "20847/20847 [==============================] - 6s     \n",
      "Epoch 1/1\n",
      "48643/48643 [==============================] - 26s - loss: 0.2568 - acc: 0.9244    \n",
      "20847/20847 [==============================] - 6s     \n",
      "\n",
      "Best parameters set found:\n",
      "{'l': 0, 'batch_size': 100, 'layers': [50, 10], 'nb_epoch': 1} 0.967447048349\n",
      "\n",
      "\n",
      "Grid scores:\n",
      "0.96745 (+/-0.00000) for {'l': 0, 'batch_size': 100, 'layers': [50, 10], 'nb_epoch': 1}\n",
      "0.96513 (+/-0.00000) for {'l': 1e-05, 'batch_size': 100, 'layers': [50, 10], 'nb_epoch': 1}\n",
      "0.96142 (+/-0.00000) for {'l': 0.0001, 'batch_size': 100, 'layers': [50, 10], 'nb_epoch': 1}\n",
      "0.95449 (+/-0.00000) for {'l': 0.001, 'batch_size': 100, 'layers': [50, 10], 'nb_epoch': 1}\n",
      "time: 3min 1s\n"
     ]
    }
   ],
   "source": [
    "# Deep EDP\n",
    "\n",
    "param_grid = {\n",
    "    'l': (0, 0.00001, 0.0001, 0.001),\n",
    "    'nb_epoch' : (1,),\n",
    "    'batch_size': (100,),\n",
    "    'layers': ([50, 10],),\n",
    "}\n",
    "\n",
    "tune (X_train, y_train, clf, param_grid, roc_scorer, n_jobs=1, verbose=True)"
   ]
  },
  {
   "cell_type": "markdown",
   "metadata": {},
   "source": [
    "Seems, like we don't need to regularize at one epoch. Lets try more epochs."
   ]
  },
  {
   "cell_type": "code",
   "execution_count": 7,
   "metadata": {
    "collapsed": false
   },
   "outputs": [
    {
     "name": "stdout",
     "output_type": "stream",
     "text": [
      "Epoch 1/2\n",
      "48643/48643 [==============================] - 26s - loss: 0.1283 - acc: 0.9443    \n",
      "Epoch 2/2\n",
      "48643/48643 [==============================] - 23s - loss: 0.0679 - acc: 0.9623    \n",
      "20847/20847 [==============================] - 6s     \n",
      "Epoch 1/2\n",
      "48643/48643 [==============================] - 25s - loss: 0.1440 - acc: 0.9244    \n",
      "Epoch 2/2\n",
      "48643/48643 [==============================] - 22s - loss: 0.0834 - acc: 0.9519    \n",
      "20847/20847 [==============================] - 6s     \n",
      "Epoch 1/2\n",
      "48643/48643 [==============================] - 25s - loss: 0.1581 - acc: 0.9243    \n",
      "Epoch 2/2\n",
      "48643/48643 [==============================] - 21s - loss: 0.0935 - acc: 0.9510    \n",
      "20847/20847 [==============================] - 6s     \n",
      "Epoch 1/2\n",
      "48643/48643 [==============================] - 24s - loss: 0.2862 - acc: 0.9219    \n",
      "Epoch 2/2\n",
      "48643/48643 [==============================] - 22s - loss: 0.1328 - acc: 0.9248    \n",
      "20847/20847 [==============================] - 6s     \n",
      "\n",
      "Best parameters set found:\n",
      "{'l': 0, 'batch_size': 100, 'layers': [50, 10], 'nb_epoch': 2} 0.97115421842\n",
      "\n",
      "\n",
      "Grid scores:\n",
      "0.97115 (+/-0.00000) for {'l': 0, 'batch_size': 100, 'layers': [50, 10], 'nb_epoch': 2}\n",
      "0.96789 (+/-0.00000) for {'l': 1e-05, 'batch_size': 100, 'layers': [50, 10], 'nb_epoch': 2}\n",
      "0.96326 (+/-0.00000) for {'l': 0.0001, 'batch_size': 100, 'layers': [50, 10], 'nb_epoch': 2}\n",
      "0.96046 (+/-0.00000) for {'l': 0.001, 'batch_size': 100, 'layers': [50, 10], 'nb_epoch': 2}\n",
      "time: 4min 31s\n"
     ]
    }
   ],
   "source": [
    "# Deep EDP\n",
    "param_grid = {\n",
    "    'l': (0, 0.00001, 0.0001, 0.001),\n",
    "    'nb_epoch' : (2,),\n",
    "    'batch_size': (100,),\n",
    "    'layers': ([50, 10],),\n",
    "}\n",
    "\n",
    "tune (X_train, y_train, clf, param_grid, roc_scorer, n_jobs=1, verbose=True)"
   ]
  },
  {
   "cell_type": "markdown",
   "metadata": {},
   "source": [
    "Same pattern. Results improved for lower reg. Lets try more epochs."
   ]
  },
  {
   "cell_type": "code",
   "execution_count": 8,
   "metadata": {
    "collapsed": false
   },
   "outputs": [
    {
     "name": "stdout",
     "output_type": "stream",
     "text": [
      "Epoch 1/4\n",
      "48643/48643 [==============================] - 24s - loss: 0.1304 - acc: 0.9447    \n",
      "Epoch 2/4\n",
      "48643/48643 [==============================] - 21s - loss: 0.0675 - acc: 0.9630    \n",
      "Epoch 3/4\n",
      "48643/48643 [==============================] - 20s - loss: 0.0615 - acc: 0.9667    \n",
      "Epoch 4/4\n",
      "48643/48643 [==============================] - 21s - loss: 0.0569 - acc: 0.9700    \n",
      "20847/20847 [==============================] - 6s     \n",
      "Epoch 1/4\n",
      "48643/48643 [==============================] - 24s - loss: 0.1393 - acc: 0.9449    \n",
      "Epoch 2/4\n",
      "48643/48643 [==============================] - 21s - loss: 0.0755 - acc: 0.9627    \n",
      "Epoch 3/4\n",
      "48643/48643 [==============================] - 21s - loss: 0.0701 - acc: 0.9651    \n",
      "Epoch 4/4\n",
      "48643/48643 [==============================] - 23s - loss: 0.0666 - acc: 0.9669    \n",
      "20847/20847 [==============================] - 6s     \n",
      "Epoch 1/4\n",
      "48643/48643 [==============================] - 24s - loss: 0.1548 - acc: 0.9270    \n",
      "Epoch 2/4\n",
      "48643/48643 [==============================] - 21s - loss: 0.0933 - acc: 0.9533    \n",
      "Epoch 3/4\n",
      "48643/48643 [==============================] - 21s - loss: 0.0889 - acc: 0.9594    \n",
      "Epoch 4/4\n",
      "48643/48643 [==============================] - 22s - loss: 0.0847 - acc: 0.9603    \n",
      "20847/20847 [==============================] - 6s     \n",
      "Epoch 1/4\n",
      "48643/48643 [==============================] - 24s - loss: 0.2622 - acc: 0.9234    \n",
      "Epoch 2/4\n",
      "48643/48643 [==============================] - 22s - loss: 0.1271 - acc: 0.9348    \n",
      "Epoch 3/4\n",
      "48643/48643 [==============================] - 21s - loss: 0.1208 - acc: 0.9540    \n",
      "Epoch 4/4\n",
      "48643/48643 [==============================] - 24s - loss: 0.1170 - acc: 0.9545    \n",
      "20847/20847 [==============================] - 8s     \n",
      "\n",
      "Best parameters set found:\n",
      "{'l': 0.0001, 'batch_size': 100, 'layers': [50, 10], 'nb_epoch': 4} 0.972148257185\n",
      "\n",
      "\n",
      "Grid scores:\n",
      "0.96970 (+/-0.00000) for {'l': 0, 'batch_size': 100, 'layers': [50, 10], 'nb_epoch': 4}\n",
      "0.97172 (+/-0.00000) for {'l': 1e-05, 'batch_size': 100, 'layers': [50, 10], 'nb_epoch': 4}\n",
      "0.97215 (+/-0.00000) for {'l': 0.0001, 'batch_size': 100, 'layers': [50, 10], 'nb_epoch': 4}\n",
      "0.96077 (+/-0.00000) for {'l': 0.001, 'batch_size': 100, 'layers': [50, 10], 'nb_epoch': 4}\n",
      "time: 7min 33s\n"
     ]
    }
   ],
   "source": [
    "# Deep EDP\n",
    "param_grid = {\n",
    "    'l': (0, 0.00001, 0.0001, 0.001),\n",
    "    'nb_epoch' : (4,),\n",
    "    'batch_size': (100,),\n",
    "    'layers': ([50, 10],),\n",
    "}\n",
    "\n",
    "tune (X_train, y_train, clf, param_grid, roc_scorer, n_jobs=1, verbose=True)"
   ]
  },
  {
   "cell_type": "markdown",
   "metadata": {},
   "source": [
    "Same pattern still, although performance went a bit down. Lets push the epochs even further."
   ]
  },
  {
   "cell_type": "code",
   "execution_count": 9,
   "metadata": {
    "collapsed": false
   },
   "outputs": [
    {
     "name": "stdout",
     "output_type": "stream",
     "text": [
      "Epoch 1/8\n",
      "48643/48643 [==============================] - 24s - loss: 0.1648 - acc: 0.9418    \n",
      "Epoch 2/8\n",
      "48643/48643 [==============================] - 21s - loss: 0.0795 - acc: 0.9604    \n",
      "Epoch 3/8\n",
      "48643/48643 [==============================] - 21s - loss: 0.0732 - acc: 0.9628    \n",
      "Epoch 4/8\n",
      "48643/48643 [==============================] - 23s - loss: 0.0696 - acc: 0.9643    \n",
      "Epoch 5/8\n",
      "48643/48643 [==============================] - 23s - loss: 0.0667 - acc: 0.9666    \n",
      "Epoch 6/8\n",
      "48643/48643 [==============================] - 23s - loss: 0.0641 - acc: 0.9676    \n",
      "Epoch 7/8\n",
      "48643/48643 [==============================] - 22s - loss: 0.0619 - acc: 0.9689    \n",
      "Epoch 8/8\n",
      "48643/48643 [==============================] - 24s - loss: 0.0599 - acc: 0.9709    \n",
      "20847/20847 [==============================] - 7s     \n",
      "Epoch 1/16\n",
      "48643/48643 [==============================] - 24s - loss: 0.1417 - acc: 0.9449    \n",
      "Epoch 2/16\n",
      "48643/48643 [==============================] - 21s - loss: 0.0754 - acc: 0.9619    \n",
      "Epoch 3/16\n",
      "48643/48643 [==============================] - 21s - loss: 0.0696 - acc: 0.9653    \n",
      "Epoch 4/16\n",
      "48643/48643 [==============================] - 21s - loss: 0.0660 - acc: 0.9674    \n",
      "Epoch 5/16\n",
      "48643/48643 [==============================] - 22s - loss: 0.0628 - acc: 0.9684    \n",
      "Epoch 6/16\n",
      "48643/48643 [==============================] - 23s - loss: 0.0597 - acc: 0.9709    \n",
      "Epoch 7/16\n",
      "48643/48643 [==============================] - 21s - loss: 0.0568 - acc: 0.9728    \n",
      "Epoch 8/16\n",
      "48643/48643 [==============================] - 21s - loss: 0.0540 - acc: 0.9749    \n",
      "Epoch 9/16\n",
      "48643/48643 [==============================] - 21s - loss: 0.0516 - acc: 0.9762    \n",
      "Epoch 10/16\n",
      "48643/48643 [==============================] - 21s - loss: 0.0492 - acc: 0.9769    \n",
      "Epoch 11/16\n",
      "48643/48643 [==============================] - 21s - loss: 0.0468 - acc: 0.9787    \n",
      "Epoch 12/16\n",
      "48643/48643 [==============================] - 21s - loss: 0.0448 - acc: 0.9793    \n",
      "Epoch 13/16\n",
      "48643/48643 [==============================] - 24s - loss: 0.0428 - acc: 0.9811    \n",
      "Epoch 14/16\n",
      "48643/48643 [==============================] - 26s - loss: 0.0411 - acc: 0.9824    \n",
      "Epoch 15/16\n",
      "48643/48643 [==============================] - 26s - loss: 0.0394 - acc: 0.9828    \n",
      "Epoch 16/16\n",
      "48643/48643 [==============================] - 24s - loss: 0.0382 - acc: 0.9830    \n",
      "20847/20847 [==============================] - 8s     \n",
      "\n",
      "Best parameters set found:\n",
      "{'l': 1e-05, 'batch_size': 100, 'layers': [50, 10], 'nb_epoch': 8} 0.972609720311\n",
      "\n",
      "\n",
      "Grid scores:\n",
      "0.97261 (+/-0.00000) for {'l': 1e-05, 'batch_size': 100, 'layers': [50, 10], 'nb_epoch': 8}\n",
      "0.96436 (+/-0.00000) for {'l': 1e-05, 'batch_size': 100, 'layers': [50, 10], 'nb_epoch': 16}\n",
      "time: 10min 7s\n"
     ]
    }
   ],
   "source": [
    "# Deep EDP\n",
    "param_grid = {\n",
    "    'l': (0.00001,),\n",
    "    'nb_epoch' : (8,16),\n",
    "    'batch_size': (100,),\n",
    "    'layers': ([50, 10],),\n",
    "}\n",
    "\n",
    "tune (X_train, y_train, clf, param_grid, roc_scorer, n_jobs=1, verbose=True)"
   ]
  },
  {
   "cell_type": "markdown",
   "metadata": {},
   "source": [
    "Right now, 2 epochs and no regularization is best. Lets add more layers."
   ]
  },
  {
   "cell_type": "code",
   "execution_count": 10,
   "metadata": {
    "collapsed": false
   },
   "outputs": [
    {
     "name": "stdout",
     "output_type": "stream",
     "text": [
      "Epoch 1/2\n",
      "48643/48643 [==============================] - 26s - loss: 0.1219 - acc: 0.9467    \n",
      "Epoch 2/2\n",
      "48643/48643 [==============================] - 24s - loss: 0.0730 - acc: 0.9637    \n",
      "20847/20847 [==============================] - 6s     \n",
      "\n",
      "Best parameters set found:\n",
      "{'l': 1e-05, 'batch_size': 100, 'layers': [50, 50], 'nb_epoch': 2} 0.971459354387\n",
      "\n",
      "\n",
      "Grid scores:\n",
      "0.97146 (+/-0.00000) for {'l': 1e-05, 'batch_size': 100, 'layers': [50, 50], 'nb_epoch': 2}\n",
      "time: 1min 18s\n"
     ]
    }
   ],
   "source": [
    "# Deep EDP\n",
    "param_grid = {\n",
    "    'l': (0.00001,),\n",
    "    'nb_epoch' : (2,),\n",
    "    'batch_size': (100,),\n",
    "    'layers': ([50, 50],),\n",
    "}\n",
    "\n",
    "tune (X_train, y_train, clf, param_grid, roc_scorer, n_jobs=1, verbose=True)"
   ]
  },
  {
   "cell_type": "markdown",
   "metadata": {},
   "source": [
    "Adding more layers did not help."
   ]
  },
  {
   "cell_type": "markdown",
   "metadata": {},
   "source": [
    "### Linear EDP Tuning"
   ]
  },
  {
   "cell_type": "code",
   "execution_count": 11,
   "metadata": {
    "collapsed": false
   },
   "outputs": [
    {
     "name": "stdout",
     "output_type": "stream",
     "text": [
      "Epoch 1/1\n",
      "48643/48643 [==============================] - 15s - loss: 0.1629 - acc: 0.9337    \n",
      "20847/20847 [==============================] - 5s     \n",
      "Epoch 1/2\n",
      "48643/48643 [==============================] - 13s - loss: 0.1610 - acc: 0.9357    \n",
      "Epoch 2/2\n",
      "48643/48643 [==============================] - 9s - loss: 0.1007 - acc: 0.9520     \n",
      "20847/20847 [==============================] - 4s     \n",
      "Epoch 1/4\n",
      "48643/48643 [==============================] - 14s - loss: 0.1657 - acc: 0.9336    \n",
      "Epoch 2/4\n",
      "48643/48643 [==============================] - 9s - loss: 0.1032 - acc: 0.9511     \n",
      "Epoch 3/4\n",
      "48643/48643 [==============================] - 10s - loss: 0.0870 - acc: 0.9550    \n",
      "Epoch 4/4\n",
      "48643/48643 [==============================] - 9s - loss: 0.0802 - acc: 0.9567     \n",
      "20847/20847 [==============================] - 5s     \n",
      "Epoch 1/8\n",
      "48643/48643 [==============================] - 14s - loss: 0.1649 - acc: 0.9335    \n",
      "Epoch 2/8\n",
      "48643/48643 [==============================] - 9s - loss: 0.1026 - acc: 0.9507     \n",
      "Epoch 3/8\n",
      "48643/48643 [==============================] - 10s - loss: 0.0866 - acc: 0.9543    \n",
      "Epoch 4/8\n",
      "48643/48643 [==============================] - 9s - loss: 0.0800 - acc: 0.9559     \n",
      "Epoch 5/8\n",
      "48643/48643 [==============================] - 9s - loss: 0.0763 - acc: 0.9576     \n",
      "Epoch 6/8\n",
      "48643/48643 [==============================] - 12s - loss: 0.0739 - acc: 0.9587    \n",
      "Epoch 7/8\n",
      "48643/48643 [==============================] - 10s - loss: 0.0720 - acc: 0.9596    \n",
      "Epoch 8/8\n",
      "48643/48643 [==============================] - 9s - loss: 0.0705 - acc: 0.9601     \n",
      "20847/20847 [==============================] - 5s     \n",
      "Epoch 1/16\n",
      "48643/48643 [==============================] - 14s - loss: 0.1657 - acc: 0.9330    \n",
      "Epoch 2/16\n",
      "48643/48643 [==============================] - 9s - loss: 0.1032 - acc: 0.9507     \n",
      "Epoch 3/16\n",
      "48643/48643 [==============================] - 8s - loss: 0.0869 - acc: 0.9545     \n",
      "Epoch 4/16\n",
      "48643/48643 [==============================] - 9s - loss: 0.0801 - acc: 0.9568     \n",
      "Epoch 5/16\n",
      "48643/48643 [==============================] - 9s - loss: 0.0763 - acc: 0.9584     \n",
      "Epoch 6/16\n",
      "48643/48643 [==============================] - 9s - loss: 0.0738 - acc: 0.9590     \n",
      "Epoch 7/16\n",
      "48643/48643 [==============================] - 8s - loss: 0.0719 - acc: 0.9601     \n",
      "Epoch 8/16\n",
      "48643/48643 [==============================] - 9s - loss: 0.0704 - acc: 0.9612     \n",
      "Epoch 9/16\n",
      "48643/48643 [==============================] - 9s - loss: 0.0692 - acc: 0.9617     \n",
      "Epoch 10/16\n",
      "48643/48643 [==============================] - 9s - loss: 0.0682 - acc: 0.9625     \n",
      "Epoch 11/16\n",
      "48643/48643 [==============================] - 10s - loss: 0.0673 - acc: 0.9631    \n",
      "Epoch 12/16\n",
      "48643/48643 [==============================] - 9s - loss: 0.0666 - acc: 0.9633     \n",
      "Epoch 13/16\n",
      "48643/48643 [==============================] - 9s - loss: 0.0659 - acc: 0.9638     \n",
      "Epoch 14/16\n",
      "48643/48643 [==============================] - 9s - loss: 0.0653 - acc: 0.9639     \n",
      "Epoch 15/16\n",
      "48643/48643 [==============================] - 9s - loss: 0.0648 - acc: 0.9642     \n",
      "Epoch 16/16\n",
      "48643/48643 [==============================] - 9s - loss: 0.0643 - acc: 0.9643     \n",
      "20847/20847 [==============================] - 6s     \n",
      "\n",
      "Best parameters set found:\n",
      "{'l': 0, 'batch_size': 100, 'layers': [], 'nb_epoch': 16} 0.96878684001\n",
      "\n",
      "\n",
      "Grid scores:\n",
      "0.92534 (+/-0.00000) for {'l': 0, 'batch_size': 100, 'layers': [], 'nb_epoch': 1}\n",
      "0.95124 (+/-0.00000) for {'l': 0, 'batch_size': 100, 'layers': [], 'nb_epoch': 2}\n",
      "0.96415 (+/-0.00000) for {'l': 0, 'batch_size': 100, 'layers': [], 'nb_epoch': 4}\n",
      "0.96759 (+/-0.00000) for {'l': 0, 'batch_size': 100, 'layers': [], 'nb_epoch': 8}\n",
      "0.96879 (+/-0.00000) for {'l': 0, 'batch_size': 100, 'layers': [], 'nb_epoch': 16}\n",
      "time: 7min 12s\n"
     ]
    }
   ],
   "source": [
    "# Linear EDP\n",
    "param_grid = {\n",
    "    'l': (0,),\n",
    "    'nb_epoch' : (1,2,4,8,16),\n",
    "    'batch_size': (100,),\n",
    "    'layers': ([],),\n",
    "}\n",
    "\n",
    "tune (X_train, y_train, clf, param_grid, roc_scorer, n_jobs=1, verbose=True)"
   ]
  },
  {
   "cell_type": "markdown",
   "metadata": {},
   "source": [
    "We won't bother regularizing. Lets just tune epochs. Seems to max out at 8."
   ]
  },
  {
   "cell_type": "markdown",
   "metadata": {},
   "source": [
    "### Linear OH Tuning"
   ]
  },
  {
   "cell_type": "code",
   "execution_count": 12,
   "metadata": {
    "collapsed": false
   },
   "outputs": [
    {
     "name": "stdout",
     "output_type": "stream",
     "text": [
      "Epoch 1/1\n",
      "48643/48643 [==============================] - 14s - loss: 0.2398 - acc: 0.9292    \n",
      "20847/20847 [==============================] - 5s     \n",
      "Epoch 1/2\n",
      "48643/48643 [==============================] - 14s - loss: 0.2326 - acc: 0.9313    \n",
      "Epoch 2/2\n",
      "48643/48643 [==============================] - 9s - loss: 0.1601 - acc: 0.9468     \n",
      "20847/20847 [==============================] - 5s     \n",
      "Epoch 1/4\n",
      "48643/48643 [==============================] - 14s - loss: 0.2336 - acc: 0.9319    \n",
      "Epoch 2/4\n",
      "48643/48643 [==============================] - 9s - loss: 0.1584 - acc: 0.9480     \n",
      "Epoch 3/4\n",
      "48643/48643 [==============================] - 9s - loss: 0.1358 - acc: 0.9534     \n",
      "Epoch 4/4\n",
      "48643/48643 [==============================] - 10s - loss: 0.1231 - acc: 0.9561    \n",
      "20847/20847 [==============================] - 3s     \n",
      "Epoch 1/8\n",
      "48643/48643 [==============================] - 15s - loss: 0.2397 - acc: 0.9286    \n",
      "Epoch 2/8\n",
      "48643/48643 [==============================] - 9s - loss: 0.1617 - acc: 0.9472     \n",
      "Epoch 3/8\n",
      "48643/48643 [==============================] - 9s - loss: 0.1379 - acc: 0.9533     \n",
      "Epoch 4/8\n",
      "48643/48643 [==============================] - 9s - loss: 0.1243 - acc: 0.9563     \n",
      "Epoch 5/8\n",
      "48643/48643 [==============================] - 8s - loss: 0.1154 - acc: 0.9578     \n",
      "Epoch 6/8\n",
      "48643/48643 [==============================] - 9s - loss: 0.1092 - acc: 0.9595     \n",
      "Epoch 7/8\n",
      "48643/48643 [==============================] - 9s - loss: 0.1044 - acc: 0.9606     \n",
      "Epoch 8/8\n",
      "48643/48643 [==============================] - 9s - loss: 0.1007 - acc: 0.9617     \n",
      "20847/20847 [==============================] - 4s     \n",
      "Epoch 1/16\n",
      "48643/48643 [==============================] - 14s - loss: 0.2393 - acc: 0.9282    \n",
      "Epoch 2/16\n",
      "48643/48643 [==============================] - 9s - loss: 0.1625 - acc: 0.9461     \n",
      "Epoch 3/16\n",
      "48643/48643 [==============================] - 8s - loss: 0.1393 - acc: 0.9525     \n",
      "Epoch 4/16\n",
      "48643/48643 [==============================] - 9s - loss: 0.1262 - acc: 0.9551     \n",
      "Epoch 5/16\n",
      "48643/48643 [==============================] - 8s - loss: 0.1175 - acc: 0.9571     \n",
      "Epoch 6/16\n",
      "48643/48643 [==============================] - 9s - loss: 0.1114 - acc: 0.9587     \n",
      "Epoch 7/16\n",
      "48643/48643 [==============================] - 8s - loss: 0.1066 - acc: 0.9601     \n",
      "Epoch 8/16\n",
      "48643/48643 [==============================] - 9s - loss: 0.1028 - acc: 0.9613     \n",
      "Epoch 9/16\n",
      "48643/48643 [==============================] - 9s - loss: 0.0997 - acc: 0.9620     \n",
      "Epoch 10/16\n",
      "48643/48643 [==============================] - 9s - loss: 0.0971 - acc: 0.9633     \n",
      "Epoch 11/16\n",
      "48643/48643 [==============================] - 8s - loss: 0.0948 - acc: 0.9642     \n",
      "Epoch 12/16\n",
      "48643/48643 [==============================] - 8s - loss: 0.0927 - acc: 0.9651     \n",
      "Epoch 13/16\n",
      "48643/48643 [==============================] - 8s - loss: 0.0909 - acc: 0.9657     \n",
      "Epoch 14/16\n",
      "48643/48643 [==============================] - 9s - loss: 0.0892 - acc: 0.9667     \n",
      "Epoch 15/16\n",
      "48643/48643 [==============================] - 9s - loss: 0.0877 - acc: 0.9672     \n",
      "Epoch 16/16\n",
      "48643/48643 [==============================] - 9s - loss: 0.0863 - acc: 0.9679     \n",
      "20847/20847 [==============================] - 6s     \n",
      "\n",
      "Best parameters set found:\n",
      "{'l': 0, 'batch_size': 100, 'layers': [], 'nb_epoch': 16} 0.968500886258\n",
      "\n",
      "\n",
      "Grid scores:\n",
      "0.88712 (+/-0.00000) for {'l': 0, 'batch_size': 100, 'layers': [], 'nb_epoch': 1}\n",
      "0.92585 (+/-0.00000) for {'l': 0, 'batch_size': 100, 'layers': [], 'nb_epoch': 2}\n",
      "0.94910 (+/-0.00000) for {'l': 0, 'batch_size': 100, 'layers': [], 'nb_epoch': 4}\n",
      "0.96034 (+/-0.00000) for {'l': 0, 'batch_size': 100, 'layers': [], 'nb_epoch': 8}\n",
      "0.96850 (+/-0.00000) for {'l': 0, 'batch_size': 100, 'layers': [], 'nb_epoch': 16}\n",
      "time: 6min 58s\n"
     ]
    }
   ],
   "source": [
    "# Linear OH\n",
    "param_grid = {\n",
    "    'l': (0,),\n",
    "    'nb_epoch' : (1,2,4,8,16),\n",
    "    'batch_size': (100,),\n",
    "    'layers': ([],),\n",
    "}\n",
    "\n",
    "tune (X_train, one_hot(y_train), clf, param_grid, roc_scorer, n_jobs=1, verbose=True)"
   ]
  },
  {
   "cell_type": "markdown",
   "metadata": {},
   "source": [
    "Lets try more epochs."
   ]
  },
  {
   "cell_type": "code",
   "execution_count": 13,
   "metadata": {
    "collapsed": false
   },
   "outputs": [
    {
     "name": "stdout",
     "output_type": "stream",
     "text": [
      "Epoch 1/24\n",
      "48643/48643 [==============================] - 14s - loss: 0.2379 - acc: 0.9283    \n",
      "Epoch 2/24\n",
      "48643/48643 [==============================] - 9s - loss: 0.1631 - acc: 0.9461     \n",
      "Epoch 3/24\n",
      "48643/48643 [==============================] - 9s - loss: 0.1402 - acc: 0.9518     \n",
      "Epoch 4/24\n",
      "48643/48643 [==============================] - 9s - loss: 0.1271 - acc: 0.9546     \n",
      "Epoch 5/24\n",
      "48643/48643 [==============================] - 9s - loss: 0.1185 - acc: 0.9564     \n",
      "Epoch 6/24\n",
      "48643/48643 [==============================] - 9s - loss: 0.1123 - acc: 0.9580     \n",
      "Epoch 7/24\n",
      "48643/48643 [==============================] - 7s - loss: 0.1077 - acc: 0.9592     \n",
      "Epoch 8/24\n",
      "48643/48643 [==============================] - 7s - loss: 0.1040 - acc: 0.9603     \n",
      "Epoch 9/24\n",
      "48643/48643 [==============================] - 7s - loss: 0.1009 - acc: 0.9616     \n",
      "Epoch 10/24\n",
      "48643/48643 [==============================] - 8s - loss: 0.0983 - acc: 0.9626     \n",
      "Epoch 11/24\n",
      "48643/48643 [==============================] - 8s - loss: 0.0960 - acc: 0.9634     \n",
      "Epoch 12/24\n",
      "48643/48643 [==============================] - 8s - loss: 0.0940 - acc: 0.9641     \n",
      "Epoch 13/24\n",
      "48643/48643 [==============================] - 7s - loss: 0.0922 - acc: 0.9648     \n",
      "Epoch 14/24\n",
      "48643/48643 [==============================] - 7s - loss: 0.0905 - acc: 0.9656     \n",
      "Epoch 15/24\n",
      "48643/48643 [==============================] - 7s - loss: 0.0890 - acc: 0.9660     \n",
      "Epoch 16/24\n",
      "48643/48643 [==============================] - 7s - loss: 0.0876 - acc: 0.9671     \n",
      "Epoch 17/24\n",
      "48643/48643 [==============================] - 7s - loss: 0.0863 - acc: 0.9676     \n",
      "Epoch 18/24\n",
      "48643/48643 [==============================] - 7s - loss: 0.0851 - acc: 0.9684     \n",
      "Epoch 19/24\n",
      "48643/48643 [==============================] - 7s - loss: 0.0839 - acc: 0.9684     \n",
      "Epoch 20/24\n",
      "48643/48643 [==============================] - 7s - loss: 0.0829 - acc: 0.9691     \n",
      "Epoch 21/24\n",
      "48643/48643 [==============================] - 7s - loss: 0.0819 - acc: 0.9694     \n",
      "Epoch 22/24\n",
      "48643/48643 [==============================] - 7s - loss: 0.0809 - acc: 0.9702     \n",
      "Epoch 23/24\n",
      "48643/48643 [==============================] - 7s - loss: 0.0800 - acc: 0.9702     \n",
      "Epoch 24/24\n",
      "48643/48643 [==============================] - 7s - loss: 0.0792 - acc: 0.9706     \n",
      "20847/20847 [==============================] - 6s     \n",
      "Epoch 1/32\n",
      "48643/48643 [==============================] - 12s - loss: 0.2408 - acc: 0.9281    \n",
      "Epoch 2/32\n",
      "48643/48643 [==============================] - 8s - loss: 0.1639 - acc: 0.9453     \n",
      "Epoch 3/32\n",
      "48643/48643 [==============================] - 7s - loss: 0.1404 - acc: 0.9515     \n",
      "Epoch 4/32\n",
      "48643/48643 [==============================] - 8s - loss: 0.1272 - acc: 0.9544     \n",
      "Epoch 5/32\n",
      "48643/48643 [==============================] - 8s - loss: 0.1186 - acc: 0.9564     \n",
      "Epoch 6/32\n",
      "48643/48643 [==============================] - 8s - loss: 0.1124 - acc: 0.9580     \n",
      "Epoch 7/32\n",
      "48643/48643 [==============================] - 8s - loss: 0.1078 - acc: 0.9592     \n",
      "Epoch 8/32\n",
      "48643/48643 [==============================] - 8s - loss: 0.1041 - acc: 0.9601     \n",
      "Epoch 9/32\n",
      "48643/48643 [==============================] - 8s - loss: 0.1011 - acc: 0.9613     \n",
      "Epoch 10/32\n",
      "48643/48643 [==============================] - 8s - loss: 0.0985 - acc: 0.9622     \n",
      "Epoch 11/32\n",
      "48643/48643 [==============================] - 8s - loss: 0.0962 - acc: 0.9631     \n",
      "Epoch 12/32\n",
      "48643/48643 [==============================] - 8s - loss: 0.0942 - acc: 0.9638     \n",
      "Epoch 13/32\n",
      "48643/48643 [==============================] - 8s - loss: 0.0924 - acc: 0.9644     \n",
      "Epoch 14/32\n",
      "48643/48643 [==============================] - 8s - loss: 0.0908 - acc: 0.9653     \n",
      "Epoch 15/32\n",
      "48643/48643 [==============================] - 8s - loss: 0.0893 - acc: 0.9655     \n",
      "Epoch 16/32\n",
      "48643/48643 [==============================] - 7s - loss: 0.0879 - acc: 0.9663     \n",
      "Epoch 17/32\n",
      "48643/48643 [==============================] - 8s - loss: 0.0867 - acc: 0.9670     \n",
      "Epoch 18/32\n",
      "48643/48643 [==============================] - 8s - loss: 0.0855 - acc: 0.9672     \n",
      "Epoch 19/32\n",
      "48643/48643 [==============================] - 8s - loss: 0.0844 - acc: 0.9676     \n",
      "Epoch 20/32\n",
      "48643/48643 [==============================] - 8s - loss: 0.0833 - acc: 0.9681     \n",
      "Epoch 21/32\n",
      "48643/48643 [==============================] - 8s - loss: 0.0823 - acc: 0.9684     \n",
      "Epoch 22/32\n",
      "48643/48643 [==============================] - 8s - loss: 0.0814 - acc: 0.9689     \n",
      "Epoch 23/32\n",
      "48643/48643 [==============================] - 10s - loss: 0.0806 - acc: 0.9693    \n",
      "Epoch 24/32\n",
      "48643/48643 [==============================] - 9s - loss: 0.0797 - acc: 0.9696     \n",
      "Epoch 25/32\n",
      "48643/48643 [==============================] - 8s - loss: 0.0789 - acc: 0.9700     \n",
      "Epoch 26/32\n",
      "48643/48643 [==============================] - 9s - loss: 0.0781 - acc: 0.9705     \n",
      "Epoch 27/32\n",
      "48643/48643 [==============================] - 9s - loss: 0.0774 - acc: 0.9708     \n",
      "Epoch 28/32\n",
      "48643/48643 [==============================] - 9s - loss: 0.0767 - acc: 0.9711     \n",
      "Epoch 29/32\n",
      "48643/48643 [==============================] - 9s - loss: 0.0760 - acc: 0.9712     \n",
      "Epoch 30/32\n",
      "48643/48643 [==============================] - 9s - loss: 0.0754 - acc: 0.9718     \n",
      "Epoch 31/32\n",
      "48643/48643 [==============================] - 9s - loss: 0.0747 - acc: 0.9720     \n",
      "Epoch 32/32\n",
      "48643/48643 [==============================] - 9s - loss: 0.0741 - acc: 0.9720     \n",
      "20847/20847 [==============================] - 7s     \n",
      "\n",
      "Best parameters set found:\n",
      "{'l': 0, 'batch_size': 100, 'layers': [], 'nb_epoch': 24} 0.96786613038\n",
      "\n",
      "\n",
      "Grid scores:\n",
      "0.96787 (+/-0.00000) for {'l': 0, 'batch_size': 100, 'layers': [], 'nb_epoch': 24}\n",
      "0.96545 (+/-0.00000) for {'l': 0, 'batch_size': 100, 'layers': [], 'nb_epoch': 32}\n",
      "time: 8min 44s\n"
     ]
    }
   ],
   "source": [
    "param_grid = {\n",
    "    'l': (0,),\n",
    "    'nb_epoch' : (24, 32),\n",
    "    'batch_size': (100,),\n",
    "    'layers': ([],),\n",
    "}\n",
    "\n",
    "tune (X_train, one_hot(y_train), clf, param_grid, roc_scorer, n_jobs=1, verbose=True)"
   ]
  },
  {
   "cell_type": "markdown",
   "metadata": {},
   "source": [
    "ok, so 24 is enough for oh."
   ]
  },
  {
   "cell_type": "markdown",
   "metadata": {},
   "source": [
    "### Eval SKlearn"
   ]
  },
  {
   "cell_type": "code",
   "execution_count": 14,
   "metadata": {
    "collapsed": false
   },
   "outputs": [
    {
     "name": "stdout",
     "output_type": "stream",
     "text": [
      "time: 2min 54s\n"
     ]
    }
   ],
   "source": [
    "sk_model = LogisticRegression(C = 5.0,  solver = 'sag')\n",
    "sk_model.fit(X_train, y_train.argmax(axis = 1))\n",
    "roc_df, spearman_df = test_cross(sk_model, data, xtype)"
   ]
  },
  {
   "cell_type": "code",
   "execution_count": 15,
   "metadata": {
    "collapsed": false
   },
   "outputs": [
    {
     "data": {
      "text/html": [
       "<div>\n",
       "<table border=\"1\" class=\"dataframe\">\n",
       "  <thead>\n",
       "    <tr style=\"text-align: right;\">\n",
       "      <th></th>\n",
       "      <th>random</th>\n",
       "      <th>blocked</th>\n",
       "      <th>both</th>\n",
       "    </tr>\n",
       "  </thead>\n",
       "  <tbody>\n",
       "    <tr>\n",
       "      <th>user</th>\n",
       "      <td>0.970353</td>\n",
       "      <td>0.950904</td>\n",
       "      <td>0.962050</td>\n",
       "    </tr>\n",
       "    <tr>\n",
       "      <th>article</th>\n",
       "      <td>0.984210</td>\n",
       "      <td>0.961690</td>\n",
       "      <td>0.971057</td>\n",
       "    </tr>\n",
       "    <tr>\n",
       "      <th>both</th>\n",
       "      <td>0.976639</td>\n",
       "      <td>0.961531</td>\n",
       "      <td>0.971018</td>\n",
       "    </tr>\n",
       "  </tbody>\n",
       "</table>\n",
       "</div>"
      ],
      "text/plain": [
       "           random   blocked      both\n",
       "user     0.970353  0.950904  0.962050\n",
       "article  0.984210  0.961690  0.971057\n",
       "both     0.976639  0.961531  0.971018"
      ]
     },
     "execution_count": 15,
     "metadata": {},
     "output_type": "execute_result"
    },
    {
     "name": "stdout",
     "output_type": "stream",
     "text": [
      "time: 130 ms\n"
     ]
    }
   ],
   "source": [
    "roc_df"
   ]
  },
  {
   "cell_type": "code",
   "execution_count": 16,
   "metadata": {
    "collapsed": false
   },
   "outputs": [
    {
     "data": {
      "text/html": [
       "<div>\n",
       "<table border=\"1\" class=\"dataframe\">\n",
       "  <thead>\n",
       "    <tr style=\"text-align: right;\">\n",
       "      <th></th>\n",
       "      <th>random</th>\n",
       "      <th>blocked</th>\n",
       "      <th>both</th>\n",
       "    </tr>\n",
       "  </thead>\n",
       "  <tbody>\n",
       "    <tr>\n",
       "      <th>user</th>\n",
       "      <td>0.278527</td>\n",
       "      <td>0.659034</td>\n",
       "      <td>0.618601</td>\n",
       "    </tr>\n",
       "    <tr>\n",
       "      <th>article</th>\n",
       "      <td>0.213853</td>\n",
       "      <td>0.459341</td>\n",
       "      <td>0.400398</td>\n",
       "    </tr>\n",
       "    <tr>\n",
       "      <th>both</th>\n",
       "      <td>0.266567</td>\n",
       "      <td>0.631916</td>\n",
       "      <td>0.575014</td>\n",
       "    </tr>\n",
       "  </tbody>\n",
       "</table>\n",
       "</div>"
      ],
      "text/plain": [
       "           random   blocked      both\n",
       "user     0.278527  0.659034  0.618601\n",
       "article  0.213853  0.459341  0.400398\n",
       "both     0.266567  0.631916  0.575014"
      ]
     },
     "execution_count": 16,
     "metadata": {},
     "output_type": "execute_result"
    },
    {
     "name": "stdout",
     "output_type": "stream",
     "text": [
      "time: 5.11 ms\n"
     ]
    }
   ],
   "source": [
    "spearman_df"
   ]
  },
  {
   "cell_type": "markdown",
   "metadata": {},
   "source": [
    "### Eval OH"
   ]
  },
  {
   "cell_type": "code",
   "execution_count": 17,
   "metadata": {
    "collapsed": false
   },
   "outputs": [
    {
     "name": "stdout",
     "output_type": "stream",
     "text": [
      "Epoch 1/24\n",
      "69490/69490 [==============================] - 19s - loss: 0.2165 - acc: 0.9341    \n",
      "Epoch 2/24\n",
      "69490/69490 [==============================] - 15s - loss: 0.1462 - acc: 0.9513    \n",
      "Epoch 3/24\n",
      "69490/69490 [==============================] - 14s - loss: 0.1262 - acc: 0.9552    \n",
      "Epoch 4/24\n",
      "69490/69490 [==============================] - 14s - loss: 0.1155 - acc: 0.9576    \n",
      "Epoch 5/24\n",
      "69490/69490 [==============================] - 13s - loss: 0.1088 - acc: 0.9593    \n",
      "Epoch 6/24\n",
      "69490/69490 [==============================] - 13s - loss: 0.1042 - acc: 0.9606    \n",
      "Epoch 7/24\n",
      "69490/69490 [==============================] - 13s - loss: 0.1006 - acc: 0.9618    \n",
      "Epoch 8/24\n",
      "69490/69490 [==============================] - 14s - loss: 0.0978 - acc: 0.9628    \n",
      "Epoch 9/24\n",
      "69490/69490 [==============================] - 12s - loss: 0.0954 - acc: 0.9637    \n",
      "Epoch 10/24\n",
      "69490/69490 [==============================] - 13s - loss: 0.0934 - acc: 0.9644    \n",
      "Epoch 11/24\n",
      "69490/69490 [==============================] - 15s - loss: 0.0916 - acc: 0.9649    \n",
      "Epoch 12/24\n",
      "69490/69490 [==============================] - 14s - loss: 0.0900 - acc: 0.9658    \n",
      "Epoch 13/24\n",
      "69490/69490 [==============================] - 14s - loss: 0.0886 - acc: 0.9659    \n",
      "Epoch 14/24\n",
      "69490/69490 [==============================] - 14s - loss: 0.0873 - acc: 0.9669    \n",
      "Epoch 15/24\n",
      "69490/69490 [==============================] - 14s - loss: 0.0861 - acc: 0.9672    \n",
      "Epoch 16/24\n",
      "69490/69490 [==============================] - 13s - loss: 0.0851 - acc: 0.9676    \n",
      "Epoch 17/24\n",
      "69490/69490 [==============================] - 15s - loss: 0.0841 - acc: 0.9681    \n",
      "Epoch 18/24\n",
      "69490/69490 [==============================] - 13s - loss: 0.0831 - acc: 0.9684    \n",
      "Epoch 19/24\n",
      "69490/69490 [==============================] - 14s - loss: 0.0822 - acc: 0.9688    \n",
      "Epoch 20/24\n",
      "69490/69490 [==============================] - 15s - loss: 0.0814 - acc: 0.9692    \n",
      "Epoch 21/24\n",
      "69490/69490 [==============================] - 11s - loss: 0.0806 - acc: 0.9698    \n",
      "Epoch 22/24\n",
      "69490/69490 [==============================] - 12s - loss: 0.0799 - acc: 0.9699    \n",
      "Epoch 23/24\n",
      "69490/69490 [==============================] - 13s - loss: 0.0792 - acc: 0.9701    \n",
      "Epoch 24/24\n",
      "69490/69490 [==============================] - 13s - loss: 0.0786 - acc: 0.9706    \n",
      "3661/3661 [==============================] - 1s     \n",
      "9295/9295 [==============================] - 2s     \n",
      "12956/12956 [==============================] - 1s     \n",
      "7564/7564 [==============================] - 0s     \n",
      "23168/23168 [==============================] - 3s     \n",
      "time: 6min 28s\n"
     ]
    }
   ],
   "source": [
    "oh_linear_model =  KerasClassifier(build_fn=make_MLP,\n",
    "                               output_dim = n_classes,\n",
    "                               input_dim = 10000,\n",
    "                               nb_epoch = 24,\n",
    "                               batch_size = 100,\n",
    "                               l = 0.0, \n",
    "                               layers = [])\n",
    "oh_linear_model.fit(X_train, one_hot(y_train))\n",
    "roc_df, spearman_df = test_cross(oh_linear_model, data, xtype)"
   ]
  },
  {
   "cell_type": "code",
   "execution_count": 18,
   "metadata": {
    "collapsed": false
   },
   "outputs": [
    {
     "data": {
      "text/html": [
       "<div>\n",
       "<table border=\"1\" class=\"dataframe\">\n",
       "  <thead>\n",
       "    <tr style=\"text-align: right;\">\n",
       "      <th></th>\n",
       "      <th>random</th>\n",
       "      <th>blocked</th>\n",
       "      <th>both</th>\n",
       "    </tr>\n",
       "  </thead>\n",
       "  <tbody>\n",
       "    <tr>\n",
       "      <th>user</th>\n",
       "      <td>0.969787</td>\n",
       "      <td>0.948379</td>\n",
       "      <td>0.960182</td>\n",
       "    </tr>\n",
       "    <tr>\n",
       "      <th>article</th>\n",
       "      <td>0.981267</td>\n",
       "      <td>0.958139</td>\n",
       "      <td>0.967912</td>\n",
       "    </tr>\n",
       "    <tr>\n",
       "      <th>both</th>\n",
       "      <td>0.975125</td>\n",
       "      <td>0.959363</td>\n",
       "      <td>0.969359</td>\n",
       "    </tr>\n",
       "  </tbody>\n",
       "</table>\n",
       "</div>"
      ],
      "text/plain": [
       "           random   blocked      both\n",
       "user     0.969787  0.948379  0.960182\n",
       "article  0.981267  0.958139  0.967912\n",
       "both     0.975125  0.959363  0.969359"
      ]
     },
     "execution_count": 18,
     "metadata": {},
     "output_type": "execute_result"
    },
    {
     "name": "stdout",
     "output_type": "stream",
     "text": [
      "time: 27 ms\n"
     ]
    }
   ],
   "source": [
    "roc_df"
   ]
  },
  {
   "cell_type": "code",
   "execution_count": 19,
   "metadata": {
    "collapsed": false
   },
   "outputs": [
    {
     "data": {
      "text/html": [
       "<div>\n",
       "<table border=\"1\" class=\"dataframe\">\n",
       "  <thead>\n",
       "    <tr style=\"text-align: right;\">\n",
       "      <th></th>\n",
       "      <th>random</th>\n",
       "      <th>blocked</th>\n",
       "      <th>both</th>\n",
       "    </tr>\n",
       "  </thead>\n",
       "  <tbody>\n",
       "    <tr>\n",
       "      <th>user</th>\n",
       "      <td>0.255819</td>\n",
       "      <td>0.648793</td>\n",
       "      <td>0.610686</td>\n",
       "    </tr>\n",
       "    <tr>\n",
       "      <th>article</th>\n",
       "      <td>0.191033</td>\n",
       "      <td>0.431866</td>\n",
       "      <td>0.374976</td>\n",
       "    </tr>\n",
       "    <tr>\n",
       "      <th>both</th>\n",
       "      <td>0.242285</td>\n",
       "      <td>0.616492</td>\n",
       "      <td>0.560035</td>\n",
       "    </tr>\n",
       "  </tbody>\n",
       "</table>\n",
       "</div>"
      ],
      "text/plain": [
       "           random   blocked      both\n",
       "user     0.255819  0.648793  0.610686\n",
       "article  0.191033  0.431866  0.374976\n",
       "both     0.242285  0.616492  0.560035"
      ]
     },
     "execution_count": 19,
     "metadata": {},
     "output_type": "execute_result"
    },
    {
     "name": "stdout",
     "output_type": "stream",
     "text": [
      "time: 7.37 ms\n"
     ]
    }
   ],
   "source": [
    "spearman_df"
   ]
  },
  {
   "cell_type": "markdown",
   "metadata": {},
   "source": [
    "### Eval Linear EDP"
   ]
  },
  {
   "cell_type": "code",
   "execution_count": 20,
   "metadata": {
    "collapsed": false
   },
   "outputs": [
    {
     "name": "stdout",
     "output_type": "stream",
     "text": [
      "Epoch 1/8\n",
      "69490/69490 [==============================] - 19s - loss: 0.1494 - acc: 0.9379    \n",
      "Epoch 2/8\n",
      "69490/69490 [==============================] - 12s - loss: 0.0921 - acc: 0.9532    \n",
      "Epoch 3/8\n",
      "69490/69490 [==============================] - 13s - loss: 0.0807 - acc: 0.9556    \n",
      "Epoch 4/8\n",
      "69490/69490 [==============================] - 13s - loss: 0.0762 - acc: 0.9576    \n",
      "Epoch 5/8\n",
      "69490/69490 [==============================] - 12s - loss: 0.0734 - acc: 0.9591    \n",
      "Epoch 6/8\n",
      "69490/69490 [==============================] - 15s - loss: 0.0715 - acc: 0.9603    \n",
      "Epoch 7/8\n",
      "69490/69490 [==============================] - 11s - loss: 0.0701 - acc: 0.9609    \n",
      "Epoch 8/8\n",
      "69490/69490 [==============================] - 8s - loss: 0.0690 - acc: 0.9617     \n",
      "3661/3661 [==============================] - 1s     \n",
      "9295/9295 [==============================] - 2s     \n",
      "10212/10212 [==============================] - 0s     \n",
      "15604/15604 [==============================] - 1s     \n",
      "23100/23168 [============================>.] - ETA: 0stime: 2min 21s\n"
     ]
    }
   ],
   "source": [
    "ed_linear_model =  KerasClassifier(build_fn=make_MLP,\n",
    "                               output_dim = n_classes,\n",
    "                               input_dim = 10000,\n",
    "                               nb_epoch = 8,\n",
    "                               batch_size = 100,\n",
    "                               l = 0.0, \n",
    "                               layers = [])\n",
    "ed_linear_model.fit(X_train, y_train)\n",
    "roc_df, spearman_df = test_cross(ed_linear_model, data, xtype)"
   ]
  },
  {
   "cell_type": "code",
   "execution_count": 21,
   "metadata": {
    "collapsed": false
   },
   "outputs": [
    {
     "data": {
      "text/html": [
       "<div>\n",
       "<table border=\"1\" class=\"dataframe\">\n",
       "  <thead>\n",
       "    <tr style=\"text-align: right;\">\n",
       "      <th></th>\n",
       "      <th>random</th>\n",
       "      <th>blocked</th>\n",
       "      <th>both</th>\n",
       "    </tr>\n",
       "  </thead>\n",
       "  <tbody>\n",
       "    <tr>\n",
       "      <th>user</th>\n",
       "      <td>0.975772</td>\n",
       "      <td>0.944069</td>\n",
       "      <td>0.958246</td>\n",
       "    </tr>\n",
       "    <tr>\n",
       "      <th>article</th>\n",
       "      <td>0.991171</td>\n",
       "      <td>0.964421</td>\n",
       "      <td>0.974460</td>\n",
       "    </tr>\n",
       "    <tr>\n",
       "      <th>both</th>\n",
       "      <td>0.983513</td>\n",
       "      <td>0.957845</td>\n",
       "      <td>0.969501</td>\n",
       "    </tr>\n",
       "  </tbody>\n",
       "</table>\n",
       "</div>"
      ],
      "text/plain": [
       "           random   blocked      both\n",
       "user     0.975772  0.944069  0.958246\n",
       "article  0.991171  0.964421  0.974460\n",
       "both     0.983513  0.957845  0.969501"
      ]
     },
     "execution_count": 21,
     "metadata": {},
     "output_type": "execute_result"
    },
    {
     "name": "stdout",
     "output_type": "stream",
     "text": [
      "time: 17.5 ms\n"
     ]
    }
   ],
   "source": [
    "roc_df"
   ]
  },
  {
   "cell_type": "code",
   "execution_count": 22,
   "metadata": {
    "collapsed": false
   },
   "outputs": [
    {
     "data": {
      "text/html": [
       "<div>\n",
       "<table border=\"1\" class=\"dataframe\">\n",
       "  <thead>\n",
       "    <tr style=\"text-align: right;\">\n",
       "      <th></th>\n",
       "      <th>random</th>\n",
       "      <th>blocked</th>\n",
       "      <th>both</th>\n",
       "    </tr>\n",
       "  </thead>\n",
       "  <tbody>\n",
       "    <tr>\n",
       "      <th>user</th>\n",
       "      <td>0.346891</td>\n",
       "      <td>0.681444</td>\n",
       "      <td>0.667261</td>\n",
       "    </tr>\n",
       "    <tr>\n",
       "      <th>article</th>\n",
       "      <td>0.269424</td>\n",
       "      <td>0.504134</td>\n",
       "      <td>0.448813</td>\n",
       "    </tr>\n",
       "    <tr>\n",
       "      <th>both</th>\n",
       "      <td>0.324016</td>\n",
       "      <td>0.669948</td>\n",
       "      <td>0.626885</td>\n",
       "    </tr>\n",
       "  </tbody>\n",
       "</table>\n",
       "</div>"
      ],
      "text/plain": [
       "           random   blocked      both\n",
       "user     0.346891  0.681444  0.667261\n",
       "article  0.269424  0.504134  0.448813\n",
       "both     0.324016  0.669948  0.626885"
      ]
     },
     "execution_count": 22,
     "metadata": {},
     "output_type": "execute_result"
    },
    {
     "name": "stdout",
     "output_type": "stream",
     "text": [
      "time: 7.44 ms\n"
     ]
    }
   ],
   "source": [
    "spearman_df"
   ]
  },
  {
   "cell_type": "markdown",
   "metadata": {},
   "source": [
    "### Eval Deep EDP"
   ]
  },
  {
   "cell_type": "code",
   "execution_count": 23,
   "metadata": {
    "collapsed": false
   },
   "outputs": [
    {
     "name": "stdout",
     "output_type": "stream",
     "text": [
      "Epoch 1/2\n",
      "69490/69490 [==============================] - 23s - loss: 0.1128 - acc: 0.9491    \n",
      "Epoch 2/2\n",
      "69490/69490 [==============================] - 20s - loss: 0.0678 - acc: 0.9631    \n",
      "3661/3661 [==============================] - 1s     \n",
      "9295/9295 [==============================] - 2s     \n",
      "7564/7564 [==============================] - 0s     \n",
      "23168/23168 [==============================] - 2s     \n",
      "time: 1min 21s\n"
     ]
    }
   ],
   "source": [
    "deep_model =  KerasClassifier(build_fn=make_MLP,\n",
    "                               output_dim = n_classes,\n",
    "                               input_dim = 10000,\n",
    "                               nb_epoch = 2,\n",
    "                               batch_size = 100,\n",
    "                               l = 0.000001, \n",
    "                               layers = [50, 10])\n",
    "deep_model.fit(X_train, y_train)\n",
    "roc_df, spearman_df = test_cross(deep_model, data, xtype)"
   ]
  },
  {
   "cell_type": "code",
   "execution_count": 24,
   "metadata": {
    "collapsed": false
   },
   "outputs": [
    {
     "data": {
      "text/html": [
       "<div>\n",
       "<table border=\"1\" class=\"dataframe\">\n",
       "  <thead>\n",
       "    <tr style=\"text-align: right;\">\n",
       "      <th></th>\n",
       "      <th>random</th>\n",
       "      <th>blocked</th>\n",
       "      <th>both</th>\n",
       "    </tr>\n",
       "  </thead>\n",
       "  <tbody>\n",
       "    <tr>\n",
       "      <th>user</th>\n",
       "      <td>0.982905</td>\n",
       "      <td>0.952612</td>\n",
       "      <td>0.964786</td>\n",
       "    </tr>\n",
       "    <tr>\n",
       "      <th>article</th>\n",
       "      <td>0.990844</td>\n",
       "      <td>0.968696</td>\n",
       "      <td>0.977477</td>\n",
       "    </tr>\n",
       "    <tr>\n",
       "      <th>both</th>\n",
       "      <td>0.986590</td>\n",
       "      <td>0.963654</td>\n",
       "      <td>0.973764</td>\n",
       "    </tr>\n",
       "  </tbody>\n",
       "</table>\n",
       "</div>"
      ],
      "text/plain": [
       "           random   blocked      both\n",
       "user     0.982905  0.952612  0.964786\n",
       "article  0.990844  0.968696  0.977477\n",
       "both     0.986590  0.963654  0.973764"
      ]
     },
     "execution_count": 24,
     "metadata": {},
     "output_type": "execute_result"
    },
    {
     "name": "stdout",
     "output_type": "stream",
     "text": [
      "time: 9.38 ms\n"
     ]
    }
   ],
   "source": [
    "roc_df"
   ]
  },
  {
   "cell_type": "code",
   "execution_count": 25,
   "metadata": {
    "collapsed": false
   },
   "outputs": [
    {
     "data": {
      "text/html": [
       "<div>\n",
       "<table border=\"1\" class=\"dataframe\">\n",
       "  <thead>\n",
       "    <tr style=\"text-align: right;\">\n",
       "      <th></th>\n",
       "      <th>random</th>\n",
       "      <th>blocked</th>\n",
       "      <th>both</th>\n",
       "    </tr>\n",
       "  </thead>\n",
       "  <tbody>\n",
       "    <tr>\n",
       "      <th>user</th>\n",
       "      <td>0.363159</td>\n",
       "      <td>0.696743</td>\n",
       "      <td>0.679782</td>\n",
       "    </tr>\n",
       "    <tr>\n",
       "      <th>article</th>\n",
       "      <td>0.283623</td>\n",
       "      <td>0.520916</td>\n",
       "      <td>0.463992</td>\n",
       "    </tr>\n",
       "    <tr>\n",
       "      <th>both</th>\n",
       "      <td>0.339268</td>\n",
       "      <td>0.682929</td>\n",
       "      <td>0.638563</td>\n",
       "    </tr>\n",
       "  </tbody>\n",
       "</table>\n",
       "</div>"
      ],
      "text/plain": [
       "           random   blocked      both\n",
       "user     0.363159  0.696743  0.679782\n",
       "article  0.283623  0.520916  0.463992\n",
       "both     0.339268  0.682929  0.638563"
      ]
     },
     "execution_count": 25,
     "metadata": {},
     "output_type": "execute_result"
    },
    {
     "name": "stdout",
     "output_type": "stream",
     "text": [
      "time: 5.31 ms\n"
     ]
    }
   ],
   "source": [
    "spearman_df"
   ]
  },
  {
   "cell_type": "markdown",
   "metadata": {},
   "source": [
    "### Check Calibration"
   ]
  },
  {
   "cell_type": "code",
   "execution_count": 26,
   "metadata": {
    "collapsed": false,
    "scrolled": false
   },
   "outputs": [
    {
     "name": "stdout",
     "output_type": "stream",
     "text": [
      "23100/23168 [============================>.] - ETA: 0s"
     ]
    },
    {
     "data": {
      "image/png": "[encoded data removed]",
      "text/plain": [
       "<matplotlib.figure.Figure at 0x1714c0898>"
      ]
     },
     "metadata": {},
     "output_type": "display_data"
    },
    {
     "data": {
      "text/plain": [
       "<matplotlib.figure.Figure at 0x1714c00b8>"
      ]
     },
     "metadata": {},
     "output_type": "display_data"
    },
    {
     "name": "stdout",
     "output_type": "stream",
     "text": [
      "time: 5.85 s\n"
     ]
    }
   ],
   "source": [
    "y_test_oh = one_hot(y_test)\n",
    "y_pred_ed = ed_linear_model.predict_proba(X_test)\n",
    "\n",
    "if n_classes > 2:\n",
    "    classes = range(n_classes)\n",
    "else:\n",
    "    classes = [1]\n",
    "\n",
    "for i in classes:\n",
    "    plt.figure()\n",
    "    calibration_curve_plotter(y_test_oh[:, i], y_pred_ed[:, i])\n",
    "    plt.show()"
   ]
  },
  {
   "cell_type": "code",
   "execution_count": null,
   "metadata": {
    "collapsed": true
   },
   "outputs": [],
   "source": []
  }
 ],
 "metadata": {
  "kernelspec": {
   "display_name": "Python 3",
   "language": "python",
   "name": "python3"
  },
  "language_info": {
   "codemirror_mode": {
    "name": "ipython",
    "version": 3
   },
   "file_extension": ".py",
   "mimetype": "text/x-python",
   "name": "python",
   "nbconvert_exporter": "python",
   "pygments_lexer": "ipython3",
   "version": "3.5.1"
  }
 },
 "nbformat": 4,
 "nbformat_minor": 0
}
