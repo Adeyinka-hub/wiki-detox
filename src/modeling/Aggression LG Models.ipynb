{
 "cells": [
  {
   "cell_type": "code",
   "execution_count": 1,
   "metadata": {
    "collapsed": false
   },
   "outputs": [],
   "source": [
    "%load_ext autoreload\n",
    "%autoreload 2\n",
    "%matplotlib inline\n",
    "%load_ext autotime\n",
    "\n",
    "from ngram import *\n",
    "from baselines import *\n",
    "from error_analysis import *\n",
    "pd.options.mode.chained_assignment = None"
   ]
  },
  {
   "cell_type": "markdown",
   "metadata": {},
   "source": [
    "### Load Annotated Data"
   ]
  },
  {
   "cell_type": "code",
   "execution_count": 2,
   "metadata": {
    "collapsed": false
   },
   "outputs": [
    {
     "name": "stdout",
     "output_type": "stream",
     "text": [
      "time: 1.96 ms\n"
     ]
    }
   ],
   "source": [
    "task = 'aggression'\n",
    "xtype = 'comments'\n",
    "ytype = 'plurality'\n",
    "n_classes = 3"
   ]
  },
  {
   "cell_type": "code",
   "execution_count": 3,
   "metadata": {
    "collapsed": false
   },
   "outputs": [
    {
     "name": "stdout",
     "output_type": "stream",
     "text": [
      "time: 1min 53s\n"
     ]
    }
   ],
   "source": [
    "data = load_comments_and_labels(task)\n",
    "X_train, y_train = assemble_data(data, xtype, ytype, splits = ['train'])\n",
    "X_test, y_test = assemble_data(data, xtype, 'empirical_dist', splits = ['test'])"
   ]
  },
  {
   "cell_type": "markdown",
   "metadata": {
    "collapsed": true
   },
   "source": [
    "### Hyper-Parameter tuning"
   ]
  },
  {
   "cell_type": "code",
   "execution_count": 4,
   "metadata": {
    "collapsed": false
   },
   "outputs": [
    {
     "name": "stdout",
     "output_type": "stream",
     "text": [
      "time: 1.44 ms\n"
     ]
    }
   ],
   "source": [
    "cv_pipeline = Pipeline([\n",
    "    ('vect', CountVectorizer()),\n",
    "    ('tfidf', TfidfTransformer(sublinear_tf=True,norm='l2')),\n",
    "    ('clf', LogisticRegression(solver = 'lbfgs', multi_class = 'multinomial')),\n",
    "])"
   ]
  },
  {
   "cell_type": "code",
   "execution_count": 5,
   "metadata": {
    "collapsed": false
   },
   "outputs": [
    {
     "name": "stdout",
     "output_type": "stream",
     "text": [
      "\n",
      "Best parameters set found:\n",
      "{'vect__ngram_range': (1, 5), 'vect__analyzer': 'char', 'vect__max_features': 50000} 0.935458421105\n",
      "\n",
      "\n",
      "Grid scores:\n",
      "0.89329 (+/-0.00000) for {'vect__ngram_range': (1, 5), 'vect__analyzer': 'char', 'vect__max_features': 500}\n",
      "0.92611 (+/-0.00000) for {'vect__ngram_range': (1, 5), 'vect__analyzer': 'char', 'vect__max_features': 5000}\n",
      "0.92932 (+/-0.00000) for {'vect__ngram_range': (1, 5), 'vect__analyzer': 'char', 'vect__max_features': 10000}\n",
      "0.93546 (+/-0.00000) for {'vect__ngram_range': (1, 5), 'vect__analyzer': 'char', 'vect__max_features': 50000}\n",
      "0.93436 (+/-0.00000) for {'vect__ngram_range': (1, 5), 'vect__analyzer': 'char', 'vect__max_features': None}\n",
      "time: 5min 43s\n"
     ]
    }
   ],
   "source": [
    "param_grid = {\n",
    "    'vect__max_features': (500, 5000, 10000, 50000, None), \n",
    "    'vect__ngram_range': ((1,5),),  \n",
    "    'vect__analyzer' : ('char',), \n",
    "}\n",
    "\n",
    "tune (X_train, y_train, cv_pipeline, param_grid, roc_scorer, n_jobs=8, verbose=True)"
   ]
  },
  {
   "cell_type": "markdown",
   "metadata": {},
   "source": [
    "### Eval Best Pipeline"
   ]
  },
  {
   "cell_type": "code",
   "execution_count": 6,
   "metadata": {
    "collapsed": false
   },
   "outputs": [
    {
     "name": "stdout",
     "output_type": "stream",
     "text": [
      "time: 14.1 ms\n"
     ]
    }
   ],
   "source": [
    "optimal_pipeline = Pipeline([\n",
    "    ('vect', CountVectorizer(ngram_range = (1,5), analyzer = 'char', max_features = 10000)),\n",
    "    ('tfidf', TfidfTransformer(sublinear_tf=True,norm='l2')),\n",
    "    ('clf', LogisticRegression(C = 5.0, solver = 'lbfgs', multi_class= 'multinomial')),\n",
    "])"
   ]
  },
  {
   "cell_type": "code",
   "execution_count": 7,
   "metadata": {
    "collapsed": false
   },
   "outputs": [
    {
     "name": "stdout",
     "output_type": "stream",
     "text": [
      "time: 4min 26s\n"
     ]
    }
   ],
   "source": [
    "model = optimal_pipeline.fit(X_train, y_train)\n",
    "roc_df, spearman_df = test_cross(model, data, xtype)"
   ]
  },
  {
   "cell_type": "code",
   "execution_count": 8,
   "metadata": {
    "collapsed": false
   },
   "outputs": [
    {
     "data": {
      "text/html": [
       "<div>\n",
       "<table border=\"1\" class=\"dataframe\">\n",
       "  <thead>\n",
       "    <tr style=\"text-align: right;\">\n",
       "      <th></th>\n",
       "      <th>random</th>\n",
       "      <th>blocked</th>\n",
       "      <th>both</th>\n",
       "    </tr>\n",
       "  </thead>\n",
       "  <tbody>\n",
       "    <tr>\n",
       "      <th>user</th>\n",
       "      <td>0.908797</td>\n",
       "      <td>0.919859</td>\n",
       "      <td>0.926557</td>\n",
       "    </tr>\n",
       "    <tr>\n",
       "      <th>article</th>\n",
       "      <td>0.847770</td>\n",
       "      <td>0.915007</td>\n",
       "      <td>0.892021</td>\n",
       "    </tr>\n",
       "    <tr>\n",
       "      <th>both</th>\n",
       "      <td>0.905407</td>\n",
       "      <td>0.927169</td>\n",
       "      <td>0.929455</td>\n",
       "    </tr>\n",
       "  </tbody>\n",
       "</table>\n",
       "</div>"
      ],
      "text/plain": [
       "           random   blocked      both\n",
       "user     0.908797  0.919859  0.926557\n",
       "article  0.847770  0.915007  0.892021\n",
       "both     0.905407  0.927169  0.929455"
      ]
     },
     "execution_count": 8,
     "metadata": {},
     "output_type": "execute_result"
    },
    {
     "name": "stdout",
     "output_type": "stream",
     "text": [
      "time: 13 ms\n"
     ]
    }
   ],
   "source": [
    "roc_df"
   ]
  },
  {
   "cell_type": "code",
   "execution_count": 9,
   "metadata": {
    "collapsed": false
   },
   "outputs": [
    {
     "data": {
      "text/html": [
       "<div>\n",
       "<table border=\"1\" class=\"dataframe\">\n",
       "  <thead>\n",
       "    <tr style=\"text-align: right;\">\n",
       "      <th></th>\n",
       "      <th>random</th>\n",
       "      <th>blocked</th>\n",
       "      <th>both</th>\n",
       "    </tr>\n",
       "  </thead>\n",
       "  <tbody>\n",
       "    <tr>\n",
       "      <th>user</th>\n",
       "      <td>0.590295</td>\n",
       "      <td>0.751878</td>\n",
       "      <td>0.755367</td>\n",
       "    </tr>\n",
       "    <tr>\n",
       "      <th>article</th>\n",
       "      <td>0.266716</td>\n",
       "      <td>0.495796</td>\n",
       "      <td>0.437153</td>\n",
       "    </tr>\n",
       "    <tr>\n",
       "      <th>both</th>\n",
       "      <td>0.447933</td>\n",
       "      <td>0.687585</td>\n",
       "      <td>0.654286</td>\n",
       "    </tr>\n",
       "  </tbody>\n",
       "</table>\n",
       "</div>"
      ],
      "text/plain": [
       "           random   blocked      both\n",
       "user     0.590295  0.751878  0.755367\n",
       "article  0.266716  0.495796  0.437153\n",
       "both     0.447933  0.687585  0.654286"
      ]
     },
     "execution_count": 9,
     "metadata": {},
     "output_type": "execute_result"
    },
    {
     "name": "stdout",
     "output_type": "stream",
     "text": [
      "time: 7.61 ms\n"
     ]
    }
   ],
   "source": [
    "spearman_df"
   ]
  },
  {
   "cell_type": "markdown",
   "metadata": {},
   "source": [
    "### Does Adding Blocked Data Help predicting on Random Data?"
   ]
  },
  {
   "cell_type": "markdown",
   "metadata": {
    "collapsed": false
   },
   "source": [
    "#### User"
   ]
  },
  {
   "cell_type": "code",
   "execution_count": 10,
   "metadata": {
    "collapsed": false
   },
   "outputs": [
    {
     "name": "stdout",
     "output_type": "stream",
     "text": [
      "\n",
      "Train:  {'nss': ['user'], 'samples': ['random']}\n",
      "Test:  {'nss': ['user'], 'samples': ['random']} \n",
      "\n",
      "\tROC: 0.882\n",
      "\tSpearman: 0.582\n",
      "\n",
      "Train:  {'nss': ['user'], 'samples': ['random', 'blocked']}\n",
      "Test:  {'nss': ['user'], 'samples': ['random']} \n",
      "\n",
      "\tROC: 0.908\n",
      "\tSpearman: 0.589\n",
      "time: 1min 47s\n"
     ]
    }
   ],
   "source": [
    "train_params = [\n",
    "                {'nss': ['user'],\n",
    "                 'samples': ['random']},\n",
    "                {'nss': ['user'],\n",
    "                 'samples': ['random', 'blocked'] }\n",
    "                ]\n",
    "\n",
    "test_params =  [\n",
    "                {'nss': ['user'],\n",
    "                 'samples': ['random']}\n",
    "                ]\n",
    "\n",
    "test_custom_cross(optimal_pipeline, data, xtype, ytype, train_params, test_params)"
   ]
  },
  {
   "cell_type": "markdown",
   "metadata": {},
   "source": [
    "#### Article"
   ]
  },
  {
   "cell_type": "code",
   "execution_count": 11,
   "metadata": {
    "collapsed": false
   },
   "outputs": [
    {
     "name": "stdout",
     "output_type": "stream",
     "text": [
      "\n",
      "Train:  {'nss': ['article'], 'samples': ['random']}\n",
      "Test:  {'nss': ['article'], 'samples': ['random']} \n",
      "\n",
      "\tROC: 0.811\n",
      "\tSpearman: 0.220\n",
      "\n",
      "Train:  {'nss': ['article'], 'samples': ['random', 'blocked']}\n",
      "Test:  {'nss': ['article'], 'samples': ['random']} \n",
      "\n",
      "\tROC: 0.831\n",
      "\tSpearman: 0.228\n",
      "time: 1min 41s\n"
     ]
    }
   ],
   "source": [
    "train_params = [\n",
    "                {'nss': ['article'],\n",
    "                 'samples': ['random']},\n",
    "                {'nss': ['article'],\n",
    "                 'samples': ['random', 'blocked'] }\n",
    "                ]\n",
    "\n",
    "test_params =  [\n",
    "                {'nss': ['article'],\n",
    "                 'samples': ['random']}\n",
    "                ]\n",
    "\n",
    "test_custom_cross(optimal_pipeline, data, xtype, ytype, train_params, test_params)"
   ]
  },
  {
   "cell_type": "markdown",
   "metadata": {},
   "source": [
    "## Does adding random and blocked data from one namespace help predict on random data from the other namespace?"
   ]
  },
  {
   "cell_type": "markdown",
   "metadata": {},
   "source": [
    "#### User"
   ]
  },
  {
   "cell_type": "code",
   "execution_count": 12,
   "metadata": {
    "collapsed": false
   },
   "outputs": [
    {
     "name": "stdout",
     "output_type": "stream",
     "text": [
      "\n",
      "Train:  {'nss': ['user'], 'samples': ['random', 'blocked']}\n",
      "Test:  {'nss': ['user'], 'samples': ['random']} \n",
      "\n",
      "\tROC: 0.908\n",
      "\tSpearman: 0.589\n",
      "\n",
      "Train:  {'nss': ['user', 'article'], 'samples': ['random', 'blocked']}\n",
      "Test:  {'nss': ['user'], 'samples': ['random']} \n",
      "\n",
      "\tROC: 0.909\n",
      "\tSpearman: 0.590\n",
      "time: 3min 38s\n"
     ]
    }
   ],
   "source": [
    "train_params = [\n",
    "                {'nss': ['user'],\n",
    "                 'samples': ['random', 'blocked']},\n",
    "                {'nss': ['user', 'article'],\n",
    "                 'samples': ['random', 'blocked'] }\n",
    "                ]\n",
    "\n",
    "test_params =  [\n",
    "                {'nss': ['user'],\n",
    "                 'samples': ['random']}\n",
    "                ]\n",
    "\n",
    "test_custom_cross(optimal_pipeline, data, xtype, ytype, train_params, test_params)"
   ]
  },
  {
   "cell_type": "markdown",
   "metadata": {},
   "source": [
    "#### Article"
   ]
  },
  {
   "cell_type": "code",
   "execution_count": 13,
   "metadata": {
    "collapsed": false
   },
   "outputs": [
    {
     "name": "stdout",
     "output_type": "stream",
     "text": [
      "\n",
      "Train:  {'nss': ['article'], 'samples': ['random', 'blocked']}\n",
      "Test:  {'nss': ['article'], 'samples': ['random']} \n",
      "\n",
      "\tROC: 0.831\n",
      "\tSpearman: 0.228\n",
      "\n",
      "Train:  {'nss': ['user', 'article'], 'samples': ['random', 'blocked']}\n",
      "Test:  {'nss': ['article'], 'samples': ['random']} \n",
      "\n",
      "\tROC: 0.848\n",
      "\tSpearman: 0.267\n",
      "time: 3min 29s\n"
     ]
    }
   ],
   "source": [
    "train_params = [\n",
    "                {'nss': ['article'],\n",
    "                 'samples': ['random', 'blocked']},\n",
    "                {'nss': ['user', 'article'],\n",
    "                 'samples': ['random', 'blocked'] }\n",
    "                ]\n",
    "\n",
    "test_params =  [\n",
    "                {'nss': ['article'],\n",
    "                 'samples': ['random']}\n",
    "                ]\n",
    "\n",
    "test_custom_cross(optimal_pipeline, data, xtype, ytype, train_params, test_params)"
   ]
  },
  {
   "cell_type": "markdown",
   "metadata": {},
   "source": [
    "### Check Calibration"
   ]
  },
  {
   "cell_type": "code",
   "execution_count": 14,
   "metadata": {
    "collapsed": false,
    "scrolled": true
   },
   "outputs": [
    {
     "data": {
      "image/png": "[encoded data removed]",
      "text/plain": [
       "<matplotlib.figure.Figure at 0x1231032b0>"
      ]
     },
     "metadata": {},
     "output_type": "display_data"
    },
    {
     "data": {
      "text/plain": [
       "<matplotlib.figure.Figure at 0x1338aca58>"
      ]
     },
     "metadata": {},
     "output_type": "display_data"
    },
    {
     "data": {
      "image/png": "[encoded data removed]",
      "text/plain": [
       "<matplotlib.figure.Figure at 0x12fcf6320>"
      ]
     },
     "metadata": {},
     "output_type": "display_data"
    },
    {
     "data": {
      "text/plain": [
       "<matplotlib.figure.Figure at 0x125fd72e8>"
      ]
     },
     "metadata": {},
     "output_type": "display_data"
    },
    {
     "data": {
      "image/png": "[encoded data removed]",
      "text/plain": [
       "<matplotlib.figure.Figure at 0x129041ef0>"
      ]
     },
     "metadata": {},
     "output_type": "display_data"
    },
    {
     "data": {
      "text/plain": [
       "<matplotlib.figure.Figure at 0x125fb0940>"
      ]
     },
     "metadata": {},
     "output_type": "display_data"
    },
    {
     "name": "stdout",
     "output_type": "stream",
     "text": [
      "time: 32.3 s\n"
     ]
    }
   ],
   "source": [
    "y_test_oh = one_hot(y_test)\n",
    "y_pred_ed = model.predict_proba(X_test)\n",
    "\n",
    "if n_classes > 2:\n",
    "    classes = range(n_classes)\n",
    "else:\n",
    "    classes = [1]\n",
    "\n",
    "for i in classes:\n",
    "    plt.figure()\n",
    "    calibration_curve_plotter(y_test_oh[:, i], y_pred_ed[:, i])\n",
    "    plt.show()"
   ]
  },
  {
   "cell_type": "markdown",
   "metadata": {},
   "source": [
    "### Error Analysis"
   ]
  },
  {
   "cell_type": "code",
   "execution_count": 15,
   "metadata": {
    "collapsed": false
   },
   "outputs": [
    {
     "name": "stdout",
     "output_type": "stream",
     "text": [
      "\n",
      "\n",
      "\n",
      "CLASS:  0\n",
      "\n",
      "\n",
      "OVER\n",
      "\n",
      "COMMENT:\n",
      " Wow dude you blocked me for stupid stuff I made an edit and I get this warning fix this shit dang Bots Your bot is a peice of shit and it's reverts are counter productive.  It is moronic for you to leave an automated crapbot running.   22:30, 28 May 2006 (UTC)\n",
      "SCORES: Actual: 0.00, Predicted: 1.00, Residual: -1.00\n",
      "\n",
      "\n",
      "COMMENT:\n",
      " yadavs are kshatriyas wht the hell happend to previous stuff written in the wiki which well defined yadavs,know some anti yadavs have edited the stuff and added whole new crap,mentoning yadavs as shudras is funny shit....some fuckin moron must hv done this..\n",
      "SCORES: Actual: 0.00, Predicted: 1.00, Residual: -1.00\n",
      "\n",
      "\n",
      "COMMENT:\n",
      " Should this one be added? Roses are RedViolets are BlueI'll Fuck You with a Rake\n",
      "SCORES: Actual: 0.00, Predicted: 1.00, Residual: -1.00\n",
      "\n",
      "\n",
      "COMMENT:\n",
      " you are dumb Mexican Punk is the god of all gods what is your problem go die in a hole loser\n",
      "SCORES: Actual: 0.00, Predicted: 1.00, Residual: -1.00\n",
      "\n",
      "\n",
      "COMMENT:\n",
      " i h8 u i h8 u u suck! ur a nerd w/ nothing better 2 do than piss peeps on wikipedia off!\n",
      "SCORES: Actual: 0.00, Predicted: 1.00, Residual: -1.00\n",
      "\n",
      "\n",
      "COMMENT:\n",
      " Epic I just watched this guy on TED, and he is fucking epic.\n",
      "SCORES: Actual: 0.00, Predicted: 1.00, Residual: -1.00\n",
      "\n",
      "\n",
      "COMMENT:\n",
      "Wrong is still wrong, the circumstances don't matter. You won't be punished though because you are part of the admin. of this site now. You need to grow up, you fucking loser. I just called it how I saw it. It is a suicide and she will burn in hell for it. Also, You will never get rid of me, you and your deviant family have now become my personal project. I'm working on a website about your sister as we speak so everyone will know all about what a stupid cunt she was and why it is good that she \n",
      "SCORES: Actual: 0.00, Predicted: 1.00, Residual: -1.00\n",
      "\n",
      "\n",
      "COMMENT:\n",
      " hey hey faggot, are you dead? or are you watching your mom getting raped by islamic terrorists?\n",
      "SCORES: Actual: 0.00, Predicted: 1.00, Residual: -1.00\n",
      "\n",
      "\n",
      "COMMENT:\n",
      " What a blatent cheek Lol, u need a life!blatent cheek! lol!how is what he did asking for free hosting?Lol! downer, red crusade rules! get a life and cut your dog hair you spack!And stop pouring salt in your hair you freak! lol! life needed!\n",
      "SCORES: Actual: 0.00, Predicted: 0.99, Residual: -0.99\n",
      "\n",
      "\n",
      "COMMENT:\n",
      " Tickle my ass with a feather! Yes, yes, yes!   Oh, you're driving me crazy!!!!\n",
      "SCORES: Actual: 0.00, Predicted: 0.99, Residual: -0.99\n",
      "\n",
      "\n",
      "\n",
      "\n",
      "UNDER\n",
      "\n",
      "COMMENT:\n",
      "This guy has only appeared on self-released albums (not even on an indy label), has never played for a signed or notable band, and his claim to fame is he has appeared in some magazines? Why is this article not deleted? There are probably thousands of guitar players with an actual resume who are more notable and worth an actual article.This article should be deleted.\n",
      "SCORES: Actual: 1.00, Predicted: 0.00, Residual: 1.00\n",
      "\n",
      "\n",
      "COMMENT:\n",
      "\" SOF is junk. If it had anything of value to say about climate, the thing to do would be to add it there before discussing it here. Still, if you can remember any of the \"\"strong and effective arguments\"\" you could mention them in talk here, and we can have fun ripping them to shreds  \"\n",
      "SCORES: Actual: 1.00, Predicted: 0.00, Residual: 1.00\n",
      "\n",
      "\n",
      "COMMENT:\n",
      "not exactly open minded are you?I have arrived just in time \n",
      "SCORES: Actual: 1.00, Predicted: 0.00, Residual: 1.00\n",
      "\n",
      "\n",
      "COMMENT:\n",
      " LOL what a load of unsourced, unscientific bullcrap What about making this article more scientific so people can actually use it?? There is no technical info.  Come on, it doesn't take an university degree to describe it. It's merely selective breeding, it is well documented and has been practiced for 1000's of years with animals. It shouldn't be hard to describe the science behind it as the mechanisms are exactly the same with humans. There are no principal differences between breeding an int\n",
      "SCORES: Actual: 1.00, Predicted: 0.00, Residual: 1.00\n",
      "\n",
      "\n",
      "COMMENT:\n",
      "Maybe you haven't received any education. The Answer is 800.\n",
      "SCORES: Actual: 1.00, Predicted: 0.00, Residual: 1.00\n",
      "\n",
      "\n",
      "COMMENT:\n",
      "So nice to see people talking behind my back. I can call an article mine if I wrote it, honestly what's your problem H? I don't care if people improve on it, but when you see your hard work and research spoiled by some untermensch who failed his english classes, you'll probably want to fix it too. The DH article was fine as it was, concise, accurate, thorough. Recent edits turned it into an unreadable mess, which repeated information over again, was unnecessarily complex in it's layout, had enti\n",
      "SCORES: Actual: 1.00, Predicted: 0.00, Residual: 1.00\n",
      "\n",
      "\n",
      "COMMENT:\n",
      "So, which one of you got paid to whitewash this article free from info on the stage collapse?  I can't be arsed to use WikiScanner to find out, but it's good to see that Bluesfest can afford to hire PR firms for truthiness services. -   \n",
      "SCORES: Actual: 1.00, Predicted: 0.00, Residual: 1.00\n",
      "\n",
      "\n",
      "COMMENT:\n",
      "Italian Fascism anyone?What if we carved out a chunk of Gennarous's section on Italian Fascism on the Fascism page and re-created the Italian Fascism page? Then you could take a crack at expanding it? The section is well-written (and has cites), but the Fascism page is already way too long. Please consider this an olive branch (and not a bundle of sticks).  \n",
      "SCORES: Actual: 1.00, Predicted: 0.00, Residual: 1.00\n",
      "\n",
      "\n",
      "COMMENT:\n",
      "Nice additions to the instrument articles. Rackett is sure a weird beast! I've played with one occasionally  I don't do double reeds, but I had to toy with it anyway. By the way, when modifying entries like sackbutt, you should check first to see if it automatically goes to sackbut (as it does), in which case there's not much reason to change the spelling (considering how many spellings there are for sackbut.) I assume you're a double-reed player with a fondness for Renaissance horns? ∇∆∇∆ \n",
      "SCORES: Actual: 1.00, Predicted: 0.00, Residual: 1.00\n",
      "\n",
      "\n",
      "COMMENT:\n",
      " Hi Yes its me Whore. ) talk 71.57.145.221  \n",
      "SCORES: Actual: 1.00, Predicted: 0.00, Residual: 1.00\n",
      "\n",
      "\n",
      "\n",
      "\n",
      "\n",
      "CLASS:  1\n",
      "\n",
      "\n",
      "OVER\n",
      "\n",
      "COMMENT:\n",
      "This guy has only appeared on self-released albums (not even on an indy label), has never played for a signed or notable band, and his claim to fame is he has appeared in some magazines? Why is this article not deleted? There are probably thousands of guitar players with an actual resume who are more notable and worth an actual article.This article should be deleted.\n",
      "SCORES: Actual: 0.00, Predicted: 1.00, Residual: -1.00\n",
      "\n",
      "\n",
      "COMMENT:\n",
      "\" File:Boat Race Putney Bridge.jpg missing description details Dear uploader: The media file you uploaded as File:Boat Race Putney Bridge.jpg is missing a description and/or other details on its image description page. If possible, please add this information. This will help other editors to make better use of the image, and it will be more informative for readers.If the information is not provided, the image may eventually be proposed for deletion, a situation which is not desirable, and\n",
      "SCORES: Actual: 0.00, Predicted: 1.00, Residual: -1.00\n",
      "\n",
      "\n",
      "COMMENT:\n",
      "\"it is this \"\"French Strategic Victory\"\" minority view that is being repeatedly re-added, not the other way round\"\n",
      "SCORES: Actual: 0.00, Predicted: 1.00, Residual: -1.00\n",
      "\n",
      "\n",
      "COMMENT:\n",
      "\" SOF is junk. If it had anything of value to say about climate, the thing to do would be to add it there before discussing it here. Still, if you can remember any of the \"\"strong and effective arguments\"\" you could mention them in talk here, and we can have fun ripping them to shreds  \"\n",
      "SCORES: Actual: 0.00, Predicted: 1.00, Residual: -1.00\n",
      "\n",
      "\n",
      "COMMENT:\n",
      "Also, there is no article for Uterine siblings, and no mention of the term in the target to which that title currently redirects. \n",
      "SCORES: Actual: 0.00, Predicted: 1.00, Residual: -1.00\n",
      "\n",
      "\n",
      "COMMENT:\n",
      " LOL what a load of unsourced, unscientific bullcrap What about making this article more scientific so people can actually use it?? There is no technical info.  Come on, it doesn't take an university degree to describe it. It's merely selective breeding, it is well documented and has been practiced for 1000's of years with animals. It shouldn't be hard to describe the science behind it as the mechanisms are exactly the same with humans. There are no principal differences between breeding an int\n",
      "SCORES: Actual: 0.00, Predicted: 1.00, Residual: -1.00\n",
      "\n",
      "\n",
      "COMMENT:\n",
      "\" confused \"\"The Quran, however, provides minimal assistance for Muhammad's chronological biography; many of the utterances recorded in the Quran lack historical context.[32][33]\"\"Bennett's book says that the quran lacks history about the prophet but doesn't say that \"\"the utterances recorded in the Quran lack historical context\"\".Please EXPLAIN kindly\"\n",
      "SCORES: Actual: 0.00, Predicted: 1.00, Residual: -1.00\n",
      "\n",
      "\n",
      "COMMENT:\n",
      "\"It was! (check the page history). I have removed the offending text that you tagged, and reworded some more. Please check it again. –  (talk) \"\n",
      "SCORES: Actual: 0.00, Predicted: 1.00, Residual: -1.00\n",
      "\n",
      "\n",
      "COMMENT:\n",
      "\"I may be wrong, but isn't Maussolus simply the modern Greek spelling? Not \"\"more correct\"\" at all?  It's unheard-of in the literature, or I am mistaken.  10:05, 2 Aug 2004 (UTC)\"\n",
      "SCORES: Actual: 0.00, Predicted: 1.00, Residual: -1.00\n",
      "\n",
      "\n",
      "COMMENT:\n",
      "not exactly open minded are you?I have arrived just in time \n",
      "SCORES: Actual: 0.00, Predicted: 1.00, Residual: -1.00\n",
      "\n",
      "\n",
      "\n",
      "\n",
      "UNDER\n",
      "\n",
      "COMMENT:\n",
      " Wow dude you blocked me for stupid stuff I made an edit and I get this warning fix this shit dang Bots Your bot is a peice of shit and it's reverts are counter productive.  It is moronic for you to leave an automated crapbot running.   22:30, 28 May 2006 (UTC)\n",
      "SCORES: Actual: 1.00, Predicted: 0.00, Residual: 1.00\n",
      "\n",
      "\n",
      "COMMENT:\n",
      " yadavs are kshatriyas wht the hell happend to previous stuff written in the wiki which well defined yadavs,know some anti yadavs have edited the stuff and added whole new crap,mentoning yadavs as shudras is funny shit....some fuckin moron must hv done this..\n",
      "SCORES: Actual: 1.00, Predicted: 0.00, Residual: 1.00\n",
      "\n",
      "\n",
      "COMMENT:\n",
      " Should this one be added? Roses are RedViolets are BlueI'll Fuck You with a Rake\n",
      "SCORES: Actual: 1.00, Predicted: 0.00, Residual: 1.00\n",
      "\n",
      "\n",
      "COMMENT:\n",
      " you are dumb Mexican Punk is the god of all gods what is your problem go die in a hole loser\n",
      "SCORES: Actual: 1.00, Predicted: 0.00, Residual: 1.00\n",
      "\n",
      "\n",
      "COMMENT:\n",
      " i h8 u i h8 u u suck! ur a nerd w/ nothing better 2 do than piss peeps on wikipedia off!\n",
      "SCORES: Actual: 1.00, Predicted: 0.00, Residual: 1.00\n",
      "\n",
      "\n",
      "COMMENT:\n",
      " Epic I just watched this guy on TED, and he is fucking epic.\n",
      "SCORES: Actual: 1.00, Predicted: 0.00, Residual: 1.00\n",
      "\n",
      "\n",
      "COMMENT:\n",
      "Wrong is still wrong, the circumstances don't matter. You won't be punished though because you are part of the admin. of this site now. You need to grow up, you fucking loser. I just called it how I saw it. It is a suicide and she will burn in hell for it. Also, You will never get rid of me, you and your deviant family have now become my personal project. I'm working on a website about your sister as we speak so everyone will know all about what a stupid cunt she was and why it is good that she \n",
      "SCORES: Actual: 1.00, Predicted: 0.00, Residual: 1.00\n",
      "\n",
      "\n",
      "COMMENT:\n",
      " hey hey faggot, are you dead? or are you watching your mom getting raped by islamic terrorists?\n",
      "SCORES: Actual: 1.00, Predicted: 0.00, Residual: 1.00\n",
      "\n",
      "\n",
      "COMMENT:\n",
      " Tickle my ass with a feather! Yes, yes, yes!   Oh, you're driving me crazy!!!!\n",
      "SCORES: Actual: 1.00, Predicted: 0.01, Residual: 0.99\n",
      "\n",
      "\n",
      "COMMENT:\n",
      " What a blatent cheek Lol, u need a life!blatent cheek! lol!how is what he did asking for free hosting?Lol! downer, red crusade rules! get a life and cut your dog hair you spack!And stop pouring salt in your hair you freak! lol! life needed!\n",
      "SCORES: Actual: 1.00, Predicted: 0.01, Residual: 0.99\n",
      "\n",
      "\n",
      "\n",
      "\n",
      "\n",
      "CLASS:  2\n",
      "\n",
      "\n",
      "OVER\n",
      "\n",
      "COMMENT:\n",
      "Thank youHi Dlohcierekim. I would like to thank you for your support in my RfA and the confidence expressed thereby. It is very much appreciated. ) The RfA was closed as successful with 73 supports, 3 opposes and 4 neutral. I would especially like to thank  for nominating me. Best wishes and thanks again, —αἰτίας •discussion• \n",
      "SCORES: Actual: 0.00, Predicted: 0.98, Residual: -0.98\n",
      "\n",
      "\n",
      "COMMENT:\n",
      "\"Many Thanks ! And I am also very keen to work with you all. ) See you soon !  \"\n",
      "SCORES: Actual: 0.00, Predicted: 0.98, Residual: -0.98\n",
      "\n",
      "\n",
      "COMMENT:\n",
      "\"Thank you very much. ) Charge! \"\n",
      "SCORES: Actual: 0.00, Predicted: 0.97, Residual: -0.97\n",
      "\n",
      "\n",
      "COMMENT:\n",
      "Rambling is good. ) Good work with and thank you for your task of dealing with edits that need revdelling - it's a thankless job!  \n",
      "SCORES: Actual: 0.00, Predicted: 0.97, Residual: -0.97\n",
      "\n",
      "\n",
      "COMMENT:\n",
      "Awwwww thanks ) It was a pleasure to work with you as well. Hope for the best,   \n",
      "SCORES: Actual: 0.00, Predicted: 0.96, Residual: -0.96\n",
      "\n",
      "\n",
      "COMMENT:\n",
      " Thank you! Thanks for the praise of John Sherman.  I'm glad to see someone enjoyed reading it!    \n",
      "SCORES: Actual: 0.00, Predicted: 0.96, Residual: -0.96\n",
      "\n",
      "\n",
      "COMMENT:\n",
      "\"Thanks for taking over Triple F. I appreciate it. They're gonna be great in your hands!    \"\n",
      "SCORES: Actual: 0.00, Predicted: 0.94, Residual: -0.94\n",
      "\n",
      "\n",
      "COMMENT:\n",
      "\" Thanks for your comments! Thanks for the kind words on my talk page! I plan to try to help out with a lot of the behind the scenes \"\"machinery\"\" like that, that keeps Wikipedia running smoothly. I look forward to working with you further!  \"\n",
      "SCORES: Actual: 0.00, Predicted: 0.94, Residual: -0.94\n",
      "\n",
      "\n",
      "COMMENT:\n",
      "Thanks, and sorry about that! -Hoot\n",
      "SCORES: Actual: 0.00, Predicted: 0.92, Residual: -0.92\n",
      "\n",
      "\n",
      "COMMENT:\n",
      "Apologies, I do not know how else to reply. Thank you for the advice, I shall look these pages over - they are no doubt very useful. Thanks for the welcome, Moonraker.VelvetCommuter\n",
      "SCORES: Actual: 0.00, Predicted: 0.92, Residual: -0.92\n",
      "\n",
      "\n",
      "\n",
      "\n",
      "UNDER\n",
      "\n",
      "COMMENT:\n",
      "\"it is this \"\"French Strategic Victory\"\" minority view that is being repeatedly re-added, not the other way round\"\n",
      "SCORES: Actual: 1.00, Predicted: 0.00, Residual: 1.00\n",
      "\n",
      "\n",
      "COMMENT:\n",
      "Agree neither the Cold War nor the War on Terror really should be on this list.  More so the Cold War.  Just look at the opening paragraph of the Cold War on Wikipedia.  It clearly does not fit the intent of this page.96.31.177.52  \n",
      "SCORES: Actual: 1.00, Predicted: 0.00, Residual: 1.00\n",
      "\n",
      "\n",
      "COMMENT:\n",
      "\"Page RatingPlease pardon another question from a newbie, but is the page rating at the bottom of the article very accurate? It seems to go up and down like a roller coaster. Can people \"\"bomb\"\" it, to try and make a point for \"\"their side\"\"?  \"\n",
      "SCORES: Actual: 1.00, Predicted: 0.00, Residual: 1.00\n",
      "\n",
      "\n",
      "COMMENT:\n",
      "Also, there is no article for Uterine siblings, and no mention of the term in the target to which that title currently redirects. \n",
      "SCORES: Actual: 1.00, Predicted: 0.00, Residual: 1.00\n",
      "\n",
      "\n",
      "COMMENT:\n",
      "\" confused \"\"The Quran, however, provides minimal assistance for Muhammad's chronological biography; many of the utterances recorded in the Quran lack historical context.[32][33]\"\"Bennett's book says that the quran lacks history about the prophet but doesn't say that \"\"the utterances recorded in the Quran lack historical context\"\".Please EXPLAIN kindly\"\n",
      "SCORES: Actual: 1.00, Predicted: 0.00, Residual: 1.00\n",
      "\n",
      "\n",
      "COMMENT:\n",
      "just stoppin by to say hi to all my buddies 134.208.33.104  \n",
      "SCORES: Actual: 1.00, Predicted: 0.00, Residual: 1.00\n",
      "\n",
      "\n",
      "COMMENT:\n",
      "\"And by the way, the world knows many Ghoris. (Ala'uddin Ghori is as famous as Shahabuddin for founding the dynasty and for burning the city of Ghazna.) That's why I am insisting on using a \"\"proper\"\" title.   \"\n",
      "SCORES: Actual: 1.00, Predicted: 0.00, Residual: 1.00\n",
      "\n",
      "\n",
      "COMMENT:\n",
      "\" Oh please, please, please, can I be unblocked sir? \"\n",
      "SCORES: Actual: 1.00, Predicted: 0.00, Residual: 1.00\n",
      "\n",
      "\n",
      "COMMENT:\n",
      "\"It was! (check the page history). I have removed the offending text that you tagged, and reworded some more. Please check it again. –  (talk) \"\n",
      "SCORES: Actual: 1.00, Predicted: 0.00, Residual: 1.00\n",
      "\n",
      "\n",
      "COMMENT:\n",
      "\" File:Boat Race Putney Bridge.jpg missing description details Dear uploader: The media file you uploaded as File:Boat Race Putney Bridge.jpg is missing a description and/or other details on its image description page. If possible, please add this information. This will help other editors to make better use of the image, and it will be more informative for readers.If the information is not provided, the image may eventually be proposed for deletion, a situation which is not desirable, and\n",
      "SCORES: Actual: 1.00, Predicted: 0.00, Residual: 1.00\n",
      "\n",
      "\n",
      "time: 57.4 ms\n"
     ]
    }
   ],
   "source": [
    "for i in classes:\n",
    "    print('\\n\\n\\nCLASS: ', i)\n",
    "    over, under = get_errors(X_test, y_test_oh[:, i], y_pred_ed[:, i])\n",
    "    print('\\n\\nOVER\\n')\n",
    "    print_errors(over, n=10)\n",
    "    print('\\n\\nUNDER\\n')\n",
    "    print_errors(under, n=10)"
   ]
  },
  {
   "cell_type": "markdown",
   "metadata": {},
   "source": [
    "### Learning Curves!\n",
    "How does adding more training data improve performance?"
   ]
  },
  {
   "cell_type": "code",
   "execution_count": 16,
   "metadata": {
    "collapsed": false
   },
   "outputs": [
    {
     "name": "stdout",
     "output_type": "stream",
     "text": [
      "time: 821 µs\n"
     ]
    }
   ],
   "source": [
    "#ms, metrics = eval_adding_other_data(optimal_pipeline, None, None, X_test, y_test, X_train, y_train, roc_scorer)\n",
    "#plot_adding_other_data(ms, metrics)"
   ]
  },
  {
   "cell_type": "markdown",
   "metadata": {},
   "source": [
    "### Model Understanding"
   ]
  },
  {
   "cell_type": "code",
   "execution_count": 17,
   "metadata": {
    "collapsed": false
   },
   "outputs": [
    {
     "name": "stdout",
     "output_type": "stream",
     "text": [
      "\n",
      "\n",
      "CLASS:  0\n",
      "STRONG POS: \n",
      "['hu' ' cr' 'je' 'hate' ' a ' 'athe' 'foo' 'fucki' 'ast' 'dou' ' cock'\n",
      " ' his ' ' u ' 'dir' 'tar' 'poo' 'ass.' ' f' ' kil' 's' ' pen' 'zi' '\"\"'\n",
      " 'go ' 't ad' ' dir' 'you' 're a ' 'lls' 'shit ' 'suck ' 'ry s' ' rac'\n",
      " 'cun' 'cunt' 'rog' 'ude' ' cunt' 't-' 'off' ' cun' 'nke' '*' ' hate' 'ss'\n",
      " 'het' 'uck' 'id ' ' off' 'ole' 'ron' 'sil' ' stu' 'u ' ' gay' ' je' 'fag'\n",
      " 'mn' 'umb' 'cis' 'azi' 'fuck ' ' die' 'id' 'lia' ' dick' 'up' ' bitc'\n",
      " 'dick' ' hell' 'ck' ' ass ' ' shit' 'hit' 'ass' ' ass' 'peni' 'gay' 'sh'\n",
      " 'hole' 'dam' 'bitc' 'bitch' ' suck' 'rap' 'suck' ' fuck' ' fuc' 'stu'\n",
      " 'bag' ' id' 'tard' 'pi' 'oro' 'sex' 'dio' 'fuck' 'shit' 'fuc' 'idi']\n",
      "STRONG NEG: \n",
      "['ello' '. ' 'hank' 'thank' 'ank' ' up' 'uff' 'llo' 'yn' 'ide' 'so' 'assu'\n",
      " ' whol' ' pic' 'ank y' ' more' 'stud' ' gra' 't ge' ')' ' ran' 'uf'\n",
      " 'hank ' 'whol' 'lp' 'fan' 'log' 'esi' 'cro' 'ture' '|' ' stud' ' hol' ') '\n",
      " 'y he' 'ping ' 'dur' ' \"' 'unl' 'ssu' 'ype' 'work' 'ion' 'grea' ']' 'e na'\n",
      " ' gl' ' but ' 'ub' 'sum' '/' 'nom' ' mov' ' nic' 'm p' 'great' 'oub'\n",
      " ' ide' ' list' ' work' 'love ' 'more' 'her' 'bio' 'nic' ' grea' 'done'\n",
      " 'ank ' 'pli' 'but ' 'car' ' show' ' help' 'per ' 'as ' 'did' 'hanks' 'rw'\n",
      " ' lis' ' sho' 'tur' '—' 'res' ' ni' 't ma' \"t's a\" 'hop' 'o as' 'oup'\n",
      " 'turn' 'gra' 'e sc' 'fus' 're' 'i hav' 'how' 'did ' 'n. t' 'o pro' 'ra ']\n",
      "\n",
      "\n",
      "CLASS:  1\n",
      "STRONG POS: \n",
      "['cult' 'eas' ', wi' 'llo' 'of i' 'bor' 'ga ' 'sum' 'tc) ' 'bit ' 're co'\n",
      " ' a h' 'how' 'fi' 'aster' 's not' '/' 'sn' 'rs w' 't ma' 'uff' 'r l' 'ca'\n",
      " 'bt' ' sho' 'but ' 'as f' 'n. th' 'o ed' 'show' 'turn' 'emb' 'ark' 'o edi'\n",
      " 'are n' ' 19' 'dur' 'sse' 'a ne' '2' 'nd, ' 'zin' 'uf' 'y sh' 'bre' ' sa'\n",
      " 'whil' ' hit' 'bio' 'her' 'ype' ' rece' 'ord' 'p i' 'whol' 'assa' 'res'\n",
      " ' than' 'nd,' 'pas' 'ock' 't, i' 'cro' 'asse' '. ' 'se a' ' \"' 'fan' 'esi'\n",
      " 'not' ' up' ' but ' 'ssu' 'yn' 'for s' ' whol' 'e na' ' show' 'did ' 'm p'\n",
      " 'fus' ' hol' ' more' ' stud' 'nne' 'oup' 'wh' 'pli' 'stud' 'f a' 'u thi'\n",
      " 'u don' 'n. t' 't ge' 'unl' 'assu' ' gra' 'ello' ' ran' '?']\n",
      "STRONG NEG: \n",
      "['fuc' 'idi' 'shit' 'fuck' 'dio' ' id' 'pi' 'tard' 'oro' 'bag' 'sex' ' fuc'\n",
      " ' fuck' '!' 'dam' 'hole' 'suck' 'stu' ' suck' 'rap' 'peni' 'lia' 'bitch'\n",
      " ' ass ' ' ass' 'bitc' ' shit' 'mn' 'umb' 'up' ' dick' 'dick' 'gay' 'fu'\n",
      " '*' 'fuck ' 'id' 'you' ' bitc' 'sh' 'het' ' die' 'ss' '!\\n' 'nke' 'gr'\n",
      " 'y ' 'ser' 'fag' 'lose' 'ass.' '. g' 'o he' 'azi' 'ks a' 'hit' 'ole' 'ass'\n",
      " ' rac' 'suck ' ' dir' ' hell' ' du' 'i wil' 'sil' ' cock' 'aa' ' je'\n",
      " 're a ' 'e da' '! ' '.' 't-' ' gay' 'foo' 'ry s' 'tar' 'he wi' 'shit '\n",
      " ' pen' '. w' 'cum' ' f' ' stu' 'rog' 'cock' 'ob' ' cun' 'hah' 'ong'\n",
      " ' cunt' '10 ' 've r' 'ude' ' u ' 'cunt' 't, a' 'fucki' 'ron' 'py ']\n",
      "\n",
      "\n",
      "CLASS:  2\n",
      "STRONG POS: \n",
      "[' work' 'ool' 'co' 'ecia' ' jo' '12' 'best ' 'hot' 'nk' ', so' '|' 'bes'\n",
      " 'e i ' 'ee' 'happ' 'hap' 'hel' ' gre' 've y' 'ed a' ' -' 'ong' 'hon' 'len'\n",
      " 've yo' 'help' 'd wo' 'done' 'elp' 'e cha' 'gl' ' bes' ' done' 've r' 'od'\n",
      " ' —' 'orry ' 'l d' 'grea' 'nj' 'lov' 'ice ' 'pret' 'tor ' 'ks a' 'py'\n",
      " 'love' 'anks ' 'ett' 'y a' ' very' 'ello' 'good' 'great' ' grea' ')' 'gra'\n",
      " 'pol' 'exc' 'apo' 'gr' 'xc' 'y h' 'll d' 'e da' 'te i' 'eer' 'wes' 'best'\n",
      " 'anks' ' so ' 'love ' ' best' 'ly a' '!' 'rry ' 'atu' ' nic' 'tty' ') '\n",
      " ' love' 'hanks' ' lov' ' gl' 'py ' '. ' 'hank ' 'ank ' 'jo' 'ank y' 'eso'\n",
      " 'han' 'y he' 'cel' 'nic' '! ' 'than' 'ank' 'thank' 'hank']\n",
      "STRONG NEG: \n",
      "['?' '? ' 'ck' '\"\"' 'ven' 'an ' ' his ' 'off' 'oc' 'go ' 'ck ' 's. t' 'by'\n",
      " 'ash' 's tha' ' is' 'wh' 'his p' 'et ' 'ad.' ' his' 'ass' 'sex' 's' 'pen'\n",
      " 'ven ' 'hit' 's l' 'dar' 'hy' 'an' ' hell' 'p ' ' off' 'ur m' 's. th'\n",
      " ' he ' 'our m' 'e wor' 'even' 'idi' ' th' 'r b' 'sh' ' go ' 'hy ' ' t'\n",
      " 'cis' 'u' 't g' 'pe' 't no' ' ra' 'not t' 'ora' 'rac' 'use ' 'e wo' ' sa'\n",
      " 'net' 'pri' 'ras' 'n ' 's, t' 'han ' ' by' 'pu' ' nig' 'dio' 'p' 'even '\n",
      " 'k a' 'sto' 't' 'is ' 'ran' ' than' 'hate' 'stop' 'uit' 'no' 'tre' 'uth'\n",
      " '6' 'n' 'sa' 'stop ' 'get ' 'ress' 'as' 'old ' 'rb' 'dic' 'ock' 'than '\n",
      " 'mit' 'mo' 'ra' 'ld' 'ick']\n",
      "time: 25.6 ms\n"
     ]
    }
   ],
   "source": [
    "feature_names = np.array(model.named_steps['vect'].get_feature_names())\n",
    "for i in classes:\n",
    "    print('\\n\\nCLASS: ', i)\n",
    "    \n",
    "    try:\n",
    "        coef = model.named_steps['clf'].coef_[i].ravel()\n",
    "    except:\n",
    "        coef = model.named_steps['clf'].coef_.ravel()\n",
    "    most_pos_idx = np.argsort(coef)[-100:]\n",
    "    most_pos = feature_names[most_pos_idx]\n",
    "    print('STRONG POS: ')\n",
    "    print(most_pos)\n",
    "    most_neg_idx = np.argsort(coef)[:100]\n",
    "    most_neg = feature_names[most_neg_idx]\n",
    "    print('STRONG NEG: ')\n",
    "    print(most_neg)"
   ]
  },
  {
   "cell_type": "markdown",
   "metadata": {},
   "source": [
    "### Final Model"
   ]
  },
  {
   "cell_type": "code",
   "execution_count": 18,
   "metadata": {
    "collapsed": false
   },
   "outputs": [
    {
     "data": {
      "text/plain": [
       "['../../models/aggression_ngram.pkl',\n",
       " '../../models/aggression_ngram.pkl_01.npy',\n",
       " '../../models/aggression_ngram.pkl_02.npy',\n",
       " '../../models/aggression_ngram.pkl_03.npy',\n",
       " '../../models/aggression_ngram.pkl_04.npy',\n",
       " '../../models/aggression_ngram.pkl_05.npy',\n",
       " '../../models/aggression_ngram.pkl_06.npy']"
      ]
     },
     "execution_count": 18,
     "metadata": {},
     "output_type": "execute_result"
    },
    {
     "name": "stdout",
     "output_type": "stream",
     "text": [
      "time: 3min 53s\n"
     ]
    }
   ],
   "source": [
    "X, y = assemble_data(data, xtype, ytype)\n",
    "final_model = optimal_pipeline.fit(X, y)\n",
    "joblib.dump(final_model, '../../models/%s_ngram.pkl' % task)"
   ]
  }
 ],
 "metadata": {
  "kernelspec": {
   "display_name": "Python 3",
   "language": "python",
   "name": "python3"
  },
  "language_info": {
   "codemirror_mode": {
    "name": "ipython",
    "version": 3
   },
   "file_extension": ".py",
   "mimetype": "text/x-python",
   "name": "python",
   "nbconvert_exporter": "python",
   "pygments_lexer": "ipython3",
   "version": "3.5.1"
  }
 },
 "nbformat": 4,
 "nbformat_minor": 0
}