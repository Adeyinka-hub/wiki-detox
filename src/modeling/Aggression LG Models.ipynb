{
 "cells": [
  {
   "cell_type": "code",
   "execution_count": 1,
   "metadata": {
    "collapsed": false
   },
   "outputs": [],
   "source": [
    "%load_ext autoreload\n",
    "%autoreload 2\n",
    "%matplotlib inline\n",
    "%load_ext autotime\n",
    "\n",
    "from ngram import *\n",
    "from baselines import *\n",
    "from error_analysis import *\n",
    "pd.options.mode.chained_assignment = None"
   ]
  },
  {
   "cell_type": "markdown",
   "metadata": {},
   "source": [
    "### Load Annotated Data"
   ]
  },
  {
   "cell_type": "code",
   "execution_count": 2,
   "metadata": {
    "collapsed": false
   },
   "outputs": [
    {
     "name": "stdout",
     "output_type": "stream",
     "text": [
      "time: 2.76 ms\n"
     ]
    }
   ],
   "source": [
    "task = 'aggression'\n",
    "xtype = 'comments'\n",
    "ytype = 'plurality'\n",
    "n_classes = 3"
   ]
  },
  {
   "cell_type": "code",
   "execution_count": 3,
   "metadata": {
    "collapsed": false
   },
   "outputs": [
    {
     "name": "stdout",
     "output_type": "stream",
     "text": [
      "time: 4min 17s\n"
     ]
    }
   ],
   "source": [
    "data = load_comments_and_labels(task)\n",
    "X_train, y_train = assemble_data(data, xtype, ytype, splits = ['train'])\n",
    "X_test, y_test = assemble_data(data, xtype, 'empirical_dist', splits = ['test'])"
   ]
  },
  {
   "cell_type": "markdown",
   "metadata": {
    "collapsed": true
   },
   "source": [
    "### Hyper-Parameter tuning"
   ]
  },
  {
   "cell_type": "code",
   "execution_count": 4,
   "metadata": {
    "collapsed": false
   },
   "outputs": [
    {
     "name": "stdout",
     "output_type": "stream",
     "text": [
      "time: 1.54 ms\n"
     ]
    }
   ],
   "source": [
    "cv_pipeline = Pipeline([\n",
    "    ('vect', CountVectorizer()),\n",
    "    ('tfidf', TfidfTransformer(sublinear_tf=True,norm='l2')),\n",
    "    ('clf', LogisticRegression(solver = 'lbfgs', multi_class = 'multinomial')),\n",
    "])"
   ]
  },
  {
   "cell_type": "code",
   "execution_count": 5,
   "metadata": {
    "collapsed": false
   },
   "outputs": [
    {
     "name": "stdout",
     "output_type": "stream",
     "text": [
      "\n",
      "Best parameters set found:\n",
      "{'vect__max_features': 50000, 'vect__analyzer': 'char', 'vect__ngram_range': (1, 5)} 0.93753474452\n",
      "\n",
      "\n",
      "Grid scores:\n",
      "0.89493 (+/-0.00000) for {'vect__max_features': 500, 'vect__analyzer': 'char', 'vect__ngram_range': (1, 5)}\n",
      "0.92137 (+/-0.00000) for {'vect__max_features': 5000, 'vect__analyzer': 'char', 'vect__ngram_range': (1, 5)}\n",
      "0.92864 (+/-0.00000) for {'vect__max_features': 10000, 'vect__analyzer': 'char', 'vect__ngram_range': (1, 5)}\n",
      "0.93753 (+/-0.00000) for {'vect__max_features': 50000, 'vect__analyzer': 'char', 'vect__ngram_range': (1, 5)}\n",
      "0.93548 (+/-0.00000) for {'vect__max_features': None, 'vect__analyzer': 'char', 'vect__ngram_range': (1, 5)}\n",
      "time: 7min 23s\n"
     ]
    }
   ],
   "source": [
    "param_grid = {\n",
    "    'vect__max_features': (500, 5000, 10000, 50000, None), \n",
    "    'vect__ngram_range': ((1,5),),  \n",
    "    'vect__analyzer' : ('char',), \n",
    "}\n",
    "\n",
    "tune (X_train, y_train, cv_pipeline, param_grid, roc_scorer, n_jobs=8, verbose=True)"
   ]
  },
  {
   "cell_type": "markdown",
   "metadata": {},
   "source": [
    "### Eval Best Pipeline"
   ]
  },
  {
   "cell_type": "code",
   "execution_count": 4,
   "metadata": {
    "collapsed": false
   },
   "outputs": [
    {
     "name": "stdout",
     "output_type": "stream",
     "text": [
      "time: 3.68 ms\n"
     ]
    }
   ],
   "source": [
    "optimal_pipeline = Pipeline([\n",
    "    ('vect', CountVectorizer(ngram_range = (1,5), analyzer = 'char', max_features = 10000)),\n",
    "    ('tfidf', TfidfTransformer(sublinear_tf=True,norm='l2')),\n",
    "    ('clf', LogisticRegression(C = 5.0, solver = 'lbfgs', multi_class= 'multinomial')),\n",
    "])"
   ]
  },
  {
   "cell_type": "code",
   "execution_count": 5,
   "metadata": {
    "collapsed": false
   },
   "outputs": [
    {
     "name": "stdout",
     "output_type": "stream",
     "text": [
      "time: 14min 27s\n"
     ]
    }
   ],
   "source": [
    "model = optimal_pipeline.fit(X_train, y_train)\n",
    "roc_df, spearman_df = test_cross(model, data, xtype)"
   ]
  },
  {
   "cell_type": "code",
   "execution_count": 6,
   "metadata": {
    "collapsed": false
   },
   "outputs": [
    {
     "data": {
      "text/html": [
       "<div>\n",
       "<table border=\"1\" class=\"dataframe\">\n",
       "  <thead>\n",
       "    <tr style=\"text-align: right;\">\n",
       "      <th></th>\n",
       "      <th>random</th>\n",
       "      <th>blocked</th>\n",
       "      <th>both</th>\n",
       "    </tr>\n",
       "  </thead>\n",
       "  <tbody>\n",
       "    <tr>\n",
       "      <th>user</th>\n",
       "      <td>0.886667</td>\n",
       "      <td>0.923693</td>\n",
       "      <td>0.928509</td>\n",
       "    </tr>\n",
       "    <tr>\n",
       "      <th>article</th>\n",
       "      <td>0.886405</td>\n",
       "      <td>0.921597</td>\n",
       "      <td>0.914096</td>\n",
       "    </tr>\n",
       "    <tr>\n",
       "      <th>both</th>\n",
       "      <td>0.903202</td>\n",
       "      <td>0.930424</td>\n",
       "      <td>0.934095</td>\n",
       "    </tr>\n",
       "  </tbody>\n",
       "</table>\n",
       "</div>"
      ],
      "text/plain": [
       "           random   blocked      both\n",
       "user     0.886667  0.923693  0.928509\n",
       "article  0.886405  0.921597  0.914096\n",
       "both     0.903202  0.930424  0.934095"
      ]
     },
     "execution_count": 6,
     "metadata": {},
     "output_type": "execute_result"
    },
    {
     "name": "stdout",
     "output_type": "stream",
     "text": [
      "time: 16 ms\n"
     ]
    }
   ],
   "source": [
    "roc_df"
   ]
  },
  {
   "cell_type": "code",
   "execution_count": 7,
   "metadata": {
    "collapsed": false
   },
   "outputs": [
    {
     "data": {
      "text/html": [
       "<div>\n",
       "<table border=\"1\" class=\"dataframe\">\n",
       "  <thead>\n",
       "    <tr style=\"text-align: right;\">\n",
       "      <th></th>\n",
       "      <th>random</th>\n",
       "      <th>blocked</th>\n",
       "      <th>both</th>\n",
       "    </tr>\n",
       "  </thead>\n",
       "  <tbody>\n",
       "    <tr>\n",
       "      <th>user</th>\n",
       "      <td>0.548472</td>\n",
       "      <td>0.755023</td>\n",
       "      <td>0.752281</td>\n",
       "    </tr>\n",
       "    <tr>\n",
       "      <th>article</th>\n",
       "      <td>0.247301</td>\n",
       "      <td>0.527955</td>\n",
       "      <td>0.458248</td>\n",
       "    </tr>\n",
       "    <tr>\n",
       "      <th>both</th>\n",
       "      <td>0.422439</td>\n",
       "      <td>0.696011</td>\n",
       "      <td>0.657407</td>\n",
       "    </tr>\n",
       "  </tbody>\n",
       "</table>\n",
       "</div>"
      ],
      "text/plain": [
       "           random   blocked      both\n",
       "user     0.548472  0.755023  0.752281\n",
       "article  0.247301  0.527955  0.458248\n",
       "both     0.422439  0.696011  0.657407"
      ]
     },
     "execution_count": 7,
     "metadata": {},
     "output_type": "execute_result"
    },
    {
     "name": "stdout",
     "output_type": "stream",
     "text": [
      "time: 14.8 ms\n"
     ]
    }
   ],
   "source": [
    "spearman_df"
   ]
  },
  {
   "cell_type": "markdown",
   "metadata": {},
   "source": [
    "### Does Adding Blocked Data Help predicting on Random Data?"
   ]
  },
  {
   "cell_type": "markdown",
   "metadata": {
    "collapsed": false
   },
   "source": [
    "#### User"
   ]
  },
  {
   "cell_type": "code",
   "execution_count": 8,
   "metadata": {
    "collapsed": false
   },
   "outputs": [
    {
     "name": "stdout",
     "output_type": "stream",
     "text": [
      "\n",
      "Train:  {'samples': ['random'], 'nss': ['user']}\n",
      "Test:  {'samples': ['random'], 'nss': ['user']} \n",
      "\n",
      "\tROC: 0.862\n",
      "\tSpearman: 0.556\n",
      "\n",
      "Train:  {'samples': ['random', 'blocked'], 'nss': ['user']}\n",
      "Test:  {'samples': ['random'], 'nss': ['user']} \n",
      "\n",
      "\tROC: 0.876\n",
      "\tSpearman: 0.540\n",
      "time: 6min 46s\n"
     ]
    }
   ],
   "source": [
    "train_params = [\n",
    "                {'nss': ['user'],\n",
    "                 'samples': ['random']},\n",
    "                {'nss': ['user'],\n",
    "                 'samples': ['random', 'blocked'] }\n",
    "                ]\n",
    "\n",
    "test_params =  [\n",
    "                {'nss': ['user'],\n",
    "                 'samples': ['random']}\n",
    "                ]\n",
    "\n",
    "test_custom_cross(optimal_pipeline, data, xtype, ytype, train_params, test_params)"
   ]
  },
  {
   "cell_type": "markdown",
   "metadata": {},
   "source": [
    "#### Article"
   ]
  },
  {
   "cell_type": "code",
   "execution_count": 9,
   "metadata": {
    "collapsed": false
   },
   "outputs": [
    {
     "name": "stdout",
     "output_type": "stream",
     "text": [
      "\n",
      "Train:  {'samples': ['random'], 'nss': ['article']}\n",
      "Test:  {'samples': ['random'], 'nss': ['article']} \n",
      "\n",
      "\tROC: 0.834\n",
      "\tSpearman: 0.195\n",
      "\n",
      "Train:  {'samples': ['random', 'blocked'], 'nss': ['article']}\n",
      "Test:  {'samples': ['random'], 'nss': ['article']} \n",
      "\n",
      "\tROC: 0.870\n",
      "\tSpearman: 0.227\n",
      "time: 6min 21s\n"
     ]
    }
   ],
   "source": [
    "train_params = [\n",
    "                {'nss': ['article'],\n",
    "                 'samples': ['random']},\n",
    "                {'nss': ['article'],\n",
    "                 'samples': ['random', 'blocked'] }\n",
    "                ]\n",
    "\n",
    "test_params =  [\n",
    "                {'nss': ['article'],\n",
    "                 'samples': ['random']}\n",
    "                ]\n",
    "\n",
    "test_custom_cross(optimal_pipeline, data, xtype, ytype, train_params, test_params)"
   ]
  },
  {
   "cell_type": "markdown",
   "metadata": {},
   "source": [
    "## Does adding random and blocked data from one namespace help predict on random data from the other namespace?"
   ]
  },
  {
   "cell_type": "markdown",
   "metadata": {},
   "source": [
    "#### User"
   ]
  },
  {
   "cell_type": "code",
   "execution_count": 10,
   "metadata": {
    "collapsed": false
   },
   "outputs": [
    {
     "name": "stdout",
     "output_type": "stream",
     "text": [
      "\n",
      "Train:  {'samples': ['random', 'blocked'], 'nss': ['user']}\n",
      "Test:  {'samples': ['random'], 'nss': ['user']} \n",
      "\n",
      "\tROC: 0.876\n",
      "\tSpearman: 0.540\n",
      "\n",
      "Train:  {'samples': ['random', 'blocked'], 'nss': ['user', 'article']}\n",
      "Test:  {'samples': ['random'], 'nss': ['user']} \n",
      "\n",
      "\tROC: 0.887\n",
      "\tSpearman: 0.548\n",
      "time: 7min 6s\n"
     ]
    }
   ],
   "source": [
    "train_params = [\n",
    "                {'nss': ['user'],\n",
    "                 'samples': ['random', 'blocked']},\n",
    "                {'nss': ['user', 'article'],\n",
    "                 'samples': ['random', 'blocked'] }\n",
    "                ]\n",
    "\n",
    "test_params =  [\n",
    "                {'nss': ['user'],\n",
    "                 'samples': ['random']}\n",
    "                ]\n",
    "\n",
    "test_custom_cross(optimal_pipeline, data, xtype, ytype, train_params, test_params)"
   ]
  },
  {
   "cell_type": "markdown",
   "metadata": {},
   "source": [
    "#### Article"
   ]
  },
  {
   "cell_type": "code",
   "execution_count": 11,
   "metadata": {
    "collapsed": false
   },
   "outputs": [
    {
     "name": "stdout",
     "output_type": "stream",
     "text": [
      "\n",
      "Train:  {'samples': ['random', 'blocked'], 'nss': ['article']}\n",
      "Test:  {'samples': ['random'], 'nss': ['article']} \n",
      "\n",
      "\tROC: 0.870\n",
      "\tSpearman: 0.227\n",
      "\n",
      "Train:  {'samples': ['random', 'blocked'], 'nss': ['user', 'article']}\n",
      "Test:  {'samples': ['random'], 'nss': ['article']} \n",
      "\n",
      "\tROC: 0.886\n",
      "\tSpearman: 0.247\n",
      "time: 7min 1s\n"
     ]
    }
   ],
   "source": [
    "train_params = [\n",
    "                {'nss': ['article'],\n",
    "                 'samples': ['random', 'blocked']},\n",
    "                {'nss': ['user', 'article'],\n",
    "                 'samples': ['random', 'blocked'] }\n",
    "                ]\n",
    "\n",
    "test_params =  [\n",
    "                {'nss': ['article'],\n",
    "                 'samples': ['random']}\n",
    "                ]\n",
    "\n",
    "test_custom_cross(optimal_pipeline, data, xtype, ytype, train_params, test_params)"
   ]
  },
  {
   "cell_type": "markdown",
   "metadata": {},
   "source": [
    "### Check Calibration"
   ]
  },
  {
   "cell_type": "code",
   "execution_count": 12,
   "metadata": {
    "collapsed": false,
    "scrolled": true
   },
   "outputs": [
    {
     "data": {
      "image/png": "[encoded data removed]",
      "text/plain": [
       "<matplotlib.figure.Figure at 0x123b6dd68>"
      ]
     },
     "metadata": {},
     "output_type": "display_data"
    },
    {
     "data": {
      "text/plain": [
       "<matplotlib.figure.Figure at 0x12836c198>"
      ]
     },
     "metadata": {},
     "output_type": "display_data"
    },
    {
     "data": {
      "image/png": "[encoded data removed]",
      "text/plain": [
       "<matplotlib.figure.Figure at 0x13efdb6d8>"
      ]
     },
     "metadata": {},
     "output_type": "display_data"
    },
    {
     "data": {
      "text/plain": [
       "<matplotlib.figure.Figure at 0x14377fd68>"
      ]
     },
     "metadata": {},
     "output_type": "display_data"
    },
    {
     "data": {
      "image/png": "[encoded data removed]",
      "text/plain": [
       "<matplotlib.figure.Figure at 0x13efd6668>"
      ]
     },
     "metadata": {},
     "output_type": "display_data"
    },
    {
     "data": {
      "text/plain": [
       "<matplotlib.figure.Figure at 0x123b73630>"
      ]
     },
     "metadata": {},
     "output_type": "display_data"
    },
    {
     "name": "stdout",
     "output_type": "stream",
     "text": [
      "time: 1min 3s\n"
     ]
    }
   ],
   "source": [
    "y_test_oh = one_hot(y_test)\n",
    "y_pred_ed = model.predict_proba(X_test)\n",
    "\n",
    "if n_classes > 2:\n",
    "    classes = range(n_classes)\n",
    "else:\n",
    "    classes = [1]\n",
    "\n",
    "for i in classes:\n",
    "    plt.figure()\n",
    "    calibration_curve_plotter(y_test_oh[:, i], y_pred_ed[:, i])\n",
    "    plt.show()"
   ]
  },
  {
   "cell_type": "markdown",
   "metadata": {},
   "source": [
    "### Error Analysis"
   ]
  },
  {
   "cell_type": "code",
   "execution_count": 13,
   "metadata": {
    "collapsed": false
   },
   "outputs": [
    {
     "name": "stdout",
     "output_type": "stream",
     "text": [
      "\n",
      "\n",
      "\n",
      "CLASS:  0\n",
      "\n",
      "\n",
      "OVER\n",
      "\n",
      "COMMENT:\n",
      "my buttholei love buttholes. they taste mmm goood. i will never stop vandalizing wikipedia. u no why?  cuz u dont tell me wat to do. k bye i hate you\n",
      "SCORES: Actual: 0.00, Predicted: 1.00, Residual: -1.00\n",
      "\n",
      "\n",
      "COMMENT:\n",
      " HOPE YOUR HEAD GETS CUT OFF AND SOMEONE WIPES THERE ASS WITH IT AND THEN STABS YOU IN YOUR HEART!!! NO ONE CAN KEEP ME FROM HERE YOU DUMB PIECE OF SHIT, NOT YAMLA'S STUPID ASS OR YOU!!! NOW HURRY UP AND SIT IN SOME TRAFFIC SO I CAN SEE YOUR HEAD ROLL DOWN THE STREET\n",
      "SCORES: Actual: 0.00, Predicted: 1.00, Residual: -1.00\n",
      "\n",
      "\n",
      "COMMENT:\n",
      " I kid you not, cunt.\n",
      "SCORES: Actual: 0.00, Predicted: 1.00, Residual: -1.00\n",
      "\n",
      "\n",
      "COMMENT:\n",
      " Listen up. OK, listen up you god damn jerk. I'm really sick and tired of your shit. I'm sick of you stalking me all over wikipedia because I'm editing a page. Just because YOU don't like the edits I make, doesn't mean you have to bully and global block me each time I make an edit OK?? I'm not hurting and offending anyone, so why treat me like a terrorist??I've noticed I'm not the only one you bullied. You are abusing your power as a Wikipedia administrator and you are nothing but a tyrannic\n",
      "SCORES: Actual: 0.00, Predicted: 1.00, Residual: -1.00\n",
      "\n",
      "\n",
      "COMMENT:\n",
      " PUTIN did it! And you know it!  And thats a neutral point of view. Exactly 70 years after the Katyn massacre when you Russkie vodka drinking swines killed 22,000 of Polands intelligentsia they die again at the same place, what the fuck are the odds of that KGB shithead?? Or do you prefer to be called a FSB cunt? And robbing dead people, dont get me started here Russkie. Naturally there will be NO hard core evidence .... as usual but everybody knows thats Stalin boy KGB agent Putin is behind i\n",
      "SCORES: Actual: 0.00, Predicted: 1.00, Residual: -1.00\n",
      "\n",
      "\n",
      "COMMENT:\n",
      "\"   MONGO, tell us. WHY DID YOU DO WTC? Why MONGO? MONGO, tell us. WHY DID YOU DO WTC? Why MONGO? MONGO, tell us. WHY DID YOU DO WTC? Why MONGO? faggotMONGO, tell us. WHY DID YOU DO WTC? Why MONGO? MONGO, tell us. WHY DID YOU DO WTC? Why MONGO? MONGO, tell us. WHY DID YOU DO WTC? Why MONGO? MONGO, tell us. WHY DID YOU DO WTC? Why MONGO? MONGO, tell us. WHY DID YOU DO WTC? Why MONGO? MONGO, tell us. WHY DID YOU DO WTC? Why MONGO? retardMONGO, tell us. WHY DID YOU DO WTC? Why MONGO? MONGO, tell u\n",
      "SCORES: Actual: 0.00, Predicted: 1.00, Residual: -1.00\n",
      "\n",
      "\n",
      "COMMENT:\n",
      "ps. also guys I KNOW we are lazy as fuck but come on we have to..well...stop being lazy! Get some work done XD   \n",
      "SCORES: Actual: 0.00, Predicted: 1.00, Residual: -1.00\n",
      "\n",
      "\n",
      "COMMENT:\n",
      "Oh shut up Bong, your deleting for your fun god damnit   \n",
      "SCORES: Actual: 0.00, Predicted: 1.00, Residual: -1.00\n",
      "\n",
      "\n",
      "COMMENT:\n",
      "veggietales sucks veggietales sucks veggietales sucks veggietales sucks veggietales sucks veggietales sucks veggietales sucks veggietales sucks veggietales sucks veggietales sucks veggietales sucks veggietales sucks veggietales sucks veggietales sucks veggietales sucks veggietales sucks veggietales sucks veggietales sucks veggietales sucks veggietales sucks veggietales sucks veggietales sucks veggietales sucks veggietales sucks veggietales sucks veggietales sucks veggietales sucks veggietales su\n",
      "SCORES: Actual: 0.00, Predicted: 1.00, Residual: -1.00\n",
      "\n",
      "\n",
      "COMMENT:\n",
      "\":Okay, you want trouble. We have a problem on 4 accounts.1. You delete information out of disconcern without even TRYING to look for sources yourself.2. Even dumber, you personally deliver a provacative message to the person who typed the information.3. You brought up those stupid wikipedia policies as if I'm fucking retard that doesn't know the rules. Honestly, who do you think you're fooling?4. You brought the unpopular/unfathomable name, \"\"Jason Anthony Griffith\"\" to my talk page whi\n",
      "SCORES: Actual: 0.00, Predicted: 0.99, Residual: -0.99\n",
      "\n",
      "\n",
      "\n",
      "\n",
      "UNDER\n",
      "\n",
      "COMMENT:\n",
      "[[==:Amortias is M(o)ther (fu)k(er)==\n",
      "SCORES: Actual: 1.00, Predicted: 0.00, Residual: 1.00\n",
      "\n",
      "\n",
      "COMMENT:\n",
      "not exactly open minded are you?I have arrived just in time \n",
      "SCORES: Actual: 1.00, Predicted: 0.00, Residual: 1.00\n",
      "\n",
      "\n",
      "COMMENT:\n",
      "Please stop shouting (the highlight above, was copied from a Wikipedia policy article). Once you regain some level of civility I may be inclined to answr this question.   \n",
      "SCORES: Actual: 1.00, Predicted: 0.00, Residual: 1.00\n",
      "\n",
      "\n",
      "COMMENT:\n",
      " Hi Yes its me Whore. ) talk 71.57.145.221  \n",
      "SCORES: Actual: 1.00, Predicted: 0.00, Residual: 1.00\n",
      "\n",
      "\n",
      "COMMENT:\n",
      "tno thanks mate p i s s offe\n",
      "SCORES: Actual: 1.00, Predicted: 0.00, Residual: 1.00\n",
      "\n",
      "\n",
      "COMMENT:\n",
      "These messages keep getting censored by the notorious Steinskly, a Sustrans employee deseperate to conceal the reality of his patron.  Could we please have that person banned?\n",
      "SCORES: Actual: 1.00, Predicted: 0.00, Residual: 1.00\n",
      "\n",
      "\n",
      "COMMENT:\n",
      "\" SOF is junk. If it had anything of value to say about climate, the thing to do would be to add it there before discussing it here. Still, if you can remember any of the \"\"strong and effective arguments\"\" you could mention them in talk here, and we can have fun ripping them to shreds  \"\n",
      "SCORES: Actual: 1.00, Predicted: 0.00, Residual: 1.00\n",
      "\n",
      "\n",
      "COMMENT:\n",
      "\"Butthead]], there'd be many \"\"laughs and grunts\"\" about the word \"\"fanny\"\".   Thank you.    \"\n",
      "SCORES: Actual: 1.00, Predicted: 0.00, Residual: 1.00\n",
      "\n",
      "\n",
      "COMMENT:\n",
      "\"At the risk of stating the obvious - They're a British group, centered in Britain, comprised mostly of Brits, working for a terriably British institution and the story of the group takes place largely in Britain. Couple with this the fact that a lot of the people contributing are British, and I think you have yer answer. We could americanise it by throwing in a few cowboys and a car chase. And they can all keep calling each other \"\"Assholes\"\". We'd have to remove any aspect of comedy from the\n",
      "SCORES: Actual: 1.00, Predicted: 0.00, Residual: 1.00\n",
      "\n",
      "\n",
      "COMMENT:\n",
      "\":So you have no reason for how Othello is relevant at hand, huh? You continuing to ignore the editorial at hand, huh? You don't think I'm a good-faith editor, huh? Even though I've made tons of edits that been included into this article  I'm still not \"\"good-faith\"\" enough for you, huh? Oh, by the way, if you have a problem with me editing WP because of something that you believe happened in the past, take it to the correct noticeboard, don't continue to make the same trite comment.   \"\n",
      "SCORES: Actual: 1.00, Predicted: 0.00, Residual: 1.00\n",
      "\n",
      "\n",
      "\n",
      "\n",
      "\n",
      "CLASS:  1\n",
      "\n",
      "\n",
      "OVER\n",
      "\n",
      "COMMENT:\n",
      "[[==:Amortias is M(o)ther (fu)k(er)==\n",
      "SCORES: Actual: 0.00, Predicted: 1.00, Residual: -1.00\n",
      "\n",
      "\n",
      "COMMENT:\n",
      "Please stop shouting (the highlight above, was copied from a Wikipedia policy article). Once you regain some level of civility I may be inclined to answr this question.   \n",
      "SCORES: Actual: 0.00, Predicted: 1.00, Residual: -1.00\n",
      "\n",
      "\n",
      "COMMENT:\n",
      "Photo?I think that a photo of the classic presentation of the atopic syndrome would be helpful.  \n",
      "SCORES: Actual: 0.00, Predicted: 1.00, Residual: -1.00\n",
      "\n",
      "\n",
      "COMMENT:\n",
      "not exactly open minded are you?I have arrived just in time \n",
      "SCORES: Actual: 0.00, Predicted: 1.00, Residual: -1.00\n",
      "\n",
      "\n",
      "COMMENT:\n",
      "I have removed the delete tag, after discussion - see file talk page. Thanks,   \n",
      "SCORES: Actual: 0.00, Predicted: 1.00, Residual: -1.00\n",
      "\n",
      "\n",
      "COMMENT:\n",
      "\" SOF is junk. If it had anything of value to say about climate, the thing to do would be to add it there before discussing it here. Still, if you can remember any of the \"\"strong and effective arguments\"\" you could mention them in talk here, and we can have fun ripping them to shreds  \"\n",
      "SCORES: Actual: 0.00, Predicted: 1.00, Residual: -1.00\n",
      "\n",
      "\n",
      "COMMENT:\n",
      " I'm actually inclined to agree with this. I'll trim it. Cheers.  \n",
      "SCORES: Actual: 0.00, Predicted: 1.00, Residual: -1.00\n",
      "\n",
      "\n",
      "COMMENT:\n",
      " Hi Yes its me Whore. ) talk 71.57.145.221  \n",
      "SCORES: Actual: 0.00, Predicted: 1.00, Residual: -1.00\n",
      "\n",
      "\n",
      "COMMENT:\n",
      "Thanks for the good advice. Another aspect that concerns me though is that there are some pretty specific and unpleasant, possibly libellous, attacks and accusations levelled at the main subject (or suspect as I guess they see it) of the attack and several others mentioned therein. They're detailed enough that the subjects may be identifiable. Do WP:BLP type rules apply regarding potentially libellous material on talk pages?   \n",
      "SCORES: Actual: 0.00, Predicted: 1.00, Residual: -1.00\n",
      "\n",
      "\n",
      "COMMENT:\n",
      " Semi-protected edit request on 20 July 2014 Spanish Gini coefficient is no longer 34.0 Now it´s 33.7 so it changes from medium to high.In this website http://epp.eurostat.ec.europa.eu/tgm/table.do?tab=table&language;=en&pcode;=tessi190 you can see the variation.  \n",
      "SCORES: Actual: 0.00, Predicted: 1.00, Residual: -1.00\n",
      "\n",
      "\n",
      "\n",
      "\n",
      "UNDER\n",
      "\n",
      "COMMENT:\n",
      " HOPE YOUR HEAD GETS CUT OFF AND SOMEONE WIPES THERE ASS WITH IT AND THEN STABS YOU IN YOUR HEART!!! NO ONE CAN KEEP ME FROM HERE YOU DUMB PIECE OF SHIT, NOT YAMLA'S STUPID ASS OR YOU!!! NOW HURRY UP AND SIT IN SOME TRAFFIC SO I CAN SEE YOUR HEAD ROLL DOWN THE STREET\n",
      "SCORES: Actual: 1.00, Predicted: 0.00, Residual: 1.00\n",
      "\n",
      "\n",
      "COMMENT:\n",
      "my buttholei love buttholes. they taste mmm goood. i will never stop vandalizing wikipedia. u no why?  cuz u dont tell me wat to do. k bye i hate you\n",
      "SCORES: Actual: 1.00, Predicted: 0.00, Residual: 1.00\n",
      "\n",
      "\n",
      "COMMENT:\n",
      " I kid you not, cunt.\n",
      "SCORES: Actual: 1.00, Predicted: 0.00, Residual: 1.00\n",
      "\n",
      "\n",
      "COMMENT:\n",
      " PUTIN did it! And you know it!  And thats a neutral point of view. Exactly 70 years after the Katyn massacre when you Russkie vodka drinking swines killed 22,000 of Polands intelligentsia they die again at the same place, what the fuck are the odds of that KGB shithead?? Or do you prefer to be called a FSB cunt? And robbing dead people, dont get me started here Russkie. Naturally there will be NO hard core evidence .... as usual but everybody knows thats Stalin boy KGB agent Putin is behind i\n",
      "SCORES: Actual: 1.00, Predicted: 0.00, Residual: 1.00\n",
      "\n",
      "\n",
      "COMMENT:\n",
      " Listen up. OK, listen up you god damn jerk. I'm really sick and tired of your shit. I'm sick of you stalking me all over wikipedia because I'm editing a page. Just because YOU don't like the edits I make, doesn't mean you have to bully and global block me each time I make an edit OK?? I'm not hurting and offending anyone, so why treat me like a terrorist??I've noticed I'm not the only one you bullied. You are abusing your power as a Wikipedia administrator and you are nothing but a tyrannic\n",
      "SCORES: Actual: 1.00, Predicted: 0.00, Residual: 1.00\n",
      "\n",
      "\n",
      "COMMENT:\n",
      "\"   MONGO, tell us. WHY DID YOU DO WTC? Why MONGO? MONGO, tell us. WHY DID YOU DO WTC? Why MONGO? MONGO, tell us. WHY DID YOU DO WTC? Why MONGO? faggotMONGO, tell us. WHY DID YOU DO WTC? Why MONGO? MONGO, tell us. WHY DID YOU DO WTC? Why MONGO? MONGO, tell us. WHY DID YOU DO WTC? Why MONGO? MONGO, tell us. WHY DID YOU DO WTC? Why MONGO? MONGO, tell us. WHY DID YOU DO WTC? Why MONGO? MONGO, tell us. WHY DID YOU DO WTC? Why MONGO? retardMONGO, tell us. WHY DID YOU DO WTC? Why MONGO? MONGO, tell u\n",
      "SCORES: Actual: 1.00, Predicted: 0.00, Residual: 1.00\n",
      "\n",
      "\n",
      "COMMENT:\n",
      "ps. also guys I KNOW we are lazy as fuck but come on we have to..well...stop being lazy! Get some work done XD   \n",
      "SCORES: Actual: 1.00, Predicted: 0.00, Residual: 1.00\n",
      "\n",
      "\n",
      "COMMENT:\n",
      "Oh shut up Bong, your deleting for your fun god damnit   \n",
      "SCORES: Actual: 1.00, Predicted: 0.00, Residual: 1.00\n",
      "\n",
      "\n",
      "COMMENT:\n",
      "  Youpi !  Hihihi !\n",
      "SCORES: Actual: 1.00, Predicted: 0.00, Residual: 1.00\n",
      "\n",
      "\n",
      "COMMENT:\n",
      "veggietales sucks veggietales sucks veggietales sucks veggietales sucks veggietales sucks veggietales sucks veggietales sucks veggietales sucks veggietales sucks veggietales sucks veggietales sucks veggietales sucks veggietales sucks veggietales sucks veggietales sucks veggietales sucks veggietales sucks veggietales sucks veggietales sucks veggietales sucks veggietales sucks veggietales sucks veggietales sucks veggietales sucks veggietales sucks veggietales sucks veggietales sucks veggietales su\n",
      "SCORES: Actual: 1.00, Predicted: 0.00, Residual: 1.00\n",
      "\n",
      "\n",
      "\n",
      "\n",
      "\n",
      "CLASS:  2\n",
      "\n",
      "\n",
      "OVER\n",
      "\n",
      "COMMENT:\n",
      " Thank you! Thanks for the praise of John Sherman.  I'm glad to see someone enjoyed reading it!    \n",
      "SCORES: Actual: 0.00, Predicted: 0.99, Residual: -0.99\n",
      "\n",
      "\n",
      "COMMENT:\n",
      " thank you ) Thank you Thingy for the (loud) welcome! I'm new on the site.   \n",
      "SCORES: Actual: 0.00, Predicted: 0.97, Residual: -0.97\n",
      "\n",
      "\n",
      "COMMENT:\n",
      " Thank you you gave me some advice long ago when i last logged in and i just saw it. thanks for the help\n",
      "SCORES: Actual: 0.00, Predicted: 0.97, Residual: -0.97\n",
      "\n",
      "\n",
      "COMMENT:\n",
      "Oh, I see. Thank you!\n",
      "SCORES: Actual: 0.00, Predicted: 0.95, Residual: -0.95\n",
      "\n",
      "\n",
      "COMMENT:\n",
      " Thanks for the award! -  \n",
      "SCORES: Actual: 0.00, Predicted: 0.94, Residual: -0.94\n",
      "\n",
      "\n",
      "COMMENT:\n",
      "\"== Thanks dude! I love you! ==Yeah thanks for \"\"Nominating\"\" my artcile. I really appreciate your kindness beyond measure! I would like to announce I am \"\"Nominating\"\" you for something as well! It's the \"\"Dick of The Entire Year\"\" award! You and Al Gore are pretty likely winners so keep an eye open for that! Of course, as long as you aren't too busy having a blast \"\"Nominating\"\" things already. Cya!\"\n",
      "SCORES: Actual: 0.00, Predicted: 0.93, Residual: -0.93\n",
      "\n",
      "\n",
      "COMMENT:\n",
      "\" thanks for my suspention hi HERE to say THANKS for deleting my work and suspending me form wikipedia and the rude email \"\"if u hate wikipedia so much.....LEAVE' well im still HERE! have a great day lot of love idoit\"\n",
      "SCORES: Actual: 0.00, Predicted: 0.91, Residual: -0.91\n",
      "\n",
      "\n",
      "COMMENT:\n",
      "\"You're welcome! I'm glad I could help! By the way you're doing a fantastic job at the Mir article. It looks set to become featured soon!   ★ talk \"\n",
      "SCORES: Actual: 0.00, Predicted: 0.90, Residual: -0.90\n",
      "\n",
      "\n",
      "COMMENT:\n",
      " Thanks Thanks for the barnstar )  \n",
      "SCORES: Actual: 0.00, Predicted: 0.90, Residual: -0.90\n",
      "\n",
      "\n",
      "COMMENT:\n",
      "Thanks for the unblock. Much appreciated.   \n",
      "SCORES: Actual: 0.00, Predicted: 0.89, Residual: -0.89\n",
      "\n",
      "\n",
      "\n",
      "\n",
      "UNDER\n",
      "\n",
      "COMMENT:\n",
      " Semi-protected edit request on 20 July 2014 Spanish Gini coefficient is no longer 34.0 Now it´s 33.7 so it changes from medium to high.In this website http://epp.eurostat.ec.europa.eu/tgm/table.do?tab=table&language;=en&pcode;=tessi190 you can see the variation.  \n",
      "SCORES: Actual: 1.00, Predicted: 0.00, Residual: 1.00\n",
      "\n",
      "\n",
      "COMMENT:\n",
      "Dear Dr. Kolb: Please be aware that Wikipedia has policies against self-promotion. Please stop trying to advertise on the Morgellons page.   \n",
      "SCORES: Actual: 1.00, Predicted: 0.00, Residual: 1.00\n",
      "\n",
      "\n",
      "COMMENT:\n",
      "Wrong, he was 100% Irish. He was born in Sandymount in Dublin, in Ireland; he lived Irish and died Irish. He was about as Anglo-Irish as the PIRA.\n",
      "SCORES: Actual: 1.00, Predicted: 0.00, Residual: 1.00\n",
      "\n",
      "\n",
      "COMMENT:\n",
      "Hi Xanadu, thanks for the message. Frankly I don't even think we need an RfA... it's clear that FoC is not editing in good faith, besides, his claims are so ridiculous and unsubstantiated we need not take him seriously. This is not the first time Nanjing Massacre et al has come under attack, I think, and the 2 archive pages can testify to that. ;) So don't feed the troll, and if he tries to pick a fight just dismiss him. We've all tried to talk and reason - not much results produced. This whole \n",
      "SCORES: Actual: 1.00, Predicted: 0.00, Residual: 1.00\n",
      "\n",
      "\n",
      "COMMENT:\n",
      "Hi can't we all be civilized about this? In what sense was what I was doing threatening? Hmm? Did you think about that? Hmm? Did you? And tell Ann that maybe she shouldn't post so much personal information online. Its pretty easy to get her address details from the amount of information she has posted on her page. And then anything might be sent in the post.  \n",
      "SCORES: Actual: 1.00, Predicted: 0.00, Residual: 1.00\n",
      "\n",
      "\n",
      "COMMENT:\n",
      " Natasha/Aimee,is a fine specimen.\n",
      "SCORES: Actual: 1.00, Predicted: 0.00, Residual: 1.00\n",
      "\n",
      "\n",
      "COMMENT:\n",
      "\" Oh please, please, please, can I be unblocked sir? \"\n",
      "SCORES: Actual: 1.00, Predicted: 0.00, Residual: 1.00\n",
      "\n",
      "\n",
      "COMMENT:\n",
      "Photo?I think that a photo of the classic presentation of the atopic syndrome would be helpful.  \n",
      "SCORES: Actual: 1.00, Predicted: 0.00, Residual: 1.00\n",
      "\n",
      "\n",
      "COMMENT:\n",
      " Mama's Family edit Thanx for the mama's family edit compromise thing. Maybe you're not such a bad guy after all )   \n",
      "SCORES: Actual: 1.00, Predicted: 0.00, Residual: 1.00\n",
      "\n",
      "\n",
      "COMMENT:\n",
      "I have removed the delete tag, after discussion - see file talk page. Thanks,   \n",
      "SCORES: Actual: 1.00, Predicted: 0.00, Residual: 1.00\n",
      "\n",
      "\n",
      "time: 87.9 ms\n"
     ]
    }
   ],
   "source": [
    "for i in classes:\n",
    "    print('\\n\\n\\nCLASS: ', i)\n",
    "    over, under = get_errors(X_test, y_test_oh[:, i], y_pred_ed[:, i])\n",
    "    print('\\n\\nOVER\\n')\n",
    "    print_errors(over, n=10)\n",
    "    print('\\n\\nUNDER\\n')\n",
    "    print_errors(under, n=10)"
   ]
  },
  {
   "cell_type": "markdown",
   "metadata": {},
   "source": [
    "### Learning Curves!\n",
    "How does adding more training data improve performance?"
   ]
  },
  {
   "cell_type": "code",
   "execution_count": 14,
   "metadata": {
    "collapsed": false
   },
   "outputs": [
    {
     "name": "stdout",
     "output_type": "stream",
     "text": [
      "time: 1.32 ms\n"
     ]
    }
   ],
   "source": [
    "#ms, metrics = eval_adding_other_data(optimal_pipeline, None, None, X_test, y_test, X_train, y_train, roc_scorer)\n",
    "#plot_adding_other_data(ms, metrics)"
   ]
  },
  {
   "cell_type": "markdown",
   "metadata": {},
   "source": [
    "### Model Understanding"
   ]
  },
  {
   "cell_type": "code",
   "execution_count": 15,
   "metadata": {
    "collapsed": false
   },
   "outputs": [
    {
     "name": "stdout",
     "output_type": "stream",
     "text": [
      "\n",
      "\n",
      "CLASS:  0\n",
      "STRONG POS: \n",
      "[' di' 'um' 't.' 'ss' ' nigg' 'cum' ' foo' 'id' 'u ' 'umb' 'l ' 'nigg'\n",
      " 'phil' 'cks' 'stu' 'hell' 'suck ' 'ick' ' li' 'enis' ' na' 'stop ' 't up'\n",
      " 'fu' 'usti' ' fag' 'oro' 'ude' 'shit ' 'f' ' an' 'yo' 'uck' 'foo' 'y mo'\n",
      " ' peni' '\"\"' 'cun' ' off' 'ole' 'ipp' 'penis' 're a ' 'dic' 'lls' ' die'\n",
      " 'i hat' 'you' 'pi' 'cis' ' hate' 'nke' ' cun' ' rac' '!' 'itc' 'cunt'\n",
      " ' cunt' 'fuck ' 'itch' ' gay' 'gina' '*' ' shit' 'dou' ' dick' 'azi' ' id'\n",
      " 'fag' 'ass' 'rap' 'hit' 'sh' 'mn' ' je' 'gay' 'lia' ' hell' 'ck' 'dam'\n",
      " ' fuck' 'moro' 'dick' ' suck' 'oron' 'hole' 'dio' ' fuc' 'crap' 'suck'\n",
      " ' ass' 'sex' 'idi' 'tard' 'fuck' 'shit' 'iot' 'fuc' 'upi' 'pid']\n",
      "STRONG NEG: \n",
      "['. ' 'thank' 'hank' 'hi ' 'hello' 'ello' 'assu' ')' ' grea' ' \"' 'ank'\n",
      " 'tag' '/' 'lu' ' gre' ' whol' 'whol' 'bal' 'grea' 'log' 'unl' 'put' 'lp'\n",
      " 'great' '. tha' ' but ' 'ank y' 'ok' 'pl' 'uff' 'than' ' hu' 'wish' ' sho'\n",
      " 'roc' ' lis' 'ssu' 'pli' ') ' 'zin' 'so' 'rum' 'cess' 'hank ' ' fl' 'work'\n",
      " ' jo' 't, i' 'nam' 'ture' ' list' 'cou' 'ful' 'ron ' 'ank ' 're' 'w a'\n",
      " 'ore a' ' lin' 'e. ' 'nic' '. c' 'e add' 'u don' 'lot ' ' gl' '\\na' 'y sh'\n",
      " 'tell ' 'llo' 'hanks' 'tr' 'py ' 'doc' ' wat' ' stud' 'sum' 'idea' '\\ni'\n",
      " 'anks' 'ook' ' idea' 'v' ' nic' 'stud' ' tag' ' 200' 'ide' 'rs. ' ']'\n",
      " ' eas' ' ope' 'elp' 'sid' ' help' 'sso' 'lis' 'week' 'ark' 'sist']\n",
      "\n",
      "\n",
      "CLASS:  1\n",
      "STRONG POS: \n",
      "['05' 'e com' 'ig' ' bar' 't ba' 'wh' 'ub' ' list' '/' 'rate ' 'a o' 'pl'\n",
      " 'tia' \"'s c\" 'all ' 'cess' 'ore a' 'is l' 'nto' 'out' 't ge' ' but' 'ura'\n",
      " 'per ' 'loc' 'link' 'e o' 'e tr' 'not' 'stud' ' hol' ' lis' 'rus' 'uar'\n",
      " 'c) ' \" '\" 'e ho' 'v' 'roc' ' stud' 'bal' 'sup' 'lu' 'mber' 'se a' 's r'\n",
      " 'zin' 'as d' 'hite' ' sp' 'n so' 'put' 'tian' ', wi' 'doc' 'ier' 'ect t'\n",
      " 'ook' 'trac' ' pas' 'etr' 'but ' 'aye' 'er f' '\\na' 'ed' 'sum' ' 19'\n",
      " 'o as' ' lin' ' sho' ' cri' 'ron ' 'pli' 'al' 'ello' ' \"' 'pas' 'e pi'\n",
      " 'nne' 'e le' 'u don' '. tha' 'e rea' 'ua' '. ' 'ssu' 'tell ' 'o e' 'unl'\n",
      " 't, i' 'ark' ' but ' 'tag' 'whol' ' whol' 'hello' ' fl' 'assu' '?']\n",
      "STRONG NEG: \n",
      "['pid' 'upi' 'fuc' 'fuck' 'shit' 'iot' 'tard' 'idi' 'sex' 'suck' ' ass'\n",
      " ' fuc' '!' ' fuck' 'crap' 'oron' 'moro' ' suck' 'hole' 'dick' 'dio' ' id'\n",
      " 'lia' 'azi' 'fu' 'dam' 'you' 'gay' 'hit' 'mn' 'dou' ' shit' '! h' 'sh'\n",
      " 'fag' '*' 'rap' ' hell' 'gina' 'fuck ' ' dick' ' cunt' 'ob' '. g' ' rac'\n",
      " 'cunt' ' je' 'cis' 'yo' 'phil' ' gay' 'pi' 'nke' 'ck' ' cun' 'red t' 'low'\n",
      " 'ss' 'foo' 'rat' 'penis' 'y mo' 'e da' 'itch' 'umb' 'y ' 's si' ' hate'\n",
      " 'lut' ' peni' '. do' 'nigg' 'o in' 'butt' 'cum' 'ude' ' nigg' 'ass' 'oro'\n",
      " 'aa' 'i hat' ' die' 'suck ' ' foo' ' l' '9.' 'itc' 'oo' 'gen' ' wor'\n",
      " 'shit ' 'uck' 'cun' '? i' 't.' ' an' 'nj' ' pe' 'ong' 't me']\n",
      "\n",
      "\n",
      "CLASS:  2\n",
      "STRONG POS: \n",
      "['we' ' a re' ' mi' 'te i' 'e mor' 've y' ' wis' 'ul ' 'r use' ' goo' ') '\n",
      " 'unn' ' gre' 't wa' ' che' ' lo' 'ar ' 'orry ' 've yo' 'nk' ' hap' 'nks'\n",
      " 'elp' ' gl' 'help' 'au' 'a re' 'ice' 'ir' ' )' ' aw' ' happ' 'arm' 't wo'\n",
      " 'wis' 'i a' ']' 'hap' 'lle' 'ice ' 'y ' ' exc' 'k f' 'gr' 'ton' ' bes'\n",
      " 'ok' 'pret' 'e lo' '_' ' =' 'y he' 'rry ' 'best' 'co' ' lov' 'tif' 'd wo'\n",
      " 'ind' ' best' 'st w' 'e da' 'ank ' 'gra' ' nic' ' jo' 'good' ' love' 'jo'\n",
      " 'xc' 'exc' 'grea' 'hank ' 'happ' 'rat' 'apo' 'lov' ' good' 'love' 'great'\n",
      " 'e' 'anks' ')' 'han' 'len' '. ' 'eer' 'hi ' 'hanks' ' grea' 'ank y' 'py'\n",
      " '! ' 'eso' 'nic' 'py ' 'than' 'ank' 'hank' 'thank']\n",
      "STRONG NEG: \n",
      "['?' '\"\"' 'ppe' ': ' 'am' 'ck' 'ash' 'a' ' no ' 'ass' 'u' '? ' 'oc' ' he '\n",
      " 'an a' 'dic' ' his ' 'cr' 'n w' 'g s' ' nig' 'pe' \"'s t\" '19' 'nig' 'ede'\n",
      " '\\n' ' di' ' je' 'ock' 'un' 'ng s' ' blo' 'him' 'el ' 'ou l' 'e le'\n",
      " 'you l' 'lt' ' hell' 'h' 'is ' 'chin' 'unc' 'ing s' 'du' 'di' 'c) ' 'stop'\n",
      " 'stop ' 'dam' 'e a ' '24' 'appe' 's d' 'g to ' 'p' 'ks.' 'al' 'of i'\n",
      " '. yo' 'dar' '. you' ', h' ' of i' 'cki' 'han ' 'n' 'blo' 'than ' 'e was'\n",
      " 'sex' 'wh' 't ad' 'o on' 'the l' 'e wa' 'sl' 'get ' '. y' 'even' 'yours'\n",
      " 'pac' 'nis' ' get ' ' dic' ' t' 'off' 'use ' 'y m' 'dr' 'dio' 'ult' 't r'\n",
      " 'ull' 'rks' ' d' 'ece' ' som' 'ry,']\n",
      "time: 46.3 ms\n"
     ]
    }
   ],
   "source": [
    "feature_names = np.array(model.named_steps['vect'].get_feature_names())\n",
    "for i in classes:\n",
    "    print('\\n\\nCLASS: ', i)\n",
    "    \n",
    "    try:\n",
    "        coef = model.named_steps['clf'].coef_[i].ravel()\n",
    "    except:\n",
    "        coef = model.named_steps['clf'].coef_.ravel()\n",
    "    most_pos_idx = np.argsort(coef)[-100:]\n",
    "    most_pos = feature_names[most_pos_idx]\n",
    "    print('STRONG POS: ')\n",
    "    print(most_pos)\n",
    "    most_neg_idx = np.argsort(coef)[:100]\n",
    "    most_neg = feature_names[most_neg_idx]\n",
    "    print('STRONG NEG: ')\n",
    "    print(most_neg)"
   ]
  },
  {
   "cell_type": "markdown",
   "metadata": {},
   "source": [
    "### Final Model"
   ]
  },
  {
   "cell_type": "code",
   "execution_count": 16,
   "metadata": {
    "collapsed": false
   },
   "outputs": [
    {
     "data": {
      "text/plain": [
       "['../../models/aggression_ngram.pkl',\n",
       " '../../models/aggression_ngram.pkl_01.npy',\n",
       " '../../models/aggression_ngram.pkl_02.npy',\n",
       " '../../models/aggression_ngram.pkl_03.npy',\n",
       " '../../models/aggression_ngram.pkl_04.npy',\n",
       " '../../models/aggression_ngram.pkl_05.npy',\n",
       " '../../models/aggression_ngram.pkl_06.npy']"
      ]
     },
     "execution_count": 16,
     "metadata": {},
     "output_type": "execute_result"
    },
    {
     "name": "stdout",
     "output_type": "stream",
     "text": [
      "time: 7min 28s\n"
     ]
    }
   ],
   "source": [
    "X, y = assemble_data(data, xtype, ytype)\n",
    "final_model = optimal_pipeline.fit(X, y)\n",
    "joblib.dump(final_model, '../../models/%s_ngram.pkl' % task)"
   ]
  }
 ],
 "metadata": {
  "kernelspec": {
   "display_name": "Python 3",
   "language": "python",
   "name": "python3"
  },
  "language_info": {
   "codemirror_mode": {
    "name": "ipython",
    "version": 3
   },
   "file_extension": ".py",
   "mimetype": "text/x-python",
   "name": "python",
   "nbconvert_exporter": "python",
   "pygments_lexer": "ipython3",
   "version": "3.5.1"
  }
 },
 "nbformat": 4,
 "nbformat_minor": 0
}
