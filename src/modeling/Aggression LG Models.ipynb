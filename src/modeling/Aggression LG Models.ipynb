{
 "cells": [
  {
   "cell_type": "code",
   "execution_count": 1,
   "metadata": {
    "collapsed": false
   },
   "outputs": [],
   "source": [
    "%load_ext autoreload\n",
    "%autoreload 2\n",
    "%matplotlib inline\n",
    "%load_ext autotime\n",
    "\n",
    "import warnings\n",
    "warnings.filterwarnings('ignore')\n",
    "\n",
    "from ngram import *\n",
    "from baselines import *\n",
    "from error_analysis import *"
   ]
  },
  {
   "cell_type": "markdown",
   "metadata": {},
   "source": [
    "### Load Annotated Data"
   ]
  },
  {
   "cell_type": "code",
   "execution_count": 2,
   "metadata": {
    "collapsed": false
   },
   "outputs": [
    {
     "name": "stdout",
     "output_type": "stream",
     "text": [
      "time: 25.7 s\n"
     ]
    }
   ],
   "source": [
    "task = 'aggression'\n",
    "xtype = 'comments'\n",
    "ytype = 'plurality'\n",
    "n_classes = 3\n",
    "annotations = load_annotations()"
   ]
  },
  {
   "cell_type": "code",
   "execution_count": 3,
   "metadata": {
    "collapsed": false
   },
   "outputs": [
    {
     "name": "stdout",
     "output_type": "stream",
     "text": [
      "time: 1min 58s\n"
     ]
    }
   ],
   "source": [
    "data = label_and_split(annotations, task)\n",
    "X_train, y_train = assemble_data(data, xtype, ytype, splits = ['train'])\n",
    "X_test, y_test = assemble_data(data, xtype, 'empirical_dist', splits = ['test'])"
   ]
  },
  {
   "cell_type": "markdown",
   "metadata": {
    "collapsed": true
   },
   "source": [
    "### Hyper-Parameter tuning"
   ]
  },
  {
   "cell_type": "code",
   "execution_count": 4,
   "metadata": {
    "collapsed": false
   },
   "outputs": [
    {
     "name": "stdout",
     "output_type": "stream",
     "text": [
      "time: 1.46 ms\n"
     ]
    }
   ],
   "source": [
    "cv_pipeline = Pipeline([\n",
    "    ('vect', CountVectorizer()),\n",
    "    ('tfidf', TfidfTransformer(sublinear_tf=True,norm='l2')),\n",
    "    ('clf', LogisticRegression(solver = 'lbfgs', multi_class = 'multinomial')),\n",
    "])"
   ]
  },
  {
   "cell_type": "code",
   "execution_count": 5,
   "metadata": {
    "collapsed": false
   },
   "outputs": [
    {
     "name": "stdout",
     "output_type": "stream",
     "text": [
      "\n",
      "Best parameters set found:\n",
      "{'vect__ngram_range': (1, 5), 'vect__max_features': 50000, 'vect__analyzer': 'char'} 0.939158856797\n",
      "\n",
      "\n",
      "Grid scores:\n",
      "0.89535 (+/-0.00000) for {'vect__ngram_range': (1, 5), 'vect__max_features': 500, 'vect__analyzer': 'char'}\n",
      "0.92964 (+/-0.00000) for {'vect__ngram_range': (1, 5), 'vect__max_features': 5000, 'vect__analyzer': 'char'}\n",
      "0.93225 (+/-0.00000) for {'vect__ngram_range': (1, 5), 'vect__max_features': 10000, 'vect__analyzer': 'char'}\n",
      "0.93916 (+/-0.00000) for {'vect__ngram_range': (1, 5), 'vect__max_features': 50000, 'vect__analyzer': 'char'}\n",
      "0.93777 (+/-0.00000) for {'vect__ngram_range': (1, 5), 'vect__max_features': None, 'vect__analyzer': 'char'}\n",
      "time: 9min 57s\n"
     ]
    }
   ],
   "source": [
    "param_grid = {\n",
    "    'vect__max_features': (500, 5000, 10000, 50000, None), \n",
    "    'vect__ngram_range': ((1,5),),  \n",
    "    'vect__analyzer' : ('char',), \n",
    "}\n",
    "\n",
    "tune (X_train, y_train, cv_pipeline, param_grid, roc_scorer, n_jobs=8, verbose=True)"
   ]
  },
  {
   "cell_type": "markdown",
   "metadata": {},
   "source": [
    "### Eval Best Pipeline"
   ]
  },
  {
   "cell_type": "code",
   "execution_count": 6,
   "metadata": {
    "collapsed": false
   },
   "outputs": [
    {
     "name": "stdout",
     "output_type": "stream",
     "text": [
      "time: 24.7 ms\n"
     ]
    }
   ],
   "source": [
    "optimal_pipeline = Pipeline([\n",
    "    ('vect', CountVectorizer(ngram_range = (1,6), analyzer = 'char', max_features = 10000)),\n",
    "    ('tfidf', TfidfTransformer(sublinear_tf=True,norm='l2')),\n",
    "    ('clf', LogisticRegression(C = 5.0, solver = 'lbfgs', multi_class= 'multinomial')),\n",
    "])"
   ]
  },
  {
   "cell_type": "code",
   "execution_count": 7,
   "metadata": {
    "collapsed": false
   },
   "outputs": [
    {
     "name": "stdout",
     "output_type": "stream",
     "text": [
      "time: 9min 41s\n"
     ]
    }
   ],
   "source": [
    "model = optimal_pipeline.fit(X_train, y_train)\n",
    "roc_df, spearman_df = test_cross(model, data, xtype)"
   ]
  },
  {
   "cell_type": "code",
   "execution_count": 11,
   "metadata": {
    "collapsed": false
   },
   "outputs": [
    {
     "data": {
      "text/html": [
       "<div>\n",
       "<table border=\"1\" class=\"dataframe\">\n",
       "  <thead>\n",
       "    <tr style=\"text-align: right;\">\n",
       "      <th></th>\n",
       "      <th>random</th>\n",
       "      <th>blocked</th>\n",
       "      <th>both</th>\n",
       "    </tr>\n",
       "  </thead>\n",
       "  <tbody>\n",
       "    <tr>\n",
       "      <th>user</th>\n",
       "      <td>0.905629</td>\n",
       "      <td>0.919697</td>\n",
       "      <td>0.926634</td>\n",
       "    </tr>\n",
       "    <tr>\n",
       "      <th>article</th>\n",
       "      <td>0.853283</td>\n",
       "      <td>0.916404</td>\n",
       "      <td>0.895659</td>\n",
       "    </tr>\n",
       "    <tr>\n",
       "      <th>both</th>\n",
       "      <td>0.905141</td>\n",
       "      <td>0.925848</td>\n",
       "      <td>0.929799</td>\n",
       "    </tr>\n",
       "  </tbody>\n",
       "</table>\n",
       "</div>"
      ],
      "text/plain": [
       "           random   blocked      both\n",
       "user     0.905629  0.919697  0.926634\n",
       "article  0.853283  0.916404  0.895659\n",
       "both     0.905141  0.925848  0.929799"
      ]
     },
     "execution_count": 11,
     "metadata": {},
     "output_type": "execute_result"
    },
    {
     "name": "stdout",
     "output_type": "stream",
     "text": [
      "time: 12.3 ms\n"
     ]
    }
   ],
   "source": [
    "roc_df"
   ]
  },
  {
   "cell_type": "code",
   "execution_count": 10,
   "metadata": {
    "collapsed": false
   },
   "outputs": [
    {
     "data": {
      "text/html": [
       "<div>\n",
       "<table border=\"1\" class=\"dataframe\">\n",
       "  <thead>\n",
       "    <tr style=\"text-align: right;\">\n",
       "      <th></th>\n",
       "      <th>random</th>\n",
       "      <th>blocked</th>\n",
       "      <th>both</th>\n",
       "    </tr>\n",
       "  </thead>\n",
       "  <tbody>\n",
       "    <tr>\n",
       "      <th>user</th>\n",
       "      <td>0.564276</td>\n",
       "      <td>0.767984</td>\n",
       "      <td>0.761135</td>\n",
       "    </tr>\n",
       "    <tr>\n",
       "      <th>article</th>\n",
       "      <td>0.296498</td>\n",
       "      <td>0.527552</td>\n",
       "      <td>0.470595</td>\n",
       "    </tr>\n",
       "    <tr>\n",
       "      <th>both</th>\n",
       "      <td>0.453580</td>\n",
       "      <td>0.707436</td>\n",
       "      <td>0.671690</td>\n",
       "    </tr>\n",
       "  </tbody>\n",
       "</table>\n",
       "</div>"
      ],
      "text/plain": [
       "           random   blocked      both\n",
       "user     0.564276  0.767984  0.761135\n",
       "article  0.296498  0.527552  0.470595\n",
       "both     0.453580  0.707436  0.671690"
      ]
     },
     "execution_count": 10,
     "metadata": {},
     "output_type": "execute_result"
    },
    {
     "name": "stdout",
     "output_type": "stream",
     "text": [
      "time: 25.4 ms\n"
     ]
    }
   ],
   "source": [
    "spearman_df"
   ]
  },
  {
   "cell_type": "markdown",
   "metadata": {},
   "source": [
    "### Does Adding Blocked Data Help predicting on Random Data?"
   ]
  },
  {
   "cell_type": "markdown",
   "metadata": {
    "collapsed": false
   },
   "source": [
    "#### User"
   ]
  },
  {
   "cell_type": "code",
   "execution_count": 12,
   "metadata": {
    "collapsed": false
   },
   "outputs": [
    {
     "name": "stdout",
     "output_type": "stream",
     "text": [
      "\n",
      "Train:  {'samples': ['random'], 'nss': ['user']}\n",
      "Test:  {'samples': ['random'], 'nss': ['user']} \n",
      "\n",
      "\tROC: 0.883\n",
      "\tSpearman: 0.562\n",
      "\n",
      "Train:  {'samples': ['random', 'blocked'], 'nss': ['user']}\n",
      "Test:  {'samples': ['random'], 'nss': ['user']} \n",
      "\n",
      "\tROC: 0.904\n",
      "\tSpearman: 0.571\n",
      "time: 3min 53s\n"
     ]
    }
   ],
   "source": [
    "train_params = [\n",
    "                {'nss': ['user'],\n",
    "                 'samples': ['random']},\n",
    "                {'nss': ['user'],\n",
    "                 'samples': ['random', 'blocked'] }\n",
    "                ]\n",
    "\n",
    "test_params =  [\n",
    "                {'nss': ['user'],\n",
    "                 'samples': ['random']}\n",
    "                ]\n",
    "\n",
    "test_custom_cross(optimal_pipeline, data, xtype, ytype, train_params, test_params)"
   ]
  },
  {
   "cell_type": "markdown",
   "metadata": {},
   "source": [
    "#### Article"
   ]
  },
  {
   "cell_type": "code",
   "execution_count": 13,
   "metadata": {
    "collapsed": false
   },
   "outputs": [
    {
     "name": "stdout",
     "output_type": "stream",
     "text": [
      "\n",
      "Train:  {'samples': ['random'], 'nss': ['article']}\n",
      "Test:  {'samples': ['random'], 'nss': ['article']} \n",
      "\n",
      "\tROC: 0.811\n",
      "\tSpearman: 0.248\n",
      "\n",
      "Train:  {'samples': ['random', 'blocked'], 'nss': ['article']}\n",
      "Test:  {'samples': ['random'], 'nss': ['article']} \n",
      "\n",
      "\tROC: 0.833\n",
      "\tSpearman: 0.255\n",
      "time: 3min 19s\n"
     ]
    }
   ],
   "source": [
    "train_params = [\n",
    "                {'nss': ['article'],\n",
    "                 'samples': ['random']},\n",
    "                {'nss': ['article'],\n",
    "                 'samples': ['random', 'blocked'] }\n",
    "                ]\n",
    "\n",
    "test_params =  [\n",
    "                {'nss': ['article'],\n",
    "                 'samples': ['random']}\n",
    "                ]\n",
    "\n",
    "test_custom_cross(optimal_pipeline, data, xtype, ytype, train_params, test_params)"
   ]
  },
  {
   "cell_type": "markdown",
   "metadata": {},
   "source": [
    "## Does adding random and blocked data from one namespace help predict on random data from the other namespace?"
   ]
  },
  {
   "cell_type": "markdown",
   "metadata": {},
   "source": [
    "#### User"
   ]
  },
  {
   "cell_type": "code",
   "execution_count": 14,
   "metadata": {
    "collapsed": false
   },
   "outputs": [
    {
     "name": "stdout",
     "output_type": "stream",
     "text": [
      "\n",
      "Train:  {'samples': ['random', 'blocked'], 'nss': ['user']}\n",
      "Test:  {'samples': ['random'], 'nss': ['user']} \n",
      "\n",
      "\tROC: 0.904\n",
      "\tSpearman: 0.571\n",
      "\n",
      "Train:  {'samples': ['random', 'blocked'], 'nss': ['user', 'article']}\n",
      "Test:  {'samples': ['random'], 'nss': ['user']} \n",
      "\n",
      "\tROC: 0.906\n",
      "\tSpearman: 0.564\n",
      "time: 10min 17s\n"
     ]
    }
   ],
   "source": [
    "train_params = [\n",
    "                {'nss': ['user'],\n",
    "                 'samples': ['random', 'blocked']},\n",
    "                {'nss': ['user', 'article'],\n",
    "                 'samples': ['random', 'blocked'] }\n",
    "                ]\n",
    "\n",
    "test_params =  [\n",
    "                {'nss': ['user'],\n",
    "                 'samples': ['random']}\n",
    "                ]\n",
    "\n",
    "test_custom_cross(optimal_pipeline, data, xtype, ytype, train_params, test_params)"
   ]
  },
  {
   "cell_type": "markdown",
   "metadata": {},
   "source": [
    "#### Article"
   ]
  },
  {
   "cell_type": "code",
   "execution_count": 15,
   "metadata": {
    "collapsed": false
   },
   "outputs": [
    {
     "name": "stdout",
     "output_type": "stream",
     "text": [
      "\n",
      "Train:  {'samples': ['random', 'blocked'], 'nss': ['article']}\n",
      "Test:  {'samples': ['random'], 'nss': ['article']} \n",
      "\n",
      "\tROC: 0.833\n",
      "\tSpearman: 0.255\n",
      "\n",
      "Train:  {'samples': ['random', 'blocked'], 'nss': ['user', 'article']}\n",
      "Test:  {'samples': ['random'], 'nss': ['article']} \n",
      "\n",
      "\tROC: 0.853\n",
      "\tSpearman: 0.296\n",
      "time: 10min 49s\n"
     ]
    }
   ],
   "source": [
    "train_params = [\n",
    "                {'nss': ['article'],\n",
    "                 'samples': ['random', 'blocked']},\n",
    "                {'nss': ['user', 'article'],\n",
    "                 'samples': ['random', 'blocked'] }\n",
    "                ]\n",
    "\n",
    "test_params =  [\n",
    "                {'nss': ['article'],\n",
    "                 'samples': ['random']}\n",
    "                ]\n",
    "\n",
    "test_custom_cross(optimal_pipeline, data, xtype, ytype, train_params, test_params)"
   ]
  },
  {
   "cell_type": "markdown",
   "metadata": {},
   "source": [
    "### Check Calibration"
   ]
  },
  {
   "cell_type": "code",
   "execution_count": 16,
   "metadata": {
    "collapsed": false,
    "scrolled": true
   },
   "outputs": [
    {
     "data": {
      "image/png": "[encoded data removed]",
      "text/plain": [
       "<matplotlib.figure.Figure at 0x13f4b89b0>"
      ]
     },
     "metadata": {},
     "output_type": "display_data"
    },
    {
     "data": {
      "text/plain": [
       "<matplotlib.figure.Figure at 0x13ee64320>"
      ]
     },
     "metadata": {},
     "output_type": "display_data"
    },
    {
     "data": {
      "image/png": "[encoded data removed]",
      "text/plain": [
       "<matplotlib.figure.Figure at 0x17d233b00>"
      ]
     },
     "metadata": {},
     "output_type": "display_data"
    },
    {
     "data": {
      "text/plain": [
       "<matplotlib.figure.Figure at 0x16bf2a2e8>"
      ]
     },
     "metadata": {},
     "output_type": "display_data"
    },
    {
     "data": {
      "image/png": "[encoded data removed]",
      "text/plain": [
       "<matplotlib.figure.Figure at 0x17d459d68>"
      ]
     },
     "metadata": {},
     "output_type": "display_data"
    },
    {
     "data": {
      "text/plain": [
       "<matplotlib.figure.Figure at 0x17d3c97f0>"
      ]
     },
     "metadata": {},
     "output_type": "display_data"
    },
    {
     "name": "stdout",
     "output_type": "stream",
     "text": [
      "time: 55.5 s\n"
     ]
    }
   ],
   "source": [
    "y_test_oh = one_hot(y_test)\n",
    "y_pred_ed = model.predict_proba(X_test)\n",
    "\n",
    "if n_classes > 2:\n",
    "    classes = range(n_classes)\n",
    "else:\n",
    "    classes = [1]\n",
    "\n",
    "for i in classes:\n",
    "    plt.figure()\n",
    "    calibration_curve_plotter(y_test_oh[:, i], y_pred_ed[:, i])\n",
    "    plt.show()"
   ]
  },
  {
   "cell_type": "markdown",
   "metadata": {},
   "source": [
    "### Error Analysis"
   ]
  },
  {
   "cell_type": "code",
   "execution_count": 17,
   "metadata": {
    "collapsed": false
   },
   "outputs": [
    {
     "name": "stdout",
     "output_type": "stream",
     "text": [
      "\n",
      "\n",
      "\n",
      "CLASS:  0\n",
      "\n",
      "\n",
      "OVER\n",
      "\n",
      "COMMENT:\n",
      " yadavs are kshatriyas wht the hell happend to previous stuff written in the wiki which well defined yadavs,know some anti yadavs have edited the stuff and added whole new crap,mentoning yadavs as shudras is funny shit....some fuckin moron must hv done this..\n",
      "SCORES: Actual: 0.00, Predicted: 1.00, Residual: -1.00\n",
      "\n",
      "\n",
      "COMMENT:\n",
      "\" Blocked by Freestylefrappe Yeah, that's right, blocked for saying \"\"IMHO WMC is a jerk.\"\" Personal insult, huh? Sockpuppet? I'm fucking steamed, Freestylefrappe. And coming right after WMC's admin confirmation? If you're trying to punish me this is some of the most ridiculous bullshit gamesmanship I've ever seen.  \"\n",
      "SCORES: Actual: 0.00, Predicted: 1.00, Residual: -1.00\n",
      "\n",
      "\n",
      "COMMENT:\n",
      " Should this one be added? Roses are RedViolets are BlueI'll Fuck You with a Rake\n",
      "SCORES: Actual: 0.00, Predicted: 1.00, Residual: -1.00\n",
      "\n",
      "\n",
      "COMMENT:\n",
      " Listen up. OK, listen up you god damn jerk. I'm really sick and tired of your shit. I'm sick of you stalking me all over wikipedia because I'm editing a page. Just because YOU don't like the edits I make, doesn't mean you have to bully and global block me each time I make an edit OK?? I'm not hurting and offending anyone, so why treat me like a terrorist??I've noticed I'm not the only one you bullied. You are abusing your power as a Wikipedia administrator and you are nothing but a tyrannic\n",
      "SCORES: Actual: 0.00, Predicted: 1.00, Residual: -1.00\n",
      "\n",
      "\n",
      "COMMENT:\n",
      "my buttholei love buttholes. they taste mmm goood. i will never stop vandalizing wikipedia. u no why?  cuz u dont tell me wat to do. k bye i hate you\n",
      "SCORES: Actual: 0.00, Predicted: 1.00, Residual: -1.00\n",
      "\n",
      "\n",
      "COMMENT:\n",
      " i h8 u i h8 u u suck! ur a nerd w/ nothing better 2 do than piss peeps on wikipedia off!\n",
      "SCORES: Actual: 0.00, Predicted: 1.00, Residual: -1.00\n",
      "\n",
      "\n",
      "COMMENT:\n",
      "BIGNOLE YOU ARE A BIG FAGGOT GET A LIFE AND STOP SPENDING ALL DAY ON WIKIPEDIA.  IT IS LIKE 1AM WHERE YOU ARE AND YOU HAVE NO LIFE.  PLEASE FALL OFF A CLIFF.  IF I EVER MEET YOU N THE STREET I WILL PEE ON YOU AND PUSH YOU INTO ONCOMING TRAIN TRAFFIC.  DON'T EVERY TOUCH MY PAGE AGAIN YOU FREAK OF NATURE\n",
      "SCORES: Actual: 0.00, Predicted: 1.00, Residual: -1.00\n",
      "\n",
      "\n",
      "COMMENT:\n",
      "\"Seriously. The blame the victim bullshit here has to stop. Or have you not noticed that saying anything about Malleus in any way is met with heaps of abuse and bullshit? It doesn't matter how one says it; once you're on his \"\"I will shit on you at every opportunity\"\" list, you're fucked. Check this out for an example of what I mean. Malleus simply cannot resist taking any opportunity to belittle people. And yet when we respond or make the mistake of telling the fucking truth, we get punished (\n",
      "SCORES: Actual: 0.00, Predicted: 1.00, Residual: -1.00\n",
      "\n",
      "\n",
      "COMMENT:\n",
      " yo will i am sorry will i would like to apologiz...i have been actin like a stragiht nigga who is buggin and that aint right....uz a mad down nigga doin around helpin ohter niggas like me..and other pages so bitch ass kids can fckin get they reports down quicker...i didnt mean no offence to u nawmean? will i just want to put this shit behind and be friends...i wanna be real with a nigga and no mroe bull....but on some real shit u cant be goin around deleted niggas pages...nawmean? but yo will\n",
      "SCORES: Actual: 0.00, Predicted: 1.00, Residual: -1.00\n",
      "\n",
      "\n",
      "COMMENT:\n",
      "being gay is kool !! im so0o0o gay \n",
      "SCORES: Actual: 0.00, Predicted: 1.00, Residual: -1.00\n",
      "\n",
      "\n",
      "\n",
      "\n",
      "UNDER\n",
      "\n",
      "COMMENT:\n",
      "By the way, I am and always was happy to fix up any specific issues with my edits that Elf brought to my attention (provided they weren't totally unreasonable), but I received no such requests from Elf, all he would do is revert the whole lot without consultation with me first. \n",
      "SCORES: Actual: 1.00, Predicted: 0.00, Residual: 1.00\n",
      "\n",
      "\n",
      "COMMENT:\n",
      "VOMIT VOMIT VOMIT VOMIT VOMIT VOMIT VOMIT VOMIT VOMIT VOMIT VOMIT VOMIT VOMIT VOMIT VOMIT VOMIT VOMIT VOMIT VOMIT VOMIT VOMIT VOMIT VOMIT VOMIT VOMIT VOMIT VOMIT VOMIT VOMIT VOMIT VOMIT VOMIT VOMIT VOMIT VOMIT VOMIT VOMIT VOMIT VOMIT VOMIT VOMIT VOMIT VOMIT VOMIT VOMIT VOMIT VOMIT VOMIT VOMIT VOMIT VOMIT VOMIT VOMIT VOMIT VOMIT VOMIT VOMIT VOMIT VOMIT VOMIT VOMIT VOMIT VOMIT VOMIT VOMIT VOMIT VOMIT VOMIT VOMIT VOMIT VOMIT VOMIT VOMIT VOMIT VOMIT VOMIT VOMIT VOMIT VOMIT VOMIT VOMIT VOMIT VOMIT VO\n",
      "SCORES: Actual: 1.00, Predicted: 0.00, Residual: 1.00\n",
      "\n",
      "\n",
      "COMMENT:\n",
      "No i find it silly to mislead and misinform people that are not knowledgable on the subject, such as , that the City of Philadelphia, which this article is about, is a county in the State Pennsylvania, which it is not, in a attempt to force a merge of two articles.  |  trácht ar \n",
      "SCORES: Actual: 1.00, Predicted: 0.00, Residual: 1.00\n",
      "\n",
      "\n",
      "COMMENT:\n",
      "\" Eric Corbett So, it's alright for your friend Eric Corbett to refer to me as an \"\"ignorant PITA\"\", but reporting him for breaking 3RR (for which no one said a negative word to him about) is grounds for discussing how I avoided getting blocked for it (\"\"spared a block\"\")? Exactly what is going on in your group of Wiki-friends? How long do you expect for your gang to be able to go on this way? (Meanwhile he's free to refer to others as \"\"coward\"\"s and \"\"low life\"\"s... )   Have you actually \n",
      "SCORES: Actual: 1.00, Predicted: 0.00, Residual: 1.00\n",
      "\n",
      "\n",
      "COMMENT:\n",
      "\" Apologies for the pre-pubecent ramblings of the imbeciles on this network.  My IP address is:  (talk • contribs • WHOIS • block user • [ block log])\"\n",
      "SCORES: Actual: 1.00, Predicted: 0.00, Residual: 1.00\n",
      "\n",
      "\n",
      "COMMENT:\n",
      "\":::It is not the \"\"same thing\"\". Matters such as this need to be open and transparent. In such cases, the user in question is notified that there is an ongoing discussion, so that he/she can participate. It is posted at some public forum like WP:ANI or Wikiquette Alerts so that the rest of the community can monitor the discussion in the interest of transparency, and so that members may participate if they choose. If a block is imposed, a template notice is placed on the user's talk page so that\n",
      "SCORES: Actual: 1.00, Predicted: 0.00, Residual: 1.00\n",
      "\n",
      "\n",
      "COMMENT:\n",
      "helpThis 'Historian' now thinks that 'Sanhedrin' is closer to Neturei Karta than to Kach. He is also seeing a fusion of Kach and Neturei Karta, since 'both oppose the state'. I tried to clarify it, giving some examples of the thought of NK and Kach (without naming either), and what is his conclusion - 'the press releases of the Sanhedrin so far are more like NK'. Please, please, try to explain to him that I am right. How do you explain Jewish politics to somebody with the brain of a fish??  | (\n",
      "SCORES: Actual: 1.00, Predicted: 0.00, Residual: 1.00\n",
      "\n",
      "\n",
      "COMMENT:\n",
      " n ig ger nig ger Hi n i g g e r\n",
      "SCORES: Actual: 1.00, Predicted: 0.00, Residual: 1.00\n",
      "\n",
      "\n",
      "COMMENT:\n",
      "\" Removed the \"\"central planning\"\" nonsense \"\"Central planning in USSR\"\" refers to centrally planned economy as opposed to the 'free market' economy. While it may be argued as reason for general economic inefficiency of the USSR during its later years it is completely out of place as a reason for space exploration setbacks in this article. First of, it was precisely the central planning that made Soviet space program possible. Without centrally allocated resources and planned activities it wo\n",
      "SCORES: Actual: 1.00, Predicted: 0.01, Residual: 0.99\n",
      "\n",
      "\n",
      "COMMENT:\n",
      "\" SOF is junk. If it had anything of value to say about climate, the thing to do would be to add it there before discussing it here. Still, if you can remember any of the \"\"strong and effective arguments\"\" you could mention them in talk here, and we can have fun ripping them to shreds  \"\n",
      "SCORES: Actual: 1.00, Predicted: 0.01, Residual: 0.99\n",
      "\n",
      "\n",
      "\n",
      "\n",
      "\n",
      "CLASS:  1\n",
      "\n",
      "\n",
      "OVER\n",
      "\n",
      "COMMENT:\n",
      "\"''The above discussion is preserved as an archive of a requested move.  Please do not modify it. Subsequent comments should be made in a new section on this talk page or in a move review. No further edits should be made to this section.\"\n",
      "SCORES: Actual: 0.00, Predicted: 1.00, Residual: -1.00\n",
      "\n",
      "\n",
      "COMMENT:\n",
      "VOMIT VOMIT VOMIT VOMIT VOMIT VOMIT VOMIT VOMIT VOMIT VOMIT VOMIT VOMIT VOMIT VOMIT VOMIT VOMIT VOMIT VOMIT VOMIT VOMIT VOMIT VOMIT VOMIT VOMIT VOMIT VOMIT VOMIT VOMIT VOMIT VOMIT VOMIT VOMIT VOMIT VOMIT VOMIT VOMIT VOMIT VOMIT VOMIT VOMIT VOMIT VOMIT VOMIT VOMIT VOMIT VOMIT VOMIT VOMIT VOMIT VOMIT VOMIT VOMIT VOMIT VOMIT VOMIT VOMIT VOMIT VOMIT VOMIT VOMIT VOMIT VOMIT VOMIT VOMIT VOMIT VOMIT VOMIT VOMIT VOMIT VOMIT VOMIT VOMIT VOMIT VOMIT VOMIT VOMIT VOMIT VOMIT VOMIT VOMIT VOMIT VOMIT VOMIT VO\n",
      "SCORES: Actual: 0.00, Predicted: 1.00, Residual: -1.00\n",
      "\n",
      "\n",
      "COMMENT:\n",
      "\" Agree, but the title should match this article - thus International reaction to the 2010 Gaza flotilla clash, not \"\"incident\"\".    \"\n",
      "SCORES: Actual: 0.00, Predicted: 1.00, Residual: -1.00\n",
      "\n",
      "\n",
      "COMMENT:\n",
      "By the way, I am and always was happy to fix up any specific issues with my edits that Elf brought to my attention (provided they weren't totally unreasonable), but I received no such requests from Elf, all he would do is revert the whole lot without consultation with me first. \n",
      "SCORES: Actual: 0.00, Predicted: 1.00, Residual: -1.00\n",
      "\n",
      "\n",
      "COMMENT:\n",
      "\" File:CloverandMeeka.JPG missing description details Dear uploader: The media file you uploaded as File:CloverandMeeka.JPG is missing a description and/or other details on its image description page. If possible, please add this information. This will help other editors to make better use of the image, and it will be more informative for readers.If the information is not provided, the image may eventually be proposed for deletion, a situation which is not desirable, and which can easily \n",
      "SCORES: Actual: 0.00, Predicted: 1.00, Residual: -1.00\n",
      "\n",
      "\n",
      "COMMENT:\n",
      "\" Eric Corbett So, it's alright for your friend Eric Corbett to refer to me as an \"\"ignorant PITA\"\", but reporting him for breaking 3RR (for which no one said a negative word to him about) is grounds for discussing how I avoided getting blocked for it (\"\"spared a block\"\")? Exactly what is going on in your group of Wiki-friends? How long do you expect for your gang to be able to go on this way? (Meanwhile he's free to refer to others as \"\"coward\"\"s and \"\"low life\"\"s... )   Have you actually \n",
      "SCORES: Actual: 0.00, Predicted: 1.00, Residual: -1.00\n",
      "\n",
      "\n",
      "COMMENT:\n",
      "\" Apologies for the pre-pubecent ramblings of the imbeciles on this network.  My IP address is:  (talk • contribs • WHOIS • block user • [ block log])\"\n",
      "SCORES: Actual: 0.00, Predicted: 1.00, Residual: -1.00\n",
      "\n",
      "\n",
      "COMMENT:\n",
      "No i find it silly to mislead and misinform people that are not knowledgable on the subject, such as , that the City of Philadelphia, which this article is about, is a county in the State Pennsylvania, which it is not, in a attempt to force a merge of two articles.  |  trácht ar \n",
      "SCORES: Actual: 0.00, Predicted: 1.00, Residual: -1.00\n",
      "\n",
      "\n",
      "COMMENT:\n",
      "Thanks for clearing that out for me. I am still new and probably have lost my temper, I am sorry for that. Back to the article now. The band is under Mediaskare Records record label, which according to WP:BAND's 5th criteria for musicians and ensembles should be considered one of the more important indie labels and the band has released exactly two albums with them , so the band should be considered notable too.   \n",
      "SCORES: Actual: 0.00, Predicted: 1.00, Residual: -1.00\n",
      "\n",
      "\n",
      "COMMENT:\n",
      "This may be helpful: http://en.wikipedia.org/wiki/Wikipedia:Requests_for_checkuser/Case/Dr._Anymouse    \n",
      "SCORES: Actual: 0.00, Predicted: 1.00, Residual: -1.00\n",
      "\n",
      "\n",
      "\n",
      "\n",
      "UNDER\n",
      "\n",
      "COMMENT:\n",
      " yadavs are kshatriyas wht the hell happend to previous stuff written in the wiki which well defined yadavs,know some anti yadavs have edited the stuff and added whole new crap,mentoning yadavs as shudras is funny shit....some fuckin moron must hv done this..\n",
      "SCORES: Actual: 1.00, Predicted: 0.00, Residual: 1.00\n",
      "\n",
      "\n",
      "COMMENT:\n",
      "\" Blocked by Freestylefrappe Yeah, that's right, blocked for saying \"\"IMHO WMC is a jerk.\"\" Personal insult, huh? Sockpuppet? I'm fucking steamed, Freestylefrappe. And coming right after WMC's admin confirmation? If you're trying to punish me this is some of the most ridiculous bullshit gamesmanship I've ever seen.  \"\n",
      "SCORES: Actual: 1.00, Predicted: 0.00, Residual: 1.00\n",
      "\n",
      "\n",
      "COMMENT:\n",
      " Should this one be added? Roses are RedViolets are BlueI'll Fuck You with a Rake\n",
      "SCORES: Actual: 1.00, Predicted: 0.00, Residual: 1.00\n",
      "\n",
      "\n",
      "COMMENT:\n",
      " Listen up. OK, listen up you god damn jerk. I'm really sick and tired of your shit. I'm sick of you stalking me all over wikipedia because I'm editing a page. Just because YOU don't like the edits I make, doesn't mean you have to bully and global block me each time I make an edit OK?? I'm not hurting and offending anyone, so why treat me like a terrorist??I've noticed I'm not the only one you bullied. You are abusing your power as a Wikipedia administrator and you are nothing but a tyrannic\n",
      "SCORES: Actual: 1.00, Predicted: 0.00, Residual: 1.00\n",
      "\n",
      "\n",
      "COMMENT:\n",
      "my buttholei love buttholes. they taste mmm goood. i will never stop vandalizing wikipedia. u no why?  cuz u dont tell me wat to do. k bye i hate you\n",
      "SCORES: Actual: 1.00, Predicted: 0.00, Residual: 1.00\n",
      "\n",
      "\n",
      "COMMENT:\n",
      " i h8 u i h8 u u suck! ur a nerd w/ nothing better 2 do than piss peeps on wikipedia off!\n",
      "SCORES: Actual: 1.00, Predicted: 0.00, Residual: 1.00\n",
      "\n",
      "\n",
      "COMMENT:\n",
      "BIGNOLE YOU ARE A BIG FAGGOT GET A LIFE AND STOP SPENDING ALL DAY ON WIKIPEDIA.  IT IS LIKE 1AM WHERE YOU ARE AND YOU HAVE NO LIFE.  PLEASE FALL OFF A CLIFF.  IF I EVER MEET YOU N THE STREET I WILL PEE ON YOU AND PUSH YOU INTO ONCOMING TRAIN TRAFFIC.  DON'T EVERY TOUCH MY PAGE AGAIN YOU FREAK OF NATURE\n",
      "SCORES: Actual: 1.00, Predicted: 0.00, Residual: 1.00\n",
      "\n",
      "\n",
      "COMMENT:\n",
      "\"Seriously. The blame the victim bullshit here has to stop. Or have you not noticed that saying anything about Malleus in any way is met with heaps of abuse and bullshit? It doesn't matter how one says it; once you're on his \"\"I will shit on you at every opportunity\"\" list, you're fucked. Check this out for an example of what I mean. Malleus simply cannot resist taking any opportunity to belittle people. And yet when we respond or make the mistake of telling the fucking truth, we get punished (\n",
      "SCORES: Actual: 1.00, Predicted: 0.00, Residual: 1.00\n",
      "\n",
      "\n",
      "COMMENT:\n",
      " yo will i am sorry will i would like to apologiz...i have been actin like a stragiht nigga who is buggin and that aint right....uz a mad down nigga doin around helpin ohter niggas like me..and other pages so bitch ass kids can fckin get they reports down quicker...i didnt mean no offence to u nawmean? will i just want to put this shit behind and be friends...i wanna be real with a nigga and no mroe bull....but on some real shit u cant be goin around deleted niggas pages...nawmean? but yo will\n",
      "SCORES: Actual: 1.00, Predicted: 0.00, Residual: 1.00\n",
      "\n",
      "\n",
      "COMMENT:\n",
      "being gay is kool !! im so0o0o gay \n",
      "SCORES: Actual: 1.00, Predicted: 0.00, Residual: 1.00\n",
      "\n",
      "\n",
      "\n",
      "\n",
      "\n",
      "CLASS:  2\n",
      "\n",
      "\n",
      "OVER\n",
      "\n",
      "COMMENT:\n",
      "You're welcome. ) Congratulations!\n",
      "SCORES: Actual: 0.00, Predicted: 0.98, Residual: -0.98\n",
      "\n",
      "\n",
      "COMMENT:\n",
      "Thank you, Mendaliv. I agree.  \n",
      "SCORES: Actual: 0.00, Predicted: 0.95, Residual: -0.95\n",
      "\n",
      "\n",
      "COMMENT:\n",
      "Awwwww thanks ) It was a pleasure to work with you as well. Hope for the best,   \n",
      "SCORES: Actual: 0.00, Predicted: 0.94, Residual: -0.94\n",
      "\n",
      "\n",
      "COMMENT:\n",
      "\"Thank you very much, that made my day. nableezy - \"\n",
      "SCORES: Actual: 0.00, Predicted: 0.92, Residual: -0.92\n",
      "\n",
      "\n",
      "COMMENT:\n",
      "Apologies, I do not know how else to reply. Thank you for the advice, I shall look these pages over - they are no doubt very useful. Thanks for the welcome, Moonraker.VelvetCommuter\n",
      "SCORES: Actual: 0.00, Predicted: 0.92, Residual: -0.92\n",
      "\n",
      "\n",
      "COMMENT:\n",
      " Thank you for the kind message Thank you for the kind message. I am greatly appreciative of your friendship.   \n",
      "SCORES: Actual: 0.00, Predicted: 0.91, Residual: -0.91\n",
      "\n",
      "\n",
      "COMMENT:\n",
      "\"== Thanks dude! I love you! ==Yeah thanks for \"\"Nominating\"\" my artcile. I really appreciate your kindness beyond measure! I would like to announce I am \"\"Nominating\"\" you for something as well! It's the \"\"Dick of The Entire Year\"\" award! You and Al Gore are pretty likely winners so keep an eye open for that! Of course, as long as you aren't too busy having a blast \"\"Nominating\"\" things already. Cya!\"\n",
      "SCORES: Actual: 0.00, Predicted: 0.89, Residual: -0.89\n",
      "\n",
      "\n",
      "COMMENT:\n",
      "Thank you; I will do so. 17:39, 30 May 2007 (UTC)\n",
      "SCORES: Actual: 0.00, Predicted: 0.88, Residual: -0.88\n",
      "\n",
      "\n",
      "COMMENT:\n",
      " Well done, thanks! 62.157.122.132  \n",
      "SCORES: Actual: 0.00, Predicted: 0.88, Residual: -0.88\n",
      "\n",
      "\n",
      "COMMENT:\n",
      "^^Ditto==Thanks from me also!  ==\n",
      "SCORES: Actual: 0.00, Predicted: 0.88, Residual: -0.88\n",
      "\n",
      "\n",
      "\n",
      "\n",
      "UNDER\n",
      "\n",
      "COMMENT:\n",
      " Roman Catholicism I reverted the mentioning of Roman Cathlicism. See the AFD-debate linked above. Noboday was able to demonstrate the use of this term by Roman Catholicism. If you've found a source, please provide it.  \n",
      "SCORES: Actual: 1.00, Predicted: 0.00, Residual: 1.00\n",
      "\n",
      "\n",
      "COMMENT:\n",
      "\"\"\"You do not own this site.\"\" True. Neither do you. The Wikimedia Foundation does - and they largely permit (subject to obvious legal constraints) policy on what goes into articles and how articles are structured to be determined by the consensus of Wikipedia contributors. You have repeatedly been given links to such policies. I suggest you study them. You are of course free to argue for such policies to be revised, in the appropriate place - but this talk page isn't that place, and unless and\n",
      "SCORES: Actual: 1.00, Predicted: 0.00, Residual: 1.00\n",
      "\n",
      "\n",
      "COMMENT:\n",
      "\" Agree, but the title should match this article - thus International reaction to the 2010 Gaza flotilla clash, not \"\"incident\"\".    \"\n",
      "SCORES: Actual: 1.00, Predicted: 0.00, Residual: 1.00\n",
      "\n",
      "\n",
      "COMMENT:\n",
      "\"Hey DS. Just for transparency, can you link to the discussion where Neutralhomer was told not to use Twinkle, and if he did, he would be blocked? Thanks.   |  39 \"\n",
      "SCORES: Actual: 1.00, Predicted: 0.00, Residual: 1.00\n",
      "\n",
      "\n",
      "COMMENT:\n",
      "\"''The above discussion is preserved as an archive of a requested move.  Please do not modify it. Subsequent comments should be made in a new section on this talk page or in a move review. No further edits should be made to this section.\"\n",
      "SCORES: Actual: 1.00, Predicted: 0.00, Residual: 1.00\n",
      "\n",
      "\n",
      "COMMENT:\n",
      " Well, many lessons were learnt from this accident! Designs were changed as a result. From what I've been told the Trident even had reverse thrust that could be operated in the air (a total no-no these days). The investigation at the time did not uncover the whole truth - there were some other factors involved which will, I am confident, one day come out.   \n",
      "SCORES: Actual: 1.00, Predicted: 0.00, Residual: 1.00\n",
      "\n",
      "\n",
      "COMMENT:\n",
      " Understanding the Robustness of SSDs under Power Fault I see mention of reliability issues - but no mention of the largest study on the matter! See: https://www.usenix.org/conference/fast13/understanding-robustness-ssds-under-power-fault   \n",
      "SCORES: Actual: 1.00, Predicted: 0.00, Residual: 1.00\n",
      "\n",
      "\n",
      "COMMENT:\n",
      "Falklands WarYou're so right. Isn't all of the World actually owned by the British? Haven't they simply leased back the property rights to the host countries (who are mere occupiers) of the British empire? If a child steals another child's sandwich on a playground, does that mean that the child who stole the sandwich is now the owner of that food? I guess, according to British theories of ownership, that would be true... Thank you for clarifying that...   \n",
      "SCORES: Actual: 1.00, Predicted: 0.00, Residual: 1.00\n",
      "\n",
      "\n",
      "COMMENT:\n",
      "Hospitals |class =list |importance =na}}{{WikiProject \n",
      "SCORES: Actual: 1.00, Predicted: 0.00, Residual: 1.00\n",
      "\n",
      "\n",
      "COMMENT:\n",
      "That looks like a pretty good citation to me. I think he should be added back onto the list.\n",
      "SCORES: Actual: 1.00, Predicted: 0.00, Residual: 1.00\n",
      "\n",
      "\n",
      "time: 104 ms\n"
     ]
    }
   ],
   "source": [
    "for i in classes:\n",
    "    print('\\n\\n\\nCLASS: ', i)\n",
    "    over, under = get_errors(X_test, y_test_oh[:, i], y_pred_ed[:, i])\n",
    "    print('\\n\\nOVER\\n')\n",
    "    print_errors(over, n=10)\n",
    "    print('\\n\\nUNDER\\n')\n",
    "    print_errors(under, n=10)"
   ]
  },
  {
   "cell_type": "markdown",
   "metadata": {},
   "source": [
    "### Learning Curves!\n",
    "How does adding more training data improve performance?"
   ]
  },
  {
   "cell_type": "code",
   "execution_count": 18,
   "metadata": {
    "collapsed": false
   },
   "outputs": [
    {
     "name": "stdout",
     "output_type": "stream",
     "text": [
      "time: 716 µs\n"
     ]
    }
   ],
   "source": [
    "#ms, metrics = eval_adding_other_data(optimal_pipeline, None, None, X_test, y_test, X_train, y_train, roc_scorer)\n",
    "#plot_adding_other_data(ms, metrics)"
   ]
  },
  {
   "cell_type": "markdown",
   "metadata": {},
   "source": [
    "### Model Understanding"
   ]
  },
  {
   "cell_type": "code",
   "execution_count": 19,
   "metadata": {
    "collapsed": false
   },
   "outputs": [
    {
     "name": "stdout",
     "output_type": "stream",
     "text": [
      "\n",
      "\n",
      "CLASS:  0\n",
      "STRONG POS: \n",
      "['ose' ' dir' 'stop ' 'off' 'lie' 'f' ' pig' 'cum' 'edo' ' ret' 'ex ' ' ru'\n",
      " 'eni' ' na' 'pen' ' hate' 'het' 'kil' 't u' 'you' ' fag' 'ole' ' off'\n",
      " ' u ' 'rse' 'bas' 're a ' ' a ' ' je' '. g' 'gina' 'cunt' '*' ' an'\n",
      " ' cock' ' cun' 'ron' 'hit' 'ast' 'ick' 'cock' 'bul' 'kill' ' fuck ' ' stu'\n",
      " 'ude' ' coc' 'aci' 'shit ' ' die' 'id ' 'coc' ' cunt' 'fag' 'ck' 'nis'\n",
      " '\"\"' 'sh' 'ss' ' bitc' ' bitch' ' hell' 'tar' 'azi' ' pen' ' gay' 'umb'\n",
      " '!' 'fuck ' 'bitc' 'utt' 'cis' ' dick' 'bitch' 'lia' ' shit' 'mn' 'ass'\n",
      " 'up' 'id' 'stu' 'hole' 'gay' 'dam' 'dick' ' suck' ' id' ' fuck' 'suck'\n",
      " ' fuc' 'sex' 'rap' ' ass' 'pi' 'oro' 'shit' 'fuck' 'dio' 'fuc' 'idi']\n",
      "STRONG NEG: \n",
      "['. ' 'tud' 'ello' ' \"' 'thank' 'hi ' 'hank' 'ssu' 'uff' 'sum' ')' 'ura'\n",
      " ' )' 'log' 'uf' 'wish' 'ping' 'nic' ' but ' 'v' 'but ' 'tag' 'ook' ' ide'\n",
      " 'put' 'pol' ' lot' 'llo' ' up' 'work' 'idea' ' idea' 'lot ' ' tag' ' lin'\n",
      " 'lp' 'met' 'did' ' pic' 'done' 'roc' ' thank' 'pas' 'pic' ' es' 'anks'\n",
      " ' ni' 'ful' '! ' 'up ' 'hanks' 'thanks' 'ture' ' lis' ' more' ' imp'\n",
      " 'did ' ' list' ']' 'ank yo' ' show' 'nl' 'ma' 'lb' 'd l' 'hank y' 'ather'\n",
      " 'hap' 'lu' 'hear' 'as ' 'las' ' mov' 'oto' 'nth' 'eu' 'asse' 'n v' 'hop'\n",
      " ' bar' ' pas' 'ion' ' star' 'ank y' 'den' ', g' ' gre' 'ee ' 'i p' 'gam'\n",
      " \"re'\" 'la ' 'pin' 'er f' ' work' 're' 'so' 'o e' 'ua' 'a g']\n",
      "\n",
      "\n",
      "CLASS:  1\n",
      "STRONG POS: \n",
      "['. you ' ' show' 'ff ' 'c) ' 'd. i' 'sup' 'о' 'te' 'e pi' 'see ' 'duc'\n",
      " 'lt' 't has ' 'an in' 't, i' 'sa' ' 2' ' form' 'n v' 'assi' 'tell '\n",
      " 'e rea' ' lis' 'ym' 'y i ' ' cri' 'org' ' ope' 'ta ' 'me' 'm p' 't, t'\n",
      " 'n so' 'ark' 'list' ' mov' ' sho' \"re'\" 'ole ' 'per ' 'su' 'al' ' more'\n",
      " 'oup' ' bar' 'ada' ' in' 'ma' 'eu' 'gam' 'up ' 'e le' 'nl' 'lu' ' ide'\n",
      " ' es' 'h s' 'rad' '. ' 'sign' 'tag' ', g' 'z ' 'bre' 'ub' 'put' 'pic'\n",
      " ' lin' 'did ' 'did' 'd l' 'sk' 'las' ' pas' 'not' 'roc' 'er f' 'o e' 'ix'\n",
      " 'ac' 'den' 'ook' 'uf' 'uff' 'ura' 'nth' 'ua' 'yw' 'v' 'asse' 'lb' 'ello'\n",
      " 'pas' ' \"' 'but ' ' but ' 'ssu' 'sum' 'tud' '?']\n",
      "STRONG NEG: \n",
      "['idi' 'fuc' 'fuck' 'oro' 'dio' 'shit' 'pi' ' fuc' ' fuck' 'rap' ' id'\n",
      " 'suck' 'sex' '!' ' suck' 'mn' 'dam' ' ass' 'dick' 'up' 'utt' 'hole' 'tar'\n",
      " 'umb' 'stu' 'fuck ' ' shit' 'you' 'gay' 'bitch' 'lia' 'bitc' 'cis' 'azi'\n",
      " ' dick' '. g' 'coc' ' bitch' 'ss' ' bitc' ' pen' 'id' ' cunt' ' coc' 'pat'\n",
      " 'cock' ' cock' '*' 'ard' ' hell' ' fuck ' 're a ' 'fag' ' a ' 'kill' 't u'\n",
      " 'shit ' 'y ' 'nk' ' gay' 'bul' 'yo' 'cum' 'ude' ' cun' 'het' 'ear ' 'ast'\n",
      " 'cunt' ' die' 'gina' 'ats' ' na' 'ank' 'sh' 'e' ' me ' 'nor' 'ool' 'rat'\n",
      " 't.' 'nis' ' ru' ' stu' 'ron' 'id ' 'tic ' 'ong' 'aci' ' f' ' wor' 'o in'\n",
      " 'bas' 'lose' 'rse' 'ick' 'ass' 'kil' ' u ' '.']\n",
      "\n",
      "\n",
      "CLASS:  2\n",
      "STRONG POS: \n",
      "['logi' 's g' ' aw' ', i' 'ear' 'ecia' 'log' 'ap' 'ear ' 'hank ' 'ologi'\n",
      " 'nks' 'done' ' hap' 'thank ' 'con' ' done' 'gl' 'e' 'ar t' 'help' ' happ'\n",
      " ' work' 'y a' 'goo' 'pret' ' help' 'ool' 'ulat' ' jo' 't w' ' grea' 'wis'\n",
      " 'jo' 'wish' ' exc' 'elp' 'ett' 'ent ' ' great' 'ce' 'ats' 'i a' 'happ'\n",
      " 'ind' 'nk' ' good' 'atu' ';' 'ank y' 'co' 'gr' 'hank y' 'o. ' 'ee'\n",
      " 'ank yo' 'st w' 'olog' 'bes' ' bes' 'ar ' ' ni' 'rry ' 'ong' 'exc' 'l d'\n",
      " 'ice ' 'xc' ') ' 'anks' ' best' ' che' 'ice' 'good' 'len' ' lov' 'love'\n",
      " ')' 'py' 'hanks' 'thanks' 'pol' ' love' 'lov' 'best' '! ' 'eso' 'eer' ' )'\n",
      " 'py ' 'han' 'rat' 'gra' '. ' 'hi ' 'nic' 'than' 'ank' 'hank' 'thank']\n",
      "STRONG NEG: \n",
      "['?' '\"\"' 'ass' 'ck' '? ' 'pen' ' ass' 'un' 'lt' 'rac' '!!' 'c) ' ' his '\n",
      " ' je' ' an ' 'h' 'p ' 'an' 'cr' 'wn' '. y' 'oc' ' ra' 'u' 's' ' is' '!!!'\n",
      " '\\n' 'ash' 'id' 'se ' ' an' 'wh' 'dr' '. yo' 'ora' 'n' 'an a' ' di' 'z'\n",
      " 'sl' 'dic' ' he ' 'wn ' '. you' 'ult' 'du' 'stop' 'eak' ' cr' 'then' 'mo'\n",
      " 'own ' 'ks t' 'head' '3' 'hit' ' st' 'gay' 'stop ' 'pe' 'own' 'ont '\n",
      " ' gay' 'el ' 'nig' 'nis' 'nne' 'ned' 'ed' 'no' ' hat' 'ak' 'n w' ' ow'\n",
      " ' un' 'al' ' no ' 'sex' 'o n' 'sh' 's tha' 'nn' 'is.' ' te' ' then' 'am'\n",
      " 'shi' ' th' 'hy' ', h' 'am ' ' stop' 'sa' ' t' 'pi' ' ban' ' a d' 'hom'\n",
      " 'gg']\n",
      "time: 59.4 ms\n"
     ]
    }
   ],
   "source": [
    "feature_names = np.array(model.named_steps['vect'].get_feature_names())\n",
    "for i in classes:\n",
    "    print('\\n\\nCLASS: ', i)\n",
    "    \n",
    "    try:\n",
    "        coef = model.named_steps['clf'].coef_[i].ravel()\n",
    "    except:\n",
    "        coef = model.named_steps['clf'].coef_.ravel()\n",
    "    most_pos_idx = np.argsort(coef)[-100:]\n",
    "    most_pos = feature_names[most_pos_idx]\n",
    "    print('STRONG POS: ')\n",
    "    print(most_pos)\n",
    "    most_neg_idx = np.argsort(coef)[:100]\n",
    "    most_neg = feature_names[most_neg_idx]\n",
    "    print('STRONG NEG: ')\n",
    "    print(most_neg)"
   ]
  },
  {
   "cell_type": "markdown",
   "metadata": {},
   "source": [
    "### Final Model"
   ]
  },
  {
   "cell_type": "code",
   "execution_count": 21,
   "metadata": {
    "collapsed": false
   },
   "outputs": [
    {
     "data": {
      "text/plain": [
       "['../../models/aggression_ngram.pkl',\n",
       " '../../models/aggression_ngram.pkl_01.npy',\n",
       " '../../models/aggression_ngram.pkl_02.npy',\n",
       " '../../models/aggression_ngram.pkl_03.npy',\n",
       " '../../models/aggression_ngram.pkl_04.npy',\n",
       " '../../models/aggression_ngram.pkl_05.npy',\n",
       " '../../models/aggression_ngram.pkl_06.npy']"
      ]
     },
     "execution_count": 21,
     "metadata": {},
     "output_type": "execute_result"
    },
    {
     "name": "stdout",
     "output_type": "stream",
     "text": [
      "time: 6min 55s\n"
     ]
    }
   ],
   "source": [
    "X, y = assemble_data(data, xtype, ytype)\n",
    "final_model = optimal_pipeline.fit(X, y)\n",
    "joblib.dump(final_model, '../../models/%s_ngram.pkl' % task)"
   ]
  },
  {
   "cell_type": "code",
   "execution_count": null,
   "metadata": {
    "collapsed": true
   },
   "outputs": [],
   "source": []
  }
 ],
 "metadata": {
  "kernelspec": {
   "display_name": "Python 3",
   "language": "python",
   "name": "python3"
  },
  "language_info": {
   "codemirror_mode": {
    "name": "ipython",
    "version": 3
   },
   "file_extension": ".py",
   "mimetype": "text/x-python",
   "name": "python",
   "nbconvert_exporter": "python",
   "pygments_lexer": "ipython3",
   "version": "3.5.1"
  }
 },
 "nbformat": 4,
 "nbformat_minor": 0
}
