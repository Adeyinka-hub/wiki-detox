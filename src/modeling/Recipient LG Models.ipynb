{
 "cells": [
  {
   "cell_type": "code",
   "execution_count": 19,
   "metadata": {
    "collapsed": false
   },
   "outputs": [
    {
     "name": "stdout",
     "output_type": "stream",
     "text": [
      "The autoreload extension is already loaded. To reload it, use:\n",
      "  %reload_ext autoreload\n",
      "The autotime extension is already loaded. To reload it, use:\n",
      "  %reload_ext autotime\n",
      "time: 4.43 ms\n"
     ]
    }
   ],
   "source": [
    "%load_ext autoreload\n",
    "%autoreload 2\n",
    "%matplotlib inline\n",
    "%load_ext autotime\n",
    "\n",
    "\n",
    "from ngram import *\n",
    "from baselines import *\n",
    "from error_analysis import *\n",
    "pd.options.mode.chained_assignment = None\n"
   ]
  },
  {
   "cell_type": "markdown",
   "metadata": {},
   "source": [
    "### Load Annotated Data"
   ]
  },
  {
   "cell_type": "code",
   "execution_count": 6,
   "metadata": {
    "collapsed": false
   },
   "outputs": [
    {
     "name": "stdout",
     "output_type": "stream",
     "text": [
      "time: 1.17 ms\n"
     ]
    }
   ],
   "source": [
    "task = 'recipient'\n",
    "xtype = 'comments'\n",
    "ytype = 'plurality'\n",
    "n_classes = 2"
   ]
  },
  {
   "cell_type": "code",
   "execution_count": 11,
   "metadata": {
    "collapsed": false
   },
   "outputs": [
    {
     "name": "stdout",
     "output_type": "stream",
     "text": [
      "time: 1min 59s\n"
     ]
    }
   ],
   "source": [
    "data = load_comments_and_labels(task)"
   ]
  },
  {
   "cell_type": "code",
   "execution_count": 12,
   "metadata": {
    "collapsed": false
   },
   "outputs": [
    {
     "name": "stdout",
     "output_type": "stream",
     "text": [
      "time: 24.5 ms\n"
     ]
    }
   ],
   "source": [
    "X_train, y_train = assemble_data(data, xtype, ytype, splits = ['train'])\n",
    "X_test, y_test = assemble_data(data, xtype, 'empirical_dist', splits = ['test'])"
   ]
  },
  {
   "cell_type": "markdown",
   "metadata": {
    "collapsed": true
   },
   "source": [
    "### Hyper-Parameter tuning"
   ]
  },
  {
   "cell_type": "code",
   "execution_count": 13,
   "metadata": {
    "collapsed": false
   },
   "outputs": [
    {
     "name": "stdout",
     "output_type": "stream",
     "text": [
      "time: 1.54 ms\n"
     ]
    }
   ],
   "source": [
    "cv_pipeline = Pipeline([\n",
    "    ('vect', CountVectorizer()),\n",
    "    ('tfidf', TfidfTransformer(sublinear_tf=True,norm='l2')),\n",
    "    ('clf', LogisticRegression(solver = 'sag')),\n",
    "])"
   ]
  },
  {
   "cell_type": "code",
   "execution_count": 22,
   "metadata": {
    "collapsed": false
   },
   "outputs": [
    {
     "name": "stdout",
     "output_type": "stream",
     "text": [
      "\n",
      "Best parameters set found:\n",
      "{'vect__analyzer': 'char', 'vect__max_features': 50000, 'vect__ngram_range': (1, 5)} 0.974594083058\n",
      "\n",
      "\n",
      "Grid scores:\n",
      "0.95233 (+/-0.00000) for {'vect__analyzer': 'char', 'vect__max_features': 500, 'vect__ngram_range': (1, 5)}\n",
      "0.96479 (+/-0.00000) for {'vect__analyzer': 'char', 'vect__max_features': 5000, 'vect__ngram_range': (1, 5)}\n",
      "0.96840 (+/-0.00000) for {'vect__analyzer': 'char', 'vect__max_features': 10000, 'vect__ngram_range': (1, 5)}\n",
      "0.97459 (+/-0.00000) for {'vect__analyzer': 'char', 'vect__max_features': 50000, 'vect__ngram_range': (1, 5)}\n",
      "0.97133 (+/-0.00000) for {'vect__analyzer': 'char', 'vect__max_features': None, 'vect__ngram_range': (1, 5)}\n",
      "time: 3min 24s\n"
     ]
    }
   ],
   "source": [
    "param_grid = {\n",
    "    'vect__max_features': (500, 5000, 10000, 50000, None), \n",
    "    'vect__ngram_range': ((1,5),),  \n",
    "    'vect__analyzer' : ('char',), \n",
    "}\n",
    "\n",
    "tune (X_train, y_train, cv_pipeline, param_grid, roc_scorer, n_jobs=8, verbose=True)"
   ]
  },
  {
   "cell_type": "markdown",
   "metadata": {},
   "source": [
    "### Eval Best Pipeline"
   ]
  },
  {
   "cell_type": "code",
   "execution_count": 25,
   "metadata": {
    "collapsed": false
   },
   "outputs": [
    {
     "name": "stdout",
     "output_type": "stream",
     "text": [
      "time: 5.52 ms\n"
     ]
    }
   ],
   "source": [
    "optimal_pipeline = Pipeline([\n",
    "    ('vect', CountVectorizer(ngram_range = (1,5), analyzer = 'char', max_features = 50000)),\n",
    "    ('tfidf', TfidfTransformer(sublinear_tf=True,norm='l2')),\n",
    "    ('clf', LogisticRegression(C = 5.0,  solver = 'sag')),\n",
    "])"
   ]
  },
  {
   "cell_type": "code",
   "execution_count": 26,
   "metadata": {
    "collapsed": false
   },
   "outputs": [
    {
     "name": "stdout",
     "output_type": "stream",
     "text": [
      "time: 4min 19s\n"
     ]
    }
   ],
   "source": [
    "model = optimal_pipeline.fit(X_train, y_train)\n",
    "roc_df, spearman_df = test_cross(model, data, xtype)"
   ]
  },
  {
   "cell_type": "code",
   "execution_count": 27,
   "metadata": {
    "collapsed": false
   },
   "outputs": [
    {
     "data": {
      "text/html": [
       "<div>\n",
       "<table border=\"1\" class=\"dataframe\">\n",
       "  <thead>\n",
       "    <tr style=\"text-align: right;\">\n",
       "      <th></th>\n",
       "      <th>random</th>\n",
       "      <th>blocked</th>\n",
       "      <th>both</th>\n",
       "    </tr>\n",
       "  </thead>\n",
       "  <tbody>\n",
       "    <tr>\n",
       "      <th>user</th>\n",
       "      <td>0.992995</td>\n",
       "      <td>0.953369</td>\n",
       "      <td>0.964760</td>\n",
       "    </tr>\n",
       "    <tr>\n",
       "      <th>article</th>\n",
       "      <td>0.960139</td>\n",
       "      <td>0.966693</td>\n",
       "      <td>0.973540</td>\n",
       "    </tr>\n",
       "    <tr>\n",
       "      <th>both</th>\n",
       "      <td>0.978529</td>\n",
       "      <td>0.963249</td>\n",
       "      <td>0.972597</td>\n",
       "    </tr>\n",
       "  </tbody>\n",
       "</table>\n",
       "</div>"
      ],
      "text/plain": [
       "           random   blocked      both\n",
       "user     0.992995  0.953369  0.964760\n",
       "article  0.960139  0.966693  0.973540\n",
       "both     0.978529  0.963249  0.972597"
      ]
     },
     "execution_count": 27,
     "metadata": {},
     "output_type": "execute_result"
    },
    {
     "name": "stdout",
     "output_type": "stream",
     "text": [
      "time: 8.73 ms\n"
     ]
    }
   ],
   "source": [
    "roc_df"
   ]
  },
  {
   "cell_type": "code",
   "execution_count": 28,
   "metadata": {
    "collapsed": false
   },
   "outputs": [
    {
     "data": {
      "text/html": [
       "<div>\n",
       "<table border=\"1\" class=\"dataframe\">\n",
       "  <thead>\n",
       "    <tr style=\"text-align: right;\">\n",
       "      <th></th>\n",
       "      <th>random</th>\n",
       "      <th>blocked</th>\n",
       "      <th>both</th>\n",
       "    </tr>\n",
       "  </thead>\n",
       "  <tbody>\n",
       "    <tr>\n",
       "      <th>user</th>\n",
       "      <td>0.188814</td>\n",
       "      <td>0.657504</td>\n",
       "      <td>0.605796</td>\n",
       "    </tr>\n",
       "    <tr>\n",
       "      <th>article</th>\n",
       "      <td>0.149509</td>\n",
       "      <td>0.431957</td>\n",
       "      <td>0.356463</td>\n",
       "    </tr>\n",
       "    <tr>\n",
       "      <th>both</th>\n",
       "      <td>0.189726</td>\n",
       "      <td>0.621921</td>\n",
       "      <td>0.548869</td>\n",
       "    </tr>\n",
       "  </tbody>\n",
       "</table>\n",
       "</div>"
      ],
      "text/plain": [
       "           random   blocked      both\n",
       "user     0.188814  0.657504  0.605796\n",
       "article  0.149509  0.431957  0.356463\n",
       "both     0.189726  0.621921  0.548869"
      ]
     },
     "execution_count": 28,
     "metadata": {},
     "output_type": "execute_result"
    },
    {
     "name": "stdout",
     "output_type": "stream",
     "text": [
      "time: 4.81 ms\n"
     ]
    }
   ],
   "source": [
    "spearman_df"
   ]
  },
  {
   "cell_type": "markdown",
   "metadata": {},
   "source": [
    "### Does Adding Blocked Data Help predicting on Random Data?"
   ]
  },
  {
   "cell_type": "markdown",
   "metadata": {
    "collapsed": false
   },
   "source": [
    "#### User"
   ]
  },
  {
   "cell_type": "code",
   "execution_count": 30,
   "metadata": {
    "collapsed": false
   },
   "outputs": [
    {
     "name": "stdout",
     "output_type": "stream",
     "text": [
      "\n",
      "Train:  {'samples': ['random'], 'nss': ['user']}\n",
      "Test:  {'samples': ['random'], 'nss': ['user']} \n",
      "\n",
      "\tROC: 0.990\n",
      "\tSpearman: 0.119\n",
      "\n",
      "Train:  {'samples': ['random', 'blocked'], 'nss': ['user']}\n",
      "Test:  {'samples': ['random'], 'nss': ['user']} \n",
      "\n",
      "\tROC: 0.993\n",
      "\tSpearman: 0.162\n",
      "time: 1min 51s\n"
     ]
    }
   ],
   "source": [
    "train_params = [\n",
    "                {'nss': ['user'],\n",
    "                 'samples': ['random']},\n",
    "                {'nss': ['user'],\n",
    "                 'samples': ['random', 'blocked'] }\n",
    "                ]\n",
    "\n",
    "test_params =  [\n",
    "                {'nss': ['user'],\n",
    "                 'samples': ['random']}\n",
    "                ]\n",
    "\n",
    "test_custom_cross(optimal_pipeline, data, xtype, ytype, train_params, test_params)"
   ]
  },
  {
   "cell_type": "markdown",
   "metadata": {},
   "source": [
    "#### Article"
   ]
  },
  {
   "cell_type": "code",
   "execution_count": 31,
   "metadata": {
    "collapsed": false
   },
   "outputs": [
    {
     "name": "stdout",
     "output_type": "stream",
     "text": [
      "\n",
      "Train:  {'samples': ['random'], 'nss': ['article']}\n",
      "Test:  {'samples': ['random'], 'nss': ['article']} \n",
      "\n",
      "\tROC: 0.912\n",
      "\tSpearman: 0.131\n",
      "\n",
      "Train:  {'samples': ['random', 'blocked'], 'nss': ['article']}\n",
      "Test:  {'samples': ['random'], 'nss': ['article']} \n",
      "\n",
      "\tROC: 0.986\n",
      "\tSpearman: 0.173\n",
      "time: 1min 54s\n"
     ]
    },
    {
     "name": "stderr",
     "output_type": "stream",
     "text": [
      "/Users/ellerywulczyn/miniconda3/lib/python3.5/site-packages/sklearn/linear_model/sag.py:267: ConvergenceWarning: The max_iter was reached which means the coef_ did not converge\n",
      "  \"the coef_ did not converge\", ConvergenceWarning)\n"
     ]
    }
   ],
   "source": [
    "train_params = [\n",
    "                {'nss': ['article'],\n",
    "                 'samples': ['random']},\n",
    "                {'nss': ['article'],\n",
    "                 'samples': ['random', 'blocked'] }\n",
    "                ]\n",
    "\n",
    "test_params =  [\n",
    "                {'nss': ['article'],\n",
    "                 'samples': ['random']}\n",
    "                ]\n",
    "\n",
    "test_custom_cross(optimal_pipeline, data, xtype, ytype, train_params, test_params)"
   ]
  },
  {
   "cell_type": "markdown",
   "metadata": {},
   "source": [
    "## Does adding random and blocked data from one namespace help predict on random data from the other namespace?"
   ]
  },
  {
   "cell_type": "markdown",
   "metadata": {},
   "source": [
    "#### User"
   ]
  },
  {
   "cell_type": "code",
   "execution_count": 32,
   "metadata": {
    "collapsed": false
   },
   "outputs": [
    {
     "name": "stdout",
     "output_type": "stream",
     "text": [
      "\n",
      "Train:  {'samples': ['random', 'blocked'], 'nss': ['user']}\n",
      "Test:  {'samples': ['random'], 'nss': ['user']} \n",
      "\n",
      "\tROC: 0.993\n",
      "\tSpearman: 0.162\n",
      "\n",
      "Train:  {'samples': ['random', 'blocked'], 'nss': ['user', 'article']}\n",
      "Test:  {'samples': ['random'], 'nss': ['user']} \n",
      "\n",
      "\tROC: 0.993\n",
      "\tSpearman: 0.189\n",
      "time: 3min 37s\n"
     ]
    }
   ],
   "source": [
    "train_params = [\n",
    "                {'nss': ['user'],\n",
    "                 'samples': ['random', 'blocked']},\n",
    "                {'nss': ['user', 'article'],\n",
    "                 'samples': ['random', 'blocked'] }\n",
    "                ]\n",
    "\n",
    "test_params =  [\n",
    "                {'nss': ['user'],\n",
    "                 'samples': ['random']}\n",
    "                ]\n",
    "\n",
    "test_custom_cross(optimal_pipeline, data, xtype, ytype, train_params, test_params)"
   ]
  },
  {
   "cell_type": "markdown",
   "metadata": {},
   "source": [
    "#### Article"
   ]
  },
  {
   "cell_type": "code",
   "execution_count": 33,
   "metadata": {
    "collapsed": false
   },
   "outputs": [
    {
     "name": "stdout",
     "output_type": "stream",
     "text": [
      "\n",
      "Train:  {'samples': ['random', 'blocked'], 'nss': ['article']}\n",
      "Test:  {'samples': ['random'], 'nss': ['article']} \n",
      "\n",
      "\tROC: 0.986\n",
      "\tSpearman: 0.173\n",
      "\n",
      "Train:  {'samples': ['random', 'blocked'], 'nss': ['user', 'article']}\n",
      "Test:  {'samples': ['random'], 'nss': ['article']} \n",
      "\n",
      "\tROC: 0.960\n",
      "\tSpearman: 0.150\n",
      "time: 3min 56s\n"
     ]
    }
   ],
   "source": [
    "train_params = [\n",
    "                {'nss': ['article'],\n",
    "                 'samples': ['random', 'blocked']},\n",
    "                {'nss': ['user', 'article'],\n",
    "                 'samples': ['random', 'blocked'] }\n",
    "                ]\n",
    "\n",
    "test_params =  [\n",
    "                {'nss': ['article'],\n",
    "                 'samples': ['random']}\n",
    "                ]\n",
    "\n",
    "test_custom_cross(optimal_pipeline, data, xtype, ytype, train_params, test_params)"
   ]
  },
  {
   "cell_type": "markdown",
   "metadata": {},
   "source": [
    "### Check Calibration"
   ]
  },
  {
   "cell_type": "code",
   "execution_count": 34,
   "metadata": {
    "collapsed": false,
    "scrolled": false
   },
   "outputs": [
    {
     "data": {
      "image/png": "[encoded data removed]",
      "text/plain": [
       "<matplotlib.figure.Figure at 0x129e89b00>"
      ]
     },
     "metadata": {},
     "output_type": "display_data"
    },
    {
     "data": {
      "text/plain": [
       "<matplotlib.figure.Figure at 0x140a00d68>"
      ]
     },
     "metadata": {},
     "output_type": "display_data"
    },
    {
     "name": "stdout",
     "output_type": "stream",
     "text": [
      "time: 42.9 s\n"
     ]
    }
   ],
   "source": [
    "y_test_oh = one_hot(y_test)\n",
    "y_pred_ed = model.predict_proba(X_test)\n",
    "\n",
    "if n_classes > 2:\n",
    "    classes = range(n_classes)\n",
    "else:\n",
    "    classes = [1]\n",
    "\n",
    "for i in classes:\n",
    "    plt.figure()\n",
    "    calibration_curve_plotter(y_test_oh[:, i], y_pred_ed[:, i])\n",
    "    plt.show()"
   ]
  },
  {
   "cell_type": "markdown",
   "metadata": {},
   "source": [
    "### Error Analysis"
   ]
  },
  {
   "cell_type": "code",
   "execution_count": 35,
   "metadata": {
    "collapsed": false
   },
   "outputs": [
    {
     "name": "stdout",
     "output_type": "stream",
     "text": [
      "\n",
      "\n",
      "\n",
      "CLASS:  1\n",
      "\n",
      "\n",
      "OVER\n",
      "\n",
      "COMMENT:\n",
      "u r a tw@ fuck off u gay boy.U r smelly.Fuck ur mum poopie\n",
      "SCORES: Actual: 0.00, Predicted: 1.00, Residual: -1.00\n",
      "\n",
      "\n",
      "COMMENT:\n",
      " She is a Motherfucker I will block you Motherfucker, Shit, bitch, punch, kill, swear, do nudity, so shut up, frickin around give you drugs, call you names like shit, fuck, bum, poo, damn! so fucker, you will be blocked and dead you shit and fuck, and I will do the rude finger sign. You fucker get bad new messages bum, oh shit.\n",
      "SCORES: Actual: 0.00, Predicted: 1.00, Residual: -1.00\n",
      "\n",
      "\n",
      "COMMENT:\n",
      "Fuck, Shit, Damn, Cock, Pissant, Motherfucker, and horse dick.\n",
      "SCORES: Actual: 0.00, Predicted: 1.00, Residual: -1.00\n",
      "\n",
      "\n",
      "COMMENT:\n",
      "Mark asten is a pussy pussy pussy pussy pussy pussy pussy loser loser loser fucker fucker fucker hooker hooker hooker son of a bitch son of a bitch son of a bitchWelcome\n",
      "SCORES: Actual: 0.00, Predicted: 1.00, Residual: -1.00\n",
      "\n",
      "\n",
      "COMMENT:\n",
      "Anyone else glad that this stupid fucker offed himself?I sure am. Hey Britbarb, fuck off. Your nephew was a punk who couldn't handle his shit. And now you and his parents are on some fucking caped-crusade to destroy the lives of MILLIONS of innocent people who just want to alter their consciousness... I'm sure that's what your Salvia-using kid would have wanted. Karma's a bitch. Keep up your holy war, and the universe will smack you down so fucking hard that you'll wish that you all had killed\n",
      "SCORES: Actual: 0.00, Predicted: 1.00, Residual: -1.00\n",
      "\n",
      "\n",
      "COMMENT:\n",
      " Youre a sock puppet you are! you are! im going to track you down, and when i track you down, your going to drown, in your own sins. You are going to hell! I want to hell you! This is probably that pollypocket kid righting this by the way! yeah! so block the witch!   \n",
      "SCORES: Actual: 0.00, Predicted: 1.00, Residual: -1.00\n",
      "\n",
      "\n",
      "COMMENT:\n",
      "Nota Goddamned thing, if you dont like it, its becouse you suck big fat elepant dicks-AppoloBitch\n",
      "SCORES: Actual: 0.00, Predicted: 0.99, Residual: -0.99\n",
      "\n",
      "\n",
      "COMMENT:\n",
      " Listen up. OK, listen up you god damn jerk. I'm really sick and tired of your shit. I'm sick of you stalking me all over wikipedia because I'm editing a page. Just because YOU don't like the edits I make, doesn't mean you have to bully and global block me each time I make an edit OK?? I'm not hurting and offending anyone, so why treat me like a terrorist??I've noticed I'm not the only one you bullied. You are abusing your power as a Wikipedia administrator and you are nothing but a tyrannic\n",
      "SCORES: Actual: 0.00, Predicted: 0.99, Residual: -0.99\n",
      "\n",
      "\n",
      "COMMENT:\n",
      " FUCK FUCK FUCK FUCK FUCK FUCK  FUCK FUCK FUCK  FUCK FUCK FUCK  FUCK FUCK FUCK  FUCK FUCK FUCK  FUCK FUCK FUCK  FUCK FUCK FUCK FUCK FUCK FUCK  FUCK FUCK FUCK  FUCK FUCK FUCK  FUCK FUCK FUCK  FUCK FUCK FUCK  FUCK FUCK FUCK  FUCK FUCK FUCK  FUCK FUCK FUCK  FUCK FUCK FUCK  FUCK FUCK FUCK  FUCK FUCK FUCK  FUCK FUCK FUCK  FUCK FUCK FUCK  FUCK FUCK FUCK  FUCK FUCK FUCK  FUCK FUCK FUCK \n",
      "SCORES: Actual: 0.00, Predicted: 0.99, Residual: -0.99\n",
      "\n",
      "\n",
      "COMMENT:\n",
      "This is as stupid as it getsStupid bot... I wonder will it delete this whole article Fuck Fuck Fuck Fuck Fuck Fuck Fuck Fuck Fuck because it's obscene!!!!!!!!\n",
      "SCORES: Actual: 0.00, Predicted: 0.99, Residual: -0.99\n",
      "\n",
      "\n",
      "\n",
      "\n",
      "UNDER\n",
      "\n",
      "COMMENT:\n",
      "tno thanks mate p i s s offe\n",
      "SCORES: Actual: 1.00, Predicted: 0.00, Residual: 1.00\n",
      "\n",
      "\n",
      "COMMENT:\n",
      " why change that page? the Brandon Cruz page is being edited by me, brandon cruz. no one knows my life, nor has the right to think they know about me. leave it alone.brandon cruz\n",
      "SCORES: Actual: 1.00, Predicted: 0.00, Residual: 1.00\n",
      "\n",
      "\n",
      "COMMENT:\n",
      "\" I am not afraid of your threats (it's not an insult I talked nice to you). If you don't know about 94% of Albanians (who were in a poll) support terrorist so called \"\"KLA\"\". 6% of the rest were killed by KLA because they cooperated with Serbs. And albanians can't be \"\"normal people\"\" since they are not humans at all and absolutely not normal (what kind of human being could kill a innocent baby and burn it allive, or burn 300 churches for nothing)? Ok I understand that but why do you protect \n",
      "SCORES: Actual: 1.00, Predicted: 0.00, Residual: 1.00\n",
      "\n",
      "\n",
      "COMMENT:\n",
      "\":::::You're being silly.  There is no San/Bushman religion; the title is merely a descriptive phrase.  Or at least you could provide some smidgin of evidence that your objection has anything to do with reality.  As for moving the article, several people had pointed out that the old name was spurious, and in any case did it not describe the topic of the article.  No-one has ever complained complained about the move.  The only question was whether it should be to \"\"San\"\" or to \"\"Bushman\"\".  I ini\n",
      "SCORES: Actual: 1.00, Predicted: 0.00, Residual: 1.00\n",
      "\n",
      "\n",
      "COMMENT:\n",
      "\"Perseus missile - Description or Characteristics?Your lack of English comprehension is appalling. Your edit summary reads, \"\"the section here describes the missile, not just lists its characteristics. Standard way of naming sections on similar articles. Also, i would be happy to compare GRE scores\"\". You are making this oh so easy for me, but for your benefit I will simplify things by hypothetically replacing the missile with a person. If I were to describe a person - perhaps on a police rep\n",
      "SCORES: Actual: 1.00, Predicted: 0.00, Residual: 1.00\n",
      "\n",
      "\n",
      "COMMENT:\n",
      "Bite me. In the butt.  (talk - ) \n",
      "SCORES: Actual: 1.00, Predicted: 0.00, Residual: 1.00\n",
      "\n",
      "\n",
      "COMMENT:\n",
      "DUDE!! What the hell is with all these incorrect information on Of Mice & Men (band) article!! There is no way they are post-hardcore or nu metal, Austin Carlile said on multiple interviews. Bryanstars, Crescendotv, etc...ok I'll sort of give you the nu metal part after reading the Alternative Press interview, but that's not the point! I'm sticking the the specific genre that there known for, and that's metalcore. They have been metalcore from the start and they said the will stick with metalcor\n",
      "SCORES: Actual: 1.00, Predicted: 0.00, Residual: 1.00\n",
      "\n",
      "\n",
      "COMMENT:\n",
      "\"Binksternet's paranoid and frightening theory propounded about Geraldine Edwards is both unwarranted and inappropriate. He has no grounds or factual element to support his theory in general, which is pure conjecture and supposition. What's more, it's not his place within the rules of Wikipedia editing to mount a personal editorial based on his personal feelings towards a person. His hypothesis that a rouge IP editor from San Diego mounted a campaign to raise the profile of Geraldine Edwards to\n",
      "SCORES: Actual: 1.00, Predicted: 0.01, Residual: 0.99\n",
      "\n",
      "\n",
      "COMMENT:\n",
      "GO SIT ON A LIVE GRENADE.\n",
      "SCORES: Actual: 1.00, Predicted: 0.01, Residual: 0.99\n",
      "\n",
      "\n",
      "COMMENT:\n",
      "HillsongFirst of all, I have no idea who you are, pal. Probably some BOSSY person who thinks they OWN wikipedia. Secondly, as for your laughably false accusations, let me DEMOLISH them one at a time -1) As well as non-neutral PROMOTION of the New York church!!Never been to their church or any Hillsong church. So I AM neutral.Is it perhaps, because the cultural miiliea in Wikipedia is so POISONOUSLY biased against evangelical Christianity, that anything short of I HATE GOD WITH ALL MY HEAR\n",
      "SCORES: Actual: 1.00, Predicted: 0.01, Residual: 0.99\n",
      "\n",
      "\n",
      "time: 45.6 ms\n"
     ]
    }
   ],
   "source": [
    "for i in classes:\n",
    "    print('\\n\\n\\nCLASS: ', i)\n",
    "    over, under = get_errors(X_test, y_test_oh[:, i], y_pred_ed[:, i])\n",
    "    print('\\n\\nOVER\\n')\n",
    "    print_errors(over, n=10)\n",
    "    print('\\n\\nUNDER\\n')\n",
    "    print_errors(under, n=10)"
   ]
  },
  {
   "cell_type": "markdown",
   "metadata": {},
   "source": [
    "### Learning Curves!\n",
    "How does adding more training data improve performance?"
   ]
  },
  {
   "cell_type": "code",
   "execution_count": 36,
   "metadata": {
    "collapsed": false
   },
   "outputs": [
    {
     "name": "stdout",
     "output_type": "stream",
     "text": [
      "time: 849 µs\n"
     ]
    }
   ],
   "source": [
    "#ms, metrics = eval_adding_other_data(optimal_pipeline, None, None, X_test, y_test, X_train, y_train, roc_scorer)\n",
    "#plot_adding_other_data(ms, metrics)"
   ]
  },
  {
   "cell_type": "markdown",
   "metadata": {},
   "source": [
    "### Model Understanding"
   ]
  },
  {
   "cell_type": "code",
   "execution_count": 37,
   "metadata": {
    "collapsed": false
   },
   "outputs": [
    {
     "name": "stdout",
     "output_type": "stream",
     "text": [
      "\n",
      "\n",
      "CLASS:  1\n",
      "STRONG POS: \n",
      "['ur mo' 'itch' 'sex' ' lia' ' jerk' ' fool' 'dumb' 'sh' 'ss' 'your' 'cunt'\n",
      " ' dumb' 'suck' 'o f' 'ck ' 'tup' ' fa' 'f*' ' hell' 'die ' ' fu' ' idi'\n",
      " 'hut ' 'shut ' ' idio' 'gay' ' coc' 'stup' ' dick' 'tupi' 'stupi' 'pid'\n",
      " 'tard' 'k off' 'e an ' ' cock' ' f*' ' f' '!' 'fool' ' die ' ' bitc'\n",
      " 'upid' 'tupid' 'ur ' 'dio' 'oro' 'uk' 'go ' 'uck ' 'ole' '*' ' fuck'\n",
      " 'e a ' ' gay' 'shit' 'you ' 'hole' 're a' ' ass ' 'idiot' 'ou ' 'bitch'\n",
      " 'idio' 'dick' 'diot' 'die' 'fag' ' ass' 'bitc' 'iot' 'oron' 'idi' ' ur'\n",
      " 'ck y' 'fu' 'are a' 'ck yo' ' yo' 'moro' ' you' 'ass' ' die' ' fag' ' fuc'\n",
      " ' ur ' 'moron' ' moro' ' y' 'uc' 're a ' 'ck' 'fuck' 'uck y' 'fuc' 'uck'\n",
      " 'u ' ' u ' 'yo' 'you']\n",
      "STRONG NEG: \n",
      "[' ' 'is a' '\"' 'ank ' 'nk y' 'nk yo' 'hank ' ')' 'e' 'is ' ' \"' 's a f'\n",
      " 'thank' 'hank' 'ank y' ' he ' 's,' 'v' ' is a' 'sucks' '?' '\\ni' 'his a'\n",
      " 'm a' 's, ' 'they' 'op i' 'itch ' ' at ' 's a' 'is a ' 'ank' 'u fo' 'k on'\n",
      " 's a ' ') ' \"'re g\" 'p i' '\\ni ' 'ion' 'they ' '. ' 'u for' '.23' 'o'\n",
      " ' a fu' 'y is' 'a fu' ' ph' 'im ' 'top i' ' they' 'than' 'gre' 'but i'\n",
      " ' but ' 'ng bo' 'nk ' 'i lik' 'and a' 'tell ' '8' 'lp' 'te s' 'tio' '4.2'\n",
      " 'ark' 'ail' 'on' 'luc' 'y l' ', g' 'ove y' 'ck th' 'p,' 'tion' 'are n'\n",
      " 'rk ' 'k on ' 't it ' '8 ' 'ou fo' 'l wh' '21.' 'elp ' 'tche' 'h' 'help '\n",
      " 'me a' 'e?' 'p, ' '+' ']' ' hi' 'ative' ' ver' 'am a' 'i hav' ' ple' 'ted']\n",
      "time: 212 ms\n"
     ]
    }
   ],
   "source": [
    "feature_names = np.array(model.named_steps['vect'].get_feature_names())\n",
    "for i in classes:\n",
    "    print('\\n\\nCLASS: ', i)\n",
    "    \n",
    "    try:\n",
    "        coef = model.named_steps['clf'].coef_[i].ravel()\n",
    "    except:\n",
    "        coef = model.named_steps['clf'].coef_.ravel()\n",
    "    most_pos_idx = np.argsort(coef)[-100:]\n",
    "    most_pos = feature_names[most_pos_idx]\n",
    "    print('STRONG POS: ')\n",
    "    print(most_pos)\n",
    "    most_neg_idx = np.argsort(coef)[:100]\n",
    "    most_neg = feature_names[most_neg_idx]\n",
    "    print('STRONG NEG: ')\n",
    "    print(most_neg)"
   ]
  },
  {
   "cell_type": "markdown",
   "metadata": {},
   "source": [
    "### Final Model"
   ]
  },
  {
   "cell_type": "code",
   "execution_count": 38,
   "metadata": {
    "collapsed": false
   },
   "outputs": [
    {
     "data": {
      "text/plain": [
       "['../../models/recipient_ngram.pkl',\n",
       " '../../models/recipient_ngram.pkl_01.npy',\n",
       " '../../models/recipient_ngram.pkl_02.npy',\n",
       " '../../models/recipient_ngram.pkl_03.npy',\n",
       " '../../models/recipient_ngram.pkl_04.npy',\n",
       " '../../models/recipient_ngram.pkl_05.npy',\n",
       " '../../models/recipient_ngram.pkl_06.npy']"
      ]
     },
     "execution_count": 38,
     "metadata": {},
     "output_type": "execute_result"
    },
    {
     "name": "stdout",
     "output_type": "stream",
     "text": [
      "time: 6min 40s\n"
     ]
    }
   ],
   "source": [
    "X, y = assemble_data(data, xtype, ytype)\n",
    "final_model = optimal_pipeline.fit(X, y)\n",
    "joblib.dump(final_model, '../../models/%s_ngram.pkl' % task)"
   ]
  }
 ],
 "metadata": {
  "kernelspec": {
   "display_name": "Python 3",
   "language": "python",
   "name": "python3"
  },
  "language_info": {
   "codemirror_mode": {
    "name": "ipython",
    "version": 3
   },
   "file_extension": ".py",
   "mimetype": "text/x-python",
   "name": "python",
   "nbconvert_exporter": "python",
   "pygments_lexer": "ipython3",
   "version": "3.5.1"
  }
 },
 "nbformat": 4,
 "nbformat_minor": 0
}
