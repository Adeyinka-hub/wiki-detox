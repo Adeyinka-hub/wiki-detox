{
 "cells": [
  {
   "cell_type": "code",
   "execution_count": 1,
   "metadata": {
    "collapsed": false
   },
   "outputs": [],
   "source": [
    "%load_ext autoreload\n",
    "%autoreload 2\n",
    "%matplotlib inline\n",
    "%load_ext autotime\n",
    "\n",
    "\n",
    "from ngram import *\n",
    "from baselines import *\n",
    "from error_analysis import *\n",
    "pd.options.mode.chained_assignment = None\n"
   ]
  },
  {
   "cell_type": "markdown",
   "metadata": {},
   "source": [
    "### Load Annotated Data"
   ]
  },
  {
   "cell_type": "code",
   "execution_count": 2,
   "metadata": {
    "collapsed": false
   },
   "outputs": [
    {
     "name": "stdout",
     "output_type": "stream",
     "text": [
      "time: 1.85 ms\n"
     ]
    }
   ],
   "source": [
    "task = 'recipient'\n",
    "xtype = 'comments'\n",
    "ytype = 'plurality'\n",
    "n_classes = 2"
   ]
  },
  {
   "cell_type": "code",
   "execution_count": 3,
   "metadata": {
    "collapsed": false
   },
   "outputs": [
    {
     "name": "stdout",
     "output_type": "stream",
     "text": [
      "time: 1min 52s\n"
     ]
    }
   ],
   "source": [
    "data = load_comments_and_labels(task)"
   ]
  },
  {
   "cell_type": "code",
   "execution_count": 4,
   "metadata": {
    "collapsed": false
   },
   "outputs": [
    {
     "name": "stdout",
     "output_type": "stream",
     "text": [
      "time: 27 ms\n"
     ]
    }
   ],
   "source": [
    "X_train, y_train = assemble_data(data, xtype, ytype, splits = ['train'])\n",
    "X_test, y_test = assemble_data(data, xtype, 'empirical_dist', splits = ['test'])"
   ]
  },
  {
   "cell_type": "markdown",
   "metadata": {
    "collapsed": true
   },
   "source": [
    "### Hyper-Parameter tuning"
   ]
  },
  {
   "cell_type": "code",
   "execution_count": 5,
   "metadata": {
    "collapsed": false
   },
   "outputs": [
    {
     "name": "stdout",
     "output_type": "stream",
     "text": [
      "time: 1.43 ms\n"
     ]
    }
   ],
   "source": [
    "cv_pipeline = Pipeline([\n",
    "    ('vect', CountVectorizer()),\n",
    "    ('tfidf', TfidfTransformer(sublinear_tf=True,norm='l2')),\n",
    "    ('clf', LogisticRegression(solver = 'sag')),\n",
    "])"
   ]
  },
  {
   "cell_type": "code",
   "execution_count": 6,
   "metadata": {
    "collapsed": false
   },
   "outputs": [
    {
     "name": "stdout",
     "output_type": "stream",
     "text": [
      "\n",
      "Best parameters set found:\n",
      "{'vect__ngram_range': (1, 5), 'vect__max_features': None, 'vect__analyzer': 'char'} 0.970897827253\n",
      "\n",
      "\n",
      "Grid scores:\n",
      "0.94830 (+/-0.00000) for {'vect__ngram_range': (1, 5), 'vect__max_features': 500, 'vect__analyzer': 'char'}\n",
      "0.96665 (+/-0.00000) for {'vect__ngram_range': (1, 5), 'vect__max_features': 5000, 'vect__analyzer': 'char'}\n",
      "0.96849 (+/-0.00000) for {'vect__ngram_range': (1, 5), 'vect__max_features': 10000, 'vect__analyzer': 'char'}\n",
      "0.97040 (+/-0.00000) for {'vect__ngram_range': (1, 5), 'vect__max_features': 50000, 'vect__analyzer': 'char'}\n",
      "0.97090 (+/-0.00000) for {'vect__ngram_range': (1, 5), 'vect__max_features': None, 'vect__analyzer': 'char'}\n",
      "time: 3min 13s\n"
     ]
    }
   ],
   "source": [
    "param_grid = {\n",
    "    'vect__max_features': (500, 5000, 10000, 50000, None), \n",
    "    'vect__ngram_range': ((1,5),),  \n",
    "    'vect__analyzer' : ('char',),\n",
    "\n",
    "}\n",
    "\n",
    "tune (X_train, y_train, cv_pipeline, param_grid, roc_scorer, n_jobs=8, verbose=True)"
   ]
  },
  {
   "cell_type": "markdown",
   "metadata": {},
   "source": [
    "### Eval Best Pipeline"
   ]
  },
  {
   "cell_type": "code",
   "execution_count": 7,
   "metadata": {
    "collapsed": false
   },
   "outputs": [
    {
     "name": "stdout",
     "output_type": "stream",
     "text": [
      "time: 24.8 ms\n"
     ]
    }
   ],
   "source": [
    "optimal_pipeline = Pipeline([\n",
    "    ('vect', CountVectorizer(ngram_range = (1,5), analyzer = 'char', max_features = 50000)),\n",
    "    ('tfidf', TfidfTransformer(sublinear_tf=True,norm='l2')),\n",
    "    ('clf', LogisticRegression(C = 5.0,  solver = 'sag')),\n",
    "])"
   ]
  },
  {
   "cell_type": "code",
   "execution_count": 8,
   "metadata": {
    "collapsed": false
   },
   "outputs": [
    {
     "name": "stdout",
     "output_type": "stream",
     "text": [
      "time: 4min 6s\n"
     ]
    }
   ],
   "source": [
    "model = optimal_pipeline.fit(X_train, y_train)\n",
    "roc_df, spearman_df = test_cross(model, data, xtype)"
   ]
  },
  {
   "cell_type": "code",
   "execution_count": 9,
   "metadata": {
    "collapsed": false
   },
   "outputs": [
    {
     "data": {
      "text/html": [
       "<div>\n",
       "<table border=\"1\" class=\"dataframe\">\n",
       "  <thead>\n",
       "    <tr style=\"text-align: right;\">\n",
       "      <th></th>\n",
       "      <th>random</th>\n",
       "      <th>blocked</th>\n",
       "      <th>both</th>\n",
       "    </tr>\n",
       "  </thead>\n",
       "  <tbody>\n",
       "    <tr>\n",
       "      <th>user</th>\n",
       "      <td>0.986265</td>\n",
       "      <td>0.955704</td>\n",
       "      <td>0.966432</td>\n",
       "    </tr>\n",
       "    <tr>\n",
       "      <th>article</th>\n",
       "      <td>0.984817</td>\n",
       "      <td>0.970908</td>\n",
       "      <td>0.978492</td>\n",
       "    </tr>\n",
       "    <tr>\n",
       "      <th>both</th>\n",
       "      <td>0.984241</td>\n",
       "      <td>0.966018</td>\n",
       "      <td>0.975008</td>\n",
       "    </tr>\n",
       "  </tbody>\n",
       "</table>\n",
       "</div>"
      ],
      "text/plain": [
       "           random   blocked      both\n",
       "user     0.986265  0.955704  0.966432\n",
       "article  0.984817  0.970908  0.978492\n",
       "both     0.984241  0.966018  0.975008"
      ]
     },
     "execution_count": 9,
     "metadata": {},
     "output_type": "execute_result"
    },
    {
     "name": "stdout",
     "output_type": "stream",
     "text": [
      "time: 14.9 ms\n"
     ]
    }
   ],
   "source": [
    "roc_df"
   ]
  },
  {
   "cell_type": "code",
   "execution_count": 10,
   "metadata": {
    "collapsed": false
   },
   "outputs": [
    {
     "data": {
      "text/html": [
       "<div>\n",
       "<table border=\"1\" class=\"dataframe\">\n",
       "  <thead>\n",
       "    <tr style=\"text-align: right;\">\n",
       "      <th></th>\n",
       "      <th>random</th>\n",
       "      <th>blocked</th>\n",
       "      <th>both</th>\n",
       "    </tr>\n",
       "  </thead>\n",
       "  <tbody>\n",
       "    <tr>\n",
       "      <th>user</th>\n",
       "      <td>0.262370</td>\n",
       "      <td>0.666588</td>\n",
       "      <td>0.626791</td>\n",
       "    </tr>\n",
       "    <tr>\n",
       "      <th>article</th>\n",
       "      <td>0.213721</td>\n",
       "      <td>0.465160</td>\n",
       "      <td>0.404007</td>\n",
       "    </tr>\n",
       "    <tr>\n",
       "      <th>both</th>\n",
       "      <td>0.258086</td>\n",
       "      <td>0.638492</td>\n",
       "      <td>0.580485</td>\n",
       "    </tr>\n",
       "  </tbody>\n",
       "</table>\n",
       "</div>"
      ],
      "text/plain": [
       "           random   blocked      both\n",
       "user     0.262370  0.666588  0.626791\n",
       "article  0.213721  0.465160  0.404007\n",
       "both     0.258086  0.638492  0.580485"
      ]
     },
     "execution_count": 10,
     "metadata": {},
     "output_type": "execute_result"
    },
    {
     "name": "stdout",
     "output_type": "stream",
     "text": [
      "time: 7.13 ms\n"
     ]
    }
   ],
   "source": [
    "spearman_df"
   ]
  },
  {
   "cell_type": "markdown",
   "metadata": {},
   "source": [
    "### Does Adding Blocked Data Help predicting on Random Data?"
   ]
  },
  {
   "cell_type": "markdown",
   "metadata": {
    "collapsed": false
   },
   "source": [
    "#### User"
   ]
  },
  {
   "cell_type": "code",
   "execution_count": 11,
   "metadata": {
    "collapsed": false
   },
   "outputs": [
    {
     "name": "stdout",
     "output_type": "stream",
     "text": [
      "\n",
      "Train:  {'samples': ['random'], 'nss': ['user']}\n",
      "Test:  {'samples': ['random'], 'nss': ['user']} \n",
      "\n",
      "\tROC: 0.953\n",
      "\tSpearman: 0.128\n",
      "\n",
      "Train:  {'samples': ['random', 'blocked'], 'nss': ['user']}\n",
      "Test:  {'samples': ['random'], 'nss': ['user']} \n",
      "\n",
      "\tROC: 0.985\n",
      "\tSpearman: 0.241\n",
      "time: 1min 38s\n"
     ]
    }
   ],
   "source": [
    "train_params = [\n",
    "                {'nss': ['user'],\n",
    "                 'samples': ['random']},\n",
    "                {'nss': ['user'],\n",
    "                 'samples': ['random', 'blocked'] }\n",
    "                ]\n",
    "\n",
    "test_params =  [\n",
    "                {'nss': ['user'],\n",
    "                 'samples': ['random']}\n",
    "                ]\n",
    "\n",
    "test_custom_cross(optimal_pipeline, data, xtype, ytype, train_params, test_params)"
   ]
  },
  {
   "cell_type": "markdown",
   "metadata": {},
   "source": [
    "#### Article"
   ]
  },
  {
   "cell_type": "code",
   "execution_count": 12,
   "metadata": {
    "collapsed": false
   },
   "outputs": [
    {
     "data": {
      "text/plain": [
       "(3638,)"
      ]
     },
     "execution_count": 12,
     "metadata": {},
     "output_type": "execute_result"
    },
    {
     "name": "stdout",
     "output_type": "stream",
     "text": [
      "time: 2.23 ms\n"
     ]
    }
   ],
   "source": [
    "data['user']['random']['dev']['x']['comments'].shape"
   ]
  },
  {
   "cell_type": "code",
   "execution_count": 13,
   "metadata": {
    "collapsed": false
   },
   "outputs": [
    {
     "name": "stderr",
     "output_type": "stream",
     "text": [
      "/Users/ellerywulczyn/miniconda3/lib/python3.5/site-packages/sklearn/linear_model/sag.py:267: ConvergenceWarning: The max_iter was reached which means the coef_ did not converge\n",
      "  \"the coef_ did not converge\", ConvergenceWarning)\n"
     ]
    },
    {
     "name": "stdout",
     "output_type": "stream",
     "text": [
      "\n",
      "Train:  {'samples': ['random'], 'nss': ['article']}\n",
      "Test:  {'samples': ['random'], 'nss': ['article']} \n",
      "\n",
      "\tROC: 0.987\n",
      "\tSpearman: 0.173\n",
      "\n",
      "Train:  {'samples': ['random', 'blocked'], 'nss': ['article']}\n",
      "Test:  {'samples': ['random'], 'nss': ['article']} \n",
      "\n",
      "\tROC: 0.987\n",
      "\tSpearman: 0.230\n",
      "time: 1min 43s\n"
     ]
    }
   ],
   "source": [
    "train_params = [\n",
    "                {'nss': ['article'],\n",
    "                 'samples': ['random']},\n",
    "                {'nss': ['article'],\n",
    "                 'samples': ['random', 'blocked'] }\n",
    "                ]\n",
    "\n",
    "test_params =  [\n",
    "                {'nss': ['article'],\n",
    "                 'samples': ['random']}\n",
    "                ]\n",
    "\n",
    "test_custom_cross(optimal_pipeline, data, xtype, ytype, train_params, test_params)"
   ]
  },
  {
   "cell_type": "markdown",
   "metadata": {},
   "source": [
    "## Does adding random and blocked data from one namespace help predict on random data from the other namespace?"
   ]
  },
  {
   "cell_type": "markdown",
   "metadata": {},
   "source": [
    "#### User"
   ]
  },
  {
   "cell_type": "code",
   "execution_count": 14,
   "metadata": {
    "collapsed": false
   },
   "outputs": [
    {
     "name": "stdout",
     "output_type": "stream",
     "text": [
      "\n",
      "Train:  {'samples': ['random', 'blocked'], 'nss': ['user']}\n",
      "Test:  {'samples': ['random'], 'nss': ['user']} \n",
      "\n",
      "\tROC: 0.985\n",
      "\tSpearman: 0.241\n",
      "\n",
      "Train:  {'samples': ['random', 'blocked'], 'nss': ['user', 'article']}\n",
      "Test:  {'samples': ['random'], 'nss': ['user']} \n",
      "\n",
      "\tROC: 0.986\n",
      "\tSpearman: 0.262\n",
      "time: 3min 12s\n"
     ]
    }
   ],
   "source": [
    "train_params = [\n",
    "                {'nss': ['user'],\n",
    "                 'samples': ['random', 'blocked']},\n",
    "                {'nss': ['user', 'article'],\n",
    "                 'samples': ['random', 'blocked'] }\n",
    "                ]\n",
    "\n",
    "test_params =  [\n",
    "                {'nss': ['user'],\n",
    "                 'samples': ['random']}\n",
    "                ]\n",
    "\n",
    "test_custom_cross(optimal_pipeline, data, xtype, ytype, train_params, test_params)"
   ]
  },
  {
   "cell_type": "markdown",
   "metadata": {},
   "source": [
    "#### Article"
   ]
  },
  {
   "cell_type": "code",
   "execution_count": 15,
   "metadata": {
    "collapsed": false
   },
   "outputs": [
    {
     "name": "stdout",
     "output_type": "stream",
     "text": [
      "\n",
      "Train:  {'samples': ['random', 'blocked'], 'nss': ['article']}\n",
      "Test:  {'samples': ['random'], 'nss': ['article']} \n",
      "\n",
      "\tROC: 0.987\n",
      "\tSpearman: 0.230\n",
      "\n",
      "Train:  {'samples': ['random', 'blocked'], 'nss': ['user', 'article']}\n",
      "Test:  {'samples': ['random'], 'nss': ['article']} \n",
      "\n",
      "\tROC: 0.985\n",
      "\tSpearman: 0.214\n",
      "time: 3min 9s\n"
     ]
    }
   ],
   "source": [
    "train_params = [\n",
    "                {'nss': ['article'],\n",
    "                 'samples': ['random', 'blocked']},\n",
    "                {'nss': ['user', 'article'],\n",
    "                 'samples': ['random', 'blocked'] }\n",
    "                ]\n",
    "\n",
    "test_params =  [\n",
    "                {'nss': ['article'],\n",
    "                 'samples': ['random']}\n",
    "                ]\n",
    "\n",
    "test_custom_cross(optimal_pipeline, data, xtype, ytype, train_params, test_params)"
   ]
  },
  {
   "cell_type": "markdown",
   "metadata": {},
   "source": [
    "### Check Calibration"
   ]
  },
  {
   "cell_type": "code",
   "execution_count": 16,
   "metadata": {
    "collapsed": false,
    "scrolled": false
   },
   "outputs": [
    {
     "data": {
      "image/png": "[encoded data removed]",
      "text/plain": [
       "<matplotlib.figure.Figure at 0x1221f12b0>"
      ]
     },
     "metadata": {},
     "output_type": "display_data"
    },
    {
     "data": {
      "text/plain": [
       "<matplotlib.figure.Figure at 0x128226e48>"
      ]
     },
     "metadata": {},
     "output_type": "display_data"
    },
    {
     "name": "stdout",
     "output_type": "stream",
     "text": [
      "time: 30.4 s\n"
     ]
    }
   ],
   "source": [
    "y_test_oh = one_hot(y_test)\n",
    "y_pred_ed = model.predict_proba(X_test)\n",
    "\n",
    "if n_classes > 2:\n",
    "    classes = range(n_classes)\n",
    "else:\n",
    "    classes = [1]\n",
    "\n",
    "for i in classes:\n",
    "    plt.figure()\n",
    "    calibration_curve_plotter(y_test_oh[:, i], y_pred_ed[:, i])\n",
    "    plt.show()"
   ]
  },
  {
   "cell_type": "markdown",
   "metadata": {},
   "source": [
    "### Error Analysis"
   ]
  },
  {
   "cell_type": "code",
   "execution_count": 17,
   "metadata": {
    "collapsed": false
   },
   "outputs": [
    {
     "name": "stdout",
     "output_type": "stream",
     "text": [
      "\n",
      "\n",
      "\n",
      "CLASS:  1\n",
      "\n",
      "\n",
      "OVER\n",
      "\n",
      "COMMENT:\n",
      " you a bitch I hope you die you﻿ worthless pathetic fucking cunt.\n",
      "SCORES: Actual: 0.00, Predicted: 1.00, Residual: -1.00\n",
      "\n",
      "\n",
      "COMMENT:\n",
      " She is a Motherfucker I will block you Motherfucker, Shit, bitch, punch, kill, swear, do nudity, so shut up, frickin around give you drugs, call you names like shit, fuck, bum, poo, damn! so fucker, you will be blocked and dead you shit and fuck, and I will do the rude finger sign. You fucker get bad new messages bum, oh shit.\n",
      "SCORES: Actual: 0.00, Predicted: 1.00, Residual: -1.00\n",
      "\n",
      "\n",
      "COMMENT:\n",
      " i dont lambs12 wikipedia sucks ass pussy in the dick i dont give a pussy fuck about lambs12 bitch nigger asshole cock  retyc\n",
      "SCORES: Actual: 0.00, Predicted: 1.00, Residual: -1.00\n",
      "\n",
      "\n",
      "COMMENT:\n",
      " hi if you know clown will kill me guy then tell him that he is stupid, ugly, fat, gay, his mother's a whore, he smells like shit, he's an asshole, a bastard, and his little name just might be the gayest fucking thing i have ever heard. Hey and you are a faggot as well, so don't ever send me a message while i am editing pages again or i will rape your mother and kill you.\n",
      "SCORES: Actual: 0.00, Predicted: 1.00, Residual: -1.00\n",
      "\n",
      "\n",
      "COMMENT:\n",
      "Fuck, Shit, Damn, Cock, Pissant, Motherfucker, and horse dick.\n",
      "SCORES: Actual: 0.00, Predicted: 1.00, Residual: -1.00\n",
      "\n",
      "\n",
      "COMMENT:\n",
      "\"He touched your anus with his penis, faggot. Fuck Dog. Come try and collect a bounty on me, motherfucker. I got a 12 gauge full of 00 buck for ya, \"\"bruh\"\". Couldn't make you any uglier to get shot in the face a few times, would it you loser fuck?\"\n",
      "SCORES: Actual: 0.00, Predicted: 1.00, Residual: -1.00\n",
      "\n",
      "\n",
      "COMMENT:\n",
      "ASSHOLE EdJohnston, FUCK YOU!!! EdJohnston IS a mother fucker!!!\n",
      "SCORES: Actual: 0.00, Predicted: 0.99, Residual: -0.99\n",
      "\n",
      "\n",
      "COMMENT:\n",
      "Fucking piece of shit, he was vandalizing a bunch of articles, so fuck off, you little twerp.\n",
      "SCORES: Actual: 0.00, Predicted: 0.99, Residual: -0.99\n",
      "\n",
      "\n",
      "COMMENT:\n",
      "sex fucksex fucksex fucksex fucksex fucksex fucksex fucksex fucksex fucksex fucksex fucksex fucksex fucksex fucksex fucksex fucksex fucksex fucksex fucksex fucksex fucksex fucksex fucksex fucksex fucksex fucksex fucksex fucksex fucksex fucksex fucksex fucksex fucksex fucksex fucksex fucksex fucksex fucksex fucksex fucksex fucksex fucksex fucksex fucksex fucksex fucksex fucksex fucksex fucksex fucksex fucksex fucksex fucksex fucksex fucksex fucksex fucksex fucksex fucksex fucksex fucksex fucksex \n",
      "SCORES: Actual: 0.00, Predicted: 0.99, Residual: -0.99\n",
      "\n",
      "\n",
      "COMMENT:\n",
      " FOR FUCK'S SAKE KILL THE FUCKING SHITHEAD ALREADY!\n",
      "SCORES: Actual: 0.00, Predicted: 0.99, Residual: -0.99\n",
      "\n",
      "\n",
      "\n",
      "\n",
      "UNDER\n",
      "\n",
      "COMMENT:\n",
      "\" Beauty pageants Just because you have no interest in beauty pageants or their contestants doesn't mean that they are not notable - and please don't go trying to delete stuff when you are ignorant about the topic you are dealing with.  I happen to think there are tons of articles on here that do not meet Wikipedia's standards and that do not have individual merit... particularly those about comics etc, but I am wise enough to know that I do not truly understand their significance and so I l\n",
      "SCORES: Actual: 1.00, Predicted: 0.01, Residual: 0.99\n",
      "\n",
      "\n",
      "COMMENT:\n",
      "\":::Oooh, \"\"You're wrong! You're wrong! You're wrong!\"\".  Why am I not impressed by your 'debate skills'. First, until 3 weeks ago, I had never heard the term, \"\"meat puppet\"\".   Perhaps you're trying to make the term mean exactly what you want it to mean, no more and no less.  (Shades of Alice in Wonderland, I suppose.)  I will have to find the definition of that term.  But I view it as a problem when self-selected, biased individuals (even if there is no actual coordination involved) seem to \n",
      "SCORES: Actual: 1.00, Predicted: 0.01, Residual: 0.99\n",
      "\n",
      "\n",
      "COMMENT:\n",
      " ECHELON Respond to our comments noob. ECHELON\n",
      "SCORES: Actual: 1.00, Predicted: 0.01, Residual: 0.99\n",
      "\n",
      "\n",
      "COMMENT:\n",
      " FUCKASS  ople like him... Thanks. I hate people like him... Thanks. I hate people like him... Thanks. I hate people like him... Thanks. I hate people like him... Thanks. I hate people like him... Thanks. I hate people like him... Thanks. I hate people like him... Thanks. I hate people like him... Thanks. I hate people like him... Thanks. I hate people like him... Thanks. I hate people like him... Thanks. I hate people like him... Thanks. I hate people like him... Thanks. I hate people like him.\n",
      "SCORES: Actual: 1.00, Predicted: 0.01, Residual: 0.99\n",
      "\n",
      "\n",
      "COMMENT:\n",
      "\" I'm sorry Apologies for the personal attacks before.  I hadn't seen your picture yet.  Now I understand, this is all you have, the only place you can exert \"\"power\"\" over anyone.  I guess we all need that feeling sometimes, though your willingness to throw men and boys who are victims of misandry under the bus by censoring an article on the only movement out there that's trying to help them is rather sickening.  Ah well, what can you do.  If I looked like you, I'd probably hate the world t\n",
      "SCORES: Actual: 1.00, Predicted: 0.01, Residual: 0.99\n",
      "\n",
      "\n",
      "COMMENT:\n",
      " (UTC) Changlc and Jiang, always together?? Why are you two communist clowns so annoying??? 05:12, 20 May 2005\n",
      "SCORES: Actual: 1.00, Predicted: 0.01, Residual: 0.99\n",
      "\n",
      "\n",
      "COMMENT:\n",
      " RE: Removal of Templates I would be most grateful if you would rot in hell.\n",
      "SCORES: Actual: 1.00, Predicted: 0.01, Residual: 0.99\n",
      "\n",
      "\n",
      "COMMENT:\n",
      "You moron—I did no such thing. I reverted the addition of scare quotes to the article. And I'm about to do it again. —  Talk/Stalk \n",
      "SCORES: Actual: 1.00, Predicted: 0.01, Residual: 0.99\n",
      "\n",
      "\n",
      "COMMENT:\n",
      " Ignorant & Unhelpful i've made numerous valid statements on correcting the eye color page and yet you continuously ignore me and aim to prove me wrong because you seem too obtuse and self centered to even bother listening. I'm afraid i'm going to have to lodge a complaint to wikipedia about how unhelpful and oblivious you appear to be towards peoples pleads on talk pages when making valid statements of corrections.\n",
      "SCORES: Actual: 1.00, Predicted: 0.01, Residual: 0.99\n",
      "\n",
      "\n",
      "COMMENT:\n",
      " Hey, you freaking hermaphrodite. Please unprotect your user page; I would like to move it to a more suitable title or three.\n",
      "SCORES: Actual: 1.00, Predicted: 0.01, Residual: 0.99\n",
      "\n",
      "\n",
      "time: 64.3 ms\n"
     ]
    }
   ],
   "source": [
    "for i in classes:\n",
    "    print('\\n\\n\\nCLASS: ', i)\n",
    "    over, under = get_errors(X_test, y_test_oh[:, i], y_pred_ed[:, i])\n",
    "    print('\\n\\nOVER\\n')\n",
    "    print_errors(over, n=10)\n",
    "    print('\\n\\nUNDER\\n')\n",
    "    print_errors(under, n=10)"
   ]
  },
  {
   "cell_type": "markdown",
   "metadata": {},
   "source": [
    "### Learning Curves!\n",
    "How does adding more training data improve performance?"
   ]
  },
  {
   "cell_type": "code",
   "execution_count": 18,
   "metadata": {
    "collapsed": false
   },
   "outputs": [
    {
     "name": "stdout",
     "output_type": "stream",
     "text": [
      "time: 831 µs\n"
     ]
    }
   ],
   "source": [
    "#ms, metrics = eval_adding_other_data(optimal_pipeline, None, None, X_test, y_test, X_train, y_train, roc_scorer)\n",
    "#plot_adding_other_data(ms, metrics)"
   ]
  },
  {
   "cell_type": "markdown",
   "metadata": {},
   "source": [
    "### Model Understanding"
   ]
  },
  {
   "cell_type": "code",
   "execution_count": 19,
   "metadata": {
    "collapsed": false
   },
   "outputs": [
    {
     "name": "stdout",
     "output_type": "stream",
     "text": [
      "\n",
      "\n",
      "CLASS:  1\n",
      "STRONG POS: \n",
      "['ass.' ' kil' 'suck ' 'cum' 'bag' ' shi' 'itc' 'sh' ' cunt' 'u suc' 'kil'\n",
      " 'pid' 'u a' 'u fuc' 'gay' ' f' ' fag' 'get a' 'oro' 'uck ' 'dick' 'ur '\n",
      " 'ou fu' 'dumb' 'ose' 'cr' ' fuck' 'tup' 'u.' ' shit' 'are a' ' gay' 'upid'\n",
      " 'u fu' 'suck' 'your' 'stup' 'tupid' 'itch' ' fu' 'stupi' 'tupi' 'shi'\n",
      " '? g' 'ck ' 'tard' ' ur ' 'shut' 'hut' 'oser' 'f*' 'fag' 'dio' ' f*'\n",
      " 'oron' '*' 'k off' '!' 'moro' ' ur' 'fu' ' idio' ' fuc' 'you ' 'shit'\n",
      " 'e a ' 'ou ' 'idiot' 'idio' ' idi' ' moro' 'moron' 'ass' 'go ' 'uc'\n",
      " 'uck y' 'bitc' ' die' 'ck yo' ' bitc' 'die' 'bitch' ' ass' ' yo' 'ck y'\n",
      " ' you' ' ass ' 're a ' 'iot' 'idi' ' y' 'diot' 'fuck' 'ck' 'uck' 'fuc'\n",
      " 'u ' ' u ' 'yo' 'you']\n",
      "STRONG NEG: \n",
      "[' ' 'is a' '?' 'is a ' '\"' 'e' 's a ' 'm a' 'hank ' 's fuc' 's a f' 'they'\n",
      " ' he ' 'ank ' 'is ' 'am a' ' is a' 's fu' ')' 'they ' 'ank y' 'ur se'\n",
      " 'nk yo' 'n' 'ion' 's a' 'm a ' 've yo' 'gre' 'nk y' 'is' 'hank' 'gy'\n",
      " 'thank' 'g bit' 'on' ' they' 'it of' ':' 'is fu' 'k b' 'am a ' 'r u' '\"\\n'\n",
      " 'est' 'o' 'is an' 'op i' '4.2' 'y is' 'if y' '. ' 'all d' 'ove y' 'if '\n",
      " 'er u' ' am a' 'can y' 'if yo' 'grea' 'p it' 't m' ') ' 'great' ' grea'\n",
      " ' me a' 'tion' 'hing.' 's d' 'but i' 'd pu' 'his a' 'so' 'an f' 'one!'\n",
      " 'tio' 'j' 'js' 'top i' 's an' 'a' 'ore a' 'e pe' ' ?' 'so ' 'ng bi' 'g bi'\n",
      " 'uck t' 've y' 'ne!' 'a lit' ' at' 'r se' \"in' \" 'ere d' 'ock.' 'rec'\n",
      " '. i h' 'rod' 'p m']\n",
      "time: 85.7 ms\n"
     ]
    }
   ],
   "source": [
    "feature_names = np.array(model.named_steps['vect'].get_feature_names())\n",
    "for i in classes:\n",
    "    print('\\n\\nCLASS: ', i)\n",
    "    \n",
    "    try:\n",
    "        coef = model.named_steps['clf'].coef_[i].ravel()\n",
    "    except:\n",
    "        coef = model.named_steps['clf'].coef_.ravel()\n",
    "    most_pos_idx = np.argsort(coef)[-100:]\n",
    "    most_pos = feature_names[most_pos_idx]\n",
    "    print('STRONG POS: ')\n",
    "    print(most_pos)\n",
    "    most_neg_idx = np.argsort(coef)[:100]\n",
    "    most_neg = feature_names[most_neg_idx]\n",
    "    print('STRONG NEG: ')\n",
    "    print(most_neg)"
   ]
  },
  {
   "cell_type": "markdown",
   "metadata": {},
   "source": [
    "### Final Model"
   ]
  },
  {
   "cell_type": "code",
   "execution_count": 20,
   "metadata": {
    "collapsed": false
   },
   "outputs": [
    {
     "data": {
      "text/plain": [
       "['../../models/recipient_ngram.pkl',\n",
       " '../../models/recipient_ngram.pkl_01.npy',\n",
       " '../../models/recipient_ngram.pkl_02.npy',\n",
       " '../../models/recipient_ngram.pkl_03.npy',\n",
       " '../../models/recipient_ngram.pkl_04.npy',\n",
       " '../../models/recipient_ngram.pkl_05.npy',\n",
       " '../../models/recipient_ngram.pkl_06.npy']"
      ]
     },
     "execution_count": 20,
     "metadata": {},
     "output_type": "execute_result"
    },
    {
     "name": "stdout",
     "output_type": "stream",
     "text": [
      "time: 3min 19s\n"
     ]
    }
   ],
   "source": [
    "X, y = assemble_data(data, xtype, ytype)\n",
    "final_model = optimal_pipeline.fit(X, y)\n",
    "joblib.dump(final_model, '../../models/%s_ngram.pkl' % task)"
   ]
  }
 ],
 "metadata": {
  "kernelspec": {
   "display_name": "Python 3",
   "language": "python",
   "name": "python3"
  },
  "language_info": {
   "codemirror_mode": {
    "name": "ipython",
    "version": 3
   },
   "file_extension": ".py",
   "mimetype": "text/x-python",
   "name": "python",
   "nbconvert_exporter": "python",
   "pygments_lexer": "ipython3",
   "version": "3.5.1"
  }
 },
 "nbformat": 4,
 "nbformat_minor": 0
}
