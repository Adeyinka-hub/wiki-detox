{
 "cells": [
  {
   "cell_type": "code",
   "execution_count": 1,
   "metadata": {
    "collapsed": true
   },
   "outputs": [
    {
     "name": "stderr",
     "output_type": "stream",
     "text": [
      "/Users/ellerywulczyn/miniconda3/lib/python3.5/site-packages/sklearn/cross_validation.py:43: DeprecationWarning: This module was deprecated in version 0.18 in favor of the model_selection module into which all the refactored classes and functions are moved. Also note that the interface of the new CV iterators are different from that of this module. This module will be removed in 0.20.\n",
      "  \"This module will be removed in 0.20.\", DeprecationWarning)\n"
     ]
    }
   ],
   "source": [
    "import pandas as pd\n",
    "from sklearn.cross_validation import train_test_split"
   ]
  },
  {
   "cell_type": "code",
   "execution_count": 2,
   "metadata": {
    "collapsed": true
   },
   "outputs": [],
   "source": [
    "df = pd.read_csv('../../data/annotations/clean/annotations.tsv', sep='\\t')\n",
    "revisions = df[['rev_id']].drop_duplicates()\n",
    "train, test = train_test_split(revisions, random_state = 12, test_size = 0.2)\n",
    "train, dev =  train_test_split(train, random_state = 12, test_size = 0.25)"
   ]
  },
  {
   "cell_type": "code",
   "execution_count": 3,
   "metadata": {
    "collapsed": false
   },
   "outputs": [
    {
     "name": "stdout",
     "output_type": "stream",
     "text": [
      "(69441, 1)\n",
      "(23148, 1)\n",
      "(23148, 1)\n"
     ]
    }
   ],
   "source": [
    "print(train.shape)\n",
    "print(dev.shape)\n",
    "print(test.shape)"
   ]
  },
  {
   "cell_type": "code",
   "execution_count": 4,
   "metadata": {
    "collapsed": true
   },
   "outputs": [],
   "source": [
    "d_train = df.merge(train, how='inner', on = 'rev_id')\n",
    "d_train.to_csv('../../data/annotations/split/train/annotations.tsv', index=False, sep='\\t')\n",
    "\n",
    "d_dev = df.merge(dev, how='inner', on = 'rev_id')\n",
    "d_dev.to_csv('../../data/annotations/split/dev/annotations.tsv', index=False, sep='\\t')\n",
    "\n",
    "d_test = df.merge(test, how='inner', on = 'rev_id')\n",
    "d_test.to_csv('../../data/annotations/split/test/annotations.tsv', index=False, sep='\\t')"
   ]
  },
  {
   "cell_type": "code",
   "execution_count": 5,
   "metadata": {
    "collapsed": false
   },
   "outputs": [
    {
     "name": "stdout",
     "output_type": "stream",
     "text": [
      "(817733, 21)\n",
      "(273664, 21)\n",
      "(272338, 21)\n"
     ]
    }
   ],
   "source": [
    "print(d_train.shape)\n",
    "print(d_dev.shape)\n",
    "print(d_test.shape)"
   ]
  },
  {
   "cell_type": "code",
   "execution_count": 6,
   "metadata": {
    "collapsed": false
   },
   "outputs": [
    {
     "name": "stdout",
     "output_type": "stream",
     "text": [
      "(817733, 21)\n",
      "(273664, 21)\n",
      "(272338, 21)\n"
     ]
    }
   ],
   "source": [
    "# check numcols matched when you read in data\n",
    "print( pd.read_csv('../../data/annotations/split/train/annotations.tsv', sep='\\t').shape)\n",
    "print( pd.read_csv('../../data/annotations/split/dev/annotations.tsv', sep='\\t').shape)\n",
    "print( pd.read_csv('../../data/annotations/split/test/annotations.tsv', sep='\\t').shape)"
   ]
  },
  {
   "cell_type": "code",
   "execution_count": 7,
   "metadata": {
    "collapsed": false
   },
   "outputs": [
    {
     "name": "stdout",
     "output_type": "stream",
     "text": [
      "(0, 41)\n",
      "(0, 41)\n",
      "(0, 41)\n"
     ]
    }
   ],
   "source": [
    "# check that splits are distinct in terms of ids\n",
    "col = 'rev_id'\n",
    "print(d_train.merge(d_dev, how = 'inner', on = col).shape)\n",
    "print(d_train.merge(d_test, how = 'inner', on = col).shape)\n",
    "print(d_test.merge(d_dev, how = 'inner', on = col).shape)"
   ]
  },
  {
   "cell_type": "code",
   "execution_count": 8,
   "metadata": {
    "collapsed": false
   },
   "outputs": [
    {
     "name": "stdout",
     "output_type": "stream",
     "text": [
      "(0, 41)\n",
      "(0, 41)\n",
      "(0, 41)\n"
     ]
    }
   ],
   "source": [
    "# check that splits are distinct in terms of text\n",
    "col = 'clean_diff'\n",
    "print(d_train.merge(d_dev, how = 'inner', on = col).shape)\n",
    "print(d_train.merge(d_test, how = 'inner', on = col).shape)\n",
    "print(d_test.merge(d_dev, how = 'inner', on = col).shape)"
   ]
  }
 ],
 "metadata": {
  "kernelspec": {
   "display_name": "Python 3",
   "language": "python",
   "name": "python3"
  },
  "language_info": {
   "codemirror_mode": {
    "name": "ipython",
    "version": 3
   },
   "file_extension": ".py",
   "mimetype": "text/x-python",
   "name": "python",
   "nbconvert_exporter": "python",
   "pygments_lexer": "ipython3",
   "version": "3.5.1"
  }
 },
 "nbformat": 4,
 "nbformat_minor": 0
}