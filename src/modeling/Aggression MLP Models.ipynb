{
 "cells": [
  {
   "cell_type": "code",
   "execution_count": 1,
   "metadata": {
    "collapsed": false
   },
   "outputs": [
    {
     "name": "stderr",
     "output_type": "stream",
     "text": [
      "Using TensorFlow backend.\n"
     ]
    }
   ],
   "source": [
    "%load_ext autoreload\n",
    "%autoreload 2\n",
    "%matplotlib inline\n",
    "%load_ext autotime\n",
    "\n",
    "from ngram import *\n",
    "from baselines import *\n",
    "from error_analysis import *\n",
    "from deep_learning import *\n",
    "pd.options.mode.chained_assignment = None"
   ]
  },
  {
   "cell_type": "markdown",
   "metadata": {},
   "source": [
    "### Load Annotated Data"
   ]
  },
  {
   "cell_type": "code",
   "execution_count": 2,
   "metadata": {
    "collapsed": false
   },
   "outputs": [
    {
     "name": "stdout",
     "output_type": "stream",
     "text": [
      "time: 2.51 ms\n"
     ]
    }
   ],
   "source": [
    "task = 'aggression'\n",
    "xtype = 'ngams'\n",
    "ytype = 'empirical_dist'\n",
    "n_classes = 3"
   ]
  },
  {
   "cell_type": "code",
   "execution_count": 3,
   "metadata": {
    "collapsed": false
   },
   "outputs": [
    {
     "name": "stdout",
     "output_type": "stream",
     "text": [
      "time: 1min 51s\n"
     ]
    }
   ],
   "source": [
    "data = load_comments_and_labels(task)"
   ]
  },
  {
   "cell_type": "markdown",
   "metadata": {},
   "source": [
    "### NGram Preprocessing"
   ]
  },
  {
   "cell_type": "code",
   "execution_count": 4,
   "metadata": {
    "collapsed": false
   },
   "outputs": [
    {
     "name": "stdout",
     "output_type": "stream",
     "text": [
      "time: 4min 53s\n"
     ]
    }
   ],
   "source": [
    "feature_pipeline =  Pipeline([\n",
    "    ('vect', CountVectorizer(ngram_range = (1,5), analyzer = 'char', max_features = 10000)),\n",
    "    ('tfidf', TfidfTransformer(sublinear_tf=True,norm='l2')),\n",
    "    ('to_dense', DenseTransformer()), \n",
    "])\n",
    "\n",
    "X_comments, _ = assemble_data(data, 'comments', ytype, splits = ['train'])\n",
    "preprocessor = feature_pipeline.fit(X_comments)\n",
    "data = apply_transform(data, 'comments', preprocessor, xtype)\n",
    "\n",
    "X_train, y_train = assemble_data(data, xtype, ytype, splits = ['train'])\n",
    "X_test, y_test = assemble_data(data, xtype, 'empirical_dist', splits = ['test'])"
   ]
  },
  {
   "cell_type": "markdown",
   "metadata": {},
   "source": [
    "### Define Model"
   ]
  },
  {
   "cell_type": "code",
   "execution_count": 5,
   "metadata": {
    "collapsed": false
   },
   "outputs": [
    {
     "name": "stdout",
     "output_type": "stream",
     "text": [
      "time: 18.8 ms\n"
     ]
    }
   ],
   "source": [
    "clf =  KerasClassifier(build_fn=make_MLP, output_dim = n_classes, input_dim = 10000)"
   ]
  },
  {
   "cell_type": "markdown",
   "metadata": {
    "collapsed": true
   },
   "source": [
    "### Deep EDP Hyper-Parameter tuning"
   ]
  },
  {
   "cell_type": "code",
   "execution_count": 6,
   "metadata": {
    "collapsed": false
   },
   "outputs": [
    {
     "name": "stdout",
     "output_type": "stream",
     "text": [
      "Epoch 1/1\n",
      "48643/48643 [==============================] - 25s - loss: 0.2579 - acc: 0.8583    \n",
      "20847/20847 [==============================] - 5s     \n",
      "Epoch 1/1\n",
      "48643/48643 [==============================] - 26s - loss: 0.2686 - acc: 0.8623    \n",
      "20847/20847 [==============================] - 5s     \n",
      "Epoch 1/1\n",
      "48643/48643 [==============================] - 26s - loss: 0.2836 - acc: 0.8658    \n",
      "20847/20847 [==============================] - 5s     \n",
      "Epoch 1/1\n",
      "48643/48643 [==============================] - 26s - loss: 0.4211 - acc: 0.8287    \n",
      "20847/20847 [==============================] - 5s     \n",
      "\n",
      "Best parameters set found:\n",
      "{'l': 0.0001, 'nb_epoch': 1, 'layers': [50, 10], 'batch_size': 100} 0.925473535697\n",
      "\n",
      "\n",
      "Grid scores:\n",
      "0.92404 (+/-0.00000) for {'l': 0, 'nb_epoch': 1, 'layers': [50, 10], 'batch_size': 100}\n",
      "0.92481 (+/-0.00000) for {'l': 1e-05, 'nb_epoch': 1, 'layers': [50, 10], 'batch_size': 100}\n",
      "0.92547 (+/-0.00000) for {'l': 0.0001, 'nb_epoch': 1, 'layers': [50, 10], 'batch_size': 100}\n",
      "0.83502 (+/-0.00000) for {'l': 0.001, 'nb_epoch': 1, 'layers': [50, 10], 'batch_size': 100}\n",
      "time: 3min 2s\n"
     ]
    }
   ],
   "source": [
    "# Deep EDP\n",
    "\n",
    "param_grid = {\n",
    "    'l': (0, 0.00001, 0.0001, 0.001),\n",
    "    'nb_epoch' : (1,),\n",
    "    'batch_size': (100,),\n",
    "    'layers': ([50, 10],),\n",
    "}\n",
    "\n",
    "tune (X_train, y_train, clf, param_grid, roc_scorer, n_jobs=1, verbose=True)"
   ]
  },
  {
   "cell_type": "markdown",
   "metadata": {},
   "source": [
    "Seems, like we don't need to regularize at one epoch. Lets try more epochs."
   ]
  },
  {
   "cell_type": "code",
   "execution_count": 7,
   "metadata": {
    "collapsed": false
   },
   "outputs": [
    {
     "name": "stdout",
     "output_type": "stream",
     "text": [
      "Epoch 1/2\n",
      "48643/48643 [==============================] - 28s - loss: 0.2468 - acc: 0.8689    \n",
      "Epoch 2/2\n",
      "48643/48643 [==============================] - 22s - loss: 0.1464 - acc: 0.9027    \n",
      "20847/20847 [==============================] - 5s     \n",
      "Epoch 1/2\n",
      "48643/48643 [==============================] - 26s - loss: 0.2618 - acc: 0.8654    \n",
      "Epoch 2/2\n",
      "48643/48643 [==============================] - 20s - loss: 0.1584 - acc: 0.9009    \n",
      "20847/20847 [==============================] - 5s     \n",
      "Epoch 1/2\n",
      "48643/48643 [==============================] - 26s - loss: 0.2953 - acc: 0.8533    \n",
      "Epoch 2/2\n",
      "48643/48643 [==============================] - 20s - loss: 0.1804 - acc: 0.8997    \n",
      "20847/20847 [==============================] - 6s     \n",
      "Epoch 1/2\n",
      "48643/48643 [==============================] - 26s - loss: 0.4305 - acc: 0.8275    \n",
      "Epoch 2/2\n",
      "48643/48643 [==============================] - 20s - loss: 0.2835 - acc: 0.8499    \n",
      "20847/20847 [==============================] - 6s     \n",
      "\n",
      "Best parameters set found:\n",
      "{'l': 0, 'nb_epoch': 2, 'layers': [50, 10], 'batch_size': 100} 0.93649300955\n",
      "\n",
      "\n",
      "Grid scores:\n",
      "0.93649 (+/-0.00000) for {'l': 0, 'nb_epoch': 2, 'layers': [50, 10], 'batch_size': 100}\n",
      "0.93530 (+/-0.00000) for {'l': 1e-05, 'nb_epoch': 2, 'layers': [50, 10], 'batch_size': 100}\n",
      "0.92558 (+/-0.00000) for {'l': 0.0001, 'nb_epoch': 2, 'layers': [50, 10], 'batch_size': 100}\n",
      "0.84491 (+/-0.00000) for {'l': 0.001, 'nb_epoch': 2, 'layers': [50, 10], 'batch_size': 100}\n",
      "time: 4min 33s\n"
     ]
    }
   ],
   "source": [
    "# Deep EDP\n",
    "param_grid = {\n",
    "    'l': (0, 0.00001, 0.0001, 0.001),\n",
    "    'nb_epoch' : (2,),\n",
    "    'batch_size': (100,),\n",
    "    'layers': ([50, 10],),\n",
    "}\n",
    "\n",
    "tune (X_train, y_train, clf, param_grid, roc_scorer, n_jobs=1, verbose=True)"
   ]
  },
  {
   "cell_type": "markdown",
   "metadata": {},
   "source": [
    "Same pattern. Results improved for lower reg. Lets try more epochs."
   ]
  },
  {
   "cell_type": "code",
   "execution_count": 8,
   "metadata": {
    "collapsed": false
   },
   "outputs": [
    {
     "name": "stdout",
     "output_type": "stream",
     "text": [
      "Epoch 1/4\n",
      "48643/48643 [==============================] - 26s - loss: 0.2537 - acc: 0.8642    \n",
      "Epoch 2/4\n",
      "48643/48643 [==============================] - 21s - loss: 0.1464 - acc: 0.9038    \n",
      "Epoch 3/4\n",
      "48643/48643 [==============================] - 21s - loss: 0.1359 - acc: 0.9097    \n",
      "Epoch 4/4\n",
      "48643/48643 [==============================] - 20s - loss: 0.1294 - acc: 0.9138    \n",
      "20847/20847 [==============================] - 6s     \n",
      "Epoch 1/4\n",
      "48643/48643 [==============================] - 26s - loss: 0.2507 - acc: 0.8668    \n",
      "Epoch 2/4\n",
      "48643/48643 [==============================] - 21s - loss: 0.1546 - acc: 0.9021    \n",
      "Epoch 3/4\n",
      "48643/48643 [==============================] - 21s - loss: 0.1460 - acc: 0.9081    \n",
      "Epoch 4/4\n",
      "48643/48643 [==============================] - 22s - loss: 0.1410 - acc: 0.9120    \n",
      "20847/20847 [==============================] - 6s     \n",
      "Epoch 1/4\n",
      "48643/48643 [==============================] - 26s - loss: 0.2823 - acc: 0.8681    \n",
      "Epoch 2/4\n",
      "48643/48643 [==============================] - 20s - loss: 0.1789 - acc: 0.8993    \n",
      "Epoch 3/4\n",
      "48643/48643 [==============================] - 21s - loss: 0.1688 - acc: 0.9027    \n",
      "Epoch 4/4\n",
      "48643/48643 [==============================] - 20s - loss: 0.1642 - acc: 0.9055    \n",
      "20847/20847 [==============================] - 6s     \n",
      "Epoch 1/4\n",
      "48643/48643 [==============================] - 27s - loss: 0.4072 - acc: 0.8393    \n",
      "Epoch 2/4\n",
      "48643/48643 [==============================] - 21s - loss: 0.2404 - acc: 0.8855    \n",
      "Epoch 3/4\n",
      "48643/48643 [==============================] - 21s - loss: 0.2266 - acc: 0.8887    \n",
      "Epoch 4/4\n",
      "48643/48643 [==============================] - 22s - loss: 0.2207 - acc: 0.8910    \n",
      "20847/20847 [==============================] - 6s     \n",
      "\n",
      "Best parameters set found:\n",
      "{'l': 1e-05, 'nb_epoch': 4, 'layers': [50, 10], 'batch_size': 100} 0.935681883141\n",
      "\n",
      "\n",
      "Grid scores:\n",
      "0.93504 (+/-0.00000) for {'l': 0, 'nb_epoch': 4, 'layers': [50, 10], 'batch_size': 100}\n",
      "0.93568 (+/-0.00000) for {'l': 1e-05, 'nb_epoch': 4, 'layers': [50, 10], 'batch_size': 100}\n",
      "0.92888 (+/-0.00000) for {'l': 0.0001, 'nb_epoch': 4, 'layers': [50, 10], 'batch_size': 100}\n",
      "0.91448 (+/-0.00000) for {'l': 0.001, 'nb_epoch': 4, 'layers': [50, 10], 'batch_size': 100}\n",
      "time: 7min 35s\n"
     ]
    }
   ],
   "source": [
    "# Deep EDP\n",
    "param_grid = {\n",
    "    'l': (0, 0.00001, 0.0001, 0.001),\n",
    "    'nb_epoch' : (4,),\n",
    "    'batch_size': (100,),\n",
    "    'layers': ([50, 10],),\n",
    "}\n",
    "\n",
    "tune (X_train, y_train, clf, param_grid, roc_scorer, n_jobs=1, verbose=True)"
   ]
  },
  {
   "cell_type": "markdown",
   "metadata": {},
   "source": [
    "Same pattern still, although performance has plateaued."
   ]
  },
  {
   "cell_type": "markdown",
   "metadata": {},
   "source": [
    "Right now, 4 epochs and no regularization is best. Lets add more layers."
   ]
  },
  {
   "cell_type": "code",
   "execution_count": 9,
   "metadata": {
    "collapsed": false
   },
   "outputs": [
    {
     "name": "stdout",
     "output_type": "stream",
     "text": [
      "Epoch 1/2\n",
      "48643/48643 [==============================] - 27s - loss: 0.2725 - acc: 0.8624    \n",
      "Epoch 2/2\n",
      "48643/48643 [==============================] - 22s - loss: 0.1474 - acc: 0.9051    \n",
      "20847/20847 [==============================] - 6s     \n",
      "\n",
      "Best parameters set found:\n",
      "{'l': 1e-06, 'nb_epoch': 2, 'layers': [50, 50, 10], 'batch_size': 100} 0.935280894983\n",
      "\n",
      "\n",
      "Grid scores:\n",
      "0.93528 (+/-0.00000) for {'l': 1e-06, 'nb_epoch': 2, 'layers': [50, 50, 10], 'batch_size': 100}\n",
      "time: 1min 16s\n"
     ]
    }
   ],
   "source": [
    "# Deep EDP\n",
    "param_grid = {\n",
    "    'l': (0.000001,),\n",
    "    'nb_epoch' : (2,),\n",
    "    'batch_size': (100,),\n",
    "    'layers': ([50, 50, 10],),\n",
    "}\n",
    "\n",
    "tune (X_train, y_train, clf, param_grid, roc_scorer, n_jobs=1, verbose=True)"
   ]
  },
  {
   "cell_type": "markdown",
   "metadata": {},
   "source": [
    "Adding more layers did not help."
   ]
  },
  {
   "cell_type": "markdown",
   "metadata": {},
   "source": [
    "### Linear EDP Tuning"
   ]
  },
  {
   "cell_type": "code",
   "execution_count": 10,
   "metadata": {
    "collapsed": false
   },
   "outputs": [
    {
     "name": "stdout",
     "output_type": "stream",
     "text": [
      "Epoch 1/1\n",
      "48643/48643 [==============================] - 14s - loss: 0.2867 - acc: 0.8482    \n",
      "20847/20847 [==============================] - 5s     \n",
      "Epoch 1/2\n",
      "48643/48643 [==============================] - 14s - loss: 0.2857 - acc: 0.8512    \n",
      "Epoch 2/2\n",
      "48643/48643 [==============================] - 9s - loss: 0.1975 - acc: 0.8801     \n",
      "20847/20847 [==============================] - 5s     \n",
      "Epoch 1/4\n",
      "48643/48643 [==============================] - 14s - loss: 0.2873 - acc: 0.8498    \n",
      "Epoch 2/4\n",
      "48643/48643 [==============================] - 9s - loss: 0.1975 - acc: 0.8802     \n",
      "Epoch 3/4\n",
      "48643/48643 [==============================] - 8s - loss: 0.1739 - acc: 0.8877     \n",
      "Epoch 4/4\n",
      "48643/48643 [==============================] - 10s - loss: 0.1632 - acc: 0.8922    \n",
      "20847/20847 [==============================] - 4s     \n",
      "Epoch 1/8\n",
      "48643/48643 [==============================] - 14s - loss: 0.2868 - acc: 0.8487    \n",
      "Epoch 2/8\n",
      "48643/48643 [==============================] - 9s - loss: 0.1970 - acc: 0.8786     \n",
      "Epoch 3/8\n",
      "48643/48643 [==============================] - 8s - loss: 0.1737 - acc: 0.8875     \n",
      "Epoch 4/8\n",
      "48643/48643 [==============================] - 8s - loss: 0.1630 - acc: 0.8916     \n",
      "Epoch 5/8\n",
      "48643/48643 [==============================] - 8s - loss: 0.1567 - acc: 0.8951     \n",
      "Epoch 6/8\n",
      "48643/48643 [==============================] - 8s - loss: 0.1522 - acc: 0.8970     \n",
      "Epoch 7/8\n",
      "48643/48643 [==============================] - 8s - loss: 0.1489 - acc: 0.8992     \n",
      "Epoch 8/8\n",
      "48643/48643 [==============================] - 8s - loss: 0.1463 - acc: 0.9010     \n",
      "20847/20847 [==============================] - 5s     \n",
      "Epoch 1/16\n",
      "48643/48643 [==============================] - 14s - loss: 0.2884 - acc: 0.8488    \n",
      "Epoch 2/16\n",
      "48643/48643 [==============================] - 9s - loss: 0.1980 - acc: 0.8800     \n",
      "Epoch 3/16\n",
      "48643/48643 [==============================] - 9s - loss: 0.1743 - acc: 0.8884     \n",
      "Epoch 4/16\n",
      "48643/48643 [==============================] - 9s - loss: 0.1634 - acc: 0.8923     \n",
      "Epoch 5/16\n",
      "48643/48643 [==============================] - 9s - loss: 0.1569 - acc: 0.8957     \n",
      "Epoch 6/16\n",
      "48643/48643 [==============================] - 9s - loss: 0.1525 - acc: 0.8980     \n",
      "Epoch 7/16\n",
      "48643/48643 [==============================] - 9s - loss: 0.1492 - acc: 0.9001     \n",
      "Epoch 8/16\n",
      "48643/48643 [==============================] - 9s - loss: 0.1465 - acc: 0.9015     \n",
      "Epoch 9/16\n",
      "48643/48643 [==============================] - 9s - loss: 0.1444 - acc: 0.9031     \n",
      "Epoch 10/16\n",
      "48643/48643 [==============================] - 9s - loss: 0.1426 - acc: 0.9044     \n",
      "Epoch 11/16\n",
      "48643/48643 [==============================] - 9s - loss: 0.1411 - acc: 0.9056     \n",
      "Epoch 12/16\n",
      "48643/48643 [==============================] - 9s - loss: 0.1398 - acc: 0.9062     \n",
      "Epoch 13/16\n",
      "48643/48643 [==============================] - 8s - loss: 0.1387 - acc: 0.9072     \n",
      "Epoch 14/16\n",
      "48643/48643 [==============================] - 8s - loss: 0.1376 - acc: 0.9074     \n",
      "Epoch 15/16\n",
      "48643/48643 [==============================] - 9s - loss: 0.1367 - acc: 0.9081     \n",
      "Epoch 16/16\n",
      "48643/48643 [==============================] - 9s - loss: 0.1359 - acc: 0.9087     \n",
      "20847/20847 [==============================] - 7s     \n",
      "\n",
      "Best parameters set found:\n",
      "{'l': 0, 'nb_epoch': 8, 'layers': [], 'batch_size': 100} 0.934556423816\n",
      "\n",
      "\n",
      "Grid scores:\n",
      "0.88153 (+/-0.00000) for {'l': 0, 'nb_epoch': 1, 'layers': [], 'batch_size': 100}\n",
      "0.91003 (+/-0.00000) for {'l': 0, 'nb_epoch': 2, 'layers': [], 'batch_size': 100}\n",
      "0.92683 (+/-0.00000) for {'l': 0, 'nb_epoch': 4, 'layers': [], 'batch_size': 100}\n",
      "0.93456 (+/-0.00000) for {'l': 0, 'nb_epoch': 8, 'layers': [], 'batch_size': 100}\n",
      "0.93063 (+/-0.00000) for {'l': 0, 'nb_epoch': 16, 'layers': [], 'batch_size': 100}\n",
      "time: 6min 51s\n"
     ]
    }
   ],
   "source": [
    "# Linear EDP\n",
    "param_grid = {\n",
    "    'l': (0,),\n",
    "    'nb_epoch' : (1,2,4,8,16),\n",
    "    'batch_size': (100,),\n",
    "    'layers': ([],),\n",
    "}\n",
    "\n",
    "tune (X_train, y_train, clf, param_grid, roc_scorer, n_jobs=1, verbose=True)"
   ]
  },
  {
   "cell_type": "markdown",
   "metadata": {},
   "source": [
    "We won't bother regularizing. Lets just tune epochs. Seems to max out at 8."
   ]
  },
  {
   "cell_type": "markdown",
   "metadata": {},
   "source": [
    "### Linear OH Tuning"
   ]
  },
  {
   "cell_type": "code",
   "execution_count": 11,
   "metadata": {
    "collapsed": false
   },
   "outputs": [
    {
     "name": "stdout",
     "output_type": "stream",
     "text": [
      "Epoch 1/1\n",
      "48643/48643 [==============================] - 17s - loss: 0.4830 - acc: 0.8462    \n",
      "20847/20847 [==============================] - 6s     \n",
      "Epoch 1/2\n",
      "48643/48643 [==============================] - 16s - loss: 0.4835 - acc: 0.8457    \n",
      "Epoch 2/2\n",
      "48643/48643 [==============================] - 10s - loss: 0.3586 - acc: 0.8765    \n",
      "20847/20847 [==============================] - 5s     \n",
      "Epoch 1/4\n",
      "48643/48643 [==============================] - 15s - loss: 0.4822 - acc: 0.8489    \n",
      "Epoch 2/4\n",
      "48643/48643 [==============================] - 10s - loss: 0.3578 - acc: 0.8776    \n",
      "Epoch 3/4\n",
      "48643/48643 [==============================] - 10s - loss: 0.3190 - acc: 0.8872    \n",
      "Epoch 4/4\n",
      "48643/48643 [==============================] - 10s - loss: 0.2967 - acc: 0.8921    \n",
      "20847/20847 [==============================] - 5s     \n",
      "Epoch 1/8\n",
      "48643/48643 [==============================] - 16s - loss: 0.4867 - acc: 0.8440    \n",
      "Epoch 2/8\n",
      "48643/48643 [==============================] - 12s - loss: 0.3612 - acc: 0.8762    \n",
      "Epoch 3/8\n",
      "48643/48643 [==============================] - 11s - loss: 0.3221 - acc: 0.8858    \n",
      "Epoch 4/8\n",
      "48643/48643 [==============================] - 11s - loss: 0.2996 - acc: 0.8914    \n",
      "Epoch 5/8\n",
      "48643/48643 [==============================] - 12s - loss: 0.2845 - acc: 0.8947    \n",
      "Epoch 6/8\n",
      "48643/48643 [==============================] - 10s - loss: 0.2733 - acc: 0.8977    \n",
      "Epoch 7/8\n",
      "48643/48643 [==============================] - 9s - loss: 0.2643 - acc: 0.8998     \n",
      "Epoch 8/8\n",
      "48643/48643 [==============================] - 9s - loss: 0.2569 - acc: 0.9024     \n",
      "20847/20847 [==============================] - 6s     \n",
      "Epoch 1/16\n",
      "48643/48643 [==============================] - 15s - loss: 0.4859 - acc: 0.8459    \n",
      "Epoch 2/16\n",
      "48643/48643 [==============================] - 9s - loss: 0.3610 - acc: 0.8765     \n",
      "Epoch 3/16\n",
      "48643/48643 [==============================] - 10s - loss: 0.3217 - acc: 0.8864    \n",
      "Epoch 4/16\n",
      "48643/48643 [==============================] - 12s - loss: 0.2990 - acc: 0.8915    \n",
      "Epoch 5/16\n",
      "48643/48643 [==============================] - 10s - loss: 0.2837 - acc: 0.8952    \n",
      "Epoch 6/16\n",
      "48643/48643 [==============================] - 10s - loss: 0.2722 - acc: 0.8984    \n",
      "Epoch 7/16\n",
      "48643/48643 [==============================] - 10s - loss: 0.2631 - acc: 0.9009    \n",
      "Epoch 8/16\n",
      "48643/48643 [==============================] - 10s - loss: 0.2556 - acc: 0.9036    \n",
      "Epoch 9/16\n",
      "48643/48643 [==============================] - 10s - loss: 0.2493 - acc: 0.9059    \n",
      "Epoch 10/16\n",
      "48643/48643 [==============================] - 9s - loss: 0.2440 - acc: 0.9073     \n",
      "Epoch 11/16\n",
      "48643/48643 [==============================] - 13s - loss: 0.2393 - acc: 0.9087    \n",
      "Epoch 12/16\n",
      "48643/48643 [==============================] - 10s - loss: 0.2351 - acc: 0.9102    \n",
      "Epoch 13/16\n",
      "48643/48643 [==============================] - 10s - loss: 0.2313 - acc: 0.9113    \n",
      "Epoch 14/16\n",
      "48643/48643 [==============================] - 12s - loss: 0.2280 - acc: 0.9123    \n",
      "Epoch 15/16\n",
      "48643/48643 [==============================] - 10s - loss: 0.2249 - acc: 0.9135    \n",
      "Epoch 16/16\n",
      "48643/48643 [==============================] - 10s - loss: 0.2222 - acc: 0.9142    \n",
      "20847/20847 [==============================] - 7s     \n",
      "\n",
      "Best parameters set found:\n",
      "{'l': 0, 'nb_epoch': 16, 'layers': [], 'batch_size': 100} 0.927352761234\n",
      "\n",
      "\n",
      "Grid scores:\n",
      "0.79103 (+/-0.00000) for {'l': 0, 'nb_epoch': 1, 'layers': [], 'batch_size': 100}\n",
      "0.85278 (+/-0.00000) for {'l': 0, 'nb_epoch': 2, 'layers': [], 'batch_size': 100}\n",
      "0.89303 (+/-0.00000) for {'l': 0, 'nb_epoch': 4, 'layers': [], 'batch_size': 100}\n",
      "0.92088 (+/-0.00000) for {'l': 0, 'nb_epoch': 8, 'layers': [], 'batch_size': 100}\n",
      "0.92735 (+/-0.00000) for {'l': 0, 'nb_epoch': 16, 'layers': [], 'batch_size': 100}\n",
      "time: 8min 1s\n"
     ]
    }
   ],
   "source": [
    "# Linear OH\n",
    "param_grid = {\n",
    "    'l': (0,),\n",
    "    'nb_epoch' : (1,2,4,8,16),\n",
    "    'batch_size': (100,),\n",
    "    'layers': ([],),\n",
    "}\n",
    "\n",
    "tune (X_train, one_hot(y_train), clf, param_grid, roc_scorer, n_jobs=1, verbose=True)"
   ]
  },
  {
   "cell_type": "markdown",
   "metadata": {},
   "source": [
    "Lets try more epochs."
   ]
  },
  {
   "cell_type": "code",
   "execution_count": 12,
   "metadata": {
    "collapsed": false
   },
   "outputs": [
    {
     "name": "stdout",
     "output_type": "stream",
     "text": [
      "Epoch 1/24\n",
      "48643/48643 [==============================] - 14s - loss: 0.4884 - acc: 0.8438    \n",
      "Epoch 2/24\n",
      "48643/48643 [==============================] - 9s - loss: 0.3622 - acc: 0.8756     \n",
      "Epoch 3/24\n",
      "48643/48643 [==============================] - 9s - loss: 0.3223 - acc: 0.8858     \n",
      "Epoch 4/24\n",
      "48643/48643 [==============================] - 10s - loss: 0.2996 - acc: 0.8919    \n",
      "Epoch 5/24\n",
      "48643/48643 [==============================] - 9s - loss: 0.2845 - acc: 0.8956     \n",
      "Epoch 6/24\n",
      "48643/48643 [==============================] - 10s - loss: 0.2731 - acc: 0.8989    \n",
      "Epoch 7/24\n",
      "48643/48643 [==============================] - 10s - loss: 0.2641 - acc: 0.9014    \n",
      "Epoch 8/24\n",
      "48643/48643 [==============================] - 9s - loss: 0.2568 - acc: 0.9034     \n",
      "Epoch 9/24\n",
      "48643/48643 [==============================] - 9s - loss: 0.2505 - acc: 0.9057     \n",
      "Epoch 10/24\n",
      "48643/48643 [==============================] - 9s - loss: 0.2452 - acc: 0.9067     \n",
      "Epoch 11/24\n",
      "48643/48643 [==============================] - 9s - loss: 0.2406 - acc: 0.9088     \n",
      "Epoch 12/24\n",
      "48643/48643 [==============================] - 9s - loss: 0.2363 - acc: 0.9098     \n",
      "Epoch 13/24\n",
      "48643/48643 [==============================] - 12s - loss: 0.2326 - acc: 0.9110    \n",
      "Epoch 14/24\n",
      "48643/48643 [==============================] - 11s - loss: 0.2293 - acc: 0.9115    \n",
      "Epoch 15/24\n",
      "48643/48643 [==============================] - 11s - loss: 0.2262 - acc: 0.9129    \n",
      "Epoch 16/24\n",
      "48643/48643 [==============================] - 13s - loss: 0.2234 - acc: 0.9140    \n",
      "Epoch 17/24\n",
      "48643/48643 [==============================] - 12s - loss: 0.2208 - acc: 0.9147    \n",
      "Epoch 18/24\n",
      "48643/48643 [==============================] - 10s - loss: 0.2185 - acc: 0.9155    \n",
      "Epoch 19/24\n",
      "48643/48643 [==============================] - 9s - loss: 0.2163 - acc: 0.9163     \n",
      "Epoch 20/24\n",
      "48643/48643 [==============================] - 12s - loss: 0.2142 - acc: 0.9173    \n",
      "Epoch 21/24\n",
      "48643/48643 [==============================] - 10s - loss: 0.2122 - acc: 0.9180    \n",
      "Epoch 22/24\n",
      "48643/48643 [==============================] - 10s - loss: 0.2104 - acc: 0.9186    \n",
      "Epoch 23/24\n",
      "48643/48643 [==============================] - 9s - loss: 0.2086 - acc: 0.9193     \n",
      "Epoch 24/24\n",
      "48643/48643 [==============================] - 10s - loss: 0.2069 - acc: 0.9199    \n",
      "20847/20847 [==============================] - 7s     \n",
      "Epoch 1/32\n",
      "48643/48643 [==============================] - 15s - loss: 0.4861 - acc: 0.8465    \n",
      "Epoch 2/32\n",
      "48643/48643 [==============================] - 9s - loss: 0.3594 - acc: 0.8765     \n",
      "Epoch 3/32\n",
      "48643/48643 [==============================] - 9s - loss: 0.3204 - acc: 0.8865     \n",
      "Epoch 4/32\n",
      "48643/48643 [==============================] - 9s - loss: 0.2980 - acc: 0.8924     \n",
      "Epoch 5/32\n",
      "48643/48643 [==============================] - 9s - loss: 0.2828 - acc: 0.8961     \n",
      "Epoch 6/32\n",
      "48643/48643 [==============================] - 10s - loss: 0.2715 - acc: 0.8986    \n",
      "Epoch 7/32\n",
      "48643/48643 [==============================] - 9s - loss: 0.2625 - acc: 0.9012     \n",
      "Epoch 8/32\n",
      "48643/48643 [==============================] - 10s - loss: 0.2551 - acc: 0.9037    \n",
      "Epoch 9/32\n",
      "48643/48643 [==============================] - 9s - loss: 0.2489 - acc: 0.9059     \n",
      "Epoch 10/32\n",
      "48643/48643 [==============================] - 11s - loss: 0.2435 - acc: 0.9073    \n",
      "Epoch 11/32\n",
      "48643/48643 [==============================] - 10s - loss: 0.2388 - acc: 0.9086    \n",
      "Epoch 12/32\n",
      "48643/48643 [==============================] - 9s - loss: 0.2346 - acc: 0.9100     \n",
      "Epoch 13/32\n",
      "48643/48643 [==============================] - 9s - loss: 0.2309 - acc: 0.9116     \n",
      "Epoch 14/32\n",
      "48643/48643 [==============================] - 9s - loss: 0.2275 - acc: 0.9127     \n",
      "Epoch 15/32\n",
      "48643/48643 [==============================] - 9s - loss: 0.2244 - acc: 0.9140     \n",
      "Epoch 16/32\n",
      "48643/48643 [==============================] - 9s - loss: 0.2216 - acc: 0.9148     \n",
      "Epoch 17/32\n",
      "48643/48643 [==============================] - 9s - loss: 0.2190 - acc: 0.9159     \n",
      "Epoch 18/32\n",
      "48643/48643 [==============================] - 9s - loss: 0.2166 - acc: 0.9167     \n",
      "Epoch 19/32\n",
      "48643/48643 [==============================] - 10s - loss: 0.2144 - acc: 0.9178    \n",
      "Epoch 20/32\n",
      "48643/48643 [==============================] - 9s - loss: 0.2122 - acc: 0.9178     \n",
      "Epoch 21/32\n",
      "48643/48643 [==============================] - 9s - loss: 0.2102 - acc: 0.9188     \n",
      "Epoch 22/32\n",
      "48643/48643 [==============================] - 9s - loss: 0.2083 - acc: 0.9198     \n",
      "Epoch 23/32\n",
      "48643/48643 [==============================] - 9s - loss: 0.2066 - acc: 0.9205     \n",
      "Epoch 24/32\n",
      "48643/48643 [==============================] - 9s - loss: 0.2049 - acc: 0.9207     \n",
      "Epoch 25/32\n",
      "48643/48643 [==============================] - 9s - loss: 0.2033 - acc: 0.9214     \n",
      "Epoch 26/32\n",
      "48643/48643 [==============================] - 9s - loss: 0.2018 - acc: 0.9220     \n",
      "Epoch 27/32\n",
      "48643/48643 [==============================] - 9s - loss: 0.2002 - acc: 0.9227     \n",
      "Epoch 28/32\n",
      "48643/48643 [==============================] - 11s - loss: 0.1989 - acc: 0.9228    \n",
      "Epoch 29/32\n",
      "48643/48643 [==============================] - 9s - loss: 0.1976 - acc: 0.9236     \n",
      "Epoch 30/32\n",
      "48643/48643 [==============================] - 9s - loss: 0.1962 - acc: 0.9242     \n",
      "Epoch 31/32\n",
      "48643/48643 [==============================] - 9s - loss: 0.1950 - acc: 0.9247     \n",
      "Epoch 32/32\n",
      "48643/48643 [==============================] - 9s - loss: 0.1938 - acc: 0.9250     \n",
      "20847/20847 [==============================] - 7s     \n",
      "\n",
      "Best parameters set found:\n",
      "{'l': 0, 'nb_epoch': 24, 'layers': [], 'batch_size': 100} 0.933694059411\n",
      "\n",
      "\n",
      "Grid scores:\n",
      "0.93369 (+/-0.00000) for {'l': 0, 'nb_epoch': 24, 'layers': [], 'batch_size': 100}\n",
      "0.92691 (+/-0.00000) for {'l': 0, 'nb_epoch': 32, 'layers': [], 'batch_size': 100}\n",
      "time: 10min 21s\n"
     ]
    }
   ],
   "source": [
    "param_grid = {\n",
    "    'l': (0,),\n",
    "    'nb_epoch' : (24, 32),\n",
    "    'batch_size': (100,),\n",
    "    'layers': ([],),\n",
    "}\n",
    "\n",
    "tune (X_train, one_hot(y_train), clf, param_grid, roc_scorer, n_jobs=1, verbose=True)"
   ]
  },
  {
   "cell_type": "markdown",
   "metadata": {},
   "source": [
    "### Eval SKlearn"
   ]
  },
  {
   "cell_type": "code",
   "execution_count": 13,
   "metadata": {
    "collapsed": false
   },
   "outputs": [
    {
     "name": "stdout",
     "output_type": "stream",
     "text": [
      "time: 6min 20s\n"
     ]
    }
   ],
   "source": [
    "sk_model = LogisticRegression(C = 5.0,  solver = 'sag')\n",
    "sk_model.fit(X_train, y_train.argmax(axis = 1))\n",
    "roc_df, spearman_df = test_cross(sk_model, data, xtype)"
   ]
  },
  {
   "cell_type": "code",
   "execution_count": 14,
   "metadata": {
    "collapsed": false
   },
   "outputs": [
    {
     "data": {
      "text/html": [
       "<div>\n",
       "<table border=\"1\" class=\"dataframe\">\n",
       "  <thead>\n",
       "    <tr style=\"text-align: right;\">\n",
       "      <th></th>\n",
       "      <th>random</th>\n",
       "      <th>blocked</th>\n",
       "      <th>both</th>\n",
       "    </tr>\n",
       "  </thead>\n",
       "  <tbody>\n",
       "    <tr>\n",
       "      <th>user</th>\n",
       "      <td>0.917106</td>\n",
       "      <td>0.922955</td>\n",
       "      <td>0.930791</td>\n",
       "    </tr>\n",
       "    <tr>\n",
       "      <th>article</th>\n",
       "      <td>0.854593</td>\n",
       "      <td>0.922942</td>\n",
       "      <td>0.899541</td>\n",
       "    </tr>\n",
       "    <tr>\n",
       "      <th>both</th>\n",
       "      <td>0.912956</td>\n",
       "      <td>0.931098</td>\n",
       "      <td>0.934040</td>\n",
       "    </tr>\n",
       "  </tbody>\n",
       "</table>\n",
       "</div>"
      ],
      "text/plain": [
       "           random   blocked      both\n",
       "user     0.917106  0.922955  0.930791\n",
       "article  0.854593  0.922942  0.899541\n",
       "both     0.912956  0.931098  0.934040"
      ]
     },
     "execution_count": 14,
     "metadata": {},
     "output_type": "execute_result"
    },
    {
     "name": "stdout",
     "output_type": "stream",
     "text": [
      "time: 167 ms\n"
     ]
    }
   ],
   "source": [
    "roc_df"
   ]
  },
  {
   "cell_type": "code",
   "execution_count": 15,
   "metadata": {
    "collapsed": false
   },
   "outputs": [
    {
     "data": {
      "text/html": [
       "<div>\n",
       "<table border=\"1\" class=\"dataframe\">\n",
       "  <thead>\n",
       "    <tr style=\"text-align: right;\">\n",
       "      <th></th>\n",
       "      <th>random</th>\n",
       "      <th>blocked</th>\n",
       "      <th>both</th>\n",
       "    </tr>\n",
       "  </thead>\n",
       "  <tbody>\n",
       "    <tr>\n",
       "      <th>user</th>\n",
       "      <td>0.594571</td>\n",
       "      <td>0.754852</td>\n",
       "      <td>0.758902</td>\n",
       "    </tr>\n",
       "    <tr>\n",
       "      <th>article</th>\n",
       "      <td>0.275159</td>\n",
       "      <td>0.504413</td>\n",
       "      <td>0.446138</td>\n",
       "    </tr>\n",
       "    <tr>\n",
       "      <th>both</th>\n",
       "      <td>0.454013</td>\n",
       "      <td>0.692251</td>\n",
       "      <td>0.659666</td>\n",
       "    </tr>\n",
       "  </tbody>\n",
       "</table>\n",
       "</div>"
      ],
      "text/plain": [
       "           random   blocked      both\n",
       "user     0.594571  0.754852  0.758902\n",
       "article  0.275159  0.504413  0.446138\n",
       "both     0.454013  0.692251  0.659666"
      ]
     },
     "execution_count": 15,
     "metadata": {},
     "output_type": "execute_result"
    },
    {
     "name": "stdout",
     "output_type": "stream",
     "text": [
      "time: 6.03 ms\n"
     ]
    }
   ],
   "source": [
    "spearman_df"
   ]
  },
  {
   "cell_type": "markdown",
   "metadata": {},
   "source": [
    "### Eval OH"
   ]
  },
  {
   "cell_type": "code",
   "execution_count": 16,
   "metadata": {
    "collapsed": false
   },
   "outputs": [
    {
     "name": "stdout",
     "output_type": "stream",
     "text": [
      "Epoch 1/24\n",
      "69490/69490 [==============================] - 19s - loss: 0.4524 - acc: 0.8540    \n",
      "Epoch 2/24\n",
      "69490/69490 [==============================] - 13s - loss: 0.3351 - acc: 0.8822    \n",
      "Epoch 3/24\n",
      "69490/69490 [==============================] - 13s - loss: 0.3007 - acc: 0.8908    \n",
      "Epoch 4/24\n",
      "69490/69490 [==============================] - 13s - loss: 0.2816 - acc: 0.8957    \n",
      "Epoch 5/24\n",
      "69490/69490 [==============================] - 13s - loss: 0.2687 - acc: 0.8994    \n",
      "Epoch 6/24\n",
      "69490/69490 [==============================] - 12s - loss: 0.2592 - acc: 0.9016    \n",
      "Epoch 7/24\n",
      "69490/69490 [==============================] - 12s - loss: 0.2517 - acc: 0.9046    \n",
      "Epoch 8/24\n",
      "69490/69490 [==============================] - 12s - loss: 0.2457 - acc: 0.9065    \n",
      "Epoch 9/24\n",
      "69490/69490 [==============================] - 12s - loss: 0.2407 - acc: 0.9081    \n",
      "Epoch 10/24\n",
      "69490/69490 [==============================] - 13s - loss: 0.2365 - acc: 0.9097    \n",
      "Epoch 11/24\n",
      "69490/69490 [==============================] - 14s - loss: 0.2328 - acc: 0.9112    \n",
      "Epoch 12/24\n",
      "69490/69490 [==============================] - 13s - loss: 0.2295 - acc: 0.9119    \n",
      "Epoch 13/24\n",
      "69490/69490 [==============================] - 15s - loss: 0.2266 - acc: 0.9128    \n",
      "Epoch 14/24\n",
      "69490/69490 [==============================] - 12s - loss: 0.2240 - acc: 0.9138    \n",
      "Epoch 15/24\n",
      "69490/69490 [==============================] - 13s - loss: 0.2217 - acc: 0.9142    \n",
      "Epoch 16/24\n",
      "69490/69490 [==============================] - 15s - loss: 0.2195 - acc: 0.9153    \n",
      "Epoch 17/24\n",
      "69490/69490 [==============================] - 14s - loss: 0.2175 - acc: 0.9158    \n",
      "Epoch 18/24\n",
      "69490/69490 [==============================] - 15s - loss: 0.2156 - acc: 0.9166    \n",
      "Epoch 19/24\n",
      "69490/69490 [==============================] - 12s - loss: 0.2139 - acc: 0.9173    \n",
      "Epoch 20/24\n",
      "69490/69490 [==============================] - 16s - loss: 0.2123 - acc: 0.9179    \n",
      "Epoch 21/24\n",
      "69490/69490 [==============================] - 14s - loss: 0.2107 - acc: 0.9187    \n",
      "Epoch 22/24\n",
      "69490/69490 [==============================] - 15s - loss: 0.2093 - acc: 0.9192    \n",
      "Epoch 23/24\n",
      "69490/69490 [==============================] - 15s - loss: 0.2079 - acc: 0.9198    \n",
      "Epoch 24/24\n",
      "69490/69490 [==============================] - 14s - loss: 0.2066 - acc: 0.9203    \n",
      "3661/3661 [==============================] - 1s     \n",
      "9295/9295 [==============================] - 2s     \n",
      "12956/12956 [==============================] - 1s     \n",
      "7564/7564 [==============================] - 0s     \n",
      "23100/23168 [============================>.] - ETA: 0stime: 6min 22s\n"
     ]
    }
   ],
   "source": [
    "oh_linear_model =  KerasClassifier(build_fn=make_MLP,\n",
    "                               output_dim = n_classes,\n",
    "                               input_dim = 10000,\n",
    "                               nb_epoch = 24,\n",
    "                               batch_size = 100,\n",
    "                               l = 0.0, \n",
    "                               layers = [])\n",
    "oh_linear_model.fit(X_train, one_hot(y_train))\n",
    "roc_df, spearman_df = test_cross(oh_linear_model, data, xtype)"
   ]
  },
  {
   "cell_type": "code",
   "execution_count": 17,
   "metadata": {
    "collapsed": false
   },
   "outputs": [
    {
     "data": {
      "text/html": [
       "<div>\n",
       "<table border=\"1\" class=\"dataframe\">\n",
       "  <thead>\n",
       "    <tr style=\"text-align: right;\">\n",
       "      <th></th>\n",
       "      <th>random</th>\n",
       "      <th>blocked</th>\n",
       "      <th>both</th>\n",
       "    </tr>\n",
       "  </thead>\n",
       "  <tbody>\n",
       "    <tr>\n",
       "      <th>user</th>\n",
       "      <td>0.908400</td>\n",
       "      <td>0.921779</td>\n",
       "      <td>0.928060</td>\n",
       "    </tr>\n",
       "    <tr>\n",
       "      <th>article</th>\n",
       "      <td>0.843194</td>\n",
       "      <td>0.918593</td>\n",
       "      <td>0.892355</td>\n",
       "    </tr>\n",
       "    <tr>\n",
       "      <th>both</th>\n",
       "      <td>0.904265</td>\n",
       "      <td>0.929550</td>\n",
       "      <td>0.930756</td>\n",
       "    </tr>\n",
       "  </tbody>\n",
       "</table>\n",
       "</div>"
      ],
      "text/plain": [
       "           random   blocked      both\n",
       "user     0.908400  0.921779  0.928060\n",
       "article  0.843194  0.918593  0.892355\n",
       "both     0.904265  0.929550  0.930756"
      ]
     },
     "execution_count": 17,
     "metadata": {},
     "output_type": "execute_result"
    },
    {
     "name": "stdout",
     "output_type": "stream",
     "text": [
      "time: 36.2 ms\n"
     ]
    }
   ],
   "source": [
    "roc_df"
   ]
  },
  {
   "cell_type": "code",
   "execution_count": 18,
   "metadata": {
    "collapsed": false
   },
   "outputs": [
    {
     "data": {
      "text/html": [
       "<div>\n",
       "<table border=\"1\" class=\"dataframe\">\n",
       "  <thead>\n",
       "    <tr style=\"text-align: right;\">\n",
       "      <th></th>\n",
       "      <th>random</th>\n",
       "      <th>blocked</th>\n",
       "      <th>both</th>\n",
       "    </tr>\n",
       "  </thead>\n",
       "  <tbody>\n",
       "    <tr>\n",
       "      <th>user</th>\n",
       "      <td>0.589133</td>\n",
       "      <td>0.751809</td>\n",
       "      <td>0.757164</td>\n",
       "    </tr>\n",
       "    <tr>\n",
       "      <th>article</th>\n",
       "      <td>0.271392</td>\n",
       "      <td>0.500903</td>\n",
       "      <td>0.442840</td>\n",
       "    </tr>\n",
       "    <tr>\n",
       "      <th>both</th>\n",
       "      <td>0.449085</td>\n",
       "      <td>0.689645</td>\n",
       "      <td>0.657520</td>\n",
       "    </tr>\n",
       "  </tbody>\n",
       "</table>\n",
       "</div>"
      ],
      "text/plain": [
       "           random   blocked      both\n",
       "user     0.589133  0.751809  0.757164\n",
       "article  0.271392  0.500903  0.442840\n",
       "both     0.449085  0.689645  0.657520"
      ]
     },
     "execution_count": 18,
     "metadata": {},
     "output_type": "execute_result"
    },
    {
     "name": "stdout",
     "output_type": "stream",
     "text": [
      "time: 8.72 ms\n"
     ]
    }
   ],
   "source": [
    "spearman_df"
   ]
  },
  {
   "cell_type": "markdown",
   "metadata": {},
   "source": [
    "### Eval Linear EDP"
   ]
  },
  {
   "cell_type": "code",
   "execution_count": 19,
   "metadata": {
    "collapsed": false
   },
   "outputs": [
    {
     "name": "stdout",
     "output_type": "stream",
     "text": [
      "Epoch 1/8\n",
      "69490/69490 [==============================] - 19s - loss: 0.2637 - acc: 0.8576    \n",
      "Epoch 2/8\n",
      "69490/69490 [==============================] - 15s - loss: 0.1817 - acc: 0.8847    \n",
      "Epoch 3/8\n",
      "69490/69490 [==============================] - 15s - loss: 0.1643 - acc: 0.8925    \n",
      "Epoch 4/8\n",
      "69490/69490 [==============================] - 15s - loss: 0.1563 - acc: 0.8960    \n",
      "Epoch 5/8\n",
      "69490/69490 [==============================] - 15s - loss: 0.1514 - acc: 0.8989    \n",
      "Epoch 6/8\n",
      "69490/69490 [==============================] - 15s - loss: 0.1481 - acc: 0.9011    \n",
      "Epoch 7/8\n",
      "69490/69490 [==============================] - 15s - loss: 0.1456 - acc: 0.9023    \n",
      "Epoch 8/8\n",
      "69490/69490 [==============================] - 15s - loss: 0.1436 - acc: 0.9040    \n",
      "3661/3661 [==============================] - 1s     \n",
      "9295/9295 [==============================] - 2s     \n",
      "12956/12956 [==============================] - 1s     \n",
      "7564/7564 [==============================] - 0s     \n",
      "23168/23168 [==============================] - 3s     \n",
      "time: 2min 47s\n"
     ]
    }
   ],
   "source": [
    "ed_linear_model =  KerasClassifier(build_fn=make_MLP,\n",
    "                               output_dim = n_classes,\n",
    "                               input_dim = 10000,\n",
    "                               nb_epoch = 8,\n",
    "                               batch_size = 100,\n",
    "                               l = 0.0, \n",
    "                               layers = [])\n",
    "ed_linear_model.fit(X_train, y_train)\n",
    "roc_df, spearman_df = test_cross(ed_linear_model, data, xtype)"
   ]
  },
  {
   "cell_type": "code",
   "execution_count": 20,
   "metadata": {
    "collapsed": false
   },
   "outputs": [
    {
     "data": {
      "text/html": [
       "<div>\n",
       "<table border=\"1\" class=\"dataframe\">\n",
       "  <thead>\n",
       "    <tr style=\"text-align: right;\">\n",
       "      <th></th>\n",
       "      <th>random</th>\n",
       "      <th>blocked</th>\n",
       "      <th>both</th>\n",
       "    </tr>\n",
       "  </thead>\n",
       "  <tbody>\n",
       "    <tr>\n",
       "      <th>user</th>\n",
       "      <td>0.911989</td>\n",
       "      <td>0.921245</td>\n",
       "      <td>0.927322</td>\n",
       "    </tr>\n",
       "    <tr>\n",
       "      <th>article</th>\n",
       "      <td>0.864289</td>\n",
       "      <td>0.921941</td>\n",
       "      <td>0.902902</td>\n",
       "    </tr>\n",
       "    <tr>\n",
       "      <th>both</th>\n",
       "      <td>0.912037</td>\n",
       "      <td>0.930118</td>\n",
       "      <td>0.932928</td>\n",
       "    </tr>\n",
       "  </tbody>\n",
       "</table>\n",
       "</div>"
      ],
      "text/plain": [
       "           random   blocked      both\n",
       "user     0.911989  0.921245  0.927322\n",
       "article  0.864289  0.921941  0.902902\n",
       "both     0.912037  0.930118  0.932928"
      ]
     },
     "execution_count": 20,
     "metadata": {},
     "output_type": "execute_result"
    },
    {
     "name": "stdout",
     "output_type": "stream",
     "text": [
      "time: 15.6 ms\n"
     ]
    }
   ],
   "source": [
    "roc_df"
   ]
  },
  {
   "cell_type": "code",
   "execution_count": 21,
   "metadata": {
    "collapsed": false
   },
   "outputs": [
    {
     "data": {
      "text/html": [
       "<div>\n",
       "<table border=\"1\" class=\"dataframe\">\n",
       "  <thead>\n",
       "    <tr style=\"text-align: right;\">\n",
       "      <th></th>\n",
       "      <th>random</th>\n",
       "      <th>blocked</th>\n",
       "      <th>both</th>\n",
       "    </tr>\n",
       "  </thead>\n",
       "  <tbody>\n",
       "    <tr>\n",
       "      <th>user</th>\n",
       "      <td>0.663924</td>\n",
       "      <td>0.768345</td>\n",
       "      <td>0.787295</td>\n",
       "    </tr>\n",
       "    <tr>\n",
       "      <th>article</th>\n",
       "      <td>0.340899</td>\n",
       "      <td>0.552277</td>\n",
       "      <td>0.499326</td>\n",
       "    </tr>\n",
       "    <tr>\n",
       "      <th>both</th>\n",
       "      <td>0.537826</td>\n",
       "      <td>0.717361</td>\n",
       "      <td>0.699857</td>\n",
       "    </tr>\n",
       "  </tbody>\n",
       "</table>\n",
       "</div>"
      ],
      "text/plain": [
       "           random   blocked      both\n",
       "user     0.663924  0.768345  0.787295\n",
       "article  0.340899  0.552277  0.499326\n",
       "both     0.537826  0.717361  0.699857"
      ]
     },
     "execution_count": 21,
     "metadata": {},
     "output_type": "execute_result"
    },
    {
     "name": "stdout",
     "output_type": "stream",
     "text": [
      "time: 14.1 ms\n"
     ]
    }
   ],
   "source": [
    "spearman_df"
   ]
  },
  {
   "cell_type": "markdown",
   "metadata": {},
   "source": [
    "### Eval Deep EDP"
   ]
  },
  {
   "cell_type": "code",
   "execution_count": 22,
   "metadata": {
    "collapsed": false
   },
   "outputs": [
    {
     "name": "stdout",
     "output_type": "stream",
     "text": [
      "Epoch 1/4\n",
      "69490/69490 [==============================] - 37s - loss: 0.2381 - acc: 0.8741    \n",
      "Epoch 2/4\n",
      "69490/69490 [==============================] - 32s - loss: 0.1438 - acc: 0.9052    \n",
      "Epoch 3/4\n",
      "69490/69490 [==============================] - 30s - loss: 0.1355 - acc: 0.9102    \n",
      "Epoch 4/4\n",
      "69490/69490 [==============================] - 34s - loss: 0.1299 - acc: 0.9144    \n",
      "3661/3661 [==============================] - 1s     \n",
      "9295/9295 [==============================] - 2s     \n",
      "12956/12956 [==============================] - 2s     \n",
      "6309/6309 [==============================] - 1s     \n",
      "10212/10212 [==============================] - 1s     \n",
      "7564/7564 [==============================] - 1s     \n",
      "23168/23168 [==============================] - 4s     \n",
      "time: 3min 4s\n"
     ]
    }
   ],
   "source": [
    "deep_model =  KerasClassifier(build_fn=make_MLP,\n",
    "                               output_dim = n_classes,\n",
    "                               input_dim = 10000,\n",
    "                               nb_epoch = 4,\n",
    "                               batch_size = 100,\n",
    "                               l = 0.0000001, \n",
    "                               layers = [50, 10])\n",
    "deep_model.fit(X_train, y_train)\n",
    "roc_df, spearman_df = test_cross(deep_model, data, xtype)"
   ]
  },
  {
   "cell_type": "code",
   "execution_count": 23,
   "metadata": {
    "collapsed": false
   },
   "outputs": [
    {
     "data": {
      "text/html": [
       "<div>\n",
       "<table border=\"1\" class=\"dataframe\">\n",
       "  <thead>\n",
       "    <tr style=\"text-align: right;\">\n",
       "      <th></th>\n",
       "      <th>random</th>\n",
       "      <th>blocked</th>\n",
       "      <th>both</th>\n",
       "    </tr>\n",
       "  </thead>\n",
       "  <tbody>\n",
       "    <tr>\n",
       "      <th>user</th>\n",
       "      <td>0.922832</td>\n",
       "      <td>0.926065</td>\n",
       "      <td>0.932012</td>\n",
       "    </tr>\n",
       "    <tr>\n",
       "      <th>article</th>\n",
       "      <td>0.871652</td>\n",
       "      <td>0.927582</td>\n",
       "      <td>0.909421</td>\n",
       "    </tr>\n",
       "    <tr>\n",
       "      <th>both</th>\n",
       "      <td>0.919759</td>\n",
       "      <td>0.933447</td>\n",
       "      <td>0.936626</td>\n",
       "    </tr>\n",
       "  </tbody>\n",
       "</table>\n",
       "</div>"
      ],
      "text/plain": [
       "           random   blocked      both\n",
       "user     0.922832  0.926065  0.932012\n",
       "article  0.871652  0.927582  0.909421\n",
       "both     0.919759  0.933447  0.936626"
      ]
     },
     "execution_count": 23,
     "metadata": {},
     "output_type": "execute_result"
    },
    {
     "name": "stdout",
     "output_type": "stream",
     "text": [
      "time: 19.5 ms\n"
     ]
    }
   ],
   "source": [
    "roc_df"
   ]
  },
  {
   "cell_type": "code",
   "execution_count": 24,
   "metadata": {
    "collapsed": false
   },
   "outputs": [
    {
     "data": {
      "text/html": [
       "<div>\n",
       "<table border=\"1\" class=\"dataframe\">\n",
       "  <thead>\n",
       "    <tr style=\"text-align: right;\">\n",
       "      <th></th>\n",
       "      <th>random</th>\n",
       "      <th>blocked</th>\n",
       "      <th>both</th>\n",
       "    </tr>\n",
       "  </thead>\n",
       "  <tbody>\n",
       "    <tr>\n",
       "      <th>user</th>\n",
       "      <td>0.678412</td>\n",
       "      <td>0.784825</td>\n",
       "      <td>0.799240</td>\n",
       "    </tr>\n",
       "    <tr>\n",
       "      <th>article</th>\n",
       "      <td>0.355934</td>\n",
       "      <td>0.576075</td>\n",
       "      <td>0.518535</td>\n",
       "    </tr>\n",
       "    <tr>\n",
       "      <th>both</th>\n",
       "      <td>0.550585</td>\n",
       "      <td>0.734221</td>\n",
       "      <td>0.712985</td>\n",
       "    </tr>\n",
       "  </tbody>\n",
       "</table>\n",
       "</div>"
      ],
      "text/plain": [
       "           random   blocked      both\n",
       "user     0.678412  0.784825  0.799240\n",
       "article  0.355934  0.576075  0.518535\n",
       "both     0.550585  0.734221  0.712985"
      ]
     },
     "execution_count": 24,
     "metadata": {},
     "output_type": "execute_result"
    },
    {
     "name": "stdout",
     "output_type": "stream",
     "text": [
      "time: 6.47 ms\n"
     ]
    }
   ],
   "source": [
    "spearman_df"
   ]
  },
  {
   "cell_type": "markdown",
   "metadata": {},
   "source": [
    "### Check Calibration"
   ]
  },
  {
   "cell_type": "code",
   "execution_count": 25,
   "metadata": {
    "collapsed": false,
    "scrolled": true
   },
   "outputs": [
    {
     "name": "stdout",
     "output_type": "stream",
     "text": [
      "23168/23168 [==============================] - 6s     \n"
     ]
    },
    {
     "data": {
      "image/png": "[encoded data removed]",
      "text/plain": [
       "<matplotlib.figure.Figure at 0x15db75080>"
      ]
     },
     "metadata": {},
     "output_type": "display_data"
    },
    {
     "data": {
      "text/plain": [
       "<matplotlib.figure.Figure at 0x15db7b128>"
      ]
     },
     "metadata": {},
     "output_type": "display_data"
    },
    {
     "data": {
      "image/png": "[encoded data removed]",
      "text/plain": [
       "<matplotlib.figure.Figure at 0x15e676828>"
      ]
     },
     "metadata": {},
     "output_type": "display_data"
    },
    {
     "data": {
      "text/plain": [
       "<matplotlib.figure.Figure at 0x15e6b79e8>"
      ]
     },
     "metadata": {},
     "output_type": "display_data"
    },
    {
     "data": {
      "image/png": "[encoded data removed]",
      "text/plain": [
       "<matplotlib.figure.Figure at 0x161a6bda0>"
      ]
     },
     "metadata": {},
     "output_type": "display_data"
    },
    {
     "data": {
      "text/plain": [
       "<matplotlib.figure.Figure at 0x161a6bf60>"
      ]
     },
     "metadata": {},
     "output_type": "display_data"
    },
    {
     "name": "stdout",
     "output_type": "stream",
     "text": [
      "time: 10.6 s\n"
     ]
    }
   ],
   "source": [
    "y_test_oh = one_hot(y_test)\n",
    "y_pred_ed = deep_model.predict_proba(X_test)\n",
    "\n",
    "if n_classes > 2:\n",
    "    classes = range(n_classes)\n",
    "else:\n",
    "    classes = [1]\n",
    "\n",
    "for i in classes:\n",
    "    plt.figure()\n",
    "    calibration_curve_plotter(y_test_oh[:, i], y_pred_ed[:, i])\n",
    "    plt.show()"
   ]
  },
  {
   "cell_type": "code",
   "execution_count": null,
   "metadata": {
    "collapsed": true
   },
   "outputs": [],
   "source": []
  }
 ],
 "metadata": {
  "kernelspec": {
   "display_name": "Python 3",
   "language": "python",
   "name": "python3"
  },
  "language_info": {
   "codemirror_mode": {
    "name": "ipython",
    "version": 3
   },
   "file_extension": ".py",
   "mimetype": "text/x-python",
   "name": "python",
   "nbconvert_exporter": "python",
   "pygments_lexer": "ipython3",
   "version": "3.5.1"
  }
 },
 "nbformat": 4,
 "nbformat_minor": 0
}
