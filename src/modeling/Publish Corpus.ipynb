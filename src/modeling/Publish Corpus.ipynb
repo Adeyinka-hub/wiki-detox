{
 "cells": [
  {
   "cell_type": "code",
   "execution_count": 1,
   "metadata": {
    "collapsed": false
   },
   "outputs": [],
   "source": [
    "%load_ext autoreload\n",
    "%autoreload 2\n",
    "%matplotlib inline\n",
    "%load_ext autotime\n",
    "\n",
    "import numpy as np\n",
    "import pandas as pd\n",
    "import joblib\n",
    "\n",
    "import datetime\n",
    "import os\n",
    "import numpy as np\n",
    "import time\n",
    "import multiprocessing as mp\n",
    "import re "
   ]
  },
  {
   "cell_type": "code",
   "execution_count": 2,
   "metadata": {
    "collapsed": false
   },
   "outputs": [
    {
     "name": "stdout",
     "output_type": "stream",
     "text": [
      "time: 51.9 ms\n"
     ]
    }
   ],
   "source": [
    "import inspect, os\n",
    "currentdir = os.path.dirname(os.path.abspath(inspect.getfile(inspect.currentframe())))\n",
    "parentdir = os.path.dirname(currentdir)\n",
    "os.sys.path.insert(0,parentdir) \n",
    "from data_generation.diff_utils import clean_and_filter"
   ]
  },
  {
   "cell_type": "markdown",
   "metadata": {},
   "source": [
    "# Load Models\n",
    "\n",
    "Models are trained on all data unlike paper"
   ]
  },
  {
   "cell_type": "code",
   "execution_count": 3,
   "metadata": {
    "collapsed": false
   },
   "outputs": [
    {
     "name": "stderr",
     "output_type": "stream",
     "text": [
      "Using TensorFlow backend.\n"
     ]
    },
    {
     "name": "stdout",
     "output_type": "stream",
     "text": [
      "time: 2.15 s\n"
     ]
    }
   ],
   "source": [
    "from baselines import plurality, average\n",
    "from serialization import load_pipeline"
   ]
  },
  {
   "cell_type": "code",
   "execution_count": 4,
   "metadata": {
    "collapsed": false
   },
   "outputs": [
    {
     "name": "stdout",
     "output_type": "stream",
     "text": [
      "time: 15.4 s\n"
     ]
    }
   ],
   "source": [
    "model_name = 'linear_char_ed_all'\n",
    "model_type = 'linear_char_ed'\n",
    "tasks = ['aggression', 'attack']\n",
    "model_dict = {}\n",
    "calibrator_dict = {}\n",
    "\n",
    "for task in tasks:\n",
    "    path = '../../models/%s/%s' % (task, model_type)\n",
    "    model_dict[task] = load_pipeline(path, model_name)"
   ]
  },
  {
   "cell_type": "code",
   "execution_count": 5,
   "metadata": {
    "collapsed": false
   },
   "outputs": [
    {
     "name": "stdout",
     "output_type": "stream",
     "text": [
      "time: 2.34 ms\n"
     ]
    }
   ],
   "source": [
    "def apply_models(df):\n",
    "    diffs = df['clean_diff']\n",
    "    for task, model in model_dict.items():\n",
    "        scores = model.predict_proba(diffs)[:,1]\n",
    "        df['%s_score' % task] = scores\n",
    "    return df    "
   ]
  },
  {
   "cell_type": "markdown",
   "metadata": {},
   "source": [
    "#### Load samples and apply models\n",
    "\n",
    "We take various diffs datasets from hive, apply the clean and filter function and the score the clean diffs using the models."
   ]
  },
  {
   "cell_type": "code",
   "execution_count": 6,
   "metadata": {
    "collapsed": false
   },
   "outputs": [
    {
     "name": "stdout",
     "output_type": "stream",
     "text": [
      "time: 7.21 ms\n"
     ]
    }
   ],
   "source": [
    "def prep_in_parallel(path, k = 8):\n",
    "    df = pd.read_csv(path, sep = '\\t', encoding = 'utf-8')\n",
    "    m = df.shape[0] \n",
    "    n_groups = int(m / 10000.0)\n",
    "    df['key'] = np.random.randint(0, high=n_groups, size=m)\n",
    "    dfs = [e[1] for e in df.groupby('key')]\n",
    "    dfs = [pred_helper(d) for d in dfs]\n",
    "    return pd.concat(dfs)\n",
    "\n",
    "def pred_helper(df):\n",
    "    if len(df) == 0:\n",
    "        return None\n",
    "    return df.assign(rev_timestamp = lambda x: pd.to_datetime(x.rev_timestamp),\n",
    "            clean_diff = lambda x: x['clean_diff'].astype(str))\\\n",
    "            .pipe(apply_models)"
   ]
  },
  {
   "cell_type": "code",
   "execution_count": 9,
   "metadata": {
    "collapsed": false,
    "scrolled": true
   },
   "outputs": [
    {
     "name": "stdout",
     "output_type": "stream",
     "text": [
      "time: 2h 56min 10s\n"
     ]
    }
   ],
   "source": [
    "nss = ['user', 'article']\n",
    "samples = {'talk_diff_no_admin_2015.tsv': 'model_annotated_comments_2015.tsv',}\n",
    "\n",
    "\n",
    "for in_name, out_name in samples.items():\n",
    "    outf = os.path.join('../../data/figshare/', out_name)\n",
    "    dfs = []\n",
    "    for ns in nss:\n",
    "        inf = os.path.join('../../data/samples', ns, 'clean', in_name)\n",
    "        df = prep_in_parallel(inf, k = 4)\n",
    "        df['ns'] = ns\n",
    "        dfs.append(df)\n",
    "        \n",
    "    df = pd.concat(dfs)\n",
    "    df = df.rename(columns={'clean_diff': 'comment',\n",
    "                        'diff': 'raw_comment',\n",
    "                        'rev_timestamp': 'timestamp',\n",
    "                        'rev_id': 'comment_id',\n",
    "                        'pred_aggression_score_calibrated': 'aggression_score',\n",
    "                        'pred_attack_score_uncalibrated' : 'attack_score'\n",
    "                       })\n",
    "    order = ['comment_id', 'comment', 'raw_comment', 'timestamp', 'page_id', 'page_title', 'user_id', 'user_text', 'ns', 'attack_score', 'aggression_score' ]\n",
    "    df = df[order]\n",
    "    df = df.sort_values('timestamp')\n",
    "    df.to_csv(outf, sep = '\\t')   "
   ]
  },
  {
   "cell_type": "code",
   "execution_count": null,
   "metadata": {
    "collapsed": true
   },
   "outputs": [],
   "source": []
  }
 ],
 "metadata": {
  "anaconda-cloud": {},
  "kernelspec": {
   "display_name": "Python [default]",
   "language": "python",
   "name": "python3"
  },
  "language_info": {
   "codemirror_mode": {
    "name": "ipython",
    "version": 3
   },
   "file_extension": ".py",
   "mimetype": "text/x-python",
   "name": "python",
   "nbconvert_exporter": "python",
   "pygments_lexer": "ipython3",
   "version": "3.5.1"
  }
 },
 "nbformat": 4,
 "nbformat_minor": 0
}
