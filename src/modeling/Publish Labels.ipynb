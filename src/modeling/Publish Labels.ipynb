{
 "cells": [
  {
   "cell_type": "code",
   "execution_count": 1,
   "metadata": {
    "collapsed": true
   },
   "outputs": [],
   "source": [
    "import pandas as pd\n",
    "import os"
   ]
  },
  {
   "cell_type": "code",
   "execution_count": 2,
   "metadata": {
    "collapsed": false
   },
   "outputs": [
    {
     "data": {
      "text/plain": [
       "(1368958, 23)"
      ]
     },
     "execution_count": 2,
     "metadata": {},
     "output_type": "execute_result"
    }
   ],
   "source": [
    "# load split data\n",
    "out_dir = \"../../data/figshare\"\n",
    "in_dir = \"../../data/annotations/split\"\n",
    "splits = [\"train\", \"dev\", \"test\"]\n",
    "\n",
    "dfs = []\n",
    "for split in splits:\n",
    "    df = pd.read_csv(os.path.join(in_dir, split, 'annotations.tsv'), sep = '\\t')\n",
    "    df['split'] = split\n",
    "    dfs.append(df)\n",
    "df = pd.concat(dfs)\n",
    "df.shape"
   ]
  },
  {
   "cell_type": "code",
   "execution_count": 3,
   "metadata": {
    "collapsed": false
   },
   "outputs": [
    {
     "data": {
      "text/plain": [
       "(1368958, 24)"
      ]
     },
     "execution_count": 3,
     "metadata": {},
     "output_type": "execute_result"
    }
   ],
   "source": [
    "# rename workers\n",
    "df_workers = df[['_worker_id']].drop_duplicates()\n",
    "df_workers['anon_id'] = range(df_workers.shape[0])\n",
    "df = df.merge(df_workers, how = 'inner', on = '_worker_id')\n",
    "df.shape"
   ]
  },
  {
   "cell_type": "code",
   "execution_count": 4,
   "metadata": {
    "collapsed": true
   },
   "outputs": [],
   "source": [
    "# rename some columns\n",
    "df = df.rename(columns={'clean_diff': 'comment',\n",
    "                        'diff': 'raw_comment',\n",
    "                        'rev_timestamp': 'timestamp',\n",
    "                        'rev_id': 'comment_id',\n",
    "                        'anon_id': 'worker_id',\n",
    "                       })"
   ]
  },
  {
   "cell_type": "code",
   "execution_count": 5,
   "metadata": {
    "collapsed": false
   },
   "outputs": [
    {
     "data": {
      "text/plain": [
       "(116179, 11)"
      ]
     },
     "execution_count": 5,
     "metadata": {},
     "output_type": "execute_result"
    }
   ],
   "source": [
    "# get set of labeled comments\n",
    "df_comments = df.drop_duplicates(subset = ['comment_id'])\n",
    "order = ['comment_id', 'comment', 'raw_comment', 'timestamp', 'page_id', 'page_title', 'user_id', 'user_text', 'ns', 'sample', 'split']\n",
    "df_comments = df_comments[order]\n",
    "df_comments = df_comments.sort_values('comment_id')\n",
    "df_comments.shape"
   ]
  },
  {
   "cell_type": "code",
   "execution_count": 6,
   "metadata": {
    "collapsed": false
   },
   "outputs": [
    {
     "data": {
      "text/plain": [
       "(1368958, 4)"
      ]
     },
     "execution_count": 6,
     "metadata": {},
     "output_type": "execute_result"
    }
   ],
   "source": [
    "# get set of human labels\n",
    "df_labels = df[['comment_id', 'worker_id', 'attack', 'aggression']]\n",
    "df_labels = df_labels.sort_values('comment_id')\n",
    "df_labels.shape"
   ]
  },
  {
   "cell_type": "code",
   "execution_count": 7,
   "metadata": {
    "collapsed": true
   },
   "outputs": [],
   "source": [
    "# save dfs\n",
    "df_comments.to_csv(os.path.join( \"../../data/figshare\", 'crowd_annotated_comments.tsv'), sep = '\\t', index = False)\n",
    "df_labels.to_csv(os.path.join( \"../../data/figshare\", 'crowd_annotations.tsv'), sep = '\\t', index = False)"
   ]
  }
 ],
 "metadata": {
  "anaconda-cloud": {},
  "kernelspec": {
   "display_name": "Python [default]",
   "language": "python",
   "name": "python3"
  },
  "language_info": {
   "codemirror_mode": {
    "name": "ipython",
    "version": 3
   },
   "file_extension": ".py",
   "mimetype": "text/x-python",
   "name": "python",
   "nbconvert_exporter": "python",
   "pygments_lexer": "ipython3",
   "version": "3.5.1"
  }
 },
 "nbformat": 4,
 "nbformat_minor": 0
}
