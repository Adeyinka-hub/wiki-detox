{
 "cells": [
  {
   "cell_type": "code",
   "execution_count": 44,
   "metadata": {
    "collapsed": false
   },
   "outputs": [
    {
     "name": "stdout",
     "output_type": "stream",
     "text": [
      "The autoreload extension is already loaded. To reload it, use:\n",
      "  %reload_ext autoreload\n"
     ]
    }
   ],
   "source": [
    "%load_ext autoreload\n",
    "%autoreload 2\n",
    "%matplotlib inline"
   ]
  },
  {
   "cell_type": "code",
   "execution_count": 45,
   "metadata": {
    "collapsed": true
   },
   "outputs": [],
   "source": [
    "from baselines import load_annotations, remove_na, tidy_labels, map_aggression_score_to_3class\n",
    "import pandas as pd"
   ]
  },
  {
   "cell_type": "markdown",
   "metadata": {},
   "source": [
    "#  Clean Raw Annotations"
   ]
  },
  {
   "cell_type": "markdown",
   "metadata": {},
   "source": [
    "### Load raw  annotations"
   ]
  },
  {
   "cell_type": "code",
   "execution_count": 46,
   "metadata": {
    "collapsed": false
   },
   "outputs": [
    {
     "name": "stdout",
     "output_type": "stream",
     "text": [
      "# annotations:  1406811\n"
     ]
    }
   ],
   "source": [
    "user_blocked = [\n",
    "                'annotated_onion_layer_5_rows_0_to_5000_raters_20',     \n",
    "                'annotated_onion_layer_5_rows_0_to_10000',             \n",
    "                'annotated_onion_layer_5_rows_0_to_10000_raters_3',          \n",
    "                'annotated_onion_layer_5_rows_10000_to_50526_raters_10',\n",
    "                'annotated_onion_layer_10_rows_0_to_1000',              \n",
    "                'annotated_onion_layer_20_rows_0_to_1000',              \n",
    "                'annotated_onion_layer_30_rows_0_to_1000',              \n",
    "]\n",
    "\n",
    "user_random = [\n",
    "            'annotated_random_data_rows_0_to_5000_raters_20',\n",
    "            'annotated_random_data_rows_5000_to_10000',\n",
    "            'annotated_random_data_rows_5000_to_10000_raters_3',\n",
    "            'annotated_random_data_rows_10000_to_20000_raters_10',\n",
    "]\n",
    "\n",
    "article_blocked = ['article_onion_layer_5_all_rows_raters_10',]\n",
    "article_random = ['article_random_data_all_rows_raters_10',]\n",
    "\n",
    "\n",
    "files = {\n",
    "    'user': {'blocked': user_blocked, 'random': user_random},\n",
    "    'article': {'blocked': article_blocked, 'random': article_random}\n",
    "}\n",
    "\n",
    "\n",
    "dfs = []\n",
    "\n",
    "for ns, d in files.items():\n",
    "    for sample, files in  d.items():\n",
    "        for f in files:\n",
    "            df = pd.read_csv('../../data/annotations/raw/%s/%s.csv' % (ns,f))\n",
    "            df['src'] = f\n",
    "            df['ns'] = ns\n",
    "            df['sample'] = sample\n",
    "            dfs.append(df)\n",
    "df = pd.concat(dfs)\n",
    "print('# annotations: ', df.shape[0])"
   ]
  },
  {
   "cell_type": "markdown",
   "metadata": {},
   "source": [
    "### Remove answers to test questions"
   ]
  },
  {
   "cell_type": "code",
   "execution_count": 47,
   "metadata": {
    "collapsed": false
   },
   "outputs": [
    {
     "name": "stdout",
     "output_type": "stream",
     "text": [
      "# annotations:  1406811\n"
     ]
    }
   ],
   "source": [
    "df = df.query('_golden == False')\n",
    "print('# annotations: ', df.shape[0])"
   ]
  },
  {
   "cell_type": "markdown",
   "metadata": {},
   "source": [
    "### Remove annotations where revision could not be read"
   ]
  },
  {
   "cell_type": "code",
   "execution_count": 48,
   "metadata": {
    "collapsed": false
   },
   "outputs": [
    {
     "name": "stdout",
     "output_type": "stream",
     "text": [
      "# annotations:  1398433\n"
     ]
    }
   ],
   "source": [
    "# remove all annotations for a revisions where more than 50% of annotators for that revision could not read the comment\n",
    "df = remove_na(df)\n",
    "print('# annotations: ', df.shape[0])"
   ]
  },
  {
   "cell_type": "code",
   "execution_count": 49,
   "metadata": {
    "collapsed": false
   },
   "outputs": [
    {
     "data": {
      "text/plain": [
       "False    1384258\n",
       "True       14175\n",
       "Name: na, dtype: int64"
      ]
     },
     "execution_count": 49,
     "metadata": {},
     "output_type": "execute_result"
    }
   ],
   "source": [
    "# remove all annotations where the annotator could not read the comment\n",
    "df['na'].value_counts(dropna=False)"
   ]
  },
  {
   "cell_type": "code",
   "execution_count": 50,
   "metadata": {
    "collapsed": false
   },
   "outputs": [
    {
     "name": "stdout",
     "output_type": "stream",
     "text": [
      "# annotations:  1384258\n"
     ]
    }
   ],
   "source": [
    "df = df.query('na==False')\n",
    "print('# annotations: ', df.shape[0])"
   ]
  },
  {
   "cell_type": "markdown",
   "metadata": {},
   "source": [
    "### Remove all annotations with invalid aggression_score or is_harassment_or_attack input"
   ]
  },
  {
   "cell_type": "code",
   "execution_count": 51,
   "metadata": {
    "collapsed": false
   },
   "outputs": [
    {
     "data": {
      "text/plain": [
       " 0.0    980872\n",
       "-1.0    138993\n",
       " 1.0     87440\n",
       "-3.0     72645\n",
       "-2.0     64487\n",
       " 2.0     27926\n",
       " 3.0     11009\n",
       "NaN        886\n",
       "Name: aggression_score, dtype: int64"
      ]
     },
     "execution_count": 51,
     "metadata": {},
     "output_type": "execute_result"
    }
   ],
   "source": [
    "df['aggression_score'].value_counts(dropna=False)"
   ]
  },
  {
   "cell_type": "code",
   "execution_count": 52,
   "metadata": {
    "collapsed": false
   },
   "outputs": [
    {
     "data": {
      "text/plain": [
       "not_attack                                            1105010\n",
       "recipient                                              148379\n",
       "other                                                   38272\n",
       "third_party                                             32501\n",
       "recipient\\nthird_party                                   9801\n",
       "other\\nnot_attack                                        8978\n",
       "recipient\\nnot_attack                                    6846\n",
       "quoting                                                  6160\n",
       "recipient\\nthird_party\\nquoting\\nother\\nnot_attack       5850\n",
       "recipient\\nother                                         4353\n",
       "recipient\\nthird_party\\nquoting\\nother                   2379\n",
       "recipient\\nthird_party\\nnot_attack                       2298\n",
       "third_party\\nother                                       1822\n",
       "recipient\\nthird_party\\nother                            1801\n",
       "quoting\\nnot_attack                                      1516\n",
       "recipient\\nthird_party\\nquoting                          1515\n",
       "third_party\\nnot_attack                                  1174\n",
       "recipient\\nthird_party\\nquoting\\nnot_attack              1091\n",
       "quoting\\nother\\nnot_attack                               1082\n",
       "recipient\\nother\\nnot_attack                              820\n",
       "quoting\\nother                                            583\n",
       "third_party\\nquoting                                      572\n",
       "recipient\\nquoting                                        454\n",
       "third_party\\nquoting\\nother                               338\n",
       "recipient\\nquoting\\nnot_attack                            192\n",
       "recipient\\nquoting\\nother                                 112\n",
       "third_party\\nquoting\\nnot_attack                          106\n",
       "third_party\\nother\\nnot_attack                             84\n",
       "recipient\\nthird_party\\nother\\nnot_attack                  61\n",
       "NaN                                                        45\n",
       "third_party\\nquoting\\nother\\nnot_attack                    39\n",
       "recipient\\nquoting\\nother\\nnot_attack                      24\n",
       "Name: is_harassment_or_attack, dtype: int64"
      ]
     },
     "execution_count": 52,
     "metadata": {},
     "output_type": "execute_result"
    }
   ],
   "source": [
    "df['is_harassment_or_attack'].value_counts(dropna=False)"
   ]
  },
  {
   "cell_type": "code",
   "execution_count": 53,
   "metadata": {
    "collapsed": false
   },
   "outputs": [
    {
     "name": "stdout",
     "output_type": "stream",
     "text": [
      "# annotations:  1383327\n"
     ]
    }
   ],
   "source": [
    "df = df.dropna(subset = ['aggression_score', 'is_harassment_or_attack'])\n",
    "print('# annotations: ', df.shape[0])"
   ]
  },
  {
   "cell_type": "markdown",
   "metadata": {},
   "source": [
    "### Tidy is_harassment_or_attack column"
   ]
  },
  {
   "cell_type": "code",
   "execution_count": 54,
   "metadata": {
    "collapsed": false
   },
   "outputs": [],
   "source": [
    "df = tidy_labels(df)"
   ]
  },
  {
   "cell_type": "markdown",
   "metadata": {},
   "source": [
    "### Remap aggression score"
   ]
  },
  {
   "cell_type": "code",
   "execution_count": 55,
   "metadata": {
    "collapsed": true
   },
   "outputs": [],
   "source": [
    "df['aggression'] = df['aggression_score'].apply(map_aggression_score_to_3class)"
   ]
  },
  {
   "cell_type": "markdown",
   "metadata": {},
   "source": [
    "### Discard nuisance columns"
   ]
  },
  {
   "cell_type": "code",
   "execution_count": 56,
   "metadata": {
    "collapsed": false
   },
   "outputs": [
    {
     "data": {
      "text/plain": [
       "Index(['_aggression_score', '_channel', '_city', '_country', '_created_at',\n",
       "       '_golden', '_id', '_ip', '_is_harassment_or_attack', '_missed', '_na',\n",
       "       '_region', '_started_at', '_tainted', '_trust', '_unit_id',\n",
       "       '_worker_id', 'aggression_score', 'aggression_score_gold',\n",
       "       'aggression_score_gold_reason', 'block_actions', 'block_params',\n",
       "       'block_reasons', 'block_timestamps', 'clean_diff', 'diff',\n",
       "       'insert_only', 'is_harassment_or_attack',\n",
       "       'is_harassment_or_attack_gold', 'is_harassment_or_attack_gold_reason',\n",
       "       'na', 'na_gold', 'na_gold_reason', 'ns', 'orig__golden', 'page_id',\n",
       "       'page_title', 'rev_comment', 'rev_id', 'rev_timestamp', 'sample', 'src',\n",
       "       'user_id', 'user_text', 'not_attack', 'other', 'quoting', 'recipient',\n",
       "       'third_party', 'attack', 'aggression'],\n",
       "      dtype='object')"
      ]
     },
     "execution_count": 56,
     "metadata": {},
     "output_type": "execute_result"
    }
   ],
   "source": [
    "df.columns"
   ]
  },
  {
   "cell_type": "code",
   "execution_count": 57,
   "metadata": {
    "collapsed": true
   },
   "outputs": [],
   "source": [
    "cols = ['rev_id', '_worker_id', 'ns', 'sample', 'src','clean_diff', 'diff', 'insert_only', 'page_id',\n",
    "       'page_title', 'rev_comment', 'rev_timestamp', \n",
    "       'user_id', 'user_text', 'not_attack', 'other', 'quoting', 'recipient',\n",
    "       'third_party', 'attack', 'aggression']"
   ]
  },
  {
   "cell_type": "code",
   "execution_count": 58,
   "metadata": {
    "collapsed": true
   },
   "outputs": [],
   "source": [
    "df = df[cols]"
   ]
  },
  {
   "cell_type": "markdown",
   "metadata": {},
   "source": [
    "### Make sure that each rev was only annotated by the same worker once"
   ]
  },
  {
   "cell_type": "code",
   "execution_count": 59,
   "metadata": {
    "collapsed": false
   },
   "outputs": [
    {
     "data": {
      "text/plain": [
       "1    1381483\n",
       "2        922\n",
       "dtype: int64"
      ]
     },
     "execution_count": 59,
     "metadata": {},
     "output_type": "execute_result"
    }
   ],
   "source": [
    "df.groupby(['rev_id', '_worker_id']).size().value_counts()"
   ]
  },
  {
   "cell_type": "code",
   "execution_count": 60,
   "metadata": {
    "collapsed": false
   },
   "outputs": [
    {
     "name": "stdout",
     "output_type": "stream",
     "text": [
      "# annotations:  1382405\n"
     ]
    }
   ],
   "source": [
    "df = df.drop_duplicates(subset = ['rev_id', '_worker_id'])\n",
    "print('# annotations: ', df.shape[0])"
   ]
  },
  {
   "cell_type": "markdown",
   "metadata": {},
   "source": [
    "### Filter out annotations for revisions with  duplicated diff content"
   ]
  },
  {
   "cell_type": "code",
   "execution_count": 61,
   "metadata": {
    "collapsed": true
   },
   "outputs": [],
   "source": [
    "comments = df.drop_duplicates(subset = ['rev_id'])"
   ]
  },
  {
   "cell_type": "code",
   "execution_count": 62,
   "metadata": {
    "collapsed": false
   },
   "outputs": [
    {
     "data": {
      "text/plain": [
       "(126318, 21)"
      ]
     },
     "execution_count": 62,
     "metadata": {},
     "output_type": "execute_result"
    }
   ],
   "source": [
    "comments.shape"
   ]
  },
  {
   "cell_type": "code",
   "execution_count": 63,
   "metadata": {
    "collapsed": false
   },
   "outputs": [],
   "source": [
    "u_comments = comments.drop_duplicates(subset = ['clean_diff'])"
   ]
  },
  {
   "cell_type": "code",
   "execution_count": 64,
   "metadata": {
    "collapsed": false
   },
   "outputs": [
    {
     "data": {
      "text/plain": [
       "(122797, 21)"
      ]
     },
     "execution_count": 64,
     "metadata": {},
     "output_type": "execute_result"
    }
   ],
   "source": [
    "u_comments.shape"
   ]
  },
  {
   "cell_type": "code",
   "execution_count": 65,
   "metadata": {
    "collapsed": false
   },
   "outputs": [
    {
     "data": {
      "text/html": [
       "<div>\n",
       "<table border=\"1\" class=\"dataframe\">\n",
       "  <thead>\n",
       "    <tr style=\"text-align: right;\">\n",
       "      <th></th>\n",
       "      <th>rev_id</th>\n",
       "      <th>_worker_id</th>\n",
       "      <th>ns</th>\n",
       "      <th>sample</th>\n",
       "      <th>src</th>\n",
       "      <th>clean_diff</th>\n",
       "      <th>diff</th>\n",
       "      <th>insert_only</th>\n",
       "      <th>page_id</th>\n",
       "      <th>page_title</th>\n",
       "      <th>...</th>\n",
       "      <th>rev_timestamp</th>\n",
       "      <th>user_id</th>\n",
       "      <th>user_text</th>\n",
       "      <th>not_attack</th>\n",
       "      <th>other</th>\n",
       "      <th>quoting</th>\n",
       "      <th>recipient</th>\n",
       "      <th>third_party</th>\n",
       "      <th>attack</th>\n",
       "      <th>aggression</th>\n",
       "    </tr>\n",
       "  </thead>\n",
       "  <tbody>\n",
       "    <tr>\n",
       "      <th>4900</th>\n",
       "      <td>463400836</td>\n",
       "      <td>36261795</td>\n",
       "      <td>user</td>\n",
       "      <td>blocked</td>\n",
       "      <td>annotated_onion_layer_5_rows_0_to_5000_raters_20</td>\n",
       "      <td>Go back to school. \\n\\nDo us all a favour and...</td>\n",
       "      <td>NEWLINENEWLINE== Go back to school. ==NEWLINEN...</td>\n",
       "      <td>0</td>\n",
       "      <td>17796754</td>\n",
       "      <td>KorinoChikara</td>\n",
       "      <td>...</td>\n",
       "      <td>2011-12-01T01:56:18Z</td>\n",
       "      <td>NaN</td>\n",
       "      <td>86.182.92.47</td>\n",
       "      <td>0.0</td>\n",
       "      <td>0.0</td>\n",
       "      <td>0.0</td>\n",
       "      <td>1.0</td>\n",
       "      <td>0.0</td>\n",
       "      <td>1.0</td>\n",
       "      <td>0</td>\n",
       "    </tr>\n",
       "    <tr>\n",
       "      <th>15480</th>\n",
       "      <td>174209550</td>\n",
       "      <td>33249231</td>\n",
       "      <td>user</td>\n",
       "      <td>blocked</td>\n",
       "      <td>annotated_onion_layer_5_rows_0_to_5000_raters_20</td>\n",
       "      <td>,\\nBILLCJ's Mom, she's a big fat, fucking bitc...</td>\n",
       "      <td>,NEWLINEBILLCJ's Mom, she's a big fat, fucking...</td>\n",
       "      <td>0</td>\n",
       "      <td>14456793</td>\n",
       "      <td>FBillCJ</td>\n",
       "      <td>...</td>\n",
       "      <td>2007-11-27T20:41:19Z</td>\n",
       "      <td>5901637.0</td>\n",
       "      <td>FBillCJ</td>\n",
       "      <td>0.0</td>\n",
       "      <td>0.0</td>\n",
       "      <td>0.0</td>\n",
       "      <td>1.0</td>\n",
       "      <td>0.0</td>\n",
       "      <td>1.0</td>\n",
       "      <td>0</td>\n",
       "    </tr>\n",
       "    <tr>\n",
       "      <th>17080</th>\n",
       "      <td>416340929</td>\n",
       "      <td>15723827</td>\n",
       "      <td>user</td>\n",
       "      <td>blocked</td>\n",
       "      <td>annotated_onion_layer_5_rows_0_to_5000_raters_20</td>\n",
       "      <td>Please refrain from unmaking unconstructive ed...</td>\n",
       "      <td>NEWLINENEWLINEPlease refrain from unmaking unc...</td>\n",
       "      <td>0</td>\n",
       "      <td>17950293</td>\n",
       "      <td>Bongwarrior</td>\n",
       "      <td>...</td>\n",
       "      <td>2011-02-28T07:25:08Z</td>\n",
       "      <td>NaN</td>\n",
       "      <td>72.19.141.132</td>\n",
       "      <td>1.0</td>\n",
       "      <td>0.0</td>\n",
       "      <td>0.0</td>\n",
       "      <td>0.0</td>\n",
       "      <td>0.0</td>\n",
       "      <td>0.0</td>\n",
       "      <td>1</td>\n",
       "    </tr>\n",
       "    <tr>\n",
       "      <th>18260</th>\n",
       "      <td>375652060</td>\n",
       "      <td>15577915</td>\n",
       "      <td>user</td>\n",
       "      <td>blocked</td>\n",
       "      <td>annotated_onion_layer_5_rows_0_to_5000_raters_20</td>\n",
       "      <td>(unless they relate to my hatred of Arabs)</td>\n",
       "      <td>(unless they relate to my hatred of Arabs)</td>\n",
       "      <td>0</td>\n",
       "      <td>18242559</td>\n",
       "      <td>Jayjg/Archive 38</td>\n",
       "      <td>...</td>\n",
       "      <td>2010-07-27T01:17:08Z</td>\n",
       "      <td>NaN</td>\n",
       "      <td>58.8.11.75</td>\n",
       "      <td>0.0</td>\n",
       "      <td>0.0</td>\n",
       "      <td>0.0</td>\n",
       "      <td>0.0</td>\n",
       "      <td>1.0</td>\n",
       "      <td>1.0</td>\n",
       "      <td>0</td>\n",
       "    </tr>\n",
       "    <tr>\n",
       "      <th>20480</th>\n",
       "      <td>553765001</td>\n",
       "      <td>36374950</td>\n",
       "      <td>user</td>\n",
       "      <td>blocked</td>\n",
       "      <td>annotated_onion_layer_5_rows_0_to_5000_raters_20</td>\n",
       "      <td>Complaint about Biruitorul \\n\\nGreetings, Mat...</td>\n",
       "      <td>NEWLINENEWLINE== Complaint about Biruitorul ==...</td>\n",
       "      <td>0</td>\n",
       "      <td>9870625</td>\n",
       "      <td>Jimbo Wales</td>\n",
       "      <td>...</td>\n",
       "      <td>2013-05-06T11:40:42Z</td>\n",
       "      <td>18959131.0</td>\n",
       "      <td>Minceeed</td>\n",
       "      <td>1.0</td>\n",
       "      <td>0.0</td>\n",
       "      <td>0.0</td>\n",
       "      <td>0.0</td>\n",
       "      <td>0.0</td>\n",
       "      <td>0.0</td>\n",
       "      <td>1</td>\n",
       "    </tr>\n",
       "  </tbody>\n",
       "</table>\n",
       "<p>5 rows × 21 columns</p>\n",
       "</div>"
      ],
      "text/plain": [
       "          rev_id  _worker_id    ns   sample  \\\n",
       "4900   463400836    36261795  user  blocked   \n",
       "15480  174209550    33249231  user  blocked   \n",
       "17080  416340929    15723827  user  blocked   \n",
       "18260  375652060    15577915  user  blocked   \n",
       "20480  553765001    36374950  user  blocked   \n",
       "\n",
       "                                                    src  \\\n",
       "4900   annotated_onion_layer_5_rows_0_to_5000_raters_20   \n",
       "15480  annotated_onion_layer_5_rows_0_to_5000_raters_20   \n",
       "17080  annotated_onion_layer_5_rows_0_to_5000_raters_20   \n",
       "18260  annotated_onion_layer_5_rows_0_to_5000_raters_20   \n",
       "20480  annotated_onion_layer_5_rows_0_to_5000_raters_20   \n",
       "\n",
       "                                              clean_diff  \\\n",
       "4900    Go back to school. \\n\\nDo us all a favour and...   \n",
       "15480  ,\\nBILLCJ's Mom, she's a big fat, fucking bitc...   \n",
       "17080  Please refrain from unmaking unconstructive ed...   \n",
       "18260         (unless they relate to my hatred of Arabs)   \n",
       "20480   Complaint about Biruitorul \\n\\nGreetings, Mat...   \n",
       "\n",
       "                                                    diff  insert_only  \\\n",
       "4900   NEWLINENEWLINE== Go back to school. ==NEWLINEN...            0   \n",
       "15480  ,NEWLINEBILLCJ's Mom, she's a big fat, fucking...            0   \n",
       "17080  NEWLINENEWLINEPlease refrain from unmaking unc...            0   \n",
       "18260         (unless they relate to my hatred of Arabs)            0   \n",
       "20480  NEWLINENEWLINE== Complaint about Biruitorul ==...            0   \n",
       "\n",
       "        page_id        page_title     ...             rev_timestamp  \\\n",
       "4900   17796754     KorinoChikara     ...      2011-12-01T01:56:18Z   \n",
       "15480  14456793           FBillCJ     ...      2007-11-27T20:41:19Z   \n",
       "17080  17950293       Bongwarrior     ...      2011-02-28T07:25:08Z   \n",
       "18260  18242559  Jayjg/Archive 38     ...      2010-07-27T01:17:08Z   \n",
       "20480   9870625       Jimbo Wales     ...      2013-05-06T11:40:42Z   \n",
       "\n",
       "          user_id      user_text not_attack  other  quoting  recipient  \\\n",
       "4900          NaN   86.182.92.47        0.0    0.0      0.0        1.0   \n",
       "15480   5901637.0        FBillCJ        0.0    0.0      0.0        1.0   \n",
       "17080         NaN  72.19.141.132        1.0    0.0      0.0        0.0   \n",
       "18260         NaN     58.8.11.75        0.0    0.0      0.0        0.0   \n",
       "20480  18959131.0       Minceeed        1.0    0.0      0.0        0.0   \n",
       "\n",
       "       third_party  attack  aggression  \n",
       "4900           0.0     1.0           0  \n",
       "15480          0.0     1.0           0  \n",
       "17080          0.0     0.0           1  \n",
       "18260          1.0     1.0           0  \n",
       "20480          0.0     0.0           1  \n",
       "\n",
       "[5 rows x 21 columns]"
      ]
     },
     "execution_count": 65,
     "metadata": {},
     "output_type": "execute_result"
    }
   ],
   "source": [
    "comments[comments.duplicated(subset = ['clean_diff'])].head()"
   ]
  },
  {
   "cell_type": "code",
   "execution_count": 66,
   "metadata": {
    "collapsed": false
   },
   "outputs": [
    {
     "name": "stdout",
     "output_type": "stream",
     "text": [
      "# annotations:  1346904\n"
     ]
    }
   ],
   "source": [
    "df = df.merge(u_comments[['rev_id']], how = 'inner', on = 'rev_id')\n",
    "print('# annotations: ', df.shape[0])"
   ]
  },
  {
   "cell_type": "markdown",
   "metadata": {},
   "source": [
    "### Check that labels are not None"
   ]
  },
  {
   "cell_type": "code",
   "execution_count": 67,
   "metadata": {
    "collapsed": false
   },
   "outputs": [
    {
     "data": {
      "text/plain": [
       "0.0    1170677\n",
       "1.0     176227\n",
       "Name: recipient, dtype: int64"
      ]
     },
     "execution_count": 67,
     "metadata": {},
     "output_type": "execute_result"
    }
   ],
   "source": [
    "df['recipient'].value_counts(dropna=False)"
   ]
  },
  {
   "cell_type": "code",
   "execution_count": 68,
   "metadata": {
    "collapsed": false
   },
   "outputs": [
    {
     "data": {
      "text/plain": [
       "0.0    1081700\n",
       "1.0     265204\n",
       "Name: attack, dtype: int64"
      ]
     },
     "execution_count": 68,
     "metadata": {},
     "output_type": "execute_result"
    }
   ],
   "source": [
    "df['attack'].value_counts(dropna=False)"
   ]
  },
  {
   "cell_type": "code",
   "execution_count": 69,
   "metadata": {
    "collapsed": false
   },
   "outputs": [
    {
     "data": {
      "text/plain": [
       "1    960754\n",
       "0    262716\n",
       "2    123434\n",
       "Name: aggression, dtype: int64"
      ]
     },
     "execution_count": 69,
     "metadata": {},
     "output_type": "execute_result"
    }
   ],
   "source": [
    "df['aggression'].value_counts(dropna=False)"
   ]
  },
  {
   "cell_type": "markdown",
   "metadata": {},
   "source": [
    "### Remove annotations from all revisions that were annotated less than 8 times"
   ]
  },
  {
   "cell_type": "code",
   "execution_count": 70,
   "metadata": {
    "collapsed": false
   },
   "outputs": [],
   "source": [
    "counts = df['rev_id'].value_counts().to_frame()\n",
    "counts.columns = ['n']\n",
    "counts['rev_id'] = counts.index"
   ]
  },
  {
   "cell_type": "code",
   "execution_count": 71,
   "metadata": {
    "collapsed": false
   },
   "outputs": [
    {
     "data": {
      "text/plain": [
       "(122797, 2)"
      ]
     },
     "execution_count": 71,
     "metadata": {},
     "output_type": "execute_result"
    }
   ],
   "source": [
    "counts.shape"
   ]
  },
  {
   "cell_type": "code",
   "execution_count": 72,
   "metadata": {
    "collapsed": false
   },
   "outputs": [
    {
     "data": {
      "text/plain": [
       "10    100865\n",
       "9       6647\n",
       "20      4465\n",
       "30      3690\n",
       "7       3034\n",
       "29       904\n",
       "8        856\n",
       "6        475\n",
       "19       416\n",
       "4        224\n",
       "2        219\n",
       "5        206\n",
       "3        199\n",
       "1        184\n",
       "28       149\n",
       "18        52\n",
       "31        46\n",
       "27        42\n",
       "17        20\n",
       "14        13\n",
       "16        12\n",
       "26        12\n",
       "25        11\n",
       "15         9\n",
       "40         8\n",
       "13         7\n",
       "23         7\n",
       "11         5\n",
       "24         5\n",
       "21         4\n",
       "12         4\n",
       "38         3\n",
       "22         2\n",
       "39         1\n",
       "50         1\n",
       "Name: n, dtype: int64"
      ]
     },
     "execution_count": 72,
     "metadata": {},
     "output_type": "execute_result"
    }
   ],
   "source": [
    "counts['n'].value_counts()"
   ]
  },
  {
   "cell_type": "code",
   "execution_count": 73,
   "metadata": {
    "collapsed": false
   },
   "outputs": [],
   "source": [
    "counts_enough = counts.query(\"n>=8\")"
   ]
  },
  {
   "cell_type": "code",
   "execution_count": 74,
   "metadata": {
    "collapsed": false
   },
   "outputs": [
    {
     "data": {
      "text/plain": [
       "(118256, 2)"
      ]
     },
     "execution_count": 74,
     "metadata": {},
     "output_type": "execute_result"
    }
   ],
   "source": [
    "counts_enough.shape"
   ]
  },
  {
   "cell_type": "code",
   "execution_count": 75,
   "metadata": {
    "collapsed": false
   },
   "outputs": [
    {
     "name": "stdout",
     "output_type": "stream",
     "text": [
      "# annotations:  1319671\n"
     ]
    }
   ],
   "source": [
    "df = df.merge(counts_enough[['rev_id']], how = 'inner', on = 'rev_id')\n",
    "print('# annotations: ', df.shape[0])"
   ]
  },
  {
   "cell_type": "markdown",
   "metadata": {},
   "source": [
    "### Summary Stats"
   ]
  },
  {
   "cell_type": "code",
   "execution_count": 76,
   "metadata": {
    "collapsed": false
   },
   "outputs": [
    {
     "data": {
      "text/plain": [
       "ns       sample \n",
       "article  blocked    316377\n",
       "         random     196748\n",
       "user     blocked    565576\n",
       "         random     240970\n",
       "dtype: int64"
      ]
     },
     "execution_count": 76,
     "metadata": {},
     "output_type": "execute_result"
    }
   ],
   "source": [
    "df.groupby(['ns', 'sample']).size()"
   ]
  },
  {
   "cell_type": "code",
   "execution_count": 87,
   "metadata": {
    "collapsed": false
   },
   "outputs": [],
   "source": [
    "df.to_csv('../../data/annotations/clean/annotations.tsv', index=False, sep='\\t')"
   ]
  },
  {
   "cell_type": "code",
   "execution_count": 88,
   "metadata": {
    "collapsed": false
   },
   "outputs": [
    {
     "data": {
      "text/plain": [
       "(1319671, 21)"
      ]
     },
     "execution_count": 88,
     "metadata": {},
     "output_type": "execute_result"
    }
   ],
   "source": [
    "pd.read_csv('../../data/annotations/clean/annotations.tsv', sep='\\t').shape"
   ]
  }
 ],
 "metadata": {
  "kernelspec": {
   "display_name": "Python 3",
   "language": "python",
   "name": "python3"
  },
  "language_info": {
   "codemirror_mode": {
    "name": "ipython",
    "version": 3
   },
   "file_extension": ".py",
   "mimetype": "text/x-python",
   "name": "python",
   "nbconvert_exporter": "python",
   "pygments_lexer": "ipython3",
   "version": "3.5.1"
  }
 },
 "nbformat": 4,
 "nbformat_minor": 0
}
