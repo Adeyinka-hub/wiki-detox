{
 "cells": [
  {
   "cell_type": "code",
   "execution_count": 1,
   "metadata": {
    "collapsed": false
   },
   "outputs": [],
   "source": [
    "%load_ext autoreload\n",
    "%autoreload 2\n",
    "%matplotlib inline"
   ]
  },
  {
   "cell_type": "code",
   "execution_count": 2,
   "metadata": {
    "collapsed": false
   },
   "outputs": [
    {
     "name": "stderr",
     "output_type": "stream",
     "text": [
      "/Users/ellerywulczyn/miniconda3/lib/python3.5/site-packages/sklearn/cross_validation.py:43: DeprecationWarning: This module was deprecated in version 0.18 in favor of the model_selection module into which all the refactored classes and functions are moved. Also note that the interface of the new CV iterators are different from that of this module. This module will be removed in 0.20.\n",
      "  \"This module will be removed in 0.20.\", DeprecationWarning)\n"
     ]
    }
   ],
   "source": [
    "from baselines import remove_na, tidy_labels, map_aggression_score_to_2class\n",
    "import pandas as pd"
   ]
  },
  {
   "cell_type": "markdown",
   "metadata": {},
   "source": [
    "#  Clean Raw Annotations"
   ]
  },
  {
   "cell_type": "markdown",
   "metadata": {},
   "source": [
    "### Load raw  annotations"
   ]
  },
  {
   "cell_type": "code",
   "execution_count": 3,
   "metadata": {
    "collapsed": false
   },
   "outputs": [
    {
     "name": "stdout",
     "output_type": "stream",
     "text": [
      "# annotations:  1524236\n"
     ]
    }
   ],
   "source": [
    "\"\"\"\n",
    "# v4_annotated\n",
    "user_blocked = [\n",
    "                'annotated_onion_layer_5_rows_0_to_5000_raters_20',     \n",
    "                'annotated_onion_layer_5_rows_0_to_10000',             \n",
    "                'annotated_onion_layer_5_rows_0_to_10000_raters_3',          \n",
    "                'annotated_onion_layer_5_rows_10000_to_50526_raters_10',\n",
    "                'annotated_onion_layer_10_rows_0_to_1000',              \n",
    "                'annotated_onion_layer_20_rows_0_to_1000',              \n",
    "                'annotated_onion_layer_30_rows_0_to_1000',              \n",
    "]\n",
    "\n",
    "user_random = [\n",
    "            'annotated_random_data_rows_0_to_5000_raters_20',\n",
    "            'annotated_random_data_rows_5000_to_10000',\n",
    "            'annotated_random_data_rows_5000_to_10000_raters_3',\n",
    "            'annotated_random_data_rows_10000_to_20000_raters_10',\n",
    "]\n",
    "\n",
    "article_blocked = ['article_onion_layer_5_all_rows_raters_10',]\n",
    "article_random = ['article_random_data_all_rows_raters_10',]\n",
    "\"\"\"\n",
    "\n",
    "user_blocked = [\n",
    "            'user_blocked',\n",
    "            'user_blocked_2',\n",
    "            'user_blocked_3',\n",
    "            'user_blocked_4',\n",
    "            'user_blocked_layer_10',\n",
    "            'user_blocked_layer_20',\n",
    "            'user_blocked_layer_30',\n",
    "]\n",
    "\n",
    "user_random = [\n",
    "            'user_random',\n",
    "            'user_random_2',\n",
    "            'user_random_3',\n",
    "            'user_random_4',\n",
    "            'user_random_extra_baselines',\n",
    "\n",
    "]\n",
    "\n",
    "article_blocked = [ 'article_blocked',\n",
    "                    'article_blocked_layer_5_extra_baselines' ]\n",
    "\n",
    "\n",
    "article_random = ['article_random',\n",
    "                  'article_random_extra_baselines']\n",
    "\n",
    "\n",
    "\n",
    "files = {\n",
    "    'user': {'blocked': user_blocked, 'random': user_random},\n",
    "    'article': {'blocked': article_blocked, 'random': article_random}\n",
    "}\n",
    "\n",
    "\n",
    "dfs = []\n",
    "\n",
    "for ns, d in files.items():\n",
    "    for sample, files in  d.items():\n",
    "        for f in files:\n",
    "            df = pd.read_csv('../../data/annotations/raw/%s/%s.csv' % (ns,f))\n",
    "            df['src'] = f\n",
    "            df['ns'] = ns\n",
    "            df['sample'] = sample\n",
    "            dfs.append(df)\n",
    "df = pd.concat(dfs)\n",
    "print('# annotations: ', df.shape[0])"
   ]
  },
  {
   "cell_type": "markdown",
   "metadata": {},
   "source": [
    "### Tidy is_harassment_or_attack column"
   ]
  },
  {
   "cell_type": "code",
   "execution_count": 4,
   "metadata": {
    "collapsed": true
   },
   "outputs": [],
   "source": [
    "df = tidy_labels(df)"
   ]
  },
  {
   "cell_type": "markdown",
   "metadata": {},
   "source": [
    "### Remap aggression score"
   ]
  },
  {
   "cell_type": "code",
   "execution_count": 5,
   "metadata": {
    "collapsed": true
   },
   "outputs": [],
   "source": [
    "df['aggression'] = df['aggression_score'].apply(map_aggression_score_to_2class)"
   ]
  },
  {
   "cell_type": "markdown",
   "metadata": {},
   "source": [
    "### Remove answers to test questions"
   ]
  },
  {
   "cell_type": "code",
   "execution_count": 6,
   "metadata": {
    "collapsed": false
   },
   "outputs": [
    {
     "name": "stdout",
     "output_type": "stream",
     "text": [
      "# annotations:  1524236\n"
     ]
    }
   ],
   "source": [
    "df = df.query('_golden == False')\n",
    "print('# annotations: ', df.shape[0])"
   ]
  },
  {
   "cell_type": "markdown",
   "metadata": {},
   "source": [
    "### Remove annotations where revision could not be read"
   ]
  },
  {
   "cell_type": "code",
   "execution_count": 7,
   "metadata": {
    "collapsed": false
   },
   "outputs": [
    {
     "name": "stdout",
     "output_type": "stream",
     "text": [
      "# annotations:  1515797\n"
     ]
    }
   ],
   "source": [
    "# remove all annotations for a revisions where more than 50% of annotators for that revision could not read the comment\n",
    "df = remove_na(df)\n",
    "print('# annotations: ', df.shape[0])"
   ]
  },
  {
   "cell_type": "code",
   "execution_count": 8,
   "metadata": {
    "collapsed": false
   },
   "outputs": [
    {
     "name": "stdout",
     "output_type": "stream",
     "text": [
      "# annotations:  1501362\n"
     ]
    }
   ],
   "source": [
    "# remove all annotations where the annotator could not read the comment\n",
    "df = df.query('na==False')\n",
    "print('# annotations: ', df.shape[0])"
   ]
  },
  {
   "cell_type": "markdown",
   "metadata": {},
   "source": [
    "### Examine aggression_score or is_harassment_or_attack input"
   ]
  },
  {
   "cell_type": "code",
   "execution_count": 9,
   "metadata": {
    "collapsed": false
   },
   "outputs": [
    {
     "data": {
      "text/plain": [
       " 0.0    1081946\n",
       "-1.0     144082\n",
       " 1.0      92396\n",
       "-3.0      74164\n",
       "-2.0      66157\n",
       " 2.0      29830\n",
       " 3.0      11896\n",
       "NaN         891\n",
       "Name: aggression_score, dtype: int64"
      ]
     },
     "execution_count": 9,
     "metadata": {},
     "output_type": "execute_result"
    }
   ],
   "source": [
    "df['aggression_score'].value_counts(dropna=False)"
   ]
  },
  {
   "cell_type": "code",
   "execution_count": 10,
   "metadata": {
    "collapsed": false
   },
   "outputs": [
    {
     "data": {
      "text/plain": [
       "not_attack                                            1213638\n",
       "recipient                                              150883\n",
       "other                                                   40456\n",
       "third_party                                             33542\n",
       "recipient\\nthird_party                                  10063\n",
       "other\\nnot_attack                                        9290\n",
       "recipient\\nnot_attack                                    6964\n",
       "quoting                                                  6585\n",
       "recipient\\nthird_party\\nquoting\\nother\\nnot_attack       5980\n",
       "recipient\\nother                                         4404\n",
       "recipient\\nthird_party\\nquoting\\nother                   2513\n",
       "recipient\\nthird_party\\nnot_attack                       2497\n",
       "third_party\\nother                                       1900\n",
       "recipient\\nthird_party\\nother                            1861\n",
       "quoting\\nnot_attack                                      1624\n",
       "recipient\\nthird_party\\nquoting                          1611\n",
       "recipient\\nthird_party\\nquoting\\nnot_attack              1389\n",
       "third_party\\nnot_attack                                  1298\n",
       "quoting\\nother\\nnot_attack                               1228\n",
       "recipient\\nother\\nnot_attack                              831\n",
       "quoting\\nother                                            641\n",
       "third_party\\nquoting                                      605\n",
       "recipient\\nquoting                                        475\n",
       "third_party\\nquoting\\nother                               361\n",
       "recipient\\nquoting\\nnot_attack                            212\n",
       "recipient\\nquoting\\nother                                 129\n",
       "third_party\\nquoting\\nnot_attack                          117\n",
       "third_party\\nother\\nnot_attack                             89\n",
       "recipient\\nthird_party\\nother\\nnot_attack                  66\n",
       "NaN                                                        41\n",
       "third_party\\nquoting\\nother\\nnot_attack                    38\n",
       "recipient\\nquoting\\nother\\nnot_attack                      31\n",
       "Name: is_harassment_or_attack, dtype: int64"
      ]
     },
     "execution_count": 10,
     "metadata": {},
     "output_type": "execute_result"
    }
   ],
   "source": [
    "df['is_harassment_or_attack'].value_counts(dropna=False)"
   ]
  },
  {
   "cell_type": "markdown",
   "metadata": {},
   "source": [
    "### Drop NAs in aggression_score or is_harassment_or_attack input"
   ]
  },
  {
   "cell_type": "code",
   "execution_count": 11,
   "metadata": {
    "collapsed": false
   },
   "outputs": [
    {
     "name": "stdout",
     "output_type": "stream",
     "text": [
      "# annotations:  1500430\n"
     ]
    }
   ],
   "source": [
    "df = df.dropna(subset = ['aggression_score', 'is_harassment_or_attack'])\n",
    "print('# annotations: ', df.shape[0])"
   ]
  },
  {
   "cell_type": "markdown",
   "metadata": {},
   "source": [
    "### Remove ambivalent is_harassment_or_attack annotations\n",
    "\n",
    "An annotations is ambivalent if it was labeled as both an attack and not an attack"
   ]
  },
  {
   "cell_type": "code",
   "execution_count": 12,
   "metadata": {
    "collapsed": false
   },
   "outputs": [
    {
     "name": "stdout",
     "output_type": "stream",
     "text": [
      "# annotations:  1439009\n"
     ]
    }
   ],
   "source": [
    "# remove all annotations from users who are ambivalent in 10% or more of revisions\n",
    "# we consider these users unreliable\n",
    "def ambivalent(s):\n",
    "    return 'not_attack' in s and s!= 'not_attack'\n",
    "df['ambivalent'] = df['is_harassment_or_attack'].apply(ambivalent)\n",
    "non_ambivalent_workers = df.groupby('_worker_id', as_index = False)['ambivalent'].mean().query('ambivalent < 0.1')\n",
    "df = df.merge(non_ambivalent_workers[['_worker_id']], how = 'inner', on = '_worker_id')\n",
    "print('# annotations: ', df.shape[0])"
   ]
  },
  {
   "cell_type": "code",
   "execution_count": 13,
   "metadata": {
    "collapsed": false
   },
   "outputs": [
    {
     "name": "stdout",
     "output_type": "stream",
     "text": [
      "# annotations:  1434118\n"
     ]
    }
   ],
   "source": [
    "# remove all other ambivalent annotations\n",
    "df = df.query('ambivalent==False')\n",
    "print('# annotations: ', df.shape[0])"
   ]
  },
  {
   "cell_type": "markdown",
   "metadata": {},
   "source": [
    "### Make sure that each rev was only annotated by the same worker once"
   ]
  },
  {
   "cell_type": "code",
   "execution_count": 14,
   "metadata": {
    "collapsed": false
   },
   "outputs": [
    {
     "data": {
      "text/plain": [
       "1    1431360\n",
       "2       1379\n",
       "dtype: int64"
      ]
     },
     "execution_count": 14,
     "metadata": {},
     "output_type": "execute_result"
    }
   ],
   "source": [
    "df.groupby(['rev_id', '_worker_id']).size().value_counts()"
   ]
  },
  {
   "cell_type": "code",
   "execution_count": 15,
   "metadata": {
    "collapsed": false
   },
   "outputs": [
    {
     "name": "stdout",
     "output_type": "stream",
     "text": [
      "# annotations:  1432739\n"
     ]
    }
   ],
   "source": [
    "df = df.drop_duplicates(subset = ['rev_id', '_worker_id'])\n",
    "print('# annotations: ', df.shape[0])"
   ]
  },
  {
   "cell_type": "markdown",
   "metadata": {},
   "source": [
    "### Filter out annotations for revisions with  duplicated diff content"
   ]
  },
  {
   "cell_type": "code",
   "execution_count": 16,
   "metadata": {
    "collapsed": false
   },
   "outputs": [
    {
     "name": "stdout",
     "output_type": "stream",
     "text": [
      "124591\n"
     ]
    }
   ],
   "source": [
    "comments = df.drop_duplicates(subset = ['rev_id'])\n",
    "print(comments.shape[0])"
   ]
  },
  {
   "cell_type": "code",
   "execution_count": 17,
   "metadata": {
    "collapsed": false
   },
   "outputs": [
    {
     "name": "stdout",
     "output_type": "stream",
     "text": [
      "121110\n"
     ]
    }
   ],
   "source": [
    "u_comments = comments.drop_duplicates(subset = ['clean_diff'])\n",
    "print(u_comments.shape[0])"
   ]
  },
  {
   "cell_type": "code",
   "execution_count": 18,
   "metadata": {
    "collapsed": false
   },
   "outputs": [
    {
     "data": {
      "text/html": [
       "<div>\n",
       "<table border=\"1\" class=\"dataframe\">\n",
       "  <thead>\n",
       "    <tr style=\"text-align: right;\">\n",
       "      <th></th>\n",
       "      <th>_aggression_score</th>\n",
       "      <th>_channel</th>\n",
       "      <th>_city</th>\n",
       "      <th>_country</th>\n",
       "      <th>_created_at</th>\n",
       "      <th>_golden</th>\n",
       "      <th>_id</th>\n",
       "      <th>_ip</th>\n",
       "      <th>_is_harassment_or_attack</th>\n",
       "      <th>_missed</th>\n",
       "      <th>...</th>\n",
       "      <th>user_id</th>\n",
       "      <th>user_text</th>\n",
       "      <th>not_attack</th>\n",
       "      <th>other</th>\n",
       "      <th>quoting</th>\n",
       "      <th>recipient</th>\n",
       "      <th>third_party</th>\n",
       "      <th>attack</th>\n",
       "      <th>aggression</th>\n",
       "      <th>ambivalent</th>\n",
       "    </tr>\n",
       "  </thead>\n",
       "  <tbody>\n",
       "    <tr>\n",
       "      <th>1915</th>\n",
       "      <td>NaN</td>\n",
       "      <td>elite</td>\n",
       "      <td>Ranaghat</td>\n",
       "      <td>IND</td>\n",
       "      <td>5/25/2016 17:25:12</td>\n",
       "      <td>False</td>\n",
       "      <td>1999559134</td>\n",
       "      <td>202.142.114.58</td>\n",
       "      <td>NaN</td>\n",
       "      <td>NaN</td>\n",
       "      <td>...</td>\n",
       "      <td>20239661.0</td>\n",
       "      <td>Blobr186</td>\n",
       "      <td>1.0</td>\n",
       "      <td>0.0</td>\n",
       "      <td>0.0</td>\n",
       "      <td>0.0</td>\n",
       "      <td>0.0</td>\n",
       "      <td>0.0</td>\n",
       "      <td>0.0</td>\n",
       "      <td>False</td>\n",
       "    </tr>\n",
       "    <tr>\n",
       "      <th>3714</th>\n",
       "      <td>NaN</td>\n",
       "      <td>tremorgames</td>\n",
       "      <td>Paris</td>\n",
       "      <td>FRA</td>\n",
       "      <td>5/8/2016 14:10:51</td>\n",
       "      <td>False</td>\n",
       "      <td>1979134762</td>\n",
       "      <td>82.234.241.249</td>\n",
       "      <td>NaN</td>\n",
       "      <td>NaN</td>\n",
       "      <td>...</td>\n",
       "      <td>NaN</td>\n",
       "      <td>194.144.111.210</td>\n",
       "      <td>1.0</td>\n",
       "      <td>0.0</td>\n",
       "      <td>0.0</td>\n",
       "      <td>0.0</td>\n",
       "      <td>0.0</td>\n",
       "      <td>0.0</td>\n",
       "      <td>0.0</td>\n",
       "      <td>False</td>\n",
       "    </tr>\n",
       "    <tr>\n",
       "      <th>3884</th>\n",
       "      <td>NaN</td>\n",
       "      <td>tremorgames</td>\n",
       "      <td>Paris</td>\n",
       "      <td>FRA</td>\n",
       "      <td>4/15/2016 13:57:26</td>\n",
       "      <td>False</td>\n",
       "      <td>1960392600</td>\n",
       "      <td>82.234.241.249</td>\n",
       "      <td>NaN</td>\n",
       "      <td>NaN</td>\n",
       "      <td>...</td>\n",
       "      <td>7116643.0</td>\n",
       "      <td>Artimes623</td>\n",
       "      <td>0.0</td>\n",
       "      <td>0.0</td>\n",
       "      <td>0.0</td>\n",
       "      <td>1.0</td>\n",
       "      <td>0.0</td>\n",
       "      <td>1.0</td>\n",
       "      <td>1.0</td>\n",
       "      <td>False</td>\n",
       "    </tr>\n",
       "    <tr>\n",
       "      <th>4220</th>\n",
       "      <td>NaN</td>\n",
       "      <td>neodev</td>\n",
       "      <td>Maracay</td>\n",
       "      <td>VEN</td>\n",
       "      <td>6/13/2016 19:32:33</td>\n",
       "      <td>False</td>\n",
       "      <td>2020027603</td>\n",
       "      <td>186.92.252.244</td>\n",
       "      <td>NaN</td>\n",
       "      <td>NaN</td>\n",
       "      <td>...</td>\n",
       "      <td>8774126.0</td>\n",
       "      <td>Sirgreene</td>\n",
       "      <td>0.0</td>\n",
       "      <td>0.0</td>\n",
       "      <td>0.0</td>\n",
       "      <td>1.0</td>\n",
       "      <td>0.0</td>\n",
       "      <td>1.0</td>\n",
       "      <td>1.0</td>\n",
       "      <td>False</td>\n",
       "    </tr>\n",
       "    <tr>\n",
       "      <th>4407</th>\n",
       "      <td>NaN</td>\n",
       "      <td>neodev</td>\n",
       "      <td>Barquisimeto</td>\n",
       "      <td>VEN</td>\n",
       "      <td>8/5/2016 02:11:27</td>\n",
       "      <td>False</td>\n",
       "      <td>2075857609</td>\n",
       "      <td>186.93.179.64</td>\n",
       "      <td>NaN</td>\n",
       "      <td>NaN</td>\n",
       "      <td>...</td>\n",
       "      <td>NaN</td>\n",
       "      <td>32.172.151.109</td>\n",
       "      <td>1.0</td>\n",
       "      <td>0.0</td>\n",
       "      <td>0.0</td>\n",
       "      <td>0.0</td>\n",
       "      <td>0.0</td>\n",
       "      <td>0.0</td>\n",
       "      <td>0.0</td>\n",
       "      <td>False</td>\n",
       "    </tr>\n",
       "  </tbody>\n",
       "</table>\n",
       "<p>5 rows × 52 columns</p>\n",
       "</div>"
      ],
      "text/plain": [
       "      _aggression_score     _channel         _city _country  \\\n",
       "1915                NaN        elite      Ranaghat      IND   \n",
       "3714                NaN  tremorgames         Paris      FRA   \n",
       "3884                NaN  tremorgames         Paris      FRA   \n",
       "4220                NaN       neodev       Maracay      VEN   \n",
       "4407                NaN       neodev  Barquisimeto      VEN   \n",
       "\n",
       "             _created_at _golden         _id             _ip  \\\n",
       "1915  5/25/2016 17:25:12   False  1999559134  202.142.114.58   \n",
       "3714   5/8/2016 14:10:51   False  1979134762  82.234.241.249   \n",
       "3884  4/15/2016 13:57:26   False  1960392600  82.234.241.249   \n",
       "4220  6/13/2016 19:32:33   False  2020027603  186.92.252.244   \n",
       "4407   8/5/2016 02:11:27   False  2075857609   186.93.179.64   \n",
       "\n",
       "      _is_harassment_or_attack  _missed     ...         user_id  \\\n",
       "1915                       NaN      NaN     ...      20239661.0   \n",
       "3714                       NaN      NaN     ...             NaN   \n",
       "3884                       NaN      NaN     ...       7116643.0   \n",
       "4220                       NaN      NaN     ...       8774126.0   \n",
       "4407                       NaN      NaN     ...             NaN   \n",
       "\n",
       "            user_text not_attack other  quoting  recipient  third_party  \\\n",
       "1915         Blobr186        1.0   0.0      0.0        0.0          0.0   \n",
       "3714  194.144.111.210        1.0   0.0      0.0        0.0          0.0   \n",
       "3884       Artimes623        0.0   0.0      0.0        1.0          0.0   \n",
       "4220        Sirgreene        0.0   0.0      0.0        1.0          0.0   \n",
       "4407   32.172.151.109        1.0   0.0      0.0        0.0          0.0   \n",
       "\n",
       "      attack  aggression  ambivalent  \n",
       "1915     0.0         0.0       False  \n",
       "3714     0.0         0.0       False  \n",
       "3884     1.0         1.0       False  \n",
       "4220     1.0         1.0       False  \n",
       "4407     0.0         0.0       False  \n",
       "\n",
       "[5 rows x 52 columns]"
      ]
     },
     "execution_count": 18,
     "metadata": {},
     "output_type": "execute_result"
    }
   ],
   "source": [
    "comments[comments.duplicated(subset = ['clean_diff'])].head(5)"
   ]
  },
  {
   "cell_type": "code",
   "execution_count": 19,
   "metadata": {
    "collapsed": false
   },
   "outputs": [
    {
     "name": "stdout",
     "output_type": "stream",
     "text": [
      "# annotations:  1395949\n"
     ]
    }
   ],
   "source": [
    "df = df.merge(u_comments[['rev_id']], how = 'inner', on = 'rev_id')\n",
    "print('# annotations: ', df.shape[0])"
   ]
  },
  {
   "cell_type": "markdown",
   "metadata": {},
   "source": [
    "### Check that labels are not None"
   ]
  },
  {
   "cell_type": "code",
   "execution_count": 20,
   "metadata": {
    "collapsed": false
   },
   "outputs": [
    {
     "data": {
      "text/plain": [
       "0.0    1240803\n",
       "1.0     155146\n",
       "Name: recipient, dtype: int64"
      ]
     },
     "execution_count": 20,
     "metadata": {},
     "output_type": "execute_result"
    }
   ],
   "source": [
    "df['recipient'].value_counts(dropna=False)"
   ]
  },
  {
   "cell_type": "code",
   "execution_count": 21,
   "metadata": {
    "collapsed": false
   },
   "outputs": [
    {
     "data": {
      "text/plain": [
       "0.0    1163898\n",
       "1.0     232051\n",
       "Name: attack, dtype: int64"
      ]
     },
     "execution_count": 21,
     "metadata": {},
     "output_type": "execute_result"
    }
   ],
   "source": [
    "df['attack'].value_counts(dropna=False)"
   ]
  },
  {
   "cell_type": "code",
   "execution_count": 22,
   "metadata": {
    "collapsed": false
   },
   "outputs": [
    {
     "data": {
      "text/plain": [
       "0.0    1141424\n",
       "1.0     254525\n",
       "Name: aggression, dtype: int64"
      ]
     },
     "execution_count": 22,
     "metadata": {},
     "output_type": "execute_result"
    }
   ],
   "source": [
    "df['aggression'].value_counts(dropna=False)"
   ]
  },
  {
   "cell_type": "markdown",
   "metadata": {},
   "source": [
    "### Remove annotations from all revisions that were annotated less than 8 times"
   ]
  },
  {
   "cell_type": "code",
   "execution_count": 23,
   "metadata": {
    "collapsed": false
   },
   "outputs": [],
   "source": [
    "counts = df['rev_id'].value_counts().to_frame()\n",
    "counts.columns = ['n']\n",
    "counts['rev_id'] = counts.index"
   ]
  },
  {
   "cell_type": "code",
   "execution_count": 24,
   "metadata": {
    "collapsed": false
   },
   "outputs": [
    {
     "data": {
      "text/plain": [
       "(121110, 2)"
      ]
     },
     "execution_count": 24,
     "metadata": {},
     "output_type": "execute_result"
    }
   ],
   "source": [
    "counts.shape"
   ]
  },
  {
   "cell_type": "code",
   "execution_count": 25,
   "metadata": {
    "collapsed": false
   },
   "outputs": [
    {
     "data": {
      "text/plain": [
       "10    55156\n",
       "9     29478\n",
       "8      7856\n",
       "19     6905\n",
       "20     6197\n",
       "Name: n, dtype: int64"
      ]
     },
     "execution_count": 25,
     "metadata": {},
     "output_type": "execute_result"
    }
   ],
   "source": [
    "counts['n'].value_counts().head()"
   ]
  },
  {
   "cell_type": "code",
   "execution_count": 26,
   "metadata": {
    "collapsed": false
   },
   "outputs": [],
   "source": [
    "counts_enough = counts.query(\"n>=8\")"
   ]
  },
  {
   "cell_type": "code",
   "execution_count": 27,
   "metadata": {
    "collapsed": false
   },
   "outputs": [
    {
     "data": {
      "text/plain": [
       "(115737, 2)"
      ]
     },
     "execution_count": 27,
     "metadata": {},
     "output_type": "execute_result"
    }
   ],
   "source": [
    "counts_enough.shape"
   ]
  },
  {
   "cell_type": "code",
   "execution_count": 28,
   "metadata": {
    "collapsed": false
   },
   "outputs": [
    {
     "name": "stdout",
     "output_type": "stream",
     "text": [
      "# annotations:  1363735\n"
     ]
    }
   ],
   "source": [
    "df = df.merge(counts_enough[['rev_id']], how = 'inner', on = 'rev_id')\n",
    "print('# annotations: ', df.shape[0])"
   ]
  },
  {
   "cell_type": "markdown",
   "metadata": {},
   "source": [
    "### Discard nuisance columns"
   ]
  },
  {
   "cell_type": "code",
   "execution_count": 29,
   "metadata": {
    "collapsed": false
   },
   "outputs": [
    {
     "data": {
      "text/plain": [
       "Index(['_aggression_score', '_channel', '_city', '_country', '_created_at',\n",
       "       '_golden', '_id', '_ip', '_is_harassment_or_attack', '_missed', '_na',\n",
       "       '_region', '_started_at', '_tainted', '_trust', '_unit_id',\n",
       "       '_worker_id', 'aggression_score', 'aggression_score_gold',\n",
       "       'aggression_score_gold_reason', 'block_actions', 'block_params',\n",
       "       'block_reasons', 'block_timestamps', 'clean_diff', 'diff',\n",
       "       'insert_only', 'is_harassment_or_attack',\n",
       "       'is_harassment_or_attack_gold', 'is_harassment_or_attack_gold_reason',\n",
       "       'na', 'na_gold', 'na_gold_reason', 'ns', 'orig__golden', 'page_id',\n",
       "       'page_title', 'rev_comment', 'rev_id', 'rev_timestamp', 'sample', 'src',\n",
       "       'user_id', 'user_text', 'not_attack', 'other', 'quoting', 'recipient',\n",
       "       'third_party', 'attack', 'aggression', 'ambivalent'],\n",
       "      dtype='object')"
      ]
     },
     "execution_count": 29,
     "metadata": {},
     "output_type": "execute_result"
    }
   ],
   "source": [
    "df.columns"
   ]
  },
  {
   "cell_type": "code",
   "execution_count": 30,
   "metadata": {
    "collapsed": true
   },
   "outputs": [],
   "source": [
    "cols = ['rev_id', '_worker_id', 'ns', 'sample', 'src','clean_diff', 'diff', 'insert_only', 'page_id',\n",
    "       'page_title', 'rev_comment', 'rev_timestamp', \n",
    "       'user_id', 'user_text', 'not_attack', 'other', 'quoting', 'recipient',\n",
    "       'third_party', 'attack', 'aggression']\n",
    "df = df[cols]"
   ]
  },
  {
   "cell_type": "markdown",
   "metadata": {},
   "source": [
    "### Summary Stats"
   ]
  },
  {
   "cell_type": "code",
   "execution_count": 31,
   "metadata": {
    "collapsed": false
   },
   "outputs": [
    {
     "data": {
      "text/plain": [
       "ns       sample \n",
       "article  blocked    346832\n",
       "         random     232818\n",
       "user     blocked    533886\n",
       "         random     250199\n",
       "dtype: int64"
      ]
     },
     "execution_count": 31,
     "metadata": {},
     "output_type": "execute_result"
    }
   ],
   "source": [
    "df.groupby(['ns', 'sample']).size()"
   ]
  },
  {
   "cell_type": "code",
   "execution_count": 32,
   "metadata": {
    "collapsed": false
   },
   "outputs": [],
   "source": [
    "df.to_csv('../../data/annotations/clean/annotations.tsv', index=False, sep='\\t')"
   ]
  },
  {
   "cell_type": "code",
   "execution_count": 33,
   "metadata": {
    "collapsed": false
   },
   "outputs": [
    {
     "data": {
      "text/plain": [
       "(1363735, 21)"
      ]
     },
     "execution_count": 33,
     "metadata": {},
     "output_type": "execute_result"
    }
   ],
   "source": [
    "pd.read_csv('../../data/annotations/clean/annotations.tsv', sep='\\t').shape"
   ]
  }
 ],
 "metadata": {
  "kernelspec": {
   "display_name": "Python [default]",
   "language": "python",
   "name": "python3"
  },
  "language_info": {
   "codemirror_mode": {
    "name": "ipython",
    "version": 3
   },
   "file_extension": ".py",
   "mimetype": "text/x-python",
   "name": "python",
   "nbconvert_exporter": "python",
   "pygments_lexer": "ipython3",
   "version": "3.5.1"
  }
 },
 "nbformat": 4,
 "nbformat_minor": 0
}
