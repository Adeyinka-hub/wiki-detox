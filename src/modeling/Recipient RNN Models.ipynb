{
 "cells": [
  {
   "cell_type": "code",
   "execution_count": 1,
   "metadata": {
    "collapsed": false
   },
   "outputs": [
    {
     "name": "stderr",
     "output_type": "stream",
     "text": [
      "Using TensorFlow backend.\n"
     ]
    }
   ],
   "source": [
    "%load_ext autoreload\n",
    "%autoreload 2\n",
    "%matplotlib inline\n",
    "%load_ext autotime\n",
    "\n",
    "\n",
    "from ngram import *\n",
    "from baselines import *\n",
    "from error_analysis import *\n",
    "from deep_learning import *\n",
    "\n",
    "pd.options.mode.chained_assignment = None"
   ]
  },
  {
   "cell_type": "markdown",
   "metadata": {},
   "source": [
    "### Load Annotated Data"
   ]
  },
  {
   "cell_type": "code",
   "execution_count": 2,
   "metadata": {
    "collapsed": false
   },
   "outputs": [
    {
     "name": "stdout",
     "output_type": "stream",
     "text": [
      "time: 3.07 ms\n"
     ]
    }
   ],
   "source": [
    "task = 'recipient'\n",
    "xtype = 'ngams'\n",
    "ytype = 'empirical_dist'\n",
    "n_classes = 2"
   ]
  },
  {
   "cell_type": "code",
   "execution_count": 3,
   "metadata": {
    "collapsed": false
   },
   "outputs": [
    {
     "name": "stdout",
     "output_type": "stream",
     "text": [
      "time: 4min 9s\n"
     ]
    }
   ],
   "source": [
    "data = load_comments_and_labels(task)"
   ]
  },
  {
   "cell_type": "markdown",
   "metadata": {},
   "source": [
    "### NGram Preprocessing"
   ]
  },
  {
   "cell_type": "code",
   "execution_count": 4,
   "metadata": {
    "collapsed": false
   },
   "outputs": [
    {
     "name": "stdout",
     "output_type": "stream",
     "text": [
      "time: 47.7 s\n"
     ]
    }
   ],
   "source": [
    "maxlen = 100\n",
    "max_features = 10000\n",
    "    \n",
    "feature_pipeline =  Pipeline([\n",
    "    ('vect', CountVectorizer(ngram_range = (1,1), analyzer = 'word', max_features = max_features)),\n",
    "    ('to_sequence', SequenceTransformer(maxlen = maxlen)), \n",
    "])\n",
    "\n",
    "X_comments, _ = assemble_data(data, 'comments', ytype, splits = ['train'])\n",
    "preprocessor = feature_pipeline.fit(X_comments)\n",
    "data = apply_transform(data, 'comments', preprocessor, xtype)\n",
    "\n",
    "X_train, y_train = assemble_data(data, xtype, ytype, splits = ['train'])\n",
    "X_test, y_test = assemble_data(data, xtype, 'empirical_dist', splits = ['test'])"
   ]
  },
  {
   "cell_type": "markdown",
   "metadata": {},
   "source": [
    "### Define Model"
   ]
  },
  {
   "cell_type": "code",
   "execution_count": 5,
   "metadata": {
    "collapsed": false
   },
   "outputs": [
    {
     "name": "stdout",
     "output_type": "stream",
     "text": [
      "time: 3.06 ms\n"
     ]
    }
   ],
   "source": [
    "clf =  KerasClassifier(build_fn=make_conv_rnn, output_dim = n_classes, max_features = max_features, maxlen = maxlen)"
   ]
  },
  {
   "cell_type": "markdown",
   "metadata": {
    "collapsed": true
   },
   "source": [
    "### Hyper-Parameter tuning"
   ]
  },
  {
   "cell_type": "code",
   "execution_count": 30,
   "metadata": {
    "collapsed": false
   },
   "outputs": [
    {
     "name": "stdout",
     "output_type": "stream",
     "text": [
      "Epoch 1/1\n",
      "70793/70793 [==============================] - 214s - loss: 0.0686 - acc: 0.9497   \n",
      "30341/30341 [==============================] - 28s    \n",
      "Epoch 1/2\n",
      "70793/70793 [==============================] - 244s - loss: 0.0680 - acc: 0.9520   \n",
      "Epoch 2/2\n",
      "70793/70793 [==============================] - 227s - loss: 0.0474 - acc: 0.9621   \n",
      "30341/30341 [==============================] - 30s    \n",
      "Epoch 1/1\n",
      "70793/70793 [==============================] - 219s - loss: 0.0682 - acc: 0.9512   \n",
      "30341/30341 [==============================] - 33s    \n",
      "Epoch 1/2\n",
      "70793/70793 [==============================] - 328s - loss: 0.0716 - acc: 0.9490   \n",
      "Epoch 2/2\n",
      "70793/70793 [==============================] - 326s - loss: 0.0486 - acc: 0.9617   \n",
      "30341/30341 [==============================] - 30s    \n",
      "\n",
      "Best parameters set found:\n",
      "{'nb_epoch': 2, 'dropout': 0.25, 'batch_size': 100} 0.972344856198\n",
      "\n",
      "\n",
      "Grid scores:\n",
      "0.96992 (+/-0.00000) for {'nb_epoch': 1, 'dropout': 0.25, 'batch_size': 100}\n",
      "0.97234 (+/-0.00000) for {'nb_epoch': 2, 'dropout': 0.25, 'batch_size': 100}\n",
      "0.96751 (+/-0.00000) for {'nb_epoch': 1, 'dropout': 0.5, 'batch_size': 100}\n",
      "0.97080 (+/-0.00000) for {'nb_epoch': 2, 'dropout': 0.5, 'batch_size': 100}\n",
      "time: 31min 59s\n"
     ]
    }
   ],
   "source": [
    "# Deep EDP\n",
    "\n",
    "param_grid = {\n",
    "    'nb_epoch' : (1,2),\n",
    "    'batch_size': (100,),\n",
    "    'dropout': (0.25, 0.5)\n",
    "}\n",
    "\n",
    "tune (X_train, y_train, clf, param_grid, roc_scorer, n_jobs=1, verbose=True)"
   ]
  },
  {
   "cell_type": "markdown",
   "metadata": {},
   "source": [
    "Seems, like we don't need to regularize at one epoch. Lets try more epochs."
   ]
  },
  {
   "cell_type": "markdown",
   "metadata": {},
   "source": [
    "### Eval Conv RNN"
   ]
  },
  {
   "cell_type": "code",
   "execution_count": 9,
   "metadata": {
    "collapsed": false
   },
   "outputs": [
    {
     "name": "stdout",
     "output_type": "stream",
     "text": [
      "Epoch 1/2\n",
      "71009/71009 [==============================] - 381s - loss: 0.0950 - acc: 0.9512   \n",
      "Epoch 2/2\n",
      "71009/71009 [==============================] - 286s - loss: 0.0681 - acc: 0.9631   \n",
      "3853/3853 [==============================] - 5s     \n",
      "9406/9406 [==============================] - 12s    \n",
      "13259/13259 [==============================] - 15s    \n",
      "3896/3896 [==============================] - 4s     \n",
      "6513/6513 [==============================] - 9s     \n",
      "10409/10409 [==============================] - 12s    \n",
      "7749/7749 [==============================] - 9s     \n",
      "15919/15919 [==============================] - 21s    \n",
      "23668/23668 [==============================] - 29s    \n",
      "time: 13min 34s\n"
     ]
    }
   ],
   "source": [
    "conv_rnn =  KerasClassifier(build_fn=make_conv_rnn,\n",
    "                            output_dim = n_classes,\n",
    "                            max_features = max_features,\n",
    "                            maxlen = maxlen,\n",
    "                            batch_size = 100,\n",
    "                            nb_epoch = 2,\n",
    "                            dropout = 0.25)\n",
    "conv_rnn.fit(X_train, y_train)\n",
    "roc_df, spearman_df = test_cross(conv_rnn, data, xtype)"
   ]
  },
  {
   "cell_type": "code",
   "execution_count": 10,
   "metadata": {
    "collapsed": false
   },
   "outputs": [
    {
     "data": {
      "text/html": [
       "<div>\n",
       "<table border=\"1\" class=\"dataframe\">\n",
       "  <thead>\n",
       "    <tr style=\"text-align: right;\">\n",
       "      <th></th>\n",
       "      <th>random</th>\n",
       "      <th>blocked</th>\n",
       "      <th>both</th>\n",
       "    </tr>\n",
       "  </thead>\n",
       "  <tbody>\n",
       "    <tr>\n",
       "      <th>user</th>\n",
       "      <td>0.991508</td>\n",
       "      <td>0.950181</td>\n",
       "      <td>0.962723</td>\n",
       "    </tr>\n",
       "    <tr>\n",
       "      <th>article</th>\n",
       "      <td>0.983273</td>\n",
       "      <td>0.973071</td>\n",
       "      <td>0.979804</td>\n",
       "    </tr>\n",
       "    <tr>\n",
       "      <th>both</th>\n",
       "      <td>0.986596</td>\n",
       "      <td>0.962066</td>\n",
       "      <td>0.972147</td>\n",
       "    </tr>\n",
       "  </tbody>\n",
       "</table>\n",
       "</div>"
      ],
      "text/plain": [
       "           random   blocked      both\n",
       "user     0.991508  0.950181  0.962723\n",
       "article  0.983273  0.973071  0.979804\n",
       "both     0.986596  0.962066  0.972147"
      ]
     },
     "execution_count": 10,
     "metadata": {},
     "output_type": "execute_result"
    },
    {
     "name": "stdout",
     "output_type": "stream",
     "text": [
      "time: 31 ms\n"
     ]
    }
   ],
   "source": [
    "roc_df"
   ]
  },
  {
   "cell_type": "code",
   "execution_count": 11,
   "metadata": {
    "collapsed": false
   },
   "outputs": [
    {
     "data": {
      "text/html": [
       "<div>\n",
       "<table border=\"1\" class=\"dataframe\">\n",
       "  <thead>\n",
       "    <tr style=\"text-align: right;\">\n",
       "      <th></th>\n",
       "      <th>random</th>\n",
       "      <th>blocked</th>\n",
       "      <th>both</th>\n",
       "    </tr>\n",
       "  </thead>\n",
       "  <tbody>\n",
       "    <tr>\n",
       "      <th>user</th>\n",
       "      <td>0.271530</td>\n",
       "      <td>0.683174</td>\n",
       "      <td>0.645475</td>\n",
       "    </tr>\n",
       "    <tr>\n",
       "      <th>article</th>\n",
       "      <td>0.228076</td>\n",
       "      <td>0.485293</td>\n",
       "      <td>0.417313</td>\n",
       "    </tr>\n",
       "    <tr>\n",
       "      <th>both</th>\n",
       "      <td>0.274896</td>\n",
       "      <td>0.663095</td>\n",
       "      <td>0.601349</td>\n",
       "    </tr>\n",
       "  </tbody>\n",
       "</table>\n",
       "</div>"
      ],
      "text/plain": [
       "           random   blocked      both\n",
       "user     0.271530  0.683174  0.645475\n",
       "article  0.228076  0.485293  0.417313\n",
       "both     0.274896  0.663095  0.601349"
      ]
     },
     "execution_count": 11,
     "metadata": {},
     "output_type": "execute_result"
    },
    {
     "name": "stdout",
     "output_type": "stream",
     "text": [
      "time: 8.42 ms\n"
     ]
    }
   ],
   "source": [
    "spearman_df"
   ]
  },
  {
   "cell_type": "markdown",
   "metadata": {},
   "source": [
    "### Check Calibration"
   ]
  },
  {
   "cell_type": "code",
   "execution_count": 12,
   "metadata": {
    "collapsed": false,
    "scrolled": true
   },
   "outputs": [
    {
     "name": "stdout",
     "output_type": "stream",
     "text": [
      "23668/23668 [==============================] - 29s    \n"
     ]
    },
    {
     "data": {
      "image/png": "[encoded data removed]",
      "text/plain": [
       "<matplotlib.figure.Figure at 0x1259eb518>"
      ]
     },
     "metadata": {},
     "output_type": "display_data"
    },
    {
     "data": {
      "text/plain": [
       "<matplotlib.figure.Figure at 0x11b5823c8>"
      ]
     },
     "metadata": {},
     "output_type": "display_data"
    },
    {
     "name": "stdout",
     "output_type": "stream",
     "text": [
      "time: 30.3 s\n"
     ]
    }
   ],
   "source": [
    "y_test_oh = one_hot(y_test)\n",
    "y_pred_ed = conv_rnn.predict_proba(X_test)\n",
    "\n",
    "if n_classes > 2:\n",
    "    classes = range(n_classes)\n",
    "else:\n",
    "    classes = [1]\n",
    "\n",
    "for i in classes:\n",
    "    plt.figure()\n",
    "    calibration_curve_plotter(y_test_oh[:, i], y_pred_ed[:, i])\n",
    "    plt.show()"
   ]
  },
  {
   "cell_type": "code",
   "execution_count": null,
   "metadata": {
    "collapsed": true
   },
   "outputs": [],
   "source": []
  }
 ],
 "metadata": {
  "kernelspec": {
   "display_name": "Python 3",
   "language": "python",
   "name": "python3"
  },
  "language_info": {
   "codemirror_mode": {
    "name": "ipython",
    "version": 3
   },
   "file_extension": ".py",
   "mimetype": "text/x-python",
   "name": "python",
   "nbconvert_exporter": "python",
   "pygments_lexer": "ipython3",
   "version": "3.5.1"
  }
 },
 "nbformat": 4,
 "nbformat_minor": 0
}
