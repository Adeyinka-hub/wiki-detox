{
 "cells": [
  {
   "cell_type": "code",
   "execution_count": 31,
   "metadata": {
    "collapsed": false
   },
   "outputs": [
    {
     "name": "stdout",
     "output_type": "stream",
     "text": [
      "The autoreload extension is already loaded. To reload it, use:\n",
      "  %reload_ext autoreload\n",
      "The autotime extension is already loaded. To reload it, use:\n",
      "  %reload_ext autotime\n",
      "time: 5.5 ms\n"
     ]
    }
   ],
   "source": [
    "%load_ext autoreload\n",
    "%autoreload 2\n",
    "%matplotlib inline\n",
    "%load_ext autotime\n",
    "\n",
    "from baselines import load_comments_and_labels, assemble_data, one_hot\n",
    "from ngram import test_cross,calibration_curve_plotter,two_class_roc_plotter, two_class_precision_recall_plotter\n",
    "from ngram import roc_scorer, spearman_scorer\n",
    "import matplotlib.pyplot as plt\n",
    "import joblib\n",
    "import os\n",
    "from serialization import save_pipeline, load_pipeline\n",
    "import pandas as pd"
   ]
  },
  {
   "cell_type": "code",
   "execution_count": 37,
   "metadata": {
    "collapsed": false
   },
   "outputs": [
    {
     "name": "stdout",
     "output_type": "stream",
     "text": [
      "time: 188 ms\n"
     ]
    }
   ],
   "source": [
    "def eval_n_save_model(task, model_name, debug=False):\n",
    "    cv_path = '../../models/cv'\n",
    "    results_path = '../../models/%s/%s' % (task, model_name)\n",
    "    if not os.path.exists(results_path):\n",
    "        os.makedirs(results_path)\n",
    "    \n",
    "    \n",
    "    #load data\n",
    "    data = load_comments_and_labels(task)\n",
    "    \n",
    "    \n",
    "    if 'ed' in model_name:\n",
    "        label_type = 'empirical_dist'\n",
    "    elif 'oh' in model_name:\n",
    "        label_type = 'one_hot'\n",
    "    X_train, y_train = assemble_data(data, 'comments', label_type, splits = ['train', 'dev'])\n",
    "    X_test, y_test = assemble_data(data,  'comments', 'empirical_dist', splits = ['test'])\n",
    "    \n",
    "        \n",
    "    if debug:\n",
    "        X_train = X_train[:1000]\n",
    "        y_train = y_train[:1000]\n",
    "        X_test = X_test[:1000]\n",
    "        y_test = y_test[:1000]\n",
    "        \n",
    "        \n",
    "    #load architecture\n",
    "    \n",
    "    model = load_pipeline(cv_path, model_name)\n",
    "    \n",
    "    \n",
    "    #fit model on train and dev eval on test\n",
    "    model.fit(X_train, y_train)\n",
    "    save_pipeline(model, results_path, model_name + \"_train\" )\n",
    "    \n",
    "    # metrics\n",
    "    roc_df, spearman_df = test_cross(model, data, 'comments')\n",
    "    roc_df.to_csv(os.path.join(results_path, 'roc.csv'))\n",
    "    spearman_df.to_csv(os.path.join(results_path, 'spearman.csv'))\n",
    "    \n",
    "    y_test_pred = model.predict_proba(X_test)\n",
    "    \n",
    "    calibration_curve_plotter(one_hot(y_test)[:, 1], y_test_pred[:, 1])\n",
    "    plt.savefig(os.path.join(results_path, 'calibration.png'))\n",
    "    \n",
    "    two_class_roc_plotter(y_test, y_test_pred)\n",
    "    plt.savefig(os.path.join(results_path, 'roc_curve.png'))\n",
    "    \n",
    "    two_class_precision_recall_plotter(y_test, y_test_pred)\n",
    "    plt.savefig(os.path.join(results_path, 'precision_recall_curve.png'))\n",
    "    \n",
    "    # train on all data and save model\n",
    "    X, y = assemble_data(data, 'comments', label_type) \n",
    "        \n",
    "    if debug:\n",
    "        X=X[:1000]\n",
    "        y=y[:1000]\n",
    "        \n",
    "        \n",
    "    save_pipeline(model.fit(X, y), results_path, model_name + \"_all\" )"
   ]
  },
  {
   "cell_type": "code",
   "execution_count": 38,
   "metadata": {
    "collapsed": false
   },
   "outputs": [
    {
     "name": "stdout",
     "output_type": "stream",
     "text": [
      "time: 4.68 ms\n"
     ]
    }
   ],
   "source": [
    "tasks = ['attack', 'recipient', 'aggression']\n",
    "models = ['linear_char_ed', 'mlp_char_ed', 'linear_char_oh', 'mlp_char_oh']"
   ]
  },
  {
   "cell_type": "code",
   "execution_count": null,
   "metadata": {
    "collapsed": false,
    "scrolled": false
   },
   "outputs": [],
   "source": [
    "for task in tasks:\n",
    "    for model in models:\n",
    "        eval_n_save_model(task, model, debug = False)"
   ]
  },
  {
   "cell_type": "code",
   "execution_count": null,
   "metadata": {
    "collapsed": true
   },
   "outputs": [],
   "source": []
  }
 ],
 "metadata": {
  "anaconda-cloud": {},
  "kernelspec": {
   "display_name": "Python [default]",
   "language": "python",
   "name": "python3"
  },
  "language_info": {
   "codemirror_mode": {
    "name": "ipython",
    "version": 3
   },
   "file_extension": ".py",
   "mimetype": "text/x-python",
   "name": "python",
   "nbconvert_exporter": "python",
   "pygments_lexer": "ipython3",
   "version": "3.5.1"
  }
 },
 "nbformat": 4,
 "nbformat_minor": 0
}
