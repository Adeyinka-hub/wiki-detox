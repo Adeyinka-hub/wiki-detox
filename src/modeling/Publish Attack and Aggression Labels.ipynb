{
 "cells": [
  {
   "cell_type": "code",
   "execution_count": 1,
   "metadata": {
    "collapsed": false
   },
   "outputs": [],
   "source": [
    "%load_ext autoreload\n",
    "%autoreload 2\n",
    "%matplotlib inline\n",
    "\n",
    "import pandas as pd\n",
    "import os\n",
    "import sys, os\n",
    "sys.path.insert(0, os.path.abspath('..'))\n",
    "import data_generation.diff_utils\n",
    "import data_generation.mwdiff.mwdiffs_to_tsv\n",
    "import numpy as np"
   ]
  },
  {
   "cell_type": "code",
   "execution_count": 2,
   "metadata": {
    "collapsed": false
   },
   "outputs": [
    {
     "data": {
      "text/plain": [
       "(1368958, 23)"
      ]
     },
     "execution_count": 2,
     "metadata": {},
     "output_type": "execute_result"
    }
   ],
   "source": [
    "# load split data\n",
    "out_dir = \"../../data/figshare\"\n",
    "in_dir = \"../../data/annotations/split\"\n",
    "splits = [\"train\", \"dev\", \"test\"]\n",
    "\n",
    "dfs = []\n",
    "for split in splits:\n",
    "    df = pd.read_csv(os.path.join(in_dir, split, 'annotations.tsv'), sep = '\\t')\n",
    "    df['split'] = split\n",
    "    dfs.append(df)\n",
    "df = pd.concat(dfs)\n",
    "df.shape"
   ]
  },
  {
   "cell_type": "code",
   "execution_count": 3,
   "metadata": {
    "collapsed": false
   },
   "outputs": [
    {
     "data": {
      "text/plain": [
       "(1368958, 24)"
      ]
     },
     "execution_count": 3,
     "metadata": {},
     "output_type": "execute_result"
    }
   ],
   "source": [
    "# rename workers\n",
    "df_workers = df[['_worker_id']].drop_duplicates()\n",
    "df_workers['anon_id'] = range(df_workers.shape[0])\n",
    "df = df.merge(df_workers, how = 'inner', on = '_worker_id')\n",
    "df.shape"
   ]
  },
  {
   "cell_type": "code",
   "execution_count": 4,
   "metadata": {
    "collapsed": false
   },
   "outputs": [],
   "source": [
    "# rename revisions\n",
    "rmap = { r:i for i,r in enumerate(np.random.permutation(df.rev_id.unique()))}\n",
    "df['comment_id'] = df['rev_id'].apply(lambda x: rmap[x])"
   ]
  },
  {
   "cell_type": "code",
   "execution_count": 5,
   "metadata": {
    "collapsed": false
   },
   "outputs": [],
   "source": [
    "# get set of labeled comments\n",
    "df_comments = df.drop_duplicates(subset = ['rev_id']).copy()\n",
    "df_comments['logged_in'] = df_comments['user_id'] != 0\n",
    "df_comments['year'] = pd.to_datetime(df_comments['rev_timestamp']).apply(lambda x: x.year)\n",
    "\n",
    "df_comments['diff'] = df_comments['diff'].apply(data_generation.mwdiff.mwdiffs_to_tsv.replace_special_chars)\n",
    "\n",
    "# fix legacy special token issues\n",
    "df_comments['diff'] = df_comments['diff'].apply(lambda x: x.replace('TAB', 'TAB_TOKEN'))\n",
    "df_comments['diff'] = df_comments['diff'].apply(lambda x: x.replace('NEWLINE', 'NEWLINE_TOKEN'))\n",
    "df_comments['diff'] = df_comments['diff'].apply(lambda x: x.replace('\"', '`'))\n",
    "\n",
    "# apply latest version of clean and filter\n",
    "df_comments = data_generation.diff_utils.clean_and_filter(df_comments)"
   ]
  },
  {
   "cell_type": "code",
   "execution_count": 6,
   "metadata": {
    "collapsed": false
   },
   "outputs": [
    {
     "data": {
      "text/plain": [
       "(115864, 8)"
      ]
     },
     "execution_count": 6,
     "metadata": {},
     "output_type": "execute_result"
    }
   ],
   "source": [
    "# rename some columns\n",
    "df_comments = df_comments.rename(columns={\n",
    "                        'clean_diff': 'comment',\n",
    "                        'rev_timestamp': 'timestamp',\n",
    "                       })\n",
    "order = ['comment_id', 'comment', 'year', 'logged_in', 'ns', 'sample', 'split', 'rev_id']\n",
    "df_comments = df_comments[order]\n",
    "df_comments = df_comments.sort_values('comment_id')\n",
    "df_comments.shape"
   ]
  },
  {
   "cell_type": "code",
   "execution_count": 7,
   "metadata": {
    "collapsed": false
   },
   "outputs": [],
   "source": [
    "# get set of human labels\n",
    "\n",
    "df_attack_labels = df[['comment_id', 'anon_id', 'attack',]]\n",
    "\n",
    "df_attack_labels = df_attack_labels.rename(columns={\n",
    "                        'anon_id': 'worker_id',\n",
    "                       })\n",
    "\n",
    "df_attack_labels = df_attack_labels.sort_values('comment_id')\n",
    "\n",
    "\n",
    "df_aggression_labels = df[['comment_id', 'anon_id', 'aggression',]]\n",
    "\n",
    "df_aggression_labels = df_aggression_labels.rename(columns={\n",
    "                        'anon_id': 'worker_id',\n",
    "                       })\n",
    "\n",
    "df_aggression_labels = df_aggression_labels.sort_values('comment_id')"
   ]
  },
  {
   "cell_type": "code",
   "execution_count": 8,
   "metadata": {
    "collapsed": true
   },
   "outputs": [],
   "source": [
    "# save dfs\n",
    "df_comments.to_csv(os.path.join( \"../../data/figshare\", 'attack_annotated_comments_with_revids.tsv'), sep = '\\t', index = False)\n",
    "df_comments.to_csv(os.path.join( \"../../data/figshare\", 'aggression_annotated_comments_with_revids.tsv'), sep = '\\t', index = False)\n",
    "\n",
    "del df_comments['rev_id']\n",
    "df_comments.to_csv(os.path.join( \"../../data/figshare\", 'attack_annotated_comments.tsv'), sep = '\\t', index = False)\n",
    "df_comments.to_csv(os.path.join( \"../../data/figshare\", 'aggression_annotated_comments.tsv'), sep = '\\t', index = False)\n",
    "\n",
    "df_attack_labels.to_csv(os.path.join( \"../../data/figshare\", 'attack_annotations.tsv'), sep = '\\t', index = False)\n",
    "df_aggression_labels.to_csv(os.path.join( \"../../data/figshare\", 'aggression_annotations.tsv'), sep = '\\t', index = False)"
   ]
  },
  {
   "cell_type": "code",
   "execution_count": 9,
   "metadata": {
    "collapsed": false
   },
   "outputs": [
    {
     "data": {
      "text/plain": [
       "(115864, 7)"
      ]
     },
     "execution_count": 9,
     "metadata": {},
     "output_type": "execute_result"
    }
   ],
   "source": [
    "pd.read_csv(os.path.join( \"../../data/figshare\", 'attack_annotated_comments.tsv'), sep = '\\t').shape"
   ]
  },
  {
   "cell_type": "code",
   "execution_count": null,
   "metadata": {
    "collapsed": true
   },
   "outputs": [],
   "source": []
  }
 ],
 "metadata": {
  "anaconda-cloud": {},
  "kernelspec": {
   "display_name": "Python [default]",
   "language": "python",
   "name": "python3"
  },
  "language_info": {
   "codemirror_mode": {
    "name": "ipython",
    "version": 3
   },
   "file_extension": ".py",
   "mimetype": "text/x-python",
   "name": "python",
   "nbconvert_exporter": "python",
   "pygments_lexer": "ipython3",
   "version": "3.5.1"
  }
 },
 "nbformat": 4,
 "nbformat_minor": 0
}
