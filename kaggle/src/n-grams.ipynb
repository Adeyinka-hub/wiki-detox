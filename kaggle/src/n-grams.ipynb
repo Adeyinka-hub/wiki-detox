{
 "cells": [
  {
   "cell_type": "code",
   "execution_count": 133,
   "metadata": {
    "collapsed": false
   },
   "outputs": [
    {
     "name": "stdout",
     "output_type": "stream",
     "text": [
      "The autoreload extension is already loaded. To reload it, use:\n",
      "  %reload_ext autoreload\n"
     ]
    }
   ],
   "source": [
    "%load_ext autoreload\n",
    "%autoreload 2\n",
    "%matplotlib inline\n",
    "import warnings\n",
    "warnings.filterwarnings('ignore')\n",
    "from sklearn_utils import *\n",
    "from tensorflow_utils import *\n",
    "\n",
    "import numpy as np\n",
    "import pandas as pd\n",
    "import tensorflow as tf\n",
    "import nltk\n",
    "import sklearn\n",
    "from sklearn.cross_validation import train_test_split\n",
    "from sklearn.pipeline import Pipeline"
   ]
  },
  {
   "cell_type": "code",
   "execution_count": 111,
   "metadata": {
    "collapsed": false
   },
   "outputs": [],
   "source": [
    "data_filename  = '../data/train.csv'\n",
    "\n",
    "data_df = pd.read_csv(data_filename)\n",
    "corpus = data_df['Comment']\n",
    "labels = data_df['Insult']\n",
    "train_corpus, test_corpus, train_labels, test_labels = \\\n",
    "sklearn.cross_validation.train_test_split(corpus, labels, test_size=0.33)"
   ]
  },
  {
   "cell_type": "code",
   "execution_count": 112,
   "metadata": {
    "collapsed": false
   },
   "outputs": [],
   "source": [
    "vecorizer = Pipeline(\n",
    "    [\n",
    "        ('vect', sklearn.feature_extraction.text.CountVectorizer(\n",
    "                lowercase=False,\n",
    "                analyzer='char',\n",
    "                ngram_range=(1,4),\n",
    "                )\n",
    "        ),\n",
    "        ('tfidf', sklearn.feature_extraction.text.TfidfTransformer(\n",
    "                sublinear_tf=True,norm='l2')\n",
    "        ),   \n",
    "    ]).fit(train_corpus)"
   ]
  },
  {
   "cell_type": "code",
   "execution_count": 113,
   "metadata": {
    "collapsed": false
   },
   "outputs": [],
   "source": [
    "X_train = vecorizer.transform(train_corpus)\n",
    "y_train = train_labels.values"
   ]
  },
  {
   "cell_type": "code",
   "execution_count": 114,
   "metadata": {
    "collapsed": true
   },
   "outputs": [],
   "source": [
    "X_test = vecorizer.transform(test_corpus)\n",
    "y_test = test_labels.values"
   ]
  },
  {
   "cell_type": "markdown",
   "metadata": {},
   "source": [
    "## Sklearn Logisitc Regression and Linar SVM"
   ]
  },
  {
   "cell_type": "code",
   "execution_count": 128,
   "metadata": {
    "collapsed": false
   },
   "outputs": [
    {
     "name": "stdout",
     "output_type": "stream",
     "text": [
      "\n",
      "\n",
      "\n",
      "Doing Gridsearch\n",
      "\n",
      "Best Model Train AUC: 0.999748\n",
      "Best Model Train F1 0.968935\n",
      "Best Model Train Accuracy 0.984115\n",
      "\n",
      "Best parameters set found:\n",
      "{'C': 5} 0.901330441002\n",
      "\n",
      "\n",
      "Grid scores:\n",
      "0.85274 (+/-0.00600) for {'C': 0.1}\n",
      "0.89049 (+/-0.00435) for {'C': 1}\n",
      "0.90133 (+/-0.00340) for {'C': 5}\n",
      "0.90083 (+/-0.00284) for {'C': 50}\n",
      "0.90013 (+/-0.00286) for {'C': 100}\n",
      "0.89770 (+/-0.00282) for {'C': 1000}\n",
      "0.89648 (+/-0.00279) for {'C': 5000}\n"
     ]
    }
   ],
   "source": [
    "alg = sklearn.linear_model.LogisticRegression()\n",
    "param_grid = {'C': [0.1, 1, 5,  50, 100, 1000, 5000]}\n",
    "model = cv (X_train, y_train, 5, alg, param_grid, 'roc_auc', False)"
   ]
  },
  {
   "cell_type": "code",
   "execution_count": 126,
   "metadata": {
    "collapsed": false
   },
   "outputs": [
    {
     "name": "stdout",
     "output_type": "stream",
     "text": [
      "\n",
      "\n",
      "\n",
      "Doing Gridsearch\n",
      "\n",
      "Best Model Train AUC: 1.000000\n",
      "Best Model Train F1 1.000000\n",
      "Best Model Train Accuracy 1.000000\n",
      "\n",
      "Best parameters set found:\n",
      "{'C': 5} 0.894533198307\n",
      "\n",
      "\n",
      "Grid scores:\n",
      "0.89453 (+/-0.00856) for {'C': 5}\n",
      "0.89277 (+/-0.00860) for {'C': 10}\n",
      "0.89145 (+/-0.00865) for {'C': 20}\n",
      "0.89073 (+/-0.00864) for {'C': 50}\n",
      "0.89050 (+/-0.00865) for {'C': 100}\n",
      "0.89043 (+/-0.00865) for {'C': 150}\n",
      "0.89029 (+/-0.00864) for {'C': 1000}\n",
      "0.89027 (+/-0.00864) for {'C': 5000}\n"
     ]
    }
   ],
   "source": [
    "alg = sklearn.svm.LinearSVC()\n",
    "param_grid = {'C': [5, 10, 20, 50, 100, 150, 1000, 5000]}\n",
    "model = cv (X_train, y_train, 5, alg, param_grid, 'roc_auc', False)"
   ]
  },
  {
   "cell_type": "code",
   "execution_count": 129,
   "metadata": {
    "collapsed": false
   },
   "outputs": [
    {
     "name": "stdout",
     "output_type": "stream",
     "text": [
      "{'AUC': {'test': 0.88070103105015241, 'train': 0.99974778908658979},\n",
      " 'Accuracy': {'test': 0.8135072908672295, 'train': 0.98411497730711039},\n",
      " 'F1': {'test': 0.58883248730964466, 'train': 0.96893491124260356}}\n"
     ]
    }
   ],
   "source": [
    "model, metrics = evaluate(\n",
    "    X_train,\n",
    "    y_train,\n",
    "    sklearn.linear_model.LogisticRegression(C=5),\n",
    "    False,\n",
    "    verbose = True,\n",
    "    X_test = X_test,\n",
    "    y_test = y_test\n",
    ")\n",
    "\n",
    "# Note this score is lower than the cv scores since we \"overfit\" during cv by not retraining\n",
    "# the transformer on each fold"
   ]
  },
  {
   "cell_type": "markdown",
   "metadata": {},
   "source": [
    "## Tensorflow MPL"
   ]
  },
  {
   "cell_type": "code",
   "execution_count": 140,
   "metadata": {
    "collapsed": false
   },
   "outputs": [
    {
     "data": {
      "text/plain": [
       "True"
      ]
     },
     "execution_count": 140,
     "metadata": {},
     "output_type": "execute_result"
    }
   ],
   "source": [
    "isinstance(y_train, np.ndarray)"
   ]
  },
  {
   "cell_type": "code",
   "execution_count": 145,
   "metadata": {
    "collapsed": false
   },
   "outputs": [],
   "source": [
    "y_train = np.array([y_train, 1- y_train]).T\n",
    "y_test = np.array([y_test, 1- y_test]).T"
   ]
  },
  {
   "cell_type": "code",
   "execution_count": 157,
   "metadata": {
    "collapsed": false
   },
   "outputs": [
    {
     "name": "stdout",
     "output_type": "stream",
     "text": [
      "Epoch: 0001 cost= 0.858585700\n",
      "Accuracy: 0.542738\n",
      "Accuracy: 0.53185\n",
      "Epoch: 0006 cost= 0.620715947\n",
      "Accuracy: 0.681921\n",
      "Accuracy: 0.653108\n",
      "Epoch: 0011 cost= 0.538689288\n",
      "Accuracy: 0.732602\n",
      "Accuracy: 0.692249\n",
      "Epoch: 0016 cost= 0.474780355\n",
      "Accuracy: 0.77534\n",
      "Accuracy: 0.702993\n",
      "Epoch: 0021 cost= 0.420612711\n",
      "Accuracy: 0.805598\n",
      "Accuracy: 0.71604\n",
      "Epoch: 0026 cost= 0.374425979\n",
      "Accuracy: 0.831316\n",
      "Accuracy: 0.72218\n",
      "Epoch: 0031 cost= 0.335023997\n",
      "Accuracy: 0.860439\n",
      "Accuracy: 0.728319\n",
      "Epoch: 0036 cost= 0.300916263\n",
      "Accuracy: 0.88351\n",
      "Accuracy: 0.729087\n",
      "Epoch: 0041 cost= 0.271585224\n",
      "Accuracy: 0.904312\n",
      "Accuracy: 0.738296\n",
      "Epoch: 0046 cost= 0.246153700\n",
      "Accuracy: 0.92171\n",
      "Accuracy: 0.740599\n",
      "Epoch: 0051 cost= 0.223596772\n",
      "Accuracy: 0.934947\n",
      "Accuracy: 0.747506\n",
      "Epoch: 0056 cost= 0.204010803\n",
      "Accuracy: 0.944024\n",
      "Accuracy: 0.750576\n",
      "Optimization Finished!\n"
     ]
    }
   ],
   "source": [
    "# Parameters\n",
    "learning_rate = 0.001\n",
    "training_epochs = 60\n",
    "batch_size = 200\n",
    "display_step = 5\n",
    "\n",
    "# Network Parameters\n",
    "n_hidden_1 = 100 # 1st layer num features\n",
    "n_hidden_2 = 100 # 2nd layer num features\n",
    "n_hidden_3 = 100 # 2nd layer num features\n",
    "n_input = X_train.shape[1]\n",
    "n_classes = 2 \n",
    "\n",
    "# tf Graph input\n",
    "x = tf.placeholder(\"float\", [None, n_input])\n",
    "y = tf.placeholder(\"float\", [None, n_classes])\n",
    "\n",
    "# Create model\n",
    "def LG(_X, _weights, _biases):\n",
    "    return tf.matmul(_X, _weights['out']) + _biases['out']\n",
    "\n",
    "# Store layers weight & bias\n",
    "weights = {\n",
    "    'out': tf.Variable(tf.random_normal([n_input, n_classes]))\n",
    "}\n",
    "biases = {\n",
    "    'out': tf.Variable(tf.random_normal([n_classes]))\n",
    "}\n",
    "\n",
    "# Construct model\n",
    "pred = LG(x, weights, biases)\n",
    "\n",
    "# Define loss and optimizer\n",
    "cost = tf.reduce_mean(tf.nn.softmax_cross_entropy_with_logits(pred, y)) # Softmax loss\n",
    "optimizer = tf.train.AdamOptimizer(learning_rate=learning_rate).minimize(cost) # Adam Optimizer\n",
    "\n",
    "# Initializing the variables\n",
    "init = tf.initialize_all_variables()\n",
    "\n",
    "# Launch the graph\n",
    "\n",
    "sess = tf.Session()\n",
    "\n",
    "sess.run(init)\n",
    "\n",
    "# Training cycle\n",
    "for epoch in range(training_epochs):\n",
    "    avg_cost = 0.\n",
    "    m = 0\n",
    "    batches = batch_iter(X_train.toarray(), y_train, batch_size)\n",
    "    # Loop over all batches\n",
    "    for batch_xs, batch_ys in batches:\n",
    "        batch_m = len(batch_ys)\n",
    "        m += batch_m\n",
    "        # Fit training using batch data\n",
    "        sess.run(optimizer, feed_dict={x: batch_xs, y: batch_ys})\n",
    "        # Compute average loss\n",
    "        avg_cost += sess.run(cost, feed_dict={x: batch_xs, y: batch_ys}) * batch_m\n",
    "    # Display logs per epoch step\n",
    "    if epoch % display_step == 0:\n",
    "        print (\"Epoch:\", '%04d' % (epoch+1), \"cost=\", \"{:.9f}\".format(avg_cost/m))\n",
    "        correct_prediction = tf.equal(tf.argmax(pred, 1), tf.argmax(y, 1))\n",
    "        # Calculate accuracy\n",
    "        accuracy = tf.reduce_mean(tf.cast(correct_prediction, \"float\"))\n",
    "        print (\"Accuracy:\", accuracy.eval({x: X_train.toarray(), y: y_train}, session=sess))\n",
    "        print (\"Accuracy:\", accuracy.eval({x: X_test.toarray(), y: y_test}, session=sess))    \n",
    "        \n",
    "        \n",
    "print (\"Optimization Finished!\")\n",
    "# Test model\n"
   ]
  },
  {
   "cell_type": "code",
   "execution_count": null,
   "metadata": {
    "collapsed": true
   },
   "outputs": [],
   "source": []
  }
 ],
 "metadata": {
  "kernelspec": {
   "display_name": "Python 3",
   "language": "python",
   "name": "python3"
  },
  "language_info": {
   "codemirror_mode": {
    "name": "ipython",
    "version": 3
   },
   "file_extension": ".py",
   "mimetype": "text/x-python",
   "name": "python",
   "nbconvert_exporter": "python",
   "pygments_lexer": "ipython3",
   "version": "3.5.1"
  }
 },
 "nbformat": 4,
 "nbformat_minor": 0
}
