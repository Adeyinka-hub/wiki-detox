{
 "cells": [
  {
   "cell_type": "markdown",
   "metadata": {},
   "source": [
    "### Loading packages and data"
   ]
  },
  {
   "cell_type": "code",
   "execution_count": 1,
   "metadata": {
    "collapsed": false
   },
   "outputs": [],
   "source": [
    "%matplotlib inline\n",
    "from __future__ import division\n",
    "import pandas as pd\n",
    "import numpy as np\n",
    "import matplotlib.pyplot as plt"
   ]
  },
  {
   "cell_type": "code",
   "execution_count": 2,
   "metadata": {
    "collapsed": false
   },
   "outputs": [],
   "source": [
    "pd.set_option('display.width', 1000)\n",
    "pd.set_option('display.max_colwidth', 1000)"
   ]
  },
  {
   "cell_type": "code",
   "execution_count": 3,
   "metadata": {
    "collapsed": false
   },
   "outputs": [],
   "source": [
    "# Download data from google drive (Respect Eng / Wiki Collab): wikipdia data/v2_annotated\n",
    "blocked_dat = pd.read_csv('../data/annotated_1k_no_admin_blocked_user_post_sample.csv')\n",
    "random_dat = pd.read_csv('../data/annotated_1k_no_admin_post_sample.csv')"
   ]
  },
  {
   "cell_type": "code",
   "execution_count": 4,
   "metadata": {
    "collapsed": true
   },
   "outputs": [],
   "source": [
    "# Removing irrelevant differing columns\n",
    "del blocked_dat['na_gold']\n",
    "del random_dat['unnamed_0']"
   ]
  },
  {
   "cell_type": "code",
   "execution_count": 5,
   "metadata": {
    "collapsed": true
   },
   "outputs": [],
   "source": [
    "blocked_dat['dat_type'] = 'blocked'\n",
    "random_dat['dat_type'] = 'random'"
   ]
  },
  {
   "cell_type": "code",
   "execution_count": 6,
   "metadata": {
    "collapsed": false
   },
   "outputs": [
    {
     "data": {
      "text/plain": [
       "True"
      ]
     },
     "execution_count": 6,
     "metadata": {},
     "output_type": "execute_result"
    }
   ],
   "source": [
    "# Do both arrays now have the same columns?\n",
    "(random_dat.columns == blocked_dat.columns).all()"
   ]
  },
  {
   "cell_type": "code",
   "execution_count": 7,
   "metadata": {
    "collapsed": false
   },
   "outputs": [],
   "source": [
    "dat = pd.concat([blocked_dat, random_dat])"
   ]
  },
  {
   "cell_type": "code",
   "execution_count": 8,
   "metadata": {
    "collapsed": false
   },
   "outputs": [],
   "source": [
    "# Remove test questions\n",
    "dat = dat[dat['_golden'] == False]"
   ]
  },
  {
   "cell_type": "code",
   "execution_count": 9,
   "metadata": {
    "collapsed": false
   },
   "outputs": [],
   "source": [
    "# Replace missing data with 'False'\n",
    "dat = dat.replace(np.nan, False, regex=True)"
   ]
  },
  {
   "cell_type": "code",
   "execution_count": 10,
   "metadata": {
    "collapsed": false
   },
   "outputs": [],
   "source": [
    "# Group the data\n",
    "grouped_dat = dat.groupby(['dat_type','rev_id'], as_index=False).agg({'clean_diff': 'first', 'is_harassment_or_attack': 'mean', \n",
    "                                           'how_aggressive_or_friendly_is_the_tone_of_this_comment': 'mean', 'na': 'mean'})"
   ]
  },
  {
   "cell_type": "code",
   "execution_count": 11,
   "metadata": {
    "collapsed": false
   },
   "outputs": [],
   "source": [
    "# Get rid of data which the majority thinks is not in English or not readable\n",
    "grouped_dat = grouped_dat[grouped_dat['na'] < 0.5]"
   ]
  },
  {
   "cell_type": "markdown",
   "metadata": {},
   "source": [
    "### Plot histogram of average ratings by comment"
   ]
  },
  {
   "cell_type": "code",
   "execution_count": 12,
   "metadata": {
    "collapsed": true
   },
   "outputs": [],
   "source": [
    "def hist_comments(df, bins, dat_type, plot_by, title):\n",
    "    return df[df['dat_type'] == dat_type][[plot_by]].plot.hist(bins = bins, legend = False, title = title)"
   ]
  },
  {
   "cell_type": "code",
   "execution_count": 13,
   "metadata": {
    "collapsed": false
   },
   "outputs": [
    {
     "data": {
      "text/plain": [
       "<matplotlib.axes._subplots.AxesSubplot at 0x10cc7b450>"
      ]
     },
     "execution_count": 13,
     "metadata": {},
     "output_type": "execute_result"
    },
    {
     "data": {
      "text/plain": [
       "<matplotlib.figure.Figure at 0x10c049350>"
      ]
     },
     "metadata": {},
     "output_type": "display_data"
    },
    {
     "data": {
      "image/png": "[encoded data removed]",
      "text/plain": [
       "<matplotlib.figure.Figure at 0x10c049a10>"
      ]
     },
     "metadata": {},
     "output_type": "display_data"
    },
    {
     "data": {
      "image/png": "[encoded data removed]",
      "text/plain": [
       "<matplotlib.figure.Figure at 0x10cab4d50>"
      ]
     },
     "metadata": {},
     "output_type": "display_data"
    }
   ],
   "source": [
    "plt.figure()\n",
    "hist_comments(grouped_dat, 2, 'blocked', 'is_harassment_or_attack', 'Average Harassment Score in Blocked Data')\n",
    "hist_comments(grouped_dat, 2, 'random', 'is_harassment_or_attack', 'Average Harassment Score in Random Data')"
   ]
  },
  {
   "cell_type": "code",
   "execution_count": 14,
   "metadata": {
    "collapsed": false
   },
   "outputs": [
    {
     "data": {
      "text/plain": [
       "<matplotlib.axes._subplots.AxesSubplot at 0x10d6d32d0>"
      ]
     },
     "execution_count": 14,
     "metadata": {},
     "output_type": "execute_result"
    },
    {
     "data": {
      "text/plain": [
       "<matplotlib.figure.Figure at 0x10cc9a410>"
      ]
     },
     "metadata": {},
     "output_type": "display_data"
    },
    {
     "data": {
      "image/png": "[encoded data removed]",
      "text/plain": [
       "<matplotlib.figure.Figure at 0x10cc71450>"
      ]
     },
     "metadata": {},
     "output_type": "display_data"
    },
    {
     "data": {
      "image/png": "[encoded data removed]",
      "text/plain": [
       "<matplotlib.figure.Figure at 0x10c404790>"
      ]
     },
     "metadata": {},
     "output_type": "display_data"
    }
   ],
   "source": [
    "bins = [1,2,3,4,5,6,7]\n",
    "plt.figure()\n",
    "hist_comments(grouped_dat, bins, 'blocked', 'how_aggressive_or_friendly_is_the_tone_of_this_comment', \n",
    "              'Average Aggressiveness Score in Blocked Data')\n",
    "hist_comments(grouped_dat, bins, 'random', 'how_aggressive_or_friendly_is_the_tone_of_this_comment', \n",
    "              'Average Aggressiveness Score in Random Data')"
   ]
  },
  {
   "cell_type": "markdown",
   "metadata": {},
   "source": [
    "### Most harassing and aggressive comments"
   ]
  },
  {
   "cell_type": "code",
   "execution_count": 15,
   "metadata": {
    "collapsed": false
   },
   "outputs": [],
   "source": [
    "def sorted_comments(df, sort_by, is_ascending, num, dat_type = None):\n",
    "    if dat_type:\n",
    "        return df[df['dat_type'] == dat_type][['clean_diff',\n",
    "            'is_harassment_or_attack', 'how_aggressive_or_friendly_is_the_tone_of_this_comment']].sort_values(\n",
    "            by=sort_by, ascending = is_ascending)[0:num]\n",
    "    return df[['clean_diff', 'dat_type', 'is_harassment_or_attack', \n",
    "        'how_aggressive_or_friendly_is_the_tone_of_this_comment']].sort_values(\n",
    "        by=sort_by, ascending = is_ascending)[0:num]"
   ]
  },
  {
   "cell_type": "markdown",
   "metadata": {},
   "source": [
    "Most harassing comments in aggregated dataset"
   ]
  },
  {
   "cell_type": "code",
   "execution_count": 16,
   "metadata": {
    "collapsed": false,
    "scrolled": true
   },
   "outputs": [
    {
     "data": {
      "text/html": [
       "<div>\n",
       "<table border=\"1\" class=\"dataframe\">\n",
       "  <thead>\n",
       "    <tr style=\"text-align: right;\">\n",
       "      <th></th>\n",
       "      <th>clean_diff</th>\n",
       "      <th>dat_type</th>\n",
       "      <th>is_harassment_or_attack</th>\n",
       "      <th>how_aggressive_or_friendly_is_the_tone_of_this_comment</th>\n",
       "    </tr>\n",
       "  </thead>\n",
       "  <tbody>\n",
       "    <tr>\n",
       "      <th>133</th>\n",
       "      <td>, oh shit, stop making warnings, motherfucker, also, fuck you.</td>\n",
       "      <td>blocked</td>\n",
       "      <td>1</td>\n",
       "      <td>6.571429</td>\n",
       "    </tr>\n",
       "    <tr>\n",
       "      <th>409</th>\n",
       "      <td>I wanted to let you know that Tymon.r. is a stupid moron.</td>\n",
       "      <td>blocked</td>\n",
       "      <td>1</td>\n",
       "      <td>5.285714</td>\n",
       "    </tr>\n",
       "    <tr>\n",
       "      <th>552</th>\n",
       "      <td>Are you fucking serious? Again, what Hume have you read? Go fuck yourself, ignoramus. Stop trolling and spamming my talk page and spend the time actually getting an education and reading a book on philosophy for once in your life before you continue to make pointless, masturbatory edits on pages well beyond your comprehension. Please share, what is your interest i Hume beyond being a thorn in my side?</td>\n",
       "      <td>blocked</td>\n",
       "      <td>1</td>\n",
       "      <td>6.571429</td>\n",
       "    </tr>\n",
       "    <tr>\n",
       "      <th>866</th>\n",
       "      <td>you bitch why didn't you block kew gardens he also went past the 3 revert fucking rule god man</td>\n",
       "      <td>blocked</td>\n",
       "      <td>1</td>\n",
       "      <td>6.000000</td>\n",
       "    </tr>\n",
       "    <tr>\n",
       "      <th>744</th>\n",
       "      <td>Hahahaha!!! \\n\\nFuck you! You are a Chinese pig!</td>\n",
       "      <td>blocked</td>\n",
       "      <td>1</td>\n",
       "      <td>6.857143</td>\n",
       "    </tr>\n",
       "  </tbody>\n",
       "</table>\n",
       "</div>"
      ],
      "text/plain": [
       "                                                                                                                                                                                                                                                                                                                                                                                                                  clean_diff dat_type  is_harassment_or_attack  how_aggressive_or_friendly_is_the_tone_of_this_comment\n",
       "133                                                                                                                                                                                                                                                                                                                                                        , oh shit, stop making warnings, motherfucker, also, fuck you.     blocked                        1                                                6.571429\n",
       "409                                                                                                                                                                                                                                                                                                                                                                I wanted to let you know that Tymon.r. is a stupid moron.  blocked                        1                                                5.285714\n",
       "552  Are you fucking serious? Again, what Hume have you read? Go fuck yourself, ignoramus. Stop trolling and spamming my talk page and spend the time actually getting an education and reading a book on philosophy for once in your life before you continue to make pointless, masturbatory edits on pages well beyond your comprehension. Please share, what is your interest i Hume beyond being a thorn in my side?     blocked                        1                                                6.571429\n",
       "866                                                                                                                                                                                                                                                                                                                           you bitch why didn't you block kew gardens he also went past the 3 revert fucking rule god man  blocked                        1                                                6.000000\n",
       "744                                                                                                                                                                                                                                                                                                                                                                         Hahahaha!!! \\n\\nFuck you! You are a Chinese pig!  blocked                        1                                                6.857143"
      ]
     },
     "execution_count": 16,
     "metadata": {},
     "output_type": "execute_result"
    }
   ],
   "source": [
    "sorted_comments(grouped_dat, 'is_harassment_or_attack', False, 5)"
   ]
  },
  {
   "cell_type": "markdown",
   "metadata": {},
   "source": [
    "Most aggressive comments in aggregated dataset"
   ]
  },
  {
   "cell_type": "code",
   "execution_count": 17,
   "metadata": {
    "collapsed": false,
    "scrolled": true
   },
   "outputs": [
    {
     "data": {
      "text/html": [
       "<div>\n",
       "<table border=\"1\" class=\"dataframe\">\n",
       "  <thead>\n",
       "    <tr style=\"text-align: right;\">\n",
       "      <th></th>\n",
       "      <th>clean_diff</th>\n",
       "      <th>dat_type</th>\n",
       "      <th>is_harassment_or_attack</th>\n",
       "      <th>how_aggressive_or_friendly_is_the_tone_of_this_comment</th>\n",
       "    </tr>\n",
       "  </thead>\n",
       "  <tbody>\n",
       "    <tr>\n",
       "      <th>743</th>\n",
       "      <td>Hahahaha!!! \\n\\nFuck you! You are a Chinese pig!</td>\n",
       "      <td>blocked</td>\n",
       "      <td>1</td>\n",
       "      <td>7.000000</td>\n",
       "    </tr>\n",
       "    <tr>\n",
       "      <th>471</th>\n",
       "      <td>Hey fucking pig \\n\\nHey fucking pig-of-a-bully; I'll fuck off sure, but after you fuck out from Wikipedia completely you fucking bitch.</td>\n",
       "      <td>blocked</td>\n",
       "      <td>1</td>\n",
       "      <td>6.857143</td>\n",
       "    </tr>\n",
       "    <tr>\n",
       "      <th>747</th>\n",
       "      <td>Fuck you!!!You are a pig!</td>\n",
       "      <td>blocked</td>\n",
       "      <td>1</td>\n",
       "      <td>6.857143</td>\n",
       "    </tr>\n",
       "    <tr>\n",
       "      <th>744</th>\n",
       "      <td>Hahahaha!!! \\n\\nFuck you! You are a Chinese pig!</td>\n",
       "      <td>blocked</td>\n",
       "      <td>1</td>\n",
       "      <td>6.857143</td>\n",
       "    </tr>\n",
       "    <tr>\n",
       "      <th>404</th>\n",
       "      <td>Sucker \\n\\nYou suck the di*k of chicken fuc*ers.</td>\n",
       "      <td>blocked</td>\n",
       "      <td>1</td>\n",
       "      <td>6.857143</td>\n",
       "    </tr>\n",
       "  </tbody>\n",
       "</table>\n",
       "</div>"
      ],
      "text/plain": [
       "                                                                                                                                   clean_diff dat_type  is_harassment_or_attack  how_aggressive_or_friendly_is_the_tone_of_this_comment\n",
       "743                                                                                          Hahahaha!!! \\n\\nFuck you! You are a Chinese pig!  blocked                        1                                                7.000000\n",
       "471   Hey fucking pig \\n\\nHey fucking pig-of-a-bully; I'll fuck off sure, but after you fuck out from Wikipedia completely you fucking bitch.  blocked                        1                                                6.857143\n",
       "747                                                                                                                 Fuck you!!!You are a pig!  blocked                        1                                                6.857143\n",
       "744                                                                                          Hahahaha!!! \\n\\nFuck you! You are a Chinese pig!  blocked                        1                                                6.857143\n",
       "404                                                                                          Sucker \\n\\nYou suck the di*k of chicken fuc*ers.  blocked                        1                                                6.857143"
      ]
     },
     "execution_count": 17,
     "metadata": {},
     "output_type": "execute_result"
    }
   ],
   "source": [
    "sorted_comments(grouped_dat, 'how_aggressive_or_friendly_is_the_tone_of_this_comment', False, 5)"
   ]
  },
  {
   "cell_type": "markdown",
   "metadata": {},
   "source": [
    "### Least harassing and aggressive comments"
   ]
  },
  {
   "cell_type": "markdown",
   "metadata": {},
   "source": [
    "Least harassing comments in aggregated dataset"
   ]
  },
  {
   "cell_type": "code",
   "execution_count": 18,
   "metadata": {
    "collapsed": false,
    "scrolled": true
   },
   "outputs": [
    {
     "data": {
      "text/html": [
       "<div>\n",
       "<table border=\"1\" class=\"dataframe\">\n",
       "  <thead>\n",
       "    <tr style=\"text-align: right;\">\n",
       "      <th></th>\n",
       "      <th>clean_diff</th>\n",
       "      <th>dat_type</th>\n",
       "      <th>is_harassment_or_attack</th>\n",
       "      <th>how_aggressive_or_friendly_is_the_tone_of_this_comment</th>\n",
       "    </tr>\n",
       "  </thead>\n",
       "  <tbody>\n",
       "    <tr>\n",
       "      <th>0</th>\n",
       "      <td>]\\n\\nFine you testing the waters again despite past history and TMers failure to comply with COI. When you actually try and make the article neutral and controvert the fringe theories is when I anticipate the problem. I too tried to assume good faith at first despite past history. We shall see.</td>\n",
       "      <td>blocked</td>\n",
       "      <td>0</td>\n",
       "      <td>3.571429</td>\n",
       "    </tr>\n",
       "    <tr>\n",
       "      <th>1269</th>\n",
       "      <td>would you be of help \\n\\nHello Vsmith I am an environmental microbiologist in my country. I want to start a company that manages waste and am hoping you could help link with corporate companies who could assist in coming to invest with me in my country,Nigeria,She is not yet developed in terms of commercial waste management and am hoping I could get some international collaborators to start with. Do reply to my message my email is pejusho@yahoo.co.uk. I will be greatly pleased to read from you. Thanks. Peju Sowunmi.Gleamber Company Limited</td>\n",
       "      <td>random</td>\n",
       "      <td>0</td>\n",
       "      <td>3.000000</td>\n",
       "    </tr>\n",
       "    <tr>\n",
       "      <th>1268</th>\n",
       "      <td>Finally! I got a Wikipedia account!</td>\n",
       "      <td>random</td>\n",
       "      <td>0</td>\n",
       "      <td>2.714286</td>\n",
       "    </tr>\n",
       "    <tr>\n",
       "      <th>1267</th>\n",
       "      <td>I already saw your apology. You pinged me. You didn't need to make a new thread here. GamerPro64 23:14, 20 September 2014 (UTC)</td>\n",
       "      <td>random</td>\n",
       "      <td>0</td>\n",
       "      <td>3.571429</td>\n",
       "    </tr>\n",
       "    <tr>\n",
       "      <th>1266</th>\n",
       "      <td>Those Phillies, on the other hand... :)</td>\n",
       "      <td>random</td>\n",
       "      <td>0</td>\n",
       "      <td>3.714286</td>\n",
       "    </tr>\n",
       "  </tbody>\n",
       "</table>\n",
       "</div>"
      ],
      "text/plain": [
       "                                                                                                                                                                                                                                                                                                                                                                                                                                                                                                                                                              clean_diff dat_type  is_harassment_or_attack  how_aggressive_or_friendly_is_the_tone_of_this_comment\n",
       "0                                                                                                                                                                                                                                                              ]\\n\\nFine you testing the waters again despite past history and TMers failure to comply with COI. When you actually try and make the article neutral and controvert the fringe theories is when I anticipate the problem. I too tried to assume good faith at first despite past history. We shall see.    blocked                        0                                                3.571429\n",
       "1269   would you be of help \\n\\nHello Vsmith I am an environmental microbiologist in my country. I want to start a company that manages waste and am hoping you could help link with corporate companies who could assist in coming to invest with me in my country,Nigeria,She is not yet developed in terms of commercial waste management and am hoping I could get some international collaborators to start with. Do reply to my message my email is pejusho@yahoo.co.uk. I will be greatly pleased to read from you. Thanks. Peju Sowunmi.Gleamber Company Limited   random                        0                                                3.000000\n",
       "1268                                                                                                                                                                                                                                                                                                                                                                                                                                                                                                                                 Finally! I got a Wikipedia account!   random                        0                                                2.714286\n",
       "1267                                                                                                                                                                                                                                                                                                                                                                                                                                     I already saw your apology. You pinged me. You didn't need to make a new thread here. GamerPro64 23:14, 20 September 2014 (UTC)   random                        0                                                3.571429\n",
       "1266                                                                                                                                                                                                                                                                                                                                                                                                                                                                                                                             Those Phillies, on the other hand... :)   random                        0                                                3.714286"
      ]
     },
     "execution_count": 18,
     "metadata": {},
     "output_type": "execute_result"
    }
   ],
   "source": [
    "sorted_comments(grouped_dat, 'is_harassment_or_attack', True, 5)"
   ]
  },
  {
   "cell_type": "markdown",
   "metadata": {},
   "source": [
    "Least aggressive comments in aggregated dataset"
   ]
  },
  {
   "cell_type": "code",
   "execution_count": 19,
   "metadata": {
    "collapsed": false,
    "scrolled": true
   },
   "outputs": [
    {
     "data": {
      "text/html": [
       "<div>\n",
       "<table border=\"1\" class=\"dataframe\">\n",
       "  <thead>\n",
       "    <tr style=\"text-align: right;\">\n",
       "      <th></th>\n",
       "      <th>clean_diff</th>\n",
       "      <th>dat_type</th>\n",
       "      <th>is_harassment_or_attack</th>\n",
       "      <th>how_aggressive_or_friendly_is_the_tone_of_this_comment</th>\n",
       "    </tr>\n",
       "  </thead>\n",
       "  <tbody>\n",
       "    <tr>\n",
       "      <th>298</th>\n",
       "      <td>Merci Beaucoup \\n\\nA very kind thank you, Geraldine.</td>\n",
       "      <td>blocked</td>\n",
       "      <td>0</td>\n",
       "      <td>1.428571</td>\n",
       "    </tr>\n",
       "    <tr>\n",
       "      <th>1196</th>\n",
       "      <td>You are most gracious and kind, thank you. \\n\\nThank you. Much appreciated. I should like to take you up on inquiries at a later date, though I am most grateful for your offer today.:0)))</td>\n",
       "      <td>random</td>\n",
       "      <td>0</td>\n",
       "      <td>1.428571</td>\n",
       "    </tr>\n",
       "    <tr>\n",
       "      <th>1191</th>\n",
       "      <td>Thank you very much! Cheers!</td>\n",
       "      <td>random</td>\n",
       "      <td>0</td>\n",
       "      <td>1.428571</td>\n",
       "    </tr>\n",
       "    <tr>\n",
       "      <th>336</th>\n",
       "      <td>(UTC)\\nInserting citations\\nHi Ariel,\\n\\nhere is the code now:\\n http://angielittlefield.com/ebooks/TomThomsonTorontoNeighbourhoods.pdf Indeed, Thomson painted a number of watercolours between 1904 and 1909.http://www.tomthomsoncatalogue.org/catalogue/index.php?pageNum=0 \\nokay step one is erase the two cn tags\\n\\nstep two - in front of the http insert thus   step three - athe end of the url ref put this   \\nI will go correct the first one. Then please you try correcting the second one, and I am sure you will go perfect!  The article is shaping up quite well!  Congrats.  Please ask any questions here, and I will answer them for you.  You may also email me from the link at the top of my talk page, or you can also post a note on my talk page.  I am glad to help!  I really enjoy collaborating with other editors! Just ask!   Cheers!       18:39, 27 May 2015</td>\n",
       "      <td>blocked</td>\n",
       "      <td>0</td>\n",
       "      <td>1.571429</td>\n",
       "    </tr>\n",
       "    <tr>\n",
       "      <th>38</th>\n",
       "      <td>Such a friendly, helpful and encouraging person (82.132.222.241  )</td>\n",
       "      <td>blocked</td>\n",
       "      <td>0</td>\n",
       "      <td>1.571429</td>\n",
       "    </tr>\n",
       "  </tbody>\n",
       "</table>\n",
       "</div>"
      ],
      "text/plain": [
       "                                                                                                                                                                                                                                                                                                                                                                                                                                                                                                                                                                                                                                                                                                                                                                                                                                                                                              clean_diff dat_type  is_harassment_or_attack  how_aggressive_or_friendly_is_the_tone_of_this_comment\n",
       "298                                                                                                                                                                                                                                                                                                                                                                                                                                                                                                                                                                                                                                                                                                                                                                                                                                                 Merci Beaucoup \\n\\nA very kind thank you, Geraldine.  blocked                        0                                                1.428571\n",
       "1196                                                                                                                                                                                                                                                                                                                                                                                                                                                                                                                                                                                                                                                                                                         You are most gracious and kind, thank you. \\n\\nThank you. Much appreciated. I should like to take you up on inquiries at a later date, though I am most grateful for your offer today.:0)))   random                        0                                                1.428571\n",
       "1191                                                                                                                                                                                                                                                                                                                                                                                                                                                                                                                                                                                                                                                                                                                                                                                                                                                                        Thank you very much! Cheers!   random                        0                                                1.428571\n",
       "336    (UTC)\\nInserting citations\\nHi Ariel,\\n\\nhere is the code now:\\n http://angielittlefield.com/ebooks/TomThomsonTorontoNeighbourhoods.pdf Indeed, Thomson painted a number of watercolours between 1904 and 1909.http://www.tomthomsoncatalogue.org/catalogue/index.php?pageNum=0 \\nokay step one is erase the two cn tags\\n\\nstep two - in front of the http insert thus   step three - athe end of the url ref put this   \\nI will go correct the first one. Then please you try correcting the second one, and I am sure you will go perfect!  The article is shaping up quite well!  Congrats.  Please ask any questions here, and I will answer them for you.  You may also email me from the link at the top of my talk page, or you can also post a note on my talk page.  I am glad to help!  I really enjoy collaborating with other editors! Just ask!   Cheers!       18:39, 27 May 2015  blocked                        0                                                1.571429\n",
       "38                                                                                                                                                                                                                                                                                                                                                                                                                                                                                                                                                                                                                                                                                                                                                                                                                                    Such a friendly, helpful and encouraging person (82.132.222.241  )  blocked                        0                                                1.571429"
      ]
     },
     "execution_count": 19,
     "metadata": {},
     "output_type": "execute_result"
    }
   ],
   "source": [
    "sorted_comments(grouped_dat, 'how_aggressive_or_friendly_is_the_tone_of_this_comment', True, 5)"
   ]
  },
  {
   "cell_type": "markdown",
   "metadata": {},
   "source": [
    "### Inter-annotator agreement"
   ]
  },
  {
   "cell_type": "code",
   "execution_count": null,
   "metadata": {
    "collapsed": true
   },
   "outputs": [],
   "source": []
  }
 ],
 "metadata": {
  "kernelspec": {
   "display_name": "Python 2",
   "language": "python",
   "name": "python2"
  },
  "language_info": {
   "codemirror_mode": {
    "name": "ipython",
    "version": 2
   },
   "file_extension": ".py",
   "mimetype": "text/x-python",
   "name": "python",
   "nbconvert_exporter": "python",
   "pygments_lexer": "ipython2",
   "version": "2.7.11"
  }
 },
 "nbformat": 4,
 "nbformat_minor": 0
}
