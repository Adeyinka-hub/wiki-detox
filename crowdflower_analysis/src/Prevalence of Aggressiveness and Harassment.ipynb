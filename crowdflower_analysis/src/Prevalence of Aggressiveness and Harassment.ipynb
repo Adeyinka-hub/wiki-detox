{
 "cells": [
  {
   "cell_type": "code",
   "execution_count": 2,
   "metadata": {
    "collapsed": false
   },
   "outputs": [],
   "source": [
    "%matplotlib inline\n",
    "from __future__ import division\n",
    "import pandas as pd\n",
    "import numpy as np\n",
    "import matplotlib.pyplot as plt"
   ]
  },
  {
   "cell_type": "code",
   "execution_count": 3,
   "metadata": {
    "collapsed": true
   },
   "outputs": [],
   "source": [
    "dat = pd.read_csv('../data/f881887.csv')"
   ]
  },
  {
   "cell_type": "code",
   "execution_count": 4,
   "metadata": {
    "collapsed": false
   },
   "outputs": [],
   "source": [
    "pd.set_option('display.width', 1000)\n",
    "pd.set_option('display.max_colwidth', 1000)"
   ]
  },
  {
   "cell_type": "code",
   "execution_count": 5,
   "metadata": {
    "collapsed": false
   },
   "outputs": [
    {
     "data": {
      "text/plain": [
       "(9668, 29)"
      ]
     },
     "execution_count": 5,
     "metadata": {},
     "output_type": "execute_result"
    }
   ],
   "source": [
    "type(dat)\n",
    "dat.shape"
   ]
  },
  {
   "cell_type": "code",
   "execution_count": 6,
   "metadata": {
    "collapsed": false
   },
   "outputs": [
    {
     "data": {
      "text/plain": [
       "Index([u'_unit_id', u'_created_at', u'_golden', u'_id', u'_missed', u'_started_at', u'_tainted', u'_channel', u'_trust', u'_worker_id', u'_country', u'_region', u'_city', u'_ip', u'how_aggressive_or_friendly', u'is_harassment_or_attack', u'clean_diff', u'diff', u'how_aggressive_or_friendly_gold', u'insert_only', u'is_harassment_or_attack_gold', u'nil', u'page_id', u'page_title', u'rev_comment', u'rev_id', u'rev_timestamp', u'user_id', u'user_text'], dtype='object')"
      ]
     },
     "execution_count": 6,
     "metadata": {},
     "output_type": "execute_result"
    }
   ],
   "source": [
    "dat.columns"
   ]
  },
  {
   "cell_type": "code",
   "execution_count": 7,
   "metadata": {
    "collapsed": false,
    "scrolled": true
   },
   "outputs": [
    {
     "data": {
      "text/plain": [
       "734      OK, try Uw-disruptive2 \\n\\n25px|alt=Information icon Please refrain from making unconstructive edits to Wikipedia. Your edits appear to be disruptive and have been reverted or removed.\\n If you are engaged in an article content dispute with another editor then please discuss the matter with the editor at their talk page, or the article's talk page. Alternatively you can read Wikipedia's dispute resolution page, and ask for independent help at one of the relevant notice boards.\\n If you are engaged in any other form of dispute that is not covered on the dispute resolution page, please seek assistance at Wikipedia's Administrators' noticeboard/Incidents.\\nPlease ensure you are familiar with Wikipedia's policies and guidelines, and please do not continue to make edits that appear disruptive, until the dispute is resolved through consensus. Continuing to edit disruptively could result in loss of editing privileges. You should contribute to the discussion at WP:ANI before continuing Mr...\n",
       "815                                                                                                                                                                                                                                                                                                                                                                                                                                                                                                                                                                                                                                                                                        October 2015 \\n25px|alt=Information icon Please be careful about what you say to people. Some remarks, such as your addition to :User talk:Human3015 can easily be misinterpreted. Wikipedia is a supportive environment, where contributors should feel comfortable and safe while editing. Thank you. Kautilya3 (talk) 19:13, 2 October 2015 (UTC)\n",
       "828                                                                                                                                                                                                                                                                                                                                                                                                                                                                                                                                                                                                                                                                                                                                                                                                                           Why should we? This looks totally like a continuation of your erratic behavior of old. If even being blocked for several years didn't teach you, that's a problem. Max Semenik (talk) 19:41, 19 August 2015 (UTC)\n",
       "829                                                                                                                                                                                                                                                                                                                                                                                                                                                                                                                                                                                                                                                                                                                                                                                                                           Why should we? This looks totally like a continuation of your erratic behavior of old. If even being blocked for several years didn't teach you, that's a problem. Max Semenik (talk) 19:41, 19 August 2015 (UTC)\n",
       "1028                                                                                                                                                                                                                                                                                                                                                                                                                                                                                                                                                                                                                                                                                                                                                                           25px|alt=|link= Please stop removing speedy deletion notices from pages that you have created yourself, as you did with this edit to :Md. Torikul Islam. If you continue to do so, you will be blocked from editing.  Jim1138 (talk) 05:55, 18 August 2014 (UTC)\n",
       "1056                                                                                                                                                                                                                                                                                                                                                                                                                                                                                                                                                                                                                                                                  I don't parade the fact that I've retained counsel around, and have exclusively mentioned it in situations where someone has threatened me with legal action, plus a few talks with the office.  In that context, saying I have counsel is a chilling effect is like saying an anti-SLAPP destroys the first amendment. Kevin Gorman (talk) 15:46, 24 November 2015 (UTC)\n",
       "Name: clean_diff, dtype: object"
      ]
     },
     "execution_count": 7,
     "metadata": {},
     "output_type": "execute_result"
    }
   ],
   "source": [
    "dat[dat['is_harassment_or_attack']==1]['clean_diff'][4:10]"
   ]
  },
  {
   "cell_type": "code",
   "execution_count": 8,
   "metadata": {
    "collapsed": false
   },
   "outputs": [
    {
     "data": {
      "text/plain": [
       "pandas.core.series.Series"
      ]
     },
     "execution_count": 8,
     "metadata": {},
     "output_type": "execute_result"
    }
   ],
   "source": [
    "harass_dat = dat['is_harassment_or_attack'].groupby(dat['rev_id']).mean()\n",
    "type(harass_dat)"
   ]
  },
  {
   "cell_type": "code",
   "execution_count": 9,
   "metadata": {
    "collapsed": false
   },
   "outputs": [],
   "source": [
    "n = len(harass_dat)\n",
    "sample_p = sum(harass_dat > 0.5)/n\n",
    "lower_confidence = sample_p - 1.96*np.sqrt(sample_p*(1-sample_p)/n)\n",
    "upper_confidence = sample_p + 1.96*np.sqrt(sample_p*(1-sample_p)/n)"
   ]
  },
  {
   "cell_type": "code",
   "execution_count": 10,
   "metadata": {
    "collapsed": false
   },
   "outputs": [
    {
     "name": "stdout",
     "output_type": "stream",
     "text": [
      "n: 999\n",
      "Proportion of harassing and attacking comments: 0.001001\n",
      "The 95% confidence interval on harassment or personal attack is: \n",
      "-0.000959978752157 0.00296198075416\n"
     ]
    }
   ],
   "source": [
    "print \"n: %d\" % n \n",
    "print \"Proportion of harassing and attacking comments: %f\" % sample_p\n",
    "print \"The 95% confidence interval on harassment or personal attack is: \"\n",
    "print lower_confidence, upper_confidence"
   ]
  },
  {
   "cell_type": "code",
   "execution_count": null,
   "metadata": {
    "collapsed": true
   },
   "outputs": [],
   "source": []
  },
  {
   "cell_type": "code",
   "execution_count": 11,
   "metadata": {
    "collapsed": false
   },
   "outputs": [
    {
     "data": {
      "text/plain": [
       "pandas.core.series.Series"
      ]
     },
     "execution_count": 11,
     "metadata": {},
     "output_type": "execute_result"
    }
   ],
   "source": [
    "aggressive_dat = dat['how_aggressive_or_friendly'].groupby(dat['rev_id']).mean()\n",
    "type(harass_dat)"
   ]
  },
  {
   "cell_type": "code",
   "execution_count": 12,
   "metadata": {
    "collapsed": true
   },
   "outputs": [],
   "source": [
    "n = len(aggressive_dat)\n",
    "sample_p = sum(aggressive_dat > 0.5)/n\n",
    "lower_confidence = sample_p - 1.96*np.sqrt(sample_p*(1-sample_p)/n)\n",
    "upper_confidence = sample_p + 1.96*np.sqrt(sample_p*(1-sample_p)/n)"
   ]
  },
  {
   "cell_type": "code",
   "execution_count": 13,
   "metadata": {
    "collapsed": false
   },
   "outputs": [
    {
     "name": "stdout",
     "output_type": "stream",
     "text": [
      "n: 999\n",
      "Proportion of aggressive comments: 0.015015\n",
      "The 95% confidence interval on aggressive comments is: \n",
      "0.00747363166526 0.0225563983648\n"
     ]
    }
   ],
   "source": [
    "print \"n: %d\" % n \n",
    "print \"Proportion of aggressive comments: %f\" % sample_p\n",
    "print \"The 95% confidence interval on aggressive comments is: \"\n",
    "print lower_confidence, upper_confidence"
   ]
  },
  {
   "cell_type": "code",
   "execution_count": null,
   "metadata": {
    "collapsed": true
   },
   "outputs": [],
   "source": []
  },
  {
   "cell_type": "code",
   "execution_count": 14,
   "metadata": {
    "collapsed": false
   },
   "outputs": [],
   "source": [
    "n = len(aggressive_dat)\n",
    "sample_p = sum(aggressive_dat < -0.5)/n\n",
    "lower_confidence = sample_p - 1.96*np.sqrt(sample_p*(1-sample_p)/n)\n",
    "upper_confidence = sample_p + 1.96*np.sqrt(sample_p*(1-sample_p)/n)"
   ]
  },
  {
   "cell_type": "code",
   "execution_count": 15,
   "metadata": {
    "collapsed": false
   },
   "outputs": [
    {
     "name": "stdout",
     "output_type": "stream",
     "text": [
      "n: 999\n",
      "Proportion of friendly comments: 0.107107\n",
      "The 95% confidence interval on friendly comments is: \n",
      "0.0879300414549 0.126284172759\n"
     ]
    }
   ],
   "source": [
    "print \"n: %d\" % n \n",
    "print \"Proportion of friendly comments: %f\" % sample_p\n",
    "print \"The 95% confidence interval on friendly comments is: \"\n",
    "print lower_confidence, upper_confidence"
   ]
  },
  {
   "cell_type": "code",
   "execution_count": null,
   "metadata": {
    "collapsed": true
   },
   "outputs": [],
   "source": []
  }
 ],
 "metadata": {
  "kernelspec": {
   "display_name": "Python 2",
   "language": "python",
   "name": "python2"
  },
  "language_info": {
   "codemirror_mode": {
    "name": "ipython",
    "version": 2
   },
   "file_extension": ".py",
   "mimetype": "text/x-python",
   "name": "python",
   "nbconvert_exporter": "python",
   "pygments_lexer": "ipython2",
   "version": "2.7.11"
  }
 },
 "nbformat": 4,
 "nbformat_minor": 0
}
